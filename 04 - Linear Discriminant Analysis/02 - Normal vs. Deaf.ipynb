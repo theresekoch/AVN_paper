{
 "cells": [
  {
   "cell_type": "markdown",
   "metadata": {},
   "source": [
    "# 02 - Normal vs. Deaf"
   ]
  },
  {
   "cell_type": "markdown",
   "metadata": {},
   "source": [
    "## Imports"
   ]
  },
  {
   "cell_type": "code",
   "execution_count": 1,
   "metadata": {},
   "outputs": [],
   "source": [
    "import avn.dataloading as dataloading\n",
    "import avn.acoustics as acoustics\n",
    "import avn.plotting as plotting\n",
    "import avn.segmentation as segmentation\n",
    "import avn.syntax as syntax\n",
    "\n",
    "import pandas as pd\n",
    "import numpy as np\n",
    "import matplotlib.pyplot as plt\n",
    "import seaborn as sns\n",
    "import glob\n",
    "\n",
    "import librosa\n",
    "import os\n",
    "\n",
    "from numpy.fft import fft, fftfreq\n",
    "from scipy.signal.windows import hann\n",
    "import scipy.signal\n",
    "from sklearn.decomposition import PCA\n",
    "from sklearn.preprocessing import StandardScaler\n",
    "from sklearn.discriminant_analysis import LinearDiscriminantAnalysis"
   ]
  },
  {
   "cell_type": "markdown",
   "metadata": {},
   "source": [
    "## Load Normal and Iso Dataset"
   ]
  },
  {
   "cell_type": "code",
   "execution_count": 2,
   "metadata": {},
   "outputs": [],
   "source": [
    "all_feats_normal = pd.read_csv('C:\\\\Grad_School\\\\Code_and_software\\\\Py_code\\\\All_features_2023\\\\All_features_2023\\\\all_birds_all_feats_wseg_umap_updated.csv').drop(columns = 'Unnamed: 0')"
   ]
  },
  {
   "cell_type": "markdown",
   "metadata": {},
   "source": [
    "Let's drop the Duke deaf and control birds"
   ]
  },
  {
   "cell_type": "code",
   "execution_count": 3,
   "metadata": {},
   "outputs": [
    {
     "data": {
      "text/plain": [
       "array(['Isolate', 'FP1_KD_post_tut', 'FP1_KD_pre_tut', 'GFP', 'Tutor',\n",
       "       'Pupil', 'Rockefeller-Pupil'], dtype=object)"
      ]
     },
     "execution_count": 3,
     "metadata": {},
     "output_type": "execute_result"
    }
   ],
   "source": [
    "all_feats_normal = all_feats_normal[~all_feats_normal.Condition.isin(['pre-deafening', 'post-deafening'])]\n",
    "all_feats_normal.Condition.unique()"
   ]
  },
  {
   "cell_type": "markdown",
   "metadata": {},
   "source": [
    "## Load Wada Lab Deaf Birds"
   ]
  },
  {
   "cell_type": "code",
   "execution_count": 4,
   "metadata": {},
   "outputs": [],
   "source": [
    "all_feats_deaf = pd.read_csv('C:\\\\Grad_School\\\\Code_and_software\\\\Py_code\\\\All_features_2023\\\\All_features_2023\\\\wada_birds_all_feats.csv').drop(columns = 'Unnamed: 0')"
   ]
  },
  {
   "cell_type": "code",
   "execution_count": 5,
   "metadata": {},
   "outputs": [
    {
     "data": {
      "text/html": [
       "<div>\n",
       "<style scoped>\n",
       "    .dataframe tbody tr th:only-of-type {\n",
       "        vertical-align: middle;\n",
       "    }\n",
       "\n",
       "    .dataframe tbody tr th {\n",
       "        vertical-align: top;\n",
       "    }\n",
       "\n",
       "    .dataframe thead th {\n",
       "        text-align: right;\n",
       "    }\n",
       "</style>\n",
       "<table border=\"1\" class=\"dataframe\">\n",
       "  <thead>\n",
       "    <tr style=\"text-align: right;\">\n",
       "      <th></th>\n",
       "      <th>Goodness_mean_median</th>\n",
       "      <th>Goodness_mean_min</th>\n",
       "      <th>Goodness_mean_max</th>\n",
       "      <th>Mean_frequency_mean_median</th>\n",
       "      <th>Mean_frequency_mean_min</th>\n",
       "      <th>Mean_frequency_mean_max</th>\n",
       "      <th>Entropy_mean_median</th>\n",
       "      <th>Entropy_mean_min</th>\n",
       "      <th>Entropy_mean_max</th>\n",
       "      <th>Amplitude_mean_median</th>\n",
       "      <th>...</th>\n",
       "      <th>rhythm_entropy</th>\n",
       "      <th>CV_peak_rhythm_spectrum_frequency</th>\n",
       "      <th>syllable_duration_entropy</th>\n",
       "      <th>gap_duration_entropy</th>\n",
       "      <th>entropy_rate</th>\n",
       "      <th>entropy_rate_norm</th>\n",
       "      <th>num_syllables</th>\n",
       "      <th>mean_repetition_length</th>\n",
       "      <th>CV_repetition_length</th>\n",
       "      <th>Condition</th>\n",
       "    </tr>\n",
       "  </thead>\n",
       "  <tbody>\n",
       "    <tr>\n",
       "      <th>0</th>\n",
       "      <td>0.117747</td>\n",
       "      <td>0.114967</td>\n",
       "      <td>0.121071</td>\n",
       "      <td>2155.357576</td>\n",
       "      <td>2109.599981</td>\n",
       "      <td>2867.423096</td>\n",
       "      <td>-3.266155</td>\n",
       "      <td>-3.448087</td>\n",
       "      <td>-3.060742</td>\n",
       "      <td>61.694346</td>\n",
       "      <td>...</td>\n",
       "      <td>-0.142866</td>\n",
       "      <td>6.848818</td>\n",
       "      <td>0.795698</td>\n",
       "      <td>0.679239</td>\n",
       "      <td>2.085816</td>\n",
       "      <td>0.695272</td>\n",
       "      <td>7</td>\n",
       "      <td>1.180929</td>\n",
       "      <td>0.341734</td>\n",
       "      <td>deaf_120</td>\n",
       "    </tr>\n",
       "    <tr>\n",
       "      <th>1</th>\n",
       "      <td>0.138719</td>\n",
       "      <td>0.134799</td>\n",
       "      <td>0.143075</td>\n",
       "      <td>1916.063608</td>\n",
       "      <td>1905.271892</td>\n",
       "      <td>1967.627065</td>\n",
       "      <td>-3.067501</td>\n",
       "      <td>-3.118677</td>\n",
       "      <td>-2.831167</td>\n",
       "      <td>60.048020</td>\n",
       "      <td>...</td>\n",
       "      <td>-0.420613</td>\n",
       "      <td>4.462123</td>\n",
       "      <td>0.623511</td>\n",
       "      <td>0.596916</td>\n",
       "      <td>1.073634</td>\n",
       "      <td>0.415338</td>\n",
       "      <td>5</td>\n",
       "      <td>6.325758</td>\n",
       "      <td>0.855042</td>\n",
       "      <td>deaf_300</td>\n",
       "    </tr>\n",
       "    <tr>\n",
       "      <th>2</th>\n",
       "      <td>0.120487</td>\n",
       "      <td>0.115469</td>\n",
       "      <td>0.141427</td>\n",
       "      <td>1761.408783</td>\n",
       "      <td>1563.806841</td>\n",
       "      <td>3297.943880</td>\n",
       "      <td>-3.145204</td>\n",
       "      <td>-3.359798</td>\n",
       "      <td>-2.939603</td>\n",
       "      <td>56.802061</td>\n",
       "      <td>...</td>\n",
       "      <td>-0.186091</td>\n",
       "      <td>4.453035</td>\n",
       "      <td>0.661636</td>\n",
       "      <td>0.792669</td>\n",
       "      <td>2.322015</td>\n",
       "      <td>0.671213</td>\n",
       "      <td>10</td>\n",
       "      <td>2.047170</td>\n",
       "      <td>0.529954</td>\n",
       "      <td>deaf_120</td>\n",
       "    </tr>\n",
       "    <tr>\n",
       "      <th>3</th>\n",
       "      <td>0.138086</td>\n",
       "      <td>0.123512</td>\n",
       "      <td>0.146133</td>\n",
       "      <td>1756.748116</td>\n",
       "      <td>1433.786306</td>\n",
       "      <td>2007.303591</td>\n",
       "      <td>-3.356677</td>\n",
       "      <td>-3.532446</td>\n",
       "      <td>-2.834024</td>\n",
       "      <td>56.994473</td>\n",
       "      <td>...</td>\n",
       "      <td>-0.890552</td>\n",
       "      <td>4.523146</td>\n",
       "      <td>0.439880</td>\n",
       "      <td>0.786990</td>\n",
       "      <td>1.312251</td>\n",
       "      <td>0.413969</td>\n",
       "      <td>8</td>\n",
       "      <td>1.200000</td>\n",
       "      <td>0.381881</td>\n",
       "      <td>deaf_300</td>\n",
       "    </tr>\n",
       "    <tr>\n",
       "      <th>4</th>\n",
       "      <td>0.114786</td>\n",
       "      <td>0.104775</td>\n",
       "      <td>0.116830</td>\n",
       "      <td>1789.762898</td>\n",
       "      <td>1485.763158</td>\n",
       "      <td>2337.077138</td>\n",
       "      <td>-3.683179</td>\n",
       "      <td>-3.889325</td>\n",
       "      <td>-3.563164</td>\n",
       "      <td>54.013514</td>\n",
       "      <td>...</td>\n",
       "      <td>-0.229416</td>\n",
       "      <td>2.829038</td>\n",
       "      <td>0.684722</td>\n",
       "      <td>0.851385</td>\n",
       "      <td>2.736651</td>\n",
       "      <td>0.823814</td>\n",
       "      <td>9</td>\n",
       "      <td>1.807692</td>\n",
       "      <td>0.555234</td>\n",
       "      <td>deaf_120</td>\n",
       "    </tr>\n",
       "    <tr>\n",
       "      <th>5</th>\n",
       "      <td>0.140029</td>\n",
       "      <td>0.123126</td>\n",
       "      <td>0.163307</td>\n",
       "      <td>1837.666285</td>\n",
       "      <td>1569.842809</td>\n",
       "      <td>2464.989868</td>\n",
       "      <td>-2.950556</td>\n",
       "      <td>-3.258490</td>\n",
       "      <td>-2.657295</td>\n",
       "      <td>52.208152</td>\n",
       "      <td>...</td>\n",
       "      <td>-0.814188</td>\n",
       "      <td>3.042721</td>\n",
       "      <td>0.430952</td>\n",
       "      <td>0.581725</td>\n",
       "      <td>1.596453</td>\n",
       "      <td>0.503625</td>\n",
       "      <td>8</td>\n",
       "      <td>2.497939</td>\n",
       "      <td>0.711100</td>\n",
       "      <td>deaf_300</td>\n",
       "    </tr>\n",
       "    <tr>\n",
       "      <th>6</th>\n",
       "      <td>0.110085</td>\n",
       "      <td>0.102550</td>\n",
       "      <td>0.135041</td>\n",
       "      <td>2305.491632</td>\n",
       "      <td>1474.451575</td>\n",
       "      <td>3660.457968</td>\n",
       "      <td>-2.612077</td>\n",
       "      <td>-2.928364</td>\n",
       "      <td>-2.373068</td>\n",
       "      <td>52.716926</td>\n",
       "      <td>...</td>\n",
       "      <td>-0.145907</td>\n",
       "      <td>12.336573</td>\n",
       "      <td>0.740859</td>\n",
       "      <td>0.862666</td>\n",
       "      <td>2.236685</td>\n",
       "      <td>0.646547</td>\n",
       "      <td>10</td>\n",
       "      <td>1.750000</td>\n",
       "      <td>0.473804</td>\n",
       "      <td>deaf_120</td>\n",
       "    </tr>\n",
       "    <tr>\n",
       "      <th>7</th>\n",
       "      <td>0.131318</td>\n",
       "      <td>0.123017</td>\n",
       "      <td>0.143566</td>\n",
       "      <td>1944.922759</td>\n",
       "      <td>1834.077485</td>\n",
       "      <td>2438.096988</td>\n",
       "      <td>-2.865155</td>\n",
       "      <td>-3.101042</td>\n",
       "      <td>-2.670985</td>\n",
       "      <td>57.502545</td>\n",
       "      <td>...</td>\n",
       "      <td>-0.212056</td>\n",
       "      <td>4.376186</td>\n",
       "      <td>0.636782</td>\n",
       "      <td>0.828545</td>\n",
       "      <td>1.416925</td>\n",
       "      <td>0.504719</td>\n",
       "      <td>6</td>\n",
       "      <td>2.524590</td>\n",
       "      <td>0.623647</td>\n",
       "      <td>deaf_300</td>\n",
       "    </tr>\n",
       "    <tr>\n",
       "      <th>8</th>\n",
       "      <td>0.118705</td>\n",
       "      <td>0.113045</td>\n",
       "      <td>0.124365</td>\n",
       "      <td>1804.720076</td>\n",
       "      <td>1590.400913</td>\n",
       "      <td>2019.039239</td>\n",
       "      <td>-3.079158</td>\n",
       "      <td>-3.291822</td>\n",
       "      <td>-2.866493</td>\n",
       "      <td>49.660063</td>\n",
       "      <td>...</td>\n",
       "      <td>-0.176262</td>\n",
       "      <td>7.477644</td>\n",
       "      <td>0.593052</td>\n",
       "      <td>0.866371</td>\n",
       "      <td>0.778098</td>\n",
       "      <td>0.490925</td>\n",
       "      <td>2</td>\n",
       "      <td>5.219178</td>\n",
       "      <td>0.842512</td>\n",
       "      <td>deaf_120</td>\n",
       "    </tr>\n",
       "    <tr>\n",
       "      <th>9</th>\n",
       "      <td>0.170568</td>\n",
       "      <td>0.128027</td>\n",
       "      <td>0.179388</td>\n",
       "      <td>1705.981868</td>\n",
       "      <td>1661.570229</td>\n",
       "      <td>1956.193094</td>\n",
       "      <td>-3.513520</td>\n",
       "      <td>-3.598754</td>\n",
       "      <td>-3.245168</td>\n",
       "      <td>58.378313</td>\n",
       "      <td>...</td>\n",
       "      <td>-0.367510</td>\n",
       "      <td>4.838005</td>\n",
       "      <td>0.419097</td>\n",
       "      <td>0.669968</td>\n",
       "      <td>0.814732</td>\n",
       "      <td>0.350886</td>\n",
       "      <td>4</td>\n",
       "      <td>6.861111</td>\n",
       "      <td>0.639381</td>\n",
       "      <td>deaf_300</td>\n",
       "    </tr>\n",
       "    <tr>\n",
       "      <th>10</th>\n",
       "      <td>0.162225</td>\n",
       "      <td>0.138197</td>\n",
       "      <td>0.166186</td>\n",
       "      <td>2323.792227</td>\n",
       "      <td>1823.740192</td>\n",
       "      <td>3712.214249</td>\n",
       "      <td>-2.777668</td>\n",
       "      <td>-3.308579</td>\n",
       "      <td>-2.696333</td>\n",
       "      <td>57.527532</td>\n",
       "      <td>...</td>\n",
       "      <td>-0.427225</td>\n",
       "      <td>3.412945</td>\n",
       "      <td>0.390674</td>\n",
       "      <td>0.607948</td>\n",
       "      <td>1.137199</td>\n",
       "      <td>0.379066</td>\n",
       "      <td>7</td>\n",
       "      <td>1.195312</td>\n",
       "      <td>0.363142</td>\n",
       "      <td>sham-deafening</td>\n",
       "    </tr>\n",
       "    <tr>\n",
       "      <th>11</th>\n",
       "      <td>0.162536</td>\n",
       "      <td>0.131483</td>\n",
       "      <td>0.185763</td>\n",
       "      <td>2430.681137</td>\n",
       "      <td>1754.160068</td>\n",
       "      <td>3650.146960</td>\n",
       "      <td>-3.393631</td>\n",
       "      <td>-4.056181</td>\n",
       "      <td>-2.696757</td>\n",
       "      <td>61.131488</td>\n",
       "      <td>...</td>\n",
       "      <td>-0.401240</td>\n",
       "      <td>4.204410</td>\n",
       "      <td>0.594732</td>\n",
       "      <td>0.730398</td>\n",
       "      <td>1.454658</td>\n",
       "      <td>0.458893</td>\n",
       "      <td>8</td>\n",
       "      <td>1.512195</td>\n",
       "      <td>0.361377</td>\n",
       "      <td>sham-deafening</td>\n",
       "    </tr>\n",
       "    <tr>\n",
       "      <th>12</th>\n",
       "      <td>0.152211</td>\n",
       "      <td>0.139973</td>\n",
       "      <td>0.335585</td>\n",
       "      <td>3053.095586</td>\n",
       "      <td>2437.647402</td>\n",
       "      <td>3605.702921</td>\n",
       "      <td>-3.291400</td>\n",
       "      <td>-3.843050</td>\n",
       "      <td>-2.762064</td>\n",
       "      <td>58.389534</td>\n",
       "      <td>...</td>\n",
       "      <td>-0.471419</td>\n",
       "      <td>7.068219</td>\n",
       "      <td>0.576978</td>\n",
       "      <td>0.698610</td>\n",
       "      <td>1.662362</td>\n",
       "      <td>0.524417</td>\n",
       "      <td>8</td>\n",
       "      <td>1.238596</td>\n",
       "      <td>0.448058</td>\n",
       "      <td>sham-deafening</td>\n",
       "    </tr>\n",
       "    <tr>\n",
       "      <th>13</th>\n",
       "      <td>0.137179</td>\n",
       "      <td>0.122921</td>\n",
       "      <td>0.351158</td>\n",
       "      <td>2767.376711</td>\n",
       "      <td>1834.777045</td>\n",
       "      <td>3578.915369</td>\n",
       "      <td>-3.401032</td>\n",
       "      <td>-3.893620</td>\n",
       "      <td>-2.881198</td>\n",
       "      <td>65.446597</td>\n",
       "      <td>...</td>\n",
       "      <td>-0.777521</td>\n",
       "      <td>2.502631</td>\n",
       "      <td>0.451247</td>\n",
       "      <td>0.491949</td>\n",
       "      <td>1.302360</td>\n",
       "      <td>0.392049</td>\n",
       "      <td>9</td>\n",
       "      <td>1.553885</td>\n",
       "      <td>0.372378</td>\n",
       "      <td>sham-deafening</td>\n",
       "    </tr>\n",
       "  </tbody>\n",
       "</table>\n",
       "<p>14 rows × 59 columns</p>\n",
       "</div>"
      ],
      "text/plain": [
       "    Goodness_mean_median  Goodness_mean_min  Goodness_mean_max  \\\n",
       "0               0.117747           0.114967           0.121071   \n",
       "1               0.138719           0.134799           0.143075   \n",
       "2               0.120487           0.115469           0.141427   \n",
       "3               0.138086           0.123512           0.146133   \n",
       "4               0.114786           0.104775           0.116830   \n",
       "5               0.140029           0.123126           0.163307   \n",
       "6               0.110085           0.102550           0.135041   \n",
       "7               0.131318           0.123017           0.143566   \n",
       "8               0.118705           0.113045           0.124365   \n",
       "9               0.170568           0.128027           0.179388   \n",
       "10              0.162225           0.138197           0.166186   \n",
       "11              0.162536           0.131483           0.185763   \n",
       "12              0.152211           0.139973           0.335585   \n",
       "13              0.137179           0.122921           0.351158   \n",
       "\n",
       "    Mean_frequency_mean_median  Mean_frequency_mean_min  \\\n",
       "0                  2155.357576              2109.599981   \n",
       "1                  1916.063608              1905.271892   \n",
       "2                  1761.408783              1563.806841   \n",
       "3                  1756.748116              1433.786306   \n",
       "4                  1789.762898              1485.763158   \n",
       "5                  1837.666285              1569.842809   \n",
       "6                  2305.491632              1474.451575   \n",
       "7                  1944.922759              1834.077485   \n",
       "8                  1804.720076              1590.400913   \n",
       "9                  1705.981868              1661.570229   \n",
       "10                 2323.792227              1823.740192   \n",
       "11                 2430.681137              1754.160068   \n",
       "12                 3053.095586              2437.647402   \n",
       "13                 2767.376711              1834.777045   \n",
       "\n",
       "    Mean_frequency_mean_max  Entropy_mean_median  Entropy_mean_min  \\\n",
       "0               2867.423096            -3.266155         -3.448087   \n",
       "1               1967.627065            -3.067501         -3.118677   \n",
       "2               3297.943880            -3.145204         -3.359798   \n",
       "3               2007.303591            -3.356677         -3.532446   \n",
       "4               2337.077138            -3.683179         -3.889325   \n",
       "5               2464.989868            -2.950556         -3.258490   \n",
       "6               3660.457968            -2.612077         -2.928364   \n",
       "7               2438.096988            -2.865155         -3.101042   \n",
       "8               2019.039239            -3.079158         -3.291822   \n",
       "9               1956.193094            -3.513520         -3.598754   \n",
       "10              3712.214249            -2.777668         -3.308579   \n",
       "11              3650.146960            -3.393631         -4.056181   \n",
       "12              3605.702921            -3.291400         -3.843050   \n",
       "13              3578.915369            -3.401032         -3.893620   \n",
       "\n",
       "    Entropy_mean_max  Amplitude_mean_median  ...  rhythm_entropy  \\\n",
       "0          -3.060742              61.694346  ...       -0.142866   \n",
       "1          -2.831167              60.048020  ...       -0.420613   \n",
       "2          -2.939603              56.802061  ...       -0.186091   \n",
       "3          -2.834024              56.994473  ...       -0.890552   \n",
       "4          -3.563164              54.013514  ...       -0.229416   \n",
       "5          -2.657295              52.208152  ...       -0.814188   \n",
       "6          -2.373068              52.716926  ...       -0.145907   \n",
       "7          -2.670985              57.502545  ...       -0.212056   \n",
       "8          -2.866493              49.660063  ...       -0.176262   \n",
       "9          -3.245168              58.378313  ...       -0.367510   \n",
       "10         -2.696333              57.527532  ...       -0.427225   \n",
       "11         -2.696757              61.131488  ...       -0.401240   \n",
       "12         -2.762064              58.389534  ...       -0.471419   \n",
       "13         -2.881198              65.446597  ...       -0.777521   \n",
       "\n",
       "    CV_peak_rhythm_spectrum_frequency  syllable_duration_entropy  \\\n",
       "0                            6.848818                   0.795698   \n",
       "1                            4.462123                   0.623511   \n",
       "2                            4.453035                   0.661636   \n",
       "3                            4.523146                   0.439880   \n",
       "4                            2.829038                   0.684722   \n",
       "5                            3.042721                   0.430952   \n",
       "6                           12.336573                   0.740859   \n",
       "7                            4.376186                   0.636782   \n",
       "8                            7.477644                   0.593052   \n",
       "9                            4.838005                   0.419097   \n",
       "10                           3.412945                   0.390674   \n",
       "11                           4.204410                   0.594732   \n",
       "12                           7.068219                   0.576978   \n",
       "13                           2.502631                   0.451247   \n",
       "\n",
       "    gap_duration_entropy  entropy_rate  entropy_rate_norm  num_syllables  \\\n",
       "0               0.679239      2.085816           0.695272              7   \n",
       "1               0.596916      1.073634           0.415338              5   \n",
       "2               0.792669      2.322015           0.671213             10   \n",
       "3               0.786990      1.312251           0.413969              8   \n",
       "4               0.851385      2.736651           0.823814              9   \n",
       "5               0.581725      1.596453           0.503625              8   \n",
       "6               0.862666      2.236685           0.646547             10   \n",
       "7               0.828545      1.416925           0.504719              6   \n",
       "8               0.866371      0.778098           0.490925              2   \n",
       "9               0.669968      0.814732           0.350886              4   \n",
       "10              0.607948      1.137199           0.379066              7   \n",
       "11              0.730398      1.454658           0.458893              8   \n",
       "12              0.698610      1.662362           0.524417              8   \n",
       "13              0.491949      1.302360           0.392049              9   \n",
       "\n",
       "    mean_repetition_length  CV_repetition_length       Condition  \n",
       "0                 1.180929              0.341734        deaf_120  \n",
       "1                 6.325758              0.855042        deaf_300  \n",
       "2                 2.047170              0.529954        deaf_120  \n",
       "3                 1.200000              0.381881        deaf_300  \n",
       "4                 1.807692              0.555234        deaf_120  \n",
       "5                 2.497939              0.711100        deaf_300  \n",
       "6                 1.750000              0.473804        deaf_120  \n",
       "7                 2.524590              0.623647        deaf_300  \n",
       "8                 5.219178              0.842512        deaf_120  \n",
       "9                 6.861111              0.639381        deaf_300  \n",
       "10                1.195312              0.363142  sham-deafening  \n",
       "11                1.512195              0.361377  sham-deafening  \n",
       "12                1.238596              0.448058  sham-deafening  \n",
       "13                1.553885              0.372378  sham-deafening  \n",
       "\n",
       "[14 rows x 59 columns]"
      ]
     },
     "execution_count": 5,
     "metadata": {},
     "output_type": "execute_result"
    }
   ],
   "source": [
    "all_feats_deaf"
   ]
  },
  {
   "cell_type": "code",
   "execution_count": 6,
   "metadata": {},
   "outputs": [],
   "source": [
    "all_feats_deaf['rhythm_entropy'] = 10**all_feats_deaf.rhythm_entropy"
   ]
  },
  {
   "cell_type": "markdown",
   "metadata": {},
   "source": [
    "## Merge Datasets"
   ]
  },
  {
   "cell_type": "code",
   "execution_count": 7,
   "metadata": {},
   "outputs": [],
   "source": [
    "all_feats = pd.concat([all_feats_normal, all_feats_deaf])"
   ]
  },
  {
   "cell_type": "markdown",
   "metadata": {},
   "source": [
    "### Drop Amplitude Features"
   ]
  },
  {
   "cell_type": "markdown",
   "metadata": {},
   "source": [
    "Amplitude features depend strongly on the specific recording conditions of a bird, and seem to vary strongly across colonies, so we will not consider these features in subsequent analyses. "
   ]
  },
  {
   "cell_type": "code",
   "execution_count": 8,
   "metadata": {},
   "outputs": [],
   "source": [
    "amplitude_features = all_feats.columns[['Amplitude' in x for x in all_feats.columns.tolist()]]\n",
    "\n",
    "all_feats = all_feats.drop(columns= amplitude_features)"
   ]
  },
  {
   "cell_type": "markdown",
   "metadata": {},
   "source": [
    "## Normalize Dataset"
   ]
  },
  {
   "cell_type": "code",
   "execution_count": 9,
   "metadata": {},
   "outputs": [
    {
     "data": {
      "text/plain": [
       "StandardScaler()"
      ]
     },
     "execution_count": 9,
     "metadata": {},
     "output_type": "execute_result"
    }
   ],
   "source": [
    "features_only = all_feats.drop(columns = ['Bird_ID', 'Condition', 'entropy_rate', 'num_syllables'])\n",
    "feature_mat = features_only.values\n",
    "\n",
    "scaler = StandardScaler()\n",
    "scaler.fit(feature_mat)"
   ]
  },
  {
   "cell_type": "code",
   "execution_count": 10,
   "metadata": {},
   "outputs": [
    {
     "data": {
      "text/plain": [
       "array(['Isolate', 'FP1_KD_post_tut', 'FP1_KD_pre_tut', 'GFP', 'Tutor',\n",
       "       'Pupil', 'Rockefeller-Pupil', 'deaf_120', 'deaf_300',\n",
       "       'sham-deafening'], dtype=object)"
      ]
     },
     "execution_count": 10,
     "metadata": {},
     "output_type": "execute_result"
    }
   ],
   "source": [
    "all_feats.Condition.unique()"
   ]
  },
  {
   "cell_type": "code",
   "execution_count": 11,
   "metadata": {},
   "outputs": [],
   "source": [
    "normal_and_deaf = all_feats[~all_feats.Condition.isin([ 'FP1_KD_pre_tut', 'Isolate', 'deaf_120'])]"
   ]
  },
  {
   "cell_type": "code",
   "execution_count": 12,
   "metadata": {},
   "outputs": [],
   "source": [
    "features_only = normal_and_deaf.drop(columns = ['Bird_ID', 'Condition', 'entropy_rate', 'num_syllables'])\n",
    "feature_mat = features_only.values\n",
    "\n",
    "feature_mat_norm = scaler.transform(feature_mat)"
   ]
  },
  {
   "cell_type": "code",
   "execution_count": 13,
   "metadata": {},
   "outputs": [],
   "source": [
    "class_dict = {'sham-deafening' : 0, \n",
    "              'deaf_300' : 1, \n",
    "              'FP1_KD_post_tut' : 0, \n",
    "              'GFP' : 0, \n",
    "              'Pupil' :  0, \n",
    "              'Tutor' : 0, \n",
    "              'Rockefeller-Pupil': 0,\n",
    "              'Isolate' : 2, \n",
    "              'FP1_KD_pre_tut' : 3}\n",
    "\n",
    "y = [class_dict[x] for x in normal_and_deaf.Condition]"
   ]
  },
  {
   "cell_type": "markdown",
   "metadata": {},
   "source": [
    "## L1-Based Feature Selection"
   ]
  },
  {
   "cell_type": "code",
   "execution_count": 14,
   "metadata": {},
   "outputs": [],
   "source": [
    "from sklearn.svm import LinearSVC\n",
    "from sklearn.feature_selection import SelectFromModel"
   ]
  },
  {
   "cell_type": "code",
   "execution_count": 15,
   "metadata": {},
   "outputs": [
    {
     "name": "stdout",
     "output_type": "stream",
     "text": [
      "(87, 43)\n"
     ]
    },
    {
     "data": {
      "text/plain": [
       "(87, 6)"
      ]
     },
     "execution_count": 15,
     "metadata": {},
     "output_type": "execute_result"
    }
   ],
   "source": [
    "print(feature_mat_norm.shape)\n",
    "lsvc = LinearSVC(C=0.1, penalty='l1', dual = False).fit(feature_mat_norm, y)\n",
    "model_l1 = SelectFromModel(lsvc, prefit=True)\n",
    "x_new = model_l1.transform(feature_mat_norm)\n",
    "x_new.shape"
   ]
  },
  {
   "cell_type": "markdown",
   "metadata": {},
   "source": [
    "Alright, so this cuts down our feature set from 43 to only 6 features. What are those features? "
   ]
  },
  {
   "cell_type": "code",
   "execution_count": 16,
   "metadata": {},
   "outputs": [],
   "source": [
    "feature_idx = [lsvc.coef_ != 0]\n",
    "features = features_only.columns[np.squeeze(feature_idx)]"
   ]
  },
  {
   "cell_type": "code",
   "execution_count": 17,
   "metadata": {},
   "outputs": [
    {
     "data": {
      "text/plain": [
       "Index(['Goodness_mean_max', 'Mean_frequency_mean_max', 'duration_mean_min',\n",
       "       'Mean_frequency_CV_min', 'duration_CV_min', 'CV_repetition_length'],\n",
       "      dtype='object')"
      ]
     },
     "execution_count": 17,
     "metadata": {},
     "output_type": "execute_result"
    }
   ],
   "source": [
    "features"
   ]
  },
  {
   "cell_type": "code",
   "execution_count": 18,
   "metadata": {},
   "outputs": [
    {
     "data": {
      "text/html": [
       "<div>\n",
       "<style scoped>\n",
       "    .dataframe tbody tr th:only-of-type {\n",
       "        vertical-align: middle;\n",
       "    }\n",
       "\n",
       "    .dataframe tbody tr th {\n",
       "        vertical-align: top;\n",
       "    }\n",
       "\n",
       "    .dataframe thead th {\n",
       "        text-align: right;\n",
       "    }\n",
       "</style>\n",
       "<table border=\"1\" class=\"dataframe\">\n",
       "  <thead>\n",
       "    <tr style=\"text-align: right;\">\n",
       "      <th></th>\n",
       "      <th>feature</th>\n",
       "      <th>weight</th>\n",
       "      <th>abs_weight</th>\n",
       "    </tr>\n",
       "  </thead>\n",
       "  <tbody>\n",
       "    <tr>\n",
       "      <th>5</th>\n",
       "      <td>Mean_frequency_mean_max</td>\n",
       "      <td>-0.186406</td>\n",
       "      <td>0.186406</td>\n",
       "    </tr>\n",
       "    <tr>\n",
       "      <th>22</th>\n",
       "      <td>Mean_frequency_CV_min</td>\n",
       "      <td>0.151241</td>\n",
       "      <td>0.151241</td>\n",
       "    </tr>\n",
       "    <tr>\n",
       "      <th>34</th>\n",
       "      <td>duration_CV_min</td>\n",
       "      <td>0.123461</td>\n",
       "      <td>0.123461</td>\n",
       "    </tr>\n",
       "    <tr>\n",
       "      <th>16</th>\n",
       "      <td>duration_mean_min</td>\n",
       "      <td>-0.060375</td>\n",
       "      <td>0.060375</td>\n",
       "    </tr>\n",
       "    <tr>\n",
       "      <th>2</th>\n",
       "      <td>Goodness_mean_max</td>\n",
       "      <td>-0.020448</td>\n",
       "      <td>0.020448</td>\n",
       "    </tr>\n",
       "    <tr>\n",
       "      <th>42</th>\n",
       "      <td>CV_repetition_length</td>\n",
       "      <td>0.000525</td>\n",
       "      <td>0.000525</td>\n",
       "    </tr>\n",
       "  </tbody>\n",
       "</table>\n",
       "</div>"
      ],
      "text/plain": [
       "                    feature    weight  abs_weight\n",
       "5   Mean_frequency_mean_max -0.186406    0.186406\n",
       "22    Mean_frequency_CV_min  0.151241    0.151241\n",
       "34          duration_CV_min  0.123461    0.123461\n",
       "16        duration_mean_min -0.060375    0.060375\n",
       "2         Goodness_mean_max -0.020448    0.020448\n",
       "42     CV_repetition_length  0.000525    0.000525"
      ]
     },
     "execution_count": 18,
     "metadata": {},
     "output_type": "execute_result"
    }
   ],
   "source": [
    "feature_weights = pd.DataFrame({'feature' : features_only.columns.values, \n",
    "                                'weight' : np.squeeze(lsvc.coef_)})\n",
    "feature_weights['abs_weight'] = np.abs(feature_weights.weight)\n",
    "feature_weights.sort_values('abs_weight', ascending=False).head(6)"
   ]
  },
  {
   "cell_type": "markdown",
   "metadata": {},
   "source": [
    "## Classification Accuracy with Reduced Feature Sets"
   ]
  },
  {
   "cell_type": "code",
   "execution_count": 19,
   "metadata": {},
   "outputs": [
    {
     "data": {
      "text/plain": [
       "(87, 1)"
      ]
     },
     "execution_count": 19,
     "metadata": {},
     "output_type": "execute_result"
    }
   ],
   "source": [
    "model = LinearDiscriminantAnalysis()\n",
    "model.fit(x_new, y)\n",
    "X_transformed = model.transform(x_new)\n",
    "X_transformed.shape"
   ]
  },
  {
   "cell_type": "code",
   "execution_count": 20,
   "metadata": {},
   "outputs": [],
   "source": [
    "from sklearn.model_selection import RepeatedStratifiedKFold\n",
    "from sklearn.model_selection import cross_val_score\n",
    "from scipy.stats import sem"
   ]
  },
  {
   "cell_type": "code",
   "execution_count": 21,
   "metadata": {},
   "outputs": [],
   "source": [
    "model = LinearDiscriminantAnalysis()\n",
    "cv = RepeatedStratifiedKFold(n_splits=5, n_repeats = 10, random_state=42)\n",
    "scores = cross_val_score(model, X = x_new, y = y, scoring = 'accuracy', cv = cv, )"
   ]
  },
  {
   "cell_type": "code",
   "execution_count": 22,
   "metadata": {},
   "outputs": [
    {
     "data": {
      "text/plain": [
       "0.993202614379085"
      ]
     },
     "execution_count": 22,
     "metadata": {},
     "output_type": "execute_result"
    }
   ],
   "source": [
    "np.mean(scores)"
   ]
  },
  {
   "cell_type": "code",
   "execution_count": 23,
   "metadata": {},
   "outputs": [
    {
     "data": {
      "text/plain": [
       "0.002630734488366479"
      ]
     },
     "execution_count": 23,
     "metadata": {},
     "output_type": "execute_result"
    }
   ],
   "source": [
    "sem(scores)"
   ]
  },
  {
   "cell_type": "markdown",
   "metadata": {},
   "source": [
    "## Plotting Feature Weights"
   ]
  },
  {
   "cell_type": "code",
   "execution_count": 24,
   "metadata": {},
   "outputs": [
    {
     "data": {
      "text/plain": [
       "(87, 1)"
      ]
     },
     "execution_count": 24,
     "metadata": {},
     "output_type": "execute_result"
    }
   ],
   "source": [
    "model_LDA = LinearDiscriminantAnalysis()\n",
    "model_LDA.fit(x_new, y)\n",
    "X_transformed = model_LDA.transform(x_new)\n",
    "X_transformed.shape"
   ]
  },
  {
   "cell_type": "code",
   "execution_count": 26,
   "metadata": {},
   "outputs": [
    {
     "data": {
      "text/plain": [
       "array([-2.20583585, -4.86394378, -3.64048268,  5.21625907,  4.58477223,\n",
       "        1.98545362])"
      ]
     },
     "execution_count": 26,
     "metadata": {},
     "output_type": "execute_result"
    }
   ],
   "source": [
    "model_LDA.coef_.flatten()"
   ]
  },
  {
   "cell_type": "code",
   "execution_count": 27,
   "metadata": {},
   "outputs": [],
   "source": [
    "weights = pd.DataFrame(model_LDA.coef_.flatten(), index = features)\n",
    "weights = weights.sort_values(by = 0, ascending= False)"
   ]
  },
  {
   "cell_type": "code",
   "execution_count": 28,
   "metadata": {},
   "outputs": [],
   "source": [
    "plt.rcParams.update({'font.size': 11})"
   ]
  },
  {
   "cell_type": "code",
   "execution_count": 29,
   "metadata": {},
   "outputs": [
    {
     "data": {
      "text/plain": [
       "Text(0.5, 1.0, 'Typical vs. Deaf Feature Weights')"
      ]
     },
     "execution_count": 29,
     "metadata": {},
     "output_type": "execute_result"
    },
    {
     "data": {
      "image/png": "[encoded data removed]",
      "text/plain": [
       "<Figure size 200x400 with 2 Axes>"
      ]
     },
     "metadata": {},
     "output_type": "display_data"
    }
   ],
   "source": [
    "plt.figure(figsize=(2, 4))\n",
    "sns.heatmap(weights, annot =True, center = 0, \n",
    "            cbar_kws={'label' : 'Feature Weight'})\n",
    "plt.xticks([])\n",
    "plt.title('Typical vs. Deaf Feature Weights')"
   ]
  },
  {
   "cell_type": "markdown",
   "metadata": {},
   "source": [
    "# Plot Groups along LD1"
   ]
  },
  {
   "cell_type": "markdown",
   "metadata": {},
   "source": [
    "## Load UTSW Dataset"
   ]
  },
  {
   "cell_type": "code",
   "execution_count": 30,
   "metadata": {},
   "outputs": [],
   "source": [
    "all_feats_normal = pd.read_csv('C:\\\\Grad_School\\\\Code_and_software\\\\Py_code\\\\All_features_2023\\\\All_features_2023\\\\all_birds_all_feats_wseg_umap_updated.csv').drop(columns = 'Unnamed: 0')"
   ]
  },
  {
   "cell_type": "code",
   "execution_count": 31,
   "metadata": {},
   "outputs": [],
   "source": [
    "all_feats.columns.to_frame().to_csv('LDA Features Table.csv')"
   ]
  },
  {
   "cell_type": "code",
   "execution_count": 32,
   "metadata": {},
   "outputs": [],
   "source": [
    "all_feats_normal = all_feats_normal[all_feats_normal.Bird_ID != 'S389']"
   ]
  },
  {
   "cell_type": "markdown",
   "metadata": {},
   "source": [
    "Let's drop the Duke deaf and control birds"
   ]
  },
  {
   "cell_type": "code",
   "execution_count": 33,
   "metadata": {},
   "outputs": [
    {
     "data": {
      "text/plain": [
       "array(['Isolate', 'FP1_KD_post_tut', 'FP1_KD_pre_tut', 'GFP', 'Tutor',\n",
       "       'Pupil', 'Rockefeller-Pupil'], dtype=object)"
      ]
     },
     "execution_count": 33,
     "metadata": {},
     "output_type": "execute_result"
    }
   ],
   "source": [
    "all_feats_normal = all_feats_normal[~all_feats_normal.Condition.isin(['pre-deafening', 'post-deafening'])]\n",
    "all_feats_normal.Condition.unique()"
   ]
  },
  {
   "cell_type": "markdown",
   "metadata": {},
   "source": [
    "## Load Wada Lab Deaf Birds"
   ]
  },
  {
   "cell_type": "code",
   "execution_count": 34,
   "metadata": {},
   "outputs": [],
   "source": [
    "all_feats_deaf = pd.read_csv('C:\\\\Grad_School\\\\Code_and_software\\\\Py_code\\\\All_features_2023\\\\All_features_2023\\\\wada_birds_all_feats.csv').drop(columns = 'Unnamed: 0')"
   ]
  },
  {
   "cell_type": "code",
   "execution_count": 35,
   "metadata": {},
   "outputs": [
    {
     "data": {
      "text/html": [
       "<div>\n",
       "<style scoped>\n",
       "    .dataframe tbody tr th:only-of-type {\n",
       "        vertical-align: middle;\n",
       "    }\n",
       "\n",
       "    .dataframe tbody tr th {\n",
       "        vertical-align: top;\n",
       "    }\n",
       "\n",
       "    .dataframe thead th {\n",
       "        text-align: right;\n",
       "    }\n",
       "</style>\n",
       "<table border=\"1\" class=\"dataframe\">\n",
       "  <thead>\n",
       "    <tr style=\"text-align: right;\">\n",
       "      <th></th>\n",
       "      <th>Goodness_mean_median</th>\n",
       "      <th>Goodness_mean_min</th>\n",
       "      <th>Goodness_mean_max</th>\n",
       "      <th>Mean_frequency_mean_median</th>\n",
       "      <th>Mean_frequency_mean_min</th>\n",
       "      <th>Mean_frequency_mean_max</th>\n",
       "      <th>Entropy_mean_median</th>\n",
       "      <th>Entropy_mean_min</th>\n",
       "      <th>Entropy_mean_max</th>\n",
       "      <th>Amplitude_mean_median</th>\n",
       "      <th>...</th>\n",
       "      <th>rhythm_entropy</th>\n",
       "      <th>CV_peak_rhythm_spectrum_frequency</th>\n",
       "      <th>syllable_duration_entropy</th>\n",
       "      <th>gap_duration_entropy</th>\n",
       "      <th>entropy_rate</th>\n",
       "      <th>entropy_rate_norm</th>\n",
       "      <th>num_syllables</th>\n",
       "      <th>mean_repetition_length</th>\n",
       "      <th>CV_repetition_length</th>\n",
       "      <th>Condition</th>\n",
       "    </tr>\n",
       "  </thead>\n",
       "  <tbody>\n",
       "    <tr>\n",
       "      <th>0</th>\n",
       "      <td>0.117747</td>\n",
       "      <td>0.114967</td>\n",
       "      <td>0.121071</td>\n",
       "      <td>2155.357576</td>\n",
       "      <td>2109.599981</td>\n",
       "      <td>2867.423096</td>\n",
       "      <td>-3.266155</td>\n",
       "      <td>-3.448087</td>\n",
       "      <td>-3.060742</td>\n",
       "      <td>61.694346</td>\n",
       "      <td>...</td>\n",
       "      <td>-0.142866</td>\n",
       "      <td>6.848818</td>\n",
       "      <td>0.795698</td>\n",
       "      <td>0.679239</td>\n",
       "      <td>2.085816</td>\n",
       "      <td>0.695272</td>\n",
       "      <td>7</td>\n",
       "      <td>1.180929</td>\n",
       "      <td>0.341734</td>\n",
       "      <td>deaf_120</td>\n",
       "    </tr>\n",
       "    <tr>\n",
       "      <th>1</th>\n",
       "      <td>0.138719</td>\n",
       "      <td>0.134799</td>\n",
       "      <td>0.143075</td>\n",
       "      <td>1916.063608</td>\n",
       "      <td>1905.271892</td>\n",
       "      <td>1967.627065</td>\n",
       "      <td>-3.067501</td>\n",
       "      <td>-3.118677</td>\n",
       "      <td>-2.831167</td>\n",
       "      <td>60.048020</td>\n",
       "      <td>...</td>\n",
       "      <td>-0.420613</td>\n",
       "      <td>4.462123</td>\n",
       "      <td>0.623511</td>\n",
       "      <td>0.596916</td>\n",
       "      <td>1.073634</td>\n",
       "      <td>0.415338</td>\n",
       "      <td>5</td>\n",
       "      <td>6.325758</td>\n",
       "      <td>0.855042</td>\n",
       "      <td>deaf_300</td>\n",
       "    </tr>\n",
       "    <tr>\n",
       "      <th>2</th>\n",
       "      <td>0.120487</td>\n",
       "      <td>0.115469</td>\n",
       "      <td>0.141427</td>\n",
       "      <td>1761.408783</td>\n",
       "      <td>1563.806841</td>\n",
       "      <td>3297.943880</td>\n",
       "      <td>-3.145204</td>\n",
       "      <td>-3.359798</td>\n",
       "      <td>-2.939603</td>\n",
       "      <td>56.802061</td>\n",
       "      <td>...</td>\n",
       "      <td>-0.186091</td>\n",
       "      <td>4.453035</td>\n",
       "      <td>0.661636</td>\n",
       "      <td>0.792669</td>\n",
       "      <td>2.322015</td>\n",
       "      <td>0.671213</td>\n",
       "      <td>10</td>\n",
       "      <td>2.047170</td>\n",
       "      <td>0.529954</td>\n",
       "      <td>deaf_120</td>\n",
       "    </tr>\n",
       "    <tr>\n",
       "      <th>3</th>\n",
       "      <td>0.138086</td>\n",
       "      <td>0.123512</td>\n",
       "      <td>0.146133</td>\n",
       "      <td>1756.748116</td>\n",
       "      <td>1433.786306</td>\n",
       "      <td>2007.303591</td>\n",
       "      <td>-3.356677</td>\n",
       "      <td>-3.532446</td>\n",
       "      <td>-2.834024</td>\n",
       "      <td>56.994473</td>\n",
       "      <td>...</td>\n",
       "      <td>-0.890552</td>\n",
       "      <td>4.523146</td>\n",
       "      <td>0.439880</td>\n",
       "      <td>0.786990</td>\n",
       "      <td>1.312251</td>\n",
       "      <td>0.413969</td>\n",
       "      <td>8</td>\n",
       "      <td>1.200000</td>\n",
       "      <td>0.381881</td>\n",
       "      <td>deaf_300</td>\n",
       "    </tr>\n",
       "    <tr>\n",
       "      <th>4</th>\n",
       "      <td>0.114786</td>\n",
       "      <td>0.104775</td>\n",
       "      <td>0.116830</td>\n",
       "      <td>1789.762898</td>\n",
       "      <td>1485.763158</td>\n",
       "      <td>2337.077138</td>\n",
       "      <td>-3.683179</td>\n",
       "      <td>-3.889325</td>\n",
       "      <td>-3.563164</td>\n",
       "      <td>54.013514</td>\n",
       "      <td>...</td>\n",
       "      <td>-0.229416</td>\n",
       "      <td>2.829038</td>\n",
       "      <td>0.684722</td>\n",
       "      <td>0.851385</td>\n",
       "      <td>2.736651</td>\n",
       "      <td>0.823814</td>\n",
       "      <td>9</td>\n",
       "      <td>1.807692</td>\n",
       "      <td>0.555234</td>\n",
       "      <td>deaf_120</td>\n",
       "    </tr>\n",
       "    <tr>\n",
       "      <th>5</th>\n",
       "      <td>0.140029</td>\n",
       "      <td>0.123126</td>\n",
       "      <td>0.163307</td>\n",
       "      <td>1837.666285</td>\n",
       "      <td>1569.842809</td>\n",
       "      <td>2464.989868</td>\n",
       "      <td>-2.950556</td>\n",
       "      <td>-3.258490</td>\n",
       "      <td>-2.657295</td>\n",
       "      <td>52.208152</td>\n",
       "      <td>...</td>\n",
       "      <td>-0.814188</td>\n",
       "      <td>3.042721</td>\n",
       "      <td>0.430952</td>\n",
       "      <td>0.581725</td>\n",
       "      <td>1.596453</td>\n",
       "      <td>0.503625</td>\n",
       "      <td>8</td>\n",
       "      <td>2.497939</td>\n",
       "      <td>0.711100</td>\n",
       "      <td>deaf_300</td>\n",
       "    </tr>\n",
       "    <tr>\n",
       "      <th>6</th>\n",
       "      <td>0.110085</td>\n",
       "      <td>0.102550</td>\n",
       "      <td>0.135041</td>\n",
       "      <td>2305.491632</td>\n",
       "      <td>1474.451575</td>\n",
       "      <td>3660.457968</td>\n",
       "      <td>-2.612077</td>\n",
       "      <td>-2.928364</td>\n",
       "      <td>-2.373068</td>\n",
       "      <td>52.716926</td>\n",
       "      <td>...</td>\n",
       "      <td>-0.145907</td>\n",
       "      <td>12.336573</td>\n",
       "      <td>0.740859</td>\n",
       "      <td>0.862666</td>\n",
       "      <td>2.236685</td>\n",
       "      <td>0.646547</td>\n",
       "      <td>10</td>\n",
       "      <td>1.750000</td>\n",
       "      <td>0.473804</td>\n",
       "      <td>deaf_120</td>\n",
       "    </tr>\n",
       "    <tr>\n",
       "      <th>7</th>\n",
       "      <td>0.131318</td>\n",
       "      <td>0.123017</td>\n",
       "      <td>0.143566</td>\n",
       "      <td>1944.922759</td>\n",
       "      <td>1834.077485</td>\n",
       "      <td>2438.096988</td>\n",
       "      <td>-2.865155</td>\n",
       "      <td>-3.101042</td>\n",
       "      <td>-2.670985</td>\n",
       "      <td>57.502545</td>\n",
       "      <td>...</td>\n",
       "      <td>-0.212056</td>\n",
       "      <td>4.376186</td>\n",
       "      <td>0.636782</td>\n",
       "      <td>0.828545</td>\n",
       "      <td>1.416925</td>\n",
       "      <td>0.504719</td>\n",
       "      <td>6</td>\n",
       "      <td>2.524590</td>\n",
       "      <td>0.623647</td>\n",
       "      <td>deaf_300</td>\n",
       "    </tr>\n",
       "    <tr>\n",
       "      <th>8</th>\n",
       "      <td>0.118705</td>\n",
       "      <td>0.113045</td>\n",
       "      <td>0.124365</td>\n",
       "      <td>1804.720076</td>\n",
       "      <td>1590.400913</td>\n",
       "      <td>2019.039239</td>\n",
       "      <td>-3.079158</td>\n",
       "      <td>-3.291822</td>\n",
       "      <td>-2.866493</td>\n",
       "      <td>49.660063</td>\n",
       "      <td>...</td>\n",
       "      <td>-0.176262</td>\n",
       "      <td>7.477644</td>\n",
       "      <td>0.593052</td>\n",
       "      <td>0.866371</td>\n",
       "      <td>0.778098</td>\n",
       "      <td>0.490925</td>\n",
       "      <td>2</td>\n",
       "      <td>5.219178</td>\n",
       "      <td>0.842512</td>\n",
       "      <td>deaf_120</td>\n",
       "    </tr>\n",
       "    <tr>\n",
       "      <th>9</th>\n",
       "      <td>0.170568</td>\n",
       "      <td>0.128027</td>\n",
       "      <td>0.179388</td>\n",
       "      <td>1705.981868</td>\n",
       "      <td>1661.570229</td>\n",
       "      <td>1956.193094</td>\n",
       "      <td>-3.513520</td>\n",
       "      <td>-3.598754</td>\n",
       "      <td>-3.245168</td>\n",
       "      <td>58.378313</td>\n",
       "      <td>...</td>\n",
       "      <td>-0.367510</td>\n",
       "      <td>4.838005</td>\n",
       "      <td>0.419097</td>\n",
       "      <td>0.669968</td>\n",
       "      <td>0.814732</td>\n",
       "      <td>0.350886</td>\n",
       "      <td>4</td>\n",
       "      <td>6.861111</td>\n",
       "      <td>0.639381</td>\n",
       "      <td>deaf_300</td>\n",
       "    </tr>\n",
       "    <tr>\n",
       "      <th>10</th>\n",
       "      <td>0.162225</td>\n",
       "      <td>0.138197</td>\n",
       "      <td>0.166186</td>\n",
       "      <td>2323.792227</td>\n",
       "      <td>1823.740192</td>\n",
       "      <td>3712.214249</td>\n",
       "      <td>-2.777668</td>\n",
       "      <td>-3.308579</td>\n",
       "      <td>-2.696333</td>\n",
       "      <td>57.527532</td>\n",
       "      <td>...</td>\n",
       "      <td>-0.427225</td>\n",
       "      <td>3.412945</td>\n",
       "      <td>0.390674</td>\n",
       "      <td>0.607948</td>\n",
       "      <td>1.137199</td>\n",
       "      <td>0.379066</td>\n",
       "      <td>7</td>\n",
       "      <td>1.195312</td>\n",
       "      <td>0.363142</td>\n",
       "      <td>sham-deafening</td>\n",
       "    </tr>\n",
       "    <tr>\n",
       "      <th>11</th>\n",
       "      <td>0.162536</td>\n",
       "      <td>0.131483</td>\n",
       "      <td>0.185763</td>\n",
       "      <td>2430.681137</td>\n",
       "      <td>1754.160068</td>\n",
       "      <td>3650.146960</td>\n",
       "      <td>-3.393631</td>\n",
       "      <td>-4.056181</td>\n",
       "      <td>-2.696757</td>\n",
       "      <td>61.131488</td>\n",
       "      <td>...</td>\n",
       "      <td>-0.401240</td>\n",
       "      <td>4.204410</td>\n",
       "      <td>0.594732</td>\n",
       "      <td>0.730398</td>\n",
       "      <td>1.454658</td>\n",
       "      <td>0.458893</td>\n",
       "      <td>8</td>\n",
       "      <td>1.512195</td>\n",
       "      <td>0.361377</td>\n",
       "      <td>sham-deafening</td>\n",
       "    </tr>\n",
       "    <tr>\n",
       "      <th>12</th>\n",
       "      <td>0.152211</td>\n",
       "      <td>0.139973</td>\n",
       "      <td>0.335585</td>\n",
       "      <td>3053.095586</td>\n",
       "      <td>2437.647402</td>\n",
       "      <td>3605.702921</td>\n",
       "      <td>-3.291400</td>\n",
       "      <td>-3.843050</td>\n",
       "      <td>-2.762064</td>\n",
       "      <td>58.389534</td>\n",
       "      <td>...</td>\n",
       "      <td>-0.471419</td>\n",
       "      <td>7.068219</td>\n",
       "      <td>0.576978</td>\n",
       "      <td>0.698610</td>\n",
       "      <td>1.662362</td>\n",
       "      <td>0.524417</td>\n",
       "      <td>8</td>\n",
       "      <td>1.238596</td>\n",
       "      <td>0.448058</td>\n",
       "      <td>sham-deafening</td>\n",
       "    </tr>\n",
       "    <tr>\n",
       "      <th>13</th>\n",
       "      <td>0.137179</td>\n",
       "      <td>0.122921</td>\n",
       "      <td>0.351158</td>\n",
       "      <td>2767.376711</td>\n",
       "      <td>1834.777045</td>\n",
       "      <td>3578.915369</td>\n",
       "      <td>-3.401032</td>\n",
       "      <td>-3.893620</td>\n",
       "      <td>-2.881198</td>\n",
       "      <td>65.446597</td>\n",
       "      <td>...</td>\n",
       "      <td>-0.777521</td>\n",
       "      <td>2.502631</td>\n",
       "      <td>0.451247</td>\n",
       "      <td>0.491949</td>\n",
       "      <td>1.302360</td>\n",
       "      <td>0.392049</td>\n",
       "      <td>9</td>\n",
       "      <td>1.553885</td>\n",
       "      <td>0.372378</td>\n",
       "      <td>sham-deafening</td>\n",
       "    </tr>\n",
       "  </tbody>\n",
       "</table>\n",
       "<p>14 rows × 59 columns</p>\n",
       "</div>"
      ],
      "text/plain": [
       "    Goodness_mean_median  Goodness_mean_min  Goodness_mean_max  \\\n",
       "0               0.117747           0.114967           0.121071   \n",
       "1               0.138719           0.134799           0.143075   \n",
       "2               0.120487           0.115469           0.141427   \n",
       "3               0.138086           0.123512           0.146133   \n",
       "4               0.114786           0.104775           0.116830   \n",
       "5               0.140029           0.123126           0.163307   \n",
       "6               0.110085           0.102550           0.135041   \n",
       "7               0.131318           0.123017           0.143566   \n",
       "8               0.118705           0.113045           0.124365   \n",
       "9               0.170568           0.128027           0.179388   \n",
       "10              0.162225           0.138197           0.166186   \n",
       "11              0.162536           0.131483           0.185763   \n",
       "12              0.152211           0.139973           0.335585   \n",
       "13              0.137179           0.122921           0.351158   \n",
       "\n",
       "    Mean_frequency_mean_median  Mean_frequency_mean_min  \\\n",
       "0                  2155.357576              2109.599981   \n",
       "1                  1916.063608              1905.271892   \n",
       "2                  1761.408783              1563.806841   \n",
       "3                  1756.748116              1433.786306   \n",
       "4                  1789.762898              1485.763158   \n",
       "5                  1837.666285              1569.842809   \n",
       "6                  2305.491632              1474.451575   \n",
       "7                  1944.922759              1834.077485   \n",
       "8                  1804.720076              1590.400913   \n",
       "9                  1705.981868              1661.570229   \n",
       "10                 2323.792227              1823.740192   \n",
       "11                 2430.681137              1754.160068   \n",
       "12                 3053.095586              2437.647402   \n",
       "13                 2767.376711              1834.777045   \n",
       "\n",
       "    Mean_frequency_mean_max  Entropy_mean_median  Entropy_mean_min  \\\n",
       "0               2867.423096            -3.266155         -3.448087   \n",
       "1               1967.627065            -3.067501         -3.118677   \n",
       "2               3297.943880            -3.145204         -3.359798   \n",
       "3               2007.303591            -3.356677         -3.532446   \n",
       "4               2337.077138            -3.683179         -3.889325   \n",
       "5               2464.989868            -2.950556         -3.258490   \n",
       "6               3660.457968            -2.612077         -2.928364   \n",
       "7               2438.096988            -2.865155         -3.101042   \n",
       "8               2019.039239            -3.079158         -3.291822   \n",
       "9               1956.193094            -3.513520         -3.598754   \n",
       "10              3712.214249            -2.777668         -3.308579   \n",
       "11              3650.146960            -3.393631         -4.056181   \n",
       "12              3605.702921            -3.291400         -3.843050   \n",
       "13              3578.915369            -3.401032         -3.893620   \n",
       "\n",
       "    Entropy_mean_max  Amplitude_mean_median  ...  rhythm_entropy  \\\n",
       "0          -3.060742              61.694346  ...       -0.142866   \n",
       "1          -2.831167              60.048020  ...       -0.420613   \n",
       "2          -2.939603              56.802061  ...       -0.186091   \n",
       "3          -2.834024              56.994473  ...       -0.890552   \n",
       "4          -3.563164              54.013514  ...       -0.229416   \n",
       "5          -2.657295              52.208152  ...       -0.814188   \n",
       "6          -2.373068              52.716926  ...       -0.145907   \n",
       "7          -2.670985              57.502545  ...       -0.212056   \n",
       "8          -2.866493              49.660063  ...       -0.176262   \n",
       "9          -3.245168              58.378313  ...       -0.367510   \n",
       "10         -2.696333              57.527532  ...       -0.427225   \n",
       "11         -2.696757              61.131488  ...       -0.401240   \n",
       "12         -2.762064              58.389534  ...       -0.471419   \n",
       "13         -2.881198              65.446597  ...       -0.777521   \n",
       "\n",
       "    CV_peak_rhythm_spectrum_frequency  syllable_duration_entropy  \\\n",
       "0                            6.848818                   0.795698   \n",
       "1                            4.462123                   0.623511   \n",
       "2                            4.453035                   0.661636   \n",
       "3                            4.523146                   0.439880   \n",
       "4                            2.829038                   0.684722   \n",
       "5                            3.042721                   0.430952   \n",
       "6                           12.336573                   0.740859   \n",
       "7                            4.376186                   0.636782   \n",
       "8                            7.477644                   0.593052   \n",
       "9                            4.838005                   0.419097   \n",
       "10                           3.412945                   0.390674   \n",
       "11                           4.204410                   0.594732   \n",
       "12                           7.068219                   0.576978   \n",
       "13                           2.502631                   0.451247   \n",
       "\n",
       "    gap_duration_entropy  entropy_rate  entropy_rate_norm  num_syllables  \\\n",
       "0               0.679239      2.085816           0.695272              7   \n",
       "1               0.596916      1.073634           0.415338              5   \n",
       "2               0.792669      2.322015           0.671213             10   \n",
       "3               0.786990      1.312251           0.413969              8   \n",
       "4               0.851385      2.736651           0.823814              9   \n",
       "5               0.581725      1.596453           0.503625              8   \n",
       "6               0.862666      2.236685           0.646547             10   \n",
       "7               0.828545      1.416925           0.504719              6   \n",
       "8               0.866371      0.778098           0.490925              2   \n",
       "9               0.669968      0.814732           0.350886              4   \n",
       "10              0.607948      1.137199           0.379066              7   \n",
       "11              0.730398      1.454658           0.458893              8   \n",
       "12              0.698610      1.662362           0.524417              8   \n",
       "13              0.491949      1.302360           0.392049              9   \n",
       "\n",
       "    mean_repetition_length  CV_repetition_length       Condition  \n",
       "0                 1.180929              0.341734        deaf_120  \n",
       "1                 6.325758              0.855042        deaf_300  \n",
       "2                 2.047170              0.529954        deaf_120  \n",
       "3                 1.200000              0.381881        deaf_300  \n",
       "4                 1.807692              0.555234        deaf_120  \n",
       "5                 2.497939              0.711100        deaf_300  \n",
       "6                 1.750000              0.473804        deaf_120  \n",
       "7                 2.524590              0.623647        deaf_300  \n",
       "8                 5.219178              0.842512        deaf_120  \n",
       "9                 6.861111              0.639381        deaf_300  \n",
       "10                1.195312              0.363142  sham-deafening  \n",
       "11                1.512195              0.361377  sham-deafening  \n",
       "12                1.238596              0.448058  sham-deafening  \n",
       "13                1.553885              0.372378  sham-deafening  \n",
       "\n",
       "[14 rows x 59 columns]"
      ]
     },
     "execution_count": 35,
     "metadata": {},
     "output_type": "execute_result"
    }
   ],
   "source": [
    "all_feats_deaf"
   ]
  },
  {
   "cell_type": "code",
   "execution_count": 36,
   "metadata": {},
   "outputs": [],
   "source": [
    "all_feats_deaf['rhythm_entropy'] = 10**all_feats_deaf.rhythm_entropy"
   ]
  },
  {
   "cell_type": "markdown",
   "metadata": {},
   "source": [
    "## Merge Datasets"
   ]
  },
  {
   "cell_type": "code",
   "execution_count": 37,
   "metadata": {},
   "outputs": [],
   "source": [
    "all_feats = pd.concat([all_feats_normal, all_feats_deaf])"
   ]
  },
  {
   "cell_type": "code",
   "execution_count": 38,
   "metadata": {},
   "outputs": [],
   "source": [
    "all_feats = all_feats.rename(columns = {'entropy_rate_norm' : 'syntax_entropy_rate'})"
   ]
  },
  {
   "cell_type": "markdown",
   "metadata": {},
   "source": [
    "### Drop Amplitude Features"
   ]
  },
  {
   "cell_type": "markdown",
   "metadata": {},
   "source": [
    "Amplitude features depend strongly on the specific recording conditions of a bird, and seem to vary strongly across colonies, so we will not consider these features in subsequent analyses. "
   ]
  },
  {
   "cell_type": "code",
   "execution_count": 39,
   "metadata": {},
   "outputs": [],
   "source": [
    "amplitude_features = all_feats.columns[['Amplitude' in x for x in all_feats.columns.tolist()]]\n",
    "\n",
    "all_feats = all_feats.drop(columns= amplitude_features)"
   ]
  },
  {
   "cell_type": "markdown",
   "metadata": {},
   "source": [
    "## Normalize Dataset"
   ]
  },
  {
   "cell_type": "code",
   "execution_count": 40,
   "metadata": {},
   "outputs": [],
   "source": [
    "normal_iso_deaf = all_feats[~all_feats.Condition.isin([ 'deaf_120'])]"
   ]
  },
  {
   "cell_type": "code",
   "execution_count": 41,
   "metadata": {},
   "outputs": [],
   "source": [
    "features_only = normal_iso_deaf.drop(columns = ['Bird_ID', 'Condition', 'entropy_rate', 'num_syllables'])\n",
    "feature_mat = features_only.values\n",
    "\n",
    "feature_mat_norm = scaler.transform(feature_mat)"
   ]
  },
  {
   "cell_type": "code",
   "execution_count": 42,
   "metadata": {},
   "outputs": [],
   "source": [
    "X_feat_subset= model_l1.transform(feature_mat_norm)\n",
    "LD1_pred = model_LDA.transform(X_feat_subset)"
   ]
  },
  {
   "cell_type": "code",
   "execution_count": 43,
   "metadata": {},
   "outputs": [],
   "source": [
    "lda_df = pd.DataFrame({'coord_x' : np.squeeze(LD1_pred), \n",
    "                        'condition' : normal_iso_deaf.Condition, \n",
    "                         'Bird_ID' : normal_iso_deaf.Bird_ID})"
   ]
  },
  {
   "cell_type": "code",
   "execution_count": 44,
   "metadata": {},
   "outputs": [],
   "source": [
    "group_dict = {'deaf_300' : \"Deaf\", \n",
    "              'sham-deafening' : \"Sham Deafening\", \n",
    "              'deaf_120' : \"Deaf Unstable\",\n",
    "              'FP1_KD_post_tut' : 'Typical UTSW', \n",
    "              'GFP' : 'Typical UTSW', \n",
    "              'Pupil' :  'Typical UTSW', \n",
    "              'Tutor' : 'Typical UTSW', \n",
    "              'Rockefeller-Pupil': 'Typical Rockefeller',\n",
    "              'Isolate' : 'Isolate', \n",
    "              'FP1_KD_pre_tut' : 'FP1 KD'}\n",
    "lda_df['Group'] = [group_dict[x] for x in lda_df.condition]"
   ]
  },
  {
   "cell_type": "code",
   "execution_count": 45,
   "metadata": {},
   "outputs": [
    {
     "data": {
      "text/html": [
       "<div>\n",
       "<style scoped>\n",
       "    .dataframe tbody tr th:only-of-type {\n",
       "        vertical-align: middle;\n",
       "    }\n",
       "\n",
       "    .dataframe tbody tr th {\n",
       "        vertical-align: top;\n",
       "    }\n",
       "\n",
       "    .dataframe thead th {\n",
       "        text-align: right;\n",
       "    }\n",
       "</style>\n",
       "<table border=\"1\" class=\"dataframe\">\n",
       "  <thead>\n",
       "    <tr style=\"text-align: right;\">\n",
       "      <th></th>\n",
       "      <th>coord_x</th>\n",
       "      <th>condition</th>\n",
       "      <th>Bird_ID</th>\n",
       "      <th>Group</th>\n",
       "    </tr>\n",
       "  </thead>\n",
       "  <tbody>\n",
       "    <tr>\n",
       "      <th>0</th>\n",
       "      <td>0.804455</td>\n",
       "      <td>Isolate</td>\n",
       "      <td>B145</td>\n",
       "      <td>Isolate</td>\n",
       "    </tr>\n",
       "    <tr>\n",
       "      <th>1</th>\n",
       "      <td>-4.427250</td>\n",
       "      <td>Isolate</td>\n",
       "      <td>B236</td>\n",
       "      <td>Isolate</td>\n",
       "    </tr>\n",
       "  </tbody>\n",
       "</table>\n",
       "</div>"
      ],
      "text/plain": [
       "    coord_x condition Bird_ID    Group\n",
       "0  0.804455   Isolate    B145  Isolate\n",
       "1 -4.427250   Isolate    B236  Isolate"
      ]
     },
     "execution_count": 45,
     "metadata": {},
     "output_type": "execute_result"
    }
   ],
   "source": [
    "lda_df.head(2)"
   ]
  },
  {
   "cell_type": "code",
   "execution_count": 46,
   "metadata": {},
   "outputs": [],
   "source": [
    "lda_df.Group = lda_df.Group.astype('category').cat.set_categories(['Isolate', 'FP1 KD', 'Deaf', 'Sham Deafening', 'Typical UTSW', 'Typical Rockefeller'], ordered = True)"
   ]
  },
  {
   "cell_type": "code",
   "execution_count": 47,
   "metadata": {},
   "outputs": [
    {
     "name": "stderr",
     "output_type": "stream",
     "text": [
      "c:\\Users\\tkoch\\anaconda3\\envs\\avn4_install_test\\lib\\site-packages\\seaborn\\categorical.py:3544: UserWarning: 9.4% of the points cannot be placed; you may want to decrease the size of the markers or use stripplot.\n",
      "  warnings.warn(msg, UserWarning)\n"
     ]
    },
    {
     "data": {
      "text/plain": [
       "Text(0.5, 1.0, 'Deaf vs. Typical LDA')"
      ]
     },
     "execution_count": 47,
     "metadata": {},
     "output_type": "execute_result"
    },
    {
     "data": {
      "image/png": "[encoded data removed]",
      "text/plain": [
       "<Figure size 300x500 with 1 Axes>"
      ]
     },
     "metadata": {},
     "output_type": "display_data"
    }
   ],
   "source": [
    "plt.figure(figsize = (3, 5))\n",
    "sns.boxplot(data = lda_df, y = 'coord_x', x = 'Group', color = '0.8')\n",
    "sns.swarmplot(data = lda_df, y = 'coord_x', x = 'Group', color = 'black', legend = False, s = 4)\n",
    "plt.ylabel('LD1')\n",
    "plt.xticks(rotation = 90)\n",
    "plt.title('Deaf vs. Typical LDA')"
   ]
  },
  {
   "cell_type": "code",
   "execution_count": null,
   "metadata": {},
   "outputs": [],
   "source": []
  }
 ],
 "metadata": {
  "kernelspec": {
   "display_name": "avn4_install_test",
   "language": "python",
   "name": "python3"
  },
  "language_info": {
   "codemirror_mode": {
    "name": "ipython",
    "version": 3
   },
   "file_extension": ".py",
   "mimetype": "text/x-python",
   "name": "python",
   "nbconvert_exporter": "python",
   "pygments_lexer": "ipython3",
   "version": "3.8.19"
  }
 },
 "nbformat": 4,
 "nbformat_minor": 2
}
