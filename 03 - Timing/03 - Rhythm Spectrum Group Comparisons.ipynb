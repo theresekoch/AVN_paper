{
 "cells": [
  {
   "cell_type": "markdown",
   "metadata": {},
   "source": [
    "# 03 - Rhythm Spectrum Entropy across Groups"
   ]
  },
  {
   "cell_type": "markdown",
   "metadata": {},
   "source": [
    "## Imports"
   ]
  },
  {
   "cell_type": "code",
   "execution_count": 1,
   "metadata": {},
   "outputs": [],
   "source": [
    "import avn.timing as timing\n",
    "import numpy as np\n",
    "import pandas as pd\n",
    "import seaborn as sns\n",
    "import matplotlib.pyplot as plt\n",
    "import glob"
   ]
  },
  {
   "cell_type": "markdown",
   "metadata": {},
   "source": [
    "## Adult Birds"
   ]
  },
  {
   "cell_type": "code",
   "execution_count": 2,
   "metadata": {},
   "outputs": [
    {
     "data": {
      "text/plain": [
       "35"
      ]
     },
     "execution_count": 2,
     "metadata": {},
     "output_type": "execute_result"
    }
   ],
   "source": [
    "All_Birds = [\"B145\", \"B236\", \"B258\", \"B385\", \"B402\", \"B447\", \n",
    "             \"B507\", \"G255\", \"G397\", \"G402\", \"G413\", \"G437\", \n",
    "             \"G439\", \"G524\", \"G528\", \"O144\", \"O254\", \"O421\", \n",
    "             \"O440\", \"O512\", \"R402\", \"R425\", \"R469\", \"S132\", \n",
    "             \"S421\", \"S525\", \"S528\", \"Y389\", \"Y397\", \"Y425\", \n",
    "             \"Y440\", \"B524\", \"O434\", \"Y433\", \"Y453\"] \n",
    "\n",
    "#All_Birds should contain 35 bird IDs. Check: \n",
    "len(All_Birds)"
   ]
  },
  {
   "cell_type": "markdown",
   "metadata": {},
   "source": [
    "### Calculate Rhythm Spectrum Entropy and CV peak freq"
   ]
  },
  {
   "cell_type": "code",
   "execution_count": 3,
   "metadata": {},
   "outputs": [
    {
     "name": "stdout",
     "output_type": "stream",
     "text": [
      "B145\n"
     ]
    },
    {
     "ename": "KeyboardInterrupt",
     "evalue": "",
     "output_type": "error",
     "traceback": [
      "\u001b[1;31m---------------------------------------------------------------------------\u001b[0m",
      "\u001b[1;31mKeyboardInterrupt\u001b[0m                         Traceback (most recent call last)",
      "Cell \u001b[1;32mIn[3], line 12\u001b[0m\n\u001b[0;32m     10\u001b[0m song_folder_path \u001b[38;5;241m=\u001b[39m \u001b[38;5;124m'\u001b[39m\u001b[38;5;124mE:\u001b[39m\u001b[38;5;130;01m\\\\\u001b[39;00m\u001b[38;5;124mFinal_Bird_Dataset\u001b[39m\u001b[38;5;130;01m\\\\\u001b[39;00m\u001b[38;5;124mFP1_project_birds\u001b[39m\u001b[38;5;130;01m\\\\\u001b[39;00m\u001b[38;5;124mlabeled_songs\u001b[39m\u001b[38;5;130;01m\\\\\u001b[39;00m\u001b[38;5;124m'\u001b[39m \u001b[38;5;241m+\u001b[39m Bird_ID \u001b[38;5;241m+\u001b[39m \u001b[38;5;124m\"\u001b[39m\u001b[38;5;130;01m\\\\\u001b[39;00m\u001b[38;5;124m\"\u001b[39m\n\u001b[0;32m     11\u001b[0m \u001b[38;5;66;03m#create rhythm spectrogram\u001b[39;00m\n\u001b[1;32m---> 12\u001b[0m rhythm_spectrogram \u001b[38;5;241m=\u001b[39m \u001b[43mrhythm_analysis\u001b[49m\u001b[38;5;241;43m.\u001b[39;49m\u001b[43mmake_rhythm_spectrogram\u001b[49m\u001b[43m(\u001b[49m\u001b[43msong_folder_path\u001b[49m\u001b[43m \u001b[49m\u001b[38;5;241;43m=\u001b[39;49m\u001b[43m \u001b[49m\u001b[43msong_folder_path\u001b[49m\u001b[43m)\u001b[49m\n\u001b[0;32m     13\u001b[0m \u001b[38;5;66;03m#calculate entropy and peak freq cv\u001b[39;00m\n\u001b[0;32m     14\u001b[0m entropy \u001b[38;5;241m=\u001b[39m rhythm_analysis\u001b[38;5;241m.\u001b[39mcalc_rhythm_spectrogram_entropy()\n",
      "File \u001b[1;32mc:\\Users\\tkoch\\anaconda3\\envs\\avn4_install_test\\lib\\site-packages\\avn\\timing.py:110\u001b[0m, in \u001b[0;36mRhythmAnalysis.make_rhythm_spectrogram\u001b[1;34m(self, song_files, song_folder_path, frame_length, derivative, padded_length, max_frequency, hop_length, n_windows)\u001b[0m\n\u001b[0;32m    107\u001b[0m \u001b[38;5;66;03m#Calculate rhythm spectrum for each file and concatenate them to make a rhythm spectrogram\u001b[39;00m\n\u001b[0;32m    108\u001b[0m \u001b[38;5;28;01mfor\u001b[39;00m song_file_path \u001b[38;5;129;01min\u001b[39;00m song_files:\n\u001b[1;32m--> 110\u001b[0m     rhythm_spectrum \u001b[38;5;241m=\u001b[39m \u001b[38;5;28;43mself\u001b[39;49m\u001b[38;5;241;43m.\u001b[39;49m\u001b[43mrhythm_spectrum_single_file\u001b[49m\u001b[43m(\u001b[49m\u001b[43msong_file_path\u001b[49m\u001b[43m,\u001b[49m\u001b[43m \u001b[49m\n\u001b[0;32m    111\u001b[0m \u001b[43m                                                    \u001b[49m\u001b[43mframe_length\u001b[49m\u001b[38;5;241;43m=\u001b[39;49m\u001b[43mframe_length\u001b[49m\u001b[43m,\u001b[49m\u001b[43m \u001b[49m\n\u001b[0;32m    112\u001b[0m \u001b[43m                                                    \u001b[49m\u001b[43mderivative\u001b[49m\u001b[38;5;241;43m=\u001b[39;49m\u001b[43mderivative\u001b[49m\u001b[43m,\u001b[49m\n\u001b[0;32m    113\u001b[0m \u001b[43m                                                    \u001b[49m\u001b[43mpadded_length\u001b[49m\u001b[43m \u001b[49m\u001b[38;5;241;43m=\u001b[39;49m\u001b[43m \u001b[49m\u001b[43mpadded_length\u001b[49m\u001b[43m,\u001b[49m\n\u001b[0;32m    114\u001b[0m \u001b[43m                                                    \u001b[49m\u001b[43mmax_frequency\u001b[49m\u001b[43m \u001b[49m\u001b[38;5;241;43m=\u001b[39;49m\u001b[43m \u001b[49m\u001b[43mmax_frequency\u001b[49m\u001b[43m,\u001b[49m\u001b[43m \u001b[49m\n\u001b[0;32m    115\u001b[0m \u001b[43m                                                    \u001b[49m\u001b[43mhop_length\u001b[49m\u001b[43m \u001b[49m\u001b[38;5;241;43m=\u001b[39;49m\u001b[43m \u001b[49m\u001b[43mhop_length\u001b[49m\u001b[43m,\u001b[49m\n\u001b[0;32m    116\u001b[0m \u001b[43m                                                    \u001b[49m\u001b[43mn_windows\u001b[49m\u001b[43m \u001b[49m\u001b[38;5;241;43m=\u001b[39;49m\u001b[43m \u001b[49m\u001b[43mn_windows\u001b[49m\u001b[43m)\u001b[49m\n\u001b[0;32m    117\u001b[0m     \u001b[38;5;66;03m#check that rhythm_spectrum_single_file didn't return None. \u001b[39;00m\n\u001b[0;32m    118\u001b[0m     \u001b[38;5;66;03m#this happens if a file is shorter than frame_length. We will simply skip those files. \u001b[39;00m\n\u001b[0;32m    119\u001b[0m     \u001b[38;5;28;01mif\u001b[39;00m \u001b[38;5;129;01mnot\u001b[39;00m rhythm_spectrum \u001b[38;5;129;01mis\u001b[39;00m \u001b[38;5;28;01mNone\u001b[39;00m:\n",
      "File \u001b[1;32mc:\\Users\\tkoch\\anaconda3\\envs\\avn4_install_test\\lib\\site-packages\\avn\\timing.py:201\u001b[0m, in \u001b[0;36mRhythmAnalysis.rhythm_spectrum_single_file\u001b[1;34m(self, song_file_path, frame_length, derivative, padded_length, max_frequency, hop_length, n_windows)\u001b[0m\n\u001b[0;32m    198\u001b[0m \u001b[38;5;66;03m#create a SongInterval object from the current song, and use that to calculate the amplitude\u001b[39;00m\n\u001b[0;32m    199\u001b[0m \u001b[38;5;66;03m#of the window, as SAP does. \u001b[39;00m\n\u001b[0;32m    200\u001b[0m song \u001b[38;5;241m=\u001b[39m acoustics\u001b[38;5;241m.\u001b[39mSongInterval(song)\n\u001b[1;32m--> 201\u001b[0m amplitude \u001b[38;5;241m=\u001b[39m \u001b[43msong\u001b[49m\u001b[38;5;241;43m.\u001b[39;49m\u001b[43mcalc_amplitude\u001b[49m\u001b[43m(\u001b[49m\u001b[43m)\u001b[49m\n\u001b[0;32m    203\u001b[0m \u001b[38;5;66;03m#calculate the rhythm spectrum of the amplitude, and the frequency bands \u001b[39;00m\n\u001b[0;32m    204\u001b[0m     \u001b[38;5;66;03m#corresponding to each value in the rhythm spectrum\u001b[39;00m\n\u001b[0;32m    205\u001b[0m rhythm_spectrum, frequency_bands \u001b[38;5;241m=\u001b[39m \u001b[38;5;28mself\u001b[39m\u001b[38;5;241m.\u001b[39m_rhythm_spectrum_single_window(amplitude\u001b[38;5;241m=\u001b[39mamplitude, \n\u001b[0;32m    206\u001b[0m                                                                 frame_length\u001b[38;5;241m=\u001b[39mframe_length, \n\u001b[0;32m    207\u001b[0m                                                                 derivative\u001b[38;5;241m=\u001b[39mderivative,\n\u001b[0;32m    208\u001b[0m                                                                 padded_length\u001b[38;5;241m=\u001b[39mpadded_length, \n\u001b[0;32m    209\u001b[0m                                                                 max_frequency\u001b[38;5;241m=\u001b[39mmax_frequency)\n",
      "File \u001b[1;32mc:\\Users\\tkoch\\anaconda3\\envs\\avn4_install_test\\lib\\site-packages\\avn\\acoustics.py:269\u001b[0m, in \u001b[0;36mSongInterval.calc_amplitude\u001b[1;34m(self)\u001b[0m\n\u001b[0;32m    261\u001b[0m \u001b[38;5;250m\u001b[39m\u001b[38;5;124;03m\"\"\"Calculates the amplitude of each window in a song interval.\u001b[39;00m\n\u001b[0;32m    262\u001b[0m \n\u001b[0;32m    263\u001b[0m \u001b[38;5;124;03mAmplitude is the volume of a sound in decibels, considering only frequencies above min_frequency.\u001b[39;00m\n\u001b[1;32m   (...)\u001b[0m\n\u001b[0;32m    266\u001b[0m \u001b[38;5;124;03m    np.array: array containing the amplitude of each frame in the song interval in decibels\u001b[39;00m\n\u001b[0;32m    267\u001b[0m \u001b[38;5;124;03m\"\"\"\u001b[39;00m\n\u001b[0;32m    268\u001b[0m \u001b[38;5;28;01mif\u001b[39;00m \u001b[38;5;28mself\u001b[39m\u001b[38;5;241m.\u001b[39mpower_spectra \u001b[38;5;129;01mis\u001b[39;00m \u001b[38;5;28;01mNone\u001b[39;00m:\n\u001b[1;32m--> 269\u001b[0m     \u001b[38;5;28;43mself\u001b[39;49m\u001b[38;5;241;43m.\u001b[39;49m\u001b[43m_get_power_spectra\u001b[49m\u001b[43m(\u001b[49m\u001b[43m)\u001b[49m\n\u001b[0;32m    270\u001b[0m \u001b[38;5;28;01mif\u001b[39;00m \u001b[38;5;28mself\u001b[39m\u001b[38;5;241m.\u001b[39mmax_freq_index \u001b[38;5;129;01mis\u001b[39;00m \u001b[38;5;28;01mNone\u001b[39;00m:\n\u001b[0;32m    271\u001b[0m     \u001b[38;5;28mself\u001b[39m\u001b[38;5;241m.\u001b[39m_get_freq_indices()\n",
      "File \u001b[1;32mc:\\Users\\tkoch\\anaconda3\\envs\\avn4_install_test\\lib\\site-packages\\avn\\acoustics.py:375\u001b[0m, in \u001b[0;36mSongInterval._get_power_spectra\u001b[1;34m(self)\u001b[0m\n\u001b[0;32m    368\u001b[0m \u001b[38;5;250m\u001b[39m\u001b[38;5;124;03m\"\"\"Computes the power spectrum of each window in the song interval.\u001b[39;00m\n\u001b[0;32m    369\u001b[0m \n\u001b[0;32m    370\u001b[0m \u001b[38;5;124;03mThe power spectrum of a signal gives the distribution of power across frequency bands of that\u001b[39;00m\n\u001b[0;32m    371\u001b[0m \u001b[38;5;124;03msignal. It is necessary to compute mean frequency, frequency modulation, weiner entropy, etc.\u001b[39;00m\n\u001b[0;32m    372\u001b[0m \n\u001b[0;32m    373\u001b[0m \u001b[38;5;124;03m\"\"\"\u001b[39;00m\n\u001b[0;32m    374\u001b[0m \u001b[38;5;28;01mif\u001b[39;00m \u001b[38;5;28mself\u001b[39m\u001b[38;5;241m.\u001b[39mspectra1 \u001b[38;5;129;01mis\u001b[39;00m \u001b[38;5;28;01mNone\u001b[39;00m:\n\u001b[1;32m--> 375\u001b[0m     \u001b[38;5;28;43mself\u001b[39;49m\u001b[38;5;241;43m.\u001b[39;49m\u001b[43m_get_spectra\u001b[49m\u001b[43m(\u001b[49m\u001b[43m)\u001b[49m\n\u001b[0;32m    376\u001b[0m \u001b[38;5;66;03m#initialize empty array to hold power spectrum for each frame\u001b[39;00m\n\u001b[0;32m    377\u001b[0m power_spectra \u001b[38;5;241m=\u001b[39m np\u001b[38;5;241m.\u001b[39mzeros((\u001b[38;5;28mlen\u001b[39m(\u001b[38;5;28mself\u001b[39m\u001b[38;5;241m.\u001b[39mwindows), \u001b[38;5;28mself\u001b[39m\u001b[38;5;241m.\u001b[39mn_fft))\n",
      "File \u001b[1;32mc:\\Users\\tkoch\\anaconda3\\envs\\avn4_install_test\\lib\\site-packages\\avn\\acoustics.py:338\u001b[0m, in \u001b[0;36mSongInterval._get_spectra\u001b[1;34m(self)\u001b[0m\n\u001b[0;32m    336\u001b[0m \u001b[38;5;66;03m#compute spectrum for each window\u001b[39;00m\n\u001b[0;32m    337\u001b[0m \u001b[38;5;28;01mfor\u001b[39;00m i \u001b[38;5;129;01min\u001b[39;00m \u001b[38;5;28mrange\u001b[39m(\u001b[38;5;28mlen\u001b[39m(\u001b[38;5;28mself\u001b[39m\u001b[38;5;241m.\u001b[39mwindows)):\n\u001b[1;32m--> 338\u001b[0m     spect1 \u001b[38;5;241m=\u001b[39m \u001b[43mnp\u001b[49m\u001b[38;5;241;43m.\u001b[39;49m\u001b[43mfft\u001b[49m\u001b[38;5;241;43m.\u001b[39;49m\u001b[43mfft\u001b[49m\u001b[43m(\u001b[49m\u001b[38;5;28;43mself\u001b[39;49m\u001b[38;5;241;43m.\u001b[39;49m\u001b[43mwindows1\u001b[49m\u001b[43m[\u001b[49m\u001b[43mi\u001b[49m\u001b[43m]\u001b[49m\u001b[43m,\u001b[49m\u001b[43m \u001b[49m\u001b[43mn\u001b[49m\u001b[43m \u001b[49m\u001b[38;5;241;43m=\u001b[39;49m\u001b[43m \u001b[49m\u001b[38;5;28;43mself\u001b[39;49m\u001b[38;5;241;43m.\u001b[39;49m\u001b[43mn_fft\u001b[49m\u001b[43m)\u001b[49m\n\u001b[0;32m    339\u001b[0m     spect2 \u001b[38;5;241m=\u001b[39m np\u001b[38;5;241m.\u001b[39mfft\u001b[38;5;241m.\u001b[39mfft(\u001b[38;5;28mself\u001b[39m\u001b[38;5;241m.\u001b[39mwindows2[i], n \u001b[38;5;241m=\u001b[39m \u001b[38;5;28mself\u001b[39m\u001b[38;5;241m.\u001b[39mn_fft)\n\u001b[0;32m    340\u001b[0m     spectra1[i] \u001b[38;5;241m=\u001b[39m spect1\n",
      "File \u001b[1;32m<__array_function__ internals>:180\u001b[0m, in \u001b[0;36mfft\u001b[1;34m(*args, **kwargs)\u001b[0m\n",
      "File \u001b[1;32mc:\\Users\\tkoch\\anaconda3\\envs\\avn4_install_test\\lib\\site-packages\\numpy\\fft\\_pocketfft.py:215\u001b[0m, in \u001b[0;36mfft\u001b[1;34m(a, n, axis, norm)\u001b[0m\n\u001b[0;32m    213\u001b[0m     n \u001b[38;5;241m=\u001b[39m a\u001b[38;5;241m.\u001b[39mshape[axis]\n\u001b[0;32m    214\u001b[0m inv_norm \u001b[38;5;241m=\u001b[39m _get_forward_norm(n, norm)\n\u001b[1;32m--> 215\u001b[0m output \u001b[38;5;241m=\u001b[39m \u001b[43m_raw_fft\u001b[49m\u001b[43m(\u001b[49m\u001b[43ma\u001b[49m\u001b[43m,\u001b[49m\u001b[43m \u001b[49m\u001b[43mn\u001b[49m\u001b[43m,\u001b[49m\u001b[43m \u001b[49m\u001b[43maxis\u001b[49m\u001b[43m,\u001b[49m\u001b[43m \u001b[49m\u001b[38;5;28;43;01mFalse\u001b[39;49;00m\u001b[43m,\u001b[49m\u001b[43m \u001b[49m\u001b[38;5;28;43;01mTrue\u001b[39;49;00m\u001b[43m,\u001b[49m\u001b[43m \u001b[49m\u001b[43minv_norm\u001b[49m\u001b[43m)\u001b[49m\n\u001b[0;32m    216\u001b[0m \u001b[38;5;28;01mreturn\u001b[39;00m output\n",
      "File \u001b[1;32mc:\\Users\\tkoch\\anaconda3\\envs\\avn4_install_test\\lib\\site-packages\\numpy\\fft\\_pocketfft.py:70\u001b[0m, in \u001b[0;36m_raw_fft\u001b[1;34m(a, n, axis, is_real, is_forward, inv_norm)\u001b[0m\n\u001b[0;32m     67\u001b[0m         a \u001b[38;5;241m=\u001b[39m z\n\u001b[0;32m     69\u001b[0m \u001b[38;5;28;01mif\u001b[39;00m axis \u001b[38;5;241m==\u001b[39m a\u001b[38;5;241m.\u001b[39mndim\u001b[38;5;241m-\u001b[39m\u001b[38;5;241m1\u001b[39m:\n\u001b[1;32m---> 70\u001b[0m     r \u001b[38;5;241m=\u001b[39m \u001b[43mpfi\u001b[49m\u001b[38;5;241;43m.\u001b[39;49m\u001b[43mexecute\u001b[49m\u001b[43m(\u001b[49m\u001b[43ma\u001b[49m\u001b[43m,\u001b[49m\u001b[43m \u001b[49m\u001b[43mis_real\u001b[49m\u001b[43m,\u001b[49m\u001b[43m \u001b[49m\u001b[43mis_forward\u001b[49m\u001b[43m,\u001b[49m\u001b[43m \u001b[49m\u001b[43mfct\u001b[49m\u001b[43m)\u001b[49m\n\u001b[0;32m     71\u001b[0m \u001b[38;5;28;01melse\u001b[39;00m:\n\u001b[0;32m     72\u001b[0m     a \u001b[38;5;241m=\u001b[39m swapaxes(a, axis, \u001b[38;5;241m-\u001b[39m\u001b[38;5;241m1\u001b[39m)\n",
      "\u001b[1;31mKeyboardInterrupt\u001b[0m: "
     ]
    }
   ],
   "source": [
    "#initialize empty dataframe\n",
    "rhythm_spect_feats = pd.DataFrame()\n",
    "\n",
    "#loop over each bird\n",
    "for Bird_ID in All_Birds:\n",
    "    print(Bird_ID)\n",
    "    #create RhythmAnalysis object\n",
    "    rhythm_analysis = timing.RhythmAnalysis(Bird_ID)\n",
    "    #set path to song files\n",
    "    song_folder_path = 'E:\\\\Final_Bird_Dataset\\\\FP1_project_birds\\\\labeled_songs\\\\' + Bird_ID + \"\\\\\"\n",
    "    #create rhythm spectrogram\n",
    "    rhythm_spectrogram = rhythm_analysis.make_rhythm_spectrogram(song_folder_path = song_folder_path)\n",
    "    #calculate entropy and peak freq cv\n",
    "    entropy = rhythm_analysis.calc_rhythm_spectrogram_entropy()\n",
    "\n",
    "    peak_frequencies = rhythm_analysis.get_refined_peak_frequencies(freq_range=3)\n",
    "    peak_freq_cv = rhythm_analysis.calc_peak_frequency_cv()\n",
    "    #save features in temporary df\n",
    "    curr_df = pd.DataFrame({'Bird_ID' : Bird_ID, \n",
    "                            'rhythm_entropy' : [entropy], \n",
    "                            'peak_freq_cv' : [peak_freq_cv]})\n",
    "    #append to df with all birds. \n",
    "    rhythm_spect_feats = pd.concat([rhythm_spect_feats, curr_df])\n"
   ]
  },
  {
   "cell_type": "code",
   "execution_count": null,
   "metadata": {},
   "outputs": [
    {
     "data": {
      "text/html": [
       "<div>\n",
       "<style scoped>\n",
       "    .dataframe tbody tr th:only-of-type {\n",
       "        vertical-align: middle;\n",
       "    }\n",
       "\n",
       "    .dataframe tbody tr th {\n",
       "        vertical-align: top;\n",
       "    }\n",
       "\n",
       "    .dataframe thead th {\n",
       "        text-align: right;\n",
       "    }\n",
       "</style>\n",
       "<table border=\"1\" class=\"dataframe\">\n",
       "  <thead>\n",
       "    <tr style=\"text-align: right;\">\n",
       "      <th></th>\n",
       "      <th>Bird_ID</th>\n",
       "      <th>rhythm_entropy</th>\n",
       "      <th>peak_freq_cv</th>\n",
       "    </tr>\n",
       "  </thead>\n",
       "  <tbody>\n",
       "    <tr>\n",
       "      <th>0</th>\n",
       "      <td>B145</td>\n",
       "      <td>-0.131574</td>\n",
       "      <td>0.079447</td>\n",
       "    </tr>\n",
       "    <tr>\n",
       "      <th>0</th>\n",
       "      <td>B236</td>\n",
       "      <td>-0.175278</td>\n",
       "      <td>0.072484</td>\n",
       "    </tr>\n",
       "    <tr>\n",
       "      <th>0</th>\n",
       "      <td>B258</td>\n",
       "      <td>-0.468630</td>\n",
       "      <td>0.042943</td>\n",
       "    </tr>\n",
       "  </tbody>\n",
       "</table>\n",
       "</div>"
      ],
      "text/plain": [
       "  Bird_ID  rhythm_entropy  peak_freq_cv\n",
       "0    B145       -0.131574      0.079447\n",
       "0    B236       -0.175278      0.072484\n",
       "0    B258       -0.468630      0.042943"
      ]
     },
     "execution_count": 10,
     "metadata": {},
     "output_type": "execute_result"
    }
   ],
   "source": [
    "rhythm_spect_feats.head(3)"
   ]
  },
  {
   "cell_type": "code",
   "execution_count": null,
   "metadata": {},
   "outputs": [],
   "source": [
    "rhythm_spect_feats.to_csv('adult_rhythm_spectrum_features.csv')"
   ]
  },
  {
   "cell_type": "markdown",
   "metadata": {},
   "source": [
    "## Juvenile Birds"
   ]
  },
  {
   "cell_type": "code",
   "execution_count": null,
   "metadata": {},
   "outputs": [
    {
     "data": {
      "text/plain": [
       "['Y855_51',\n",
       " 'S856_51',\n",
       " 'Y856_50',\n",
       " 'S855_51',\n",
       " 'S833_51',\n",
       " 'O833_51',\n",
       " 'notag833_51',\n",
       " 'O883_51',\n",
       " 'R833_51',\n",
       " 'O472_50',\n",
       " 'Y472_50']"
      ]
     },
     "execution_count": 14,
     "metadata": {},
     "output_type": "execute_result"
    }
   ],
   "source": [
    "all_birds = glob.glob('E:\\\\Juveniles\\\\Single_day_per_juvenile\\\\*')\n",
    "all_birds = [x.split('\\\\')[-1] for x in all_birds]\n",
    "all_birds"
   ]
  },
  {
   "cell_type": "code",
   "execution_count": null,
   "metadata": {},
   "outputs": [
    {
     "name": "stdout",
     "output_type": "stream",
     "text": [
      "Y855_51\n",
      "S856_51\n",
      "file is too short for the specified frame_length, n_windows and hop_length. File will be skipped.\n",
      "file is too short for the specified frame_length, n_windows and hop_length. File will be skipped.\n",
      "file is too short for the specified frame_length, n_windows and hop_length. File will be skipped.\n",
      "file is too short for the specified frame_length, n_windows and hop_length. File will be skipped.\n",
      "file is too short for the specified frame_length, n_windows and hop_length. File will be skipped.\n",
      "Y856_50\n",
      "S855_51\n",
      "file is too short for the specified frame_length, n_windows and hop_length. File will be skipped.\n",
      "S833_51\n",
      "file is too short for the specified frame_length, n_windows and hop_length. File will be skipped.\n",
      "file is too short for the specified frame_length, n_windows and hop_length. File will be skipped.\n",
      "file is too short for the specified frame_length, n_windows and hop_length. File will be skipped.\n",
      "file is too short for the specified frame_length, n_windows and hop_length. File will be skipped.\n",
      "file is too short for the specified frame_length, n_windows and hop_length. File will be skipped.\n",
      "file is too short for the specified frame_length, n_windows and hop_length. File will be skipped.\n",
      "O833_51\n",
      "file is too short for the specified frame_length, n_windows and hop_length. File will be skipped.\n",
      "file is too short for the specified frame_length, n_windows and hop_length. File will be skipped.\n",
      "notag833_51\n",
      "O883_51\n",
      "R833_51\n",
      "file is too short for the specified frame_length, n_windows and hop_length. File will be skipped.\n",
      "file is too short for the specified frame_length, n_windows and hop_length. File will be skipped.\n",
      "file is too short for the specified frame_length, n_windows and hop_length. File will be skipped.\n",
      "O472_50\n",
      "file is too short for the specified frame_length, n_windows and hop_length. File will be skipped.\n",
      "file is too short for the specified frame_length, n_windows and hop_length. File will be skipped.\n",
      "file is too short for the specified frame_length, n_windows and hop_length. File will be skipped.\n",
      "file is too short for the specified frame_length, n_windows and hop_length. File will be skipped.\n",
      "file is too short for the specified frame_length, n_windows and hop_length. File will be skipped.\n",
      "file is too short for the specified frame_length, n_windows and hop_length. File will be skipped.\n",
      "file is too short for the specified frame_length, n_windows and hop_length. File will be skipped.\n",
      "file is too short for the specified frame_length, n_windows and hop_length. File will be skipped.\n",
      "file is too short for the specified frame_length, n_windows and hop_length. File will be skipped.\n",
      "file is too short for the specified frame_length, n_windows and hop_length. File will be skipped.\n",
      "file is too short for the specified frame_length, n_windows and hop_length. File will be skipped.\n",
      "Y472_50\n",
      "file is too short for the specified frame_length, n_windows and hop_length. File will be skipped.\n",
      "file is too short for the specified frame_length, n_windows and hop_length. File will be skipped.\n",
      "file is too short for the specified frame_length, n_windows and hop_length. File will be skipped.\n",
      "file is too short for the specified frame_length, n_windows and hop_length. File will be skipped.\n",
      "file is too short for the specified frame_length, n_windows and hop_length. File will be skipped.\n",
      "file is too short for the specified frame_length, n_windows and hop_length. File will be skipped.\n",
      "file is too short for the specified frame_length, n_windows and hop_length. File will be skipped.\n"
     ]
    }
   ],
   "source": [
    "#initialize empty dataframe\n",
    "rhythm_spect_feats = pd.DataFrame()\n",
    "\n",
    "#loop over each bird\n",
    "for Bird_ID in all_birds:\n",
    "    print(Bird_ID)\n",
    "    #create RhythmAnalysis object\n",
    "    rhythm_analysis = timing.RhythmAnalysis(Bird_ID)\n",
    "    #set path to song files\n",
    "    song_folder_path = 'E:\\\\Juveniles\\\\Single_day_per_juvenile\\\\' + Bird_ID + \"\\\\\"\n",
    "    #create rhythm spectrogram\n",
    "    rhythm_spectrogram = rhythm_analysis.make_rhythm_spectrogram(song_folder_path = song_folder_path)\n",
    "    #calculate entropy and peak freq cv\n",
    "    entropy = rhythm_analysis.calc_rhythm_spectrogram_entropy()\n",
    "\n",
    "    peak_frequencies = rhythm_analysis.get_refined_peak_frequencies(freq_range=3)\n",
    "    peak_freq_cv = rhythm_analysis.calc_peak_frequency_cv()\n",
    "    #save features in temporary df\n",
    "    curr_df = pd.DataFrame({'Bird_ID' : Bird_ID, \n",
    "                            'rhythm_entropy' : [entropy], \n",
    "                            'peak_freq_cv' : [peak_freq_cv]})\n",
    "    #append to df with all birds. \n",
    "    rhythm_spect_feats = pd.concat([rhythm_spect_feats, curr_df])\n"
   ]
  },
  {
   "cell_type": "code",
   "execution_count": null,
   "metadata": {},
   "outputs": [
    {
     "data": {
      "text/html": [
       "<div>\n",
       "<style scoped>\n",
       "    .dataframe tbody tr th:only-of-type {\n",
       "        vertical-align: middle;\n",
       "    }\n",
       "\n",
       "    .dataframe tbody tr th {\n",
       "        vertical-align: top;\n",
       "    }\n",
       "\n",
       "    .dataframe thead th {\n",
       "        text-align: right;\n",
       "    }\n",
       "</style>\n",
       "<table border=\"1\" class=\"dataframe\">\n",
       "  <thead>\n",
       "    <tr style=\"text-align: right;\">\n",
       "      <th></th>\n",
       "      <th>Bird_ID</th>\n",
       "      <th>rhythm_entropy</th>\n",
       "      <th>peak_freq_cv</th>\n",
       "    </tr>\n",
       "  </thead>\n",
       "  <tbody>\n",
       "    <tr>\n",
       "      <th>0</th>\n",
       "      <td>Y855_51</td>\n",
       "      <td>-0.183136</td>\n",
       "      <td>0.092551</td>\n",
       "    </tr>\n",
       "    <tr>\n",
       "      <th>0</th>\n",
       "      <td>S856_51</td>\n",
       "      <td>-0.113872</td>\n",
       "      <td>0.046261</td>\n",
       "    </tr>\n",
       "    <tr>\n",
       "      <th>0</th>\n",
       "      <td>Y856_50</td>\n",
       "      <td>-0.211456</td>\n",
       "      <td>0.089261</td>\n",
       "    </tr>\n",
       "  </tbody>\n",
       "</table>\n",
       "</div>"
      ],
      "text/plain": [
       "   Bird_ID  rhythm_entropy  peak_freq_cv\n",
       "0  Y855_51       -0.183136      0.092551\n",
       "0  S856_51       -0.113872      0.046261\n",
       "0  Y856_50       -0.211456      0.089261"
      ]
     },
     "execution_count": 17,
     "metadata": {},
     "output_type": "execute_result"
    }
   ],
   "source": [
    "rhythm_spect_feats.head(3)"
   ]
  },
  {
   "cell_type": "code",
   "execution_count": null,
   "metadata": {},
   "outputs": [],
   "source": [
    "rhythm_spect_feats.to_csv('juvenile_rhythm_spectrum_features.csv')"
   ]
  },
  {
   "cell_type": "markdown",
   "metadata": {},
   "source": [
    "## Comparing Groups"
   ]
  },
  {
   "cell_type": "code",
   "execution_count": 4,
   "metadata": {},
   "outputs": [],
   "source": [
    "adult = pd.read_csv('adult_rhythm_spectrum_features.csv').drop(columns = 'Unnamed: 0')\n",
    "adult = adult[adult.Bird_ID != 'S389']\n",
    "all_birds = pd.read_csv(\"E:\\\\Final_Bird_Dataset\\\\old_Bird_list.csv\")\n",
    "adult = pd.merge(adult, all_birds[['Bird_ID', 'Condition']], on = 'Bird_ID')\n",
    "\n",
    "group_dict = {'Isolate' : 'Isolate Adult', \n",
    "              'GFP' : 'Typical Adult', \n",
    "              'FP1_KD_pre_tut' : 'FP1 KD Adult', \n",
    "              'FP1_KD_post_tut' : 'Typical Adult'}\n",
    "adult['Group'] = [group_dict[x] for x in adult.Condition]"
   ]
  },
  {
   "cell_type": "code",
   "execution_count": 5,
   "metadata": {},
   "outputs": [],
   "source": [
    "juvenile = pd.read_csv('juvenile_rhythm_spectrum_features.csv').drop(columns = 'Unnamed: 0')\n",
    "juvenile['Group'] = 'Juvenile'"
   ]
  },
  {
   "cell_type": "code",
   "execution_count": 6,
   "metadata": {},
   "outputs": [],
   "source": [
    "all_rhythm_feats = pd.concat([adult[['Bird_ID', 'Group', 'rhythm_entropy', 'peak_freq_cv']], juvenile])"
   ]
  },
  {
   "cell_type": "code",
   "execution_count": 7,
   "metadata": {},
   "outputs": [
    {
     "data": {
      "text/html": [
       "<div>\n",
       "<style scoped>\n",
       "    .dataframe tbody tr th:only-of-type {\n",
       "        vertical-align: middle;\n",
       "    }\n",
       "\n",
       "    .dataframe tbody tr th {\n",
       "        vertical-align: top;\n",
       "    }\n",
       "\n",
       "    .dataframe thead th {\n",
       "        text-align: right;\n",
       "    }\n",
       "</style>\n",
       "<table border=\"1\" class=\"dataframe\">\n",
       "  <thead>\n",
       "    <tr style=\"text-align: right;\">\n",
       "      <th></th>\n",
       "      <th>Bird_ID</th>\n",
       "      <th>Group</th>\n",
       "      <th>rhythm_entropy</th>\n",
       "      <th>peak_freq_cv</th>\n",
       "    </tr>\n",
       "  </thead>\n",
       "  <tbody>\n",
       "    <tr>\n",
       "      <th>0</th>\n",
       "      <td>B145</td>\n",
       "      <td>Isolate Adult</td>\n",
       "      <td>-0.131574</td>\n",
       "      <td>0.079447</td>\n",
       "    </tr>\n",
       "    <tr>\n",
       "      <th>1</th>\n",
       "      <td>B236</td>\n",
       "      <td>Isolate Adult</td>\n",
       "      <td>-0.175278</td>\n",
       "      <td>0.072484</td>\n",
       "    </tr>\n",
       "    <tr>\n",
       "      <th>2</th>\n",
       "      <td>B258</td>\n",
       "      <td>Isolate Adult</td>\n",
       "      <td>-0.468630</td>\n",
       "      <td>0.042943</td>\n",
       "    </tr>\n",
       "    <tr>\n",
       "      <th>3</th>\n",
       "      <td>B385</td>\n",
       "      <td>Typical Adult</td>\n",
       "      <td>-0.268079</td>\n",
       "      <td>0.097509</td>\n",
       "    </tr>\n",
       "    <tr>\n",
       "      <th>4</th>\n",
       "      <td>B402</td>\n",
       "      <td>FP1 KD Adult</td>\n",
       "      <td>-0.297027</td>\n",
       "      <td>0.112586</td>\n",
       "    </tr>\n",
       "  </tbody>\n",
       "</table>\n",
       "</div>"
      ],
      "text/plain": [
       "  Bird_ID          Group  rhythm_entropy  peak_freq_cv\n",
       "0    B145  Isolate Adult       -0.131574      0.079447\n",
       "1    B236  Isolate Adult       -0.175278      0.072484\n",
       "2    B258  Isolate Adult       -0.468630      0.042943\n",
       "3    B385  Typical Adult       -0.268079      0.097509\n",
       "4    B402   FP1 KD Adult       -0.297027      0.112586"
      ]
     },
     "execution_count": 7,
     "metadata": {},
     "output_type": "execute_result"
    }
   ],
   "source": [
    "all_rhythm_feats.head()"
   ]
  },
  {
   "cell_type": "code",
   "execution_count": 8,
   "metadata": {},
   "outputs": [],
   "source": [
    "all_rhythm_feats.Group = all_rhythm_feats.Group.astype('category').cat.set_categories(['Typical Adult', 'Isolate Adult', 'FP1 KD Adult', 'Juvenile'], ordered = True)"
   ]
  },
  {
   "cell_type": "markdown",
   "metadata": {},
   "source": [
    "### Rhythm Spectrum Entropy"
   ]
  },
  {
   "cell_type": "code",
   "execution_count": null,
   "metadata": {},
   "outputs": [],
   "source": [
    "plt.rcParams.update({'font.size': 11})"
   ]
  },
  {
   "cell_type": "code",
   "execution_count": null,
   "metadata": {},
   "outputs": [
    {
     "data": {
      "text/plain": [
       "(-0.8, 0.0999)"
      ]
     },
     "execution_count": 16,
     "metadata": {},
     "output_type": "execute_result"
    },
    {
     "data": {
      "image/png": "[encoded data removed]",
      "text/plain": [
       "<Figure size 600x400 with 1 Axes>"
      ]
     },
     "metadata": {},
     "output_type": "display_data"
    }
   ],
   "source": [
    "plt.figure(figsize = (6, 4))\n",
    "sns.boxplot(data = all_rhythm_feats, x = 'Group', y = 'rhythm_entropy', color = '0.8')\n",
    "sns.swarmplot(data = all_rhythm_feats, x = 'Group', y = 'rhythm_entropy', color = 'black', s = 5)\n",
    "plt.ylabel('Rhythm Spectrum Entropy')\n",
    "plt.title('Rhythm Spectrum Entropy')\n",
    "plt.ylim(-0.8, 0.0999)"
   ]
  },
  {
   "cell_type": "code",
   "execution_count": null,
   "metadata": {},
   "outputs": [
    {
     "data": {
      "text/html": [
       "<div>\n",
       "<style scoped>\n",
       "    .dataframe tbody tr th:only-of-type {\n",
       "        vertical-align: middle;\n",
       "    }\n",
       "\n",
       "    .dataframe tbody tr th {\n",
       "        vertical-align: top;\n",
       "    }\n",
       "\n",
       "    .dataframe thead th {\n",
       "        text-align: right;\n",
       "    }\n",
       "</style>\n",
       "<table border=\"1\" class=\"dataframe\">\n",
       "  <thead>\n",
       "    <tr style=\"text-align: right;\">\n",
       "      <th></th>\n",
       "      <th>Bird_ID</th>\n",
       "      <th>rhythm_entropy</th>\n",
       "      <th>peak_freq_cv</th>\n",
       "    </tr>\n",
       "    <tr>\n",
       "      <th>Group</th>\n",
       "      <th></th>\n",
       "      <th></th>\n",
       "      <th></th>\n",
       "    </tr>\n",
       "  </thead>\n",
       "  <tbody>\n",
       "    <tr>\n",
       "      <th>Typical Adult</th>\n",
       "      <td>20</td>\n",
       "      <td>20</td>\n",
       "      <td>20</td>\n",
       "    </tr>\n",
       "    <tr>\n",
       "      <th>Isolate Adult</th>\n",
       "      <td>8</td>\n",
       "      <td>8</td>\n",
       "      <td>8</td>\n",
       "    </tr>\n",
       "    <tr>\n",
       "      <th>FP1 KD Adult</th>\n",
       "      <td>7</td>\n",
       "      <td>7</td>\n",
       "      <td>7</td>\n",
       "    </tr>\n",
       "    <tr>\n",
       "      <th>Juvenile</th>\n",
       "      <td>11</td>\n",
       "      <td>11</td>\n",
       "      <td>11</td>\n",
       "    </tr>\n",
       "  </tbody>\n",
       "</table>\n",
       "</div>"
      ],
      "text/plain": [
       "               Bird_ID  rhythm_entropy  peak_freq_cv\n",
       "Group                                               \n",
       "Typical Adult       20              20            20\n",
       "Isolate Adult        8               8             8\n",
       "FP1 KD Adult         7               7             7\n",
       "Juvenile            11              11            11"
      ]
     },
     "execution_count": 18,
     "metadata": {},
     "output_type": "execute_result"
    }
   ],
   "source": [
    "all_rhythm_feats.groupby('Group').count()"
   ]
  },
  {
   "cell_type": "code",
   "execution_count": null,
   "metadata": {},
   "outputs": [],
   "source": [
    "from scipy.stats import f_oneway\n",
    "from statsmodels.stats.multicomp import pairwise_tukeyhsd"
   ]
  },
  {
   "cell_type": "code",
   "execution_count": null,
   "metadata": {},
   "outputs": [],
   "source": [
    "isolates_AVN = all_rhythm_feats.rhythm_entropy[all_rhythm_feats.Group== 'Isolate Adult']\n",
    "normal_AVN = all_rhythm_feats.rhythm_entropy[all_rhythm_feats.Group == 'Typical Adult']\n",
    "FP1_AVN = all_rhythm_feats.rhythm_entropy[all_rhythm_feats.Group == 'FP1 KD Adult']\n",
    "juvenile_AVN = all_rhythm_feats.rhythm_entropy[all_rhythm_feats.Group == 'Juvenile']"
   ]
  },
  {
   "cell_type": "code",
   "execution_count": null,
   "metadata": {},
   "outputs": [
    {
     "name": "stdout",
     "output_type": "stream",
     "text": [
      "16.995583093734815 2.2388716441345132e-07\n"
     ]
    }
   ],
   "source": [
    "fvalue, pvalue = f_oneway(isolates_AVN, normal_AVN, FP1_AVN, juvenile_AVN)\n",
    "print(fvalue, pvalue)"
   ]
  },
  {
   "cell_type": "code",
   "execution_count": null,
   "metadata": {},
   "outputs": [
    {
     "name": "stdout",
     "output_type": "stream",
     "text": [
      "       Multiple Comparison of Means - Tukey HSD, FWER=0.05        \n",
      "==================================================================\n",
      "    group1        group2    meandiff p-adj   lower   upper  reject\n",
      "------------------------------------------------------------------\n",
      " FP1 KD Adult Isolate Adult   -0.025 0.9629  -0.164   0.114  False\n",
      " FP1 KD Adult      Juvenile   0.0896 0.2673 -0.0403  0.2195  False\n",
      " FP1 KD Adult Typical Adult  -0.1681 0.0024 -0.2861 -0.0502   True\n",
      "Isolate Adult      Juvenile   0.1146 0.0822 -0.0103  0.2394  False\n",
      "Isolate Adult Typical Adult  -0.1431 0.0077 -0.2555 -0.0308   True\n",
      "     Juvenile Typical Adult  -0.2577    0.0 -0.3586 -0.1569   True\n",
      "------------------------------------------------------------------\n"
     ]
    }
   ],
   "source": [
    "tukey = pairwise_tukeyhsd(endog = all_rhythm_feats['rhythm_entropy'], \n",
    "                          groups = all_rhythm_feats['Group'], \n",
    "                          alpha = 0.05)\n",
    "\n",
    "print(tukey)"
   ]
  },
  {
   "cell_type": "markdown",
   "metadata": {},
   "source": [
    "### CV Peak Frequency"
   ]
  },
  {
   "cell_type": "code",
   "execution_count": 9,
   "metadata": {},
   "outputs": [
    {
     "data": {
      "text/html": [
       "<div>\n",
       "<style scoped>\n",
       "    .dataframe tbody tr th:only-of-type {\n",
       "        vertical-align: middle;\n",
       "    }\n",
       "\n",
       "    .dataframe tbody tr th {\n",
       "        vertical-align: top;\n",
       "    }\n",
       "\n",
       "    .dataframe thead th {\n",
       "        text-align: right;\n",
       "    }\n",
       "</style>\n",
       "<table border=\"1\" class=\"dataframe\">\n",
       "  <thead>\n",
       "    <tr style=\"text-align: right;\">\n",
       "      <th></th>\n",
       "      <th>Bird_ID</th>\n",
       "      <th>Group</th>\n",
       "      <th>rhythm_entropy</th>\n",
       "      <th>peak_freq_cv</th>\n",
       "    </tr>\n",
       "  </thead>\n",
       "  <tbody>\n",
       "    <tr>\n",
       "      <th>0</th>\n",
       "      <td>B145</td>\n",
       "      <td>Isolate Adult</td>\n",
       "      <td>-0.131574</td>\n",
       "      <td>0.079447</td>\n",
       "    </tr>\n",
       "    <tr>\n",
       "      <th>1</th>\n",
       "      <td>B236</td>\n",
       "      <td>Isolate Adult</td>\n",
       "      <td>-0.175278</td>\n",
       "      <td>0.072484</td>\n",
       "    </tr>\n",
       "  </tbody>\n",
       "</table>\n",
       "</div>"
      ],
      "text/plain": [
       "  Bird_ID          Group  rhythm_entropy  peak_freq_cv\n",
       "0    B145  Isolate Adult       -0.131574      0.079447\n",
       "1    B236  Isolate Adult       -0.175278      0.072484"
      ]
     },
     "execution_count": 9,
     "metadata": {},
     "output_type": "execute_result"
    }
   ],
   "source": [
    "all_rhythm_feats.head(2)"
   ]
  },
  {
   "cell_type": "code",
   "execution_count": 13,
   "metadata": {},
   "outputs": [
    {
     "data": {
      "text/plain": [
       "(0.01, 0.16)"
      ]
     },
     "execution_count": 13,
     "metadata": {},
     "output_type": "execute_result"
    },
    {
     "data": {
      "image/png": "[encoded data removed]",
      "text/plain": [
       "<Figure size 600x400 with 1 Axes>"
      ]
     },
     "metadata": {},
     "output_type": "display_data"
    }
   ],
   "source": [
    "plt.figure(figsize = (6, 4))\n",
    "sns.boxplot(data = all_rhythm_feats, x = 'Group', y = 'peak_freq_cv', color = '0.8')\n",
    "sns.swarmplot(data = all_rhythm_feats, x = 'Group', y = 'peak_freq_cv', color = 'black', s = 5)\n",
    "plt.ylabel('Rhythm Spectrogram Peak Frequency CV')\n",
    "plt.title('Rhythm Spectrogram Peak Frequency CVs')\n",
    "plt.ylim(0.01, 0.16)"
   ]
  },
  {
   "cell_type": "code",
   "execution_count": null,
   "metadata": {},
   "outputs": [],
   "source": [
    "from scipy.stats import f_oneway\n",
    "from statsmodels.stats.multicomp import pairwise_tukeyhsd"
   ]
  },
  {
   "cell_type": "code",
   "execution_count": null,
   "metadata": {},
   "outputs": [],
   "source": [
    "isolates_AVN = all_rhythm_feats.peak_freq_cv[all_rhythm_feats.Group== 'Isolate Adult']\n",
    "normal_AVN = all_rhythm_feats.peak_freq_cv[all_rhythm_feats.Group == 'Typical Adult']\n",
    "FP1_AVN = all_rhythm_feats.peak_freq_cv[all_rhythm_feats.Group == 'FP1 KD Adult']\n",
    "juvenile_AVN = all_rhythm_feats.peak_freq_cv[all_rhythm_feats.Group == 'Juvenile']"
   ]
  },
  {
   "cell_type": "code",
   "execution_count": null,
   "metadata": {},
   "outputs": [
    {
     "name": "stdout",
     "output_type": "stream",
     "text": [
      "8.257088478633 0.00019661309791088643\n"
     ]
    }
   ],
   "source": [
    "fvalue, pvalue = f_oneway(isolates_AVN, normal_AVN, FP1_AVN, juvenile_AVN)\n",
    "print(fvalue, pvalue)"
   ]
  },
  {
   "cell_type": "code",
   "execution_count": null,
   "metadata": {},
   "outputs": [
    {
     "name": "stdout",
     "output_type": "stream",
     "text": [
      "       Multiple Comparison of Means - Tukey HSD, FWER=0.05        \n",
      "==================================================================\n",
      "    group1        group2    meandiff p-adj   lower   upper  reject\n",
      "------------------------------------------------------------------\n",
      " FP1 KD Adult Isolate Adult  -0.0234 0.1998 -0.0545  0.0077  False\n",
      " FP1 KD Adult      Juvenile   -0.014 0.5724 -0.0431   0.015  False\n",
      " FP1 KD Adult Typical Adult  -0.0435 0.0004 -0.0699 -0.0171   True\n",
      "Isolate Adult      Juvenile   0.0094 0.8069 -0.0186  0.0373  False\n",
      "Isolate Adult Typical Adult  -0.0201 0.1565 -0.0453   0.005  False\n",
      "     Juvenile Typical Adult  -0.0295  0.006 -0.0521 -0.0069   True\n",
      "------------------------------------------------------------------\n"
     ]
    }
   ],
   "source": [
    "tukey = pairwise_tukeyhsd(endog = all_rhythm_feats['peak_freq_cv'], \n",
    "                          groups = all_rhythm_feats['Group'], \n",
    "                          alpha = 0.05)\n",
    "\n",
    "print(tukey)"
   ]
  },
  {
   "cell_type": "code",
   "execution_count": null,
   "metadata": {},
   "outputs": [],
   "source": []
  }
 ],
 "metadata": {
  "kernelspec": {
   "display_name": "avn4_install_test",
   "language": "python",
   "name": "python3"
  },
  "language_info": {
   "codemirror_mode": {
    "name": "ipython",
    "version": 3
   },
   "file_extension": ".py",
   "mimetype": "text/x-python",
   "name": "python",
   "nbconvert_exporter": "python",
   "pygments_lexer": "ipython3",
   "version": "3.8.19"
  }
 },
 "nbformat": 4,
 "nbformat_minor": 2
}
