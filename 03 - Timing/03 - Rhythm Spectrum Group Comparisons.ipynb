{
 "cells": [
  {
   "cell_type": "markdown",
   "metadata": {},
   "source": [
    "# 03 - Rhythm Spectrum Entropy across Groups"
   ]
  },
  {
   "cell_type": "markdown",
   "metadata": {},
   "source": [
    "## Imports"
   ]
  },
  {
   "cell_type": "code",
   "execution_count": 1,
   "metadata": {},
   "outputs": [],
   "source": [
    "import avn.timing as timing\n",
    "import numpy as np\n",
    "import pandas as pd\n",
    "import seaborn as sns\n",
    "import matplotlib.pyplot as plt\n",
    "import glob"
   ]
  },
  {
   "cell_type": "markdown",
   "metadata": {},
   "source": [
    "## Adult Birds"
   ]
  },
  {
   "cell_type": "code",
   "execution_count": 3,
   "metadata": {},
   "outputs": [
    {
     "data": {
      "text/plain": [
       "36"
      ]
     },
     "execution_count": 3,
     "metadata": {},
     "output_type": "execute_result"
    }
   ],
   "source": [
    "All_Birds = [\"B145\", \"B236\", \"B258\", \"B385\", \"B402\", \"B447\", \n",
    "             \"B507\", \"G255\", \"G397\", \"G402\", \"G413\", \"G437\", \n",
    "             \"G439\", \"G524\", \"G528\", \"O144\", \"O254\", \"O421\", \n",
    "             \"O440\", \"O512\", \"R402\", \"R425\", \"R469\", \"S132\", \n",
    "             \"S421\", \"S525\", \"S528\", \"Y389\", \"Y397\", \"Y425\", \n",
    "             \"Y440\", \"B524\", \"O434\", \"S389\", \"Y433\", \"Y453\"] \n",
    "\n",
    "#All_Birds should contain 36 bird IDs. Check: \n",
    "len(All_Birds)"
   ]
  },
  {
   "cell_type": "markdown",
   "metadata": {},
   "source": [
    "### Calculate Rhythm Spectrum Entropy and CV peak freq"
   ]
  },
  {
   "cell_type": "code",
   "execution_count": 8,
   "metadata": {},
   "outputs": [
    {
     "name": "stdout",
     "output_type": "stream",
     "text": [
      "B145\n",
      "file is too short for the specified frame_length, n_windows and hop_length. File will be skipped.\n",
      "file is too short for the specified frame_length, n_windows and hop_length. File will be skipped.\n",
      "file is too short for the specified frame_length, n_windows and hop_length. File will be skipped.\n",
      "file is too short for the specified frame_length, n_windows and hop_length. File will be skipped.\n",
      "file is too short for the specified frame_length, n_windows and hop_length. File will be skipped.\n",
      "file is too short for the specified frame_length, n_windows and hop_length. File will be skipped.\n",
      "B236\n",
      "file is too short for the specified frame_length, n_windows and hop_length. File will be skipped.\n",
      "B258\n",
      "file is too short for the specified frame_length, n_windows and hop_length. File will be skipped.\n",
      "file is too short for the specified frame_length, n_windows and hop_length. File will be skipped.\n",
      "file is too short for the specified frame_length, n_windows and hop_length. File will be skipped.\n",
      "file is too short for the specified frame_length, n_windows and hop_length. File will be skipped.\n",
      "file is too short for the specified frame_length, n_windows and hop_length. File will be skipped.\n",
      "file is too short for the specified frame_length, n_windows and hop_length. File will be skipped.\n",
      "file is too short for the specified frame_length, n_windows and hop_length. File will be skipped.\n",
      "B385\n",
      "file is too short for the specified frame_length, n_windows and hop_length. File will be skipped.\n",
      "file is too short for the specified frame_length, n_windows and hop_length. File will be skipped.\n",
      "file is too short for the specified frame_length, n_windows and hop_length. File will be skipped.\n",
      "file is too short for the specified frame_length, n_windows and hop_length. File will be skipped.\n",
      "file is too short for the specified frame_length, n_windows and hop_length. File will be skipped.\n",
      "B402\n",
      "file is too short for the specified frame_length, n_windows and hop_length. File will be skipped.\n",
      "B447\n",
      "file is too short for the specified frame_length, n_windows and hop_length. File will be skipped.\n",
      "B507\n",
      "file is too short for the specified frame_length, n_windows and hop_length. File will be skipped.\n",
      "file is too short for the specified frame_length, n_windows and hop_length. File will be skipped.\n",
      "file is too short for the specified frame_length, n_windows and hop_length. File will be skipped.\n",
      "file is too short for the specified frame_length, n_windows and hop_length. File will be skipped.\n",
      "file is too short for the specified frame_length, n_windows and hop_length. File will be skipped.\n",
      "file is too short for the specified frame_length, n_windows and hop_length. File will be skipped.\n",
      "G255\n",
      "file is too short for the specified frame_length, n_windows and hop_length. File will be skipped.\n",
      "file is too short for the specified frame_length, n_windows and hop_length. File will be skipped.\n",
      "file is too short for the specified frame_length, n_windows and hop_length. File will be skipped.\n",
      "file is too short for the specified frame_length, n_windows and hop_length. File will be skipped.\n",
      "file is too short for the specified frame_length, n_windows and hop_length. File will be skipped.\n",
      "G397\n",
      "G402\n",
      "file is too short for the specified frame_length, n_windows and hop_length. File will be skipped.\n",
      "file is too short for the specified frame_length, n_windows and hop_length. File will be skipped.\n",
      "file is too short for the specified frame_length, n_windows and hop_length. File will be skipped.\n",
      "file is too short for the specified frame_length, n_windows and hop_length. File will be skipped.\n",
      "file is too short for the specified frame_length, n_windows and hop_length. File will be skipped.\n",
      "file is too short for the specified frame_length, n_windows and hop_length. File will be skipped.\n",
      "file is too short for the specified frame_length, n_windows and hop_length. File will be skipped.\n",
      "file is too short for the specified frame_length, n_windows and hop_length. File will be skipped.\n",
      "G413\n",
      "G437\n",
      "file is too short for the specified frame_length, n_windows and hop_length. File will be skipped.\n",
      "file is too short for the specified frame_length, n_windows and hop_length. File will be skipped.\n",
      "file is too short for the specified frame_length, n_windows and hop_length. File will be skipped.\n",
      "G439\n",
      "file is too short for the specified frame_length, n_windows and hop_length. File will be skipped.\n",
      "G524\n",
      "file is too short for the specified frame_length, n_windows and hop_length. File will be skipped.\n",
      "file is too short for the specified frame_length, n_windows and hop_length. File will be skipped.\n",
      "file is too short for the specified frame_length, n_windows and hop_length. File will be skipped.\n",
      "file is too short for the specified frame_length, n_windows and hop_length. File will be skipped.\n",
      "G528\n",
      "file is too short for the specified frame_length, n_windows and hop_length. File will be skipped.\n",
      "file is too short for the specified frame_length, n_windows and hop_length. File will be skipped.\n",
      "file is too short for the specified frame_length, n_windows and hop_length. File will be skipped.\n",
      "O144\n",
      "file is too short for the specified frame_length, n_windows and hop_length. File will be skipped.\n",
      "file is too short for the specified frame_length, n_windows and hop_length. File will be skipped.\n",
      "file is too short for the specified frame_length, n_windows and hop_length. File will be skipped.\n",
      "O254\n",
      "file is too short for the specified frame_length, n_windows and hop_length. File will be skipped.\n",
      "file is too short for the specified frame_length, n_windows and hop_length. File will be skipped.\n",
      "file is too short for the specified frame_length, n_windows and hop_length. File will be skipped.\n",
      "file is too short for the specified frame_length, n_windows and hop_length. File will be skipped.\n",
      "file is too short for the specified frame_length, n_windows and hop_length. File will be skipped.\n",
      "file is too short for the specified frame_length, n_windows and hop_length. File will be skipped.\n",
      "file is too short for the specified frame_length, n_windows and hop_length. File will be skipped.\n",
      "O421\n",
      "O440\n",
      "file is too short for the specified frame_length, n_windows and hop_length. File will be skipped.\n",
      "file is too short for the specified frame_length, n_windows and hop_length. File will be skipped.\n",
      "file is too short for the specified frame_length, n_windows and hop_length. File will be skipped.\n",
      "file is too short for the specified frame_length, n_windows and hop_length. File will be skipped.\n",
      "O512\n",
      "file is too short for the specified frame_length, n_windows and hop_length. File will be skipped.\n",
      "R402\n",
      "file is too short for the specified frame_length, n_windows and hop_length. File will be skipped.\n",
      "file is too short for the specified frame_length, n_windows and hop_length. File will be skipped.\n",
      "file is too short for the specified frame_length, n_windows and hop_length. File will be skipped.\n",
      "file is too short for the specified frame_length, n_windows and hop_length. File will be skipped.\n",
      "R425\n",
      "file is too short for the specified frame_length, n_windows and hop_length. File will be skipped.\n",
      "file is too short for the specified frame_length, n_windows and hop_length. File will be skipped.\n",
      "R469\n",
      "file is too short for the specified frame_length, n_windows and hop_length. File will be skipped.\n",
      "file is too short for the specified frame_length, n_windows and hop_length. File will be skipped.\n",
      "S132\n",
      "file is too short for the specified frame_length, n_windows and hop_length. File will be skipped.\n",
      "file is too short for the specified frame_length, n_windows and hop_length. File will be skipped.\n",
      "file is too short for the specified frame_length, n_windows and hop_length. File will be skipped.\n",
      "S421\n",
      "file is too short for the specified frame_length, n_windows and hop_length. File will be skipped.\n",
      "file is too short for the specified frame_length, n_windows and hop_length. File will be skipped.\n",
      "S525\n",
      "file is too short for the specified frame_length, n_windows and hop_length. File will be skipped.\n",
      "file is too short for the specified frame_length, n_windows and hop_length. File will be skipped.\n",
      "file is too short for the specified frame_length, n_windows and hop_length. File will be skipped.\n",
      "file is too short for the specified frame_length, n_windows and hop_length. File will be skipped.\n",
      "file is too short for the specified frame_length, n_windows and hop_length. File will be skipped.\n",
      "S528\n",
      "file is too short for the specified frame_length, n_windows and hop_length. File will be skipped.\n",
      "file is too short for the specified frame_length, n_windows and hop_length. File will be skipped.\n",
      "file is too short for the specified frame_length, n_windows and hop_length. File will be skipped.\n",
      "file is too short for the specified frame_length, n_windows and hop_length. File will be skipped.\n",
      "Y389\n",
      "file is too short for the specified frame_length, n_windows and hop_length. File will be skipped.\n",
      "Y397\n",
      "file is too short for the specified frame_length, n_windows and hop_length. File will be skipped.\n",
      "Y425\n",
      "file is too short for the specified frame_length, n_windows and hop_length. File will be skipped.\n",
      "file is too short for the specified frame_length, n_windows and hop_length. File will be skipped.\n",
      "Y440\n",
      "file is too short for the specified frame_length, n_windows and hop_length. File will be skipped.\n",
      "B524\n",
      "file is too short for the specified frame_length, n_windows and hop_length. File will be skipped.\n",
      "file is too short for the specified frame_length, n_windows and hop_length. File will be skipped.\n",
      "file is too short for the specified frame_length, n_windows and hop_length. File will be skipped.\n",
      "file is too short for the specified frame_length, n_windows and hop_length. File will be skipped.\n",
      "file is too short for the specified frame_length, n_windows and hop_length. File will be skipped.\n",
      "file is too short for the specified frame_length, n_windows and hop_length. File will be skipped.\n",
      "file is too short for the specified frame_length, n_windows and hop_length. File will be skipped.\n",
      "file is too short for the specified frame_length, n_windows and hop_length. File will be skipped.\n",
      "file is too short for the specified frame_length, n_windows and hop_length. File will be skipped.\n",
      "O434\n",
      "file is too short for the specified frame_length, n_windows and hop_length. File will be skipped.\n",
      "S389\n",
      "Y433\n",
      "file is too short for the specified frame_length, n_windows and hop_length. File will be skipped.\n",
      "file is too short for the specified frame_length, n_windows and hop_length. File will be skipped.\n",
      "file is too short for the specified frame_length, n_windows and hop_length. File will be skipped.\n",
      "file is too short for the specified frame_length, n_windows and hop_length. File will be skipped.\n",
      "file is too short for the specified frame_length, n_windows and hop_length. File will be skipped.\n",
      "Y453\n",
      "file is too short for the specified frame_length, n_windows and hop_length. File will be skipped.\n",
      "file is too short for the specified frame_length, n_windows and hop_length. File will be skipped.\n",
      "file is too short for the specified frame_length, n_windows and hop_length. File will be skipped.\n",
      "file is too short for the specified frame_length, n_windows and hop_length. File will be skipped.\n"
     ]
    }
   ],
   "source": [
    "#initialize empty dataframe\n",
    "rhythm_spect_feats = pd.DataFrame()\n",
    "\n",
    "#loop over each bird\n",
    "for Bird_ID in All_Birds:\n",
    "    print(Bird_ID)\n",
    "    #create RhythmAnalysis object\n",
    "    rhythm_analysis = timing.RhythmAnalysis(Bird_ID)\n",
    "    #set path to song files\n",
    "    song_folder_path = 'E:\\\\Final_Bird_Dataset\\\\FP1_project_birds\\\\labeled_songs\\\\' + Bird_ID + \"\\\\\"\n",
    "    #create rhythm spectrogram\n",
    "    rhythm_spectrogram = rhythm_analysis.make_rhythm_spectrogram(song_folder_path = song_folder_path)\n",
    "    #calculate entropy and peak freq cv\n",
    "    entropy = rhythm_analysis.calc_rhythm_spectrogram_entropy()\n",
    "\n",
    "    peak_frequencies = rhythm_analysis.get_refined_peak_frequencies(freq_range=3)\n",
    "    peak_freq_cv = rhythm_analysis.calc_peak_frequency_cv()\n",
    "    #save features in temporary df\n",
    "    curr_df = pd.DataFrame({'Bird_ID' : Bird_ID, \n",
    "                            'rhythm_entropy' : [entropy], \n",
    "                            'peak_freq_cv' : [peak_freq_cv]})\n",
    "    #append to df with all birds. \n",
    "    rhythm_spect_feats = pd.concat([rhythm_spect_feats, curr_df])\n"
   ]
  },
  {
   "cell_type": "code",
   "execution_count": 10,
   "metadata": {},
   "outputs": [
    {
     "data": {
      "text/html": [
       "<div>\n",
       "<style scoped>\n",
       "    .dataframe tbody tr th:only-of-type {\n",
       "        vertical-align: middle;\n",
       "    }\n",
       "\n",
       "    .dataframe tbody tr th {\n",
       "        vertical-align: top;\n",
       "    }\n",
       "\n",
       "    .dataframe thead th {\n",
       "        text-align: right;\n",
       "    }\n",
       "</style>\n",
       "<table border=\"1\" class=\"dataframe\">\n",
       "  <thead>\n",
       "    <tr style=\"text-align: right;\">\n",
       "      <th></th>\n",
       "      <th>Bird_ID</th>\n",
       "      <th>rhythm_entropy</th>\n",
       "      <th>peak_freq_cv</th>\n",
       "    </tr>\n",
       "  </thead>\n",
       "  <tbody>\n",
       "    <tr>\n",
       "      <th>0</th>\n",
       "      <td>B145</td>\n",
       "      <td>-0.131574</td>\n",
       "      <td>0.079447</td>\n",
       "    </tr>\n",
       "    <tr>\n",
       "      <th>0</th>\n",
       "      <td>B236</td>\n",
       "      <td>-0.175278</td>\n",
       "      <td>0.072484</td>\n",
       "    </tr>\n",
       "    <tr>\n",
       "      <th>0</th>\n",
       "      <td>B258</td>\n",
       "      <td>-0.468630</td>\n",
       "      <td>0.042943</td>\n",
       "    </tr>\n",
       "  </tbody>\n",
       "</table>\n",
       "</div>"
      ],
      "text/plain": [
       "  Bird_ID  rhythm_entropy  peak_freq_cv\n",
       "0    B145       -0.131574      0.079447\n",
       "0    B236       -0.175278      0.072484\n",
       "0    B258       -0.468630      0.042943"
      ]
     },
     "execution_count": 10,
     "metadata": {},
     "output_type": "execute_result"
    }
   ],
   "source": [
    "rhythm_spect_feats.head(3)"
   ]
  },
  {
   "cell_type": "code",
   "execution_count": 11,
   "metadata": {},
   "outputs": [],
   "source": [
    "rhythm_spect_feats.to_csv('adult_rhythm_spectrum_features.csv')"
   ]
  },
  {
   "cell_type": "markdown",
   "metadata": {},
   "source": [
    "## Juvenile Birds"
   ]
  },
  {
   "cell_type": "code",
   "execution_count": 14,
   "metadata": {},
   "outputs": [
    {
     "data": {
      "text/plain": [
       "['Y855_51',\n",
       " 'S856_51',\n",
       " 'Y856_50',\n",
       " 'S855_51',\n",
       " 'S833_51',\n",
       " 'O833_51',\n",
       " 'notag833_51',\n",
       " 'O883_51',\n",
       " 'R833_51',\n",
       " 'O472_50',\n",
       " 'Y472_50']"
      ]
     },
     "execution_count": 14,
     "metadata": {},
     "output_type": "execute_result"
    }
   ],
   "source": [
    "all_birds = glob.glob('E:\\\\Juveniles\\\\Single_day_per_juvenile\\\\*')\n",
    "all_birds = [x.split('\\\\')[-1] for x in all_birds]\n",
    "all_birds"
   ]
  },
  {
   "cell_type": "code",
   "execution_count": 16,
   "metadata": {},
   "outputs": [
    {
     "name": "stdout",
     "output_type": "stream",
     "text": [
      "Y855_51\n",
      "S856_51\n",
      "file is too short for the specified frame_length, n_windows and hop_length. File will be skipped.\n",
      "file is too short for the specified frame_length, n_windows and hop_length. File will be skipped.\n",
      "file is too short for the specified frame_length, n_windows and hop_length. File will be skipped.\n",
      "file is too short for the specified frame_length, n_windows and hop_length. File will be skipped.\n",
      "file is too short for the specified frame_length, n_windows and hop_length. File will be skipped.\n",
      "Y856_50\n",
      "S855_51\n",
      "file is too short for the specified frame_length, n_windows and hop_length. File will be skipped.\n",
      "S833_51\n",
      "file is too short for the specified frame_length, n_windows and hop_length. File will be skipped.\n",
      "file is too short for the specified frame_length, n_windows and hop_length. File will be skipped.\n",
      "file is too short for the specified frame_length, n_windows and hop_length. File will be skipped.\n",
      "file is too short for the specified frame_length, n_windows and hop_length. File will be skipped.\n",
      "file is too short for the specified frame_length, n_windows and hop_length. File will be skipped.\n",
      "file is too short for the specified frame_length, n_windows and hop_length. File will be skipped.\n",
      "O833_51\n",
      "file is too short for the specified frame_length, n_windows and hop_length. File will be skipped.\n",
      "file is too short for the specified frame_length, n_windows and hop_length. File will be skipped.\n",
      "notag833_51\n",
      "O883_51\n",
      "R833_51\n",
      "file is too short for the specified frame_length, n_windows and hop_length. File will be skipped.\n",
      "file is too short for the specified frame_length, n_windows and hop_length. File will be skipped.\n",
      "file is too short for the specified frame_length, n_windows and hop_length. File will be skipped.\n",
      "O472_50\n",
      "file is too short for the specified frame_length, n_windows and hop_length. File will be skipped.\n",
      "file is too short for the specified frame_length, n_windows and hop_length. File will be skipped.\n",
      "file is too short for the specified frame_length, n_windows and hop_length. File will be skipped.\n",
      "file is too short for the specified frame_length, n_windows and hop_length. File will be skipped.\n",
      "file is too short for the specified frame_length, n_windows and hop_length. File will be skipped.\n",
      "file is too short for the specified frame_length, n_windows and hop_length. File will be skipped.\n",
      "file is too short for the specified frame_length, n_windows and hop_length. File will be skipped.\n",
      "file is too short for the specified frame_length, n_windows and hop_length. File will be skipped.\n",
      "file is too short for the specified frame_length, n_windows and hop_length. File will be skipped.\n",
      "file is too short for the specified frame_length, n_windows and hop_length. File will be skipped.\n",
      "file is too short for the specified frame_length, n_windows and hop_length. File will be skipped.\n",
      "Y472_50\n",
      "file is too short for the specified frame_length, n_windows and hop_length. File will be skipped.\n",
      "file is too short for the specified frame_length, n_windows and hop_length. File will be skipped.\n",
      "file is too short for the specified frame_length, n_windows and hop_length. File will be skipped.\n",
      "file is too short for the specified frame_length, n_windows and hop_length. File will be skipped.\n",
      "file is too short for the specified frame_length, n_windows and hop_length. File will be skipped.\n",
      "file is too short for the specified frame_length, n_windows and hop_length. File will be skipped.\n",
      "file is too short for the specified frame_length, n_windows and hop_length. File will be skipped.\n"
     ]
    }
   ],
   "source": [
    "#initialize empty dataframe\n",
    "rhythm_spect_feats = pd.DataFrame()\n",
    "\n",
    "#loop over each bird\n",
    "for Bird_ID in all_birds:\n",
    "    print(Bird_ID)\n",
    "    #create RhythmAnalysis object\n",
    "    rhythm_analysis = timing.RhythmAnalysis(Bird_ID)\n",
    "    #set path to song files\n",
    "    song_folder_path = 'E:\\\\Juveniles\\\\Single_day_per_juvenile\\\\' + Bird_ID + \"\\\\\"\n",
    "    #create rhythm spectrogram\n",
    "    rhythm_spectrogram = rhythm_analysis.make_rhythm_spectrogram(song_folder_path = song_folder_path)\n",
    "    #calculate entropy and peak freq cv\n",
    "    entropy = rhythm_analysis.calc_rhythm_spectrogram_entropy()\n",
    "\n",
    "    peak_frequencies = rhythm_analysis.get_refined_peak_frequencies(freq_range=3)\n",
    "    peak_freq_cv = rhythm_analysis.calc_peak_frequency_cv()\n",
    "    #save features in temporary df\n",
    "    curr_df = pd.DataFrame({'Bird_ID' : Bird_ID, \n",
    "                            'rhythm_entropy' : [entropy], \n",
    "                            'peak_freq_cv' : [peak_freq_cv]})\n",
    "    #append to df with all birds. \n",
    "    rhythm_spect_feats = pd.concat([rhythm_spect_feats, curr_df])\n"
   ]
  },
  {
   "cell_type": "code",
   "execution_count": 17,
   "metadata": {},
   "outputs": [
    {
     "data": {
      "text/html": [
       "<div>\n",
       "<style scoped>\n",
       "    .dataframe tbody tr th:only-of-type {\n",
       "        vertical-align: middle;\n",
       "    }\n",
       "\n",
       "    .dataframe tbody tr th {\n",
       "        vertical-align: top;\n",
       "    }\n",
       "\n",
       "    .dataframe thead th {\n",
       "        text-align: right;\n",
       "    }\n",
       "</style>\n",
       "<table border=\"1\" class=\"dataframe\">\n",
       "  <thead>\n",
       "    <tr style=\"text-align: right;\">\n",
       "      <th></th>\n",
       "      <th>Bird_ID</th>\n",
       "      <th>rhythm_entropy</th>\n",
       "      <th>peak_freq_cv</th>\n",
       "    </tr>\n",
       "  </thead>\n",
       "  <tbody>\n",
       "    <tr>\n",
       "      <th>0</th>\n",
       "      <td>Y855_51</td>\n",
       "      <td>-0.183136</td>\n",
       "      <td>0.092551</td>\n",
       "    </tr>\n",
       "    <tr>\n",
       "      <th>0</th>\n",
       "      <td>S856_51</td>\n",
       "      <td>-0.113872</td>\n",
       "      <td>0.046261</td>\n",
       "    </tr>\n",
       "    <tr>\n",
       "      <th>0</th>\n",
       "      <td>Y856_50</td>\n",
       "      <td>-0.211456</td>\n",
       "      <td>0.089261</td>\n",
       "    </tr>\n",
       "  </tbody>\n",
       "</table>\n",
       "</div>"
      ],
      "text/plain": [
       "   Bird_ID  rhythm_entropy  peak_freq_cv\n",
       "0  Y855_51       -0.183136      0.092551\n",
       "0  S856_51       -0.113872      0.046261\n",
       "0  Y856_50       -0.211456      0.089261"
      ]
     },
     "execution_count": 17,
     "metadata": {},
     "output_type": "execute_result"
    }
   ],
   "source": [
    "rhythm_spect_feats.head(3)"
   ]
  },
  {
   "cell_type": "code",
   "execution_count": 18,
   "metadata": {},
   "outputs": [],
   "source": [
    "rhythm_spect_feats.to_csv('juvenile_rhythm_spectrum_features.csv')"
   ]
  },
  {
   "cell_type": "markdown",
   "metadata": {},
   "source": [
    "## Comparing Groups"
   ]
  },
  {
   "cell_type": "code",
   "execution_count": 2,
   "metadata": {},
   "outputs": [],
   "source": [
    "adult = pd.read_csv('adult_rhythm_spectrum_features.csv').drop(columns = 'Unnamed: 0')\n",
    "all_birds = pd.read_csv(\"E:\\\\Final_Bird_Dataset\\\\old_Bird_list.csv\")\n",
    "adult = pd.merge(adult, all_birds[['Bird_ID', 'Condition']], on = 'Bird_ID')\n",
    "\n",
    "group_dict = {'Isolate' : 'Isolate Adult', \n",
    "              'GFP' : 'Typical Adult', \n",
    "              'FP1_KD_pre_tut' : 'FP1 KD Adult', \n",
    "              'FP1_KD_post_tut' : 'Typical Adult'}\n",
    "adult['Group'] = [group_dict[x] for x in adult.Condition]"
   ]
  },
  {
   "cell_type": "code",
   "execution_count": 3,
   "metadata": {},
   "outputs": [],
   "source": [
    "juvenile = pd.read_csv('juvenile_rhythm_spectrum_features.csv').drop(columns = 'Unnamed: 0')\n",
    "juvenile['Group'] = 'Juvenile'"
   ]
  },
  {
   "cell_type": "code",
   "execution_count": 4,
   "metadata": {},
   "outputs": [],
   "source": [
    "all_rhythm_feats = pd.concat([adult[['Bird_ID', 'Group', 'rhythm_entropy', 'peak_freq_cv']], juvenile])"
   ]
  },
  {
   "cell_type": "code",
   "execution_count": 5,
   "metadata": {},
   "outputs": [
    {
     "data": {
      "text/html": [
       "<div>\n",
       "<style scoped>\n",
       "    .dataframe tbody tr th:only-of-type {\n",
       "        vertical-align: middle;\n",
       "    }\n",
       "\n",
       "    .dataframe tbody tr th {\n",
       "        vertical-align: top;\n",
       "    }\n",
       "\n",
       "    .dataframe thead th {\n",
       "        text-align: right;\n",
       "    }\n",
       "</style>\n",
       "<table border=\"1\" class=\"dataframe\">\n",
       "  <thead>\n",
       "    <tr style=\"text-align: right;\">\n",
       "      <th></th>\n",
       "      <th>Bird_ID</th>\n",
       "      <th>Group</th>\n",
       "      <th>rhythm_entropy</th>\n",
       "      <th>peak_freq_cv</th>\n",
       "    </tr>\n",
       "  </thead>\n",
       "  <tbody>\n",
       "    <tr>\n",
       "      <th>0</th>\n",
       "      <td>B145</td>\n",
       "      <td>Isolate Adult</td>\n",
       "      <td>-0.131574</td>\n",
       "      <td>0.079447</td>\n",
       "    </tr>\n",
       "    <tr>\n",
       "      <th>1</th>\n",
       "      <td>B236</td>\n",
       "      <td>Isolate Adult</td>\n",
       "      <td>-0.175278</td>\n",
       "      <td>0.072484</td>\n",
       "    </tr>\n",
       "    <tr>\n",
       "      <th>2</th>\n",
       "      <td>B258</td>\n",
       "      <td>Isolate Adult</td>\n",
       "      <td>-0.468630</td>\n",
       "      <td>0.042943</td>\n",
       "    </tr>\n",
       "    <tr>\n",
       "      <th>3</th>\n",
       "      <td>B385</td>\n",
       "      <td>Typical Adult</td>\n",
       "      <td>-0.268079</td>\n",
       "      <td>0.097509</td>\n",
       "    </tr>\n",
       "    <tr>\n",
       "      <th>4</th>\n",
       "      <td>B402</td>\n",
       "      <td>FP1 KD Adult</td>\n",
       "      <td>-0.297027</td>\n",
       "      <td>0.112586</td>\n",
       "    </tr>\n",
       "  </tbody>\n",
       "</table>\n",
       "</div>"
      ],
      "text/plain": [
       "  Bird_ID          Group  rhythm_entropy  peak_freq_cv\n",
       "0    B145  Isolate Adult       -0.131574      0.079447\n",
       "1    B236  Isolate Adult       -0.175278      0.072484\n",
       "2    B258  Isolate Adult       -0.468630      0.042943\n",
       "3    B385  Typical Adult       -0.268079      0.097509\n",
       "4    B402   FP1 KD Adult       -0.297027      0.112586"
      ]
     },
     "execution_count": 5,
     "metadata": {},
     "output_type": "execute_result"
    }
   ],
   "source": [
    "all_rhythm_feats.head()"
   ]
  },
  {
   "cell_type": "code",
   "execution_count": 6,
   "metadata": {},
   "outputs": [],
   "source": [
    "all_rhythm_feats.Group = all_rhythm_feats.Group.astype('category').cat.set_categories(['Typical Adult', 'Isolate Adult', 'FP1 KD Adult', 'Juvenile'], ordered = True)"
   ]
  },
  {
   "cell_type": "markdown",
   "metadata": {},
   "source": [
    "### Rhythm Spectrum Entropy"
   ]
  },
  {
   "cell_type": "code",
   "execution_count": 9,
   "metadata": {},
   "outputs": [],
   "source": [
    "plt.rcParams.update({'font.size': 11})"
   ]
  },
  {
   "cell_type": "code",
   "execution_count": 12,
   "metadata": {},
   "outputs": [
    {
     "data": {
      "text/plain": [
       "Text(0.5, 1.0, 'Rhythm Spectrum Entropy')"
      ]
     },
     "execution_count": 12,
     "metadata": {},
     "output_type": "execute_result"
    },
    {
     "data": {
      "image/png": "[encoded data removed]",
      "text/plain": [
       "<Figure size 600x400 with 1 Axes>"
      ]
     },
     "metadata": {},
     "output_type": "display_data"
    }
   ],
   "source": [
    "plt.figure(figsize = (6, 4))\n",
    "sns.boxplot(data = all_rhythm_feats, x = 'Group', y = 'rhythm_entropy', color = '0.8')\n",
    "sns.swarmplot(data = all_rhythm_feats, x = 'Group', y = 'rhythm_entropy', color = 'black', s = 5)\n",
    "plt.ylabel('Rhythm Spectrum Entropy')\n",
    "plt.title('Rhythm Spectrum Entropy')"
   ]
  },
  {
   "cell_type": "code",
   "execution_count": 13,
   "metadata": {},
   "outputs": [],
   "source": [
    "from scipy.stats import f_oneway\n",
    "from statsmodels.stats.multicomp import pairwise_tukeyhsd"
   ]
  },
  {
   "cell_type": "code",
   "execution_count": 14,
   "metadata": {},
   "outputs": [],
   "source": [
    "isolates_AVN = all_rhythm_feats.rhythm_entropy[all_rhythm_feats.Group== 'Isolate Adult']\n",
    "normal_AVN = all_rhythm_feats.rhythm_entropy[all_rhythm_feats.Group == 'Typical Adult']\n",
    "FP1_AVN = all_rhythm_feats.rhythm_entropy[all_rhythm_feats.Group == 'FP1 KD Adult']\n",
    "juvenile_AVN = all_rhythm_feats.rhythm_entropy[all_rhythm_feats.Group == 'Juvenile']"
   ]
  },
  {
   "cell_type": "code",
   "execution_count": 15,
   "metadata": {},
   "outputs": [
    {
     "name": "stdout",
     "output_type": "stream",
     "text": [
      "17.35167326437551 1.5712828447249097e-07\n"
     ]
    }
   ],
   "source": [
    "fvalue, pvalue = f_oneway(isolates_AVN, normal_AVN, FP1_AVN, juvenile_AVN)\n",
    "print(fvalue, pvalue)"
   ]
  },
  {
   "cell_type": "code",
   "execution_count": 16,
   "metadata": {},
   "outputs": [
    {
     "name": "stdout",
     "output_type": "stream",
     "text": [
      "       Multiple Comparison of Means - Tukey HSD, FWER=0.05        \n",
      "==================================================================\n",
      "    group1        group2    meandiff p-adj   lower   upper  reject\n",
      "------------------------------------------------------------------\n",
      " FP1 KD Adult Isolate Adult   -0.021 0.9744 -0.1538  0.1118  False\n",
      " FP1 KD Adult      Juvenile   0.0936 0.1941 -0.0298   0.217  False\n",
      " FP1 KD Adult Typical Adult  -0.1641 0.0016 -0.2752  -0.053   True\n",
      "Isolate Adult      Juvenile   0.1146 0.0772 -0.0088   0.238  False\n",
      "Isolate Adult Typical Adult  -0.1431 0.0068 -0.2542 -0.0321   True\n",
      "     Juvenile Typical Adult  -0.2577    0.0 -0.3574  -0.158   True\n",
      "------------------------------------------------------------------\n"
     ]
    }
   ],
   "source": [
    "tukey = pairwise_tukeyhsd(endog = all_rhythm_feats['rhythm_entropy'], \n",
    "                          groups = all_rhythm_feats['Group'], \n",
    "                          alpha = 0.05)\n",
    "\n",
    "print(tukey)"
   ]
  },
  {
   "cell_type": "markdown",
   "metadata": {},
   "source": [
    "### CV Peak Frequency"
   ]
  },
  {
   "cell_type": "code",
   "execution_count": 17,
   "metadata": {},
   "outputs": [
    {
     "data": {
      "text/html": [
       "<div>\n",
       "<style scoped>\n",
       "    .dataframe tbody tr th:only-of-type {\n",
       "        vertical-align: middle;\n",
       "    }\n",
       "\n",
       "    .dataframe tbody tr th {\n",
       "        vertical-align: top;\n",
       "    }\n",
       "\n",
       "    .dataframe thead th {\n",
       "        text-align: right;\n",
       "    }\n",
       "</style>\n",
       "<table border=\"1\" class=\"dataframe\">\n",
       "  <thead>\n",
       "    <tr style=\"text-align: right;\">\n",
       "      <th></th>\n",
       "      <th>Bird_ID</th>\n",
       "      <th>Group</th>\n",
       "      <th>rhythm_entropy</th>\n",
       "      <th>peak_freq_cv</th>\n",
       "    </tr>\n",
       "  </thead>\n",
       "  <tbody>\n",
       "    <tr>\n",
       "      <th>0</th>\n",
       "      <td>B145</td>\n",
       "      <td>Isolate Adult</td>\n",
       "      <td>-0.131574</td>\n",
       "      <td>0.079447</td>\n",
       "    </tr>\n",
       "    <tr>\n",
       "      <th>1</th>\n",
       "      <td>B236</td>\n",
       "      <td>Isolate Adult</td>\n",
       "      <td>-0.175278</td>\n",
       "      <td>0.072484</td>\n",
       "    </tr>\n",
       "  </tbody>\n",
       "</table>\n",
       "</div>"
      ],
      "text/plain": [
       "  Bird_ID          Group  rhythm_entropy  peak_freq_cv\n",
       "0    B145  Isolate Adult       -0.131574      0.079447\n",
       "1    B236  Isolate Adult       -0.175278      0.072484"
      ]
     },
     "execution_count": 17,
     "metadata": {},
     "output_type": "execute_result"
    }
   ],
   "source": [
    "all_rhythm_feats.head(2)"
   ]
  },
  {
   "cell_type": "code",
   "execution_count": 18,
   "metadata": {},
   "outputs": [
    {
     "data": {
      "text/plain": [
       "Text(0.5, 1.0, 'Rhythm Spectrogram Peak Frequency CVs')"
      ]
     },
     "execution_count": 18,
     "metadata": {},
     "output_type": "execute_result"
    },
    {
     "data": {
      "image/png": "[encoded data removed]",
      "text/plain": [
       "<Figure size 600x400 with 1 Axes>"
      ]
     },
     "metadata": {},
     "output_type": "display_data"
    }
   ],
   "source": [
    "plt.figure(figsize = (6, 4))\n",
    "sns.boxplot(data = all_rhythm_feats, x = 'Group', y = 'peak_freq_cv', color = '0.8')\n",
    "sns.swarmplot(data = all_rhythm_feats, x = 'Group', y = 'peak_freq_cv', color = 'black', s = 5)\n",
    "plt.ylabel('Rhythm Spectrogram Peak Frequency CV')\n",
    "plt.title('Rhythm Spectrogram Peak Frequency CVs')"
   ]
  },
  {
   "cell_type": "code",
   "execution_count": 19,
   "metadata": {},
   "outputs": [],
   "source": [
    "from scipy.stats import f_oneway\n",
    "from statsmodels.stats.multicomp import pairwise_tukeyhsd"
   ]
  },
  {
   "cell_type": "code",
   "execution_count": 20,
   "metadata": {},
   "outputs": [],
   "source": [
    "isolates_AVN = all_rhythm_feats.peak_freq_cv[all_rhythm_feats.Group== 'Isolate Adult']\n",
    "normal_AVN = all_rhythm_feats.peak_freq_cv[all_rhythm_feats.Group == 'Typical Adult']\n",
    "FP1_AVN = all_rhythm_feats.peak_freq_cv[all_rhythm_feats.Group == 'FP1 KD Adult']\n",
    "juvenile_AVN = all_rhythm_feats.peak_freq_cv[all_rhythm_feats.Group == 'Juvenile']"
   ]
  },
  {
   "cell_type": "code",
   "execution_count": 21,
   "metadata": {},
   "outputs": [
    {
     "name": "stdout",
     "output_type": "stream",
     "text": [
      "8.520323801841228 0.00014833025484592917\n"
     ]
    }
   ],
   "source": [
    "fvalue, pvalue = f_oneway(isolates_AVN, normal_AVN, FP1_AVN, juvenile_AVN)\n",
    "print(fvalue, pvalue)"
   ]
  },
  {
   "cell_type": "code",
   "execution_count": 22,
   "metadata": {},
   "outputs": [
    {
     "name": "stdout",
     "output_type": "stream",
     "text": [
      "       Multiple Comparison of Means - Tukey HSD, FWER=0.05        \n",
      "==================================================================\n",
      "    group1        group2    meandiff p-adj   lower   upper  reject\n",
      "------------------------------------------------------------------\n",
      " FP1 KD Adult Isolate Adult  -0.0221 0.2091 -0.0518  0.0076  False\n",
      " FP1 KD Adult      Juvenile  -0.0127 0.6099 -0.0404  0.0149  False\n",
      " FP1 KD Adult Typical Adult  -0.0422 0.0003 -0.0671 -0.0174   True\n",
      "Isolate Adult      Juvenile   0.0094 0.8024 -0.0183   0.037  False\n",
      "Isolate Adult Typical Adult  -0.0201   0.15  -0.045  0.0047  False\n",
      "     Juvenile Typical Adult  -0.0295 0.0053 -0.0518 -0.0072   True\n",
      "------------------------------------------------------------------\n"
     ]
    }
   ],
   "source": [
    "tukey = pairwise_tukeyhsd(endog = all_rhythm_feats['peak_freq_cv'], \n",
    "                          groups = all_rhythm_feats['Group'], \n",
    "                          alpha = 0.05)\n",
    "\n",
    "print(tukey)"
   ]
  }
 ],
 "metadata": {
  "kernelspec": {
   "display_name": "avn4_install_test",
   "language": "python",
   "name": "python3"
  },
  "language_info": {
   "codemirror_mode": {
    "name": "ipython",
    "version": 3
   },
   "file_extension": ".py",
   "mimetype": "text/x-python",
   "name": "python",
   "nbconvert_exporter": "python",
   "pygments_lexer": "ipython3",
   "version": "3.8.19"
  }
 },
 "nbformat": 4,
 "nbformat_minor": 2
}
