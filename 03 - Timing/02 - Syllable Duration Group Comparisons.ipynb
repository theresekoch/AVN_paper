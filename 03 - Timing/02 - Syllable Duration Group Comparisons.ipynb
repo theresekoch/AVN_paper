{
 "cells": [
  {
   "cell_type": "markdown",
   "metadata": {},
   "source": [
    "# 02 - Syllable Duration Entropy: Mature vs. Juvenile"
   ]
  },
  {
   "cell_type": "markdown",
   "metadata": {},
   "source": [
    "## Imports"
   ]
  },
  {
   "cell_type": "code",
   "execution_count": 1,
   "metadata": {},
   "outputs": [],
   "source": [
    "import pandas as pd\n",
    "import numpy as np\n",
    "import seaborn as sns\n",
    "import avn.dataloading as dataloading\n",
    "import avn.segmentation\n",
    "import avn.syntax as syntax\n",
    "import matplotlib.pyplot as plt\n",
    "from scipy.stats import entropy\n",
    "import glob"
   ]
  },
  {
   "cell_type": "code",
   "execution_count": 2,
   "metadata": {},
   "outputs": [],
   "source": [
    "def vak_to_syll_table(prediction_results):\n",
    "  prediction_syllables = prediction_results[prediction_results['label'] == \"s\"]\n",
    "  prediction_syll_reformat = pd.DataFrame()\n",
    "  prediction_syll_reformat[\"files\"] = prediction_syllables['audio_file']\n",
    "  prediction_syll_reformat['onsets'] = prediction_syllables['onset_s']\n",
    "  prediction_syll_reformat['offsets'] = prediction_syllables['offset_s']\n",
    "\n",
    "  return prediction_syll_reformat"
   ]
  },
  {
   "cell_type": "markdown",
   "metadata": {},
   "source": [
    "## Adult Bird Data"
   ]
  },
  {
   "cell_type": "code",
   "execution_count": 3,
   "metadata": {},
   "outputs": [
    {
     "data": {
      "text/plain": [
       "35"
      ]
     },
     "execution_count": 3,
     "metadata": {},
     "output_type": "execute_result"
    }
   ],
   "source": [
    "All_Birds = [\"B145\", \"B236\", \"B258\", \"B385\", \"B402\", \"B447\", \n",
    "             \"B507\", \"G255\", \"G397\", \"G402\", \"G413\", \"G437\", \n",
    "             \"G439\", \"G524\", \"G528\", \"O144\", \"O254\", \"O421\", \n",
    "             \"O440\", \"O512\", \"R402\", \"R425\", \"R469\", \"S132\", \n",
    "             \"S421\", \"S525\", \"S528\", \"Y389\", \"Y397\", \"Y425\", \n",
    "             \"Y440\", \"B524\", \"O434\",  \"Y433\", \"Y453\"] \n",
    "\n",
    "#All_Birds should contain 35 bird IDs. Check: \n",
    "len(All_Birds)"
   ]
  },
  {
   "cell_type": "code",
   "execution_count": 5,
   "metadata": {},
   "outputs": [],
   "source": [
    "w_all_shan = pd.DataFrame()\n",
    "for Bird_ID in All_Birds:\n",
    "\n",
    "    #load wseg segmentations\n",
    "    wseg_path = 'D:\\\\Final_Bird_Dataset\\\\WhisperSeg_Segmentation\\\\' + Bird_ID +  '_wseg.csv'\n",
    "    wseg_segments = pd.read_csv(wseg_path).rename(columns = {'onset' : 'onsets', \n",
    "                                                             'offset' : 'offsets', \n",
    "                                                             'file' : 'files'})\n",
    "    wseg_data = avn.segmentation.SegData(Bird_ID, wseg_segments)\n",
    "    wseg_data.seg_table[\"Syll_dur\"] = (wseg_data.seg_table.offsets - wseg_data.seg_table.onsets)*1000\n",
    "    wseg_data.seg_table['method'] = \"Whisper Segmentation\"\n",
    "\n",
    "    bins = np.linspace(-2.5, 0, 50)\n",
    "    density, __ = np.histogram(np.log10(wseg_data.seg_table.Syll_dur / 1000), density=True, bins = bins)\n",
    "    wseg_entropy = entropy(density) / np.log(len(bins))\n",
    "\n",
    "    curr_shan = pd.DataFrame({'entropy_wseg' : [wseg_entropy], \n",
    "                             \"Bird_ID\" : Bird_ID})\n",
    "    \n",
    "    w_all_shan = pd.concat([w_all_shan, curr_shan])"
   ]
  },
  {
   "cell_type": "code",
   "execution_count": 6,
   "metadata": {},
   "outputs": [],
   "source": [
    "all_birds = pd.read_csv(\"D:\\\\Final_Bird_Dataset\\\\old_Bird_list.csv\")\n",
    "w_all_shan = pd.merge(w_all_shan, all_birds[['Bird_ID', 'Condition']], on = 'Bird_ID')\n",
    "\n",
    "group_dict = {'Isolate' : 'Isolate Adult', \n",
    "              'GFP' : 'Typical Adult', \n",
    "              'FP1_KD_pre_tut' : 'FP1 KD Adult', \n",
    "              'FP1_KD_post_tut' : 'Typical Adult'}\n",
    "w_all_shan['Group'] = [group_dict[x] for x in w_all_shan.Condition]"
   ]
  },
  {
   "cell_type": "code",
   "execution_count": null,
   "metadata": {},
   "outputs": [
    {
     "data": {
      "text/html": [
       "<div>\n",
       "<style scoped>\n",
       "    .dataframe tbody tr th:only-of-type {\n",
       "        vertical-align: middle;\n",
       "    }\n",
       "\n",
       "    .dataframe tbody tr th {\n",
       "        vertical-align: top;\n",
       "    }\n",
       "\n",
       "    .dataframe thead th {\n",
       "        text-align: right;\n",
       "    }\n",
       "</style>\n",
       "<table border=\"1\" class=\"dataframe\">\n",
       "  <thead>\n",
       "    <tr style=\"text-align: right;\">\n",
       "      <th></th>\n",
       "      <th>entropy_wseg</th>\n",
       "      <th>Bird_ID</th>\n",
       "      <th>Condition</th>\n",
       "      <th>Group</th>\n",
       "    </tr>\n",
       "  </thead>\n",
       "  <tbody>\n",
       "    <tr>\n",
       "      <th>0</th>\n",
       "      <td>0.631623</td>\n",
       "      <td>B145</td>\n",
       "      <td>Isolate</td>\n",
       "      <td>Isolate Adult</td>\n",
       "    </tr>\n",
       "    <tr>\n",
       "      <th>1</th>\n",
       "      <td>0.731460</td>\n",
       "      <td>B236</td>\n",
       "      <td>Isolate</td>\n",
       "      <td>Isolate Adult</td>\n",
       "    </tr>\n",
       "    <tr>\n",
       "      <th>2</th>\n",
       "      <td>0.511742</td>\n",
       "      <td>B258</td>\n",
       "      <td>Isolate</td>\n",
       "      <td>Isolate Adult</td>\n",
       "    </tr>\n",
       "  </tbody>\n",
       "</table>\n",
       "</div>"
      ],
      "text/plain": [
       "   entropy_wseg Bird_ID Condition          Group\n",
       "0      0.631623    B145   Isolate  Isolate Adult\n",
       "1      0.731460    B236   Isolate  Isolate Adult\n",
       "2      0.511742    B258   Isolate  Isolate Adult"
      ]
     },
     "execution_count": 8,
     "metadata": {},
     "output_type": "execute_result"
    }
   ],
   "source": [
    "w_all_shan.head(3)"
   ]
  },
  {
   "cell_type": "markdown",
   "metadata": {},
   "source": [
    "## Juvenile Bird Data"
   ]
  },
  {
   "cell_type": "code",
   "execution_count": 7,
   "metadata": {},
   "outputs": [
    {
     "data": {
      "text/plain": [
       "['Y855_51',\n",
       " 'S856_51',\n",
       " 'Y856_50',\n",
       " 'S855_51',\n",
       " 'S833_51',\n",
       " 'O833_51',\n",
       " 'notag833_51',\n",
       " 'O883_51',\n",
       " 'R833_51',\n",
       " 'O472_50',\n",
       " 'Y472_50']"
      ]
     },
     "execution_count": 7,
     "metadata": {},
     "output_type": "execute_result"
    }
   ],
   "source": [
    "all_birds = glob.glob('D:\\\\Juveniles\\\\Single_day_per_juvenile\\\\*')\n",
    "all_birds = [x.split('\\\\')[-1] for x in all_birds]\n",
    "all_birds"
   ]
  },
  {
   "cell_type": "code",
   "execution_count": 8,
   "metadata": {},
   "outputs": [
    {
     "data": {
      "text/plain": [
       "11"
      ]
     },
     "execution_count": 8,
     "metadata": {},
     "output_type": "execute_result"
    }
   ],
   "source": [
    "len(all_birds)"
   ]
  },
  {
   "cell_type": "code",
   "execution_count": 9,
   "metadata": {},
   "outputs": [],
   "source": [
    "juv_all_shan = pd.DataFrame()\n",
    "for Bird_ID in all_birds:\n",
    "\n",
    "    #load wseg segmentations\n",
    "    wseg_path = 'D:\\\\Juveniles\\\\WhisperSeg_segmentations\\\\' + Bird_ID +  '_wseg.csv'\n",
    "    wseg_segments = pd.read_csv(wseg_path).rename(columns = {'onset' : 'onsets', \n",
    "                                                             'offset' : 'offsets', \n",
    "                                                             'file' : 'files'})\n",
    "    wseg_data = avn.segmentation.SegData(Bird_ID, wseg_segments)\n",
    "    wseg_data.seg_table[\"Syll_dur\"] = (wseg_data.seg_table.offsets - wseg_data.seg_table.onsets)*1000\n",
    "    wseg_data.seg_table['method'] = \"Whisper Segmentation\"\n",
    "\n",
    "    bins = np.linspace(-2.5, 0, 50)\n",
    "    density, __ = np.histogram(np.log10(wseg_data.seg_table.Syll_dur / 1000), density=True, bins = bins)\n",
    "    wseg_entropy = entropy(density) / np.log(len(bins))\n",
    "\n",
    "    curr_shan = pd.DataFrame({'entropy_wseg' : [wseg_entropy], \n",
    "                             \"Bird_ID\" : Bird_ID})\n",
    "    \n",
    "    juv_all_shan = pd.concat([juv_all_shan, curr_shan])"
   ]
  },
  {
   "cell_type": "code",
   "execution_count": 10,
   "metadata": {},
   "outputs": [],
   "source": [
    "juv_all_shan['Group'] = 'Juvenile'"
   ]
  },
  {
   "cell_type": "markdown",
   "metadata": {},
   "source": [
    "## Compare Groups"
   ]
  },
  {
   "cell_type": "code",
   "execution_count": 11,
   "metadata": {},
   "outputs": [],
   "source": [
    "all_shan = pd.concat([w_all_shan[['Bird_ID', 'Group', 'entropy_wseg']], juv_all_shan])"
   ]
  },
  {
   "cell_type": "code",
   "execution_count": 14,
   "metadata": {},
   "outputs": [],
   "source": [
    "all_shan.to_csv('syllable_duration_entropies.csv')"
   ]
  },
  {
   "cell_type": "code",
   "execution_count": 12,
   "metadata": {},
   "outputs": [],
   "source": [
    "import pandas as pd\n",
    "import numpy as np\n",
    "import seaborn as sns\n",
    "import matplotlib.pyplot as plt"
   ]
  },
  {
   "cell_type": "code",
   "execution_count": 13,
   "metadata": {},
   "outputs": [],
   "source": [
    "all_shan = pd.read_csv('syllable_duration_entropies.csv')"
   ]
  },
  {
   "cell_type": "code",
   "execution_count": 14,
   "metadata": {},
   "outputs": [
    {
     "data": {
      "text/html": [
       "<div>\n",
       "<style scoped>\n",
       "    .dataframe tbody tr th:only-of-type {\n",
       "        vertical-align: middle;\n",
       "    }\n",
       "\n",
       "    .dataframe tbody tr th {\n",
       "        vertical-align: top;\n",
       "    }\n",
       "\n",
       "    .dataframe thead th {\n",
       "        text-align: right;\n",
       "    }\n",
       "</style>\n",
       "<table border=\"1\" class=\"dataframe\">\n",
       "  <thead>\n",
       "    <tr style=\"text-align: right;\">\n",
       "      <th></th>\n",
       "      <th>Unnamed: 0</th>\n",
       "      <th>Bird_ID</th>\n",
       "      <th>Group</th>\n",
       "      <th>entropy_wseg</th>\n",
       "    </tr>\n",
       "  </thead>\n",
       "  <tbody>\n",
       "    <tr>\n",
       "      <th>0</th>\n",
       "      <td>0</td>\n",
       "      <td>B145</td>\n",
       "      <td>Isolate Adult</td>\n",
       "      <td>0.631623</td>\n",
       "    </tr>\n",
       "    <tr>\n",
       "      <th>1</th>\n",
       "      <td>1</td>\n",
       "      <td>B236</td>\n",
       "      <td>Isolate Adult</td>\n",
       "      <td>0.731460</td>\n",
       "    </tr>\n",
       "    <tr>\n",
       "      <th>2</th>\n",
       "      <td>2</td>\n",
       "      <td>B258</td>\n",
       "      <td>Isolate Adult</td>\n",
       "      <td>0.511742</td>\n",
       "    </tr>\n",
       "  </tbody>\n",
       "</table>\n",
       "</div>"
      ],
      "text/plain": [
       "   Unnamed: 0 Bird_ID          Group  entropy_wseg\n",
       "0           0    B145  Isolate Adult      0.631623\n",
       "1           1    B236  Isolate Adult      0.731460\n",
       "2           2    B258  Isolate Adult      0.511742"
      ]
     },
     "execution_count": 14,
     "metadata": {},
     "output_type": "execute_result"
    }
   ],
   "source": [
    "all_shan.head(3)"
   ]
  },
  {
   "cell_type": "code",
   "execution_count": 15,
   "metadata": {},
   "outputs": [],
   "source": [
    "all_shan.Group = all_shan.Group.astype('category').cat.set_categories(['Typical Adult', 'Isolate Adult', 'FP1 KD Adult', 'Juvenile'], ordered = True)"
   ]
  },
  {
   "cell_type": "code",
   "execution_count": 16,
   "metadata": {},
   "outputs": [
    {
     "data": {
      "text/plain": [
       "(0.4, 0.9)"
      ]
     },
     "execution_count": 16,
     "metadata": {},
     "output_type": "execute_result"
    },
    {
     "data": {
      "image/png": "[encoded data removed]",
      "text/plain": [
       "<Figure size 500x400 with 1 Axes>"
      ]
     },
     "metadata": {},
     "output_type": "display_data"
    }
   ],
   "source": [
    "plt.figure(figsize = (5, 4))\n",
    "sns.boxplot(data = all_shan, x = 'Group', y = 'entropy_wseg', color = '0.8')\n",
    "sns.swarmplot(data = all_shan, x = 'Group', y = 'entropy_wseg', color = 'black', s = 5)\n",
    "plt.ylabel('Syllable Duration Entropy')\n",
    "plt.title('Syllable Duration Entropy with WhisperSeg Segmentation')\n",
    "plt.ylim(0.4, 0.9)"
   ]
  },
  {
   "cell_type": "code",
   "execution_count": 17,
   "metadata": {},
   "outputs": [],
   "source": [
    "plt.rcParams.update({'font.size': 8})"
   ]
  },
  {
   "cell_type": "code",
   "execution_count": 18,
   "metadata": {},
   "outputs": [
    {
     "data": {
      "text/html": [
       "<svg  width=\"220\" height=\"55\"><rect x=\"0\" y=\"0\" width=\"55\" height=\"55\" style=\"fill:#ff7f0e;stroke-width:2;stroke:rgb(255,255,255)\"/><rect x=\"55\" y=\"0\" width=\"55\" height=\"55\" style=\"fill:#1f77b4;stroke-width:2;stroke:rgb(255,255,255)\"/><rect x=\"110\" y=\"0\" width=\"55\" height=\"55\" style=\"fill:#2ca02c;stroke-width:2;stroke:rgb(255,255,255)\"/><rect x=\"165\" y=\"0\" width=\"55\" height=\"55\" style=\"fill:#9467bd;stroke-width:2;stroke:rgb(255,255,255)\"/></svg>"
      ],
      "text/plain": [
       "[(1.0, 0.4980392156862745, 0.054901960784313725),\n",
       " (0.12156862745098039, 0.4666666666666667, 0.7058823529411765),\n",
       " (0.17254901960784313, 0.6274509803921569, 0.17254901960784313),\n",
       " (0.5803921568627451, 0.403921568627451, 0.7411764705882353)]"
      ]
     },
     "execution_count": 18,
     "metadata": {},
     "output_type": "execute_result"
    }
   ],
   "source": [
    "palette = sns.color_palette([sns.color_palette()[1], sns.color_palette()[0], sns.color_palette()[2], sns.color_palette()[4]])\n",
    "palette"
   ]
  },
  {
   "cell_type": "code",
   "execution_count": 25,
   "metadata": {},
   "outputs": [
    {
     "data": {
      "image/png": "[encoded data removed]",
      "text/plain": [
       "<Figure size 800x200 with 1 Axes>"
      ]
     },
     "metadata": {},
     "output_type": "display_data"
    }
   ],
   "source": [
    "plt.figure(figsize = (8, 2))\n",
    "sns.boxplot(data = all_shan, y = 'Group', x = 'entropy_wseg', color = 'black', fill = None, fliersize=0, whis = 0, )\n",
    "sns.swarmplot(data = all_shan, y = 'Group', x= 'entropy_wseg', hue = 'Group', s = 6, palette= palette, marker = '$\\circ$')\n",
    "plt.xlabel('Syllable Duration Entropy')\n",
    "plt.title('Syllable Duration Entropy with WhisperSeg Segmentation')\n",
    "plt.xlim(0.4, 0.85)\n",
    "sns.despine()\n",
    "plt.savefig('syllable_duration_entropy_across_groups.svg', transparent = True)"
   ]
  },
  {
   "cell_type": "code",
   "execution_count": 30,
   "metadata": {},
   "outputs": [],
   "source": [
    "plt.rcParams.update({'font.size': 12})"
   ]
  },
  {
   "cell_type": "code",
   "execution_count": 28,
   "metadata": {},
   "outputs": [],
   "source": [
    "all_shan.Group = all_shan.Group.cat.rename_categories({'Isolate Adult' : 'Isolate\\nAdult',\n",
    "                                                       'Typical Adult' : 'Typical\\nAdult', \n",
    "                                                       'FP1 KD Adult' : 'FP1 KD\\nAdult', \n",
    "                                                       'Juvenile' : 'Juvenile'})"
   ]
  },
  {
   "cell_type": "code",
   "execution_count": 33,
   "metadata": {},
   "outputs": [
    {
     "data": {
      "image/png": "[encoded data removed]",
      "text/plain": [
       "<Figure size 400x400 with 1 Axes>"
      ]
     },
     "metadata": {},
     "output_type": "display_data"
    }
   ],
   "source": [
    "plt.figure(figsize = (4, 4))\n",
    "sns.boxplot(data = all_shan, x = 'Group', y = 'entropy_wseg', color = 'black', fill = None, fliersize=0, whis = 0, )\n",
    "sns.swarmplot(data = all_shan, x = 'Group', y= 'entropy_wseg', hue = 'Group', s = 8, palette= palette, marker = '$\\circ$')\n",
    "plt.ylabel('Syllable Duration Entropy')\n",
    "plt.title('Syllable Duration Entropy\\nwith WhisperSeg Segmentation')\n",
    "plt.ylim(0.4, 0.85)\n",
    "sns.despine()"
   ]
  },
  {
   "cell_type": "code",
   "execution_count": 6,
   "metadata": {},
   "outputs": [],
   "source": [
    "isolates_AVN = all_shan.entropy_wseg[all_shan.Group== 'Isolate Adult']\n",
    "normal_AVN = all_shan.entropy_wseg[all_shan.Group == 'Typical Adult']\n",
    "FP1_AVN = all_shan.entropy_wseg[all_shan.Group == 'FP1 KD Adult']\n",
    "juvenile_AVN = all_shan.entropy_wseg[all_shan.Group == 'Juvenile']"
   ]
  },
  {
   "cell_type": "code",
   "execution_count": 7,
   "metadata": {},
   "outputs": [],
   "source": [
    "from scipy.stats import f_oneway\n",
    "from statsmodels.stats.multicomp import pairwise_tukeyhsd"
   ]
  },
  {
   "cell_type": "code",
   "execution_count": 8,
   "metadata": {},
   "outputs": [
    {
     "name": "stdout",
     "output_type": "stream",
     "text": [
      "17.43730336859831 1.672158640251834e-07\n"
     ]
    }
   ],
   "source": [
    "fvalue, pvalue = f_oneway(isolates_AVN, normal_AVN, FP1_AVN, juvenile_AVN)\n",
    "print(fvalue, pvalue)"
   ]
  },
  {
   "cell_type": "code",
   "execution_count": 9,
   "metadata": {},
   "outputs": [
    {
     "name": "stdout",
     "output_type": "stream",
     "text": [
      "       Multiple Comparison of Means - Tukey HSD, FWER=0.05        \n",
      "==================================================================\n",
      "    group1        group2    meandiff p-adj   lower   upper  reject\n",
      "------------------------------------------------------------------\n",
      " FP1 KD Adult Isolate Adult   0.0315 0.7382 -0.0511  0.1142  False\n",
      " FP1 KD Adult      Juvenile   0.1245 0.0005  0.0473  0.2017   True\n",
      " FP1 KD Adult Typical Adult  -0.0358 0.5272 -0.1059  0.0343  False\n",
      "Isolate Adult      Juvenile    0.093 0.0089  0.0188  0.1672   True\n",
      "Isolate Adult Typical Adult  -0.0673 0.0475 -0.1341 -0.0006   True\n",
      "     Juvenile Typical Adult  -0.1603    0.0 -0.2203 -0.1004   True\n",
      "------------------------------------------------------------------\n"
     ]
    }
   ],
   "source": [
    "tukey = pairwise_tukeyhsd(endog = all_shan['entropy_wseg'], \n",
    "                          groups = all_shan['Group'], \n",
    "                          alpha = 0.05)\n",
    "\n",
    "print(tukey)"
   ]
  },
  {
   "cell_type": "markdown",
   "metadata": {},
   "source": [
    "# Gaps"
   ]
  },
  {
   "cell_type": "markdown",
   "metadata": {},
   "source": [
    "## Adult Bird Data"
   ]
  },
  {
   "cell_type": "code",
   "execution_count": 31,
   "metadata": {},
   "outputs": [
    {
     "data": {
      "text/plain": [
       "35"
      ]
     },
     "execution_count": 31,
     "metadata": {},
     "output_type": "execute_result"
    }
   ],
   "source": [
    "All_Birds = [\"B145\", \"B236\", \"B258\", \"B385\", \"B402\", \"B447\", \n",
    "             \"B507\", \"G255\", \"G397\", \"G402\", \"G413\", \"G437\", \n",
    "             \"G439\", \"G524\", \"G528\", \"O144\", \"O254\", \"O421\", \n",
    "             \"O440\", \"O512\", \"R402\", \"R425\", \"R469\", \"S132\", \n",
    "             \"S421\", \"S525\", \"S528\", \"Y389\", \"Y397\", \"Y425\", \n",
    "             \"Y440\", \"B524\", \"O434\", \"Y433\", \"Y453\"] \n",
    "\n",
    "#All_Birds should contain 36 bird IDs. Check: \n",
    "len(All_Birds)"
   ]
  },
  {
   "cell_type": "code",
   "execution_count": 32,
   "metadata": {},
   "outputs": [],
   "source": [
    "bin_dur = 10"
   ]
  },
  {
   "cell_type": "code",
   "execution_count": 33,
   "metadata": {},
   "outputs": [],
   "source": [
    "w_all_shan_gap = pd.DataFrame()\n",
    "for Bird_ID in All_Birds:\n",
    "\n",
    "    #load whisper-seg predictions\n",
    "    segmentations_path = 'D:\\\\Final_Bird_Dataset\\\\WhisperSeg_Segmentation\\\\' + Bird_ID +  '_wseg.csv'\n",
    "    predictions_wseg = pd.read_csv(segmentations_path)\n",
    "    predictions_reformat = predictions_wseg.rename(columns = {'onset' : 'onsets', \n",
    "                                                'offset' : 'offsets',\n",
    "                                                'file' : 'files'})\n",
    "\n",
    "    predictions_reformat['labels'] = 's'\n",
    "    \n",
    "    song_folder_path = 'D:\\\\Final_Bird_Dataset\\\\FP1_project_birds\\\\segmented_songs\\\\' \n",
    "\n",
    "    syntax_data = syntax.SyntaxData(Bird_ID, predictions_reformat)\n",
    "    syntax_data.add_file_bounds(song_folder_path)\n",
    "    gaps_df = syntax_data.get_gaps_df()\n",
    "\n",
    "    #select only gaps less than 200ms, as longer likely reflect inter-motif gaps\n",
    "    gaps_df = gaps_df[gaps_df.durations < 0.2]\n",
    "    #convert from s to ms\n",
    "    gaps_df.durations = gaps_df.durations*1000\n",
    "\n",
    "    bins = np.arange(0, 200, bin_dur)\n",
    "    density, __ = np.histogram(gaps_df.durations, density=True, bins = bins)\n",
    "    gap_entropy = entropy(density) / np.log(len(bins))\n",
    "\n",
    "    curr_shan = pd.DataFrame({'wseg_gap_duration_entropy' : [gap_entropy],\n",
    "                             \"Bird_ID\" : Bird_ID})\n",
    "    \n",
    "    w_all_shan_gap = pd.concat([w_all_shan_gap, curr_shan])"
   ]
  },
  {
   "cell_type": "code",
   "execution_count": 34,
   "metadata": {},
   "outputs": [],
   "source": [
    "all_birds = pd.read_csv(\"D:\\\\Final_Bird_Dataset\\\\old_Bird_list.csv\")\n",
    "w_all_shan_gap = pd.merge(w_all_shan_gap, all_birds[['Bird_ID', 'Condition']], on = 'Bird_ID')\n",
    "\n",
    "group_dict = {'Isolate' : 'Isolate Adult', \n",
    "              'GFP' : 'Typical Adult', \n",
    "              'FP1_KD_pre_tut' : 'FP1 KD Adult', \n",
    "              'FP1_KD_post_tut' : 'Typical Adult'}\n",
    "w_all_shan_gap['Group'] = [group_dict[x] for x in w_all_shan_gap.Condition]"
   ]
  },
  {
   "cell_type": "code",
   "execution_count": 35,
   "metadata": {},
   "outputs": [
    {
     "data": {
      "text/html": [
       "<div>\n",
       "<style scoped>\n",
       "    .dataframe tbody tr th:only-of-type {\n",
       "        vertical-align: middle;\n",
       "    }\n",
       "\n",
       "    .dataframe tbody tr th {\n",
       "        vertical-align: top;\n",
       "    }\n",
       "\n",
       "    .dataframe thead th {\n",
       "        text-align: right;\n",
       "    }\n",
       "</style>\n",
       "<table border=\"1\" class=\"dataframe\">\n",
       "  <thead>\n",
       "    <tr style=\"text-align: right;\">\n",
       "      <th></th>\n",
       "      <th>wseg_gap_duration_entropy</th>\n",
       "      <th>Bird_ID</th>\n",
       "      <th>Condition</th>\n",
       "      <th>Group</th>\n",
       "    </tr>\n",
       "  </thead>\n",
       "  <tbody>\n",
       "    <tr>\n",
       "      <th>0</th>\n",
       "      <td>0.650696</td>\n",
       "      <td>B145</td>\n",
       "      <td>Isolate</td>\n",
       "      <td>Isolate Adult</td>\n",
       "    </tr>\n",
       "    <tr>\n",
       "      <th>1</th>\n",
       "      <td>0.890905</td>\n",
       "      <td>B236</td>\n",
       "      <td>Isolate</td>\n",
       "      <td>Isolate Adult</td>\n",
       "    </tr>\n",
       "    <tr>\n",
       "      <th>2</th>\n",
       "      <td>0.726944</td>\n",
       "      <td>B258</td>\n",
       "      <td>Isolate</td>\n",
       "      <td>Isolate Adult</td>\n",
       "    </tr>\n",
       "  </tbody>\n",
       "</table>\n",
       "</div>"
      ],
      "text/plain": [
       "   wseg_gap_duration_entropy Bird_ID Condition          Group\n",
       "0                   0.650696    B145   Isolate  Isolate Adult\n",
       "1                   0.890905    B236   Isolate  Isolate Adult\n",
       "2                   0.726944    B258   Isolate  Isolate Adult"
      ]
     },
     "execution_count": 35,
     "metadata": {},
     "output_type": "execute_result"
    }
   ],
   "source": [
    "w_all_shan_gap.head(3)"
   ]
  },
  {
   "cell_type": "markdown",
   "metadata": {},
   "source": [
    "## Juvenile Bird Data"
   ]
  },
  {
   "cell_type": "code",
   "execution_count": 36,
   "metadata": {},
   "outputs": [
    {
     "data": {
      "text/plain": [
       "['Y855_51',\n",
       " 'S856_51',\n",
       " 'Y856_50',\n",
       " 'S855_51',\n",
       " 'S833_51',\n",
       " 'O833_51',\n",
       " 'notag833_51',\n",
       " 'O883_51',\n",
       " 'R833_51',\n",
       " 'O472_50',\n",
       " 'Y472_50']"
      ]
     },
     "execution_count": 36,
     "metadata": {},
     "output_type": "execute_result"
    }
   ],
   "source": [
    "all_birds = glob.glob('D:\\\\Juveniles\\\\Single_day_per_juvenile\\\\*')\n",
    "all_birds = [x.split('\\\\')[-1] for x in all_birds]\n",
    "all_birds"
   ]
  },
  {
   "cell_type": "code",
   "execution_count": 37,
   "metadata": {},
   "outputs": [
    {
     "data": {
      "text/plain": [
       "11"
      ]
     },
     "execution_count": 37,
     "metadata": {},
     "output_type": "execute_result"
    }
   ],
   "source": [
    "len(all_birds)"
   ]
  },
  {
   "cell_type": "code",
   "execution_count": 38,
   "metadata": {},
   "outputs": [],
   "source": [
    "juv_all_shan_gap = pd.DataFrame()\n",
    "for Bird_ID in all_birds:\n",
    "\n",
    "    #load wseg segmentations\n",
    "    wseg_path = 'D:\\\\Juveniles\\\\WhisperSeg_segmentations\\\\' + Bird_ID +  '_wseg.csv'\n",
    "\n",
    "    #load whisper-seg predictions\n",
    "    segmentations_path = 'D:\\\\Final_Bird_Dataset\\\\WhisperSeg_Segmentation\\\\' + Bird_ID +  '_wseg.csv'\n",
    "    predictions_wseg = pd.read_csv(wseg_path)\n",
    "    predictions_reformat = predictions_wseg.rename(columns = {'onset' : 'onsets', \n",
    "                                                'offset' : 'offsets',\n",
    "                                                'file' : 'files'})\n",
    "\n",
    "    predictions_reformat['labels'] = 's'\n",
    "    \n",
    "    song_folder_path = 'D:\\\\Juveniles\\\\Single_day_per_juvenile\\\\'\n",
    "\n",
    "    syntax_data = syntax.SyntaxData(Bird_ID, predictions_reformat)\n",
    "    syntax_data.add_file_bounds(song_folder_path)\n",
    "    gaps_df = syntax_data.get_gaps_df()\n",
    "\n",
    "    #select only gaps less than 200ms, as longer likely reflect inter-motif gaps\n",
    "    gaps_df = gaps_df[gaps_df.durations < 0.2]\n",
    "    #convert from s to ms\n",
    "    gaps_df.durations = gaps_df.durations*1000\n",
    "\n",
    "    bins = np.arange(0, 200, bin_dur)\n",
    "    density, __ = np.histogram(gaps_df.durations, density=True, bins = bins)\n",
    "    gap_entropy = entropy(density) / np.log(len(bins))\n",
    "\n",
    "    curr_shan = pd.DataFrame({'wseg_gap_duration_entropy' : [gap_entropy],\n",
    "                             \"Bird_ID\" : Bird_ID})\n",
    "    \n",
    "    juv_all_shan_gap = pd.concat([juv_all_shan_gap, curr_shan])"
   ]
  },
  {
   "cell_type": "code",
   "execution_count": 14,
   "metadata": {},
   "outputs": [],
   "source": [
    "juv_all_shan_gap['Group'] = 'Juvenile'"
   ]
  },
  {
   "cell_type": "markdown",
   "metadata": {},
   "source": [
    "## Compare Groups"
   ]
  },
  {
   "cell_type": "code",
   "execution_count": 15,
   "metadata": {},
   "outputs": [],
   "source": [
    "all_shan = pd.concat([w_all_shan_gap[['Bird_ID', 'Group', 'wseg_gap_duration_entropy']], juv_all_shan_gap])"
   ]
  },
  {
   "cell_type": "code",
   "execution_count": 16,
   "metadata": {},
   "outputs": [],
   "source": [
    "all_shan.to_csv('gap_duration_entropies.csv')"
   ]
  },
  {
   "cell_type": "code",
   "execution_count": 39,
   "metadata": {},
   "outputs": [],
   "source": [
    "import pandas as pd\n",
    "import numpy as np\n",
    "import seaborn as sns\n",
    "import matplotlib.pyplot as plt"
   ]
  },
  {
   "cell_type": "code",
   "execution_count": 40,
   "metadata": {},
   "outputs": [],
   "source": [
    "all_shan = pd.read_csv('gap_duration_entropies.csv')"
   ]
  },
  {
   "cell_type": "code",
   "execution_count": 41,
   "metadata": {},
   "outputs": [
    {
     "data": {
      "text/html": [
       "<div>\n",
       "<style scoped>\n",
       "    .dataframe tbody tr th:only-of-type {\n",
       "        vertical-align: middle;\n",
       "    }\n",
       "\n",
       "    .dataframe tbody tr th {\n",
       "        vertical-align: top;\n",
       "    }\n",
       "\n",
       "    .dataframe thead th {\n",
       "        text-align: right;\n",
       "    }\n",
       "</style>\n",
       "<table border=\"1\" class=\"dataframe\">\n",
       "  <thead>\n",
       "    <tr style=\"text-align: right;\">\n",
       "      <th></th>\n",
       "      <th>Unnamed: 0</th>\n",
       "      <th>Bird_ID</th>\n",
       "      <th>Group</th>\n",
       "      <th>wseg_gap_duration_entropy</th>\n",
       "    </tr>\n",
       "  </thead>\n",
       "  <tbody>\n",
       "    <tr>\n",
       "      <th>0</th>\n",
       "      <td>0</td>\n",
       "      <td>B145</td>\n",
       "      <td>Isolate Adult</td>\n",
       "      <td>0.650696</td>\n",
       "    </tr>\n",
       "    <tr>\n",
       "      <th>1</th>\n",
       "      <td>1</td>\n",
       "      <td>B236</td>\n",
       "      <td>Isolate Adult</td>\n",
       "      <td>0.890905</td>\n",
       "    </tr>\n",
       "    <tr>\n",
       "      <th>2</th>\n",
       "      <td>2</td>\n",
       "      <td>B258</td>\n",
       "      <td>Isolate Adult</td>\n",
       "      <td>0.726944</td>\n",
       "    </tr>\n",
       "  </tbody>\n",
       "</table>\n",
       "</div>"
      ],
      "text/plain": [
       "   Unnamed: 0 Bird_ID          Group  wseg_gap_duration_entropy\n",
       "0           0    B145  Isolate Adult                   0.650696\n",
       "1           1    B236  Isolate Adult                   0.890905\n",
       "2           2    B258  Isolate Adult                   0.726944"
      ]
     },
     "execution_count": 41,
     "metadata": {},
     "output_type": "execute_result"
    }
   ],
   "source": [
    "all_shan.head(3)"
   ]
  },
  {
   "cell_type": "code",
   "execution_count": 42,
   "metadata": {},
   "outputs": [],
   "source": [
    "all_shan.Group = all_shan.Group.astype('category').cat.set_categories(['Typical Adult', 'Isolate Adult', 'FP1 KD Adult', 'Juvenile'], ordered = True)"
   ]
  },
  {
   "cell_type": "code",
   "execution_count": 43,
   "metadata": {},
   "outputs": [
    {
     "data": {
      "text/plain": [
       "(0.53, 1.0)"
      ]
     },
     "execution_count": 43,
     "metadata": {},
     "output_type": "execute_result"
    },
    {
     "data": {
      "image/png": "[encoded data removed]",
      "text/plain": [
       "<Figure size 500x400 with 1 Axes>"
      ]
     },
     "metadata": {},
     "output_type": "display_data"
    }
   ],
   "source": [
    "plt.figure(figsize = (5, 4))\n",
    "sns.boxplot(data = all_shan, x = 'Group', y = 'wseg_gap_duration_entropy', color = '0.8')\n",
    "sns.swarmplot(data = all_shan, x = 'Group', y = 'wseg_gap_duration_entropy', color = 'black', s = 5)\n",
    "plt.ylabel('Gap Duration Entropy')\n",
    "plt.title('Gap Duration Entropy with WhisperSeg Segmentation')\n",
    "plt.ylim(0.53, 1)"
   ]
  },
  {
   "cell_type": "code",
   "execution_count": 46,
   "metadata": {},
   "outputs": [
    {
     "data": {
      "image/png": "[encoded data removed]",
      "text/plain": [
       "<Figure size 800x200 with 1 Axes>"
      ]
     },
     "metadata": {},
     "output_type": "display_data"
    }
   ],
   "source": [
    "plt.figure(figsize = (8, 2))\n",
    "sns.boxplot(data = all_shan, y = 'Group', x = 'wseg_gap_duration_entropy', color = 'black', fill = None, fliersize=0, whis = 0, )\n",
    "sns.swarmplot(data = all_shan, y = 'Group', x= 'wseg_gap_duration_entropy', hue = 'Group', s = 6, palette= palette, marker = '$\\circ$')\n",
    "plt.xlabel('Gap Duration Entropy')\n",
    "plt.title('Gap Duration Entropy with WhisperSeg Segmentation')\n",
    "plt.xlim(0.53, 1)\n",
    "sns.despine()\n",
    "plt.savefig('gap_duration_entropy_across_groups.svg', transparent = True)"
   ]
  },
  {
   "cell_type": "code",
   "execution_count": 7,
   "metadata": {},
   "outputs": [],
   "source": [
    "isolates_AVN = all_shan.wseg_gap_duration_entropy[all_shan.Group== 'Isolate Adult']\n",
    "normal_AVN = all_shan.wseg_gap_duration_entropy[all_shan.Group == 'Typical Adult']\n",
    "FP1_AVN = all_shan.wseg_gap_duration_entropy[all_shan.Group == 'FP1 KD Adult']\n",
    "juvenile_AVN = all_shan.wseg_gap_duration_entropy[all_shan.Group == 'Juvenile']"
   ]
  },
  {
   "cell_type": "code",
   "execution_count": 8,
   "metadata": {},
   "outputs": [],
   "source": [
    "from scipy.stats import f_oneway\n",
    "from statsmodels.stats.multicomp import pairwise_tukeyhsd"
   ]
  },
  {
   "cell_type": "code",
   "execution_count": 9,
   "metadata": {},
   "outputs": [
    {
     "name": "stdout",
     "output_type": "stream",
     "text": [
      "8.032705079040523 0.0002413584798944532\n"
     ]
    }
   ],
   "source": [
    "fvalue, pvalue = f_oneway(isolates_AVN, normal_AVN, FP1_AVN, juvenile_AVN)\n",
    "print(fvalue, pvalue)"
   ]
  },
  {
   "cell_type": "code",
   "execution_count": 10,
   "metadata": {},
   "outputs": [
    {
     "name": "stdout",
     "output_type": "stream",
     "text": [
      "       Multiple Comparison of Means - Tukey HSD, FWER=0.05        \n",
      "==================================================================\n",
      "    group1        group2    meandiff p-adj   lower   upper  reject\n",
      "------------------------------------------------------------------\n",
      " FP1 KD Adult Isolate Adult  -0.0533 0.5128 -0.1561  0.0494  False\n",
      " FP1 KD Adult      Juvenile   0.0207 0.9385 -0.0753  0.1166  False\n",
      " FP1 KD Adult Typical Adult  -0.1048 0.0128 -0.1919 -0.0177   True\n",
      "Isolate Adult      Juvenile    0.074 0.1549 -0.0182  0.1663  False\n",
      "Isolate Adult Typical Adult  -0.0515 0.3583 -0.1345  0.0316  False\n",
      "     Juvenile Typical Adult  -0.1255 0.0003    -0.2  -0.051   True\n",
      "------------------------------------------------------------------\n"
     ]
    }
   ],
   "source": [
    "tukey = pairwise_tukeyhsd(endog = all_shan['wseg_gap_duration_entropy'], \n",
    "                          groups = all_shan['Group'], \n",
    "                          alpha = 0.05)\n",
    "\n",
    "print(tukey)"
   ]
  },
  {
   "cell_type": "code",
   "execution_count": null,
   "metadata": {},
   "outputs": [],
   "source": []
  }
 ],
 "metadata": {
  "kernelspec": {
   "display_name": "avn_install_test",
   "language": "python",
   "name": "python3"
  },
  "language_info": {
   "codemirror_mode": {
    "name": "ipython",
    "version": 3
   },
   "file_extension": ".py",
   "mimetype": "text/x-python",
   "name": "python",
   "nbconvert_exporter": "python",
   "pygments_lexer": "ipython3",
   "version": "3.8.19"
  }
 },
 "nbformat": 4,
 "nbformat_minor": 2
}
