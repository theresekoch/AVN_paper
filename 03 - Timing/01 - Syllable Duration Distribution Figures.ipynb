{
 "cells": [
  {
   "cell_type": "markdown",
   "metadata": {},
   "source": [
    "# 01 - Syllable Duration Distribution Figures"
   ]
  },
  {
   "cell_type": "markdown",
   "metadata": {},
   "source": [
    "## Imports"
   ]
  },
  {
   "cell_type": "code",
   "execution_count": 1,
   "metadata": {},
   "outputs": [],
   "source": [
    "import pandas as pd\n",
    "import numpy as np\n",
    "import seaborn as sns\n",
    "import avn.dataloading as dataloading\n",
    "import avn.segmentation\n",
    "import avn.syntax as syntax\n",
    "import matplotlib.pyplot as plt"
   ]
  },
  {
   "cell_type": "code",
   "execution_count": 2,
   "metadata": {},
   "outputs": [],
   "source": [
    "def vak_to_syll_table(prediction_results):\n",
    "  prediction_syllables = prediction_results[prediction_results['label'] == \"s\"]\n",
    "  prediction_syll_reformat = pd.DataFrame()\n",
    "  prediction_syll_reformat[\"files\"] = prediction_syllables['audio_file']\n",
    "  prediction_syll_reformat['onsets'] = prediction_syllables['onset_s']\n",
    "  prediction_syll_reformat['offsets'] = prediction_syllables['offset_s']\n",
    "\n",
    "  return prediction_syll_reformat"
   ]
  },
  {
   "cell_type": "code",
   "execution_count": 3,
   "metadata": {},
   "outputs": [],
   "source": [
    "from scipy.io import wavfile\n",
    "import librosa\n",
    "import re\n",
    "import scipy.signal\n",
    "import pandas as pd\n",
    "class SongFile:\n",
    "    \"\"\"\n",
    "    Data and metadata pertaining to a single audio file.\n",
    "    \n",
    "    \n",
    "    Attributes\n",
    "    ----------\n",
    "    data: ndarray\n",
    "        Contains audio data of wavfile. \n",
    "    \n",
    "    sample_rate: int\n",
    "        Sample rate of song data. Based on native sample rate of wavfile.\n",
    "    \n",
    "    duration: float\n",
    "        Duration of the audio file in seconds. \n",
    "    \n",
    "    file_path: str\n",
    "        Path to the local .wav file used to instantiate the SongFile object.\n",
    "    \n",
    "    Methods\n",
    "    -------\n",
    "    bandpass_filter(lower_cutoff, upper_cutoff)\n",
    "        Applies a hamming window bandpass filter to the audio data. \n",
    "    \n",
    "    \"\"\"\n",
    "    def __init__(self, file_path):\n",
    "        \"\"\"\n",
    "        Parameters\n",
    "        ----------\n",
    "        file_path : str\n",
    "            Path to the local .wav file to be loaded as a SongFile object.\n",
    "             \n",
    "        \"\"\"\n",
    "        self.sample_rate, self.data = wavfile.read(file_path)\n",
    "        self.data = self.data.astype(float)\n",
    "        self.duration = librosa.get_duration(y = self.data, sr = self.sample_rate)\n",
    "        self.file_path = file_path\n",
    "        \n",
    "        #get file name -- This may be windows specific. \n",
    "        file_name_regex = re.compile(\"\\\\\\\\\")\n",
    "        self.file_name = file_name_regex.split(self.file_path)[-1]\n",
    "                                                  \n",
    "    def bandpass_filter(self, lower_cutoff, upper_cutoff):\n",
    "        \"\"\"\n",
    "        Applies a hamming window bandpass filter to the audio data.\n",
    "\n",
    "        Parameters\n",
    "        ----------\n",
    "        lower_cutoff : int\n",
    "            Lower cutoff frequency in Hz for the filter. \n",
    "        upper_cutoff : int\n",
    "            Upper cutoff frequency in Hz for the filter. \n",
    "\n",
    "        Returns\n",
    "        -------\n",
    "        None.\n",
    "\n",
    "        \"\"\"\n",
    "        #create hamming window filter\n",
    "        filter_bandpass = scipy.signal.firwin(101, cutoff = [lower_cutoff, upper_cutoff], \n",
    "                                              fs = self.sample_rate, \n",
    "                                              pass_zero = False)\n",
    "        #apply filter to audio data\n",
    "        self.data = scipy.signal.lfilter(filter_bandpass, [1.0], self.data)"
   ]
  },
  {
   "cell_type": "code",
   "execution_count": 4,
   "metadata": {},
   "outputs": [],
   "source": [
    "dataloading.SongFile = SongFile"
   ]
  },
  {
   "cell_type": "markdown",
   "metadata": {},
   "source": [
    "## Load Bird Data"
   ]
  },
  {
   "cell_type": "code",
   "execution_count": 5,
   "metadata": {},
   "outputs": [
    {
     "data": {
      "text/plain": [
       "35"
      ]
     },
     "execution_count": 5,
     "metadata": {},
     "output_type": "execute_result"
    }
   ],
   "source": [
    "All_Birds = [\"B145\", \"B236\", \"B258\", \"B385\", \"B402\", \"B447\", \n",
    "             \"B507\", \"G255\", \"G397\", \"G402\", \"G413\", \"G437\", \n",
    "             \"G439\", \"G524\", \"G528\", \"O144\", \"O254\", \"O421\", \n",
    "             \"O440\", \"O512\", \"R402\", \"R425\", \"R469\", \"S132\", \n",
    "             \"S421\", \"S525\", \"S528\", \"Y389\", \"Y397\", \"Y425\", \n",
    "             \"Y440\", \"B524\", \"O434\", \"Y433\", \"Y453\"] \n",
    "\n",
    "#All_Birds should contain 35 bird IDs. Check: \n",
    "len(All_Birds)"
   ]
  },
  {
   "cell_type": "markdown",
   "metadata": {},
   "source": [
    "## Syllable Durations"
   ]
  },
  {
   "cell_type": "markdown",
   "metadata": {},
   "source": [
    "### Ground Truth"
   ]
  },
  {
   "cell_type": "code",
   "execution_count": 6,
   "metadata": {},
   "outputs": [
    {
     "name": "stderr",
     "output_type": "stream",
     "text": [
      "c:\\Users\\tkoch\\anaconda3\\envs\\avn_install_test\\lib\\site-packages\\pandas\\core\\arraylike.py:402: RuntimeWarning: invalid value encountered in log10\n",
      "  result = getattr(ufunc, method)(*inputs, **kwargs)\n",
      "c:\\Users\\tkoch\\anaconda3\\envs\\avn_install_test\\lib\\site-packages\\pandas\\core\\arraylike.py:402: RuntimeWarning: invalid value encountered in log10\n",
      "  result = getattr(ufunc, method)(*inputs, **kwargs)\n",
      "c:\\Users\\tkoch\\anaconda3\\envs\\avn_install_test\\lib\\site-packages\\pandas\\core\\arraylike.py:402: RuntimeWarning: invalid value encountered in log10\n",
      "  result = getattr(ufunc, method)(*inputs, **kwargs)\n",
      "c:\\Users\\tkoch\\anaconda3\\envs\\avn_install_test\\lib\\site-packages\\pandas\\core\\arraylike.py:402: RuntimeWarning: invalid value encountered in log10\n",
      "  result = getattr(ufunc, method)(*inputs, **kwargs)\n",
      "c:\\Users\\tkoch\\anaconda3\\envs\\avn_install_test\\lib\\site-packages\\pandas\\core\\arraylike.py:402: RuntimeWarning: invalid value encountered in log10\n",
      "  result = getattr(ufunc, method)(*inputs, **kwargs)\n",
      "c:\\Users\\tkoch\\anaconda3\\envs\\avn_install_test\\lib\\site-packages\\pandas\\core\\arraylike.py:402: RuntimeWarning: invalid value encountered in log10\n",
      "  result = getattr(ufunc, method)(*inputs, **kwargs)\n",
      "c:\\Users\\tkoch\\anaconda3\\envs\\avn_install_test\\lib\\site-packages\\pandas\\core\\arraylike.py:402: RuntimeWarning: invalid value encountered in log10\n",
      "  result = getattr(ufunc, method)(*inputs, **kwargs)\n",
      "c:\\Users\\tkoch\\anaconda3\\envs\\avn_install_test\\lib\\site-packages\\pandas\\core\\arraylike.py:402: RuntimeWarning: invalid value encountered in log10\n",
      "  result = getattr(ufunc, method)(*inputs, **kwargs)\n",
      "c:\\Users\\tkoch\\anaconda3\\envs\\avn_install_test\\lib\\site-packages\\pandas\\core\\arraylike.py:402: RuntimeWarning: invalid value encountered in log10\n",
      "  result = getattr(ufunc, method)(*inputs, **kwargs)\n",
      "c:\\Users\\tkoch\\anaconda3\\envs\\avn_install_test\\lib\\site-packages\\pandas\\core\\arraylike.py:402: RuntimeWarning: invalid value encountered in log10\n",
      "  result = getattr(ufunc, method)(*inputs, **kwargs)\n",
      "c:\\Users\\tkoch\\anaconda3\\envs\\avn_install_test\\lib\\site-packages\\pandas\\core\\arraylike.py:402: RuntimeWarning: invalid value encountered in log10\n",
      "  result = getattr(ufunc, method)(*inputs, **kwargs)\n",
      "c:\\Users\\tkoch\\anaconda3\\envs\\avn_install_test\\lib\\site-packages\\pandas\\core\\arraylike.py:402: RuntimeWarning: invalid value encountered in log10\n",
      "  result = getattr(ufunc, method)(*inputs, **kwargs)\n"
     ]
    }
   ],
   "source": [
    "from scipy.stats import entropy\n",
    "all_shan = pd.DataFrame()\n",
    "for Bird_ID in All_Birds[:]:\n",
    "\n",
    "    #load ground truth\n",
    "    ground_truth_path = 'C:/Grad_School/Code_and_software/Py_code/March_2021_redo/redo_data/segmented_songs/' + Bird_ID + '/' + Bird_ID + '_syll_table.csv'\n",
    "\n",
    "    true_seg_table = pd.read_csv(ground_truth_path)\n",
    "    true_seg_table = true_seg_table[true_seg_table.labels == 's']\n",
    "\n",
    "    true_seg_table['Syll_dur'] = true_seg_table.offsets - true_seg_table.onsets\n",
    "\n",
    "    bins = np.linspace(-2.5, 0, 50)\n",
    "    density, __ = np.histogram(np.log10(true_seg_table.Syll_dur / 1000), density=True, bins = bins)\n",
    "    true_entropy = entropy(density) / np.log(len(bins))\n",
    "\n",
    "    curr_shan = pd.DataFrame({'entropy_true' : [true_entropy], \n",
    "                             \"Bird_ID\" : Bird_ID})\n",
    "    \n",
    "    all_shan = pd.concat([all_shan, curr_shan])"
   ]
  },
  {
   "cell_type": "code",
   "execution_count": 7,
   "metadata": {},
   "outputs": [
    {
     "data": {
      "text/html": [
       "<div>\n",
       "<style scoped>\n",
       "    .dataframe tbody tr th:only-of-type {\n",
       "        vertical-align: middle;\n",
       "    }\n",
       "\n",
       "    .dataframe tbody tr th {\n",
       "        vertical-align: top;\n",
       "    }\n",
       "\n",
       "    .dataframe thead th {\n",
       "        text-align: right;\n",
       "    }\n",
       "</style>\n",
       "<table border=\"1\" class=\"dataframe\">\n",
       "  <thead>\n",
       "    <tr style=\"text-align: right;\">\n",
       "      <th></th>\n",
       "      <th>entropy_true</th>\n",
       "      <th>Bird_ID</th>\n",
       "    </tr>\n",
       "  </thead>\n",
       "  <tbody>\n",
       "    <tr>\n",
       "      <th>0</th>\n",
       "      <td>0.696680</td>\n",
       "      <td>B145</td>\n",
       "    </tr>\n",
       "    <tr>\n",
       "      <th>0</th>\n",
       "      <td>0.772177</td>\n",
       "      <td>B236</td>\n",
       "    </tr>\n",
       "    <tr>\n",
       "      <th>0</th>\n",
       "      <td>0.551390</td>\n",
       "      <td>B258</td>\n",
       "    </tr>\n",
       "  </tbody>\n",
       "</table>\n",
       "</div>"
      ],
      "text/plain": [
       "   entropy_true Bird_ID\n",
       "0      0.696680    B145\n",
       "0      0.772177    B236\n",
       "0      0.551390    B258"
      ]
     },
     "execution_count": 7,
     "metadata": {},
     "output_type": "execute_result"
    }
   ],
   "source": [
    "all_shan.head(3)"
   ]
  },
  {
   "cell_type": "markdown",
   "metadata": {},
   "source": [
    "### Whisper Seg"
   ]
  },
  {
   "cell_type": "code",
   "execution_count": 10,
   "metadata": {},
   "outputs": [],
   "source": [
    "w_all_shan = pd.DataFrame()\n",
    "for Bird_ID in All_Birds:\n",
    "\n",
    "    #load wseg segmentations\n",
    "    wseg_path = 'D:\\\\Final_Bird_Dataset\\\\WhisperSeg_Segmentation\\\\' + Bird_ID +  '_wseg.csv'\n",
    "    wseg_segments = pd.read_csv(wseg_path).rename(columns = {'onset' : 'onsets', \n",
    "                                                             'offset' : 'offsets', \n",
    "                                                             'file' : 'files'})\n",
    "    wseg_data = avn.segmentation.SegData(Bird_ID, wseg_segments)\n",
    "    wseg_data.seg_table[\"Syll_dur\"] = (wseg_data.seg_table.offsets - wseg_data.seg_table.onsets)*1000\n",
    "    wseg_data.seg_table['method'] = \"Whisper Segmentation\"\n",
    "\n",
    "    bins = np.linspace(-2.5, 0, 50)\n",
    "    density, __ = np.histogram(np.log10(wseg_data.seg_table.Syll_dur / 1000), density=True, bins = bins)\n",
    "    wseg_entropy = entropy(density) / np.log(len(bins))\n",
    "\n",
    "    curr_shan = pd.DataFrame({'entropy_wseg' : [wseg_entropy], \n",
    "                             \"Bird_ID\" : Bird_ID})\n",
    "    \n",
    "    w_all_shan = pd.concat([w_all_shan, curr_shan])"
   ]
  },
  {
   "cell_type": "code",
   "execution_count": 11,
   "metadata": {},
   "outputs": [
    {
     "data": {
      "text/html": [
       "<div>\n",
       "<style scoped>\n",
       "    .dataframe tbody tr th:only-of-type {\n",
       "        vertical-align: middle;\n",
       "    }\n",
       "\n",
       "    .dataframe tbody tr th {\n",
       "        vertical-align: top;\n",
       "    }\n",
       "\n",
       "    .dataframe thead th {\n",
       "        text-align: right;\n",
       "    }\n",
       "</style>\n",
       "<table border=\"1\" class=\"dataframe\">\n",
       "  <thead>\n",
       "    <tr style=\"text-align: right;\">\n",
       "      <th></th>\n",
       "      <th>entropy_wseg</th>\n",
       "      <th>Bird_ID</th>\n",
       "    </tr>\n",
       "  </thead>\n",
       "  <tbody>\n",
       "    <tr>\n",
       "      <th>0</th>\n",
       "      <td>0.631623</td>\n",
       "      <td>B145</td>\n",
       "    </tr>\n",
       "    <tr>\n",
       "      <th>0</th>\n",
       "      <td>0.731460</td>\n",
       "      <td>B236</td>\n",
       "    </tr>\n",
       "    <tr>\n",
       "      <th>0</th>\n",
       "      <td>0.511742</td>\n",
       "      <td>B258</td>\n",
       "    </tr>\n",
       "  </tbody>\n",
       "</table>\n",
       "</div>"
      ],
      "text/plain": [
       "   entropy_wseg Bird_ID\n",
       "0      0.631623    B145\n",
       "0      0.731460    B236\n",
       "0      0.511742    B258"
      ]
     },
     "execution_count": 11,
     "metadata": {},
     "output_type": "execute_result"
    }
   ],
   "source": [
    "w_all_shan.head(3)"
   ]
  },
  {
   "cell_type": "code",
   "execution_count": 14,
   "metadata": {},
   "outputs": [
    {
     "data": {
      "text/html": [
       "<div>\n",
       "<style scoped>\n",
       "    .dataframe tbody tr th:only-of-type {\n",
       "        vertical-align: middle;\n",
       "    }\n",
       "\n",
       "    .dataframe tbody tr th {\n",
       "        vertical-align: top;\n",
       "    }\n",
       "\n",
       "    .dataframe thead th {\n",
       "        text-align: right;\n",
       "    }\n",
       "</style>\n",
       "<table border=\"1\" class=\"dataframe\">\n",
       "  <thead>\n",
       "    <tr style=\"text-align: right;\">\n",
       "      <th></th>\n",
       "      <th>entropy_wseg</th>\n",
       "      <th>Bird_ID</th>\n",
       "      <th>entropy_true</th>\n",
       "    </tr>\n",
       "  </thead>\n",
       "  <tbody>\n",
       "    <tr>\n",
       "      <th>0</th>\n",
       "      <td>0.631623</td>\n",
       "      <td>B145</td>\n",
       "      <td>0.696680</td>\n",
       "    </tr>\n",
       "    <tr>\n",
       "      <th>1</th>\n",
       "      <td>0.731460</td>\n",
       "      <td>B236</td>\n",
       "      <td>0.772177</td>\n",
       "    </tr>\n",
       "    <tr>\n",
       "      <th>2</th>\n",
       "      <td>0.511742</td>\n",
       "      <td>B258</td>\n",
       "      <td>0.551390</td>\n",
       "    </tr>\n",
       "  </tbody>\n",
       "</table>\n",
       "</div>"
      ],
      "text/plain": [
       "   entropy_wseg Bird_ID  entropy_true\n",
       "0      0.631623    B145      0.696680\n",
       "1      0.731460    B236      0.772177\n",
       "2      0.511742    B258      0.551390"
      ]
     },
     "execution_count": 14,
     "metadata": {},
     "output_type": "execute_result"
    }
   ],
   "source": [
    "combo_all_shan = pd.merge(w_all_shan, all_shan, on = 'Bird_ID')\n",
    "combo_all_shan.head(3)"
   ]
  },
  {
   "cell_type": "code",
   "execution_count": 15,
   "metadata": {},
   "outputs": [],
   "source": [
    "combo_all_shan.to_csv('wseg_and_manual_syllable_duration_distribution_entropies.csv')"
   ]
  },
  {
   "cell_type": "markdown",
   "metadata": {},
   "source": [
    "### Plot Correlation "
   ]
  },
  {
   "cell_type": "code",
   "execution_count": 16,
   "metadata": {},
   "outputs": [],
   "source": [
    "combo_all_shan = pd.read_csv('wseg_and_manual_syllable_duration_distribution_entropies.csv').drop(columns = 'Unnamed: 0')"
   ]
  },
  {
   "cell_type": "markdown",
   "metadata": {},
   "source": []
  },
  {
   "cell_type": "code",
   "execution_count": 17,
   "metadata": {},
   "outputs": [],
   "source": [
    "plt.rcParams.update({'font.size': 8})"
   ]
  },
  {
   "cell_type": "code",
   "execution_count": 25,
   "metadata": {},
   "outputs": [
    {
     "data": {
      "text/plain": [
       "<Figure size 300x300 with 0 Axes>"
      ]
     },
     "metadata": {},
     "output_type": "display_data"
    },
    {
     "data": {
      "image/png": "[encoded data removed]",
      "text/plain": [
       "<Figure size 300x300 with 1 Axes>"
      ]
     },
     "metadata": {},
     "output_type": "display_data"
    }
   ],
   "source": [
    "plt.figure(figsize = (3, 3))\n",
    "sns.lmplot(data = combo_all_shan, x = 'entropy_true', y = 'entropy_wseg', height = 3, aspect = 1, scatter_kws={\"s\": 10})\n",
    "plt.xlabel('Manual Annotations')\n",
    "plt.ylabel('AVN Labels')\n",
    "plt.title('Syllable Duration Entropy with\\nAVN Labels vs. Manual Annotation')\n",
    "plt.savefig('avn_vs_manual_syllable_duration_entropy.svg', transparent = True)"
   ]
  },
  {
   "cell_type": "code",
   "execution_count": 13,
   "metadata": {},
   "outputs": [],
   "source": [
    "from sklearn.linear_model import LinearRegression\n",
    "from scipy.stats import pearsonr"
   ]
  },
  {
   "cell_type": "code",
   "execution_count": 14,
   "metadata": {},
   "outputs": [
    {
     "name": "stdout",
     "output_type": "stream",
     "text": [
      "0.7146477297587196\n"
     ]
    },
    {
     "name": "stderr",
     "output_type": "stream",
     "text": [
      "C:\\Users\\tkoch\\AppData\\Local\\Temp\\ipykernel_27940\\1048439090.py:2: FutureWarning: Support for multi-dimensional indexing (e.g. `obj[:, None]`) is deprecated and will be removed in a future version.  Convert to a numpy array before indexing instead.\n",
      "  reg = LinearRegression().fit( combo_all_shan['entropy_true'][:, np.newaxis],  combo_all_shan['entropy_wseg'])\n",
      "C:\\Users\\tkoch\\AppData\\Local\\Temp\\ipykernel_27940\\1048439090.py:3: FutureWarning: Support for multi-dimensional indexing (e.g. `obj[:, None]`) is deprecated and will be removed in a future version.  Convert to a numpy array before indexing instead.\n",
      "  print(reg.score( combo_all_shan['entropy_true'][:, np.newaxis],  combo_all_shan['entropy_wseg']))\n"
     ]
    }
   ],
   "source": [
    "# linear regression to get slope and r^2\n",
    "reg = LinearRegression().fit( combo_all_shan['entropy_true'][:, np.newaxis],  combo_all_shan['entropy_wseg'])\n",
    "print(reg.score( combo_all_shan['entropy_true'][:, np.newaxis],  combo_all_shan['entropy_wseg']))"
   ]
  },
  {
   "cell_type": "code",
   "execution_count": 15,
   "metadata": {},
   "outputs": [
    {
     "data": {
      "text/plain": [
       "PearsonRResult(statistic=0.8453683988408365, pvalue=1.664603700933323e-10)"
      ]
     },
     "execution_count": 15,
     "metadata": {},
     "output_type": "execute_result"
    }
   ],
   "source": [
    "pearsonr(combo_all_shan['entropy_true'], combo_all_shan['entropy_wseg'])"
   ]
  },
  {
   "cell_type": "markdown",
   "metadata": {},
   "source": [
    "## Gap Duration"
   ]
  },
  {
   "cell_type": "markdown",
   "metadata": {},
   "source": [
    "### Whisper Seg"
   ]
  },
  {
   "cell_type": "code",
   "execution_count": 26,
   "metadata": {},
   "outputs": [],
   "source": [
    "bin_dur = 10"
   ]
  },
  {
   "cell_type": "code",
   "execution_count": 27,
   "metadata": {},
   "outputs": [],
   "source": [
    "from scipy.stats import entropy\n",
    "w_all_shan_gap = pd.DataFrame()\n",
    "\n",
    "for Bird_ID in All_Birds[:]:\n",
    "\n",
    "    #load whisper-seg predictions\n",
    "    segmentations_path = 'D:\\\\Final_Bird_Dataset\\\\WhisperSeg_Segmentation\\\\' + Bird_ID +  '_wseg.csv'\n",
    "    predictions_wseg = pd.read_csv(segmentations_path)\n",
    "    predictions_reformat = predictions_wseg.rename(columns = {'onset' : 'onsets', \n",
    "                                                'offset' : 'offsets',\n",
    "                                                'file' : 'files'})\n",
    "\n",
    "    predictions_reformat['labels'] = 's'\n",
    "    \n",
    "    song_folder_path = 'D:\\\\Final_Bird_Dataset\\\\FP1_project_birds\\\\segmented_songs\\\\' \n",
    "\n",
    "    syntax_data = syntax.SyntaxData(Bird_ID, predictions_reformat)\n",
    "    syntax_data.add_file_bounds(song_folder_path)\n",
    "    gaps_df = syntax_data.get_gaps_df()\n",
    "\n",
    "    #select only gaps less than 200ms, as longer likely reflect inter-motif gaps\n",
    "    gaps_df = gaps_df[gaps_df.durations < 0.2]\n",
    "    #convert from s to ms\n",
    "    gaps_df.durations = gaps_df.durations*1000\n",
    "\n",
    "    bins = np.arange(0, 200, bin_dur)\n",
    "    density, __ = np.histogram(gaps_df.durations, density=True, bins = bins)\n",
    "    gap_entropy = entropy(density) / np.log(len(bins))\n",
    "\n",
    "    curr_shan = pd.DataFrame({'wseg_gap_duration_entropy' : [gap_entropy],\n",
    "                             \"Bird_ID\" : Bird_ID})\n",
    "    \n",
    "    w_all_shan_gap = pd.concat([w_all_shan_gap, curr_shan])"
   ]
  },
  {
   "cell_type": "code",
   "execution_count": 29,
   "metadata": {},
   "outputs": [
    {
     "data": {
      "text/html": [
       "<div>\n",
       "<style scoped>\n",
       "    .dataframe tbody tr th:only-of-type {\n",
       "        vertical-align: middle;\n",
       "    }\n",
       "\n",
       "    .dataframe tbody tr th {\n",
       "        vertical-align: top;\n",
       "    }\n",
       "\n",
       "    .dataframe thead th {\n",
       "        text-align: right;\n",
       "    }\n",
       "</style>\n",
       "<table border=\"1\" class=\"dataframe\">\n",
       "  <thead>\n",
       "    <tr style=\"text-align: right;\">\n",
       "      <th></th>\n",
       "      <th>wseg_gap_duration_entropy</th>\n",
       "      <th>Bird_ID</th>\n",
       "    </tr>\n",
       "  </thead>\n",
       "  <tbody>\n",
       "    <tr>\n",
       "      <th>0</th>\n",
       "      <td>0.650696</td>\n",
       "      <td>B145</td>\n",
       "    </tr>\n",
       "    <tr>\n",
       "      <th>0</th>\n",
       "      <td>0.890905</td>\n",
       "      <td>B236</td>\n",
       "    </tr>\n",
       "    <tr>\n",
       "      <th>0</th>\n",
       "      <td>0.726944</td>\n",
       "      <td>B258</td>\n",
       "    </tr>\n",
       "  </tbody>\n",
       "</table>\n",
       "</div>"
      ],
      "text/plain": [
       "   wseg_gap_duration_entropy Bird_ID\n",
       "0                   0.650696    B145\n",
       "0                   0.890905    B236\n",
       "0                   0.726944    B258"
      ]
     },
     "execution_count": 29,
     "metadata": {},
     "output_type": "execute_result"
    }
   ],
   "source": [
    "w_all_shan_gap.head(3)"
   ]
  },
  {
   "cell_type": "markdown",
   "metadata": {},
   "source": [
    "### Ground Truth"
   ]
  },
  {
   "cell_type": "code",
   "execution_count": 30,
   "metadata": {},
   "outputs": [],
   "source": [
    "all_shan_gap = pd.DataFrame()\n",
    "for Bird_ID in All_Birds:\n",
    "\n",
    "    #load ground truth\n",
    "    ground_truth_path = 'C:/Grad_School/Code_and_software/Py_code/March_2021_redo/redo_data/segmented_songs/' + Bird_ID + '/' + Bird_ID + '_syll_table.csv'\n",
    "\n",
    "    true_seg_table = pd.read_csv(ground_truth_path)\n",
    "    true_seg_table = true_seg_table[true_seg_table.labels == 's']\n",
    "\n",
    "    song_folder_path = 'D:\\\\Final_Bird_Dataset\\\\FP1_project_birds\\\\segmented_songs\\\\' \n",
    "\n",
    "    #convert timestamps from milliseconds to seconds\n",
    "    true_seg_table['onsets'] = true_seg_table['onsets'] / 1000\n",
    "    true_seg_table['offsets'] = true_seg_table['offsets'] / 1000\n",
    "    \n",
    "    #remove .not.mat file extension from file names in file column\n",
    "    true_seg_table['files'] = true_seg_table['files'].str.split(pat = '.not', n = 1).str[0]\n",
    "\n",
    "    syntax_data = syntax.SyntaxData(Bird_ID, true_seg_table)\n",
    "    syntax_data.add_file_bounds(song_folder_path)\n",
    "    gaps_df = syntax_data.get_gaps_df()\n",
    "\n",
    "    #select only gaps less than 200ms, as longer likely reflect inter-motif gaps\n",
    "    gaps_df = gaps_df[gaps_df.durations < 0.2]\n",
    "    #convert from s to ms\n",
    "    gaps_df.durations = gaps_df.durations*1000\n",
    "\n",
    "    bins = np.arange(0, 200, bin_dur)\n",
    "    density, __ = np.histogram(gaps_df.durations, density=True, bins = bins)\n",
    "    gap_entropy = entropy(density) / np.log(len(bins))\n",
    "\n",
    "    curr_shan = pd.DataFrame({'gap_duration_entropy' : [gap_entropy],\n",
    "                             \"Bird_ID\" : Bird_ID})\n",
    "    \n",
    "    all_shan_gap = pd.concat([all_shan_gap, curr_shan])"
   ]
  },
  {
   "cell_type": "code",
   "execution_count": 86,
   "metadata": {},
   "outputs": [
    {
     "data": {
      "text/html": [
       "<div>\n",
       "<style scoped>\n",
       "    .dataframe tbody tr th:only-of-type {\n",
       "        vertical-align: middle;\n",
       "    }\n",
       "\n",
       "    .dataframe tbody tr th {\n",
       "        vertical-align: top;\n",
       "    }\n",
       "\n",
       "    .dataframe thead th {\n",
       "        text-align: right;\n",
       "    }\n",
       "</style>\n",
       "<table border=\"1\" class=\"dataframe\">\n",
       "  <thead>\n",
       "    <tr style=\"text-align: right;\">\n",
       "      <th></th>\n",
       "      <th>gap_duration_entropy</th>\n",
       "      <th>Bird_ID</th>\n",
       "    </tr>\n",
       "  </thead>\n",
       "  <tbody>\n",
       "    <tr>\n",
       "      <th>0</th>\n",
       "      <td>0.718393</td>\n",
       "      <td>B145</td>\n",
       "    </tr>\n",
       "    <tr>\n",
       "      <th>0</th>\n",
       "      <td>0.929563</td>\n",
       "      <td>B236</td>\n",
       "    </tr>\n",
       "    <tr>\n",
       "      <th>0</th>\n",
       "      <td>0.780869</td>\n",
       "      <td>B258</td>\n",
       "    </tr>\n",
       "  </tbody>\n",
       "</table>\n",
       "</div>"
      ],
      "text/plain": [
       "   gap_duration_entropy Bird_ID\n",
       "0              0.718393    B145\n",
       "0              0.929563    B236\n",
       "0              0.780869    B258"
      ]
     },
     "execution_count": 86,
     "metadata": {},
     "output_type": "execute_result"
    }
   ],
   "source": [
    "all_shan_gap.head(3)"
   ]
  },
  {
   "cell_type": "markdown",
   "metadata": {},
   "source": [
    "### Plot Correlation "
   ]
  },
  {
   "cell_type": "code",
   "execution_count": 31,
   "metadata": {},
   "outputs": [
    {
     "data": {
      "text/html": [
       "<div>\n",
       "<style scoped>\n",
       "    .dataframe tbody tr th:only-of-type {\n",
       "        vertical-align: middle;\n",
       "    }\n",
       "\n",
       "    .dataframe tbody tr th {\n",
       "        vertical-align: top;\n",
       "    }\n",
       "\n",
       "    .dataframe thead th {\n",
       "        text-align: right;\n",
       "    }\n",
       "</style>\n",
       "<table border=\"1\" class=\"dataframe\">\n",
       "  <thead>\n",
       "    <tr style=\"text-align: right;\">\n",
       "      <th></th>\n",
       "      <th>wseg_gap_duration_entropy</th>\n",
       "      <th>Bird_ID</th>\n",
       "      <th>gap_duration_entropy</th>\n",
       "    </tr>\n",
       "  </thead>\n",
       "  <tbody>\n",
       "    <tr>\n",
       "      <th>0</th>\n",
       "      <td>0.650696</td>\n",
       "      <td>B145</td>\n",
       "      <td>0.718393</td>\n",
       "    </tr>\n",
       "    <tr>\n",
       "      <th>1</th>\n",
       "      <td>0.890905</td>\n",
       "      <td>B236</td>\n",
       "      <td>0.929563</td>\n",
       "    </tr>\n",
       "    <tr>\n",
       "      <th>2</th>\n",
       "      <td>0.726944</td>\n",
       "      <td>B258</td>\n",
       "      <td>0.780869</td>\n",
       "    </tr>\n",
       "  </tbody>\n",
       "</table>\n",
       "</div>"
      ],
      "text/plain": [
       "   wseg_gap_duration_entropy Bird_ID  gap_duration_entropy\n",
       "0                   0.650696    B145              0.718393\n",
       "1                   0.890905    B236              0.929563\n",
       "2                   0.726944    B258              0.780869"
      ]
     },
     "execution_count": 31,
     "metadata": {},
     "output_type": "execute_result"
    }
   ],
   "source": [
    "combo_all_shan = pd.merge(w_all_shan_gap, all_shan_gap, on = 'Bird_ID')\n",
    "combo_all_shan.head(3)"
   ]
  },
  {
   "cell_type": "code",
   "execution_count": 32,
   "metadata": {},
   "outputs": [],
   "source": [
    "combo_all_shan.to_csv('wseg_and_manual_gap_duration_distribution_entropies.csv')"
   ]
  },
  {
   "cell_type": "code",
   "execution_count": 11,
   "metadata": {},
   "outputs": [],
   "source": [
    "plt.rcParams.update({'font.size': 8})"
   ]
  },
  {
   "cell_type": "code",
   "execution_count": 34,
   "metadata": {},
   "outputs": [
    {
     "data": {
      "text/plain": [
       "<Figure size 400x400 with 0 Axes>"
      ]
     },
     "metadata": {},
     "output_type": "display_data"
    },
    {
     "data": {
      "image/png": "[encoded data removed]",
      "text/plain": [
       "<Figure size 300x300 with 1 Axes>"
      ]
     },
     "metadata": {},
     "output_type": "display_data"
    }
   ],
   "source": [
    "plt.figure(figsize = (4, 4))\n",
    "sns.lmplot(data = combo_all_shan, x = 'gap_duration_entropy', y = 'wseg_gap_duration_entropy', height = 3, aspect = 1, scatter_kws={\"s\": 10} )\n",
    "plt.xlabel('Manual Annotations')\n",
    "plt.ylabel('AVN Labels')\n",
    "plt.title('Gap Duration Entropy with\\nAVN Labels vs. Manual Annotation')\n",
    "plt.savefig('avn_vs_manual_gap_duration_entropy.svg', transparent = True)"
   ]
  },
  {
   "cell_type": "code",
   "execution_count": 90,
   "metadata": {},
   "outputs": [],
   "source": [
    "from sklearn.linear_model import LinearRegression\n",
    "from scipy.stats import pearsonr"
   ]
  },
  {
   "cell_type": "code",
   "execution_count": 91,
   "metadata": {},
   "outputs": [
    {
     "name": "stdout",
     "output_type": "stream",
     "text": [
      "0.7789289628911368\n"
     ]
    },
    {
     "name": "stderr",
     "output_type": "stream",
     "text": [
      "C:\\Users\\tkoch\\AppData\\Local\\Temp\\ipykernel_28996\\1987835917.py:2: FutureWarning: Support for multi-dimensional indexing (e.g. `obj[:, None]`) is deprecated and will be removed in a future version.  Convert to a numpy array before indexing instead.\n",
      "  reg = LinearRegression().fit( combo_all_shan['gap_duration_entropy'][:, np.newaxis],  combo_all_shan['wseg_gap_duration_entropy'])\n",
      "C:\\Users\\tkoch\\AppData\\Local\\Temp\\ipykernel_28996\\1987835917.py:3: FutureWarning: Support for multi-dimensional indexing (e.g. `obj[:, None]`) is deprecated and will be removed in a future version.  Convert to a numpy array before indexing instead.\n",
      "  print(reg.score( combo_all_shan['gap_duration_entropy'][:, np.newaxis],  combo_all_shan['wseg_gap_duration_entropy']))\n"
     ]
    }
   ],
   "source": [
    "# linear regression to get slope and r^2\n",
    "reg = LinearRegression().fit( combo_all_shan['gap_duration_entropy'][:, np.newaxis],  combo_all_shan['wseg_gap_duration_entropy'])\n",
    "print(reg.score( combo_all_shan['gap_duration_entropy'][:, np.newaxis],  combo_all_shan['wseg_gap_duration_entropy']))"
   ]
  },
  {
   "cell_type": "code",
   "execution_count": 92,
   "metadata": {},
   "outputs": [
    {
     "data": {
      "text/plain": [
       "PearsonRResult(statistic=0.8825695229788624, pvalue=1.0988476774166647e-12)"
      ]
     },
     "execution_count": 92,
     "metadata": {},
     "output_type": "execute_result"
    }
   ],
   "source": [
    "pearsonr(combo_all_shan['gap_duration_entropy'], combo_all_shan['wseg_gap_duration_entropy'])"
   ]
  },
  {
   "cell_type": "markdown",
   "metadata": {},
   "source": [
    "## Example Syllable Duration Figure"
   ]
  },
  {
   "cell_type": "markdown",
   "metadata": {},
   "source": [
    "### B447"
   ]
  },
  {
   "cell_type": "code",
   "execution_count": 35,
   "metadata": {},
   "outputs": [],
   "source": [
    "Bird_ID = 'B447'"
   ]
  },
  {
   "cell_type": "code",
   "execution_count": 37,
   "metadata": {},
   "outputs": [
    {
     "name": "stderr",
     "output_type": "stream",
     "text": [
      "c:\\Users\\tkoch\\anaconda3\\envs\\avn_install_test\\lib\\site-packages\\avn\\dataloading.py:151: FutureWarning: In a future version of pandas all arguments of StringMethods.split except for the argument 'pat' will be keyword-only.\n",
      "  true_seg_table['files'] = true_seg_table['files'].str.split('.not', 1).str[0]\n"
     ]
    }
   ],
   "source": [
    "#load ground truth\n",
    "ground_truth_path = 'C:/Grad_School/Code_and_software/Py_code/March_2021_redo/redo_data/segmented_songs/' + Bird_ID + '/' + Bird_ID + '_syll_table.csv'\n",
    "\n",
    "#load wseg segmentations\n",
    "wseg_path = 'D:\\\\Final_Bird_Dataset\\\\WhisperSeg_Segmentation\\\\' + Bird_ID +  '_wseg.csv'\n",
    "wseg_segments = pd.read_csv(wseg_path).rename(columns = {'onset' : 'onsets', \n",
    "                                                            'offset' : 'offsets', \n",
    "                                                            'file' : 'files'})\n",
    "\n",
    "#create avn.SegData object\n",
    "seg_data = avn.segmentation.SegData(Bird_ID, wseg_segments)\n",
    "seg_data = avn.dataloading.Utils.add_ev_song_truth_table(seg_data, ground_truth_path)\n",
    "seg_data.true_seg_table = seg_data.true_seg_table[seg_data.true_seg_table.labels == 's']\n",
    "\n",
    "seg_data.seg_table[\"Syll_dur\"] = (seg_data.seg_table.offsets - seg_data.seg_table.onsets)*1000\n",
    "seg_data.seg_table['Segmentation Method'] = \"WhisperSeg\"\n",
    "seg_data.true_seg_table['Syll_dur'] = (seg_data.true_seg_table.offsets - seg_data.true_seg_table.onsets)*1000\n",
    "seg_data.true_seg_table['Segmentation Method'] = \"Manual Annotation\"\n",
    "\n",
    "syll_durs = pd.concat([seg_data.true_seg_table, seg_data.seg_table])"
   ]
  },
  {
   "cell_type": "code",
   "execution_count": 38,
   "metadata": {},
   "outputs": [
    {
     "name": "stderr",
     "output_type": "stream",
     "text": [
      "c:\\Users\\tkoch\\anaconda3\\envs\\avn_install_test\\lib\\site-packages\\seaborn\\distributions.py:1699: FutureWarning: The `bw` parameter is deprecated in favor of `bw_method` and `bw_adjust`. Using 0.1 for `bw_method`, but please see the docs for the new parameters and update your code.\n",
      "  warnings.warn(msg, FutureWarning)\n"
     ]
    },
    {
     "data": {
      "image/png": "[encoded data removed]",
      "text/plain": [
       "<Figure size 400x400 with 1 Axes>"
      ]
     },
     "metadata": {},
     "output_type": "display_data"
    }
   ],
   "source": [
    "plt.figure(figsize = (4, 4))\n",
    "sns.kdeplot(data = syll_durs.reset_index(), x = 'Syll_dur',  hue = 'Segmentation Method', common_norm=False, cut = 0, bw_adjust=0.5, clip = (0, 600), log_scale=False, \n",
    "            bw = 0.1)\n",
    "plt.xlim(0, 250)\n",
    "plt.xlabel(\"Syllable Duration (ms)\")\n",
    "plt.title(Bird_ID)\n",
    "plt.show();"
   ]
  },
  {
   "cell_type": "markdown",
   "metadata": {},
   "source": [
    "### O440"
   ]
  },
  {
   "cell_type": "code",
   "execution_count": 39,
   "metadata": {},
   "outputs": [],
   "source": [
    "Bird_ID = 'O440'"
   ]
  },
  {
   "cell_type": "code",
   "execution_count": 40,
   "metadata": {},
   "outputs": [
    {
     "name": "stderr",
     "output_type": "stream",
     "text": [
      "c:\\Users\\tkoch\\anaconda3\\envs\\avn_install_test\\lib\\site-packages\\avn\\dataloading.py:151: FutureWarning: In a future version of pandas all arguments of StringMethods.split except for the argument 'pat' will be keyword-only.\n",
      "  true_seg_table['files'] = true_seg_table['files'].str.split('.not', 1).str[0]\n"
     ]
    }
   ],
   "source": [
    "#load ground truth\n",
    "ground_truth_path = 'C:/Grad_School/Code_and_software/Py_code/March_2021_redo/redo_data/segmented_songs/' + Bird_ID + '/' + Bird_ID + '_syll_table.csv'\n",
    "\n",
    "#load wseg segmentations\n",
    "wseg_path = 'D:\\\\Final_Bird_Dataset\\\\WhisperSeg_Segmentation\\\\' + Bird_ID +  '_wseg.csv'\n",
    "wseg_segments = pd.read_csv(wseg_path).rename(columns = {'onset' : 'onsets', \n",
    "                                                            'offset' : 'offsets', \n",
    "                                                            'file' : 'files'})\n",
    "\n",
    "#create avn.SegData object\n",
    "seg_data = avn.segmentation.SegData(Bird_ID, wseg_segments)\n",
    "seg_data = avn.dataloading.Utils.add_ev_song_truth_table(seg_data, ground_truth_path)\n",
    "seg_data.true_seg_table = seg_data.true_seg_table[seg_data.true_seg_table.labels == 's']\n",
    "\n",
    "seg_data.seg_table[\"Syll_dur\"] = (seg_data.seg_table.offsets - seg_data.seg_table.onsets)*1000\n",
    "seg_data.seg_table['Segmentation Method'] = \"WhisperSeg\"\n",
    "seg_data.true_seg_table['Syll_dur'] = (seg_data.true_seg_table.offsets - seg_data.true_seg_table.onsets)*1000\n",
    "seg_data.true_seg_table['Segmentation Method'] = \"Manual Annotation\"\n",
    "\n",
    "syll_durs = pd.concat([seg_data.true_seg_table, seg_data.seg_table])"
   ]
  },
  {
   "cell_type": "code",
   "execution_count": 43,
   "metadata": {},
   "outputs": [
    {
     "name": "stderr",
     "output_type": "stream",
     "text": [
      "c:\\Users\\tkoch\\anaconda3\\envs\\avn_install_test\\lib\\site-packages\\seaborn\\distributions.py:1699: FutureWarning: The `bw` parameter is deprecated in favor of `bw_method` and `bw_adjust`. Using 0.1 for `bw_method`, but please see the docs for the new parameters and update your code.\n",
      "  warnings.warn(msg, FutureWarning)\n"
     ]
    },
    {
     "data": {
      "image/png": "[encoded data removed]",
      "text/plain": [
       "<Figure size 400x300 with 1 Axes>"
      ]
     },
     "metadata": {},
     "output_type": "display_data"
    }
   ],
   "source": [
    "plt.figure(figsize = (4, 3))\n",
    "sns.kdeplot(data = syll_durs.reset_index(), x = 'Syll_dur',  hue = 'Segmentation Method', common_norm=False, cut = 0, bw_adjust=0.5, clip = (0, 600), log_scale=False, \n",
    "            bw = 0.1, fill = True)\n",
    "plt.xlim(0, 400)\n",
    "plt.xlabel(\"Syllable Duration (ms)\")\n",
    "plt.title(\"Example Syllable Duration Distribution\")\n",
    "sns.despine()\n",
    "plt.savefig('O440_syllable_duration_distribution.svg', transparent = True)"
   ]
  },
  {
   "cell_type": "markdown",
   "metadata": {},
   "source": [
    "## Example Gap Duration Distributions"
   ]
  },
  {
   "cell_type": "markdown",
   "metadata": {},
   "source": [
    "### O440"
   ]
  },
  {
   "cell_type": "code",
   "execution_count": 6,
   "metadata": {},
   "outputs": [],
   "source": [
    "Bird_ID = 'O440'"
   ]
  },
  {
   "cell_type": "code",
   "execution_count": 9,
   "metadata": {},
   "outputs": [],
   "source": [
    "#load ground truth\n",
    "ground_truth_path = 'C:/Grad_School/Code_and_software/Py_code/March_2021_redo/redo_data/segmented_songs/' + Bird_ID + '/' + Bird_ID + '_syll_table.csv'\n",
    "\n",
    "true_seg_table = pd.read_csv(ground_truth_path)\n",
    "true_seg_table = true_seg_table[true_seg_table.labels == 's']\n",
    "\n",
    "song_folder_path = 'D:\\\\Final_Bird_Dataset\\\\FP1_project_birds\\\\segmented_songs\\\\' \n",
    "\n",
    "#convert timestamps from milliseconds to seconds\n",
    "true_seg_table['onsets'] = true_seg_table['onsets'] / 1000\n",
    "true_seg_table['offsets'] = true_seg_table['offsets'] / 1000\n",
    "\n",
    "#remove .not.mat file extension from file names in file column\n",
    "true_seg_table['files'] = true_seg_table['files'].str.split(pat = '.not', n = 1).str[0]\n",
    "\n",
    "syntax_data = syntax.SyntaxData(Bird_ID, true_seg_table)\n",
    "syntax_data.add_file_bounds(song_folder_path)\n",
    "gaps_df = syntax_data.get_gaps_df()\n",
    "\n",
    "#select only gaps less than 200ms, as longer likely reflect inter-motif gaps\n",
    "gaps_df = gaps_df[gaps_df.durations < 0.2]\n",
    "#convert from s to ms\n",
    "gaps_df.durations = gaps_df.durations*1000\n",
    "gaps_df['Segmentation Method'] = 'Manual Annotation'\n",
    "\n",
    "\n",
    "#load wseg segmentations\n",
    "wseg_path = 'D:\\\\Final_Bird_Dataset\\\\WhisperSeg_Segmentation\\\\' + Bird_ID +  '_wseg.csv'\n",
    "wseg_segments = pd.read_csv(wseg_path).rename(columns = {'onset' : 'onsets', \n",
    "                                                            'offset' : 'offsets', \n",
    "                                                            'file' : 'files'})\n",
    "wseg_segments['labels'] = 's'\n",
    "\n",
    "syntax_data = syntax.SyntaxData(Bird_ID, wseg_segments)\n",
    "syntax_data.add_file_bounds(song_folder_path)\n",
    "gaps_df_wseg = syntax_data.get_gaps_df()\n",
    "\n",
    "#select only gaps less than 200ms, as longer likely reflect inter-motif gaps\n",
    "gaps_df_wseg = gaps_df_wseg[gaps_df_wseg.durations < 0.2]\n",
    "#convert from s to ms\n",
    "gaps_df_wseg.durations = gaps_df_wseg.durations*1000\n",
    "gaps_df_wseg['Segmentation Method'] = 'WhisperSeg'\n",
    "\n",
    "\n",
    "\n",
    "gap_durs = pd.concat([gaps_df, gaps_df_wseg])"
   ]
  },
  {
   "cell_type": "code",
   "execution_count": 12,
   "metadata": {},
   "outputs": [
    {
     "name": "stderr",
     "output_type": "stream",
     "text": [
      "c:\\Users\\tkoch\\anaconda3\\envs\\avn_install_test\\lib\\site-packages\\seaborn\\distributions.py:1699: FutureWarning: The `bw` parameter is deprecated in favor of `bw_method` and `bw_adjust`. Using 0.1 for `bw_method`, but please see the docs for the new parameters and update your code.\n",
      "  warnings.warn(msg, FutureWarning)\n"
     ]
    },
    {
     "data": {
      "image/png": "[encoded data removed]",
      "text/plain": [
       "<Figure size 400x300 with 1 Axes>"
      ]
     },
     "metadata": {},
     "output_type": "display_data"
    }
   ],
   "source": [
    "plt.figure(figsize = (4, 3))\n",
    "sns.kdeplot(data = gap_durs.reset_index(), x = 'durations',  hue = 'Segmentation Method', common_norm=False, cut = 0, bw_adjust=0.5, clip = (0, 600), log_scale=False, \n",
    "            bw = 0.1, fill = True)\n",
    "plt.xlim(0, 200)\n",
    "plt.xlabel(\"Silent Gap Duration (ms)\")\n",
    "plt.title(\"Example Gap Duration Distribution\")\n",
    "sns.despine()\n",
    "plt.savefig('O440_gap_duration_distribution.svg', transparent = True)"
   ]
  },
  {
   "cell_type": "code",
   "execution_count": null,
   "metadata": {},
   "outputs": [],
   "source": []
  }
 ],
 "metadata": {
  "kernelspec": {
   "display_name": "avn_install_test",
   "language": "python",
   "name": "python3"
  },
  "language_info": {
   "codemirror_mode": {
    "name": "ipython",
    "version": 3
   },
   "file_extension": ".py",
   "mimetype": "text/x-python",
   "name": "python",
   "nbconvert_exporter": "python",
   "pygments_lexer": "ipython3",
   "version": "3.8.16"
  }
 },
 "nbformat": 4,
 "nbformat_minor": 2
}
