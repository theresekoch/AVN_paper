{
 "cells": [
  {
   "cell_type": "markdown",
   "metadata": {},
   "source": [
    "## F1 Validation with Rockefeller Dataset"
   ]
  },
  {
   "cell_type": "markdown",
   "metadata": {},
   "source": [
    "I only manually labeled 15 .wav files per bird, so fewer than are in the UTSW colony validation, which is why these are secondary and just to show generalization. "
   ]
  },
  {
   "cell_type": "code",
   "execution_count": 2,
   "metadata": {},
   "outputs": [],
   "source": [
    "import numpy as np\n",
    "import pandas as pd\n",
    "import librosa\n",
    "import matplotlib.pyplot as plt\n",
    "import avn.dataloading as dataloading\n",
    "import avn.segmentation as segmentation\n",
    "import avn.plotting\n",
    "import math\n",
    "import sklearn\n",
    "import seaborn as sns"
   ]
  },
  {
   "cell_type": "code",
   "execution_count": 3,
   "metadata": {},
   "outputs": [],
   "source": [
    "def vak_to_syll_table(prediction_results):\n",
    "  prediction_syllables = prediction_results[prediction_results['label'] == \"s\"]\n",
    "  prediction_syll_reformat = pd.DataFrame()\n",
    "  prediction_syll_reformat[\"files\"] = prediction_syllables['audio_path']\n",
    "  prediction_syll_reformat['onsets'] = prediction_syllables['onset_s']\n",
    "  prediction_syll_reformat['offsets'] = prediction_syllables['offset_s']\n",
    "\n",
    "  return prediction_syll_reformat"
   ]
  },
  {
   "cell_type": "code",
   "execution_count": 4,
   "metadata": {},
   "outputs": [],
   "source": [
    "from scipy.io import wavfile\n",
    "import librosa\n",
    "import re\n",
    "import scipy.signal\n",
    "import pandas as pd\n",
    "class SongFile:\n",
    "    \"\"\"\n",
    "    Data and metadata pertaining to a single audio file.\n",
    "    \n",
    "    \n",
    "    Attributes\n",
    "    ----------\n",
    "    data: ndarray\n",
    "        Contains audio data of wavfile. \n",
    "    \n",
    "    sample_rate: int\n",
    "        Sample rate of song data. Based on native sample rate of wavfile.\n",
    "    \n",
    "    duration: float\n",
    "        Duration of the audio file in seconds. \n",
    "    \n",
    "    file_path: str\n",
    "        Path to the local .wav file used to instantiate the SongFile object.\n",
    "    \n",
    "    Methods\n",
    "    -------\n",
    "    bandpass_filter(lower_cutoff, upper_cutoff)\n",
    "        Applies a hamming window bandpass filter to the audio data. \n",
    "    \n",
    "    \"\"\"\n",
    "    def __init__(self, file_path):\n",
    "        \"\"\"\n",
    "        Parameters\n",
    "        ----------\n",
    "        file_path : str\n",
    "            Path to the local .wav file to be loaded as a SongFile object.\n",
    "             \n",
    "        \"\"\"\n",
    "        self.sample_rate, self.data = wavfile.read(file_path)\n",
    "        self.data = self.data.astype(float)\n",
    "        self.duration = librosa.get_duration(y = self.data, sr = self.sample_rate)\n",
    "        self.file_path = file_path\n",
    "        \n",
    "        #get file name -- This may be windows specific. \n",
    "        file_name_regex = re.compile(\"\\\\\\\\\")\n",
    "        self.file_name = file_name_regex.split(self.file_path)[-1]\n",
    "                                                  \n",
    "    def bandpass_filter(self, lower_cutoff, upper_cutoff):\n",
    "        \"\"\"\n",
    "        Applies a hamming window bandpass filter to the audio data.\n",
    "\n",
    "        Parameters\n",
    "        ----------\n",
    "        lower_cutoff : int\n",
    "            Lower cutoff frequency in Hz for the filter. \n",
    "        upper_cutoff : int\n",
    "            Upper cutoff frequency in Hz for the filter. \n",
    "\n",
    "        Returns\n",
    "        -------\n",
    "        None.\n",
    "\n",
    "        \"\"\"\n",
    "        #create hamming window filter\n",
    "        filter_bandpass = scipy.signal.firwin(101, cutoff = [lower_cutoff, upper_cutoff], \n",
    "                                              fs = self.sample_rate, \n",
    "                                              pass_zero = False)\n",
    "        #apply filter to audio data\n",
    "        self.data = scipy.signal.lfilter(filter_bandpass, [1.0], self.data)"
   ]
  },
  {
   "cell_type": "code",
   "execution_count": 5,
   "metadata": {},
   "outputs": [],
   "source": [
    "dataloading.SongFile = SongFile"
   ]
  },
  {
   "cell_type": "code",
   "execution_count": 6,
   "metadata": {},
   "outputs": [],
   "source": [
    "def make_spec(syll_wav, hop_length, win_length, n_fft, amin, ref_db, min_level_db):\n",
    "    spectrogram = librosa.stft(syll_wav, hop_length = hop_length, win_length = win_length, n_fft = n_fft)\n",
    "    spectrogram_db = librosa.amplitude_to_db(np.abs(spectrogram), amin = amin, ref = ref_db)\n",
    "    \n",
    "    #normalize\n",
    "    S_norm = np.clip((spectrogram_db - min_level_db) / -min_level_db, 0, 1)\n",
    "    \n",
    "    return S_norm\n",
    "def clean_syll_table(syll_table): \n",
    "  '''\n",
    "  Reformats syll tables imported from evsonganaly so that they are compatible\n",
    "  with python generated ones\n",
    "\n",
    "  Inputs\n",
    "  ----\n",
    "  syll_table: Pandas Dataframe, imported from a csv containing evsonganaly \n",
    "  segmentation and labeling info\n",
    "\n",
    "  Outputs\n",
    "  ----\n",
    "  syll_table: Pandas Dataframe, now with corrected file names and timestamps in seconds\n",
    "\n",
    "  Notes\n",
    "  -----\n",
    "  This function specifically removes .not.mat file extensions from the file names\n",
    "  so that they are simply .wav and can be compared to file names in the MFCC\n",
    "  segmentation generated syllable tables. It also converts the timestamps of \n",
    "  onsets and offsets from miliseconds to seconds, again so that it is consistent\n",
    "  with the MFCC resuls\n",
    "  ''' \n",
    "\n",
    "  syll_table['onsets'] = syll_table['onsets'] / 1000\n",
    "  syll_table['offsets'] = syll_table['offsets'] / 1000\n",
    "\n",
    "  syll_table['files'] = syll_table['files'].str.split('.not', 1).str[0]\n",
    "\n",
    "  return syll_table\n",
    "def plot_confusion_matrix(all_matches):\n",
    "  temp_df = pd.DataFrame({\"hand_labels\": all_matches.hand_label, \n",
    "                          \"clusters\": all_matches.hdbscan_labels})\n",
    "  conf_mat = pd.crosstab(temp_df.hand_labels, temp_df.clusters)\n",
    "  conf_mat = conf_mat.div(conf_mat.sum(axis = 1), axis = 0) * 100\n",
    "\n",
    "  plt.figure(figsize = (8,6))\n",
    "  sns.heatmap(conf_mat, annot = True, fmt='.0f')\n",
    "def merge_hdbscan_hand_dfs(hdbscan_df, hand_df):\n",
    "  \n",
    "  all_matches = pd.DataFrame()\n",
    "\n",
    "  for song_file in hdbscan_df.files.unique():\n",
    "    hdbscan_file = hdbscan_df[hdbscan_df.files == song_file]\n",
    "    hdbscan_file = hdbscan_file.reset_index(drop = True)\n",
    "    hand_file = hand_df[hand_df.files == song_file]\n",
    "\n",
    "    if hand_file.shape[0] != 0:\n",
    "      hand_onsets = hand_file.onsets\n",
    "      hdbscan_onsets = hdbscan_file.onsets\n",
    "      best_matches = get_best_matches(hand_onsets, hdbscan_onsets, max_gap = 0.1)\n",
    "      matches_file = pd.DataFrame({\"files\" : song_file,\n",
    "                                 \"best_match\" : best_matches.astype(int), \n",
    "                                 \"hand_onset\" : hand_file.onsets, \n",
    "                                 \"hand_offset\" : hand_file.offsets, \n",
    "                                 \"hand_label\" : hand_file.labels})\n",
    "      matches_file = matches_file.merge(right = hdbscan_file, \n",
    "                                        left_on = 'best_match', \n",
    "                                        how = 'outer', \n",
    "                                        right_index = True)\n",
    "    all_matches = all_matches.append(matches_file)\n",
    "\n",
    "  return all_matches\n",
    "\n",
    "def get_best_matches(first_onsets, second_onsets, max_gap = 0.1):\n",
    "  '''\n",
    "  Finds the best unique matches between timestamps in two sets, calcuated in different\n",
    "  ways on the same file. These can reflect syllable onset or offset timestamps, \n",
    "  although I refer to them only as onsets for simplicity. \n",
    "\n",
    "  Inputs\n",
    "  ------\n",
    "  first_onsets: Pandas Series, Contains the timestamps in seconds of syllable onsets\n",
    "  calculated with a particular method. \n",
    "\n",
    "  second_onsets: Pandas Seris, Contains the timestamps in seconds of syllable onsets\n",
    "  calculated with a different method. \n",
    "\n",
    "  max_gap: int > 0, optional, maximum allowable time difference  in seconds \n",
    "  between onsets where they will still be considered a match.\n",
    "\n",
    "  Outputs\n",
    "  -------\n",
    "  best_matches: numpy array, 1D, For every syllable onset in `first_onsets` it \n",
    "  contains the index of the best unique match in `second_onsets`. If there is \n",
    "  no unique match within the allowable `max_gap`, the value of the match is \n",
    "  `NaN`. \n",
    "  '''\n",
    "  first_grid, second_grid = np.meshgrid(first_onsets, second_onsets)\n",
    "  delta_t_grid = abs(first_grid - second_grid)\n",
    "\n",
    "  #set max gap threshold\n",
    "  delta_t_grid = np.where(delta_t_grid > max_gap, np.inf, delta_t_grid)\n",
    "\n",
    "  if delta_t_grid.shape[0] == 0:\n",
    "    best_matches = np.array([])\n",
    "    return best_matches ############################################################################test\n",
    "\n",
    "  #find best matches\n",
    "  best_matches = np.argmin(delta_t_grid, axis = 0).astype(float)\n",
    "\n",
    "  #remove matches were delta t is > max_gap\n",
    "  for i, match_index in enumerate(best_matches):\n",
    "    if np.isinf(delta_t_grid[int(match_index), i]):\n",
    "      best_matches[i] = np.NaN \n",
    "\n",
    "  best_matches_previous = best_matches.copy()   \n",
    "\n",
    "  #Deal with duplicate values by setting the second best matches to their second best pairs\n",
    "  best_matches, delta_t_grid = correct_duplicates(best_matches, delta_t_grid)\n",
    "\n",
    "  #check if there were changes made by checking for duplicates. If so, repeat duplicate check.\n",
    "  if not np.allclose(best_matches, best_matches_previous):\n",
    "    best_matches, delta_t_grid = correct_duplicates(best_matches, delta_t_grid)\n",
    "\n",
    "  #make sure duplicate corrections didn't result in out of order matches. \n",
    "  for i, curr_match in enumerate(best_matches):\n",
    "     if i+1 < len(best_matches):\n",
    "       if curr_match > best_matches[i+1]:\n",
    "         best_matches[i+1] = np.nan\n",
    "\n",
    "  return best_matches\n",
    "def correct_duplicates(best_matches, delta_t_grid):\n",
    "  '''\n",
    "  Finds any duplicate matches in the set of best matches, removes duplicates\n",
    "  by setting all but best match to their second best match. \n",
    "\n",
    "  Inputs\n",
    "  -----\n",
    "  best_matches: numpy array, 1D, contains indices of onsets in one set which best \n",
    "  match the onsets in another set. \n",
    "\n",
    "  delta_t_grid: numpy array, 2D, contains all the absolute value time differences\n",
    "  between all possible pairs of onsets in two sets being compared.\n",
    "\n",
    "  Outputs\n",
    "  -----\n",
    "  best_matches: numpy array, 1D. Same as input, but with duplicate matches corrected\n",
    "\n",
    "  delta_t_grid: numpy array, 2D. Same as input, but with values at duplicated \n",
    "  positions adjusted to allow finding second best match. \n",
    "\n",
    "\n",
    "  '''\n",
    "  for i, match_index in enumerate(best_matches):\n",
    "    if np.isnan(match_index):\n",
    "      continue\n",
    "    #check if match index is duplicated\n",
    "    if len(np.argwhere(best_matches == match_index)) > 1: \n",
    "      #create list of indices of duplicates\n",
    "      duplicates = np.nonzero(best_matches == match_index)[0]\n",
    "      #find which duplicate has the smallest delta t\n",
    "      delta_ts = []\n",
    "      for n in duplicates:\n",
    "        delta_ts.append(delta_t_grid[int(best_matches[n]), n])\n",
    "\n",
    "      #get all but the best matches of the duplicates\n",
    "      bad_matches = np.delete(duplicates, np.argmin(delta_ts))\n",
    "\n",
    "      #find second best matches for all but the best duplicate matches\n",
    "\n",
    "      for bad_match in bad_matches:\n",
    "        delta_t_grid[int(best_matches[bad_match]), bad_match] = np.inf\n",
    "        best_matches[bad_match] = np.argmin(delta_t_grid[:, bad_match])\n",
    "        if np.isinf(np.min(delta_t_grid[:, bad_match])):\n",
    "          best_matches[bad_match] = np.NaN\n",
    "  return (best_matches, delta_t_grid)\n",
    "def remove_nas_from_merge(all_matches, fill_char = 'x', fill_int = 1000):\n",
    "  \n",
    "  all_matches.hand_label = all_matches.hand_label.fillna(fill_char)\n",
    "  all_matches.hdbscan_labels = all_matches.hdbscan_labels.fillna(fill_int)\n",
    "\n",
    "  return all_matches"
   ]
  },
  {
   "cell_type": "markdown",
   "metadata": {},
   "source": [
    "## Get List of Birds"
   ]
  },
  {
   "cell_type": "code",
   "execution_count": 7,
   "metadata": {},
   "outputs": [
    {
     "data": {
      "text/plain": [
       "0      LIME18\n",
       "1       BRN20\n",
       "2      Lime19\n",
       "3       Lime7\n",
       "4       LIME3\n",
       "5        DB17\n",
       "6        DB21\n",
       "7        DB24\n",
       "8       GRY30\n",
       "9       BRN28\n",
       "10     Lime29\n",
       "11       AQ33\n",
       "12       AQ30\n",
       "13     LIME30\n",
       "14       AQ32\n",
       "15       AQ31\n",
       "16     Ag51HP\n",
       "17       LP16\n",
       "18       GR27\n",
       "19       LP19\n",
       "20      GRY49\n",
       "21      GRY28\n",
       "22      GRY34\n",
       "23    GRY37HP\n",
       "24     GRY112\n",
       "Name: Pupil_ID, dtype: object"
      ]
     },
     "execution_count": 7,
     "metadata": {},
     "output_type": "execute_result"
    }
   ],
   "source": [
    "pairs_df = pd.read_csv(\"C:/Grad_School/Code_and_software/Py_code/Rockefeller_validation/rockefeller_group1_pairs_df.csv\")\n",
    "All_Birds = pairs_df.Pupil_ID\n",
    "All_Birds"
   ]
  },
  {
   "cell_type": "markdown",
   "metadata": {},
   "source": [
    "# Onsets"
   ]
  },
  {
   "cell_type": "markdown",
   "metadata": {},
   "source": [
    "## Calc F1 Scores"
   ]
  },
  {
   "cell_type": "code",
   "execution_count": null,
   "metadata": {},
   "outputs": [],
   "source": [
    "all_seg_metrics = pd.DataFrame()\n",
    "for Bird_ID in All_Birds[:]:\n",
    "\n",
    "    #load whisperseg segmentation and reformat so it's consistent with avn\n",
    "    wseg_segmentations = pd.read_csv('E:\\\\Final_Bird_Dataset\\\\WhisperSeg_Segmentation\\\\' + Bird_ID + \"_wseg.csv\")\n",
    "    wseg_segmentations = wseg_segmentations.drop(columns = ['Unnamed: 0', 'cluster'])\n",
    "    wseg_segmentations = wseg_segmentations.rename(columns = {'onset' : 'onsets', \n",
    "                                                            'offset' : 'offsets', \n",
    "                                                            'file' : 'files'})\n",
    "    wseg_segmentations['labels'] = 's'\n",
    "    \n",
    "    #create seg data object. This is necessary for the F1 calculation\n",
    "    seg_data = segmentation.SegData(Bird_ID, wseg_segmentations)\n",
    "    #load ground truth segmentation and add to seg_data object\n",
    "    song_folder = 'D:/Rockefeller_Song_Dataset/Pupils_labeled_subsets/' + Bird_ID + \"/\"\n",
    "    ground_truth_path = song_folder + Bird_ID + \"_syll_table.csv\"\n",
    "    seg_data = dataloading.Utils.add_ev_song_truth_table(seg_data, ground_truth_path)\n",
    "    seg_data.true_seg_table['labels'] = 's'\n",
    "\n",
    "    #drop any files that aren't in the true seg table as they will cause errors\n",
    "    to_drop = set(seg_data.seg_table.files.unique()) - set(seg_data.true_seg_table.files.unique())\n",
    "    seg_data.seg_table = seg_data.seg_table[~seg_data.seg_table.files.isin(to_drop)]\n",
    "\n",
    "    #calculate F1 score for whisperSeg\n",
    "    seg_data = segmentation.Metrics.calc_F1(seg_data, max_gap = 0.05)\n",
    "    curr_seg_metrics = seg_data.seg_metrics\n",
    "    #add to df with all seg metrics\n",
    "    curr_seg_metrics['Bird_ID'] = Bird_ID\n",
    "    curr_seg_metrics['max_gap'] = 0.05\n",
    "    curr_seg_metrics['method'] = 'whisper_seg'\n",
    "    all_seg_metrics = pd.concat([all_seg_metrics, curr_seg_metrics])\n",
    "\n",
    "    #calculate F1 score for whisperSeg\n",
    "    seg_data = segmentation.Metrics.calc_F1(seg_data, max_gap = 0.01)\n",
    "    curr_seg_metrics = seg_data.seg_metrics\n",
    "    #add to df with all seg metrics\n",
    "    curr_seg_metrics['Bird_ID'] = Bird_ID\n",
    "    curr_seg_metrics['max_gap'] = 0.01\n",
    "    curr_seg_metrics['method'] = 'whisper_seg'\n",
    "    all_seg_metrics = pd.concat([all_seg_metrics, curr_seg_metrics])\n",
    "\n",
    "    #load tweetynet segmentations\n",
    "    tweety_segs = pd.read_csv(\"D:/Rockefeller_Song_Dataset/tweety_segmentations_pupils/\" + Bird_ID + \".annot.csv\")\n",
    "    tweety_segs = vak_to_syll_table(tweety_segs)\n",
    "\n",
    "    #create seg data object. This is necessary for the F1 calculation\n",
    "    seg_data = segmentation.SegData(Bird_ID, tweety_segs)\n",
    "    seg_data = dataloading.Utils.add_ev_song_truth_table(seg_data, ground_truth_path)\n",
    "    seg_data.true_seg_table['labels'] = 's'\n",
    "    \n",
    "    #drop any files that aren't in the true seg table as they will cause errors\n",
    "    to_drop = set(seg_data.seg_table.files.unique()) - set(seg_data.true_seg_table.files.unique())\n",
    "    seg_data.seg_table = seg_data.seg_table[~seg_data.seg_table.files.isin(to_drop)]\n",
    "\n",
    "    #calculate F1 score for Tweetynet\n",
    "    seg_data = segmentation.Metrics.calc_F1(seg_data, max_gap = 0.05)\n",
    "    curr_seg_metrics = seg_data.seg_metrics\n",
    "    #add to df with all seg metrics\n",
    "    curr_seg_metrics['Bird_ID'] = Bird_ID\n",
    "    curr_seg_metrics['max_gap'] = 0.05\n",
    "    curr_seg_metrics['method'] = 'Tweety_net'\n",
    "    all_seg_metrics = pd.concat([all_seg_metrics, curr_seg_metrics])\n",
    "\n",
    "    #calculate F1 score for whisperSeg\n",
    "    seg_data = segmentation.Metrics.calc_F1(seg_data, max_gap = 0.01)\n",
    "    curr_seg_metrics = seg_data.seg_metrics\n",
    "    #add to df with all seg metrics\n",
    "    curr_seg_metrics['Bird_ID'] = Bird_ID\n",
    "    curr_seg_metrics['max_gap'] = 0.01\n",
    "    curr_seg_metrics['method'] = 'Tweety_net'\n",
    "    all_seg_metrics = pd.concat([all_seg_metrics, curr_seg_metrics])\n",
    "\n"
   ]
  },
  {
   "cell_type": "code",
   "execution_count": null,
   "metadata": {},
   "outputs": [
    {
     "data": {
      "text/html": [
       "<div>\n",
       "<style scoped>\n",
       "    .dataframe tbody tr th:only-of-type {\n",
       "        vertical-align: middle;\n",
       "    }\n",
       "\n",
       "    .dataframe tbody tr th {\n",
       "        vertical-align: top;\n",
       "    }\n",
       "\n",
       "    .dataframe thead th {\n",
       "        text-align: right;\n",
       "    }\n",
       "</style>\n",
       "<table border=\"1\" class=\"dataframe\">\n",
       "  <thead>\n",
       "    <tr style=\"text-align: right;\">\n",
       "      <th></th>\n",
       "      <th>F1</th>\n",
       "      <th>precision</th>\n",
       "      <th>recall</th>\n",
       "      <th>Bird_ID</th>\n",
       "      <th>max_gap</th>\n",
       "      <th>method</th>\n",
       "    </tr>\n",
       "  </thead>\n",
       "  <tbody>\n",
       "    <tr>\n",
       "      <th>0</th>\n",
       "      <td>0.998987</td>\n",
       "      <td>1.000000</td>\n",
       "      <td>0.997976</td>\n",
       "      <td>LIME18</td>\n",
       "      <td>0.05</td>\n",
       "      <td>whisper_seg</td>\n",
       "    </tr>\n",
       "    <tr>\n",
       "      <th>0</th>\n",
       "      <td>0.982776</td>\n",
       "      <td>0.983773</td>\n",
       "      <td>0.981781</td>\n",
       "      <td>LIME18</td>\n",
       "      <td>0.01</td>\n",
       "      <td>whisper_seg</td>\n",
       "    </tr>\n",
       "    <tr>\n",
       "      <th>0</th>\n",
       "      <td>0.946360</td>\n",
       "      <td>0.898182</td>\n",
       "      <td>1.000000</td>\n",
       "      <td>LIME18</td>\n",
       "      <td>0.05</td>\n",
       "      <td>Tweety_net</td>\n",
       "    </tr>\n",
       "    <tr>\n",
       "      <th>0</th>\n",
       "      <td>0.922488</td>\n",
       "      <td>0.876364</td>\n",
       "      <td>0.973737</td>\n",
       "      <td>LIME18</td>\n",
       "      <td>0.01</td>\n",
       "      <td>Tweety_net</td>\n",
       "    </tr>\n",
       "    <tr>\n",
       "      <th>0</th>\n",
       "      <td>0.873990</td>\n",
       "      <td>0.996317</td>\n",
       "      <td>0.778417</td>\n",
       "      <td>BRN20</td>\n",
       "      <td>0.05</td>\n",
       "      <td>whisper_seg</td>\n",
       "    </tr>\n",
       "    <tr>\n",
       "      <th>...</th>\n",
       "      <td>...</td>\n",
       "      <td>...</td>\n",
       "      <td>...</td>\n",
       "      <td>...</td>\n",
       "      <td>...</td>\n",
       "      <td>...</td>\n",
       "    </tr>\n",
       "    <tr>\n",
       "      <th>0</th>\n",
       "      <td>0.982827</td>\n",
       "      <td>0.976378</td>\n",
       "      <td>0.989362</td>\n",
       "      <td>GRY37HP</td>\n",
       "      <td>0.01</td>\n",
       "      <td>Tweety_net</td>\n",
       "    </tr>\n",
       "    <tr>\n",
       "      <th>0</th>\n",
       "      <td>0.752475</td>\n",
       "      <td>1.000000</td>\n",
       "      <td>0.603175</td>\n",
       "      <td>GRY112</td>\n",
       "      <td>0.05</td>\n",
       "      <td>whisper_seg</td>\n",
       "    </tr>\n",
       "    <tr>\n",
       "      <th>0</th>\n",
       "      <td>0.750000</td>\n",
       "      <td>0.996711</td>\n",
       "      <td>0.601190</td>\n",
       "      <td>GRY112</td>\n",
       "      <td>0.01</td>\n",
       "      <td>whisper_seg</td>\n",
       "    </tr>\n",
       "    <tr>\n",
       "      <th>0</th>\n",
       "      <td>0.916911</td>\n",
       "      <td>0.896750</td>\n",
       "      <td>0.938000</td>\n",
       "      <td>GRY112</td>\n",
       "      <td>0.05</td>\n",
       "      <td>Tweety_net</td>\n",
       "    </tr>\n",
       "    <tr>\n",
       "      <th>0</th>\n",
       "      <td>0.836755</td>\n",
       "      <td>0.818356</td>\n",
       "      <td>0.856000</td>\n",
       "      <td>GRY112</td>\n",
       "      <td>0.01</td>\n",
       "      <td>Tweety_net</td>\n",
       "    </tr>\n",
       "  </tbody>\n",
       "</table>\n",
       "<p>100 rows × 6 columns</p>\n",
       "</div>"
      ],
      "text/plain": [
       "          F1  precision    recall  Bird_ID  max_gap       method\n",
       "0   0.998987   1.000000  0.997976   LIME18     0.05  whisper_seg\n",
       "0   0.982776   0.983773  0.981781   LIME18     0.01  whisper_seg\n",
       "0   0.946360   0.898182  1.000000   LIME18     0.05   Tweety_net\n",
       "0   0.922488   0.876364  0.973737   LIME18     0.01   Tweety_net\n",
       "0   0.873990   0.996317  0.778417    BRN20     0.05  whisper_seg\n",
       "..       ...        ...       ...      ...      ...          ...\n",
       "0   0.982827   0.976378  0.989362  GRY37HP     0.01   Tweety_net\n",
       "0   0.752475   1.000000  0.603175   GRY112     0.05  whisper_seg\n",
       "0   0.750000   0.996711  0.601190   GRY112     0.01  whisper_seg\n",
       "0   0.916911   0.896750  0.938000   GRY112     0.05   Tweety_net\n",
       "0   0.836755   0.818356  0.856000   GRY112     0.01   Tweety_net\n",
       "\n",
       "[100 rows x 6 columns]"
      ]
     },
     "execution_count": 8,
     "metadata": {},
     "output_type": "execute_result"
    }
   ],
   "source": [
    "all_seg_metrics"
   ]
  },
  {
   "cell_type": "markdown",
   "metadata": {},
   "source": [
    "## Get RMSE segmentation metrics"
   ]
  },
  {
   "cell_type": "code",
   "execution_count": null,
   "metadata": {},
   "outputs": [
    {
     "name": "stdout",
     "output_type": "stream",
     "text": [
      "Bird: 0/25\n"
     ]
    },
    {
     "name": "stderr",
     "output_type": "stream",
     "text": [
      "c:\\Users\\tkoch\\anaconda3\\envs\\avn_021_py38\\lib\\site-packages\\avn\\dataloading.py:151: FutureWarning: In a future version of pandas all arguments of StringMethods.split except for the argument 'pat' will be keyword-only.\n",
      "  true_seg_table['files'] = true_seg_table['files'].str.split('.not', 1).str[0]\n",
      "C:\\Users\\tkoch\\AppData\\Local\\Temp\\ipykernel_2576\\2784417981.py:23: FutureWarning: The frame.append method is deprecated and will be removed from pandas in a future version. Use pandas.concat instead.\n",
      "  all_F1s = all_F1s.append(seg_metrics)\n"
     ]
    },
    {
     "name": "stdout",
     "output_type": "stream",
     "text": [
      "Bird: 1/25\n"
     ]
    },
    {
     "name": "stderr",
     "output_type": "stream",
     "text": [
      "c:\\Users\\tkoch\\anaconda3\\envs\\avn_021_py38\\lib\\site-packages\\avn\\dataloading.py:151: FutureWarning: In a future version of pandas all arguments of StringMethods.split except for the argument 'pat' will be keyword-only.\n",
      "  true_seg_table['files'] = true_seg_table['files'].str.split('.not', 1).str[0]\n",
      "C:\\Users\\tkoch\\AppData\\Local\\Temp\\ipykernel_2576\\2784417981.py:23: FutureWarning: The frame.append method is deprecated and will be removed from pandas in a future version. Use pandas.concat instead.\n",
      "  all_F1s = all_F1s.append(seg_metrics)\n"
     ]
    },
    {
     "name": "stdout",
     "output_type": "stream",
     "text": [
      "Bird: 2/25\n"
     ]
    },
    {
     "name": "stderr",
     "output_type": "stream",
     "text": [
      "c:\\Users\\tkoch\\anaconda3\\envs\\avn_021_py38\\lib\\site-packages\\avn\\dataloading.py:151: FutureWarning: In a future version of pandas all arguments of StringMethods.split except for the argument 'pat' will be keyword-only.\n",
      "  true_seg_table['files'] = true_seg_table['files'].str.split('.not', 1).str[0]\n",
      "C:\\Users\\tkoch\\AppData\\Local\\Temp\\ipykernel_2576\\2784417981.py:23: FutureWarning: The frame.append method is deprecated and will be removed from pandas in a future version. Use pandas.concat instead.\n",
      "  all_F1s = all_F1s.append(seg_metrics)\n"
     ]
    },
    {
     "name": "stdout",
     "output_type": "stream",
     "text": [
      "Bird: 3/25\n"
     ]
    },
    {
     "name": "stderr",
     "output_type": "stream",
     "text": [
      "c:\\Users\\tkoch\\anaconda3\\envs\\avn_021_py38\\lib\\site-packages\\avn\\dataloading.py:151: FutureWarning: In a future version of pandas all arguments of StringMethods.split except for the argument 'pat' will be keyword-only.\n",
      "  true_seg_table['files'] = true_seg_table['files'].str.split('.not', 1).str[0]\n",
      "C:\\Users\\tkoch\\AppData\\Local\\Temp\\ipykernel_2576\\2784417981.py:23: FutureWarning: The frame.append method is deprecated and will be removed from pandas in a future version. Use pandas.concat instead.\n",
      "  all_F1s = all_F1s.append(seg_metrics)\n"
     ]
    },
    {
     "name": "stdout",
     "output_type": "stream",
     "text": [
      "Bird: 4/25\n"
     ]
    },
    {
     "name": "stderr",
     "output_type": "stream",
     "text": [
      "c:\\Users\\tkoch\\anaconda3\\envs\\avn_021_py38\\lib\\site-packages\\avn\\dataloading.py:151: FutureWarning: In a future version of pandas all arguments of StringMethods.split except for the argument 'pat' will be keyword-only.\n",
      "  true_seg_table['files'] = true_seg_table['files'].str.split('.not', 1).str[0]\n",
      "C:\\Users\\tkoch\\AppData\\Local\\Temp\\ipykernel_2576\\2784417981.py:23: FutureWarning: The frame.append method is deprecated and will be removed from pandas in a future version. Use pandas.concat instead.\n",
      "  all_F1s = all_F1s.append(seg_metrics)\n"
     ]
    },
    {
     "name": "stdout",
     "output_type": "stream",
     "text": [
      "Bird: 5/25\n"
     ]
    },
    {
     "name": "stderr",
     "output_type": "stream",
     "text": [
      "c:\\Users\\tkoch\\anaconda3\\envs\\avn_021_py38\\lib\\site-packages\\avn\\dataloading.py:151: FutureWarning: In a future version of pandas all arguments of StringMethods.split except for the argument 'pat' will be keyword-only.\n",
      "  true_seg_table['files'] = true_seg_table['files'].str.split('.not', 1).str[0]\n",
      "C:\\Users\\tkoch\\AppData\\Local\\Temp\\ipykernel_2576\\2784417981.py:23: FutureWarning: The frame.append method is deprecated and will be removed from pandas in a future version. Use pandas.concat instead.\n",
      "  all_F1s = all_F1s.append(seg_metrics)\n"
     ]
    },
    {
     "name": "stdout",
     "output_type": "stream",
     "text": [
      "Bird: 6/25\n"
     ]
    },
    {
     "name": "stderr",
     "output_type": "stream",
     "text": [
      "c:\\Users\\tkoch\\anaconda3\\envs\\avn_021_py38\\lib\\site-packages\\avn\\dataloading.py:151: FutureWarning: In a future version of pandas all arguments of StringMethods.split except for the argument 'pat' will be keyword-only.\n",
      "  true_seg_table['files'] = true_seg_table['files'].str.split('.not', 1).str[0]\n",
      "C:\\Users\\tkoch\\AppData\\Local\\Temp\\ipykernel_2576\\2784417981.py:23: FutureWarning: The frame.append method is deprecated and will be removed from pandas in a future version. Use pandas.concat instead.\n",
      "  all_F1s = all_F1s.append(seg_metrics)\n"
     ]
    },
    {
     "name": "stdout",
     "output_type": "stream",
     "text": [
      "Bird: 7/25\n"
     ]
    },
    {
     "name": "stderr",
     "output_type": "stream",
     "text": [
      "c:\\Users\\tkoch\\anaconda3\\envs\\avn_021_py38\\lib\\site-packages\\avn\\dataloading.py:151: FutureWarning: In a future version of pandas all arguments of StringMethods.split except for the argument 'pat' will be keyword-only.\n",
      "  true_seg_table['files'] = true_seg_table['files'].str.split('.not', 1).str[0]\n",
      "C:\\Users\\tkoch\\AppData\\Local\\Temp\\ipykernel_2576\\2784417981.py:23: FutureWarning: The frame.append method is deprecated and will be removed from pandas in a future version. Use pandas.concat instead.\n",
      "  all_F1s = all_F1s.append(seg_metrics)\n"
     ]
    },
    {
     "name": "stdout",
     "output_type": "stream",
     "text": [
      "Bird: 8/25\n"
     ]
    },
    {
     "name": "stderr",
     "output_type": "stream",
     "text": [
      "c:\\Users\\tkoch\\anaconda3\\envs\\avn_021_py38\\lib\\site-packages\\avn\\dataloading.py:151: FutureWarning: In a future version of pandas all arguments of StringMethods.split except for the argument 'pat' will be keyword-only.\n",
      "  true_seg_table['files'] = true_seg_table['files'].str.split('.not', 1).str[0]\n",
      "C:\\Users\\tkoch\\AppData\\Local\\Temp\\ipykernel_2576\\2784417981.py:23: FutureWarning: The frame.append method is deprecated and will be removed from pandas in a future version. Use pandas.concat instead.\n",
      "  all_F1s = all_F1s.append(seg_metrics)\n"
     ]
    },
    {
     "name": "stdout",
     "output_type": "stream",
     "text": [
      "Bird: 9/25\n"
     ]
    },
    {
     "name": "stderr",
     "output_type": "stream",
     "text": [
      "c:\\Users\\tkoch\\anaconda3\\envs\\avn_021_py38\\lib\\site-packages\\avn\\dataloading.py:151: FutureWarning: In a future version of pandas all arguments of StringMethods.split except for the argument 'pat' will be keyword-only.\n",
      "  true_seg_table['files'] = true_seg_table['files'].str.split('.not', 1).str[0]\n",
      "C:\\Users\\tkoch\\AppData\\Local\\Temp\\ipykernel_2576\\2784417981.py:23: FutureWarning: The frame.append method is deprecated and will be removed from pandas in a future version. Use pandas.concat instead.\n",
      "  all_F1s = all_F1s.append(seg_metrics)\n"
     ]
    },
    {
     "name": "stdout",
     "output_type": "stream",
     "text": [
      "Bird: 10/25\n"
     ]
    },
    {
     "name": "stderr",
     "output_type": "stream",
     "text": [
      "c:\\Users\\tkoch\\anaconda3\\envs\\avn_021_py38\\lib\\site-packages\\avn\\dataloading.py:151: FutureWarning: In a future version of pandas all arguments of StringMethods.split except for the argument 'pat' will be keyword-only.\n",
      "  true_seg_table['files'] = true_seg_table['files'].str.split('.not', 1).str[0]\n",
      "C:\\Users\\tkoch\\AppData\\Local\\Temp\\ipykernel_2576\\2784417981.py:23: FutureWarning: The frame.append method is deprecated and will be removed from pandas in a future version. Use pandas.concat instead.\n",
      "  all_F1s = all_F1s.append(seg_metrics)\n"
     ]
    },
    {
     "name": "stdout",
     "output_type": "stream",
     "text": [
      "Bird: 11/25\n"
     ]
    },
    {
     "name": "stderr",
     "output_type": "stream",
     "text": [
      "c:\\Users\\tkoch\\anaconda3\\envs\\avn_021_py38\\lib\\site-packages\\avn\\dataloading.py:151: FutureWarning: In a future version of pandas all arguments of StringMethods.split except for the argument 'pat' will be keyword-only.\n",
      "  true_seg_table['files'] = true_seg_table['files'].str.split('.not', 1).str[0]\n",
      "C:\\Users\\tkoch\\AppData\\Local\\Temp\\ipykernel_2576\\2784417981.py:23: FutureWarning: The frame.append method is deprecated and will be removed from pandas in a future version. Use pandas.concat instead.\n",
      "  all_F1s = all_F1s.append(seg_metrics)\n"
     ]
    },
    {
     "name": "stdout",
     "output_type": "stream",
     "text": [
      "Bird: 12/25\n"
     ]
    },
    {
     "name": "stderr",
     "output_type": "stream",
     "text": [
      "c:\\Users\\tkoch\\anaconda3\\envs\\avn_021_py38\\lib\\site-packages\\avn\\dataloading.py:151: FutureWarning: In a future version of pandas all arguments of StringMethods.split except for the argument 'pat' will be keyword-only.\n",
      "  true_seg_table['files'] = true_seg_table['files'].str.split('.not', 1).str[0]\n",
      "C:\\Users\\tkoch\\AppData\\Local\\Temp\\ipykernel_2576\\2784417981.py:23: FutureWarning: The frame.append method is deprecated and will be removed from pandas in a future version. Use pandas.concat instead.\n",
      "  all_F1s = all_F1s.append(seg_metrics)\n"
     ]
    },
    {
     "name": "stdout",
     "output_type": "stream",
     "text": [
      "Bird: 13/25\n"
     ]
    },
    {
     "name": "stderr",
     "output_type": "stream",
     "text": [
      "c:\\Users\\tkoch\\anaconda3\\envs\\avn_021_py38\\lib\\site-packages\\avn\\dataloading.py:151: FutureWarning: In a future version of pandas all arguments of StringMethods.split except for the argument 'pat' will be keyword-only.\n",
      "  true_seg_table['files'] = true_seg_table['files'].str.split('.not', 1).str[0]\n",
      "C:\\Users\\tkoch\\AppData\\Local\\Temp\\ipykernel_2576\\2784417981.py:23: FutureWarning: The frame.append method is deprecated and will be removed from pandas in a future version. Use pandas.concat instead.\n",
      "  all_F1s = all_F1s.append(seg_metrics)\n"
     ]
    },
    {
     "name": "stdout",
     "output_type": "stream",
     "text": [
      "Bird: 14/25\n"
     ]
    },
    {
     "name": "stderr",
     "output_type": "stream",
     "text": [
      "c:\\Users\\tkoch\\anaconda3\\envs\\avn_021_py38\\lib\\site-packages\\avn\\dataloading.py:151: FutureWarning: In a future version of pandas all arguments of StringMethods.split except for the argument 'pat' will be keyword-only.\n",
      "  true_seg_table['files'] = true_seg_table['files'].str.split('.not', 1).str[0]\n",
      "C:\\Users\\tkoch\\AppData\\Local\\Temp\\ipykernel_2576\\2784417981.py:23: FutureWarning: The frame.append method is deprecated and will be removed from pandas in a future version. Use pandas.concat instead.\n",
      "  all_F1s = all_F1s.append(seg_metrics)\n"
     ]
    },
    {
     "name": "stdout",
     "output_type": "stream",
     "text": [
      "Bird: 15/25\n"
     ]
    },
    {
     "name": "stderr",
     "output_type": "stream",
     "text": [
      "c:\\Users\\tkoch\\anaconda3\\envs\\avn_021_py38\\lib\\site-packages\\avn\\dataloading.py:151: FutureWarning: In a future version of pandas all arguments of StringMethods.split except for the argument 'pat' will be keyword-only.\n",
      "  true_seg_table['files'] = true_seg_table['files'].str.split('.not', 1).str[0]\n",
      "C:\\Users\\tkoch\\AppData\\Local\\Temp\\ipykernel_2576\\2784417981.py:23: FutureWarning: The frame.append method is deprecated and will be removed from pandas in a future version. Use pandas.concat instead.\n",
      "  all_F1s = all_F1s.append(seg_metrics)\n"
     ]
    },
    {
     "name": "stdout",
     "output_type": "stream",
     "text": [
      "Bird: 16/25\n"
     ]
    },
    {
     "name": "stderr",
     "output_type": "stream",
     "text": [
      "c:\\Users\\tkoch\\anaconda3\\envs\\avn_021_py38\\lib\\site-packages\\avn\\dataloading.py:151: FutureWarning: In a future version of pandas all arguments of StringMethods.split except for the argument 'pat' will be keyword-only.\n",
      "  true_seg_table['files'] = true_seg_table['files'].str.split('.not', 1).str[0]\n",
      "C:\\Users\\tkoch\\AppData\\Local\\Temp\\ipykernel_2576\\2784417981.py:23: FutureWarning: The frame.append method is deprecated and will be removed from pandas in a future version. Use pandas.concat instead.\n",
      "  all_F1s = all_F1s.append(seg_metrics)\n"
     ]
    },
    {
     "name": "stdout",
     "output_type": "stream",
     "text": [
      "Bird: 17/25\n"
     ]
    },
    {
     "name": "stderr",
     "output_type": "stream",
     "text": [
      "c:\\Users\\tkoch\\anaconda3\\envs\\avn_021_py38\\lib\\site-packages\\avn\\dataloading.py:151: FutureWarning: In a future version of pandas all arguments of StringMethods.split except for the argument 'pat' will be keyword-only.\n",
      "  true_seg_table['files'] = true_seg_table['files'].str.split('.not', 1).str[0]\n",
      "C:\\Users\\tkoch\\AppData\\Local\\Temp\\ipykernel_2576\\2784417981.py:23: FutureWarning: The frame.append method is deprecated and will be removed from pandas in a future version. Use pandas.concat instead.\n",
      "  all_F1s = all_F1s.append(seg_metrics)\n"
     ]
    },
    {
     "name": "stdout",
     "output_type": "stream",
     "text": [
      "Bird: 18/25\n"
     ]
    },
    {
     "name": "stderr",
     "output_type": "stream",
     "text": [
      "c:\\Users\\tkoch\\anaconda3\\envs\\avn_021_py38\\lib\\site-packages\\avn\\dataloading.py:151: FutureWarning: In a future version of pandas all arguments of StringMethods.split except for the argument 'pat' will be keyword-only.\n",
      "  true_seg_table['files'] = true_seg_table['files'].str.split('.not', 1).str[0]\n",
      "C:\\Users\\tkoch\\AppData\\Local\\Temp\\ipykernel_2576\\2784417981.py:23: FutureWarning: The frame.append method is deprecated and will be removed from pandas in a future version. Use pandas.concat instead.\n",
      "  all_F1s = all_F1s.append(seg_metrics)\n"
     ]
    },
    {
     "name": "stdout",
     "output_type": "stream",
     "text": [
      "Bird: 19/25\n"
     ]
    },
    {
     "name": "stderr",
     "output_type": "stream",
     "text": [
      "c:\\Users\\tkoch\\anaconda3\\envs\\avn_021_py38\\lib\\site-packages\\avn\\dataloading.py:151: FutureWarning: In a future version of pandas all arguments of StringMethods.split except for the argument 'pat' will be keyword-only.\n",
      "  true_seg_table['files'] = true_seg_table['files'].str.split('.not', 1).str[0]\n",
      "C:\\Users\\tkoch\\AppData\\Local\\Temp\\ipykernel_2576\\2784417981.py:23: FutureWarning: The frame.append method is deprecated and will be removed from pandas in a future version. Use pandas.concat instead.\n",
      "  all_F1s = all_F1s.append(seg_metrics)\n"
     ]
    },
    {
     "name": "stdout",
     "output_type": "stream",
     "text": [
      "Bird: 20/25\n"
     ]
    },
    {
     "name": "stderr",
     "output_type": "stream",
     "text": [
      "c:\\Users\\tkoch\\anaconda3\\envs\\avn_021_py38\\lib\\site-packages\\avn\\dataloading.py:151: FutureWarning: In a future version of pandas all arguments of StringMethods.split except for the argument 'pat' will be keyword-only.\n",
      "  true_seg_table['files'] = true_seg_table['files'].str.split('.not', 1).str[0]\n",
      "C:\\Users\\tkoch\\AppData\\Local\\Temp\\ipykernel_2576\\2784417981.py:23: FutureWarning: The frame.append method is deprecated and will be removed from pandas in a future version. Use pandas.concat instead.\n",
      "  all_F1s = all_F1s.append(seg_metrics)\n"
     ]
    },
    {
     "name": "stdout",
     "output_type": "stream",
     "text": [
      "Bird: 21/25\n"
     ]
    },
    {
     "name": "stderr",
     "output_type": "stream",
     "text": [
      "c:\\Users\\tkoch\\anaconda3\\envs\\avn_021_py38\\lib\\site-packages\\avn\\dataloading.py:151: FutureWarning: In a future version of pandas all arguments of StringMethods.split except for the argument 'pat' will be keyword-only.\n",
      "  true_seg_table['files'] = true_seg_table['files'].str.split('.not', 1).str[0]\n",
      "C:\\Users\\tkoch\\AppData\\Local\\Temp\\ipykernel_2576\\2784417981.py:23: FutureWarning: The frame.append method is deprecated and will be removed from pandas in a future version. Use pandas.concat instead.\n",
      "  all_F1s = all_F1s.append(seg_metrics)\n"
     ]
    },
    {
     "name": "stdout",
     "output_type": "stream",
     "text": [
      "Bird: 22/25\n"
     ]
    },
    {
     "name": "stderr",
     "output_type": "stream",
     "text": [
      "c:\\Users\\tkoch\\anaconda3\\envs\\avn_021_py38\\lib\\site-packages\\avn\\dataloading.py:151: FutureWarning: In a future version of pandas all arguments of StringMethods.split except for the argument 'pat' will be keyword-only.\n",
      "  true_seg_table['files'] = true_seg_table['files'].str.split('.not', 1).str[0]\n",
      "C:\\Users\\tkoch\\AppData\\Local\\Temp\\ipykernel_2576\\2784417981.py:23: FutureWarning: The frame.append method is deprecated and will be removed from pandas in a future version. Use pandas.concat instead.\n",
      "  all_F1s = all_F1s.append(seg_metrics)\n"
     ]
    },
    {
     "name": "stdout",
     "output_type": "stream",
     "text": [
      "Bird: 23/25\n"
     ]
    },
    {
     "name": "stderr",
     "output_type": "stream",
     "text": [
      "c:\\Users\\tkoch\\anaconda3\\envs\\avn_021_py38\\lib\\site-packages\\avn\\dataloading.py:151: FutureWarning: In a future version of pandas all arguments of StringMethods.split except for the argument 'pat' will be keyword-only.\n",
      "  true_seg_table['files'] = true_seg_table['files'].str.split('.not', 1).str[0]\n",
      "C:\\Users\\tkoch\\AppData\\Local\\Temp\\ipykernel_2576\\2784417981.py:23: FutureWarning: The frame.append method is deprecated and will be removed from pandas in a future version. Use pandas.concat instead.\n",
      "  all_F1s = all_F1s.append(seg_metrics)\n"
     ]
    },
    {
     "name": "stdout",
     "output_type": "stream",
     "text": [
      "Bird: 24/25\n"
     ]
    },
    {
     "name": "stderr",
     "output_type": "stream",
     "text": [
      "c:\\Users\\tkoch\\anaconda3\\envs\\avn_021_py38\\lib\\site-packages\\avn\\dataloading.py:151: FutureWarning: In a future version of pandas all arguments of StringMethods.split except for the argument 'pat' will be keyword-only.\n",
      "  true_seg_table['files'] = true_seg_table['files'].str.split('.not', 1).str[0]\n",
      "C:\\Users\\tkoch\\AppData\\Local\\Temp\\ipykernel_2576\\2784417981.py:23: FutureWarning: The frame.append method is deprecated and will be removed from pandas in a future version. Use pandas.concat instead.\n",
      "  all_F1s = all_F1s.append(seg_metrics)\n"
     ]
    }
   ],
   "source": [
    "all_F1s = pd.DataFrame()\n",
    "\n",
    "for i, Bird_ID in enumerate(All_Birds):\n",
    "    print(\"Bird: \" + str(i) + \"/\" + str(len(All_Birds)))\n",
    "    \n",
    "    song_folder = 'D:/Rockefeller_Song_Dataset/Pupils_labeled_subsets/' + Bird_ID + \"/\"\n",
    "    ground_truth_path = song_folder + Bird_ID + \"_syll_table.csv\"\n",
    "    \n",
    "    #do MFCC Segmentation\n",
    "    segmenter = segmentation.RMSEDerivative()\n",
    "    seg_data = segmenter.make_segmentation_table(Bird_ID, song_folder,\n",
    "                                                 upper_threshold = 0.006, \n",
    "                                                 lower_threshold = -0.1)\n",
    "    \n",
    "    #Add ground truth data\n",
    "    seg_data = dataloading.Utils.add_ev_song_truth_table(seg_data, ground_truth_path)\n",
    "    seg_data.true_seg_table['labels'] = 's'\n",
    "\n",
    "    seg_data = segmentation.Metrics.calc_F1(seg_data, max_gap = 0.01)\n",
    "    \n",
    "    seg_metrics = seg_data.seg_metrics\n",
    "    seg_metrics[\"Bird_ID\"] = [Bird_ID]\n",
    "    all_F1s = all_F1s.append(seg_metrics)\n"
   ]
  },
  {
   "cell_type": "code",
   "execution_count": null,
   "metadata": {},
   "outputs": [],
   "source": [
    "all_F1s['method'] = 'RMSE'\n",
    "all_F1s['max_gap'] = 0.01"
   ]
  },
  {
   "cell_type": "code",
   "execution_count": null,
   "metadata": {},
   "outputs": [],
   "source": [
    "all_seg_metrics = pd.concat([all_seg_metrics, all_F1s])"
   ]
  },
  {
   "cell_type": "code",
   "execution_count": null,
   "metadata": {},
   "outputs": [
    {
     "data": {
      "text/html": [
       "<div>\n",
       "<style scoped>\n",
       "    .dataframe tbody tr th:only-of-type {\n",
       "        vertical-align: middle;\n",
       "    }\n",
       "\n",
       "    .dataframe tbody tr th {\n",
       "        vertical-align: top;\n",
       "    }\n",
       "\n",
       "    .dataframe thead th {\n",
       "        text-align: right;\n",
       "    }\n",
       "</style>\n",
       "<table border=\"1\" class=\"dataframe\">\n",
       "  <thead>\n",
       "    <tr style=\"text-align: right;\">\n",
       "      <th></th>\n",
       "      <th>F1</th>\n",
       "      <th>precision</th>\n",
       "      <th>recall</th>\n",
       "      <th>Bird_ID</th>\n",
       "      <th>max_gap</th>\n",
       "      <th>method</th>\n",
       "    </tr>\n",
       "  </thead>\n",
       "  <tbody>\n",
       "    <tr>\n",
       "      <th>0</th>\n",
       "      <td>0.998987</td>\n",
       "      <td>1.000000</td>\n",
       "      <td>0.997976</td>\n",
       "      <td>LIME18</td>\n",
       "      <td>0.05</td>\n",
       "      <td>whisper_seg</td>\n",
       "    </tr>\n",
       "    <tr>\n",
       "      <th>0</th>\n",
       "      <td>0.982776</td>\n",
       "      <td>0.983773</td>\n",
       "      <td>0.981781</td>\n",
       "      <td>LIME18</td>\n",
       "      <td>0.01</td>\n",
       "      <td>whisper_seg</td>\n",
       "    </tr>\n",
       "    <tr>\n",
       "      <th>0</th>\n",
       "      <td>0.946360</td>\n",
       "      <td>0.898182</td>\n",
       "      <td>1.000000</td>\n",
       "      <td>LIME18</td>\n",
       "      <td>0.05</td>\n",
       "      <td>Tweety_net</td>\n",
       "    </tr>\n",
       "    <tr>\n",
       "      <th>0</th>\n",
       "      <td>0.922488</td>\n",
       "      <td>0.876364</td>\n",
       "      <td>0.973737</td>\n",
       "      <td>LIME18</td>\n",
       "      <td>0.01</td>\n",
       "      <td>Tweety_net</td>\n",
       "    </tr>\n",
       "    <tr>\n",
       "      <th>0</th>\n",
       "      <td>0.873990</td>\n",
       "      <td>0.996317</td>\n",
       "      <td>0.778417</td>\n",
       "      <td>BRN20</td>\n",
       "      <td>0.05</td>\n",
       "      <td>whisper_seg</td>\n",
       "    </tr>\n",
       "    <tr>\n",
       "      <th>...</th>\n",
       "      <td>...</td>\n",
       "      <td>...</td>\n",
       "      <td>...</td>\n",
       "      <td>...</td>\n",
       "      <td>...</td>\n",
       "      <td>...</td>\n",
       "    </tr>\n",
       "    <tr>\n",
       "      <th>0</th>\n",
       "      <td>0.340058</td>\n",
       "      <td>0.316354</td>\n",
       "      <td>0.367601</td>\n",
       "      <td>GRY49</td>\n",
       "      <td>0.01</td>\n",
       "      <td>RMSE</td>\n",
       "    </tr>\n",
       "    <tr>\n",
       "      <th>0</th>\n",
       "      <td>0.451142</td>\n",
       "      <td>0.425862</td>\n",
       "      <td>0.479612</td>\n",
       "      <td>GRY28</td>\n",
       "      <td>0.01</td>\n",
       "      <td>RMSE</td>\n",
       "    </tr>\n",
       "    <tr>\n",
       "      <th>0</th>\n",
       "      <td>0.603145</td>\n",
       "      <td>0.539735</td>\n",
       "      <td>0.683438</td>\n",
       "      <td>GRY34</td>\n",
       "      <td>0.01</td>\n",
       "      <td>RMSE</td>\n",
       "    </tr>\n",
       "    <tr>\n",
       "      <th>0</th>\n",
       "      <td>0.381188</td>\n",
       "      <td>0.354023</td>\n",
       "      <td>0.412869</td>\n",
       "      <td>GRY37HP</td>\n",
       "      <td>0.01</td>\n",
       "      <td>RMSE</td>\n",
       "    </tr>\n",
       "    <tr>\n",
       "      <th>0</th>\n",
       "      <td>0.263876</td>\n",
       "      <td>0.241667</td>\n",
       "      <td>0.290581</td>\n",
       "      <td>GRY112</td>\n",
       "      <td>0.01</td>\n",
       "      <td>RMSE</td>\n",
       "    </tr>\n",
       "  </tbody>\n",
       "</table>\n",
       "<p>125 rows × 6 columns</p>\n",
       "</div>"
      ],
      "text/plain": [
       "          F1  precision    recall  Bird_ID  max_gap       method\n",
       "0   0.998987   1.000000  0.997976   LIME18     0.05  whisper_seg\n",
       "0   0.982776   0.983773  0.981781   LIME18     0.01  whisper_seg\n",
       "0   0.946360   0.898182  1.000000   LIME18     0.05   Tweety_net\n",
       "0   0.922488   0.876364  0.973737   LIME18     0.01   Tweety_net\n",
       "0   0.873990   0.996317  0.778417    BRN20     0.05  whisper_seg\n",
       "..       ...        ...       ...      ...      ...          ...\n",
       "0   0.340058   0.316354  0.367601    GRY49     0.01         RMSE\n",
       "0   0.451142   0.425862  0.479612    GRY28     0.01         RMSE\n",
       "0   0.603145   0.539735  0.683438    GRY34     0.01         RMSE\n",
       "0   0.381188   0.354023  0.412869  GRY37HP     0.01         RMSE\n",
       "0   0.263876   0.241667  0.290581   GRY112     0.01         RMSE\n",
       "\n",
       "[125 rows x 6 columns]"
      ]
     },
     "execution_count": 12,
     "metadata": {},
     "output_type": "execute_result"
    }
   ],
   "source": [
    "all_seg_metrics"
   ]
  },
  {
   "cell_type": "code",
   "execution_count": null,
   "metadata": {},
   "outputs": [],
   "source": [
    "all_seg_metrics.to_csv('C:\\\\Grad_School\\\\Code_and_software\\\\Py_code\\\\WhisperSeg_validation\\\\wseg_RMSE_tweety_F1s_rock.csv')"
   ]
  },
  {
   "cell_type": "markdown",
   "metadata": {},
   "source": [
    "## Plot F1 Scores"
   ]
  },
  {
   "cell_type": "code",
   "execution_count": 8,
   "metadata": {},
   "outputs": [],
   "source": [
    "all_seg_metrics = pd.read_csv('C:\\\\Grad_School\\\\Code_and_software\\\\Py_code\\\\WhisperSeg_validation\\\\wseg_RMSE_tweety_F1s_rock.csv')"
   ]
  },
  {
   "cell_type": "code",
   "execution_count": 9,
   "metadata": {},
   "outputs": [],
   "source": [
    "import seaborn as sns"
   ]
  },
  {
   "cell_type": "code",
   "execution_count": 10,
   "metadata": {},
   "outputs": [],
   "source": [
    "all_seg_metrics = all_seg_metrics[all_seg_metrics.max_gap == 0.01]"
   ]
  },
  {
   "cell_type": "code",
   "execution_count": 11,
   "metadata": {},
   "outputs": [],
   "source": [
    "all_seg_metrics.method = pd.Categorical(all_seg_metrics.method).reorder_categories(['RMSE', 'Tweety_net', 'whisper_seg'])\n",
    "all_seg_metrics.method = all_seg_metrics.method.cat.rename_categories({'Tweety_net' : \"TweetyNet\", \n",
    "                                                                       'whisper_seg' : \"WhisperSeg\"})"
   ]
  },
  {
   "cell_type": "code",
   "execution_count": 12,
   "metadata": {},
   "outputs": [],
   "source": [
    "plt.rcParams.update({'font.size': 10})"
   ]
  },
  {
   "cell_type": "code",
   "execution_count": 13,
   "metadata": {},
   "outputs": [
    {
     "data": {
      "text/html": [
       "<div>\n",
       "<style scoped>\n",
       "    .dataframe tbody tr th:only-of-type {\n",
       "        vertical-align: middle;\n",
       "    }\n",
       "\n",
       "    .dataframe tbody tr th {\n",
       "        vertical-align: top;\n",
       "    }\n",
       "\n",
       "    .dataframe thead th {\n",
       "        text-align: right;\n",
       "    }\n",
       "</style>\n",
       "<table border=\"1\" class=\"dataframe\">\n",
       "  <thead>\n",
       "    <tr style=\"text-align: right;\">\n",
       "      <th></th>\n",
       "      <th>Unnamed: 0</th>\n",
       "      <th>F1</th>\n",
       "      <th>precision</th>\n",
       "      <th>recall</th>\n",
       "      <th>max_gap</th>\n",
       "    </tr>\n",
       "    <tr>\n",
       "      <th>method</th>\n",
       "      <th></th>\n",
       "      <th></th>\n",
       "      <th></th>\n",
       "      <th></th>\n",
       "      <th></th>\n",
       "    </tr>\n",
       "  </thead>\n",
       "  <tbody>\n",
       "    <tr>\n",
       "      <th>RMSE</th>\n",
       "      <td>0.0</td>\n",
       "      <td>0.455187</td>\n",
       "      <td>0.409994</td>\n",
       "      <td>0.515115</td>\n",
       "      <td>0.01</td>\n",
       "    </tr>\n",
       "    <tr>\n",
       "      <th>TweetyNet</th>\n",
       "      <td>0.0</td>\n",
       "      <td>0.867529</td>\n",
       "      <td>0.856606</td>\n",
       "      <td>0.884896</td>\n",
       "      <td>0.01</td>\n",
       "    </tr>\n",
       "    <tr>\n",
       "      <th>WhisperSeg</th>\n",
       "      <td>0.0</td>\n",
       "      <td>0.890083</td>\n",
       "      <td>0.953024</td>\n",
       "      <td>0.843822</td>\n",
       "      <td>0.01</td>\n",
       "    </tr>\n",
       "  </tbody>\n",
       "</table>\n",
       "</div>"
      ],
      "text/plain": [
       "            Unnamed: 0        F1  precision    recall  max_gap\n",
       "method                                                        \n",
       "RMSE               0.0  0.455187   0.409994  0.515115     0.01\n",
       "TweetyNet          0.0  0.867529   0.856606  0.884896     0.01\n",
       "WhisperSeg         0.0  0.890083   0.953024  0.843822     0.01"
      ]
     },
     "execution_count": 13,
     "metadata": {},
     "output_type": "execute_result"
    }
   ],
   "source": [
    "all_seg_metrics.groupby('method').mean(numeric_only=True)"
   ]
  },
  {
   "cell_type": "code",
   "execution_count": 14,
   "metadata": {},
   "outputs": [
    {
     "name": "stdout",
     "output_type": "stream",
     "text": [
      "0.017205213052734182\n",
      "0.01772541662318636\n",
      "0.027434055813546028\n"
     ]
    }
   ],
   "source": [
    "from scipy.stats import sem\n",
    "print(sem(all_seg_metrics[all_seg_metrics.method == 'WhisperSeg'].F1))\n",
    "print(sem(all_seg_metrics[all_seg_metrics.method == 'TweetyNet'].F1))\n",
    "print(sem(all_seg_metrics[all_seg_metrics.method == 'RMSE'].F1))"
   ]
  },
  {
   "cell_type": "code",
   "execution_count": 29,
   "metadata": {},
   "outputs": [
    {
     "data": {
      "text/plain": [
       "Text(0.5, 13.722222222222216, 'Method')"
      ]
     },
     "execution_count": 29,
     "metadata": {},
     "output_type": "execute_result"
    },
    {
     "data": {
      "image/png": "[encoded data removed]",
      "text/plain": [
       "<Figure size 400x400 with 1 Axes>"
      ]
     },
     "metadata": {},
     "output_type": "display_data"
    }
   ],
   "source": [
    "plt.figure(figsize = (4, 4))\n",
    "sns.swarmplot(data = all_seg_metrics, x = 'method', y = 'F1', color = 'black', s = 5)\n",
    "sns.boxplot(data = all_seg_metrics, x = 'method', y = 'F1', color = '0.8')\n",
    "plt.title(\"Syllable Onsets within 10ms of Ground Truth\\nfor Rockefeller Dataset\")\n",
    "plt.xlabel('Method')"
   ]
  },
  {
   "cell_type": "code",
   "execution_count": 19,
   "metadata": {},
   "outputs": [
    {
     "data": {
      "image/png": "[encoded data removed]",
      "text/plain": [
       "<Figure size 400x400 with 1 Axes>"
      ]
     },
     "metadata": {},
     "output_type": "display_data"
    }
   ],
   "source": [
    "plt.figure(figsize = (4, 4))\n",
    "sns.swarmplot(data = all_seg_metrics, x = 'method', y = 'F1', color = 'crimson', s = 5, dodge = True, legend = False, \n",
    "              marker = \"$\\circ$\")\n",
    "sns.boxplot(data = all_seg_metrics, x = 'method', y = 'F1', fill = False, color = 'crimson', fliersize=0, whis= 0, \n",
    "legend = False)\n",
    "plt.title(\"Syllable Onsets within 10ms of Ground Truth\")\n",
    "plt.xlabel('Method')\n",
    "sns.despine()\n",
    "plt.savefig('rock_onset_f1s.svg')"
   ]
  },
  {
   "cell_type": "code",
   "execution_count": null,
   "metadata": {},
   "outputs": [
    {
     "data": {
      "text/plain": [
       "Text(0, 0.5, 'Precision')"
      ]
     },
     "execution_count": 27,
     "metadata": {},
     "output_type": "execute_result"
    },
    {
     "data": {
      "image/png": "[encoded data removed]",
      "text/plain": [
       "<Figure size 400x400 with 1 Axes>"
      ]
     },
     "metadata": {},
     "output_type": "display_data"
    }
   ],
   "source": [
    "plt.figure(figsize = (4, 4))\n",
    "sns.swarmplot(data = all_seg_metrics, x = 'method', y = 'precision', color = 'black', s = 4)\n",
    "sns.boxplot(data = all_seg_metrics, x = 'method', y = 'precision', color = '0.8')\n",
    "plt.title(\"Syllable Onsets within 10ms of Ground Truth\\nfor Rockefeller Dataset\")\n",
    "plt.xlabel('Method')\n",
    "plt.ylabel('Precision')"
   ]
  },
  {
   "cell_type": "code",
   "execution_count": 25,
   "metadata": {},
   "outputs": [
    {
     "data": {
      "image/png": "[encoded data removed]",
      "text/plain": [
       "<Figure size 400x400 with 1 Axes>"
      ]
     },
     "metadata": {},
     "output_type": "display_data"
    }
   ],
   "source": [
    "plt.figure(figsize = (4, 4))\n",
    "sns.swarmplot(data = all_seg_metrics, x = 'method', y = 'precision', color = 'crimson', s = 4, dodge = True, legend = False, \n",
    "              marker = \"$\\circ$\", )\n",
    "sns.boxplot(data = all_seg_metrics, x = 'method', y = 'precision', fill = False, color = 'crimson', fliersize=0, whis= 0, \n",
    "legend = False)\n",
    "plt.title(\"Syllable Onsets within 10ms of Ground Truth\")\n",
    "plt.xlabel('Method')\n",
    "plt.ylabel('Precision')\n",
    "sns.despine()\n",
    "plt.savefig('rock_onset_precision.svg')"
   ]
  },
  {
   "cell_type": "code",
   "execution_count": null,
   "metadata": {},
   "outputs": [
    {
     "data": {
      "text/plain": [
       "Text(0, 0.5, 'Recall')"
      ]
     },
     "execution_count": 28,
     "metadata": {},
     "output_type": "execute_result"
    },
    {
     "data": {
      "image/png": "[encoded data removed]",
      "text/plain": [
       "<Figure size 400x400 with 1 Axes>"
      ]
     },
     "metadata": {},
     "output_type": "display_data"
    }
   ],
   "source": [
    "plt.figure(figsize = (4, 4))\n",
    "sns.swarmplot(data = all_seg_metrics, x = 'method', y = 'recall', color = 'black', s = 5)\n",
    "sns.boxplot(data = all_seg_metrics, x = 'method', y = 'recall', color = '0.8')\n",
    "plt.title(\"Syllable Onsets within 10ms of Ground Truth\\nfor Rockefeller Dataset\")\n",
    "plt.xlabel('Method')\n",
    "plt.ylabel('Recall')"
   ]
  },
  {
   "cell_type": "code",
   "execution_count": 27,
   "metadata": {},
   "outputs": [
    {
     "data": {
      "image/png": "[encoded data removed]",
      "text/plain": [
       "<Figure size 400x400 with 1 Axes>"
      ]
     },
     "metadata": {},
     "output_type": "display_data"
    }
   ],
   "source": [
    "plt.figure(figsize = (4, 4))\n",
    "sns.swarmplot(data = all_seg_metrics, x = 'method', y = 'recall', color = 'crimson', s = 5, dodge = True, legend = False, \n",
    "               marker = \"$\\circ$\",)\n",
    "sns.boxplot(data = all_seg_metrics, x = 'method', y = 'recall', fill = False, color = 'crimson', fliersize=0, whis= 0, \n",
    "legend = False)\n",
    "plt.title(\"Syllable Onsets within 10ms of Ground Truth\")\n",
    "plt.xlabel('Method')\n",
    "plt.ylabel('Recall')\n",
    "sns.despine()\n",
    "\n",
    "plt.savefig('rock_onset_recall.svg')\n"
   ]
  },
  {
   "cell_type": "markdown",
   "metadata": {},
   "source": [
    "# Offsets"
   ]
  },
  {
   "cell_type": "markdown",
   "metadata": {},
   "source": [
    "## Calc F1 Scores"
   ]
  },
  {
   "cell_type": "code",
   "execution_count": null,
   "metadata": {},
   "outputs": [
    {
     "name": "stderr",
     "output_type": "stream",
     "text": [
      "c:\\Users\\tkoch\\anaconda3\\envs\\avn_021_py38\\lib\\site-packages\\avn\\dataloading.py:151: FutureWarning: In a future version of pandas all arguments of StringMethods.split except for the argument 'pat' will be keyword-only.\n",
      "  true_seg_table['files'] = true_seg_table['files'].str.split('.not', 1).str[0]\n",
      "c:\\Users\\tkoch\\anaconda3\\envs\\avn_021_py38\\lib\\site-packages\\avn\\dataloading.py:151: FutureWarning: In a future version of pandas all arguments of StringMethods.split except for the argument 'pat' will be keyword-only.\n",
      "  true_seg_table['files'] = true_seg_table['files'].str.split('.not', 1).str[0]\n",
      "c:\\Users\\tkoch\\anaconda3\\envs\\avn_021_py38\\lib\\site-packages\\avn\\dataloading.py:151: FutureWarning: In a future version of pandas all arguments of StringMethods.split except for the argument 'pat' will be keyword-only.\n",
      "  true_seg_table['files'] = true_seg_table['files'].str.split('.not', 1).str[0]\n",
      "c:\\Users\\tkoch\\anaconda3\\envs\\avn_021_py38\\lib\\site-packages\\avn\\dataloading.py:151: FutureWarning: In a future version of pandas all arguments of StringMethods.split except for the argument 'pat' will be keyword-only.\n",
      "  true_seg_table['files'] = true_seg_table['files'].str.split('.not', 1).str[0]\n",
      "c:\\Users\\tkoch\\anaconda3\\envs\\avn_021_py38\\lib\\site-packages\\avn\\dataloading.py:151: FutureWarning: In a future version of pandas all arguments of StringMethods.split except for the argument 'pat' will be keyword-only.\n",
      "  true_seg_table['files'] = true_seg_table['files'].str.split('.not', 1).str[0]\n",
      "c:\\Users\\tkoch\\anaconda3\\envs\\avn_021_py38\\lib\\site-packages\\avn\\dataloading.py:151: FutureWarning: In a future version of pandas all arguments of StringMethods.split except for the argument 'pat' will be keyword-only.\n",
      "  true_seg_table['files'] = true_seg_table['files'].str.split('.not', 1).str[0]\n",
      "c:\\Users\\tkoch\\anaconda3\\envs\\avn_021_py38\\lib\\site-packages\\avn\\dataloading.py:151: FutureWarning: In a future version of pandas all arguments of StringMethods.split except for the argument 'pat' will be keyword-only.\n",
      "  true_seg_table['files'] = true_seg_table['files'].str.split('.not', 1).str[0]\n",
      "c:\\Users\\tkoch\\anaconda3\\envs\\avn_021_py38\\lib\\site-packages\\avn\\dataloading.py:151: FutureWarning: In a future version of pandas all arguments of StringMethods.split except for the argument 'pat' will be keyword-only.\n",
      "  true_seg_table['files'] = true_seg_table['files'].str.split('.not', 1).str[0]\n",
      "c:\\Users\\tkoch\\anaconda3\\envs\\avn_021_py38\\lib\\site-packages\\avn\\dataloading.py:151: FutureWarning: In a future version of pandas all arguments of StringMethods.split except for the argument 'pat' will be keyword-only.\n",
      "  true_seg_table['files'] = true_seg_table['files'].str.split('.not', 1).str[0]\n",
      "c:\\Users\\tkoch\\anaconda3\\envs\\avn_021_py38\\lib\\site-packages\\avn\\dataloading.py:151: FutureWarning: In a future version of pandas all arguments of StringMethods.split except for the argument 'pat' will be keyword-only.\n",
      "  true_seg_table['files'] = true_seg_table['files'].str.split('.not', 1).str[0]\n",
      "c:\\Users\\tkoch\\anaconda3\\envs\\avn_021_py38\\lib\\site-packages\\avn\\dataloading.py:151: FutureWarning: In a future version of pandas all arguments of StringMethods.split except for the argument 'pat' will be keyword-only.\n",
      "  true_seg_table['files'] = true_seg_table['files'].str.split('.not', 1).str[0]\n",
      "c:\\Users\\tkoch\\anaconda3\\envs\\avn_021_py38\\lib\\site-packages\\avn\\dataloading.py:151: FutureWarning: In a future version of pandas all arguments of StringMethods.split except for the argument 'pat' will be keyword-only.\n",
      "  true_seg_table['files'] = true_seg_table['files'].str.split('.not', 1).str[0]\n",
      "c:\\Users\\tkoch\\anaconda3\\envs\\avn_021_py38\\lib\\site-packages\\avn\\dataloading.py:151: FutureWarning: In a future version of pandas all arguments of StringMethods.split except for the argument 'pat' will be keyword-only.\n",
      "  true_seg_table['files'] = true_seg_table['files'].str.split('.not', 1).str[0]\n",
      "c:\\Users\\tkoch\\anaconda3\\envs\\avn_021_py38\\lib\\site-packages\\avn\\dataloading.py:151: FutureWarning: In a future version of pandas all arguments of StringMethods.split except for the argument 'pat' will be keyword-only.\n",
      "  true_seg_table['files'] = true_seg_table['files'].str.split('.not', 1).str[0]\n",
      "c:\\Users\\tkoch\\anaconda3\\envs\\avn_021_py38\\lib\\site-packages\\avn\\dataloading.py:151: FutureWarning: In a future version of pandas all arguments of StringMethods.split except for the argument 'pat' will be keyword-only.\n",
      "  true_seg_table['files'] = true_seg_table['files'].str.split('.not', 1).str[0]\n",
      "c:\\Users\\tkoch\\anaconda3\\envs\\avn_021_py38\\lib\\site-packages\\avn\\dataloading.py:151: FutureWarning: In a future version of pandas all arguments of StringMethods.split except for the argument 'pat' will be keyword-only.\n",
      "  true_seg_table['files'] = true_seg_table['files'].str.split('.not', 1).str[0]\n",
      "c:\\Users\\tkoch\\anaconda3\\envs\\avn_021_py38\\lib\\site-packages\\avn\\dataloading.py:151: FutureWarning: In a future version of pandas all arguments of StringMethods.split except for the argument 'pat' will be keyword-only.\n",
      "  true_seg_table['files'] = true_seg_table['files'].str.split('.not', 1).str[0]\n",
      "c:\\Users\\tkoch\\anaconda3\\envs\\avn_021_py38\\lib\\site-packages\\avn\\dataloading.py:151: FutureWarning: In a future version of pandas all arguments of StringMethods.split except for the argument 'pat' will be keyword-only.\n",
      "  true_seg_table['files'] = true_seg_table['files'].str.split('.not', 1).str[0]\n",
      "c:\\Users\\tkoch\\anaconda3\\envs\\avn_021_py38\\lib\\site-packages\\avn\\dataloading.py:151: FutureWarning: In a future version of pandas all arguments of StringMethods.split except for the argument 'pat' will be keyword-only.\n",
      "  true_seg_table['files'] = true_seg_table['files'].str.split('.not', 1).str[0]\n",
      "c:\\Users\\tkoch\\anaconda3\\envs\\avn_021_py38\\lib\\site-packages\\avn\\dataloading.py:151: FutureWarning: In a future version of pandas all arguments of StringMethods.split except for the argument 'pat' will be keyword-only.\n",
      "  true_seg_table['files'] = true_seg_table['files'].str.split('.not', 1).str[0]\n",
      "c:\\Users\\tkoch\\anaconda3\\envs\\avn_021_py38\\lib\\site-packages\\avn\\dataloading.py:151: FutureWarning: In a future version of pandas all arguments of StringMethods.split except for the argument 'pat' will be keyword-only.\n",
      "  true_seg_table['files'] = true_seg_table['files'].str.split('.not', 1).str[0]\n",
      "c:\\Users\\tkoch\\anaconda3\\envs\\avn_021_py38\\lib\\site-packages\\avn\\dataloading.py:151: FutureWarning: In a future version of pandas all arguments of StringMethods.split except for the argument 'pat' will be keyword-only.\n",
      "  true_seg_table['files'] = true_seg_table['files'].str.split('.not', 1).str[0]\n",
      "c:\\Users\\tkoch\\anaconda3\\envs\\avn_021_py38\\lib\\site-packages\\avn\\dataloading.py:151: FutureWarning: In a future version of pandas all arguments of StringMethods.split except for the argument 'pat' will be keyword-only.\n",
      "  true_seg_table['files'] = true_seg_table['files'].str.split('.not', 1).str[0]\n",
      "c:\\Users\\tkoch\\anaconda3\\envs\\avn_021_py38\\lib\\site-packages\\avn\\dataloading.py:151: FutureWarning: In a future version of pandas all arguments of StringMethods.split except for the argument 'pat' will be keyword-only.\n",
      "  true_seg_table['files'] = true_seg_table['files'].str.split('.not', 1).str[0]\n",
      "c:\\Users\\tkoch\\anaconda3\\envs\\avn_021_py38\\lib\\site-packages\\avn\\dataloading.py:151: FutureWarning: In a future version of pandas all arguments of StringMethods.split except for the argument 'pat' will be keyword-only.\n",
      "  true_seg_table['files'] = true_seg_table['files'].str.split('.not', 1).str[0]\n",
      "c:\\Users\\tkoch\\anaconda3\\envs\\avn_021_py38\\lib\\site-packages\\avn\\dataloading.py:151: FutureWarning: In a future version of pandas all arguments of StringMethods.split except for the argument 'pat' will be keyword-only.\n",
      "  true_seg_table['files'] = true_seg_table['files'].str.split('.not', 1).str[0]\n",
      "c:\\Users\\tkoch\\anaconda3\\envs\\avn_021_py38\\lib\\site-packages\\avn\\dataloading.py:151: FutureWarning: In a future version of pandas all arguments of StringMethods.split except for the argument 'pat' will be keyword-only.\n",
      "  true_seg_table['files'] = true_seg_table['files'].str.split('.not', 1).str[0]\n",
      "c:\\Users\\tkoch\\anaconda3\\envs\\avn_021_py38\\lib\\site-packages\\avn\\dataloading.py:151: FutureWarning: In a future version of pandas all arguments of StringMethods.split except for the argument 'pat' will be keyword-only.\n",
      "  true_seg_table['files'] = true_seg_table['files'].str.split('.not', 1).str[0]\n",
      "c:\\Users\\tkoch\\anaconda3\\envs\\avn_021_py38\\lib\\site-packages\\avn\\dataloading.py:151: FutureWarning: In a future version of pandas all arguments of StringMethods.split except for the argument 'pat' will be keyword-only.\n",
      "  true_seg_table['files'] = true_seg_table['files'].str.split('.not', 1).str[0]\n",
      "c:\\Users\\tkoch\\anaconda3\\envs\\avn_021_py38\\lib\\site-packages\\avn\\dataloading.py:151: FutureWarning: In a future version of pandas all arguments of StringMethods.split except for the argument 'pat' will be keyword-only.\n",
      "  true_seg_table['files'] = true_seg_table['files'].str.split('.not', 1).str[0]\n",
      "c:\\Users\\tkoch\\anaconda3\\envs\\avn_021_py38\\lib\\site-packages\\avn\\dataloading.py:151: FutureWarning: In a future version of pandas all arguments of StringMethods.split except for the argument 'pat' will be keyword-only.\n",
      "  true_seg_table['files'] = true_seg_table['files'].str.split('.not', 1).str[0]\n",
      "c:\\Users\\tkoch\\anaconda3\\envs\\avn_021_py38\\lib\\site-packages\\avn\\dataloading.py:151: FutureWarning: In a future version of pandas all arguments of StringMethods.split except for the argument 'pat' will be keyword-only.\n",
      "  true_seg_table['files'] = true_seg_table['files'].str.split('.not', 1).str[0]\n",
      "c:\\Users\\tkoch\\anaconda3\\envs\\avn_021_py38\\lib\\site-packages\\avn\\dataloading.py:151: FutureWarning: In a future version of pandas all arguments of StringMethods.split except for the argument 'pat' will be keyword-only.\n",
      "  true_seg_table['files'] = true_seg_table['files'].str.split('.not', 1).str[0]\n",
      "c:\\Users\\tkoch\\anaconda3\\envs\\avn_021_py38\\lib\\site-packages\\avn\\dataloading.py:151: FutureWarning: In a future version of pandas all arguments of StringMethods.split except for the argument 'pat' will be keyword-only.\n",
      "  true_seg_table['files'] = true_seg_table['files'].str.split('.not', 1).str[0]\n",
      "c:\\Users\\tkoch\\anaconda3\\envs\\avn_021_py38\\lib\\site-packages\\avn\\dataloading.py:151: FutureWarning: In a future version of pandas all arguments of StringMethods.split except for the argument 'pat' will be keyword-only.\n",
      "  true_seg_table['files'] = true_seg_table['files'].str.split('.not', 1).str[0]\n",
      "c:\\Users\\tkoch\\anaconda3\\envs\\avn_021_py38\\lib\\site-packages\\avn\\dataloading.py:151: FutureWarning: In a future version of pandas all arguments of StringMethods.split except for the argument 'pat' will be keyword-only.\n",
      "  true_seg_table['files'] = true_seg_table['files'].str.split('.not', 1).str[0]\n",
      "c:\\Users\\tkoch\\anaconda3\\envs\\avn_021_py38\\lib\\site-packages\\avn\\dataloading.py:151: FutureWarning: In a future version of pandas all arguments of StringMethods.split except for the argument 'pat' will be keyword-only.\n",
      "  true_seg_table['files'] = true_seg_table['files'].str.split('.not', 1).str[0]\n",
      "c:\\Users\\tkoch\\anaconda3\\envs\\avn_021_py38\\lib\\site-packages\\avn\\dataloading.py:151: FutureWarning: In a future version of pandas all arguments of StringMethods.split except for the argument 'pat' will be keyword-only.\n",
      "  true_seg_table['files'] = true_seg_table['files'].str.split('.not', 1).str[0]\n",
      "c:\\Users\\tkoch\\anaconda3\\envs\\avn_021_py38\\lib\\site-packages\\avn\\dataloading.py:151: FutureWarning: In a future version of pandas all arguments of StringMethods.split except for the argument 'pat' will be keyword-only.\n",
      "  true_seg_table['files'] = true_seg_table['files'].str.split('.not', 1).str[0]\n",
      "c:\\Users\\tkoch\\anaconda3\\envs\\avn_021_py38\\lib\\site-packages\\avn\\dataloading.py:151: FutureWarning: In a future version of pandas all arguments of StringMethods.split except for the argument 'pat' will be keyword-only.\n",
      "  true_seg_table['files'] = true_seg_table['files'].str.split('.not', 1).str[0]\n",
      "c:\\Users\\tkoch\\anaconda3\\envs\\avn_021_py38\\lib\\site-packages\\avn\\dataloading.py:151: FutureWarning: In a future version of pandas all arguments of StringMethods.split except for the argument 'pat' will be keyword-only.\n",
      "  true_seg_table['files'] = true_seg_table['files'].str.split('.not', 1).str[0]\n",
      "c:\\Users\\tkoch\\anaconda3\\envs\\avn_021_py38\\lib\\site-packages\\avn\\dataloading.py:151: FutureWarning: In a future version of pandas all arguments of StringMethods.split except for the argument 'pat' will be keyword-only.\n",
      "  true_seg_table['files'] = true_seg_table['files'].str.split('.not', 1).str[0]\n",
      "c:\\Users\\tkoch\\anaconda3\\envs\\avn_021_py38\\lib\\site-packages\\avn\\dataloading.py:151: FutureWarning: In a future version of pandas all arguments of StringMethods.split except for the argument 'pat' will be keyword-only.\n",
      "  true_seg_table['files'] = true_seg_table['files'].str.split('.not', 1).str[0]\n",
      "c:\\Users\\tkoch\\anaconda3\\envs\\avn_021_py38\\lib\\site-packages\\avn\\dataloading.py:151: FutureWarning: In a future version of pandas all arguments of StringMethods.split except for the argument 'pat' will be keyword-only.\n",
      "  true_seg_table['files'] = true_seg_table['files'].str.split('.not', 1).str[0]\n",
      "c:\\Users\\tkoch\\anaconda3\\envs\\avn_021_py38\\lib\\site-packages\\avn\\dataloading.py:151: FutureWarning: In a future version of pandas all arguments of StringMethods.split except for the argument 'pat' will be keyword-only.\n",
      "  true_seg_table['files'] = true_seg_table['files'].str.split('.not', 1).str[0]\n",
      "c:\\Users\\tkoch\\anaconda3\\envs\\avn_021_py38\\lib\\site-packages\\avn\\dataloading.py:151: FutureWarning: In a future version of pandas all arguments of StringMethods.split except for the argument 'pat' will be keyword-only.\n",
      "  true_seg_table['files'] = true_seg_table['files'].str.split('.not', 1).str[0]\n",
      "c:\\Users\\tkoch\\anaconda3\\envs\\avn_021_py38\\lib\\site-packages\\avn\\dataloading.py:151: FutureWarning: In a future version of pandas all arguments of StringMethods.split except for the argument 'pat' will be keyword-only.\n",
      "  true_seg_table['files'] = true_seg_table['files'].str.split('.not', 1).str[0]\n",
      "c:\\Users\\tkoch\\anaconda3\\envs\\avn_021_py38\\lib\\site-packages\\avn\\dataloading.py:151: FutureWarning: In a future version of pandas all arguments of StringMethods.split except for the argument 'pat' will be keyword-only.\n",
      "  true_seg_table['files'] = true_seg_table['files'].str.split('.not', 1).str[0]\n",
      "c:\\Users\\tkoch\\anaconda3\\envs\\avn_021_py38\\lib\\site-packages\\avn\\dataloading.py:151: FutureWarning: In a future version of pandas all arguments of StringMethods.split except for the argument 'pat' will be keyword-only.\n",
      "  true_seg_table['files'] = true_seg_table['files'].str.split('.not', 1).str[0]\n",
      "c:\\Users\\tkoch\\anaconda3\\envs\\avn_021_py38\\lib\\site-packages\\avn\\dataloading.py:151: FutureWarning: In a future version of pandas all arguments of StringMethods.split except for the argument 'pat' will be keyword-only.\n",
      "  true_seg_table['files'] = true_seg_table['files'].str.split('.not', 1).str[0]\n"
     ]
    }
   ],
   "source": [
    "all_seg_metrics = pd.DataFrame()\n",
    "for Bird_ID in All_Birds[:]:\n",
    "\n",
    "    #load whisperseg segmentation and reformat so it's consistent with avn\n",
    "    wseg_segmentations = pd.read_csv('E:\\\\Final_Bird_Dataset\\\\WhisperSeg_Segmentation\\\\' + Bird_ID + \"_wseg.csv\")\n",
    "    wseg_segmentations = wseg_segmentations.drop(columns = ['Unnamed: 0', 'cluster'])\n",
    "    wseg_segmentations = wseg_segmentations.rename(columns = {'onset' : 'onsets', \n",
    "                                                            'offset' : 'offsets', \n",
    "                                                            'file' : 'files'})\n",
    "    wseg_segmentations['labels'] = 's'\n",
    "    \n",
    "    #create seg data object. This is necessary for the F1 calculation\n",
    "    seg_data = segmentation.SegData(Bird_ID, wseg_segmentations)\n",
    "    #load ground truth segmentation and add to seg_data object\n",
    "    song_folder = 'D:/Rockefeller_Song_Dataset/Pupils_labeled_subsets/' + Bird_ID + \"/\"\n",
    "    ground_truth_path = song_folder + Bird_ID + \"_syll_table.csv\"\n",
    "    seg_data = dataloading.Utils.add_ev_song_truth_table(seg_data, ground_truth_path)\n",
    "    seg_data.true_seg_table['labels'] = 's'\n",
    "\n",
    "    #drop any files that aren't in the true seg table as they will cause errors\n",
    "    to_drop = set(seg_data.seg_table.files.unique()) - set(seg_data.true_seg_table.files.unique())\n",
    "    seg_data.seg_table = seg_data.seg_table[~seg_data.seg_table.files.isin(to_drop)]\n",
    "\n",
    "    #calculate F1 score for whisperSeg\n",
    "    seg_data = segmentation.Metrics.calc_F1(seg_data, max_gap = 0.05, feature = 'offsets')\n",
    "    curr_seg_metrics = seg_data.seg_metrics\n",
    "    #add to df with all seg metrics\n",
    "    curr_seg_metrics['Bird_ID'] = Bird_ID\n",
    "    curr_seg_metrics['max_gap'] = 0.05\n",
    "    curr_seg_metrics['method'] = 'whisper_seg'\n",
    "    all_seg_metrics = pd.concat([all_seg_metrics, curr_seg_metrics])\n",
    "\n",
    "    #calculate F1 score for whisperSeg\n",
    "    seg_data = segmentation.Metrics.calc_F1(seg_data, max_gap = 0.02, feature = 'offsets')\n",
    "    curr_seg_metrics = seg_data.seg_metrics\n",
    "    #add to df with all seg metrics\n",
    "    curr_seg_metrics['Bird_ID'] = Bird_ID\n",
    "    curr_seg_metrics['max_gap'] = 0.02\n",
    "    curr_seg_metrics['method'] = 'whisper_seg'\n",
    "    all_seg_metrics = pd.concat([all_seg_metrics, curr_seg_metrics])\n",
    "\n",
    "    #load tweetynet segmentations\n",
    "    tweety_segs = pd.read_csv(\"D:/Rockefeller_Song_Dataset/tweety_segmentations_pupils/\" + Bird_ID + \".annot.csv\")\n",
    "    tweety_segs = vak_to_syll_table(tweety_segs)\n",
    "\n",
    "    #create seg data object. This is necessary for the F1 calculation\n",
    "    seg_data = segmentation.SegData(Bird_ID, tweety_segs)\n",
    "    seg_data = dataloading.Utils.add_ev_song_truth_table(seg_data, ground_truth_path)\n",
    "    seg_data.true_seg_table['labels'] = 's'\n",
    "    \n",
    "    #drop any files that aren't in the true seg table as they will cause errors\n",
    "    to_drop = set(seg_data.seg_table.files.unique()) - set(seg_data.true_seg_table.files.unique())\n",
    "    seg_data.seg_table = seg_data.seg_table[~seg_data.seg_table.files.isin(to_drop)]\n",
    "\n",
    "    #calculate F1 score for Tweetynet\n",
    "    seg_data = segmentation.Metrics.calc_F1(seg_data, max_gap = 0.05, feature = 'offsets')\n",
    "    curr_seg_metrics = seg_data.seg_metrics\n",
    "    #add to df with all seg metrics\n",
    "    curr_seg_metrics['Bird_ID'] = Bird_ID\n",
    "    curr_seg_metrics['max_gap'] = 0.05\n",
    "    curr_seg_metrics['method'] = 'Tweety_net'\n",
    "    all_seg_metrics = pd.concat([all_seg_metrics, curr_seg_metrics])\n",
    "\n",
    "    #calculate F1 score for whisperSeg\n",
    "    seg_data = segmentation.Metrics.calc_F1(seg_data, max_gap = 0.02, feature = 'offsets')\n",
    "    curr_seg_metrics = seg_data.seg_metrics\n",
    "    #add to df with all seg metrics\n",
    "    curr_seg_metrics['Bird_ID'] = Bird_ID\n",
    "    curr_seg_metrics['max_gap'] = 0.02\n",
    "    curr_seg_metrics['method'] = 'Tweety_net'\n",
    "    all_seg_metrics = pd.concat([all_seg_metrics, curr_seg_metrics])\n",
    "\n",
    "\n",
    "\n"
   ]
  },
  {
   "cell_type": "code",
   "execution_count": null,
   "metadata": {},
   "outputs": [
    {
     "data": {
      "text/html": [
       "<div>\n",
       "<style scoped>\n",
       "    .dataframe tbody tr th:only-of-type {\n",
       "        vertical-align: middle;\n",
       "    }\n",
       "\n",
       "    .dataframe tbody tr th {\n",
       "        vertical-align: top;\n",
       "    }\n",
       "\n",
       "    .dataframe thead th {\n",
       "        text-align: right;\n",
       "    }\n",
       "</style>\n",
       "<table border=\"1\" class=\"dataframe\">\n",
       "  <thead>\n",
       "    <tr style=\"text-align: right;\">\n",
       "      <th></th>\n",
       "      <th>F1</th>\n",
       "      <th>precision</th>\n",
       "      <th>recall</th>\n",
       "      <th>Bird_ID</th>\n",
       "      <th>max_gap</th>\n",
       "      <th>method</th>\n",
       "    </tr>\n",
       "  </thead>\n",
       "  <tbody>\n",
       "    <tr>\n",
       "      <th>0</th>\n",
       "      <td>0.996960</td>\n",
       "      <td>0.997972</td>\n",
       "      <td>0.995951</td>\n",
       "      <td>LIME18</td>\n",
       "      <td>0.05</td>\n",
       "      <td>whisper_seg</td>\n",
       "    </tr>\n",
       "    <tr>\n",
       "      <th>0</th>\n",
       "      <td>0.977778</td>\n",
       "      <td>0.981744</td>\n",
       "      <td>0.973843</td>\n",
       "      <td>LIME18</td>\n",
       "      <td>0.02</td>\n",
       "      <td>whisper_seg</td>\n",
       "    </tr>\n",
       "    <tr>\n",
       "      <th>0</th>\n",
       "      <td>0.946360</td>\n",
       "      <td>0.898182</td>\n",
       "      <td>1.000000</td>\n",
       "      <td>LIME18</td>\n",
       "      <td>0.05</td>\n",
       "      <td>Tweety_net</td>\n",
       "    </tr>\n",
       "    <tr>\n",
       "      <th>0</th>\n",
       "      <td>0.940613</td>\n",
       "      <td>0.892727</td>\n",
       "      <td>0.993927</td>\n",
       "      <td>LIME18</td>\n",
       "      <td>0.02</td>\n",
       "      <td>Tweety_net</td>\n",
       "    </tr>\n",
       "    <tr>\n",
       "      <th>0</th>\n",
       "      <td>0.870759</td>\n",
       "      <td>0.992634</td>\n",
       "      <td>0.775540</td>\n",
       "      <td>BRN20</td>\n",
       "      <td>0.05</td>\n",
       "      <td>whisper_seg</td>\n",
       "    </tr>\n",
       "    <tr>\n",
       "      <th>...</th>\n",
       "      <td>...</td>\n",
       "      <td>...</td>\n",
       "      <td>...</td>\n",
       "      <td>...</td>\n",
       "      <td>...</td>\n",
       "      <td>...</td>\n",
       "    </tr>\n",
       "    <tr>\n",
       "      <th>0</th>\n",
       "      <td>0.988111</td>\n",
       "      <td>0.981627</td>\n",
       "      <td>0.994681</td>\n",
       "      <td>GRY37HP</td>\n",
       "      <td>0.02</td>\n",
       "      <td>Tweety_net</td>\n",
       "    </tr>\n",
       "    <tr>\n",
       "      <th>0</th>\n",
       "      <td>0.750000</td>\n",
       "      <td>0.996711</td>\n",
       "      <td>0.601190</td>\n",
       "      <td>GRY112</td>\n",
       "      <td>0.05</td>\n",
       "      <td>whisper_seg</td>\n",
       "    </tr>\n",
       "    <tr>\n",
       "      <th>0</th>\n",
       "      <td>0.742574</td>\n",
       "      <td>0.986842</td>\n",
       "      <td>0.595238</td>\n",
       "      <td>GRY112</td>\n",
       "      <td>0.02</td>\n",
       "      <td>whisper_seg</td>\n",
       "    </tr>\n",
       "    <tr>\n",
       "      <th>0</th>\n",
       "      <td>0.916911</td>\n",
       "      <td>0.896750</td>\n",
       "      <td>0.938000</td>\n",
       "      <td>GRY112</td>\n",
       "      <td>0.05</td>\n",
       "      <td>Tweety_net</td>\n",
       "    </tr>\n",
       "    <tr>\n",
       "      <th>0</th>\n",
       "      <td>0.914956</td>\n",
       "      <td>0.894837</td>\n",
       "      <td>0.936000</td>\n",
       "      <td>GRY112</td>\n",
       "      <td>0.02</td>\n",
       "      <td>Tweety_net</td>\n",
       "    </tr>\n",
       "  </tbody>\n",
       "</table>\n",
       "<p>100 rows × 6 columns</p>\n",
       "</div>"
      ],
      "text/plain": [
       "          F1  precision    recall  Bird_ID  max_gap       method\n",
       "0   0.996960   0.997972  0.995951   LIME18     0.05  whisper_seg\n",
       "0   0.977778   0.981744  0.973843   LIME18     0.02  whisper_seg\n",
       "0   0.946360   0.898182  1.000000   LIME18     0.05   Tweety_net\n",
       "0   0.940613   0.892727  0.993927   LIME18     0.02   Tweety_net\n",
       "0   0.870759   0.992634  0.775540    BRN20     0.05  whisper_seg\n",
       "..       ...        ...       ...      ...      ...          ...\n",
       "0   0.988111   0.981627  0.994681  GRY37HP     0.02   Tweety_net\n",
       "0   0.750000   0.996711  0.601190   GRY112     0.05  whisper_seg\n",
       "0   0.742574   0.986842  0.595238   GRY112     0.02  whisper_seg\n",
       "0   0.916911   0.896750  0.938000   GRY112     0.05   Tweety_net\n",
       "0   0.914956   0.894837  0.936000   GRY112     0.02   Tweety_net\n",
       "\n",
       "[100 rows x 6 columns]"
      ]
     },
     "execution_count": 31,
     "metadata": {},
     "output_type": "execute_result"
    }
   ],
   "source": [
    "all_seg_metrics"
   ]
  },
  {
   "cell_type": "markdown",
   "metadata": {},
   "source": [
    "## Get RMSE segmentation metrics"
   ]
  },
  {
   "cell_type": "code",
   "execution_count": null,
   "metadata": {},
   "outputs": [
    {
     "name": "stdout",
     "output_type": "stream",
     "text": [
      "Bird: 0/25\n"
     ]
    },
    {
     "name": "stderr",
     "output_type": "stream",
     "text": [
      "c:\\Users\\tkoch\\anaconda3\\envs\\avn_021_py38\\lib\\site-packages\\avn\\dataloading.py:151: FutureWarning: In a future version of pandas all arguments of StringMethods.split except for the argument 'pat' will be keyword-only.\n",
      "  true_seg_table['files'] = true_seg_table['files'].str.split('.not', 1).str[0]\n",
      "C:\\Users\\tkoch\\AppData\\Local\\Temp\\ipykernel_2576\\2032323634.py:23: FutureWarning: The frame.append method is deprecated and will be removed from pandas in a future version. Use pandas.concat instead.\n",
      "  all_F1s = all_F1s.append(seg_metrics)\n"
     ]
    },
    {
     "name": "stdout",
     "output_type": "stream",
     "text": [
      "Bird: 1/25\n"
     ]
    },
    {
     "name": "stderr",
     "output_type": "stream",
     "text": [
      "c:\\Users\\tkoch\\anaconda3\\envs\\avn_021_py38\\lib\\site-packages\\avn\\dataloading.py:151: FutureWarning: In a future version of pandas all arguments of StringMethods.split except for the argument 'pat' will be keyword-only.\n",
      "  true_seg_table['files'] = true_seg_table['files'].str.split('.not', 1).str[0]\n",
      "C:\\Users\\tkoch\\AppData\\Local\\Temp\\ipykernel_2576\\2032323634.py:23: FutureWarning: The frame.append method is deprecated and will be removed from pandas in a future version. Use pandas.concat instead.\n",
      "  all_F1s = all_F1s.append(seg_metrics)\n"
     ]
    },
    {
     "name": "stdout",
     "output_type": "stream",
     "text": [
      "Bird: 2/25\n"
     ]
    },
    {
     "name": "stderr",
     "output_type": "stream",
     "text": [
      "c:\\Users\\tkoch\\anaconda3\\envs\\avn_021_py38\\lib\\site-packages\\avn\\dataloading.py:151: FutureWarning: In a future version of pandas all arguments of StringMethods.split except for the argument 'pat' will be keyword-only.\n",
      "  true_seg_table['files'] = true_seg_table['files'].str.split('.not', 1).str[0]\n",
      "C:\\Users\\tkoch\\AppData\\Local\\Temp\\ipykernel_2576\\2032323634.py:23: FutureWarning: The frame.append method is deprecated and will be removed from pandas in a future version. Use pandas.concat instead.\n",
      "  all_F1s = all_F1s.append(seg_metrics)\n"
     ]
    },
    {
     "name": "stdout",
     "output_type": "stream",
     "text": [
      "Bird: 3/25\n"
     ]
    },
    {
     "name": "stderr",
     "output_type": "stream",
     "text": [
      "c:\\Users\\tkoch\\anaconda3\\envs\\avn_021_py38\\lib\\site-packages\\avn\\dataloading.py:151: FutureWarning: In a future version of pandas all arguments of StringMethods.split except for the argument 'pat' will be keyword-only.\n",
      "  true_seg_table['files'] = true_seg_table['files'].str.split('.not', 1).str[0]\n",
      "C:\\Users\\tkoch\\AppData\\Local\\Temp\\ipykernel_2576\\2032323634.py:23: FutureWarning: The frame.append method is deprecated and will be removed from pandas in a future version. Use pandas.concat instead.\n",
      "  all_F1s = all_F1s.append(seg_metrics)\n"
     ]
    },
    {
     "name": "stdout",
     "output_type": "stream",
     "text": [
      "Bird: 4/25\n"
     ]
    },
    {
     "name": "stderr",
     "output_type": "stream",
     "text": [
      "c:\\Users\\tkoch\\anaconda3\\envs\\avn_021_py38\\lib\\site-packages\\avn\\dataloading.py:151: FutureWarning: In a future version of pandas all arguments of StringMethods.split except for the argument 'pat' will be keyword-only.\n",
      "  true_seg_table['files'] = true_seg_table['files'].str.split('.not', 1).str[0]\n",
      "C:\\Users\\tkoch\\AppData\\Local\\Temp\\ipykernel_2576\\2032323634.py:23: FutureWarning: The frame.append method is deprecated and will be removed from pandas in a future version. Use pandas.concat instead.\n",
      "  all_F1s = all_F1s.append(seg_metrics)\n"
     ]
    },
    {
     "name": "stdout",
     "output_type": "stream",
     "text": [
      "Bird: 5/25\n"
     ]
    },
    {
     "name": "stderr",
     "output_type": "stream",
     "text": [
      "c:\\Users\\tkoch\\anaconda3\\envs\\avn_021_py38\\lib\\site-packages\\avn\\dataloading.py:151: FutureWarning: In a future version of pandas all arguments of StringMethods.split except for the argument 'pat' will be keyword-only.\n",
      "  true_seg_table['files'] = true_seg_table['files'].str.split('.not', 1).str[0]\n",
      "C:\\Users\\tkoch\\AppData\\Local\\Temp\\ipykernel_2576\\2032323634.py:23: FutureWarning: The frame.append method is deprecated and will be removed from pandas in a future version. Use pandas.concat instead.\n",
      "  all_F1s = all_F1s.append(seg_metrics)\n"
     ]
    },
    {
     "name": "stdout",
     "output_type": "stream",
     "text": [
      "Bird: 6/25\n"
     ]
    },
    {
     "name": "stderr",
     "output_type": "stream",
     "text": [
      "c:\\Users\\tkoch\\anaconda3\\envs\\avn_021_py38\\lib\\site-packages\\avn\\dataloading.py:151: FutureWarning: In a future version of pandas all arguments of StringMethods.split except for the argument 'pat' will be keyword-only.\n",
      "  true_seg_table['files'] = true_seg_table['files'].str.split('.not', 1).str[0]\n",
      "C:\\Users\\tkoch\\AppData\\Local\\Temp\\ipykernel_2576\\2032323634.py:23: FutureWarning: The frame.append method is deprecated and will be removed from pandas in a future version. Use pandas.concat instead.\n",
      "  all_F1s = all_F1s.append(seg_metrics)\n"
     ]
    },
    {
     "name": "stdout",
     "output_type": "stream",
     "text": [
      "Bird: 7/25\n"
     ]
    },
    {
     "name": "stderr",
     "output_type": "stream",
     "text": [
      "c:\\Users\\tkoch\\anaconda3\\envs\\avn_021_py38\\lib\\site-packages\\avn\\dataloading.py:151: FutureWarning: In a future version of pandas all arguments of StringMethods.split except for the argument 'pat' will be keyword-only.\n",
      "  true_seg_table['files'] = true_seg_table['files'].str.split('.not', 1).str[0]\n",
      "C:\\Users\\tkoch\\AppData\\Local\\Temp\\ipykernel_2576\\2032323634.py:23: FutureWarning: The frame.append method is deprecated and will be removed from pandas in a future version. Use pandas.concat instead.\n",
      "  all_F1s = all_F1s.append(seg_metrics)\n"
     ]
    },
    {
     "name": "stdout",
     "output_type": "stream",
     "text": [
      "Bird: 8/25\n"
     ]
    },
    {
     "name": "stderr",
     "output_type": "stream",
     "text": [
      "c:\\Users\\tkoch\\anaconda3\\envs\\avn_021_py38\\lib\\site-packages\\avn\\dataloading.py:151: FutureWarning: In a future version of pandas all arguments of StringMethods.split except for the argument 'pat' will be keyword-only.\n",
      "  true_seg_table['files'] = true_seg_table['files'].str.split('.not', 1).str[0]\n",
      "C:\\Users\\tkoch\\AppData\\Local\\Temp\\ipykernel_2576\\2032323634.py:23: FutureWarning: The frame.append method is deprecated and will be removed from pandas in a future version. Use pandas.concat instead.\n",
      "  all_F1s = all_F1s.append(seg_metrics)\n"
     ]
    },
    {
     "name": "stdout",
     "output_type": "stream",
     "text": [
      "Bird: 9/25\n"
     ]
    },
    {
     "name": "stderr",
     "output_type": "stream",
     "text": [
      "c:\\Users\\tkoch\\anaconda3\\envs\\avn_021_py38\\lib\\site-packages\\avn\\dataloading.py:151: FutureWarning: In a future version of pandas all arguments of StringMethods.split except for the argument 'pat' will be keyword-only.\n",
      "  true_seg_table['files'] = true_seg_table['files'].str.split('.not', 1).str[0]\n",
      "C:\\Users\\tkoch\\AppData\\Local\\Temp\\ipykernel_2576\\2032323634.py:23: FutureWarning: The frame.append method is deprecated and will be removed from pandas in a future version. Use pandas.concat instead.\n",
      "  all_F1s = all_F1s.append(seg_metrics)\n"
     ]
    },
    {
     "name": "stdout",
     "output_type": "stream",
     "text": [
      "Bird: 10/25\n"
     ]
    },
    {
     "name": "stderr",
     "output_type": "stream",
     "text": [
      "c:\\Users\\tkoch\\anaconda3\\envs\\avn_021_py38\\lib\\site-packages\\avn\\dataloading.py:151: FutureWarning: In a future version of pandas all arguments of StringMethods.split except for the argument 'pat' will be keyword-only.\n",
      "  true_seg_table['files'] = true_seg_table['files'].str.split('.not', 1).str[0]\n",
      "C:\\Users\\tkoch\\AppData\\Local\\Temp\\ipykernel_2576\\2032323634.py:23: FutureWarning: The frame.append method is deprecated and will be removed from pandas in a future version. Use pandas.concat instead.\n",
      "  all_F1s = all_F1s.append(seg_metrics)\n"
     ]
    },
    {
     "name": "stdout",
     "output_type": "stream",
     "text": [
      "Bird: 11/25\n"
     ]
    },
    {
     "name": "stderr",
     "output_type": "stream",
     "text": [
      "c:\\Users\\tkoch\\anaconda3\\envs\\avn_021_py38\\lib\\site-packages\\avn\\dataloading.py:151: FutureWarning: In a future version of pandas all arguments of StringMethods.split except for the argument 'pat' will be keyword-only.\n",
      "  true_seg_table['files'] = true_seg_table['files'].str.split('.not', 1).str[0]\n",
      "C:\\Users\\tkoch\\AppData\\Local\\Temp\\ipykernel_2576\\2032323634.py:23: FutureWarning: The frame.append method is deprecated and will be removed from pandas in a future version. Use pandas.concat instead.\n",
      "  all_F1s = all_F1s.append(seg_metrics)\n"
     ]
    },
    {
     "name": "stdout",
     "output_type": "stream",
     "text": [
      "Bird: 12/25\n"
     ]
    },
    {
     "name": "stderr",
     "output_type": "stream",
     "text": [
      "c:\\Users\\tkoch\\anaconda3\\envs\\avn_021_py38\\lib\\site-packages\\avn\\dataloading.py:151: FutureWarning: In a future version of pandas all arguments of StringMethods.split except for the argument 'pat' will be keyword-only.\n",
      "  true_seg_table['files'] = true_seg_table['files'].str.split('.not', 1).str[0]\n",
      "C:\\Users\\tkoch\\AppData\\Local\\Temp\\ipykernel_2576\\2032323634.py:23: FutureWarning: The frame.append method is deprecated and will be removed from pandas in a future version. Use pandas.concat instead.\n",
      "  all_F1s = all_F1s.append(seg_metrics)\n"
     ]
    },
    {
     "name": "stdout",
     "output_type": "stream",
     "text": [
      "Bird: 13/25\n"
     ]
    },
    {
     "name": "stderr",
     "output_type": "stream",
     "text": [
      "c:\\Users\\tkoch\\anaconda3\\envs\\avn_021_py38\\lib\\site-packages\\avn\\dataloading.py:151: FutureWarning: In a future version of pandas all arguments of StringMethods.split except for the argument 'pat' will be keyword-only.\n",
      "  true_seg_table['files'] = true_seg_table['files'].str.split('.not', 1).str[0]\n",
      "C:\\Users\\tkoch\\AppData\\Local\\Temp\\ipykernel_2576\\2032323634.py:23: FutureWarning: The frame.append method is deprecated and will be removed from pandas in a future version. Use pandas.concat instead.\n",
      "  all_F1s = all_F1s.append(seg_metrics)\n"
     ]
    },
    {
     "name": "stdout",
     "output_type": "stream",
     "text": [
      "Bird: 14/25\n"
     ]
    },
    {
     "name": "stderr",
     "output_type": "stream",
     "text": [
      "c:\\Users\\tkoch\\anaconda3\\envs\\avn_021_py38\\lib\\site-packages\\avn\\dataloading.py:151: FutureWarning: In a future version of pandas all arguments of StringMethods.split except for the argument 'pat' will be keyword-only.\n",
      "  true_seg_table['files'] = true_seg_table['files'].str.split('.not', 1).str[0]\n",
      "C:\\Users\\tkoch\\AppData\\Local\\Temp\\ipykernel_2576\\2032323634.py:23: FutureWarning: The frame.append method is deprecated and will be removed from pandas in a future version. Use pandas.concat instead.\n",
      "  all_F1s = all_F1s.append(seg_metrics)\n"
     ]
    },
    {
     "name": "stdout",
     "output_type": "stream",
     "text": [
      "Bird: 15/25\n"
     ]
    },
    {
     "name": "stderr",
     "output_type": "stream",
     "text": [
      "c:\\Users\\tkoch\\anaconda3\\envs\\avn_021_py38\\lib\\site-packages\\avn\\dataloading.py:151: FutureWarning: In a future version of pandas all arguments of StringMethods.split except for the argument 'pat' will be keyword-only.\n",
      "  true_seg_table['files'] = true_seg_table['files'].str.split('.not', 1).str[0]\n",
      "C:\\Users\\tkoch\\AppData\\Local\\Temp\\ipykernel_2576\\2032323634.py:23: FutureWarning: The frame.append method is deprecated and will be removed from pandas in a future version. Use pandas.concat instead.\n",
      "  all_F1s = all_F1s.append(seg_metrics)\n"
     ]
    },
    {
     "name": "stdout",
     "output_type": "stream",
     "text": [
      "Bird: 16/25\n"
     ]
    },
    {
     "name": "stderr",
     "output_type": "stream",
     "text": [
      "c:\\Users\\tkoch\\anaconda3\\envs\\avn_021_py38\\lib\\site-packages\\avn\\dataloading.py:151: FutureWarning: In a future version of pandas all arguments of StringMethods.split except for the argument 'pat' will be keyword-only.\n",
      "  true_seg_table['files'] = true_seg_table['files'].str.split('.not', 1).str[0]\n",
      "C:\\Users\\tkoch\\AppData\\Local\\Temp\\ipykernel_2576\\2032323634.py:23: FutureWarning: The frame.append method is deprecated and will be removed from pandas in a future version. Use pandas.concat instead.\n",
      "  all_F1s = all_F1s.append(seg_metrics)\n"
     ]
    },
    {
     "name": "stdout",
     "output_type": "stream",
     "text": [
      "Bird: 17/25\n"
     ]
    },
    {
     "name": "stderr",
     "output_type": "stream",
     "text": [
      "c:\\Users\\tkoch\\anaconda3\\envs\\avn_021_py38\\lib\\site-packages\\avn\\dataloading.py:151: FutureWarning: In a future version of pandas all arguments of StringMethods.split except for the argument 'pat' will be keyword-only.\n",
      "  true_seg_table['files'] = true_seg_table['files'].str.split('.not', 1).str[0]\n",
      "C:\\Users\\tkoch\\AppData\\Local\\Temp\\ipykernel_2576\\2032323634.py:23: FutureWarning: The frame.append method is deprecated and will be removed from pandas in a future version. Use pandas.concat instead.\n",
      "  all_F1s = all_F1s.append(seg_metrics)\n"
     ]
    },
    {
     "name": "stdout",
     "output_type": "stream",
     "text": [
      "Bird: 18/25\n"
     ]
    },
    {
     "name": "stderr",
     "output_type": "stream",
     "text": [
      "c:\\Users\\tkoch\\anaconda3\\envs\\avn_021_py38\\lib\\site-packages\\avn\\dataloading.py:151: FutureWarning: In a future version of pandas all arguments of StringMethods.split except for the argument 'pat' will be keyword-only.\n",
      "  true_seg_table['files'] = true_seg_table['files'].str.split('.not', 1).str[0]\n",
      "C:\\Users\\tkoch\\AppData\\Local\\Temp\\ipykernel_2576\\2032323634.py:23: FutureWarning: The frame.append method is deprecated and will be removed from pandas in a future version. Use pandas.concat instead.\n",
      "  all_F1s = all_F1s.append(seg_metrics)\n"
     ]
    },
    {
     "name": "stdout",
     "output_type": "stream",
     "text": [
      "Bird: 19/25\n"
     ]
    },
    {
     "name": "stderr",
     "output_type": "stream",
     "text": [
      "c:\\Users\\tkoch\\anaconda3\\envs\\avn_021_py38\\lib\\site-packages\\avn\\dataloading.py:151: FutureWarning: In a future version of pandas all arguments of StringMethods.split except for the argument 'pat' will be keyword-only.\n",
      "  true_seg_table['files'] = true_seg_table['files'].str.split('.not', 1).str[0]\n",
      "C:\\Users\\tkoch\\AppData\\Local\\Temp\\ipykernel_2576\\2032323634.py:23: FutureWarning: The frame.append method is deprecated and will be removed from pandas in a future version. Use pandas.concat instead.\n",
      "  all_F1s = all_F1s.append(seg_metrics)\n"
     ]
    },
    {
     "name": "stdout",
     "output_type": "stream",
     "text": [
      "Bird: 20/25\n"
     ]
    },
    {
     "name": "stderr",
     "output_type": "stream",
     "text": [
      "c:\\Users\\tkoch\\anaconda3\\envs\\avn_021_py38\\lib\\site-packages\\avn\\dataloading.py:151: FutureWarning: In a future version of pandas all arguments of StringMethods.split except for the argument 'pat' will be keyword-only.\n",
      "  true_seg_table['files'] = true_seg_table['files'].str.split('.not', 1).str[0]\n",
      "C:\\Users\\tkoch\\AppData\\Local\\Temp\\ipykernel_2576\\2032323634.py:23: FutureWarning: The frame.append method is deprecated and will be removed from pandas in a future version. Use pandas.concat instead.\n",
      "  all_F1s = all_F1s.append(seg_metrics)\n"
     ]
    },
    {
     "name": "stdout",
     "output_type": "stream",
     "text": [
      "Bird: 21/25\n"
     ]
    },
    {
     "name": "stderr",
     "output_type": "stream",
     "text": [
      "c:\\Users\\tkoch\\anaconda3\\envs\\avn_021_py38\\lib\\site-packages\\avn\\dataloading.py:151: FutureWarning: In a future version of pandas all arguments of StringMethods.split except for the argument 'pat' will be keyword-only.\n",
      "  true_seg_table['files'] = true_seg_table['files'].str.split('.not', 1).str[0]\n",
      "C:\\Users\\tkoch\\AppData\\Local\\Temp\\ipykernel_2576\\2032323634.py:23: FutureWarning: The frame.append method is deprecated and will be removed from pandas in a future version. Use pandas.concat instead.\n",
      "  all_F1s = all_F1s.append(seg_metrics)\n"
     ]
    },
    {
     "name": "stdout",
     "output_type": "stream",
     "text": [
      "Bird: 22/25\n"
     ]
    },
    {
     "name": "stderr",
     "output_type": "stream",
     "text": [
      "c:\\Users\\tkoch\\anaconda3\\envs\\avn_021_py38\\lib\\site-packages\\avn\\dataloading.py:151: FutureWarning: In a future version of pandas all arguments of StringMethods.split except for the argument 'pat' will be keyword-only.\n",
      "  true_seg_table['files'] = true_seg_table['files'].str.split('.not', 1).str[0]\n",
      "C:\\Users\\tkoch\\AppData\\Local\\Temp\\ipykernel_2576\\2032323634.py:23: FutureWarning: The frame.append method is deprecated and will be removed from pandas in a future version. Use pandas.concat instead.\n",
      "  all_F1s = all_F1s.append(seg_metrics)\n"
     ]
    },
    {
     "name": "stdout",
     "output_type": "stream",
     "text": [
      "Bird: 23/25\n"
     ]
    },
    {
     "name": "stderr",
     "output_type": "stream",
     "text": [
      "c:\\Users\\tkoch\\anaconda3\\envs\\avn_021_py38\\lib\\site-packages\\avn\\dataloading.py:151: FutureWarning: In a future version of pandas all arguments of StringMethods.split except for the argument 'pat' will be keyword-only.\n",
      "  true_seg_table['files'] = true_seg_table['files'].str.split('.not', 1).str[0]\n",
      "C:\\Users\\tkoch\\AppData\\Local\\Temp\\ipykernel_2576\\2032323634.py:23: FutureWarning: The frame.append method is deprecated and will be removed from pandas in a future version. Use pandas.concat instead.\n",
      "  all_F1s = all_F1s.append(seg_metrics)\n"
     ]
    },
    {
     "name": "stdout",
     "output_type": "stream",
     "text": [
      "Bird: 24/25\n"
     ]
    },
    {
     "name": "stderr",
     "output_type": "stream",
     "text": [
      "c:\\Users\\tkoch\\anaconda3\\envs\\avn_021_py38\\lib\\site-packages\\avn\\dataloading.py:151: FutureWarning: In a future version of pandas all arguments of StringMethods.split except for the argument 'pat' will be keyword-only.\n",
      "  true_seg_table['files'] = true_seg_table['files'].str.split('.not', 1).str[0]\n",
      "C:\\Users\\tkoch\\AppData\\Local\\Temp\\ipykernel_2576\\2032323634.py:23: FutureWarning: The frame.append method is deprecated and will be removed from pandas in a future version. Use pandas.concat instead.\n",
      "  all_F1s = all_F1s.append(seg_metrics)\n"
     ]
    }
   ],
   "source": [
    "all_F1s = pd.DataFrame()\n",
    "\n",
    "for i, Bird_ID in enumerate(All_Birds):\n",
    "    print(\"Bird: \" + str(i) + \"/\" + str(len(All_Birds)))\n",
    "    \n",
    "    song_folder = 'D:/Rockefeller_Song_Dataset/Pupils_labeled_subsets/' + Bird_ID + \"/\"\n",
    "    ground_truth_path = song_folder + Bird_ID + \"_syll_table.csv\"\n",
    "    \n",
    "    #do MFCC Segmentation\n",
    "    segmenter = segmentation.RMSEDerivative()\n",
    "    seg_data = segmenter.make_segmentation_table(Bird_ID, song_folder,\n",
    "                                                 upper_threshold = 0.006, \n",
    "                                                 lower_threshold = -0.1)\n",
    "    \n",
    "    #Add ground truth data\n",
    "    seg_data = dataloading.Utils.add_ev_song_truth_table(seg_data, ground_truth_path)\n",
    "    seg_data.true_seg_table['labels'] = 's'\n",
    "\n",
    "    seg_data = segmentation.Metrics.calc_F1(seg_data, max_gap = 0.02, feature= 'offsets')\n",
    "    \n",
    "    seg_metrics = seg_data.seg_metrics\n",
    "    seg_metrics[\"Bird_ID\"] = [Bird_ID]\n",
    "    all_F1s = all_F1s.append(seg_metrics)\n"
   ]
  },
  {
   "cell_type": "code",
   "execution_count": null,
   "metadata": {},
   "outputs": [],
   "source": [
    "all_F1s['method'] = 'RMSE'\n",
    "all_F1s['max_gap'] = 0.02"
   ]
  },
  {
   "cell_type": "code",
   "execution_count": null,
   "metadata": {},
   "outputs": [],
   "source": [
    "all_seg_metrics = pd.concat([all_seg_metrics, all_F1s])"
   ]
  },
  {
   "cell_type": "code",
   "execution_count": null,
   "metadata": {},
   "outputs": [
    {
     "data": {
      "text/html": [
       "<div>\n",
       "<style scoped>\n",
       "    .dataframe tbody tr th:only-of-type {\n",
       "        vertical-align: middle;\n",
       "    }\n",
       "\n",
       "    .dataframe tbody tr th {\n",
       "        vertical-align: top;\n",
       "    }\n",
       "\n",
       "    .dataframe thead th {\n",
       "        text-align: right;\n",
       "    }\n",
       "</style>\n",
       "<table border=\"1\" class=\"dataframe\">\n",
       "  <thead>\n",
       "    <tr style=\"text-align: right;\">\n",
       "      <th></th>\n",
       "      <th>F1</th>\n",
       "      <th>precision</th>\n",
       "      <th>recall</th>\n",
       "      <th>Bird_ID</th>\n",
       "      <th>max_gap</th>\n",
       "      <th>method</th>\n",
       "    </tr>\n",
       "  </thead>\n",
       "  <tbody>\n",
       "    <tr>\n",
       "      <th>0</th>\n",
       "      <td>0.996960</td>\n",
       "      <td>0.997972</td>\n",
       "      <td>0.995951</td>\n",
       "      <td>LIME18</td>\n",
       "      <td>0.05</td>\n",
       "      <td>whisper_seg</td>\n",
       "    </tr>\n",
       "    <tr>\n",
       "      <th>0</th>\n",
       "      <td>0.977778</td>\n",
       "      <td>0.981744</td>\n",
       "      <td>0.973843</td>\n",
       "      <td>LIME18</td>\n",
       "      <td>0.02</td>\n",
       "      <td>whisper_seg</td>\n",
       "    </tr>\n",
       "    <tr>\n",
       "      <th>0</th>\n",
       "      <td>0.946360</td>\n",
       "      <td>0.898182</td>\n",
       "      <td>1.000000</td>\n",
       "      <td>LIME18</td>\n",
       "      <td>0.05</td>\n",
       "      <td>Tweety_net</td>\n",
       "    </tr>\n",
       "    <tr>\n",
       "      <th>0</th>\n",
       "      <td>0.940613</td>\n",
       "      <td>0.892727</td>\n",
       "      <td>0.993927</td>\n",
       "      <td>LIME18</td>\n",
       "      <td>0.02</td>\n",
       "      <td>Tweety_net</td>\n",
       "    </tr>\n",
       "    <tr>\n",
       "      <th>0</th>\n",
       "      <td>0.870759</td>\n",
       "      <td>0.992634</td>\n",
       "      <td>0.775540</td>\n",
       "      <td>BRN20</td>\n",
       "      <td>0.05</td>\n",
       "      <td>whisper_seg</td>\n",
       "    </tr>\n",
       "    <tr>\n",
       "      <th>...</th>\n",
       "      <td>...</td>\n",
       "      <td>...</td>\n",
       "      <td>...</td>\n",
       "      <td>...</td>\n",
       "      <td>...</td>\n",
       "      <td>...</td>\n",
       "    </tr>\n",
       "    <tr>\n",
       "      <th>0</th>\n",
       "      <td>0.011445</td>\n",
       "      <td>0.010724</td>\n",
       "      <td>0.012270</td>\n",
       "      <td>GRY49</td>\n",
       "      <td>0.02</td>\n",
       "      <td>RMSE</td>\n",
       "    </tr>\n",
       "    <tr>\n",
       "      <th>0</th>\n",
       "      <td>0.030994</td>\n",
       "      <td>0.029310</td>\n",
       "      <td>0.032882</td>\n",
       "      <td>GRY28</td>\n",
       "      <td>0.02</td>\n",
       "      <td>RMSE</td>\n",
       "    </tr>\n",
       "    <tr>\n",
       "      <th>0</th>\n",
       "      <td>0.053211</td>\n",
       "      <td>0.048013</td>\n",
       "      <td>0.059671</td>\n",
       "      <td>GRY34</td>\n",
       "      <td>0.02</td>\n",
       "      <td>RMSE</td>\n",
       "    </tr>\n",
       "    <tr>\n",
       "      <th>0</th>\n",
       "      <td>0.054254</td>\n",
       "      <td>0.050575</td>\n",
       "      <td>0.058511</td>\n",
       "      <td>GRY37HP</td>\n",
       "      <td>0.02</td>\n",
       "      <td>RMSE</td>\n",
       "    </tr>\n",
       "    <tr>\n",
       "      <th>0</th>\n",
       "      <td>0.032520</td>\n",
       "      <td>0.030000</td>\n",
       "      <td>0.035503</td>\n",
       "      <td>GRY112</td>\n",
       "      <td>0.02</td>\n",
       "      <td>RMSE</td>\n",
       "    </tr>\n",
       "  </tbody>\n",
       "</table>\n",
       "<p>125 rows × 6 columns</p>\n",
       "</div>"
      ],
      "text/plain": [
       "          F1  precision    recall  Bird_ID  max_gap       method\n",
       "0   0.996960   0.997972  0.995951   LIME18     0.05  whisper_seg\n",
       "0   0.977778   0.981744  0.973843   LIME18     0.02  whisper_seg\n",
       "0   0.946360   0.898182  1.000000   LIME18     0.05   Tweety_net\n",
       "0   0.940613   0.892727  0.993927   LIME18     0.02   Tweety_net\n",
       "0   0.870759   0.992634  0.775540    BRN20     0.05  whisper_seg\n",
       "..       ...        ...       ...      ...      ...          ...\n",
       "0   0.011445   0.010724  0.012270    GRY49     0.02         RMSE\n",
       "0   0.030994   0.029310  0.032882    GRY28     0.02         RMSE\n",
       "0   0.053211   0.048013  0.059671    GRY34     0.02         RMSE\n",
       "0   0.054254   0.050575  0.058511  GRY37HP     0.02         RMSE\n",
       "0   0.032520   0.030000  0.035503   GRY112     0.02         RMSE\n",
       "\n",
       "[125 rows x 6 columns]"
      ]
     },
     "execution_count": 36,
     "metadata": {},
     "output_type": "execute_result"
    }
   ],
   "source": [
    "all_seg_metrics"
   ]
  },
  {
   "cell_type": "code",
   "execution_count": null,
   "metadata": {},
   "outputs": [],
   "source": [
    "all_seg_metrics.to_csv('C:\\\\Grad_School\\\\Code_and_software\\\\Py_code\\\\WhisperSeg_validation\\\\wseg_RMSE_tweety_F1s_offsets_rock.csv')"
   ]
  },
  {
   "cell_type": "markdown",
   "metadata": {},
   "source": [
    "## Plot F1 Scores"
   ]
  },
  {
   "cell_type": "code",
   "execution_count": 1,
   "metadata": {},
   "outputs": [],
   "source": [
    "import pandas as pd\n",
    "import numpy as np\n",
    "import seaborn as sns\n",
    "import matplotlib.pyplot  as plt"
   ]
  },
  {
   "cell_type": "code",
   "execution_count": 2,
   "metadata": {},
   "outputs": [],
   "source": [
    "all_seg_metrics = pd.read_csv('C:\\\\Grad_School\\\\Code_and_software\\\\Py_code\\\\WhisperSeg_validation\\\\wseg_RMSE_tweety_F1s_offsets_rock.csv')"
   ]
  },
  {
   "cell_type": "code",
   "execution_count": 3,
   "metadata": {},
   "outputs": [],
   "source": [
    "all_seg_metrics = all_seg_metrics[all_seg_metrics.max_gap == 0.02]"
   ]
  },
  {
   "cell_type": "code",
   "execution_count": 4,
   "metadata": {},
   "outputs": [],
   "source": [
    "all_seg_metrics.method = pd.Categorical(all_seg_metrics.method).reorder_categories(['RMSE', 'Tweety_net', 'whisper_seg'])\n",
    "all_seg_metrics.method = all_seg_metrics.method.cat.rename_categories({'Tweety_net' : \"TweetyNet\", \n",
    "                                                                       'whisper_seg' : \"WhisperSeg\"})"
   ]
  },
  {
   "cell_type": "code",
   "execution_count": 5,
   "metadata": {},
   "outputs": [],
   "source": [
    "plt.rcParams.update({'font.size': 10})"
   ]
  },
  {
   "cell_type": "code",
   "execution_count": 6,
   "metadata": {},
   "outputs": [
    {
     "data": {
      "text/html": [
       "<div>\n",
       "<style scoped>\n",
       "    .dataframe tbody tr th:only-of-type {\n",
       "        vertical-align: middle;\n",
       "    }\n",
       "\n",
       "    .dataframe tbody tr th {\n",
       "        vertical-align: top;\n",
       "    }\n",
       "\n",
       "    .dataframe thead th {\n",
       "        text-align: right;\n",
       "    }\n",
       "</style>\n",
       "<table border=\"1\" class=\"dataframe\">\n",
       "  <thead>\n",
       "    <tr style=\"text-align: right;\">\n",
       "      <th></th>\n",
       "      <th>Unnamed: 0</th>\n",
       "      <th>F1</th>\n",
       "      <th>precision</th>\n",
       "      <th>recall</th>\n",
       "      <th>max_gap</th>\n",
       "    </tr>\n",
       "    <tr>\n",
       "      <th>method</th>\n",
       "      <th></th>\n",
       "      <th></th>\n",
       "      <th></th>\n",
       "      <th></th>\n",
       "      <th></th>\n",
       "    </tr>\n",
       "  </thead>\n",
       "  <tbody>\n",
       "    <tr>\n",
       "      <th>RMSE</th>\n",
       "      <td>0.0</td>\n",
       "      <td>0.049453</td>\n",
       "      <td>0.044540</td>\n",
       "      <td>0.055908</td>\n",
       "      <td>0.02</td>\n",
       "    </tr>\n",
       "    <tr>\n",
       "      <th>TweetyNet</th>\n",
       "      <td>0.0</td>\n",
       "      <td>0.921398</td>\n",
       "      <td>0.909720</td>\n",
       "      <td>0.940378</td>\n",
       "      <td>0.02</td>\n",
       "    </tr>\n",
       "    <tr>\n",
       "      <th>WhisperSeg</th>\n",
       "      <td>0.0</td>\n",
       "      <td>0.901499</td>\n",
       "      <td>0.963998</td>\n",
       "      <td>0.855584</td>\n",
       "      <td>0.02</td>\n",
       "    </tr>\n",
       "  </tbody>\n",
       "</table>\n",
       "</div>"
      ],
      "text/plain": [
       "            Unnamed: 0        F1  precision    recall  max_gap\n",
       "method                                                        \n",
       "RMSE               0.0  0.049453   0.044540  0.055908     0.02\n",
       "TweetyNet          0.0  0.921398   0.909720  0.940378     0.02\n",
       "WhisperSeg         0.0  0.901499   0.963998  0.855584     0.02"
      ]
     },
     "execution_count": 6,
     "metadata": {},
     "output_type": "execute_result"
    }
   ],
   "source": [
    "all_seg_metrics.groupby('method').mean(numeric_only=True)"
   ]
  },
  {
   "cell_type": "code",
   "execution_count": 7,
   "metadata": {},
   "outputs": [
    {
     "name": "stdout",
     "output_type": "stream",
     "text": [
      "0.017888442025176723\n",
      "0.010747647170923356\n",
      "0.008625804849928953\n"
     ]
    }
   ],
   "source": [
    "from scipy.stats import sem\n",
    "print(sem(all_seg_metrics[all_seg_metrics.method == 'WhisperSeg'].F1))\n",
    "print(sem(all_seg_metrics[all_seg_metrics.method == 'TweetyNet'].F1))\n",
    "print(sem(all_seg_metrics[all_seg_metrics.method == 'RMSE'].F1))"
   ]
  },
  {
   "cell_type": "code",
   "execution_count": null,
   "metadata": {},
   "outputs": [
    {
     "data": {
      "text/plain": [
       "Text(0.5, 0, 'Method')"
      ]
     },
     "execution_count": 47,
     "metadata": {},
     "output_type": "execute_result"
    },
    {
     "data": {
      "image/png": "[encoded data removed]",
      "text/plain": [
       "<Figure size 400x400 with 1 Axes>"
      ]
     },
     "metadata": {},
     "output_type": "display_data"
    }
   ],
   "source": [
    "plt.figure(figsize = (4, 4))\n",
    "sns.swarmplot(data = all_seg_metrics, x = 'method', y = 'F1', color = 'black', s = 4)\n",
    "sns.boxplot(data = all_seg_metrics, x = 'method', y = 'F1', color = '0.8')\n",
    "plt.title(\"Syllable Offsets within 20ms of Ground Truth\\nfor Rockefeller Dataset\")\n",
    "plt.xlabel('Method')"
   ]
  },
  {
   "cell_type": "code",
   "execution_count": 8,
   "metadata": {},
   "outputs": [
    {
     "data": {
      "image/png": "[encoded data removed]",
      "text/plain": [
       "<Figure size 350x300 with 1 Axes>"
      ]
     },
     "metadata": {},
     "output_type": "display_data"
    }
   ],
   "source": [
    "plt.figure(figsize = (3.5, 3))\n",
    "sns.swarmplot(data = all_seg_metrics, x = 'method', y = 'F1', color = 'crimson', s = 4, dodge = True, legend = False)\n",
    "sns.boxplot(data = all_seg_metrics, x = 'method', y = 'F1', fill = False, color = 'crimson', fliersize=0, whis= 0, \n",
    "legend = False)\n",
    "plt.title(\"Syllable Offsets within 20ms of Ground Truth\")\n",
    "plt.xlabel('Method')\n",
    "plt.ylabel('F1')\n",
    "sns.despine()\n",
    "plt.savefig('rock_offsets_f1.svg')"
   ]
  },
  {
   "cell_type": "code",
   "execution_count": null,
   "metadata": {},
   "outputs": [
    {
     "data": {
      "text/plain": [
       "Text(0, 0.5, 'Precision')"
      ]
     },
     "execution_count": 49,
     "metadata": {},
     "output_type": "execute_result"
    },
    {
     "data": {
      "image/png": "[encoded data removed]",
      "text/plain": [
       "<Figure size 400x400 with 1 Axes>"
      ]
     },
     "metadata": {},
     "output_type": "display_data"
    }
   ],
   "source": [
    "plt.figure(figsize = (4, 4))\n",
    "sns.swarmplot(data = all_seg_metrics, x = 'method', y = 'precision', color = 'black', s = 4)\n",
    "sns.boxplot(data = all_seg_metrics, x = 'method', y = 'precision', color = '0.8')\n",
    "plt.title(\"Syllable Offsets within 20ms of Ground Truth\\nfor Rockefeller Dataset\")\n",
    "plt.xlabel('Method')\n",
    "plt.ylabel('Precision')"
   ]
  },
  {
   "cell_type": "code",
   "execution_count": 9,
   "metadata": {},
   "outputs": [
    {
     "name": "stderr",
     "output_type": "stream",
     "text": [
      "c:\\Users\\tkoch\\anaconda3\\envs\\avn4_install_test\\lib\\site-packages\\seaborn\\categorical.py:3399: UserWarning: 12.0% of the points cannot be placed; you may want to decrease the size of the markers or use stripplot.\n",
      "  warnings.warn(msg, UserWarning)\n"
     ]
    },
    {
     "data": {
      "image/png": "[encoded data removed]",
      "text/plain": [
       "<Figure size 350x300 with 1 Axes>"
      ]
     },
     "metadata": {},
     "output_type": "display_data"
    }
   ],
   "source": [
    "plt.figure(figsize = (3.5, 3))\n",
    "sns.swarmplot(data = all_seg_metrics, x = 'method', y = 'precision', color = 'crimson', s = 4, dodge = True, legend = False)\n",
    "sns.boxplot(data = all_seg_metrics, x = 'method', y = 'precision', fill = False, color = 'crimson', fliersize=0, whis= 0, \n",
    "legend = False)\n",
    "plt.title(\"Syllable Offsets within 20ms of Ground Truth\")\n",
    "plt.xlabel('Method')\n",
    "plt.ylabel('Precision')\n",
    "sns.despine()\n",
    "plt.savefig('rock_offsets_precision.svg')"
   ]
  },
  {
   "cell_type": "code",
   "execution_count": null,
   "metadata": {},
   "outputs": [
    {
     "data": {
      "text/plain": [
       "Text(0, 0.5, 'Recall')"
      ]
     },
     "execution_count": 50,
     "metadata": {},
     "output_type": "execute_result"
    },
    {
     "data": {
      "image/png": "[encoded data removed]",
      "text/plain": [
       "<Figure size 400x400 with 1 Axes>"
      ]
     },
     "metadata": {},
     "output_type": "display_data"
    }
   ],
   "source": [
    "plt.figure(figsize = (4, 4))\n",
    "sns.swarmplot(data = all_seg_metrics, x = 'method', y = 'recall', color = 'black', s = 4)\n",
    "sns.boxplot(data = all_seg_metrics, x = 'method', y = 'recall', color = '0.8')\n",
    "plt.title(\"Syllable Offsets within 20ms of Ground Truth\\nfor Rockefeller Dataset\")\n",
    "plt.xlabel('Method')\n",
    "plt.ylabel('Recall')"
   ]
  },
  {
   "cell_type": "code",
   "execution_count": 10,
   "metadata": {},
   "outputs": [
    {
     "data": {
      "image/png": "[encoded data removed]",
      "text/plain": [
       "<Figure size 350x300 with 1 Axes>"
      ]
     },
     "metadata": {},
     "output_type": "display_data"
    }
   ],
   "source": [
    "plt.figure(figsize = (3.5, 3))\n",
    "sns.swarmplot(data = all_seg_metrics, x = 'method', y = 'recall', color = 'crimson', s = 4, dodge = True, legend = False)\n",
    "sns.boxplot(data = all_seg_metrics, x = 'method', y = 'recall', fill = False, color = 'crimson', fliersize=0, whis= 0, \n",
    "legend = False)\n",
    "plt.title(\"Syllable Offsets within 20ms of Ground Truth\")\n",
    "plt.xlabel('Method')\n",
    "plt.ylabel('Recall')\n",
    "sns.despine()\n",
    "plt.savefig('rock_offsets_recall.svg')"
   ]
  },
  {
   "cell_type": "markdown",
   "metadata": {},
   "source": [
    "# Onsets - Time Deltas"
   ]
  },
  {
   "cell_type": "code",
   "execution_count": 8,
   "metadata": {},
   "outputs": [],
   "source": [
    "def get_match_times(truth_matches, seg_current_file):\n",
    "\n",
    "    #initialize empty 1D array to contain timestamps\n",
    "    matched_times = np.zeros_like(truth_matches)\n",
    "\n",
    "    #loop through each match and add timestamp to matched_times\n",
    "    for i, match_idx in enumerate(truth_matches):\n",
    "        #if the match_idx is nan, that means the true syll had no match, so record nan as timestamp\n",
    "        if np.isnan(match_idx):\n",
    "            matched_times[i] = np.nan\n",
    "        else: \n",
    "            matched_times[i] = seg_current_file.onsets.iloc[int(match_idx)]\n",
    "\n",
    "    return matched_times"
   ]
  },
  {
   "cell_type": "code",
   "execution_count": 9,
   "metadata": {},
   "outputs": [],
   "source": [
    "def get_time_delta_df(seg_data, max_gap = 0.05, feature = 'onsets'):\n",
    "    #initialize dataframe to contain matched timestamps for all files\n",
    "    all_matched_times = pd.DataFrame()\n",
    "\n",
    "    #loop over each individual file\n",
    "    for current_file in np.unique(seg_data.seg_table['files']):\n",
    "        #Make copy of ground truth segmentation table\n",
    "        truth_seg_table = seg_data.true_seg_table\n",
    "\n",
    "        #filter the seg_tables so that they contain only syllables from the \n",
    "        #current file. \n",
    "        seg_current_file = seg_data.seg_table[seg_data.seg_table['files'] == current_file]\n",
    "        truth_current_file = truth_seg_table[truth_seg_table['files'] == current_file]\n",
    "\n",
    "        #get best matches of segmenter to truth onsets/offsets\n",
    "        truth_matches = segmentation.Metrics._Metrics__get_best_matches(truth_current_file[feature], \n",
    "                                            seg_current_file[feature], max_gap)\n",
    "\n",
    "        #create dataframe with matches and timestamps\n",
    "        true_seg_matches_df = pd.DataFrame({'True_feat_times' : truth_current_file[feature], \n",
    "                                            'index_of_match' : truth_matches})\n",
    "\n",
    "        #get timestamps of segmenter matches to truth\n",
    "        matched_times = get_match_times(truth_matches, seg_current_file)\n",
    "\n",
    "        #add matched timestamps to df of matches\n",
    "        true_seg_matches_df['seg_matched_times'] = matched_times\n",
    "\n",
    "        #add file name to df\n",
    "        true_seg_matches_df['file'] = current_file\n",
    "\n",
    "        #append df for current file to df with all files\n",
    "        all_matched_times = pd.concat([all_matched_times, true_seg_matches_df])\n",
    "\n",
    "    return all_matched_times"
   ]
  },
  {
   "cell_type": "code",
   "execution_count": 10,
   "metadata": {},
   "outputs": [],
   "source": [
    "def get_time_deltas_many_birds(segmenter, Bird_IDs, folder_path, upper_threshold, lower_threshold, truth_table_suffix = \"_syll_table.csv\", \n",
    "                               max_gap = 0.05, feature = 'onsets'):\n",
    "\n",
    "    #initialize empty dataframe to append to\n",
    "    all_time_deltas_df = pd.DataFrame()\n",
    "\n",
    "    #loop through each bird\n",
    "    for Bird_ID in Bird_IDs: \n",
    "        #construct full path to folder containing song files\n",
    "        song_folder = folder_path + Bird_ID + \"/\"\n",
    "\n",
    "        #make segmentations\n",
    "        seg_data = segmenter.make_segmentation_table(Bird_ID, song_folder,\n",
    "                                                     upper_threshold = upper_threshold, \n",
    "                                                     lower_threshold = lower_threshold)\n",
    "\n",
    "        #load ground truth segmentations from memory\n",
    "        seg_data = dataloading.Utils.add_ev_song_truth_table(seg_data, song_folder + Bird_ID + truth_table_suffix)\n",
    "\n",
    "        #get time delta table for current bird\n",
    "        curr_time_delta_df = get_time_delta_df(seg_data, max_gap = max_gap, feature = feature)\n",
    "        #add Bird_ID to current df\n",
    "        curr_time_delta_df['Bird_ID'] = Bird_ID\n",
    "        #append to df with all birds\n",
    "        all_time_deltas_df = pd.concat([all_time_deltas_df, curr_time_delta_df])\n",
    "\n",
    "    #add column with time deltas\n",
    "    all_time_deltas_df['time_delta'] = all_time_deltas_df.True_feat_times - all_time_deltas_df.seg_matched_times\n",
    "\n",
    "    return all_time_deltas_df"
   ]
  },
  {
   "cell_type": "markdown",
   "metadata": {},
   "source": [
    "## Get Time Deltas "
   ]
  },
  {
   "cell_type": "code",
   "execution_count": 11,
   "metadata": {},
   "outputs": [
    {
     "data": {
      "text/plain": [
       "0      LIME18\n",
       "1       BRN20\n",
       "2      Lime19\n",
       "3       Lime7\n",
       "4       LIME3\n",
       "5        DB17\n",
       "6        DB21\n",
       "7        DB24\n",
       "8       GRY30\n",
       "9       BRN28\n",
       "10     Lime29\n",
       "11       AQ33\n",
       "12       AQ30\n",
       "13     LIME30\n",
       "14       AQ32\n",
       "15       AQ31\n",
       "16     Ag51HP\n",
       "17       LP16\n",
       "18       GR27\n",
       "19       LP19\n",
       "20      GRY49\n",
       "21      GRY28\n",
       "22      GRY34\n",
       "23    GRY37HP\n",
       "24     GRY112\n",
       "Name: Pupil_ID, dtype: object"
      ]
     },
     "execution_count": 11,
     "metadata": {},
     "output_type": "execute_result"
    }
   ],
   "source": [
    "pairs_df = pd.read_csv(\"C:/Grad_School/Code_and_software/Py_code/Rockefeller_validation/rockefeller_group1_pairs_df.csv\")\n",
    "All_Birds = pairs_df.Pupil_ID\n",
    "All_Birds"
   ]
  },
  {
   "cell_type": "markdown",
   "metadata": {},
   "source": [
    "### RMSE"
   ]
  },
  {
   "cell_type": "code",
   "execution_count": 12,
   "metadata": {},
   "outputs": [],
   "source": [
    "song_folder = song_folder = 'E:/Rockefeller_Song_Dataset/Pupils_labeled_subsets/'\n",
    "segmenter = segmentation.RMSEDerivative()"
   ]
  },
  {
   "cell_type": "code",
   "execution_count": 13,
   "metadata": {},
   "outputs": [
    {
     "name": "stderr",
     "output_type": "stream",
     "text": [
      "c:\\Users\\tkoch\\anaconda3\\envs\\avn_021_py38\\lib\\site-packages\\avn\\dataloading.py:151: FutureWarning: In a future version of pandas all arguments of StringMethods.split except for the argument 'pat' will be keyword-only.\n",
      "  true_seg_table['files'] = true_seg_table['files'].str.split('.not', 1).str[0]\n",
      "c:\\Users\\tkoch\\anaconda3\\envs\\avn_021_py38\\lib\\site-packages\\avn\\dataloading.py:151: FutureWarning: In a future version of pandas all arguments of StringMethods.split except for the argument 'pat' will be keyword-only.\n",
      "  true_seg_table['files'] = true_seg_table['files'].str.split('.not', 1).str[0]\n",
      "c:\\Users\\tkoch\\anaconda3\\envs\\avn_021_py38\\lib\\site-packages\\avn\\dataloading.py:151: FutureWarning: In a future version of pandas all arguments of StringMethods.split except for the argument 'pat' will be keyword-only.\n",
      "  true_seg_table['files'] = true_seg_table['files'].str.split('.not', 1).str[0]\n",
      "c:\\Users\\tkoch\\anaconda3\\envs\\avn_021_py38\\lib\\site-packages\\avn\\dataloading.py:151: FutureWarning: In a future version of pandas all arguments of StringMethods.split except for the argument 'pat' will be keyword-only.\n",
      "  true_seg_table['files'] = true_seg_table['files'].str.split('.not', 1).str[0]\n",
      "c:\\Users\\tkoch\\anaconda3\\envs\\avn_021_py38\\lib\\site-packages\\avn\\dataloading.py:151: FutureWarning: In a future version of pandas all arguments of StringMethods.split except for the argument 'pat' will be keyword-only.\n",
      "  true_seg_table['files'] = true_seg_table['files'].str.split('.not', 1).str[0]\n",
      "c:\\Users\\tkoch\\anaconda3\\envs\\avn_021_py38\\lib\\site-packages\\avn\\dataloading.py:151: FutureWarning: In a future version of pandas all arguments of StringMethods.split except for the argument 'pat' will be keyword-only.\n",
      "  true_seg_table['files'] = true_seg_table['files'].str.split('.not', 1).str[0]\n",
      "c:\\Users\\tkoch\\anaconda3\\envs\\avn_021_py38\\lib\\site-packages\\avn\\dataloading.py:151: FutureWarning: In a future version of pandas all arguments of StringMethods.split except for the argument 'pat' will be keyword-only.\n",
      "  true_seg_table['files'] = true_seg_table['files'].str.split('.not', 1).str[0]\n",
      "c:\\Users\\tkoch\\anaconda3\\envs\\avn_021_py38\\lib\\site-packages\\avn\\dataloading.py:151: FutureWarning: In a future version of pandas all arguments of StringMethods.split except for the argument 'pat' will be keyword-only.\n",
      "  true_seg_table['files'] = true_seg_table['files'].str.split('.not', 1).str[0]\n",
      "c:\\Users\\tkoch\\anaconda3\\envs\\avn_021_py38\\lib\\site-packages\\avn\\dataloading.py:151: FutureWarning: In a future version of pandas all arguments of StringMethods.split except for the argument 'pat' will be keyword-only.\n",
      "  true_seg_table['files'] = true_seg_table['files'].str.split('.not', 1).str[0]\n",
      "c:\\Users\\tkoch\\anaconda3\\envs\\avn_021_py38\\lib\\site-packages\\avn\\dataloading.py:151: FutureWarning: In a future version of pandas all arguments of StringMethods.split except for the argument 'pat' will be keyword-only.\n",
      "  true_seg_table['files'] = true_seg_table['files'].str.split('.not', 1).str[0]\n",
      "c:\\Users\\tkoch\\anaconda3\\envs\\avn_021_py38\\lib\\site-packages\\avn\\dataloading.py:151: FutureWarning: In a future version of pandas all arguments of StringMethods.split except for the argument 'pat' will be keyword-only.\n",
      "  true_seg_table['files'] = true_seg_table['files'].str.split('.not', 1).str[0]\n",
      "c:\\Users\\tkoch\\anaconda3\\envs\\avn_021_py38\\lib\\site-packages\\avn\\dataloading.py:151: FutureWarning: In a future version of pandas all arguments of StringMethods.split except for the argument 'pat' will be keyword-only.\n",
      "  true_seg_table['files'] = true_seg_table['files'].str.split('.not', 1).str[0]\n",
      "c:\\Users\\tkoch\\anaconda3\\envs\\avn_021_py38\\lib\\site-packages\\avn\\dataloading.py:151: FutureWarning: In a future version of pandas all arguments of StringMethods.split except for the argument 'pat' will be keyword-only.\n",
      "  true_seg_table['files'] = true_seg_table['files'].str.split('.not', 1).str[0]\n",
      "c:\\Users\\tkoch\\anaconda3\\envs\\avn_021_py38\\lib\\site-packages\\avn\\dataloading.py:151: FutureWarning: In a future version of pandas all arguments of StringMethods.split except for the argument 'pat' will be keyword-only.\n",
      "  true_seg_table['files'] = true_seg_table['files'].str.split('.not', 1).str[0]\n",
      "c:\\Users\\tkoch\\anaconda3\\envs\\avn_021_py38\\lib\\site-packages\\avn\\dataloading.py:151: FutureWarning: In a future version of pandas all arguments of StringMethods.split except for the argument 'pat' will be keyword-only.\n",
      "  true_seg_table['files'] = true_seg_table['files'].str.split('.not', 1).str[0]\n",
      "c:\\Users\\tkoch\\anaconda3\\envs\\avn_021_py38\\lib\\site-packages\\avn\\dataloading.py:151: FutureWarning: In a future version of pandas all arguments of StringMethods.split except for the argument 'pat' will be keyword-only.\n",
      "  true_seg_table['files'] = true_seg_table['files'].str.split('.not', 1).str[0]\n",
      "c:\\Users\\tkoch\\anaconda3\\envs\\avn_021_py38\\lib\\site-packages\\avn\\dataloading.py:151: FutureWarning: In a future version of pandas all arguments of StringMethods.split except for the argument 'pat' will be keyword-only.\n",
      "  true_seg_table['files'] = true_seg_table['files'].str.split('.not', 1).str[0]\n",
      "c:\\Users\\tkoch\\anaconda3\\envs\\avn_021_py38\\lib\\site-packages\\avn\\dataloading.py:151: FutureWarning: In a future version of pandas all arguments of StringMethods.split except for the argument 'pat' will be keyword-only.\n",
      "  true_seg_table['files'] = true_seg_table['files'].str.split('.not', 1).str[0]\n",
      "c:\\Users\\tkoch\\anaconda3\\envs\\avn_021_py38\\lib\\site-packages\\avn\\dataloading.py:151: FutureWarning: In a future version of pandas all arguments of StringMethods.split except for the argument 'pat' will be keyword-only.\n",
      "  true_seg_table['files'] = true_seg_table['files'].str.split('.not', 1).str[0]\n",
      "c:\\Users\\tkoch\\anaconda3\\envs\\avn_021_py38\\lib\\site-packages\\avn\\dataloading.py:151: FutureWarning: In a future version of pandas all arguments of StringMethods.split except for the argument 'pat' will be keyword-only.\n",
      "  true_seg_table['files'] = true_seg_table['files'].str.split('.not', 1).str[0]\n",
      "c:\\Users\\tkoch\\anaconda3\\envs\\avn_021_py38\\lib\\site-packages\\avn\\dataloading.py:151: FutureWarning: In a future version of pandas all arguments of StringMethods.split except for the argument 'pat' will be keyword-only.\n",
      "  true_seg_table['files'] = true_seg_table['files'].str.split('.not', 1).str[0]\n",
      "c:\\Users\\tkoch\\anaconda3\\envs\\avn_021_py38\\lib\\site-packages\\avn\\dataloading.py:151: FutureWarning: In a future version of pandas all arguments of StringMethods.split except for the argument 'pat' will be keyword-only.\n",
      "  true_seg_table['files'] = true_seg_table['files'].str.split('.not', 1).str[0]\n",
      "c:\\Users\\tkoch\\anaconda3\\envs\\avn_021_py38\\lib\\site-packages\\avn\\dataloading.py:151: FutureWarning: In a future version of pandas all arguments of StringMethods.split except for the argument 'pat' will be keyword-only.\n",
      "  true_seg_table['files'] = true_seg_table['files'].str.split('.not', 1).str[0]\n",
      "c:\\Users\\tkoch\\anaconda3\\envs\\avn_021_py38\\lib\\site-packages\\avn\\dataloading.py:151: FutureWarning: In a future version of pandas all arguments of StringMethods.split except for the argument 'pat' will be keyword-only.\n",
      "  true_seg_table['files'] = true_seg_table['files'].str.split('.not', 1).str[0]\n",
      "c:\\Users\\tkoch\\anaconda3\\envs\\avn_021_py38\\lib\\site-packages\\avn\\dataloading.py:151: FutureWarning: In a future version of pandas all arguments of StringMethods.split except for the argument 'pat' will be keyword-only.\n",
      "  true_seg_table['files'] = true_seg_table['files'].str.split('.not', 1).str[0]\n"
     ]
    }
   ],
   "source": [
    "all_time_deltas_RMSE = get_time_deltas_many_birds(segmenter, All_Birds, song_folder, \n",
    "                                                upper_threshold = 0.006, lower_threshold= -0.1, max_gap = 0.01)"
   ]
  },
  {
   "cell_type": "markdown",
   "metadata": {},
   "source": [
    "### TweetyNet"
   ]
  },
  {
   "cell_type": "code",
   "execution_count": 14,
   "metadata": {},
   "outputs": [],
   "source": [
    "def vak_to_syll_table(prediction_results):\n",
    "  prediction_syllables = prediction_results[prediction_results['label'] == \"s\"]\n",
    "  prediction_syll_reformat = pd.DataFrame()\n",
    "  prediction_syll_reformat[\"files\"] = prediction_syllables['audio_path']\n",
    "  prediction_syll_reformat['onsets'] = prediction_syllables['onset_s']\n",
    "  prediction_syll_reformat['offsets'] = prediction_syllables['offset_s']\n",
    "\n",
    "  return prediction_syll_reformat"
   ]
  },
  {
   "cell_type": "code",
   "execution_count": 16,
   "metadata": {},
   "outputs": [
    {
     "name": "stderr",
     "output_type": "stream",
     "text": [
      "c:\\Users\\tkoch\\anaconda3\\envs\\avn_021_py38\\lib\\site-packages\\avn\\dataloading.py:151: FutureWarning: In a future version of pandas all arguments of StringMethods.split except for the argument 'pat' will be keyword-only.\n",
      "  true_seg_table['files'] = true_seg_table['files'].str.split('.not', 1).str[0]\n",
      "c:\\Users\\tkoch\\anaconda3\\envs\\avn_021_py38\\lib\\site-packages\\avn\\dataloading.py:151: FutureWarning: In a future version of pandas all arguments of StringMethods.split except for the argument 'pat' will be keyword-only.\n",
      "  true_seg_table['files'] = true_seg_table['files'].str.split('.not', 1).str[0]\n",
      "c:\\Users\\tkoch\\anaconda3\\envs\\avn_021_py38\\lib\\site-packages\\avn\\dataloading.py:151: FutureWarning: In a future version of pandas all arguments of StringMethods.split except for the argument 'pat' will be keyword-only.\n",
      "  true_seg_table['files'] = true_seg_table['files'].str.split('.not', 1).str[0]\n",
      "c:\\Users\\tkoch\\anaconda3\\envs\\avn_021_py38\\lib\\site-packages\\avn\\dataloading.py:151: FutureWarning: In a future version of pandas all arguments of StringMethods.split except for the argument 'pat' will be keyword-only.\n",
      "  true_seg_table['files'] = true_seg_table['files'].str.split('.not', 1).str[0]\n",
      "c:\\Users\\tkoch\\anaconda3\\envs\\avn_021_py38\\lib\\site-packages\\avn\\dataloading.py:151: FutureWarning: In a future version of pandas all arguments of StringMethods.split except for the argument 'pat' will be keyword-only.\n",
      "  true_seg_table['files'] = true_seg_table['files'].str.split('.not', 1).str[0]\n",
      "c:\\Users\\tkoch\\anaconda3\\envs\\avn_021_py38\\lib\\site-packages\\avn\\dataloading.py:151: FutureWarning: In a future version of pandas all arguments of StringMethods.split except for the argument 'pat' will be keyword-only.\n",
      "  true_seg_table['files'] = true_seg_table['files'].str.split('.not', 1).str[0]\n",
      "c:\\Users\\tkoch\\anaconda3\\envs\\avn_021_py38\\lib\\site-packages\\avn\\dataloading.py:151: FutureWarning: In a future version of pandas all arguments of StringMethods.split except for the argument 'pat' will be keyword-only.\n",
      "  true_seg_table['files'] = true_seg_table['files'].str.split('.not', 1).str[0]\n",
      "c:\\Users\\tkoch\\anaconda3\\envs\\avn_021_py38\\lib\\site-packages\\avn\\dataloading.py:151: FutureWarning: In a future version of pandas all arguments of StringMethods.split except for the argument 'pat' will be keyword-only.\n",
      "  true_seg_table['files'] = true_seg_table['files'].str.split('.not', 1).str[0]\n",
      "c:\\Users\\tkoch\\anaconda3\\envs\\avn_021_py38\\lib\\site-packages\\avn\\dataloading.py:151: FutureWarning: In a future version of pandas all arguments of StringMethods.split except for the argument 'pat' will be keyword-only.\n",
      "  true_seg_table['files'] = true_seg_table['files'].str.split('.not', 1).str[0]\n",
      "c:\\Users\\tkoch\\anaconda3\\envs\\avn_021_py38\\lib\\site-packages\\avn\\dataloading.py:151: FutureWarning: In a future version of pandas all arguments of StringMethods.split except for the argument 'pat' will be keyword-only.\n",
      "  true_seg_table['files'] = true_seg_table['files'].str.split('.not', 1).str[0]\n",
      "c:\\Users\\tkoch\\anaconda3\\envs\\avn_021_py38\\lib\\site-packages\\avn\\dataloading.py:151: FutureWarning: In a future version of pandas all arguments of StringMethods.split except for the argument 'pat' will be keyword-only.\n",
      "  true_seg_table['files'] = true_seg_table['files'].str.split('.not', 1).str[0]\n",
      "c:\\Users\\tkoch\\anaconda3\\envs\\avn_021_py38\\lib\\site-packages\\avn\\dataloading.py:151: FutureWarning: In a future version of pandas all arguments of StringMethods.split except for the argument 'pat' will be keyword-only.\n",
      "  true_seg_table['files'] = true_seg_table['files'].str.split('.not', 1).str[0]\n",
      "c:\\Users\\tkoch\\anaconda3\\envs\\avn_021_py38\\lib\\site-packages\\avn\\dataloading.py:151: FutureWarning: In a future version of pandas all arguments of StringMethods.split except for the argument 'pat' will be keyword-only.\n",
      "  true_seg_table['files'] = true_seg_table['files'].str.split('.not', 1).str[0]\n",
      "c:\\Users\\tkoch\\anaconda3\\envs\\avn_021_py38\\lib\\site-packages\\avn\\dataloading.py:151: FutureWarning: In a future version of pandas all arguments of StringMethods.split except for the argument 'pat' will be keyword-only.\n",
      "  true_seg_table['files'] = true_seg_table['files'].str.split('.not', 1).str[0]\n",
      "c:\\Users\\tkoch\\anaconda3\\envs\\avn_021_py38\\lib\\site-packages\\avn\\dataloading.py:151: FutureWarning: In a future version of pandas all arguments of StringMethods.split except for the argument 'pat' will be keyword-only.\n",
      "  true_seg_table['files'] = true_seg_table['files'].str.split('.not', 1).str[0]\n",
      "c:\\Users\\tkoch\\anaconda3\\envs\\avn_021_py38\\lib\\site-packages\\avn\\dataloading.py:151: FutureWarning: In a future version of pandas all arguments of StringMethods.split except for the argument 'pat' will be keyword-only.\n",
      "  true_seg_table['files'] = true_seg_table['files'].str.split('.not', 1).str[0]\n",
      "c:\\Users\\tkoch\\anaconda3\\envs\\avn_021_py38\\lib\\site-packages\\avn\\dataloading.py:151: FutureWarning: In a future version of pandas all arguments of StringMethods.split except for the argument 'pat' will be keyword-only.\n",
      "  true_seg_table['files'] = true_seg_table['files'].str.split('.not', 1).str[0]\n",
      "c:\\Users\\tkoch\\anaconda3\\envs\\avn_021_py38\\lib\\site-packages\\avn\\dataloading.py:151: FutureWarning: In a future version of pandas all arguments of StringMethods.split except for the argument 'pat' will be keyword-only.\n",
      "  true_seg_table['files'] = true_seg_table['files'].str.split('.not', 1).str[0]\n",
      "c:\\Users\\tkoch\\anaconda3\\envs\\avn_021_py38\\lib\\site-packages\\avn\\dataloading.py:151: FutureWarning: In a future version of pandas all arguments of StringMethods.split except for the argument 'pat' will be keyword-only.\n",
      "  true_seg_table['files'] = true_seg_table['files'].str.split('.not', 1).str[0]\n",
      "c:\\Users\\tkoch\\anaconda3\\envs\\avn_021_py38\\lib\\site-packages\\avn\\dataloading.py:151: FutureWarning: In a future version of pandas all arguments of StringMethods.split except for the argument 'pat' will be keyword-only.\n",
      "  true_seg_table['files'] = true_seg_table['files'].str.split('.not', 1).str[0]\n",
      "c:\\Users\\tkoch\\anaconda3\\envs\\avn_021_py38\\lib\\site-packages\\avn\\dataloading.py:151: FutureWarning: In a future version of pandas all arguments of StringMethods.split except for the argument 'pat' will be keyword-only.\n",
      "  true_seg_table['files'] = true_seg_table['files'].str.split('.not', 1).str[0]\n",
      "c:\\Users\\tkoch\\anaconda3\\envs\\avn_021_py38\\lib\\site-packages\\avn\\dataloading.py:151: FutureWarning: In a future version of pandas all arguments of StringMethods.split except for the argument 'pat' will be keyword-only.\n",
      "  true_seg_table['files'] = true_seg_table['files'].str.split('.not', 1).str[0]\n",
      "c:\\Users\\tkoch\\anaconda3\\envs\\avn_021_py38\\lib\\site-packages\\avn\\dataloading.py:151: FutureWarning: In a future version of pandas all arguments of StringMethods.split except for the argument 'pat' will be keyword-only.\n",
      "  true_seg_table['files'] = true_seg_table['files'].str.split('.not', 1).str[0]\n",
      "c:\\Users\\tkoch\\anaconda3\\envs\\avn_021_py38\\lib\\site-packages\\avn\\dataloading.py:151: FutureWarning: In a future version of pandas all arguments of StringMethods.split except for the argument 'pat' will be keyword-only.\n",
      "  true_seg_table['files'] = true_seg_table['files'].str.split('.not', 1).str[0]\n",
      "c:\\Users\\tkoch\\anaconda3\\envs\\avn_021_py38\\lib\\site-packages\\avn\\dataloading.py:151: FutureWarning: In a future version of pandas all arguments of StringMethods.split except for the argument 'pat' will be keyword-only.\n",
      "  true_seg_table['files'] = true_seg_table['files'].str.split('.not', 1).str[0]\n"
     ]
    }
   ],
   "source": [
    "#initialize df with all birds' time deltas. \n",
    "all_time_deltas_Tweety = pd.DataFrame()\n",
    "\n",
    "for Bird_ID in All_Birds: \n",
    "\n",
    "    #load tweetynet segmentation table\n",
    "    predictions_path =  \"E:/Rockefeller_Song_Dataset/tweety_segmentations_pupils/\" + Bird_ID + \".annot.csv\"\n",
    "    predictions_vak = pd.read_csv(predictions_path)\n",
    "    predictions_reformat = vak_to_syll_table(predictions_vak)\n",
    "\n",
    "    #load ground truth\n",
    "    song_folder = 'E:/Rockefeller_Song_Dataset/Pupils_labeled_subsets/' + Bird_ID + \"/\"\n",
    "    ground_truth_path = song_folder + Bird_ID + \"_syll_table.csv\"\n",
    "\n",
    "    #make SegData Object\n",
    "    seg_data = segmentation.SegData(Bird_ID, predictions_reformat)\n",
    "    seg_data = dataloading.Utils.add_ev_song_truth_table(seg_data, ground_truth_path)\n",
    "\n",
    "    #calculate time deltas\n",
    "    curr_bird_time_delta = get_time_delta_df(seg_data, max_gap = 0.01, feature = 'onsets')\n",
    "    #append to df with all birds\n",
    "    curr_bird_time_delta['Bird_ID'] = Bird_ID\n",
    "    all_time_deltas_Tweety = pd.concat([all_time_deltas_Tweety, curr_bird_time_delta])\n",
    "\n",
    "#add time delta column \n",
    "all_time_deltas_Tweety['time_delta'] = all_time_deltas_Tweety.True_feat_times - all_time_deltas_Tweety.seg_matched_times"
   ]
  },
  {
   "cell_type": "markdown",
   "metadata": {},
   "source": [
    "### Wseg"
   ]
  },
  {
   "cell_type": "code",
   "execution_count": 17,
   "metadata": {},
   "outputs": [],
   "source": [
    "def get_time_delta_df(seg_data, max_gap = 0.01, feature = 'onsets'):\n",
    "    #initialize dataframe to contain matched timestamps for all files\n",
    "    all_matched_times = pd.DataFrame()\n",
    "\n",
    "    #loop over each individual file\n",
    "    for current_file in np.unique(seg_data.seg_table['files']):\n",
    "        #Make copy of ground truth segmentation table\n",
    "        truth_seg_table = seg_data.true_seg_table\n",
    "\n",
    "        #filter the seg_tables so that they contain only syllables from the \n",
    "        #current file. \n",
    "        seg_current_file = seg_data.seg_table[seg_data.seg_table['files'] == current_file]\n",
    "        truth_current_file = truth_seg_table[truth_seg_table['files'] == current_file]\n",
    "\n",
    "        #get best matches of segmenter to truth onsets/offsets\n",
    "        truth_matches = segmentation.Metrics._Metrics__get_best_matches(truth_current_file[feature], \n",
    "                                            seg_current_file[feature], max_gap)\n",
    "\n",
    "        #create dataframe with matches and timestamps\n",
    "        true_seg_matches_df = pd.DataFrame({'True_feat_times' : truth_current_file[feature], \n",
    "                                            'index_of_match' : truth_matches})\n",
    "\n",
    "        #get timestamps of segmenter matches to truth\n",
    "        matched_times = get_match_times(truth_matches, seg_current_file)\n",
    "\n",
    "        #add matched timestamps to df of matches\n",
    "        true_seg_matches_df['seg_matched_times'] = matched_times\n",
    "\n",
    "        #add file name to df\n",
    "        true_seg_matches_df['file'] = current_file\n",
    "\n",
    "        #append df for current file to df with all files\n",
    "        all_matched_times = pd.concat([all_matched_times, true_seg_matches_df])\n",
    "\n",
    "    return all_matched_times"
   ]
  },
  {
   "cell_type": "code",
   "execution_count": 19,
   "metadata": {},
   "outputs": [
    {
     "name": "stderr",
     "output_type": "stream",
     "text": [
      "c:\\Users\\tkoch\\anaconda3\\envs\\avn_021_py38\\lib\\site-packages\\avn\\dataloading.py:151: FutureWarning: In a future version of pandas all arguments of StringMethods.split except for the argument 'pat' will be keyword-only.\n",
      "  true_seg_table['files'] = true_seg_table['files'].str.split('.not', 1).str[0]\n",
      "c:\\Users\\tkoch\\anaconda3\\envs\\avn_021_py38\\lib\\site-packages\\avn\\dataloading.py:151: FutureWarning: In a future version of pandas all arguments of StringMethods.split except for the argument 'pat' will be keyword-only.\n",
      "  true_seg_table['files'] = true_seg_table['files'].str.split('.not', 1).str[0]\n",
      "c:\\Users\\tkoch\\anaconda3\\envs\\avn_021_py38\\lib\\site-packages\\avn\\dataloading.py:151: FutureWarning: In a future version of pandas all arguments of StringMethods.split except for the argument 'pat' will be keyword-only.\n",
      "  true_seg_table['files'] = true_seg_table['files'].str.split('.not', 1).str[0]\n",
      "c:\\Users\\tkoch\\anaconda3\\envs\\avn_021_py38\\lib\\site-packages\\avn\\dataloading.py:151: FutureWarning: In a future version of pandas all arguments of StringMethods.split except for the argument 'pat' will be keyword-only.\n",
      "  true_seg_table['files'] = true_seg_table['files'].str.split('.not', 1).str[0]\n",
      "c:\\Users\\tkoch\\anaconda3\\envs\\avn_021_py38\\lib\\site-packages\\avn\\dataloading.py:151: FutureWarning: In a future version of pandas all arguments of StringMethods.split except for the argument 'pat' will be keyword-only.\n",
      "  true_seg_table['files'] = true_seg_table['files'].str.split('.not', 1).str[0]\n",
      "c:\\Users\\tkoch\\anaconda3\\envs\\avn_021_py38\\lib\\site-packages\\avn\\dataloading.py:151: FutureWarning: In a future version of pandas all arguments of StringMethods.split except for the argument 'pat' will be keyword-only.\n",
      "  true_seg_table['files'] = true_seg_table['files'].str.split('.not', 1).str[0]\n",
      "c:\\Users\\tkoch\\anaconda3\\envs\\avn_021_py38\\lib\\site-packages\\avn\\dataloading.py:151: FutureWarning: In a future version of pandas all arguments of StringMethods.split except for the argument 'pat' will be keyword-only.\n",
      "  true_seg_table['files'] = true_seg_table['files'].str.split('.not', 1).str[0]\n",
      "c:\\Users\\tkoch\\anaconda3\\envs\\avn_021_py38\\lib\\site-packages\\avn\\dataloading.py:151: FutureWarning: In a future version of pandas all arguments of StringMethods.split except for the argument 'pat' will be keyword-only.\n",
      "  true_seg_table['files'] = true_seg_table['files'].str.split('.not', 1).str[0]\n",
      "c:\\Users\\tkoch\\anaconda3\\envs\\avn_021_py38\\lib\\site-packages\\avn\\dataloading.py:151: FutureWarning: In a future version of pandas all arguments of StringMethods.split except for the argument 'pat' will be keyword-only.\n",
      "  true_seg_table['files'] = true_seg_table['files'].str.split('.not', 1).str[0]\n",
      "c:\\Users\\tkoch\\anaconda3\\envs\\avn_021_py38\\lib\\site-packages\\avn\\dataloading.py:151: FutureWarning: In a future version of pandas all arguments of StringMethods.split except for the argument 'pat' will be keyword-only.\n",
      "  true_seg_table['files'] = true_seg_table['files'].str.split('.not', 1).str[0]\n",
      "c:\\Users\\tkoch\\anaconda3\\envs\\avn_021_py38\\lib\\site-packages\\avn\\dataloading.py:151: FutureWarning: In a future version of pandas all arguments of StringMethods.split except for the argument 'pat' will be keyword-only.\n",
      "  true_seg_table['files'] = true_seg_table['files'].str.split('.not', 1).str[0]\n",
      "c:\\Users\\tkoch\\anaconda3\\envs\\avn_021_py38\\lib\\site-packages\\avn\\dataloading.py:151: FutureWarning: In a future version of pandas all arguments of StringMethods.split except for the argument 'pat' will be keyword-only.\n",
      "  true_seg_table['files'] = true_seg_table['files'].str.split('.not', 1).str[0]\n",
      "c:\\Users\\tkoch\\anaconda3\\envs\\avn_021_py38\\lib\\site-packages\\avn\\dataloading.py:151: FutureWarning: In a future version of pandas all arguments of StringMethods.split except for the argument 'pat' will be keyword-only.\n",
      "  true_seg_table['files'] = true_seg_table['files'].str.split('.not', 1).str[0]\n",
      "c:\\Users\\tkoch\\anaconda3\\envs\\avn_021_py38\\lib\\site-packages\\avn\\dataloading.py:151: FutureWarning: In a future version of pandas all arguments of StringMethods.split except for the argument 'pat' will be keyword-only.\n",
      "  true_seg_table['files'] = true_seg_table['files'].str.split('.not', 1).str[0]\n",
      "c:\\Users\\tkoch\\anaconda3\\envs\\avn_021_py38\\lib\\site-packages\\avn\\dataloading.py:151: FutureWarning: In a future version of pandas all arguments of StringMethods.split except for the argument 'pat' will be keyword-only.\n",
      "  true_seg_table['files'] = true_seg_table['files'].str.split('.not', 1).str[0]\n",
      "c:\\Users\\tkoch\\anaconda3\\envs\\avn_021_py38\\lib\\site-packages\\avn\\dataloading.py:151: FutureWarning: In a future version of pandas all arguments of StringMethods.split except for the argument 'pat' will be keyword-only.\n",
      "  true_seg_table['files'] = true_seg_table['files'].str.split('.not', 1).str[0]\n",
      "c:\\Users\\tkoch\\anaconda3\\envs\\avn_021_py38\\lib\\site-packages\\avn\\dataloading.py:151: FutureWarning: In a future version of pandas all arguments of StringMethods.split except for the argument 'pat' will be keyword-only.\n",
      "  true_seg_table['files'] = true_seg_table['files'].str.split('.not', 1).str[0]\n",
      "c:\\Users\\tkoch\\anaconda3\\envs\\avn_021_py38\\lib\\site-packages\\avn\\dataloading.py:151: FutureWarning: In a future version of pandas all arguments of StringMethods.split except for the argument 'pat' will be keyword-only.\n",
      "  true_seg_table['files'] = true_seg_table['files'].str.split('.not', 1).str[0]\n",
      "c:\\Users\\tkoch\\anaconda3\\envs\\avn_021_py38\\lib\\site-packages\\avn\\dataloading.py:151: FutureWarning: In a future version of pandas all arguments of StringMethods.split except for the argument 'pat' will be keyword-only.\n",
      "  true_seg_table['files'] = true_seg_table['files'].str.split('.not', 1).str[0]\n",
      "c:\\Users\\tkoch\\anaconda3\\envs\\avn_021_py38\\lib\\site-packages\\avn\\dataloading.py:151: FutureWarning: In a future version of pandas all arguments of StringMethods.split except for the argument 'pat' will be keyword-only.\n",
      "  true_seg_table['files'] = true_seg_table['files'].str.split('.not', 1).str[0]\n",
      "c:\\Users\\tkoch\\anaconda3\\envs\\avn_021_py38\\lib\\site-packages\\avn\\dataloading.py:151: FutureWarning: In a future version of pandas all arguments of StringMethods.split except for the argument 'pat' will be keyword-only.\n",
      "  true_seg_table['files'] = true_seg_table['files'].str.split('.not', 1).str[0]\n",
      "c:\\Users\\tkoch\\anaconda3\\envs\\avn_021_py38\\lib\\site-packages\\avn\\dataloading.py:151: FutureWarning: In a future version of pandas all arguments of StringMethods.split except for the argument 'pat' will be keyword-only.\n",
      "  true_seg_table['files'] = true_seg_table['files'].str.split('.not', 1).str[0]\n",
      "c:\\Users\\tkoch\\anaconda3\\envs\\avn_021_py38\\lib\\site-packages\\avn\\dataloading.py:151: FutureWarning: In a future version of pandas all arguments of StringMethods.split except for the argument 'pat' will be keyword-only.\n",
      "  true_seg_table['files'] = true_seg_table['files'].str.split('.not', 1).str[0]\n",
      "c:\\Users\\tkoch\\anaconda3\\envs\\avn_021_py38\\lib\\site-packages\\avn\\dataloading.py:151: FutureWarning: In a future version of pandas all arguments of StringMethods.split except for the argument 'pat' will be keyword-only.\n",
      "  true_seg_table['files'] = true_seg_table['files'].str.split('.not', 1).str[0]\n",
      "c:\\Users\\tkoch\\anaconda3\\envs\\avn_021_py38\\lib\\site-packages\\avn\\dataloading.py:151: FutureWarning: In a future version of pandas all arguments of StringMethods.split except for the argument 'pat' will be keyword-only.\n",
      "  true_seg_table['files'] = true_seg_table['files'].str.split('.not', 1).str[0]\n"
     ]
    }
   ],
   "source": [
    "#initialize df with all birds' time deltas. \n",
    "all_time_deltas_wseg = pd.DataFrame()\n",
    "\n",
    "for Bird_ID in All_Birds[:]: \n",
    "\n",
    "    #load tweetynet segmentation table\n",
    "    predictions_path =  'D:\\\\Final_Bird_Dataset\\\\WhisperSeg_Segmentation\\\\' + Bird_ID + '_wseg.csv'\n",
    "    predictions = pd.read_csv(predictions_path)\n",
    "    predictions = predictions.drop(columns = ['Unnamed: 0', 'cluster'])\n",
    "    predictions = predictions.rename(columns = {'onset' : 'onsets', \n",
    "                                                            'offset' : 'offsets', \n",
    "                                                            'file' : 'files'})\n",
    "\n",
    "    #load ground truth\n",
    "    song_folder = 'E:/Rockefeller_Song_Dataset/Pupils_labeled_subsets/' + Bird_ID + \"/\"\n",
    "    ground_truth_path = song_folder + Bird_ID + \"_syll_table.csv\"\n",
    "\n",
    "    #make SegData Object\n",
    "    seg_data = segmentation.SegData(Bird_ID, predictions)\n",
    "    seg_data = dataloading.Utils.add_ev_song_truth_table(seg_data, ground_truth_path)\n",
    "\n",
    "    #calculate time deltas\n",
    "    curr_bird_time_delta = get_time_delta_df(seg_data, max_gap = 0.01, feature = 'onsets')\n",
    "\n",
    "    #append to df with all birds\n",
    "    curr_bird_time_delta['Bird_ID'] = Bird_ID\n",
    "    all_time_deltas_wseg = pd.concat([all_time_deltas_wseg, curr_bird_time_delta])\n",
    "\n",
    "#add time delta column \n",
    "all_time_deltas_wseg['time_delta'] = all_time_deltas_wseg.True_feat_times - all_time_deltas_wseg.seg_matched_times"
   ]
  },
  {
   "cell_type": "markdown",
   "metadata": {},
   "source": [
    "## Merge Time Deltas"
   ]
  },
  {
   "cell_type": "code",
   "execution_count": 20,
   "metadata": {},
   "outputs": [],
   "source": [
    "all_time_deltas_Tweety['Segmentation Method'] = \"TweetyNet\"\n",
    "all_time_deltas_RMSE['Segmentation Method'] = \"Amplitude Threshold\" \n",
    "all_time_deltas_wseg['Segmentation Method'] = \"WhisperSeg\""
   ]
  },
  {
   "cell_type": "code",
   "execution_count": 21,
   "metadata": {},
   "outputs": [],
   "source": [
    "all_time_deltas = pd.concat([all_time_deltas_wseg, all_time_deltas_Tweety, all_time_deltas_RMSE,])"
   ]
  },
  {
   "cell_type": "code",
   "execution_count": 22,
   "metadata": {},
   "outputs": [],
   "source": [
    "all_time_deltas.to_csv('rock_onset_time_deltas')"
   ]
  },
  {
   "cell_type": "markdown",
   "metadata": {},
   "source": [
    "## Plot Time Deltas"
   ]
  },
  {
   "cell_type": "code",
   "execution_count": 28,
   "metadata": {},
   "outputs": [],
   "source": [
    "import avn.segmentation as segmentation\n",
    "import pandas as pd\n",
    "import numpy as np\n",
    "import avn.dataloading as dataloading\n",
    "import matplotlib.pyplot as plt\n",
    "import seaborn as sns"
   ]
  },
  {
   "cell_type": "code",
   "execution_count": 29,
   "metadata": {},
   "outputs": [],
   "source": [
    "all_time_deltas = pd.read_csv('rock_onset_time_deltas')"
   ]
  },
  {
   "cell_type": "code",
   "execution_count": 31,
   "metadata": {},
   "outputs": [],
   "source": [
    "plt.rcParams.update({'font.size': 10})"
   ]
  },
  {
   "cell_type": "code",
   "execution_count": 32,
   "metadata": {},
   "outputs": [],
   "source": [
    "all_time_deltas['time_delta'] = all_time_deltas.time_delta * 1000"
   ]
  },
  {
   "cell_type": "code",
   "execution_count": 33,
   "metadata": {},
   "outputs": [
    {
     "data": {
      "image/png": "[encoded data removed]",
      "text/plain": [
       "<Figure size 700x400 with 1 Axes>"
      ]
     },
     "metadata": {},
     "output_type": "display_data"
    }
   ],
   "source": [
    "plt.figure(figsize = (7, 4))\n",
    "sns.kdeplot(data = all_time_deltas.reset_index(), x = 'time_delta', hue = 'Segmentation Method', common_norm = False, fill = True, \n",
    "            palette= sns.color_palette()[-3:], legend = True)\n",
    "plt.axvline(x = 0, color = 'black', linestyle = '--')\n",
    "plt.xlim(-15, 15)\n",
    "plt.xlabel(\"Time Difference (ms)\")\n",
    "plt.title(\"Syllable Onset Time Differences \\nBetween Manual and Automatic Segmentations\");\n",
    "sns.despine()"
   ]
  },
  {
   "cell_type": "code",
   "execution_count": 50,
   "metadata": {},
   "outputs": [
    {
     "data": {
      "image/png": "[encoded data removed]",
      "text/plain": [
       "<Figure size 800x150 with 1 Axes>"
      ]
     },
     "metadata": {},
     "output_type": "display_data"
    }
   ],
   "source": [
    "plt.figure(figsize = (8, 1.5))\n",
    "ax = sns.kdeplot(data = all_time_deltas.reset_index(), x = 'time_delta', hue = 'Segmentation Method', common_norm = False, fill = True, \n",
    "            palette= sns.color_palette()[-3:], legend = False)\n",
    "plt.axvline(x = 0, color = 'black', linestyle = '--')\n",
    "plt.xlim(-15, 15)\n",
    "plt.xlabel(\"Time Difference (ms)\")\n",
    "plt.title(\"Rockefeller Colony\");\n",
    "#sns.move_legend(ax, loc = 'upper left', bbox_to_anchor = (0.64, 1))\n",
    "sns.despine()\n",
    "plt.savefig('rock_onset_time_delta.svg', transparent = True)"
   ]
  },
  {
   "cell_type": "code",
   "execution_count": 54,
   "metadata": {},
   "outputs": [],
   "source": [
    "all_time_deltas['abs_delta'] = np.abs(all_time_deltas.time_delta)"
   ]
  },
  {
   "cell_type": "code",
   "execution_count": 71,
   "metadata": {},
   "outputs": [
    {
     "name": "stderr",
     "output_type": "stream",
     "text": [
      "C:\\Users\\tkoch\\AppData\\Local\\Temp\\ipykernel_2576\\3226881426.py:1: FutureWarning: The default value of numeric_only in DataFrameGroupBy.mean is deprecated. In a future version, numeric_only will default to False. Either specify numeric_only or select only columns which should be valid for the function.\n",
      "  all_time_deltas.groupby('Segmentation Method').mean()\n"
     ]
    },
    {
     "data": {
      "text/html": [
       "<div>\n",
       "<style scoped>\n",
       "    .dataframe tbody tr th:only-of-type {\n",
       "        vertical-align: middle;\n",
       "    }\n",
       "\n",
       "    .dataframe tbody tr th {\n",
       "        vertical-align: top;\n",
       "    }\n",
       "\n",
       "    .dataframe thead th {\n",
       "        text-align: right;\n",
       "    }\n",
       "</style>\n",
       "<table border=\"1\" class=\"dataframe\">\n",
       "  <thead>\n",
       "    <tr style=\"text-align: right;\">\n",
       "      <th></th>\n",
       "      <th>True_feat_times</th>\n",
       "      <th>index_of_match</th>\n",
       "      <th>seg_matched_times</th>\n",
       "      <th>time_delta</th>\n",
       "      <th>abs_delta</th>\n",
       "    </tr>\n",
       "    <tr>\n",
       "      <th>Segmentation Method</th>\n",
       "      <th></th>\n",
       "      <th></th>\n",
       "      <th></th>\n",
       "      <th></th>\n",
       "      <th></th>\n",
       "    </tr>\n",
       "  </thead>\n",
       "  <tbody>\n",
       "    <tr>\n",
       "      <th>Amplitude Threshold</th>\n",
       "      <td>6.024826</td>\n",
       "      <td>24.704183</td>\n",
       "      <td>5.881290</td>\n",
       "      <td>-2.341423</td>\n",
       "      <td>4.522439</td>\n",
       "    </tr>\n",
       "    <tr>\n",
       "      <th>TweetyNet</th>\n",
       "      <td>6.024826</td>\n",
       "      <td>22.489417</td>\n",
       "      <td>6.024121</td>\n",
       "      <td>1.254613</td>\n",
       "      <td>2.576293</td>\n",
       "    </tr>\n",
       "    <tr>\n",
       "      <th>WhisperSeg</th>\n",
       "      <td>6.024826</td>\n",
       "      <td>19.017201</td>\n",
       "      <td>5.956534</td>\n",
       "      <td>-0.475807</td>\n",
       "      <td>2.369789</td>\n",
       "    </tr>\n",
       "  </tbody>\n",
       "</table>\n",
       "</div>"
      ],
      "text/plain": [
       "                     True_feat_times  index_of_match  seg_matched_times  \\\n",
       "Segmentation Method                                                       \n",
       "Amplitude Threshold         6.024826       24.704183           5.881290   \n",
       "TweetyNet                   6.024826       22.489417           6.024121   \n",
       "WhisperSeg                  6.024826       19.017201           5.956534   \n",
       "\n",
       "                     time_delta  abs_delta  \n",
       "Segmentation Method                         \n",
       "Amplitude Threshold   -2.341423   4.522439  \n",
       "TweetyNet              1.254613   2.576293  \n",
       "WhisperSeg            -0.475807   2.369789  "
      ]
     },
     "execution_count": 71,
     "metadata": {},
     "output_type": "execute_result"
    }
   ],
   "source": [
    "all_time_deltas.groupby('Segmentation Method').mean()"
   ]
  },
  {
   "cell_type": "code",
   "execution_count": 72,
   "metadata": {},
   "outputs": [
    {
     "name": "stdout",
     "output_type": "stream",
     "text": [
      "0.01885852617668956\n",
      "0.019937500083995665\n",
      "0.03537114799432746\n"
     ]
    }
   ],
   "source": [
    "from scipy.stats import sem\n",
    "print(sem(all_time_deltas[all_time_deltas['Segmentation Method'] == 'WhisperSeg'].abs_delta, nan_policy= 'omit'))\n",
    "print(sem(all_time_deltas[all_time_deltas['Segmentation Method'] == 'TweetyNet'].abs_delta, nan_policy= 'omit'))\n",
    "print(sem(all_time_deltas[all_time_deltas['Segmentation Method'] == 'Amplitude Threshold'].abs_delta, nan_policy= 'omit'))"
   ]
  },
  {
   "cell_type": "markdown",
   "metadata": {},
   "source": [
    "# Offset Time Deltas"
   ]
  },
  {
   "cell_type": "code",
   "execution_count": 6,
   "metadata": {},
   "outputs": [],
   "source": [
    "def get_match_times(truth_matches, seg_current_file):\n",
    "\n",
    "    #initialize empty 1D array to contain timestamps\n",
    "    matched_times = np.zeros_like(truth_matches)\n",
    "\n",
    "    #loop through each match and add timestamp to matched_times\n",
    "    for i, match_idx in enumerate(truth_matches):\n",
    "        #if the match_idx is nan, that means the true syll had no match, so record nan as timestamp\n",
    "        if np.isnan(match_idx):\n",
    "            matched_times[i] = np.nan\n",
    "        else: \n",
    "            matched_times[i] = seg_current_file.offsets.iloc[int(match_idx)]\n",
    "\n",
    "    return matched_times"
   ]
  },
  {
   "cell_type": "code",
   "execution_count": 7,
   "metadata": {},
   "outputs": [],
   "source": [
    "def get_time_delta_df(seg_data, max_gap = 0.05, feature = 'onsets'):\n",
    "    #initialize dataframe to contain matched timestamps for all files\n",
    "    all_matched_times = pd.DataFrame()\n",
    "\n",
    "    #loop over each individual file\n",
    "    for current_file in np.unique(seg_data.seg_table['files']):\n",
    "        #Make copy of ground truth segmentation table\n",
    "        truth_seg_table = seg_data.true_seg_table\n",
    "\n",
    "        #filter the seg_tables so that they contain only syllables from the \n",
    "        #current file. \n",
    "        seg_current_file = seg_data.seg_table[seg_data.seg_table['files'] == current_file]\n",
    "        truth_current_file = truth_seg_table[truth_seg_table['files'] == current_file]\n",
    "\n",
    "        #get best matches of segmenter to truth onsets/offsets\n",
    "        truth_matches = segmentation.Metrics._Metrics__get_best_matches(truth_current_file[feature], \n",
    "                                            seg_current_file[feature], max_gap)\n",
    "\n",
    "        #create dataframe with matches and timestamps\n",
    "        true_seg_matches_df = pd.DataFrame({'True_feat_times' : truth_current_file[feature], \n",
    "                                            'index_of_match' : truth_matches})\n",
    "\n",
    "        #get timestamps of segmenter matches to truth\n",
    "        matched_times = get_match_times(truth_matches, seg_current_file)\n",
    "\n",
    "        #add matched timestamps to df of matches\n",
    "        true_seg_matches_df['seg_matched_times'] = matched_times\n",
    "\n",
    "        #add file name to df\n",
    "        true_seg_matches_df['file'] = current_file\n",
    "\n",
    "        #append df for current file to df with all files\n",
    "        all_matched_times = pd.concat([all_matched_times, true_seg_matches_df])\n",
    "\n",
    "    return all_matched_times"
   ]
  },
  {
   "cell_type": "code",
   "execution_count": 8,
   "metadata": {},
   "outputs": [],
   "source": [
    "def get_time_deltas_many_birds(segmenter, Bird_IDs, folder_path, upper_threshold, lower_threshold, truth_table_suffix = \"_syll_table.csv\", \n",
    "                               max_gap = 0.05, feature = 'onsets'):\n",
    "\n",
    "    #initialize empty dataframe to append to\n",
    "    all_time_deltas_df = pd.DataFrame()\n",
    "\n",
    "    #loop through each bird\n",
    "    for Bird_ID in Bird_IDs: \n",
    "        #construct full path to folder containing song files\n",
    "        song_folder = folder_path + Bird_ID + \"/\"\n",
    "\n",
    "        #make segmentations\n",
    "        seg_data = segmenter.make_segmentation_table(Bird_ID, song_folder,\n",
    "                                                     upper_threshold = upper_threshold, \n",
    "                                                     lower_threshold = lower_threshold)\n",
    "\n",
    "        #load ground truth segmentations from memory\n",
    "        seg_data = dataloading.Utils.add_ev_song_truth_table(seg_data, song_folder + Bird_ID + truth_table_suffix)\n",
    "\n",
    "        #get time delta table for current bird\n",
    "        curr_time_delta_df = get_time_delta_df(seg_data, max_gap = max_gap, feature = feature)\n",
    "        #add Bird_ID to current df\n",
    "        curr_time_delta_df['Bird_ID'] = Bird_ID\n",
    "        #append to df with all birds\n",
    "        all_time_deltas_df = pd.concat([all_time_deltas_df, curr_time_delta_df])\n",
    "\n",
    "    #add column with time deltas\n",
    "    all_time_deltas_df['time_delta'] = all_time_deltas_df.True_feat_times - all_time_deltas_df.seg_matched_times\n",
    "\n",
    "    return all_time_deltas_df"
   ]
  },
  {
   "cell_type": "markdown",
   "metadata": {},
   "source": [
    "## Get Time Deltas "
   ]
  },
  {
   "cell_type": "code",
   "execution_count": 9,
   "metadata": {},
   "outputs": [
    {
     "data": {
      "text/plain": [
       "0      LIME18\n",
       "1       BRN20\n",
       "2      Lime19\n",
       "3       Lime7\n",
       "4       LIME3\n",
       "5        DB17\n",
       "6        DB21\n",
       "7        DB24\n",
       "8       GRY30\n",
       "9       BRN28\n",
       "10     Lime29\n",
       "11       AQ33\n",
       "12       AQ30\n",
       "13     LIME30\n",
       "14       AQ32\n",
       "15       AQ31\n",
       "16     Ag51HP\n",
       "17       LP16\n",
       "18       GR27\n",
       "19       LP19\n",
       "20      GRY49\n",
       "21      GRY28\n",
       "22      GRY34\n",
       "23    GRY37HP\n",
       "24     GRY112\n",
       "Name: Pupil_ID, dtype: object"
      ]
     },
     "execution_count": 9,
     "metadata": {},
     "output_type": "execute_result"
    }
   ],
   "source": [
    "pairs_df = pd.read_csv(\"C:/Grad_School/Code_and_software/Py_code/Rockefeller_validation/rockefeller_group1_pairs_df.csv\")\n",
    "All_Birds = pairs_df.Pupil_ID\n",
    "All_Birds"
   ]
  },
  {
   "cell_type": "markdown",
   "metadata": {},
   "source": [
    "### RMSE"
   ]
  },
  {
   "cell_type": "code",
   "execution_count": 12,
   "metadata": {},
   "outputs": [],
   "source": [
    "song_folder = song_folder = 'E:/Rockefeller_Song_Dataset/Pupils_labeled_subsets/'\n",
    "segmenter = segmentation.RMSEDerivative()"
   ]
  },
  {
   "cell_type": "code",
   "execution_count": 13,
   "metadata": {},
   "outputs": [
    {
     "name": "stderr",
     "output_type": "stream",
     "text": [
      "c:\\Users\\tkoch\\anaconda3\\envs\\avn_021_py38\\lib\\site-packages\\avn\\dataloading.py:151: FutureWarning: In a future version of pandas all arguments of StringMethods.split except for the argument 'pat' will be keyword-only.\n",
      "  true_seg_table['files'] = true_seg_table['files'].str.split('.not', 1).str[0]\n",
      "c:\\Users\\tkoch\\anaconda3\\envs\\avn_021_py38\\lib\\site-packages\\avn\\dataloading.py:151: FutureWarning: In a future version of pandas all arguments of StringMethods.split except for the argument 'pat' will be keyword-only.\n",
      "  true_seg_table['files'] = true_seg_table['files'].str.split('.not', 1).str[0]\n",
      "c:\\Users\\tkoch\\anaconda3\\envs\\avn_021_py38\\lib\\site-packages\\avn\\dataloading.py:151: FutureWarning: In a future version of pandas all arguments of StringMethods.split except for the argument 'pat' will be keyword-only.\n",
      "  true_seg_table['files'] = true_seg_table['files'].str.split('.not', 1).str[0]\n",
      "c:\\Users\\tkoch\\anaconda3\\envs\\avn_021_py38\\lib\\site-packages\\avn\\dataloading.py:151: FutureWarning: In a future version of pandas all arguments of StringMethods.split except for the argument 'pat' will be keyword-only.\n",
      "  true_seg_table['files'] = true_seg_table['files'].str.split('.not', 1).str[0]\n",
      "c:\\Users\\tkoch\\anaconda3\\envs\\avn_021_py38\\lib\\site-packages\\avn\\dataloading.py:151: FutureWarning: In a future version of pandas all arguments of StringMethods.split except for the argument 'pat' will be keyword-only.\n",
      "  true_seg_table['files'] = true_seg_table['files'].str.split('.not', 1).str[0]\n",
      "c:\\Users\\tkoch\\anaconda3\\envs\\avn_021_py38\\lib\\site-packages\\avn\\dataloading.py:151: FutureWarning: In a future version of pandas all arguments of StringMethods.split except for the argument 'pat' will be keyword-only.\n",
      "  true_seg_table['files'] = true_seg_table['files'].str.split('.not', 1).str[0]\n",
      "c:\\Users\\tkoch\\anaconda3\\envs\\avn_021_py38\\lib\\site-packages\\avn\\dataloading.py:151: FutureWarning: In a future version of pandas all arguments of StringMethods.split except for the argument 'pat' will be keyword-only.\n",
      "  true_seg_table['files'] = true_seg_table['files'].str.split('.not', 1).str[0]\n",
      "c:\\Users\\tkoch\\anaconda3\\envs\\avn_021_py38\\lib\\site-packages\\avn\\dataloading.py:151: FutureWarning: In a future version of pandas all arguments of StringMethods.split except for the argument 'pat' will be keyword-only.\n",
      "  true_seg_table['files'] = true_seg_table['files'].str.split('.not', 1).str[0]\n",
      "c:\\Users\\tkoch\\anaconda3\\envs\\avn_021_py38\\lib\\site-packages\\avn\\dataloading.py:151: FutureWarning: In a future version of pandas all arguments of StringMethods.split except for the argument 'pat' will be keyword-only.\n",
      "  true_seg_table['files'] = true_seg_table['files'].str.split('.not', 1).str[0]\n",
      "c:\\Users\\tkoch\\anaconda3\\envs\\avn_021_py38\\lib\\site-packages\\avn\\dataloading.py:151: FutureWarning: In a future version of pandas all arguments of StringMethods.split except for the argument 'pat' will be keyword-only.\n",
      "  true_seg_table['files'] = true_seg_table['files'].str.split('.not', 1).str[0]\n",
      "c:\\Users\\tkoch\\anaconda3\\envs\\avn_021_py38\\lib\\site-packages\\avn\\dataloading.py:151: FutureWarning: In a future version of pandas all arguments of StringMethods.split except for the argument 'pat' will be keyword-only.\n",
      "  true_seg_table['files'] = true_seg_table['files'].str.split('.not', 1).str[0]\n",
      "c:\\Users\\tkoch\\anaconda3\\envs\\avn_021_py38\\lib\\site-packages\\avn\\dataloading.py:151: FutureWarning: In a future version of pandas all arguments of StringMethods.split except for the argument 'pat' will be keyword-only.\n",
      "  true_seg_table['files'] = true_seg_table['files'].str.split('.not', 1).str[0]\n",
      "c:\\Users\\tkoch\\anaconda3\\envs\\avn_021_py38\\lib\\site-packages\\avn\\dataloading.py:151: FutureWarning: In a future version of pandas all arguments of StringMethods.split except for the argument 'pat' will be keyword-only.\n",
      "  true_seg_table['files'] = true_seg_table['files'].str.split('.not', 1).str[0]\n",
      "c:\\Users\\tkoch\\anaconda3\\envs\\avn_021_py38\\lib\\site-packages\\avn\\dataloading.py:151: FutureWarning: In a future version of pandas all arguments of StringMethods.split except for the argument 'pat' will be keyword-only.\n",
      "  true_seg_table['files'] = true_seg_table['files'].str.split('.not', 1).str[0]\n",
      "c:\\Users\\tkoch\\anaconda3\\envs\\avn_021_py38\\lib\\site-packages\\avn\\dataloading.py:151: FutureWarning: In a future version of pandas all arguments of StringMethods.split except for the argument 'pat' will be keyword-only.\n",
      "  true_seg_table['files'] = true_seg_table['files'].str.split('.not', 1).str[0]\n",
      "c:\\Users\\tkoch\\anaconda3\\envs\\avn_021_py38\\lib\\site-packages\\avn\\dataloading.py:151: FutureWarning: In a future version of pandas all arguments of StringMethods.split except for the argument 'pat' will be keyword-only.\n",
      "  true_seg_table['files'] = true_seg_table['files'].str.split('.not', 1).str[0]\n",
      "c:\\Users\\tkoch\\anaconda3\\envs\\avn_021_py38\\lib\\site-packages\\avn\\dataloading.py:151: FutureWarning: In a future version of pandas all arguments of StringMethods.split except for the argument 'pat' will be keyword-only.\n",
      "  true_seg_table['files'] = true_seg_table['files'].str.split('.not', 1).str[0]\n",
      "c:\\Users\\tkoch\\anaconda3\\envs\\avn_021_py38\\lib\\site-packages\\avn\\dataloading.py:151: FutureWarning: In a future version of pandas all arguments of StringMethods.split except for the argument 'pat' will be keyword-only.\n",
      "  true_seg_table['files'] = true_seg_table['files'].str.split('.not', 1).str[0]\n",
      "c:\\Users\\tkoch\\anaconda3\\envs\\avn_021_py38\\lib\\site-packages\\avn\\dataloading.py:151: FutureWarning: In a future version of pandas all arguments of StringMethods.split except for the argument 'pat' will be keyword-only.\n",
      "  true_seg_table['files'] = true_seg_table['files'].str.split('.not', 1).str[0]\n",
      "c:\\Users\\tkoch\\anaconda3\\envs\\avn_021_py38\\lib\\site-packages\\avn\\dataloading.py:151: FutureWarning: In a future version of pandas all arguments of StringMethods.split except for the argument 'pat' will be keyword-only.\n",
      "  true_seg_table['files'] = true_seg_table['files'].str.split('.not', 1).str[0]\n",
      "c:\\Users\\tkoch\\anaconda3\\envs\\avn_021_py38\\lib\\site-packages\\avn\\dataloading.py:151: FutureWarning: In a future version of pandas all arguments of StringMethods.split except for the argument 'pat' will be keyword-only.\n",
      "  true_seg_table['files'] = true_seg_table['files'].str.split('.not', 1).str[0]\n",
      "c:\\Users\\tkoch\\anaconda3\\envs\\avn_021_py38\\lib\\site-packages\\avn\\dataloading.py:151: FutureWarning: In a future version of pandas all arguments of StringMethods.split except for the argument 'pat' will be keyword-only.\n",
      "  true_seg_table['files'] = true_seg_table['files'].str.split('.not', 1).str[0]\n",
      "c:\\Users\\tkoch\\anaconda3\\envs\\avn_021_py38\\lib\\site-packages\\avn\\dataloading.py:151: FutureWarning: In a future version of pandas all arguments of StringMethods.split except for the argument 'pat' will be keyword-only.\n",
      "  true_seg_table['files'] = true_seg_table['files'].str.split('.not', 1).str[0]\n",
      "c:\\Users\\tkoch\\anaconda3\\envs\\avn_021_py38\\lib\\site-packages\\avn\\dataloading.py:151: FutureWarning: In a future version of pandas all arguments of StringMethods.split except for the argument 'pat' will be keyword-only.\n",
      "  true_seg_table['files'] = true_seg_table['files'].str.split('.not', 1).str[0]\n",
      "c:\\Users\\tkoch\\anaconda3\\envs\\avn_021_py38\\lib\\site-packages\\avn\\dataloading.py:151: FutureWarning: In a future version of pandas all arguments of StringMethods.split except for the argument 'pat' will be keyword-only.\n",
      "  true_seg_table['files'] = true_seg_table['files'].str.split('.not', 1).str[0]\n"
     ]
    }
   ],
   "source": [
    "all_time_deltas_RMSE = get_time_deltas_many_birds(segmenter, All_Birds, song_folder, \n",
    "                                                upper_threshold = 0.006, lower_threshold= -0.1, max_gap = 0.05, feature = 'offsets')"
   ]
  },
  {
   "cell_type": "markdown",
   "metadata": {},
   "source": [
    "### TweetyNet"
   ]
  },
  {
   "cell_type": "code",
   "execution_count": 14,
   "metadata": {},
   "outputs": [],
   "source": [
    "def vak_to_syll_table(prediction_results):\n",
    "  prediction_syllables = prediction_results[prediction_results['label'] == \"s\"]\n",
    "  prediction_syll_reformat = pd.DataFrame()\n",
    "  prediction_syll_reformat[\"files\"] = prediction_syllables['audio_path']\n",
    "  prediction_syll_reformat['onsets'] = prediction_syllables['onset_s']\n",
    "  prediction_syll_reformat['offsets'] = prediction_syllables['offset_s']\n",
    "\n",
    "  return prediction_syll_reformat"
   ]
  },
  {
   "cell_type": "code",
   "execution_count": 16,
   "metadata": {},
   "outputs": [
    {
     "name": "stderr",
     "output_type": "stream",
     "text": [
      "c:\\Users\\tkoch\\anaconda3\\envs\\avn_021_py38\\lib\\site-packages\\avn\\dataloading.py:151: FutureWarning: In a future version of pandas all arguments of StringMethods.split except for the argument 'pat' will be keyword-only.\n",
      "  true_seg_table['files'] = true_seg_table['files'].str.split('.not', 1).str[0]\n",
      "c:\\Users\\tkoch\\anaconda3\\envs\\avn_021_py38\\lib\\site-packages\\avn\\dataloading.py:151: FutureWarning: In a future version of pandas all arguments of StringMethods.split except for the argument 'pat' will be keyword-only.\n",
      "  true_seg_table['files'] = true_seg_table['files'].str.split('.not', 1).str[0]\n",
      "c:\\Users\\tkoch\\anaconda3\\envs\\avn_021_py38\\lib\\site-packages\\avn\\dataloading.py:151: FutureWarning: In a future version of pandas all arguments of StringMethods.split except for the argument 'pat' will be keyword-only.\n",
      "  true_seg_table['files'] = true_seg_table['files'].str.split('.not', 1).str[0]\n",
      "c:\\Users\\tkoch\\anaconda3\\envs\\avn_021_py38\\lib\\site-packages\\avn\\dataloading.py:151: FutureWarning: In a future version of pandas all arguments of StringMethods.split except for the argument 'pat' will be keyword-only.\n",
      "  true_seg_table['files'] = true_seg_table['files'].str.split('.not', 1).str[0]\n",
      "c:\\Users\\tkoch\\anaconda3\\envs\\avn_021_py38\\lib\\site-packages\\avn\\dataloading.py:151: FutureWarning: In a future version of pandas all arguments of StringMethods.split except for the argument 'pat' will be keyword-only.\n",
      "  true_seg_table['files'] = true_seg_table['files'].str.split('.not', 1).str[0]\n",
      "c:\\Users\\tkoch\\anaconda3\\envs\\avn_021_py38\\lib\\site-packages\\avn\\dataloading.py:151: FutureWarning: In a future version of pandas all arguments of StringMethods.split except for the argument 'pat' will be keyword-only.\n",
      "  true_seg_table['files'] = true_seg_table['files'].str.split('.not', 1).str[0]\n",
      "c:\\Users\\tkoch\\anaconda3\\envs\\avn_021_py38\\lib\\site-packages\\avn\\dataloading.py:151: FutureWarning: In a future version of pandas all arguments of StringMethods.split except for the argument 'pat' will be keyword-only.\n",
      "  true_seg_table['files'] = true_seg_table['files'].str.split('.not', 1).str[0]\n",
      "c:\\Users\\tkoch\\anaconda3\\envs\\avn_021_py38\\lib\\site-packages\\avn\\dataloading.py:151: FutureWarning: In a future version of pandas all arguments of StringMethods.split except for the argument 'pat' will be keyword-only.\n",
      "  true_seg_table['files'] = true_seg_table['files'].str.split('.not', 1).str[0]\n",
      "c:\\Users\\tkoch\\anaconda3\\envs\\avn_021_py38\\lib\\site-packages\\avn\\dataloading.py:151: FutureWarning: In a future version of pandas all arguments of StringMethods.split except for the argument 'pat' will be keyword-only.\n",
      "  true_seg_table['files'] = true_seg_table['files'].str.split('.not', 1).str[0]\n",
      "c:\\Users\\tkoch\\anaconda3\\envs\\avn_021_py38\\lib\\site-packages\\avn\\dataloading.py:151: FutureWarning: In a future version of pandas all arguments of StringMethods.split except for the argument 'pat' will be keyword-only.\n",
      "  true_seg_table['files'] = true_seg_table['files'].str.split('.not', 1).str[0]\n",
      "c:\\Users\\tkoch\\anaconda3\\envs\\avn_021_py38\\lib\\site-packages\\avn\\dataloading.py:151: FutureWarning: In a future version of pandas all arguments of StringMethods.split except for the argument 'pat' will be keyword-only.\n",
      "  true_seg_table['files'] = true_seg_table['files'].str.split('.not', 1).str[0]\n",
      "c:\\Users\\tkoch\\anaconda3\\envs\\avn_021_py38\\lib\\site-packages\\avn\\dataloading.py:151: FutureWarning: In a future version of pandas all arguments of StringMethods.split except for the argument 'pat' will be keyword-only.\n",
      "  true_seg_table['files'] = true_seg_table['files'].str.split('.not', 1).str[0]\n",
      "c:\\Users\\tkoch\\anaconda3\\envs\\avn_021_py38\\lib\\site-packages\\avn\\dataloading.py:151: FutureWarning: In a future version of pandas all arguments of StringMethods.split except for the argument 'pat' will be keyword-only.\n",
      "  true_seg_table['files'] = true_seg_table['files'].str.split('.not', 1).str[0]\n",
      "c:\\Users\\tkoch\\anaconda3\\envs\\avn_021_py38\\lib\\site-packages\\avn\\dataloading.py:151: FutureWarning: In a future version of pandas all arguments of StringMethods.split except for the argument 'pat' will be keyword-only.\n",
      "  true_seg_table['files'] = true_seg_table['files'].str.split('.not', 1).str[0]\n",
      "c:\\Users\\tkoch\\anaconda3\\envs\\avn_021_py38\\lib\\site-packages\\avn\\dataloading.py:151: FutureWarning: In a future version of pandas all arguments of StringMethods.split except for the argument 'pat' will be keyword-only.\n",
      "  true_seg_table['files'] = true_seg_table['files'].str.split('.not', 1).str[0]\n",
      "c:\\Users\\tkoch\\anaconda3\\envs\\avn_021_py38\\lib\\site-packages\\avn\\dataloading.py:151: FutureWarning: In a future version of pandas all arguments of StringMethods.split except for the argument 'pat' will be keyword-only.\n",
      "  true_seg_table['files'] = true_seg_table['files'].str.split('.not', 1).str[0]\n",
      "c:\\Users\\tkoch\\anaconda3\\envs\\avn_021_py38\\lib\\site-packages\\avn\\dataloading.py:151: FutureWarning: In a future version of pandas all arguments of StringMethods.split except for the argument 'pat' will be keyword-only.\n",
      "  true_seg_table['files'] = true_seg_table['files'].str.split('.not', 1).str[0]\n",
      "c:\\Users\\tkoch\\anaconda3\\envs\\avn_021_py38\\lib\\site-packages\\avn\\dataloading.py:151: FutureWarning: In a future version of pandas all arguments of StringMethods.split except for the argument 'pat' will be keyword-only.\n",
      "  true_seg_table['files'] = true_seg_table['files'].str.split('.not', 1).str[0]\n",
      "c:\\Users\\tkoch\\anaconda3\\envs\\avn_021_py38\\lib\\site-packages\\avn\\dataloading.py:151: FutureWarning: In a future version of pandas all arguments of StringMethods.split except for the argument 'pat' will be keyword-only.\n",
      "  true_seg_table['files'] = true_seg_table['files'].str.split('.not', 1).str[0]\n",
      "c:\\Users\\tkoch\\anaconda3\\envs\\avn_021_py38\\lib\\site-packages\\avn\\dataloading.py:151: FutureWarning: In a future version of pandas all arguments of StringMethods.split except for the argument 'pat' will be keyword-only.\n",
      "  true_seg_table['files'] = true_seg_table['files'].str.split('.not', 1).str[0]\n",
      "c:\\Users\\tkoch\\anaconda3\\envs\\avn_021_py38\\lib\\site-packages\\avn\\dataloading.py:151: FutureWarning: In a future version of pandas all arguments of StringMethods.split except for the argument 'pat' will be keyword-only.\n",
      "  true_seg_table['files'] = true_seg_table['files'].str.split('.not', 1).str[0]\n",
      "c:\\Users\\tkoch\\anaconda3\\envs\\avn_021_py38\\lib\\site-packages\\avn\\dataloading.py:151: FutureWarning: In a future version of pandas all arguments of StringMethods.split except for the argument 'pat' will be keyword-only.\n",
      "  true_seg_table['files'] = true_seg_table['files'].str.split('.not', 1).str[0]\n",
      "c:\\Users\\tkoch\\anaconda3\\envs\\avn_021_py38\\lib\\site-packages\\avn\\dataloading.py:151: FutureWarning: In a future version of pandas all arguments of StringMethods.split except for the argument 'pat' will be keyword-only.\n",
      "  true_seg_table['files'] = true_seg_table['files'].str.split('.not', 1).str[0]\n",
      "c:\\Users\\tkoch\\anaconda3\\envs\\avn_021_py38\\lib\\site-packages\\avn\\dataloading.py:151: FutureWarning: In a future version of pandas all arguments of StringMethods.split except for the argument 'pat' will be keyword-only.\n",
      "  true_seg_table['files'] = true_seg_table['files'].str.split('.not', 1).str[0]\n",
      "c:\\Users\\tkoch\\anaconda3\\envs\\avn_021_py38\\lib\\site-packages\\avn\\dataloading.py:151: FutureWarning: In a future version of pandas all arguments of StringMethods.split except for the argument 'pat' will be keyword-only.\n",
      "  true_seg_table['files'] = true_seg_table['files'].str.split('.not', 1).str[0]\n"
     ]
    }
   ],
   "source": [
    "#initialize df with all birds' time deltas. \n",
    "all_time_deltas_Tweety = pd.DataFrame()\n",
    "\n",
    "for Bird_ID in All_Birds: \n",
    "\n",
    "    #load tweetynet segmentation table\n",
    "    predictions_path =  \"E:/Rockefeller_Song_Dataset/tweety_segmentations_pupils/\" + Bird_ID + \".annot.csv\"\n",
    "    predictions_vak = pd.read_csv(predictions_path)\n",
    "    predictions_reformat = vak_to_syll_table(predictions_vak)\n",
    "\n",
    "    #load ground truth\n",
    "    song_folder = 'E:/Rockefeller_Song_Dataset/Pupils_labeled_subsets/' + Bird_ID + \"/\"\n",
    "    ground_truth_path = song_folder + Bird_ID + \"_syll_table.csv\"\n",
    "\n",
    "    #make SegData Object\n",
    "    seg_data = segmentation.SegData(Bird_ID, predictions_reformat)\n",
    "    seg_data = dataloading.Utils.add_ev_song_truth_table(seg_data, ground_truth_path)\n",
    "\n",
    "    #calculate time deltas\n",
    "    curr_bird_time_delta = get_time_delta_df(seg_data, max_gap = 0.05, feature = 'offsets')\n",
    "    #append to df with all birds\n",
    "    curr_bird_time_delta['Bird_ID'] = Bird_ID\n",
    "    all_time_deltas_Tweety = pd.concat([all_time_deltas_Tweety, curr_bird_time_delta])\n",
    "\n",
    "#add time delta column \n",
    "all_time_deltas_Tweety['time_delta'] = all_time_deltas_Tweety.True_feat_times - all_time_deltas_Tweety.seg_matched_times"
   ]
  },
  {
   "cell_type": "markdown",
   "metadata": {},
   "source": [
    "### Wseg"
   ]
  },
  {
   "cell_type": "code",
   "execution_count": 17,
   "metadata": {},
   "outputs": [],
   "source": [
    "def get_time_delta_df(seg_data, max_gap = 0.01, feature = 'onsets'):\n",
    "    #initialize dataframe to contain matched timestamps for all files\n",
    "    all_matched_times = pd.DataFrame()\n",
    "\n",
    "    #loop over each individual file\n",
    "    for current_file in np.unique(seg_data.seg_table['files']):\n",
    "        #Make copy of ground truth segmentation table\n",
    "        truth_seg_table = seg_data.true_seg_table\n",
    "\n",
    "        #filter the seg_tables so that they contain only syllables from the \n",
    "        #current file. \n",
    "        seg_current_file = seg_data.seg_table[seg_data.seg_table['files'] == current_file]\n",
    "        truth_current_file = truth_seg_table[truth_seg_table['files'] == current_file]\n",
    "\n",
    "        #get best matches of segmenter to truth onsets/offsets\n",
    "        truth_matches = segmentation.Metrics._Metrics__get_best_matches(truth_current_file[feature], \n",
    "                                            seg_current_file[feature], max_gap)\n",
    "\n",
    "        #create dataframe with matches and timestamps\n",
    "        true_seg_matches_df = pd.DataFrame({'True_feat_times' : truth_current_file[feature], \n",
    "                                            'index_of_match' : truth_matches})\n",
    "\n",
    "        #get timestamps of segmenter matches to truth\n",
    "        matched_times = get_match_times(truth_matches, seg_current_file)\n",
    "\n",
    "        #add matched timestamps to df of matches\n",
    "        true_seg_matches_df['seg_matched_times'] = matched_times\n",
    "\n",
    "        #add file name to df\n",
    "        true_seg_matches_df['file'] = current_file\n",
    "\n",
    "        #append df for current file to df with all files\n",
    "        all_matched_times = pd.concat([all_matched_times, true_seg_matches_df])\n",
    "\n",
    "    return all_matched_times"
   ]
  },
  {
   "cell_type": "code",
   "execution_count": 18,
   "metadata": {},
   "outputs": [
    {
     "name": "stderr",
     "output_type": "stream",
     "text": [
      "c:\\Users\\tkoch\\anaconda3\\envs\\avn_021_py38\\lib\\site-packages\\avn\\dataloading.py:151: FutureWarning: In a future version of pandas all arguments of StringMethods.split except for the argument 'pat' will be keyword-only.\n",
      "  true_seg_table['files'] = true_seg_table['files'].str.split('.not', 1).str[0]\n",
      "c:\\Users\\tkoch\\anaconda3\\envs\\avn_021_py38\\lib\\site-packages\\avn\\dataloading.py:151: FutureWarning: In a future version of pandas all arguments of StringMethods.split except for the argument 'pat' will be keyword-only.\n",
      "  true_seg_table['files'] = true_seg_table['files'].str.split('.not', 1).str[0]\n",
      "c:\\Users\\tkoch\\anaconda3\\envs\\avn_021_py38\\lib\\site-packages\\avn\\dataloading.py:151: FutureWarning: In a future version of pandas all arguments of StringMethods.split except for the argument 'pat' will be keyword-only.\n",
      "  true_seg_table['files'] = true_seg_table['files'].str.split('.not', 1).str[0]\n",
      "c:\\Users\\tkoch\\anaconda3\\envs\\avn_021_py38\\lib\\site-packages\\avn\\dataloading.py:151: FutureWarning: In a future version of pandas all arguments of StringMethods.split except for the argument 'pat' will be keyword-only.\n",
      "  true_seg_table['files'] = true_seg_table['files'].str.split('.not', 1).str[0]\n",
      "c:\\Users\\tkoch\\anaconda3\\envs\\avn_021_py38\\lib\\site-packages\\avn\\dataloading.py:151: FutureWarning: In a future version of pandas all arguments of StringMethods.split except for the argument 'pat' will be keyword-only.\n",
      "  true_seg_table['files'] = true_seg_table['files'].str.split('.not', 1).str[0]\n",
      "c:\\Users\\tkoch\\anaconda3\\envs\\avn_021_py38\\lib\\site-packages\\avn\\dataloading.py:151: FutureWarning: In a future version of pandas all arguments of StringMethods.split except for the argument 'pat' will be keyword-only.\n",
      "  true_seg_table['files'] = true_seg_table['files'].str.split('.not', 1).str[0]\n",
      "c:\\Users\\tkoch\\anaconda3\\envs\\avn_021_py38\\lib\\site-packages\\avn\\dataloading.py:151: FutureWarning: In a future version of pandas all arguments of StringMethods.split except for the argument 'pat' will be keyword-only.\n",
      "  true_seg_table['files'] = true_seg_table['files'].str.split('.not', 1).str[0]\n",
      "c:\\Users\\tkoch\\anaconda3\\envs\\avn_021_py38\\lib\\site-packages\\avn\\dataloading.py:151: FutureWarning: In a future version of pandas all arguments of StringMethods.split except for the argument 'pat' will be keyword-only.\n",
      "  true_seg_table['files'] = true_seg_table['files'].str.split('.not', 1).str[0]\n",
      "c:\\Users\\tkoch\\anaconda3\\envs\\avn_021_py38\\lib\\site-packages\\avn\\dataloading.py:151: FutureWarning: In a future version of pandas all arguments of StringMethods.split except for the argument 'pat' will be keyword-only.\n",
      "  true_seg_table['files'] = true_seg_table['files'].str.split('.not', 1).str[0]\n",
      "c:\\Users\\tkoch\\anaconda3\\envs\\avn_021_py38\\lib\\site-packages\\avn\\dataloading.py:151: FutureWarning: In a future version of pandas all arguments of StringMethods.split except for the argument 'pat' will be keyword-only.\n",
      "  true_seg_table['files'] = true_seg_table['files'].str.split('.not', 1).str[0]\n",
      "c:\\Users\\tkoch\\anaconda3\\envs\\avn_021_py38\\lib\\site-packages\\avn\\dataloading.py:151: FutureWarning: In a future version of pandas all arguments of StringMethods.split except for the argument 'pat' will be keyword-only.\n",
      "  true_seg_table['files'] = true_seg_table['files'].str.split('.not', 1).str[0]\n",
      "c:\\Users\\tkoch\\anaconda3\\envs\\avn_021_py38\\lib\\site-packages\\avn\\dataloading.py:151: FutureWarning: In a future version of pandas all arguments of StringMethods.split except for the argument 'pat' will be keyword-only.\n",
      "  true_seg_table['files'] = true_seg_table['files'].str.split('.not', 1).str[0]\n",
      "c:\\Users\\tkoch\\anaconda3\\envs\\avn_021_py38\\lib\\site-packages\\avn\\dataloading.py:151: FutureWarning: In a future version of pandas all arguments of StringMethods.split except for the argument 'pat' will be keyword-only.\n",
      "  true_seg_table['files'] = true_seg_table['files'].str.split('.not', 1).str[0]\n",
      "c:\\Users\\tkoch\\anaconda3\\envs\\avn_021_py38\\lib\\site-packages\\avn\\dataloading.py:151: FutureWarning: In a future version of pandas all arguments of StringMethods.split except for the argument 'pat' will be keyword-only.\n",
      "  true_seg_table['files'] = true_seg_table['files'].str.split('.not', 1).str[0]\n",
      "c:\\Users\\tkoch\\anaconda3\\envs\\avn_021_py38\\lib\\site-packages\\avn\\dataloading.py:151: FutureWarning: In a future version of pandas all arguments of StringMethods.split except for the argument 'pat' will be keyword-only.\n",
      "  true_seg_table['files'] = true_seg_table['files'].str.split('.not', 1).str[0]\n",
      "c:\\Users\\tkoch\\anaconda3\\envs\\avn_021_py38\\lib\\site-packages\\avn\\dataloading.py:151: FutureWarning: In a future version of pandas all arguments of StringMethods.split except for the argument 'pat' will be keyword-only.\n",
      "  true_seg_table['files'] = true_seg_table['files'].str.split('.not', 1).str[0]\n",
      "c:\\Users\\tkoch\\anaconda3\\envs\\avn_021_py38\\lib\\site-packages\\avn\\dataloading.py:151: FutureWarning: In a future version of pandas all arguments of StringMethods.split except for the argument 'pat' will be keyword-only.\n",
      "  true_seg_table['files'] = true_seg_table['files'].str.split('.not', 1).str[0]\n",
      "c:\\Users\\tkoch\\anaconda3\\envs\\avn_021_py38\\lib\\site-packages\\avn\\dataloading.py:151: FutureWarning: In a future version of pandas all arguments of StringMethods.split except for the argument 'pat' will be keyword-only.\n",
      "  true_seg_table['files'] = true_seg_table['files'].str.split('.not', 1).str[0]\n",
      "c:\\Users\\tkoch\\anaconda3\\envs\\avn_021_py38\\lib\\site-packages\\avn\\dataloading.py:151: FutureWarning: In a future version of pandas all arguments of StringMethods.split except for the argument 'pat' will be keyword-only.\n",
      "  true_seg_table['files'] = true_seg_table['files'].str.split('.not', 1).str[0]\n",
      "c:\\Users\\tkoch\\anaconda3\\envs\\avn_021_py38\\lib\\site-packages\\avn\\dataloading.py:151: FutureWarning: In a future version of pandas all arguments of StringMethods.split except for the argument 'pat' will be keyword-only.\n",
      "  true_seg_table['files'] = true_seg_table['files'].str.split('.not', 1).str[0]\n",
      "c:\\Users\\tkoch\\anaconda3\\envs\\avn_021_py38\\lib\\site-packages\\avn\\dataloading.py:151: FutureWarning: In a future version of pandas all arguments of StringMethods.split except for the argument 'pat' will be keyword-only.\n",
      "  true_seg_table['files'] = true_seg_table['files'].str.split('.not', 1).str[0]\n",
      "c:\\Users\\tkoch\\anaconda3\\envs\\avn_021_py38\\lib\\site-packages\\avn\\dataloading.py:151: FutureWarning: In a future version of pandas all arguments of StringMethods.split except for the argument 'pat' will be keyword-only.\n",
      "  true_seg_table['files'] = true_seg_table['files'].str.split('.not', 1).str[0]\n",
      "c:\\Users\\tkoch\\anaconda3\\envs\\avn_021_py38\\lib\\site-packages\\avn\\dataloading.py:151: FutureWarning: In a future version of pandas all arguments of StringMethods.split except for the argument 'pat' will be keyword-only.\n",
      "  true_seg_table['files'] = true_seg_table['files'].str.split('.not', 1).str[0]\n",
      "c:\\Users\\tkoch\\anaconda3\\envs\\avn_021_py38\\lib\\site-packages\\avn\\dataloading.py:151: FutureWarning: In a future version of pandas all arguments of StringMethods.split except for the argument 'pat' will be keyword-only.\n",
      "  true_seg_table['files'] = true_seg_table['files'].str.split('.not', 1).str[0]\n",
      "c:\\Users\\tkoch\\anaconda3\\envs\\avn_021_py38\\lib\\site-packages\\avn\\dataloading.py:151: FutureWarning: In a future version of pandas all arguments of StringMethods.split except for the argument 'pat' will be keyword-only.\n",
      "  true_seg_table['files'] = true_seg_table['files'].str.split('.not', 1).str[0]\n"
     ]
    }
   ],
   "source": [
    "#initialize df with all birds' time deltas. \n",
    "all_time_deltas_wseg = pd.DataFrame()\n",
    "\n",
    "for Bird_ID in All_Birds[:]: \n",
    "\n",
    "    #load tweetynet segmentation table\n",
    "    predictions_path =  'D:\\\\Final_Bird_Dataset\\\\WhisperSeg_Segmentation\\\\' + Bird_ID + '_wseg.csv'\n",
    "    predictions = pd.read_csv(predictions_path)\n",
    "    predictions = predictions.drop(columns = ['Unnamed: 0', 'cluster'])\n",
    "    predictions = predictions.rename(columns = {'onset' : 'onsets', \n",
    "                                                            'offset' : 'offsets', \n",
    "                                                            'file' : 'files'})\n",
    "\n",
    "    #load ground truth\n",
    "    song_folder = 'E:/Rockefeller_Song_Dataset/Pupils_labeled_subsets/' + Bird_ID + \"/\"\n",
    "    ground_truth_path = song_folder + Bird_ID + \"_syll_table.csv\"\n",
    "\n",
    "    #make SegData Object\n",
    "    seg_data = segmentation.SegData(Bird_ID, predictions)\n",
    "    seg_data = dataloading.Utils.add_ev_song_truth_table(seg_data, ground_truth_path)\n",
    "\n",
    "    #calculate time deltas\n",
    "    curr_bird_time_delta = get_time_delta_df(seg_data, max_gap = 0.05, feature = 'offsets')\n",
    "\n",
    "    #append to df with all birds\n",
    "    curr_bird_time_delta['Bird_ID'] = Bird_ID\n",
    "    all_time_deltas_wseg = pd.concat([all_time_deltas_wseg, curr_bird_time_delta])\n",
    "\n",
    "#add time delta column \n",
    "all_time_deltas_wseg['time_delta'] = all_time_deltas_wseg.True_feat_times - all_time_deltas_wseg.seg_matched_times"
   ]
  },
  {
   "cell_type": "markdown",
   "metadata": {},
   "source": [
    "## Merge Time Deltas"
   ]
  },
  {
   "cell_type": "code",
   "execution_count": 19,
   "metadata": {},
   "outputs": [],
   "source": [
    "all_time_deltas_Tweety['Segmentation Method'] = \"TweetyNet\"\n",
    "all_time_deltas_RMSE['Segmentation Method'] = \"Amplitude Threshold\" \n",
    "all_time_deltas_wseg['Segmentation Method'] = \"WhisperSeg\""
   ]
  },
  {
   "cell_type": "code",
   "execution_count": 20,
   "metadata": {},
   "outputs": [],
   "source": [
    "all_time_deltas = pd.concat([all_time_deltas_wseg, all_time_deltas_Tweety, all_time_deltas_RMSE,])"
   ]
  },
  {
   "cell_type": "code",
   "execution_count": 21,
   "metadata": {},
   "outputs": [],
   "source": [
    "all_time_deltas.to_csv('rock_offset_time_deltas.csv')"
   ]
  },
  {
   "cell_type": "markdown",
   "metadata": {},
   "source": [
    "## Plot Time Deltas"
   ]
  },
  {
   "cell_type": "code",
   "execution_count": 11,
   "metadata": {},
   "outputs": [],
   "source": [
    "import avn.segmentation as segmentation\n",
    "import pandas as pd\n",
    "import numpy as np\n",
    "import avn.dataloading as dataloading\n",
    "import matplotlib.pyplot as plt\n",
    "import seaborn as sns"
   ]
  },
  {
   "cell_type": "code",
   "execution_count": 12,
   "metadata": {},
   "outputs": [],
   "source": [
    "all_time_deltas = pd.read_csv('rock_offset_time_deltas.csv')"
   ]
  },
  {
   "cell_type": "code",
   "execution_count": 13,
   "metadata": {},
   "outputs": [],
   "source": [
    "plt.rcParams.update({'font.size': 10})"
   ]
  },
  {
   "cell_type": "code",
   "execution_count": 14,
   "metadata": {},
   "outputs": [],
   "source": [
    "all_time_deltas['time_delta'] = all_time_deltas.time_delta * 1000"
   ]
  },
  {
   "cell_type": "code",
   "execution_count": 7,
   "metadata": {},
   "outputs": [
    {
     "data": {
      "image/png": "[encoded data removed]",
      "text/plain": [
       "<Figure size 700x400 with 1 Axes>"
      ]
     },
     "metadata": {},
     "output_type": "display_data"
    }
   ],
   "source": [
    "plt.figure(figsize = (7, 4))\n",
    "sns.kdeplot(data = all_time_deltas.reset_index(), x = 'time_delta', hue = 'Segmentation Method', common_norm = False, fill = True, \n",
    "            palette= sns.color_palette()[-3:], legend = True)\n",
    "plt.axvline(x = 0, color = 'black', linestyle = '--')\n",
    "plt.xlim(-50, 50)\n",
    "plt.xlabel(\"Time Difference (ms)\")\n",
    "plt.title(\"Syllable Offset Time Differences \\nBetween Manual and Automatic Segmentations\");\n",
    "sns.despine()"
   ]
  },
  {
   "cell_type": "code",
   "execution_count": 17,
   "metadata": {},
   "outputs": [
    {
     "data": {
      "image/png": "[encoded data removed]",
      "text/plain": [
       "<Figure size 700x150 with 1 Axes>"
      ]
     },
     "metadata": {},
     "output_type": "display_data"
    }
   ],
   "source": [
    "plt.figure(figsize = (7, 1.5))\n",
    "sns.kdeplot(data = all_time_deltas.reset_index(), x = 'time_delta', hue = 'Segmentation Method', common_norm = False, fill = True, \n",
    "            palette= sns.color_palette()[-3:], legend = True)\n",
    "plt.axvline(x = 0, color = 'black', linestyle = '--')\n",
    "plt.xlim(-50, 50)\n",
    "plt.xlabel(\"Time Difference (ms)\")\n",
    "plt.title(\"Syllable Offset Time Differences Between Manual and Automatic Segmentations\");\n",
    "sns.despine()\n",
    "plt.savefig('rock_offset_time_deltas.svg')"
   ]
  },
  {
   "cell_type": "code",
   "execution_count": 120,
   "metadata": {},
   "outputs": [],
   "source": [
    "all_time_deltas['abs_delta'] = np.abs(all_time_deltas.time_delta)"
   ]
  },
  {
   "cell_type": "code",
   "execution_count": 121,
   "metadata": {},
   "outputs": [
    {
     "name": "stderr",
     "output_type": "stream",
     "text": [
      "C:\\Users\\tkoch\\AppData\\Local\\Temp\\ipykernel_2576\\3226881426.py:1: FutureWarning: The default value of numeric_only in DataFrameGroupBy.mean is deprecated. In a future version, numeric_only will default to False. Either specify numeric_only or select only columns which should be valid for the function.\n",
      "  all_time_deltas.groupby('Segmentation Method').mean()\n"
     ]
    },
    {
     "data": {
      "text/html": [
       "<div>\n",
       "<style scoped>\n",
       "    .dataframe tbody tr th:only-of-type {\n",
       "        vertical-align: middle;\n",
       "    }\n",
       "\n",
       "    .dataframe tbody tr th {\n",
       "        vertical-align: top;\n",
       "    }\n",
       "\n",
       "    .dataframe thead th {\n",
       "        text-align: right;\n",
       "    }\n",
       "</style>\n",
       "<table border=\"1\" class=\"dataframe\">\n",
       "  <thead>\n",
       "    <tr style=\"text-align: right;\">\n",
       "      <th></th>\n",
       "      <th>True_feat_times</th>\n",
       "      <th>index_of_match</th>\n",
       "      <th>seg_matched_times</th>\n",
       "      <th>time_delta</th>\n",
       "      <th>abs_delta</th>\n",
       "    </tr>\n",
       "    <tr>\n",
       "      <th>Segmentation Method</th>\n",
       "      <th></th>\n",
       "      <th></th>\n",
       "      <th></th>\n",
       "      <th></th>\n",
       "      <th></th>\n",
       "    </tr>\n",
       "  </thead>\n",
       "  <tbody>\n",
       "    <tr>\n",
       "      <th>Amplitude Threshold</th>\n",
       "      <td>6.119528</td>\n",
       "      <td>27.672091</td>\n",
       "      <td>6.177682</td>\n",
       "      <td>-0.459787</td>\n",
       "      <td>35.313972</td>\n",
       "    </tr>\n",
       "    <tr>\n",
       "      <th>TweetyNet</th>\n",
       "      <td>6.119528</td>\n",
       "      <td>22.484950</td>\n",
       "      <td>6.089693</td>\n",
       "      <td>-1.583874</td>\n",
       "      <td>2.929811</td>\n",
       "    </tr>\n",
       "    <tr>\n",
       "      <th>WhisperSeg</th>\n",
       "      <td>6.119528</td>\n",
       "      <td>18.878657</td>\n",
       "      <td>6.073331</td>\n",
       "      <td>-13.433233</td>\n",
       "      <td>13.461012</td>\n",
       "    </tr>\n",
       "  </tbody>\n",
       "</table>\n",
       "</div>"
      ],
      "text/plain": [
       "                     True_feat_times  index_of_match  seg_matched_times  \\\n",
       "Segmentation Method                                                       \n",
       "Amplitude Threshold         6.119528       27.672091           6.177682   \n",
       "TweetyNet                   6.119528       22.484950           6.089693   \n",
       "WhisperSeg                  6.119528       18.878657           6.073331   \n",
       "\n",
       "                     time_delta  abs_delta  \n",
       "Segmentation Method                         \n",
       "Amplitude Threshold   -0.459787  35.313972  \n",
       "TweetyNet             -1.583874   2.929811  \n",
       "WhisperSeg           -13.433233  13.461012  "
      ]
     },
     "execution_count": 121,
     "metadata": {},
     "output_type": "execute_result"
    }
   ],
   "source": [
    "all_time_deltas.groupby('Segmentation Method').mean()"
   ]
  },
  {
   "cell_type": "code",
   "execution_count": 122,
   "metadata": {},
   "outputs": [
    {
     "name": "stdout",
     "output_type": "stream",
     "text": [
      "0.034875769863102306\n",
      "0.031168138343924234\n",
      "0.11878026642525435\n"
     ]
    }
   ],
   "source": [
    "from scipy.stats import sem\n",
    "print(sem(all_time_deltas[all_time_deltas['Segmentation Method'] == 'WhisperSeg'].abs_delta, nan_policy= 'omit'))\n",
    "print(sem(all_time_deltas[all_time_deltas['Segmentation Method'] == 'TweetyNet'].abs_delta, nan_policy= 'omit'))\n",
    "print(sem(all_time_deltas[all_time_deltas['Segmentation Method'] == 'Amplitude Threshold'].abs_delta, nan_policy= 'omit'))"
   ]
  },
  {
   "cell_type": "code",
   "execution_count": null,
   "metadata": {},
   "outputs": [],
   "source": []
  }
 ],
 "metadata": {
  "kernelspec": {
   "display_name": "avn4_install_test",
   "language": "python",
   "name": "python3"
  },
  "language_info": {
   "codemirror_mode": {
    "name": "ipython",
    "version": 3
   },
   "file_extension": ".py",
   "mimetype": "text/x-python",
   "name": "python",
   "nbconvert_exporter": "python",
   "pygments_lexer": "ipython3",
   "version": "3.8.19"
  }
 },
 "nbformat": 4,
 "nbformat_minor": 2
}
