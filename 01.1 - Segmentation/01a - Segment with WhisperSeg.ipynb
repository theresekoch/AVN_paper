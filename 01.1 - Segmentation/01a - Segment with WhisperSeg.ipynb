{
 "cells": [
  {
   "cell_type": "markdown",
   "metadata": {},
   "source": [
    "# 01a - Segment Songs with WhisperSeg"
   ]
  },
  {
   "cell_type": "markdown",
   "metadata": {},
   "source": [
    "## Setup"
   ]
  },
  {
   "cell_type": "markdown",
   "metadata": {},
   "source": [
    "1. Following the instructions provided by WhisperSeg (https://github.com/nianlonggu/WhisperSeg), create a new conda environment with all of `wseg`'s dependencies. \n",
    "2. Clone the WhisperSeg github repo and add the repository to your system path. "
   ]
  },
  {
   "cell_type": "code",
   "execution_count": 1,
   "metadata": {},
   "outputs": [],
   "source": [
    "import sys\n",
    "sys.path.insert(0, 'C:\\\\Grad_School\\\\Code_and_software\\\\Py_code\\\\WhisperSeg\\\\') #change this file path based on where WhisperSeg was cloned on your system. "
   ]
  },
  {
   "cell_type": "markdown",
   "metadata": {},
   "source": [
    "## Imports"
   ]
  },
  {
   "cell_type": "code",
   "execution_count": 2,
   "metadata": {},
   "outputs": [],
   "source": [
    "import librosa\n",
    "import json\n",
    "import glob\n",
    "import pandas as pd\n",
    "from audio_utils import SpecViewer\n",
    "\n",
    "spec_viewer = SpecViewer()"
   ]
  },
  {
   "cell_type": "markdown",
   "metadata": {},
   "source": [
    "## Initialize Model"
   ]
  },
  {
   "cell_type": "markdown",
   "metadata": {},
   "source": [
    "If your device has a GPU and you want to run model inference faster, set `device = \"cuda\"` when initializing the model. Otherwise set `device = \"cpu\"`. "
   ]
  },
  {
   "cell_type": "code",
   "execution_count": 3,
   "metadata": {},
   "outputs": [
    {
     "name": "stdout",
     "output_type": "stream",
     "text": [
      "\n",
      "===================================BUG REPORT===================================\n",
      "Welcome to bitsandbytes. For bug reports, please submit your error trace to: https://github.com/TimDettmers/bitsandbytes/issues\n",
      "================================================================================\n",
      "binary_path: c:\\Users\\tkoch\\anaconda3\\envs\\wseg_cuda\\lib\\site-packages\\bitsandbytes\\cuda_setup\\libbitsandbytes_cuda116.dll\n",
      "CUDA SETUP: Loading binary c:\\Users\\tkoch\\anaconda3\\envs\\wseg_cuda\\lib\\site-packages\\bitsandbytes\\cuda_setup\\libbitsandbytes_cuda116.dll...\n"
     ]
    }
   ],
   "source": [
    "from model import WhisperSegmenterFast\n",
    "segmenter = WhisperSegmenterFast( \"nccratliri/whisperseg-large-ms-ct2\", device=\"cuda\" )"
   ]
  },
  {
   "cell_type": "markdown",
   "metadata": {},
   "source": [
    "## Specify Zebra Finch-specific Hyperparameters"
   ]
  },
  {
   "cell_type": "markdown",
   "metadata": {},
   "source": [
    "Justification for this set of hyperparameters is provided in the WhisperSeg paper (https://doi.org/10.1101/2023.09.30.560270). "
   ]
  },
  {
   "cell_type": "code",
   "execution_count": 5,
   "metadata": {},
   "outputs": [],
   "source": [
    "sr = 32000 \n",
    "min_frequency = 0\n",
    "spec_time_step = 0.0025\n",
    "min_segment_length = 0.01\n",
    "eps = 0.02\n",
    "num_trials = 3"
   ]
  },
  {
   "cell_type": "markdown",
   "metadata": {},
   "source": [
    "## Get List of Birds to Segment"
   ]
  },
  {
   "cell_type": "code",
   "execution_count": null,
   "metadata": {},
   "outputs": [
    {
     "data": {
      "text/plain": [
       "36"
      ]
     },
     "metadata": {},
     "output_type": "display_data"
    }
   ],
   "source": [
    "All_Birds = [\"B145\", \"B236\", \"B258\", \"B385\", \"B402\", \"B447\", \n",
    "             \"B507\", \"G255\", \"G397\", \"G402\", \"G413\", \"G437\", \n",
    "             \"G439\", \"G524\", \"G528\", \"O144\", \"O254\", \"O421\", \n",
    "             \"O440\", \"O512\", \"R402\", \"R425\", \"R469\", \"S132\", \n",
    "             \"S421\", \"S525\", \"S528\", \"Y389\", \"Y397\", \"Y425\", \n",
    "             \"Y440\", \"B524\", \"O434\", \"S389\", \"Y433\", \"Y453\"] "
   ]
  },
  {
   "cell_type": "markdown",
   "metadata": {},
   "source": [
    "## Segment All Birds in Dataset"
   ]
  },
  {
   "cell_type": "code",
   "execution_count": null,
   "metadata": {},
   "outputs": [],
   "source": [
    "for Bird_ID in All_Birds:\n",
    "    print(Bird_ID)\n",
    "    #get list of files to segment\n",
    "    song_folder_path = 'E:\\\\Final_Bird_Dataset\\\\FP1_project_birds\\\\segmented_songs\\\\' + Bird_ID + \"\\\\\" #set path to song folder according to your file system. \n",
    "    all_songs = glob.glob(song_folder_path + \"*.wav\")\n",
    "\n",
    "    #initialize empty dataframe to save syllable segmentations\n",
    "    full_seg_table = pd.DataFrame()\n",
    "\n",
    "    #Loop over each .wav file in the specified song folder. \n",
    "    for i, song in enumerate(all_songs):\n",
    "        #load audio\n",
    "        audio, __ = librosa.load(song, sr = sr)\n",
    "\n",
    "        #segment file\n",
    "        prediction = segmenter.segment(audio, \n",
    "                                       sr = sr,\n",
    "                                       min_frequency = min_frequency, \n",
    "                                       spec_time_step = spec_time_step,\n",
    "                                       min_segment_length = min_segment_length, \n",
    "                                       eps = eps, \n",
    "                                       num_trials = num_trials)\n",
    "\n",
    "        #format segmentation as dataframe\n",
    "        curr_prediction_df = pd.DataFrame(prediction)\n",
    "\n",
    "        #add file name to dataframe\n",
    "        song_name = song.split(\"\\\\\")[-1]\n",
    "        curr_prediction_df['file'] = song_name\n",
    "\n",
    "        #add current file's segments to full_seg_table\n",
    "        full_seg_table = pd.concat([full_seg_table, curr_prediction_df])\n",
    "    \n",
    "    #save full_seg_table\n",
    "    full_seg_table.to_csv('E:\\\\Final_Bird_Dataset\\\\WhisperSeg_Segmentation\\\\' + Bird_ID + \"_wseg.csv\") #set path to output file according to your file system. "
   ]
  }
 ],
 "metadata": {
  "kernelspec": {
   "display_name": "wseg_cuda",
   "language": "python",
   "name": "python3"
  },
  "language_info": {
   "codemirror_mode": {
    "name": "ipython",
    "version": 3
   },
   "file_extension": ".py",
   "mimetype": "text/x-python",
   "name": "python",
   "nbconvert_exporter": "python",
   "pygments_lexer": "ipython3",
   "version": "3.10.13"
  }
 },
 "nbformat": 4,
 "nbformat_minor": 2
}
