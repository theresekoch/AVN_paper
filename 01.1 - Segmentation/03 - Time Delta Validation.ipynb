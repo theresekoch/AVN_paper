{
 "cells": [
  {
   "cell_type": "markdown",
   "metadata": {},
   "source": [
    "# 03 - Time Delta Validation"
   ]
  },
  {
   "cell_type": "markdown",
   "metadata": {},
   "source": [
    "## Imports"
   ]
  },
  {
   "cell_type": "code",
   "execution_count": 1,
   "metadata": {},
   "outputs": [],
   "source": [
    "import avn.segmentation as segmentation\n",
    "import pandas as pd\n",
    "import numpy as np\n",
    "import avn.dataloading as dataloading\n",
    "import matplotlib.pyplot as plt\n",
    "import seaborn as sns"
   ]
  },
  {
   "cell_type": "code",
   "execution_count": 2,
   "metadata": {},
   "outputs": [],
   "source": [
    "def get_match_times(truth_matches, seg_current_file):\n",
    "\n",
    "    #initialize empty 1D array to contain timestamps\n",
    "    matched_times = np.zeros_like(truth_matches)\n",
    "\n",
    "    #loop through each match and add timestamp to matched_times\n",
    "    for i, match_idx in enumerate(truth_matches):\n",
    "        #if the match_idx is nan, that means the true syll had no match, so record nan as timestamp\n",
    "        if np.isnan(match_idx):\n",
    "            matched_times[i] = np.nan\n",
    "        else: \n",
    "            matched_times[i] = seg_current_file.onsets.iloc[int(match_idx)]\n",
    "\n",
    "    return matched_times"
   ]
  },
  {
   "cell_type": "code",
   "execution_count": 3,
   "metadata": {},
   "outputs": [],
   "source": [
    "def get_time_delta_df(seg_data, max_gap = 0.05, feature = 'onsets'):\n",
    "    #initialize dataframe to contain matched timestamps for all files\n",
    "    all_matched_times = pd.DataFrame()\n",
    "\n",
    "    #loop over each individual file\n",
    "    for current_file in np.unique(seg_data.seg_table['files']):\n",
    "        #Make copy of ground truth segmentation table\n",
    "        truth_seg_table = seg_data.true_seg_table\n",
    "\n",
    "        #filter the seg_tables so that they contain only syllables from the \n",
    "        #current file. \n",
    "        seg_current_file = seg_data.seg_table[seg_data.seg_table['files'] == current_file]\n",
    "        truth_current_file = truth_seg_table[truth_seg_table['files'] == current_file]\n",
    "\n",
    "        #get best matches of segmenter to truth onsets/offsets\n",
    "        truth_matches = segmentation.Metrics._Metrics__get_best_matches(truth_current_file[feature], \n",
    "                                            seg_current_file[feature], max_gap)\n",
    "\n",
    "        #create dataframe with matches and timestamps\n",
    "        true_seg_matches_df = pd.DataFrame({'True_feat_times' : truth_current_file[feature], \n",
    "                                            'index_of_match' : truth_matches})\n",
    "\n",
    "        #get timestamps of segmenter matches to truth\n",
    "        matched_times = get_match_times(truth_matches, seg_current_file)\n",
    "\n",
    "        #add matched timestamps to df of matches\n",
    "        true_seg_matches_df['seg_matched_times'] = matched_times\n",
    "\n",
    "        #add file name to df\n",
    "        true_seg_matches_df['file'] = current_file\n",
    "\n",
    "        #append df for current file to df with all files\n",
    "        all_matched_times = pd.concat([all_matched_times, true_seg_matches_df])\n",
    "\n",
    "    return all_matched_times"
   ]
  },
  {
   "cell_type": "code",
   "execution_count": 4,
   "metadata": {},
   "outputs": [],
   "source": [
    "def get_time_deltas_many_birds(segmenter, Bird_IDs, folder_path, upper_threshold, lower_threshold, truth_table_suffix = \"_syll_table.csv\", \n",
    "                               max_gap = 0.05, feature = 'onsets'):\n",
    "\n",
    "    #initialize empty dataframe to append to\n",
    "    all_time_deltas_df = pd.DataFrame()\n",
    "\n",
    "    #loop through each bird\n",
    "    for Bird_ID in Bird_IDs: \n",
    "        #construct full path to folder containing song files\n",
    "        song_folder = folder_path + Bird_ID + \"/\"\n",
    "\n",
    "        #make segmentations\n",
    "        seg_data = segmenter.make_segmentation_table(Bird_ID, song_folder,\n",
    "                                                     upper_threshold = upper_threshold, \n",
    "                                                     lower_threshold = lower_threshold)\n",
    "\n",
    "        #load ground truth segmentations from memory\n",
    "        seg_data = dataloading.Utils.add_ev_song_truth_table(seg_data, song_folder + Bird_ID + truth_table_suffix)\n",
    "\n",
    "        #get time delta table for current bird\n",
    "        curr_time_delta_df = get_time_delta_df(seg_data, max_gap = max_gap, feature = feature)\n",
    "        #add Bird_ID to current df\n",
    "        curr_time_delta_df['Bird_ID'] = Bird_ID\n",
    "        #append to df with all birds\n",
    "        all_time_deltas_df = pd.concat([all_time_deltas_df, curr_time_delta_df])\n",
    "\n",
    "    #add column with time deltas\n",
    "    all_time_deltas_df['time_delta'] = all_time_deltas_df.True_feat_times - all_time_deltas_df.seg_matched_times\n",
    "\n",
    "    return all_time_deltas_df"
   ]
  },
  {
   "cell_type": "code",
   "execution_count": 5,
   "metadata": {},
   "outputs": [],
   "source": [
    "from scipy.io import wavfile\n",
    "import librosa\n",
    "import re\n",
    "import scipy.signal\n",
    "import pandas as pd\n",
    "class SongFile:\n",
    "    \"\"\"\n",
    "    Data and metadata pertaining to a single audio file.\n",
    "    \n",
    "    \n",
    "    Attributes\n",
    "    ----------\n",
    "    data: ndarray\n",
    "        Contains audio data of wavfile. \n",
    "    \n",
    "    sample_rate: int\n",
    "        Sample rate of song data. Based on native sample rate of wavfile.\n",
    "    \n",
    "    duration: float\n",
    "        Duration of the audio file in seconds. \n",
    "    \n",
    "    file_path: str\n",
    "        Path to the local .wav file used to instantiate the SongFile object.\n",
    "    \n",
    "    Methods\n",
    "    -------\n",
    "    bandpass_filter(lower_cutoff, upper_cutoff)\n",
    "        Applies a hamming window bandpass filter to the audio data. \n",
    "    \n",
    "    \"\"\"\n",
    "    def __init__(self, file_path):\n",
    "        \"\"\"\n",
    "        Parameters\n",
    "        ----------\n",
    "        file_path : str\n",
    "            Path to the local .wav file to be loaded as a SongFile object.\n",
    "             \n",
    "        \"\"\"\n",
    "        self.sample_rate, self.data = wavfile.read(file_path)\n",
    "        self.data = self.data.astype(float)\n",
    "        self.duration = librosa.get_duration(y = self.data, sr = self.sample_rate)\n",
    "        self.file_path = file_path\n",
    "        \n",
    "        #get file name -- This may be windows specific. \n",
    "        file_name_regex = re.compile(\"\\\\\\\\\")\n",
    "        self.file_name = file_name_regex.split(self.file_path)[-1]\n",
    "                                                  \n",
    "    def bandpass_filter(self, lower_cutoff, upper_cutoff):\n",
    "        \"\"\"\n",
    "        Applies a hamming window bandpass filter to the audio data.\n",
    "\n",
    "        Parameters\n",
    "        ----------\n",
    "        lower_cutoff : int\n",
    "            Lower cutoff frequency in Hz for the filter. \n",
    "        upper_cutoff : int\n",
    "            Upper cutoff frequency in Hz for the filter. \n",
    "\n",
    "        Returns\n",
    "        -------\n",
    "        None.\n",
    "\n",
    "        \"\"\"\n",
    "        #create hamming window filter\n",
    "        filter_bandpass = scipy.signal.firwin(101, cutoff = [lower_cutoff, upper_cutoff], \n",
    "                                              fs = self.sample_rate, \n",
    "                                              pass_zero = False)\n",
    "        #apply filter to audio data\n",
    "        self.data = scipy.signal.lfilter(filter_bandpass, [1.0], self.data)"
   ]
  },
  {
   "cell_type": "code",
   "execution_count": 6,
   "metadata": {},
   "outputs": [],
   "source": [
    "dataloading.SongFile = SongFile"
   ]
  },
  {
   "cell_type": "markdown",
   "metadata": {},
   "source": [
    "# Onsets"
   ]
  },
  {
   "cell_type": "markdown",
   "metadata": {},
   "source": [
    "## Get Time Deltas "
   ]
  },
  {
   "cell_type": "code",
   "execution_count": 18,
   "metadata": {},
   "outputs": [
    {
     "data": {
      "text/plain": [
       "36"
      ]
     },
     "execution_count": 18,
     "metadata": {},
     "output_type": "execute_result"
    }
   ],
   "source": [
    "All_Birds = [\"B145\", \"B236\", \"B258\", \"B385\", \"B402\", \"B447\", \n",
    "             \"B507\", \"G255\", \"G397\", \"G402\", \"G413\", \"G437\", \n",
    "             \"G439\", \"G524\", \"G528\", \"O144\", \"O254\", \"O421\", \n",
    "             \"O440\", \"O512\", \"R402\", \"R425\", \"R469\", \"S132\", \n",
    "             \"S421\", \"S525\", \"S528\", \"Y389\", \"Y397\", \"Y425\", \n",
    "             \"Y440\", \"B524\", \"O434\", \"S389\", \"Y433\", \"Y453\"] \n",
    "\n",
    "#All_Birds should contain 36 bird IDs. Check: \n",
    "len(All_Birds)"
   ]
  },
  {
   "cell_type": "markdown",
   "metadata": {},
   "source": [
    "### RMSE"
   ]
  },
  {
   "cell_type": "code",
   "execution_count": 19,
   "metadata": {},
   "outputs": [],
   "source": [
    "song_folder = \"C:/Grad_School/Code_and_software/Py_code/March_2021_redo/redo_data/segmented_songs/\"\n",
    "segmenter = segmentation.RMSEDerivative()"
   ]
  },
  {
   "cell_type": "code",
   "execution_count": 20,
   "metadata": {},
   "outputs": [],
   "source": [
    "all_time_deltas_RMSE = get_time_deltas_many_birds(segmenter, All_Birds, song_folder, \n",
    "                                                upper_threshold = 0.006, lower_threshold= -0.1, max_gap = 0.01)"
   ]
  },
  {
   "cell_type": "markdown",
   "metadata": {},
   "source": [
    "### TweetyNet"
   ]
  },
  {
   "cell_type": "code",
   "execution_count": 21,
   "metadata": {},
   "outputs": [],
   "source": [
    "def vak_to_syll_table(prediction_results):\n",
    "  prediction_syllables = prediction_results[prediction_results['label'] == \"s\"]\n",
    "  prediction_syll_reformat = pd.DataFrame()\n",
    "  prediction_syll_reformat[\"files\"] = prediction_syllables['audio_file']\n",
    "  prediction_syll_reformat['onsets'] = prediction_syllables['onset_s']\n",
    "  prediction_syll_reformat['offsets'] = prediction_syllables['offset_s']\n",
    "\n",
    "  return prediction_syll_reformat"
   ]
  },
  {
   "cell_type": "code",
   "execution_count": 22,
   "metadata": {},
   "outputs": [],
   "source": [
    "#initialize df with all birds' time deltas. \n",
    "all_time_deltas_Tweety = pd.DataFrame()\n",
    "\n",
    "for Bird_ID in All_Birds: \n",
    "\n",
    "    #load tweetynet segmentation table\n",
    "    predictions_path =  'C:/Grad_School/Code_and_software/Py_code/March_2021_redo/April_redo_data/vak_segmentation/segmented_songs_annotations/' + Bird_ID + '.annot.csv'\n",
    "    predictions_vak = pd.read_csv(predictions_path)\n",
    "    predictions_reformat = vak_to_syll_table(predictions_vak)\n",
    "\n",
    "    #load ground truth\n",
    "    ground_truth_path = 'C:/Grad_School/Code_and_software/Py_code/March_2021_redo/redo_data/segmented_songs/' + Bird_ID + '/' + Bird_ID + '_syll_table.csv'\n",
    "\n",
    "    #make SegData Object\n",
    "    seg_data = segmentation.SegData(Bird_ID, predictions_reformat)\n",
    "    seg_data = dataloading.Utils.add_ev_song_truth_table(seg_data, ground_truth_path)\n",
    "\n",
    "    #calculate time deltas\n",
    "    curr_bird_time_delta = get_time_delta_df(seg_data, max_gap = 0.01, feature = 'onsets')\n",
    "    #append to df with all birds\n",
    "    curr_bird_time_delta['Bird_ID'] = Bird_ID\n",
    "    all_time_deltas_Tweety = pd.concat([all_time_deltas_Tweety, curr_bird_time_delta])\n",
    "\n",
    "#add time delta column \n",
    "all_time_deltas_Tweety['time_delta'] = all_time_deltas_Tweety.True_feat_times - all_time_deltas_Tweety.seg_matched_times"
   ]
  },
  {
   "cell_type": "markdown",
   "metadata": {},
   "source": [
    "### Wseg"
   ]
  },
  {
   "cell_type": "code",
   "execution_count": 23,
   "metadata": {},
   "outputs": [],
   "source": [
    "def get_time_delta_df(seg_data, max_gap = 0.01, feature = 'onsets'):\n",
    "    #initialize dataframe to contain matched timestamps for all files\n",
    "    all_matched_times = pd.DataFrame()\n",
    "\n",
    "    #loop over each individual file\n",
    "    for current_file in np.unique(seg_data.seg_table['files']):\n",
    "        #Make copy of ground truth segmentation table\n",
    "        truth_seg_table = seg_data.true_seg_table\n",
    "\n",
    "        #filter the seg_tables so that they contain only syllables from the \n",
    "        #current file. \n",
    "        seg_current_file = seg_data.seg_table[seg_data.seg_table['files'] == current_file]\n",
    "        truth_current_file = truth_seg_table[truth_seg_table['files'] == current_file]\n",
    "\n",
    "        #get best matches of segmenter to truth onsets/offsets\n",
    "        truth_matches = segmentation.Metrics._Metrics__get_best_matches(truth_current_file[feature], \n",
    "                                            seg_current_file[feature], max_gap)\n",
    "\n",
    "        #create dataframe with matches and timestamps\n",
    "        true_seg_matches_df = pd.DataFrame({'True_feat_times' : truth_current_file[feature], \n",
    "                                            'index_of_match' : truth_matches})\n",
    "\n",
    "        #get timestamps of segmenter matches to truth\n",
    "        matched_times = get_match_times(truth_matches, seg_current_file)\n",
    "\n",
    "        #add matched timestamps to df of matches\n",
    "        true_seg_matches_df['seg_matched_times'] = matched_times\n",
    "\n",
    "        #add file name to df\n",
    "        true_seg_matches_df['file'] = current_file\n",
    "\n",
    "        #append df for current file to df with all files\n",
    "        all_matched_times = pd.concat([all_matched_times, true_seg_matches_df])\n",
    "\n",
    "    return all_matched_times"
   ]
  },
  {
   "cell_type": "code",
   "execution_count": 24,
   "metadata": {},
   "outputs": [],
   "source": [
    "#initialize df with all birds' time deltas. \n",
    "all_time_deltas_wseg = pd.DataFrame()\n",
    "\n",
    "for Bird_ID in All_Birds[:]: \n",
    "\n",
    "    #load tweetynet segmentation table\n",
    "    predictions_path =  'E:\\\\Final_Bird_Dataset\\\\WhisperSeg_Segmentation\\\\' + Bird_ID + '_wseg.csv'\n",
    "    predictions = pd.read_csv(predictions_path)\n",
    "    predictions = predictions.drop(columns = ['Unnamed: 0', 'cluster'])\n",
    "    predictions = predictions.rename(columns = {'onset' : 'onsets', \n",
    "                                                            'offset' : 'offsets', \n",
    "                                                            'file' : 'files'})\n",
    "\n",
    "    #load ground truth\n",
    "    ground_truth_path = 'E:\\\\Final_Bird_Dataset\\\\FP1_project_birds\\\\segmented_songs\\\\' + Bird_ID + '/' + Bird_ID + '_syll_table.csv'\n",
    "\n",
    "    #make SegData Object\n",
    "    seg_data = segmentation.SegData(Bird_ID, predictions)\n",
    "    seg_data = dataloading.Utils.add_ev_song_truth_table(seg_data, ground_truth_path)\n",
    "\n",
    "    #calculate time deltas\n",
    "    curr_bird_time_delta = get_time_delta_df(seg_data, max_gap = 0.01, feature = 'onsets')\n",
    "\n",
    "    #append to df with all birds\n",
    "    curr_bird_time_delta['Bird_ID'] = Bird_ID\n",
    "    all_time_deltas_wseg = pd.concat([all_time_deltas_wseg, curr_bird_time_delta])\n",
    "\n",
    "#add time delta column \n",
    "all_time_deltas_wseg['time_delta'] = all_time_deltas_wseg.True_feat_times - all_time_deltas_wseg.seg_matched_times"
   ]
  },
  {
   "cell_type": "markdown",
   "metadata": {},
   "source": [
    "## Merge Time Deltas"
   ]
  },
  {
   "cell_type": "code",
   "execution_count": 25,
   "metadata": {},
   "outputs": [],
   "source": [
    "all_time_deltas_Tweety['Segmentation Method'] = \"TweetyNet\"\n",
    "all_time_deltas_RMSE['Segmentation Method'] = \"Amplitude Threshold\" \n",
    "all_time_deltas_wseg['Segmentation Method'] = \"WhisperSeg\""
   ]
  },
  {
   "cell_type": "code",
   "execution_count": 26,
   "metadata": {},
   "outputs": [],
   "source": [
    "all_time_deltas = pd.concat([all_time_deltas_Tweety, all_time_deltas_RMSE, all_time_deltas_wseg])"
   ]
  },
  {
   "cell_type": "code",
   "execution_count": 27,
   "metadata": {},
   "outputs": [],
   "source": [
    "plt.rcParams.update({'font.size': 11})"
   ]
  },
  {
   "cell_type": "code",
   "execution_count": 34,
   "metadata": {},
   "outputs": [],
   "source": [
    "all_time_deltas['time_delta'] = all_time_deltas.time_delta * 1000"
   ]
  },
  {
   "cell_type": "code",
   "execution_count": 42,
   "metadata": {},
   "outputs": [
    {
     "data": {
      "image/png": "[encoded data removed]",
      "text/plain": [
       "<Figure size 504x288 with 1 Axes>"
      ]
     },
     "metadata": {
      "needs_background": "light"
     },
     "output_type": "display_data"
    }
   ],
   "source": [
    "plt.figure(figsize = (7, 4))\n",
    "sns.kdeplot(data = all_time_deltas.reset_index(), x = 'time_delta', hue = 'Segmentation Method', common_norm = False, fill = True)\n",
    "plt.axvline(x = 0, color = 'red', linestyle = '--')\n",
    "plt.xlim(-15, 15)\n",
    "plt.xlabel(\"Time Difference (ms)\")\n",
    "plt.title(\"Syllable Onset Time Differences \\nBetween Manual and Automatic Segmentations\");"
   ]
  },
  {
   "cell_type": "code",
   "execution_count": 38,
   "metadata": {},
   "outputs": [],
   "source": [
    "all_time_deltas['abs_delta'] = np.abs(all_time_deltas.time_delta)"
   ]
  },
  {
   "cell_type": "code",
   "execution_count": 39,
   "metadata": {},
   "outputs": [
    {
     "data": {
      "text/html": [
       "<div>\n",
       "<style scoped>\n",
       "    .dataframe tbody tr th:only-of-type {\n",
       "        vertical-align: middle;\n",
       "    }\n",
       "\n",
       "    .dataframe tbody tr th {\n",
       "        vertical-align: top;\n",
       "    }\n",
       "\n",
       "    .dataframe thead th {\n",
       "        text-align: right;\n",
       "    }\n",
       "</style>\n",
       "<table border=\"1\" class=\"dataframe\">\n",
       "  <thead>\n",
       "    <tr style=\"text-align: right;\">\n",
       "      <th></th>\n",
       "      <th>True_feat_times</th>\n",
       "      <th>index_of_match</th>\n",
       "      <th>seg_matched_times</th>\n",
       "      <th>time_delta</th>\n",
       "      <th>abs_delta</th>\n",
       "    </tr>\n",
       "    <tr>\n",
       "      <th>Segmentation Method</th>\n",
       "      <th></th>\n",
       "      <th></th>\n",
       "      <th></th>\n",
       "      <th></th>\n",
       "      <th></th>\n",
       "    </tr>\n",
       "  </thead>\n",
       "  <tbody>\n",
       "    <tr>\n",
       "      <th>Amplitude Threshold</th>\n",
       "      <td>6.152806</td>\n",
       "      <td>27.382374</td>\n",
       "      <td>6.105347</td>\n",
       "      <td>-1.768328</td>\n",
       "      <td>4.140926</td>\n",
       "    </tr>\n",
       "    <tr>\n",
       "      <th>TweetyNet</th>\n",
       "      <td>6.152806</td>\n",
       "      <td>22.169655</td>\n",
       "      <td>6.100720</td>\n",
       "      <td>0.651469</td>\n",
       "      <td>2.790156</td>\n",
       "    </tr>\n",
       "    <tr>\n",
       "      <th>WhisperSeg</th>\n",
       "      <td>6.154528</td>\n",
       "      <td>17.801169</td>\n",
       "      <td>5.757466</td>\n",
       "      <td>-0.281058</td>\n",
       "      <td>2.271382</td>\n",
       "    </tr>\n",
       "  </tbody>\n",
       "</table>\n",
       "</div>"
      ],
      "text/plain": [
       "                     True_feat_times  index_of_match  seg_matched_times  \\\n",
       "Segmentation Method                                                       \n",
       "Amplitude Threshold         6.152806       27.382374           6.105347   \n",
       "TweetyNet                   6.152806       22.169655           6.100720   \n",
       "WhisperSeg                  6.154528       17.801169           5.757466   \n",
       "\n",
       "                     time_delta  abs_delta  \n",
       "Segmentation Method                         \n",
       "Amplitude Threshold   -1.768328   4.140926  \n",
       "TweetyNet              0.651469   2.790156  \n",
       "WhisperSeg            -0.281058   2.271382  "
      ]
     },
     "execution_count": 39,
     "metadata": {},
     "output_type": "execute_result"
    }
   ],
   "source": [
    "all_time_deltas.groupby('Segmentation Method').mean()"
   ]
  },
  {
   "cell_type": "code",
   "execution_count": 40,
   "metadata": {},
   "outputs": [
    {
     "name": "stdout",
     "output_type": "stream",
     "text": [
      "0.010061502372474673\n",
      "0.011504749266966539\n",
      "0.014963278345235398\n"
     ]
    }
   ],
   "source": [
    "from scipy.stats import sem\n",
    "print(sem(all_time_deltas[all_time_deltas['Segmentation Method'] == 'WhisperSeg'].abs_delta, nan_policy= 'omit'))\n",
    "print(sem(all_time_deltas[all_time_deltas['Segmentation Method'] == 'TweetyNet'].abs_delta, nan_policy= 'omit'))\n",
    "print(sem(all_time_deltas[all_time_deltas['Segmentation Method'] == 'Amplitude Threshold'].abs_delta, nan_policy= 'omit'))"
   ]
  },
  {
   "cell_type": "markdown",
   "metadata": {},
   "source": [
    "# Offsets"
   ]
  },
  {
   "cell_type": "code",
   "execution_count": 59,
   "metadata": {},
   "outputs": [],
   "source": [
    "def get_match_times(truth_matches, seg_current_file):\n",
    "\n",
    "    #initialize empty 1D array to contain timestamps\n",
    "    matched_times = np.zeros_like(truth_matches)\n",
    "\n",
    "    #loop through each match and add timestamp to matched_times\n",
    "    for i, match_idx in enumerate(truth_matches):\n",
    "        #if the match_idx is nan, that means the true syll had no match, so record nan as timestamp\n",
    "        if np.isnan(match_idx):\n",
    "            matched_times[i] = np.nan\n",
    "        else: \n",
    "            matched_times[i] = seg_current_file.offsets.iloc[int(match_idx)]\n",
    "\n",
    "    return matched_times"
   ]
  },
  {
   "cell_type": "markdown",
   "metadata": {},
   "source": [
    "## Get Time Deltas "
   ]
  },
  {
   "cell_type": "code",
   "execution_count": 60,
   "metadata": {},
   "outputs": [
    {
     "data": {
      "text/plain": [
       "36"
      ]
     },
     "execution_count": 60,
     "metadata": {},
     "output_type": "execute_result"
    }
   ],
   "source": [
    "All_Birds = [\"B145\", \"B236\", \"B258\", \"B385\", \"B402\", \"B447\", \n",
    "             \"B507\", \"G255\", \"G397\", \"G402\", \"G413\", \"G437\", \n",
    "             \"G439\", \"G524\", \"G528\", \"O144\", \"O254\", \"O421\", \n",
    "             \"O440\", \"O512\", \"R402\", \"R425\", \"R469\", \"S132\", \n",
    "             \"S421\", \"S525\", \"S528\", \"Y389\", \"Y397\", \"Y425\", \n",
    "             \"Y440\", \"B524\", \"O434\", \"S389\", \"Y433\", \"Y453\"] \n",
    "\n",
    "#All_Birds should contain 36 bird IDs. Check: \n",
    "len(All_Birds)"
   ]
  },
  {
   "cell_type": "markdown",
   "metadata": {},
   "source": [
    "### RMSE"
   ]
  },
  {
   "cell_type": "code",
   "execution_count": 61,
   "metadata": {},
   "outputs": [],
   "source": [
    "song_folder = \"C:/Grad_School/Code_and_software/Py_code/March_2021_redo/redo_data/segmented_songs/\"\n",
    "segmenter = segmentation.RMSEDerivative()"
   ]
  },
  {
   "cell_type": "code",
   "execution_count": 62,
   "metadata": {},
   "outputs": [],
   "source": [
    "all_time_deltas_RMSE = get_time_deltas_many_birds(segmenter, All_Birds, song_folder, \n",
    "                                                upper_threshold = 0.006, lower_threshold= -0.1, max_gap = 0.05, feature = 'offsets')"
   ]
  },
  {
   "cell_type": "markdown",
   "metadata": {},
   "source": [
    "### TweetyNet"
   ]
  },
  {
   "cell_type": "code",
   "execution_count": 63,
   "metadata": {},
   "outputs": [],
   "source": [
    "def vak_to_syll_table(prediction_results):\n",
    "  prediction_syllables = prediction_results[prediction_results['label'] == \"s\"]\n",
    "  prediction_syll_reformat = pd.DataFrame()\n",
    "  prediction_syll_reformat[\"files\"] = prediction_syllables['audio_file']\n",
    "  prediction_syll_reformat['onsets'] = prediction_syllables['onset_s']\n",
    "  prediction_syll_reformat['offsets'] = prediction_syllables['offset_s']\n",
    "\n",
    "  return prediction_syll_reformat"
   ]
  },
  {
   "cell_type": "code",
   "execution_count": 64,
   "metadata": {},
   "outputs": [],
   "source": [
    "#initialize df with all birds' time deltas. \n",
    "all_time_deltas_Tweety = pd.DataFrame()\n",
    "\n",
    "for Bird_ID in All_Birds: \n",
    "\n",
    "    #load tweetynet segmentation table\n",
    "    predictions_path =  'C:/Grad_School/Code_and_software/Py_code/March_2021_redo/April_redo_data/vak_segmentation/segmented_songs_annotations/' + Bird_ID + '.annot.csv'\n",
    "    predictions_vak = pd.read_csv(predictions_path)\n",
    "    predictions_reformat = vak_to_syll_table(predictions_vak)\n",
    "\n",
    "    #load ground truth\n",
    "    ground_truth_path = 'C:/Grad_School/Code_and_software/Py_code/March_2021_redo/redo_data/segmented_songs/' + Bird_ID + '/' + Bird_ID + '_syll_table.csv'\n",
    "\n",
    "    #make SegData Object\n",
    "    seg_data = segmentation.SegData(Bird_ID, predictions_reformat)\n",
    "    seg_data = dataloading.Utils.add_ev_song_truth_table(seg_data, ground_truth_path)\n",
    "\n",
    "    #calculate time deltas\n",
    "    curr_bird_time_delta = get_time_delta_df(seg_data, max_gap = 0.05, feature = 'offsets')\n",
    "    #append to df with all birds\n",
    "    curr_bird_time_delta['Bird_ID'] = Bird_ID\n",
    "    all_time_deltas_Tweety = pd.concat([all_time_deltas_Tweety, curr_bird_time_delta])\n",
    "\n",
    "#add time delta column \n",
    "all_time_deltas_Tweety['time_delta'] = all_time_deltas_Tweety.True_feat_times - all_time_deltas_Tweety.seg_matched_times"
   ]
  },
  {
   "cell_type": "markdown",
   "metadata": {},
   "source": [
    "### Wseg"
   ]
  },
  {
   "cell_type": "code",
   "execution_count": 65,
   "metadata": {},
   "outputs": [],
   "source": [
    "#initialize df with all birds' time deltas. \n",
    "all_time_deltas_wseg = pd.DataFrame()\n",
    "\n",
    "for Bird_ID in All_Birds[:]: \n",
    "\n",
    "    #load tweetynet segmentation table\n",
    "    predictions_path =  'E:\\\\Final_Bird_Dataset\\\\WhisperSeg_Segmentation\\\\' + Bird_ID + '_wseg.csv'\n",
    "    predictions = pd.read_csv(predictions_path)\n",
    "    predictions = predictions.drop(columns = ['Unnamed: 0', 'cluster'])\n",
    "    predictions = predictions.rename(columns = {'onset' : 'onsets', \n",
    "                                                            'offset' : 'offsets', \n",
    "                                                            'file' : 'files'})\n",
    "\n",
    "    #load ground truth\n",
    "    ground_truth_path = 'E:\\\\Final_Bird_Dataset\\\\FP1_project_birds\\\\segmented_songs\\\\' + Bird_ID + '/' + Bird_ID + '_syll_table.csv'\n",
    "\n",
    "    #make SegData Object\n",
    "    seg_data = segmentation.SegData(Bird_ID, predictions)\n",
    "    seg_data = dataloading.Utils.add_ev_song_truth_table(seg_data, ground_truth_path)\n",
    "\n",
    "    #calculate time deltas\n",
    "    curr_bird_time_delta = get_time_delta_df(seg_data, max_gap = 0.05, feature = 'offsets')\n",
    "\n",
    "    #append to df with all birds\n",
    "    curr_bird_time_delta['Bird_ID'] = Bird_ID\n",
    "    all_time_deltas_wseg = pd.concat([all_time_deltas_wseg, curr_bird_time_delta])\n",
    "\n",
    "#add time delta column \n",
    "all_time_deltas_wseg['time_delta'] = all_time_deltas_wseg.True_feat_times - all_time_deltas_wseg.seg_matched_times"
   ]
  },
  {
   "cell_type": "markdown",
   "metadata": {},
   "source": [
    "## Merge Time Deltas"
   ]
  },
  {
   "cell_type": "code",
   "execution_count": 66,
   "metadata": {},
   "outputs": [],
   "source": [
    "all_time_deltas_Tweety['Segmentation Method'] = \"TweetyNet\"\n",
    "all_time_deltas_RMSE['Segmentation Method'] = \"Amplitude Threshold\" \n",
    "all_time_deltas_wseg['Segmentation Method'] = \"WhisperSeg\""
   ]
  },
  {
   "cell_type": "code",
   "execution_count": 67,
   "metadata": {},
   "outputs": [],
   "source": [
    "all_time_deltas = pd.concat([all_time_deltas_Tweety, all_time_deltas_RMSE, all_time_deltas_wseg])"
   ]
  },
  {
   "cell_type": "code",
   "execution_count": 68,
   "metadata": {},
   "outputs": [],
   "source": [
    "all_time_deltas['time_delta'] = all_time_deltas.time_delta * 1000"
   ]
  },
  {
   "cell_type": "code",
   "execution_count": 69,
   "metadata": {},
   "outputs": [],
   "source": [
    "plt.rcParams.update({'font.size': 11})"
   ]
  },
  {
   "cell_type": "code",
   "execution_count": 76,
   "metadata": {},
   "outputs": [
    {
     "data": {
      "image/png": "[encoded data removed]",
      "text/plain": [
       "<Figure size 504x288 with 1 Axes>"
      ]
     },
     "metadata": {
      "needs_background": "light"
     },
     "output_type": "display_data"
    }
   ],
   "source": [
    "plt.figure(figsize = (7, 4))\n",
    "sns.kdeplot(data = all_time_deltas.reset_index(), x = 'time_delta', hue = 'Segmentation Method', common_norm = False, fill = True)\n",
    "plt.axvline(x = 0, color = 'red', linestyle = '--')\n",
    "plt.xlim(-50, 50)\n",
    "plt.xlabel(\"Time Difference (ms)\")\n",
    "plt.title(\"Syllable Offset Time Differences \\nBetween Manual and Automatic Segmentations\");"
   ]
  },
  {
   "cell_type": "code",
   "execution_count": 72,
   "metadata": {},
   "outputs": [],
   "source": [
    "all_time_deltas['abs_delta'] = np.abs(all_time_deltas.time_delta)"
   ]
  },
  {
   "cell_type": "code",
   "execution_count": 74,
   "metadata": {},
   "outputs": [
    {
     "data": {
      "text/html": [
       "<div>\n",
       "<style scoped>\n",
       "    .dataframe tbody tr th:only-of-type {\n",
       "        vertical-align: middle;\n",
       "    }\n",
       "\n",
       "    .dataframe tbody tr th {\n",
       "        vertical-align: top;\n",
       "    }\n",
       "\n",
       "    .dataframe thead th {\n",
       "        text-align: right;\n",
       "    }\n",
       "</style>\n",
       "<table border=\"1\" class=\"dataframe\">\n",
       "  <thead>\n",
       "    <tr style=\"text-align: right;\">\n",
       "      <th></th>\n",
       "      <th>True_feat_times</th>\n",
       "      <th>index_of_match</th>\n",
       "      <th>seg_matched_times</th>\n",
       "      <th>time_delta</th>\n",
       "      <th>abs_delta</th>\n",
       "    </tr>\n",
       "    <tr>\n",
       "      <th>Segmentation Method</th>\n",
       "      <th></th>\n",
       "      <th></th>\n",
       "      <th></th>\n",
       "      <th></th>\n",
       "      <th></th>\n",
       "    </tr>\n",
       "  </thead>\n",
       "  <tbody>\n",
       "    <tr>\n",
       "      <th>Amplitude Threshold</th>\n",
       "      <td>6.254579</td>\n",
       "      <td>28.736407</td>\n",
       "      <td>6.022939</td>\n",
       "      <td>-12.105330</td>\n",
       "      <td>32.583166</td>\n",
       "    </tr>\n",
       "    <tr>\n",
       "      <th>TweetyNet</th>\n",
       "      <td>6.254579</td>\n",
       "      <td>22.067945</td>\n",
       "      <td>6.170419</td>\n",
       "      <td>0.613248</td>\n",
       "      <td>7.324591</td>\n",
       "    </tr>\n",
       "    <tr>\n",
       "      <th>WhisperSeg</th>\n",
       "      <td>6.256277</td>\n",
       "      <td>17.735438</td>\n",
       "      <td>5.910703</td>\n",
       "      <td>-12.622435</td>\n",
       "      <td>12.963650</td>\n",
       "    </tr>\n",
       "  </tbody>\n",
       "</table>\n",
       "</div>"
      ],
      "text/plain": [
       "                     True_feat_times  index_of_match  seg_matched_times  \\\n",
       "Segmentation Method                                                       \n",
       "Amplitude Threshold         6.254579       28.736407           6.022939   \n",
       "TweetyNet                   6.254579       22.067945           6.170419   \n",
       "WhisperSeg                  6.256277       17.735438           5.910703   \n",
       "\n",
       "                     time_delta  abs_delta  \n",
       "Segmentation Method                         \n",
       "Amplitude Threshold  -12.105330  32.583166  \n",
       "TweetyNet              0.613248   7.324591  \n",
       "WhisperSeg           -12.622435  12.963650  "
      ]
     },
     "execution_count": 74,
     "metadata": {},
     "output_type": "execute_result"
    }
   ],
   "source": [
    "all_time_deltas.groupby('Segmentation Method').mean()"
   ]
  },
  {
   "cell_type": "code",
   "execution_count": 75,
   "metadata": {},
   "outputs": [
    {
     "name": "stdout",
     "output_type": "stream",
     "text": [
      "0.03409458310495717\n",
      "0.0352863088071408\n",
      "0.06962750872126879\n"
     ]
    }
   ],
   "source": [
    "from scipy.stats import sem\n",
    "print(sem(all_time_deltas[all_time_deltas['Segmentation Method'] == 'WhisperSeg'].abs_delta, nan_policy= 'omit'))\n",
    "print(sem(all_time_deltas[all_time_deltas['Segmentation Method'] == 'TweetyNet'].abs_delta, nan_policy= 'omit'))\n",
    "print(sem(all_time_deltas[all_time_deltas['Segmentation Method'] == 'Amplitude Threshold'].abs_delta, nan_policy= 'omit'))"
   ]
  },
  {
   "cell_type": "code",
   "execution_count": null,
   "metadata": {},
   "outputs": [],
   "source": []
  }
 ],
 "metadata": {
  "kernelspec": {
   "display_name": "avn_py38",
   "language": "python",
   "name": "python3"
  },
  "language_info": {
   "codemirror_mode": {
    "name": "ipython",
    "version": 3
   },
   "file_extension": ".py",
   "mimetype": "text/x-python",
   "name": "python",
   "nbconvert_exporter": "python",
   "pygments_lexer": "ipython3",
   "version": "3.8.12"
  }
 },
 "nbformat": 4,
 "nbformat_minor": 2
}
