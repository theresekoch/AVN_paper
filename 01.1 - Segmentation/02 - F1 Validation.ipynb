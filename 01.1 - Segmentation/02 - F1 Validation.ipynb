{
 "cells": [
  {
   "cell_type": "markdown",
   "metadata": {},
   "source": [
    "# 02 - Segmentation Validation"
   ]
  },
  {
   "cell_type": "markdown",
   "metadata": {},
   "source": [
    "## Imports"
   ]
  },
  {
   "cell_type": "code",
   "execution_count": 2,
   "metadata": {},
   "outputs": [],
   "source": [
    "import numpy as np\n",
    "import pandas as pd\n",
    "import librosa\n",
    "import matplotlib.pyplot as plt\n",
    "import avn.dataloading as dataloading\n",
    "import avn.segmentation as segmentation\n",
    "import avn.plotting\n",
    "import math\n",
    "import sklearn\n",
    "import seaborn as sns"
   ]
  },
  {
   "cell_type": "code",
   "execution_count": 3,
   "metadata": {},
   "outputs": [],
   "source": [
    "def vak_to_syll_table(prediction_results):\n",
    "  prediction_syllables = prediction_results[prediction_results['label'] == \"s\"]\n",
    "  prediction_syll_reformat = pd.DataFrame()\n",
    "  prediction_syll_reformat[\"files\"] = prediction_syllables['audio_file']\n",
    "  prediction_syll_reformat['onsets'] = prediction_syllables['onset_s']\n",
    "  prediction_syll_reformat['offsets'] = prediction_syllables['offset_s']\n",
    "\n",
    "  return prediction_syll_reformat"
   ]
  },
  {
   "cell_type": "code",
   "execution_count": 4,
   "metadata": {},
   "outputs": [],
   "source": [
    "from scipy.io import wavfile\n",
    "import librosa\n",
    "import re\n",
    "import scipy.signal\n",
    "import pandas as pd\n",
    "class SongFile:\n",
    "    \"\"\"\n",
    "    Data and metadata pertaining to a single audio file.\n",
    "    \n",
    "    \n",
    "    Attributes\n",
    "    ----------\n",
    "    data: ndarray\n",
    "        Contains audio data of wavfile. \n",
    "    \n",
    "    sample_rate: int\n",
    "        Sample rate of song data. Based on native sample rate of wavfile.\n",
    "    \n",
    "    duration: float\n",
    "        Duration of the audio file in seconds. \n",
    "    \n",
    "    file_path: str\n",
    "        Path to the local .wav file used to instantiate the SongFile object.\n",
    "    \n",
    "    Methods\n",
    "    -------\n",
    "    bandpass_filter(lower_cutoff, upper_cutoff)\n",
    "        Applies a hamming window bandpass filter to the audio data. \n",
    "    \n",
    "    \"\"\"\n",
    "    def __init__(self, file_path):\n",
    "        \"\"\"\n",
    "        Parameters\n",
    "        ----------\n",
    "        file_path : str\n",
    "            Path to the local .wav file to be loaded as a SongFile object.\n",
    "             \n",
    "        \"\"\"\n",
    "        self.sample_rate, self.data = wavfile.read(file_path)\n",
    "        self.data = self.data.astype(float)\n",
    "        self.duration = librosa.get_duration(y = self.data, sr = self.sample_rate)\n",
    "        self.file_path = file_path\n",
    "        \n",
    "        #get file name -- This may be windows specific. \n",
    "        file_name_regex = re.compile(\"\\\\\\\\\")\n",
    "        self.file_name = file_name_regex.split(self.file_path)[-1]\n",
    "                                                  \n",
    "    def bandpass_filter(self, lower_cutoff, upper_cutoff):\n",
    "        \"\"\"\n",
    "        Applies a hamming window bandpass filter to the audio data.\n",
    "\n",
    "        Parameters\n",
    "        ----------\n",
    "        lower_cutoff : int\n",
    "            Lower cutoff frequency in Hz for the filter. \n",
    "        upper_cutoff : int\n",
    "            Upper cutoff frequency in Hz for the filter. \n",
    "\n",
    "        Returns\n",
    "        -------\n",
    "        None.\n",
    "\n",
    "        \"\"\"\n",
    "        #create hamming window filter\n",
    "        filter_bandpass = scipy.signal.firwin(101, cutoff = [lower_cutoff, upper_cutoff], \n",
    "                                              fs = self.sample_rate, \n",
    "                                              pass_zero = False)\n",
    "        #apply filter to audio data\n",
    "        self.data = scipy.signal.lfilter(filter_bandpass, [1.0], self.data)"
   ]
  },
  {
   "cell_type": "code",
   "execution_count": 5,
   "metadata": {},
   "outputs": [],
   "source": [
    "dataloading.SongFile = SongFile"
   ]
  },
  {
   "cell_type": "code",
   "execution_count": 6,
   "metadata": {},
   "outputs": [],
   "source": [
    "def make_spec(syll_wav, hop_length, win_length, n_fft, amin, ref_db, min_level_db):\n",
    "    spectrogram = librosa.stft(syll_wav, hop_length = hop_length, win_length = win_length, n_fft = n_fft)\n",
    "    spectrogram_db = librosa.amplitude_to_db(np.abs(spectrogram), amin = amin, ref = ref_db)\n",
    "    \n",
    "    #normalize\n",
    "    S_norm = np.clip((spectrogram_db - min_level_db) / -min_level_db, 0, 1)\n",
    "    \n",
    "    return S_norm\n",
    "def clean_syll_table(syll_table): \n",
    "  '''\n",
    "  Reformats syll tables imported from evsonganaly so that they are compatible\n",
    "  with python generated ones\n",
    "\n",
    "  Inputs\n",
    "  ----\n",
    "  syll_table: Pandas Dataframe, imported from a csv containing evsonganaly \n",
    "  segmentation and labeling info\n",
    "\n",
    "  Outputs\n",
    "  ----\n",
    "  syll_table: Pandas Dataframe, now with corrected file names and timestamps in seconds\n",
    "\n",
    "  Notes\n",
    "  -----\n",
    "  This function specifically removes .not.mat file extensions from the file names\n",
    "  so that they are simply .wav and can be compared to file names in the MFCC\n",
    "  segmentation generated syllable tables. It also converts the timestamps of \n",
    "  onsets and offsets from miliseconds to seconds, again so that it is consistent\n",
    "  with the MFCC resuls\n",
    "  ''' \n",
    "\n",
    "  syll_table['onsets'] = syll_table['onsets'] / 1000\n",
    "  syll_table['offsets'] = syll_table['offsets'] / 1000\n",
    "\n",
    "  syll_table['files'] = syll_table['files'].str.split('.not', 1).str[0]\n",
    "\n",
    "  return syll_table\n",
    "def plot_confusion_matrix(all_matches):\n",
    "  temp_df = pd.DataFrame({\"hand_labels\": all_matches.hand_label, \n",
    "                          \"clusters\": all_matches.hdbscan_labels})\n",
    "  conf_mat = pd.crosstab(temp_df.hand_labels, temp_df.clusters)\n",
    "  conf_mat = conf_mat.div(conf_mat.sum(axis = 1), axis = 0) * 100\n",
    "\n",
    "  plt.figure(figsize = (8,6))\n",
    "  sns.heatmap(conf_mat, annot = True, fmt='.0f')\n",
    "def merge_hdbscan_hand_dfs(hdbscan_df, hand_df):\n",
    "  \n",
    "  all_matches = pd.DataFrame()\n",
    "\n",
    "  for song_file in hdbscan_df.files.unique():\n",
    "    hdbscan_file = hdbscan_df[hdbscan_df.files == song_file]\n",
    "    hdbscan_file = hdbscan_file.reset_index(drop = True)\n",
    "    hand_file = hand_df[hand_df.files == song_file]\n",
    "\n",
    "    if hand_file.shape[0] != 0:\n",
    "      hand_onsets = hand_file.onsets\n",
    "      hdbscan_onsets = hdbscan_file.onsets\n",
    "      best_matches = get_best_matches(hand_onsets, hdbscan_onsets, max_gap = 0.1)\n",
    "      matches_file = pd.DataFrame({\"files\" : song_file,\n",
    "                                 \"best_match\" : best_matches.astype(int), \n",
    "                                 \"hand_onset\" : hand_file.onsets, \n",
    "                                 \"hand_offset\" : hand_file.offsets, \n",
    "                                 \"hand_label\" : hand_file.labels})\n",
    "      matches_file = matches_file.merge(right = hdbscan_file, \n",
    "                                        left_on = 'best_match', \n",
    "                                        how = 'outer', \n",
    "                                        right_index = True)\n",
    "    all_matches = all_matches.append(matches_file)\n",
    "\n",
    "  return all_matches\n",
    "\n",
    "def get_best_matches(first_onsets, second_onsets, max_gap = 0.1):\n",
    "  '''\n",
    "  Finds the best unique matches between timestamps in two sets, calcuated in different\n",
    "  ways on the same file. These can reflect syllable onset or offset timestamps, \n",
    "  although I refer to them only as onsets for simplicity. \n",
    "\n",
    "  Inputs\n",
    "  ------\n",
    "  first_onsets: Pandas Series, Contains the timestamps in seconds of syllable onsets\n",
    "  calculated with a particular method. \n",
    "\n",
    "  second_onsets: Pandas Seris, Contains the timestamps in seconds of syllable onsets\n",
    "  calculated with a different method. \n",
    "\n",
    "  max_gap: int > 0, optional, maximum allowable time difference  in seconds \n",
    "  between onsets where they will still be considered a match.\n",
    "\n",
    "  Outputs\n",
    "  -------\n",
    "  best_matches: numpy array, 1D, For every syllable onset in `first_onsets` it \n",
    "  contains the index of the best unique match in `second_onsets`. If there is \n",
    "  no unique match within the allowable `max_gap`, the value of the match is \n",
    "  `NaN`. \n",
    "  '''\n",
    "  first_grid, second_grid = np.meshgrid(first_onsets, second_onsets)\n",
    "  delta_t_grid = abs(first_grid - second_grid)\n",
    "\n",
    "  #set max gap threshold\n",
    "  delta_t_grid = np.where(delta_t_grid > max_gap, np.inf, delta_t_grid)\n",
    "\n",
    "  if delta_t_grid.shape[0] == 0:\n",
    "    best_matches = np.array([])\n",
    "    return best_matches ############################################################################test\n",
    "\n",
    "  #find best matches\n",
    "  best_matches = np.argmin(delta_t_grid, axis = 0).astype(float)\n",
    "\n",
    "  #remove matches were delta t is > max_gap\n",
    "  for i, match_index in enumerate(best_matches):\n",
    "    if np.isinf(delta_t_grid[int(match_index), i]):\n",
    "      best_matches[i] = np.NaN \n",
    "\n",
    "  best_matches_previous = best_matches.copy()   \n",
    "\n",
    "  #Deal with duplicate values by setting the second best matches to their second best pairs\n",
    "  best_matches, delta_t_grid = correct_duplicates(best_matches, delta_t_grid)\n",
    "\n",
    "  #check if there were changes made by checking for duplicates. If so, repeat duplicate check.\n",
    "  if not np.allclose(best_matches, best_matches_previous):\n",
    "    best_matches, delta_t_grid = correct_duplicates(best_matches, delta_t_grid)\n",
    "\n",
    "  #make sure duplicate corrections didn't result in out of order matches. \n",
    "  for i, curr_match in enumerate(best_matches):\n",
    "     if i+1 < len(best_matches):\n",
    "       if curr_match > best_matches[i+1]:\n",
    "         best_matches[i+1] = np.nan\n",
    "\n",
    "  return best_matches\n",
    "def correct_duplicates(best_matches, delta_t_grid):\n",
    "  '''\n",
    "  Finds any duplicate matches in the set of best matches, removes duplicates\n",
    "  by setting all but best match to their second best match. \n",
    "\n",
    "  Inputs\n",
    "  -----\n",
    "  best_matches: numpy array, 1D, contains indices of onsets in one set which best \n",
    "  match the onsets in another set. \n",
    "\n",
    "  delta_t_grid: numpy array, 2D, contains all the absolute value time differences\n",
    "  between all possible pairs of onsets in two sets being compared.\n",
    "\n",
    "  Outputs\n",
    "  -----\n",
    "  best_matches: numpy array, 1D. Same as input, but with duplicate matches corrected\n",
    "\n",
    "  delta_t_grid: numpy array, 2D. Same as input, but with values at duplicated \n",
    "  positions adjusted to allow finding second best match. \n",
    "\n",
    "\n",
    "  '''\n",
    "  for i, match_index in enumerate(best_matches):\n",
    "    if np.isnan(match_index):\n",
    "      continue\n",
    "    #check if match index is duplicated\n",
    "    if len(np.argwhere(best_matches == match_index)) > 1: \n",
    "      #create list of indices of duplicates\n",
    "      duplicates = np.nonzero(best_matches == match_index)[0]\n",
    "      #find which duplicate has the smallest delta t\n",
    "      delta_ts = []\n",
    "      for n in duplicates:\n",
    "        delta_ts.append(delta_t_grid[int(best_matches[n]), n])\n",
    "\n",
    "      #get all but the best matches of the duplicates\n",
    "      bad_matches = np.delete(duplicates, np.argmin(delta_ts))\n",
    "\n",
    "      #find second best matches for all but the best duplicate matches\n",
    "\n",
    "      for bad_match in bad_matches:\n",
    "        delta_t_grid[int(best_matches[bad_match]), bad_match] = np.inf\n",
    "        best_matches[bad_match] = np.argmin(delta_t_grid[:, bad_match])\n",
    "        if np.isinf(np.min(delta_t_grid[:, bad_match])):\n",
    "          best_matches[bad_match] = np.NaN\n",
    "  return (best_matches, delta_t_grid)\n",
    "def remove_nas_from_merge(all_matches, fill_char = 'x', fill_int = 1000):\n",
    "  \n",
    "  all_matches.hand_label = all_matches.hand_label.fillna(fill_char)\n",
    "  all_matches.hdbscan_labels = all_matches.hdbscan_labels.fillna(fill_int)\n",
    "\n",
    "  return all_matches"
   ]
  },
  {
   "cell_type": "markdown",
   "metadata": {},
   "source": [
    "## Get List of Birds"
   ]
  },
  {
   "cell_type": "code",
   "execution_count": 7,
   "metadata": {},
   "outputs": [
    {
     "data": {
      "text/plain": [
       "36"
      ]
     },
     "execution_count": 7,
     "metadata": {},
     "output_type": "execute_result"
    }
   ],
   "source": [
    "All_Birds = [\"B145\", \"B236\", \"B258\", \"B385\", \"B402\", \"B447\", \n",
    "             \"B507\", \"G255\", \"G397\", \"G402\", \"G413\", \"G437\", \n",
    "             \"G439\", \"G524\", \"G528\", \"O144\", \"O254\", \"O421\", \n",
    "             \"O440\", \"O512\", \"R402\", \"R425\", \"R469\", \"S132\", \n",
    "             \"S421\", \"S525\", \"S528\", \"Y389\", \"Y397\", \"Y425\", \n",
    "             \"Y440\", \"B524\", \"O434\", \"S389\", \"Y433\", \"Y453\"] \n",
    "\n",
    "#All_Birds should contain 36 bird IDs. Check: \n",
    "len(All_Birds)"
   ]
  },
  {
   "cell_type": "markdown",
   "metadata": {},
   "source": [
    "# Onsets"
   ]
  },
  {
   "cell_type": "markdown",
   "metadata": {},
   "source": [
    "## Calc F1 Scores"
   ]
  },
  {
   "cell_type": "code",
   "execution_count": 7,
   "metadata": {},
   "outputs": [],
   "source": [
    "all_seg_metrics = pd.DataFrame()\n",
    "for Bird_ID in All_Birds[:]:\n",
    "\n",
    "    #load whisperseg segmentation and reformat so it's consistent with avn\n",
    "    wseg_segmentations = pd.read_csv('E:\\\\Final_Bird_Dataset\\\\WhisperSeg_Segmentation\\\\' + Bird_ID + \"_wseg.csv\")\n",
    "    wseg_segmentations = wseg_segmentations.drop(columns = ['Unnamed: 0', 'cluster'])\n",
    "    wseg_segmentations = wseg_segmentations.rename(columns = {'onset' : 'onsets', \n",
    "                                                            'offset' : 'offsets', \n",
    "                                                            'file' : 'files'})\n",
    "    \n",
    "    #create seg data object. This is necessary for the F1 calculation\n",
    "    seg_data = segmentation.SegData(Bird_ID, wseg_segmentations)\n",
    "    #load ground truth segmentation and add to seg_data object\n",
    "    ground_truth_path = 'C:/Grad_School/Code_and_software/Py_code/March_2021_redo/redo_data/segmented_songs/' + Bird_ID + '/' + Bird_ID + '_syll_table.csv'\n",
    "    seg_data = dataloading.Utils.add_ev_song_truth_table(seg_data, ground_truth_path)\n",
    "\n",
    "    #drop any files that aren't in the true seg table as they will cause errors\n",
    "    to_drop = set(seg_data.seg_table.files.unique()) - set(seg_data.true_seg_table.files.unique())\n",
    "    seg_data.seg_table = seg_data.seg_table[~seg_data.seg_table.files.isin(to_drop)]\n",
    "\n",
    "    #calculate F1 score for whisperSeg\n",
    "    seg_data = segmentation.Metrics.calc_F1(seg_data, max_gap = 0.05)\n",
    "    curr_seg_metrics = seg_data.seg_metrics\n",
    "    #add to df with all seg metrics\n",
    "    curr_seg_metrics['Bird_ID'] = Bird_ID\n",
    "    curr_seg_metrics['max_gap'] = 0.05\n",
    "    curr_seg_metrics['method'] = 'whisper_seg'\n",
    "    all_seg_metrics = pd.concat([all_seg_metrics, curr_seg_metrics])\n",
    "\n",
    "    #calculate F1 score for whisperSeg\n",
    "    seg_data = segmentation.Metrics.calc_F1(seg_data, max_gap = 0.01)\n",
    "    curr_seg_metrics = seg_data.seg_metrics\n",
    "    #add to df with all seg metrics\n",
    "    curr_seg_metrics['Bird_ID'] = Bird_ID\n",
    "    curr_seg_metrics['max_gap'] = 0.01\n",
    "    curr_seg_metrics['method'] = 'whisper_seg'\n",
    "    all_seg_metrics = pd.concat([all_seg_metrics, curr_seg_metrics])\n",
    "\n",
    "    #load tweetynet segmentations\n",
    "    tweety_segs = pd.read_csv('E:\\\\Final_Bird_Dataset\\\\Old_Tweety_Segmentation\\\\' + Bird_ID + '.annot.csv')\n",
    "    tweety_segs = vak_to_syll_table(tweety_segs)\n",
    "\n",
    "    #create seg data object. This is necessary for the F1 calculation\n",
    "    seg_data = segmentation.SegData(Bird_ID, tweety_segs)\n",
    "    seg_data = dataloading.Utils.add_ev_song_truth_table(seg_data, ground_truth_path)\n",
    "\n",
    "    #calculate F1 score for Tweetynet\n",
    "    seg_data = segmentation.Metrics.calc_F1(seg_data, max_gap = 0.05)\n",
    "    curr_seg_metrics = seg_data.seg_metrics\n",
    "    #add to df with all seg metrics\n",
    "    curr_seg_metrics['Bird_ID'] = Bird_ID\n",
    "    curr_seg_metrics['max_gap'] = 0.05\n",
    "    curr_seg_metrics['method'] = 'Tweety_net'\n",
    "    all_seg_metrics = pd.concat([all_seg_metrics, curr_seg_metrics])\n",
    "\n",
    "    #calculate F1 score for whisperSeg\n",
    "    seg_data = segmentation.Metrics.calc_F1(seg_data, max_gap = 0.01)\n",
    "    curr_seg_metrics = seg_data.seg_metrics\n",
    "    #add to df with all seg metrics\n",
    "    curr_seg_metrics['Bird_ID'] = Bird_ID\n",
    "    curr_seg_metrics['max_gap'] = 0.01\n",
    "    curr_seg_metrics['method'] = 'Tweety_net'\n",
    "    all_seg_metrics = pd.concat([all_seg_metrics, curr_seg_metrics])\n",
    "\n"
   ]
  },
  {
   "cell_type": "code",
   "execution_count": 8,
   "metadata": {},
   "outputs": [
    {
     "data": {
      "text/html": [
       "<div>\n",
       "<style scoped>\n",
       "    .dataframe tbody tr th:only-of-type {\n",
       "        vertical-align: middle;\n",
       "    }\n",
       "\n",
       "    .dataframe tbody tr th {\n",
       "        vertical-align: top;\n",
       "    }\n",
       "\n",
       "    .dataframe thead th {\n",
       "        text-align: right;\n",
       "    }\n",
       "</style>\n",
       "<table border=\"1\" class=\"dataframe\">\n",
       "  <thead>\n",
       "    <tr style=\"text-align: right;\">\n",
       "      <th></th>\n",
       "      <th>F1</th>\n",
       "      <th>precision</th>\n",
       "      <th>recall</th>\n",
       "      <th>Bird_ID</th>\n",
       "      <th>max_gap</th>\n",
       "      <th>method</th>\n",
       "    </tr>\n",
       "  </thead>\n",
       "  <tbody>\n",
       "    <tr>\n",
       "      <th>0</th>\n",
       "      <td>0.918782</td>\n",
       "      <td>1.000000</td>\n",
       "      <td>0.849765</td>\n",
       "      <td>B145</td>\n",
       "      <td>0.05</td>\n",
       "      <td>whisper_seg</td>\n",
       "    </tr>\n",
       "    <tr>\n",
       "      <th>0</th>\n",
       "      <td>0.860104</td>\n",
       "      <td>0.954023</td>\n",
       "      <td>0.783019</td>\n",
       "      <td>B145</td>\n",
       "      <td>0.01</td>\n",
       "      <td>whisper_seg</td>\n",
       "    </tr>\n",
       "    <tr>\n",
       "      <th>0</th>\n",
       "      <td>0.838174</td>\n",
       "      <td>0.831276</td>\n",
       "      <td>0.845188</td>\n",
       "      <td>B145</td>\n",
       "      <td>0.05</td>\n",
       "      <td>Tweety_net</td>\n",
       "    </tr>\n",
       "    <tr>\n",
       "      <th>0</th>\n",
       "      <td>0.699739</td>\n",
       "      <td>0.761364</td>\n",
       "      <td>0.647343</td>\n",
       "      <td>B145</td>\n",
       "      <td>0.01</td>\n",
       "      <td>Tweety_net</td>\n",
       "    </tr>\n",
       "    <tr>\n",
       "      <th>0</th>\n",
       "      <td>0.937974</td>\n",
       "      <td>0.988711</td>\n",
       "      <td>0.892190</td>\n",
       "      <td>B236</td>\n",
       "      <td>0.05</td>\n",
       "      <td>whisper_seg</td>\n",
       "    </tr>\n",
       "    <tr>\n",
       "      <th>...</th>\n",
       "      <td>...</td>\n",
       "      <td>...</td>\n",
       "      <td>...</td>\n",
       "      <td>...</td>\n",
       "      <td>...</td>\n",
       "      <td>...</td>\n",
       "    </tr>\n",
       "    <tr>\n",
       "      <th>0</th>\n",
       "      <td>0.984900</td>\n",
       "      <td>0.985811</td>\n",
       "      <td>0.983990</td>\n",
       "      <td>Y433</td>\n",
       "      <td>0.01</td>\n",
       "      <td>Tweety_net</td>\n",
       "    </tr>\n",
       "    <tr>\n",
       "      <th>0</th>\n",
       "      <td>0.973851</td>\n",
       "      <td>0.998958</td>\n",
       "      <td>0.949975</td>\n",
       "      <td>Y453</td>\n",
       "      <td>0.05</td>\n",
       "      <td>whisper_seg</td>\n",
       "    </tr>\n",
       "    <tr>\n",
       "      <th>0</th>\n",
       "      <td>0.941086</td>\n",
       "      <td>0.970542</td>\n",
       "      <td>0.913366</td>\n",
       "      <td>Y453</td>\n",
       "      <td>0.01</td>\n",
       "      <td>whisper_seg</td>\n",
       "    </tr>\n",
       "    <tr>\n",
       "      <th>0</th>\n",
       "      <td>0.974070</td>\n",
       "      <td>0.970746</td>\n",
       "      <td>0.977418</td>\n",
       "      <td>Y453</td>\n",
       "      <td>0.05</td>\n",
       "      <td>Tweety_net</td>\n",
       "    </tr>\n",
       "    <tr>\n",
       "      <th>0</th>\n",
       "      <td>0.952475</td>\n",
       "      <td>0.949902</td>\n",
       "      <td>0.955062</td>\n",
       "      <td>Y453</td>\n",
       "      <td>0.01</td>\n",
       "      <td>Tweety_net</td>\n",
       "    </tr>\n",
       "  </tbody>\n",
       "</table>\n",
       "<p>144 rows × 6 columns</p>\n",
       "</div>"
      ],
      "text/plain": [
       "          F1  precision    recall Bird_ID  max_gap       method\n",
       "0   0.918782   1.000000  0.849765    B145     0.05  whisper_seg\n",
       "0   0.860104   0.954023  0.783019    B145     0.01  whisper_seg\n",
       "0   0.838174   0.831276  0.845188    B145     0.05   Tweety_net\n",
       "0   0.699739   0.761364  0.647343    B145     0.01   Tweety_net\n",
       "0   0.937974   0.988711  0.892190    B236     0.05  whisper_seg\n",
       "..       ...        ...       ...     ...      ...          ...\n",
       "0   0.984900   0.985811  0.983990    Y433     0.01   Tweety_net\n",
       "0   0.973851   0.998958  0.949975    Y453     0.05  whisper_seg\n",
       "0   0.941086   0.970542  0.913366    Y453     0.01  whisper_seg\n",
       "0   0.974070   0.970746  0.977418    Y453     0.05   Tweety_net\n",
       "0   0.952475   0.949902  0.955062    Y453     0.01   Tweety_net\n",
       "\n",
       "[144 rows x 6 columns]"
      ]
     },
     "execution_count": 8,
     "metadata": {},
     "output_type": "execute_result"
    }
   ],
   "source": [
    "all_seg_metrics"
   ]
  },
  {
   "cell_type": "markdown",
   "metadata": {},
   "source": [
    "## Get RMSE segmentation metrics"
   ]
  },
  {
   "cell_type": "code",
   "execution_count": 9,
   "metadata": {},
   "outputs": [
    {
     "name": "stdout",
     "output_type": "stream",
     "text": [
      "Bird: 0/36\n",
      "Bird: 1/36\n",
      "Bird: 2/36\n",
      "Bird: 3/36\n",
      "Bird: 4/36\n",
      "Bird: 5/36\n",
      "Bird: 6/36\n",
      "Bird: 7/36\n",
      "Bird: 8/36\n",
      "Bird: 9/36\n",
      "Bird: 10/36\n",
      "Bird: 11/36\n",
      "Bird: 12/36\n",
      "Bird: 13/36\n",
      "Bird: 14/36\n",
      "Bird: 15/36\n",
      "Bird: 16/36\n",
      "Bird: 17/36\n",
      "Bird: 18/36\n",
      "Bird: 19/36\n",
      "Bird: 20/36\n",
      "Bird: 21/36\n",
      "Bird: 22/36\n",
      "Bird: 23/36\n",
      "Bird: 24/36\n",
      "Bird: 25/36\n",
      "Bird: 26/36\n",
      "Bird: 27/36\n",
      "Bird: 28/36\n",
      "Bird: 29/36\n",
      "Bird: 30/36\n",
      "Bird: 31/36\n",
      "Bird: 32/36\n",
      "Bird: 33/36\n",
      "Bird: 34/36\n",
      "Bird: 35/36\n"
     ]
    }
   ],
   "source": [
    "all_F1s = pd.DataFrame()\n",
    "\n",
    "for i, Bird_ID in enumerate(All_Birds):\n",
    "    print(\"Bird: \" + str(i) + \"/\" + str(len(All_Birds)))\n",
    "    \n",
    "    song_folder = \"C:/Grad_School/Code_and_software/Py_code/March_2021_redo/redo_data/segmented_songs/\"+ Bird_ID + \"/\"\n",
    "    ground_truth_path = \"C:/Grad_School/Code_and_software/Py_code/March_2021_redo/redo_data/segmented_songs/\" + Bird_ID + \"/\" + Bird_ID + \"_syll_table.csv\"\n",
    "    \n",
    "    #do MFCC Segmentation\n",
    "    segmenter = segmentation.RMSEDerivative()\n",
    "    seg_data = segmenter.make_segmentation_table(Bird_ID, song_folder,\n",
    "                                                 upper_threshold = 0.006, \n",
    "                                                 lower_threshold = -0.1)\n",
    "    \n",
    "    #Add ground truth data\n",
    "    seg_data = dataloading.Utils.add_ev_song_truth_table(seg_data, ground_truth_path)\n",
    "\n",
    "    seg_data = segmentation.Metrics.calc_F1(seg_data, max_gap = 0.01)\n",
    "    \n",
    "    seg_metrics = seg_data.seg_metrics\n",
    "    seg_metrics[\"Bird_ID\"] = [Bird_ID]\n",
    "    all_F1s = all_F1s.append(seg_metrics)\n"
   ]
  },
  {
   "cell_type": "code",
   "execution_count": 10,
   "metadata": {},
   "outputs": [],
   "source": [
    "all_F1s['method'] = 'RMSE'\n",
    "all_F1s['max_gap'] = 0.01"
   ]
  },
  {
   "cell_type": "code",
   "execution_count": 11,
   "metadata": {},
   "outputs": [],
   "source": [
    "all_seg_metrics = pd.concat([all_seg_metrics, all_F1s])"
   ]
  },
  {
   "cell_type": "code",
   "execution_count": 12,
   "metadata": {},
   "outputs": [
    {
     "data": {
      "text/html": [
       "<div>\n",
       "<style scoped>\n",
       "    .dataframe tbody tr th:only-of-type {\n",
       "        vertical-align: middle;\n",
       "    }\n",
       "\n",
       "    .dataframe tbody tr th {\n",
       "        vertical-align: top;\n",
       "    }\n",
       "\n",
       "    .dataframe thead th {\n",
       "        text-align: right;\n",
       "    }\n",
       "</style>\n",
       "<table border=\"1\" class=\"dataframe\">\n",
       "  <thead>\n",
       "    <tr style=\"text-align: right;\">\n",
       "      <th></th>\n",
       "      <th>F1</th>\n",
       "      <th>precision</th>\n",
       "      <th>recall</th>\n",
       "      <th>Bird_ID</th>\n",
       "      <th>max_gap</th>\n",
       "      <th>method</th>\n",
       "    </tr>\n",
       "  </thead>\n",
       "  <tbody>\n",
       "    <tr>\n",
       "      <th>0</th>\n",
       "      <td>0.918782</td>\n",
       "      <td>1.000000</td>\n",
       "      <td>0.849765</td>\n",
       "      <td>B145</td>\n",
       "      <td>0.05</td>\n",
       "      <td>whisper_seg</td>\n",
       "    </tr>\n",
       "    <tr>\n",
       "      <th>0</th>\n",
       "      <td>0.860104</td>\n",
       "      <td>0.954023</td>\n",
       "      <td>0.783019</td>\n",
       "      <td>B145</td>\n",
       "      <td>0.01</td>\n",
       "      <td>whisper_seg</td>\n",
       "    </tr>\n",
       "    <tr>\n",
       "      <th>0</th>\n",
       "      <td>0.838174</td>\n",
       "      <td>0.831276</td>\n",
       "      <td>0.845188</td>\n",
       "      <td>B145</td>\n",
       "      <td>0.05</td>\n",
       "      <td>Tweety_net</td>\n",
       "    </tr>\n",
       "    <tr>\n",
       "      <th>0</th>\n",
       "      <td>0.699739</td>\n",
       "      <td>0.761364</td>\n",
       "      <td>0.647343</td>\n",
       "      <td>B145</td>\n",
       "      <td>0.01</td>\n",
       "      <td>Tweety_net</td>\n",
       "    </tr>\n",
       "    <tr>\n",
       "      <th>0</th>\n",
       "      <td>0.937974</td>\n",
       "      <td>0.988711</td>\n",
       "      <td>0.892190</td>\n",
       "      <td>B236</td>\n",
       "      <td>0.05</td>\n",
       "      <td>whisper_seg</td>\n",
       "    </tr>\n",
       "    <tr>\n",
       "      <th>...</th>\n",
       "      <td>...</td>\n",
       "      <td>...</td>\n",
       "      <td>...</td>\n",
       "      <td>...</td>\n",
       "      <td>...</td>\n",
       "      <td>...</td>\n",
       "    </tr>\n",
       "    <tr>\n",
       "      <th>0</th>\n",
       "      <td>0.716472</td>\n",
       "      <td>0.711986</td>\n",
       "      <td>0.721014</td>\n",
       "      <td>B524</td>\n",
       "      <td>0.01</td>\n",
       "      <td>RMSE</td>\n",
       "    </tr>\n",
       "    <tr>\n",
       "      <th>0</th>\n",
       "      <td>0.575041</td>\n",
       "      <td>0.530426</td>\n",
       "      <td>0.627851</td>\n",
       "      <td>O434</td>\n",
       "      <td>0.01</td>\n",
       "      <td>RMSE</td>\n",
       "    </tr>\n",
       "    <tr>\n",
       "      <th>0</th>\n",
       "      <td>0.799800</td>\n",
       "      <td>0.755913</td>\n",
       "      <td>0.849097</td>\n",
       "      <td>S389</td>\n",
       "      <td>0.01</td>\n",
       "      <td>RMSE</td>\n",
       "    </tr>\n",
       "    <tr>\n",
       "      <th>0</th>\n",
       "      <td>0.702111</td>\n",
       "      <td>0.601307</td>\n",
       "      <td>0.843521</td>\n",
       "      <td>Y433</td>\n",
       "      <td>0.01</td>\n",
       "      <td>RMSE</td>\n",
       "    </tr>\n",
       "    <tr>\n",
       "      <th>0</th>\n",
       "      <td>0.687355</td>\n",
       "      <td>0.601626</td>\n",
       "      <td>0.801576</td>\n",
       "      <td>Y453</td>\n",
       "      <td>0.01</td>\n",
       "      <td>RMSE</td>\n",
       "    </tr>\n",
       "  </tbody>\n",
       "</table>\n",
       "<p>180 rows × 6 columns</p>\n",
       "</div>"
      ],
      "text/plain": [
       "          F1  precision    recall Bird_ID  max_gap       method\n",
       "0   0.918782   1.000000  0.849765    B145     0.05  whisper_seg\n",
       "0   0.860104   0.954023  0.783019    B145     0.01  whisper_seg\n",
       "0   0.838174   0.831276  0.845188    B145     0.05   Tweety_net\n",
       "0   0.699739   0.761364  0.647343    B145     0.01   Tweety_net\n",
       "0   0.937974   0.988711  0.892190    B236     0.05  whisper_seg\n",
       "..       ...        ...       ...     ...      ...          ...\n",
       "0   0.716472   0.711986  0.721014    B524     0.01         RMSE\n",
       "0   0.575041   0.530426  0.627851    O434     0.01         RMSE\n",
       "0   0.799800   0.755913  0.849097    S389     0.01         RMSE\n",
       "0   0.702111   0.601307  0.843521    Y433     0.01         RMSE\n",
       "0   0.687355   0.601626  0.801576    Y453     0.01         RMSE\n",
       "\n",
       "[180 rows x 6 columns]"
      ]
     },
     "execution_count": 12,
     "metadata": {},
     "output_type": "execute_result"
    }
   ],
   "source": [
    "all_seg_metrics"
   ]
  },
  {
   "cell_type": "code",
   "execution_count": 13,
   "metadata": {},
   "outputs": [],
   "source": [
    "all_seg_metrics.to_csv('C:\\\\Grad_School\\\\Code_and_software\\\\Py_code\\\\WhisperSeg_validation\\\\wseg_RMSE_tweety_F1s.csv')"
   ]
  },
  {
   "cell_type": "markdown",
   "metadata": {},
   "source": [
    "## Plot F1 Scores"
   ]
  },
  {
   "cell_type": "code",
   "execution_count": 8,
   "metadata": {},
   "outputs": [],
   "source": [
    "all_seg_metrics = pd.read_csv('C:\\\\Grad_School\\\\Code_and_software\\\\Py_code\\\\WhisperSeg_validation\\\\wseg_RMSE_tweety_F1s.csv')"
   ]
  },
  {
   "cell_type": "code",
   "execution_count": 9,
   "metadata": {},
   "outputs": [],
   "source": [
    "all_birds = pd.read_csv(\"E:\\\\Final_Bird_Dataset\\\\old_Bird_list.csv\")\n",
    "all_seg_metrics = pd.merge(all_seg_metrics, all_birds[['Bird_ID', 'Condition']], on = 'Bird_ID')"
   ]
  },
  {
   "cell_type": "code",
   "execution_count": 18,
   "metadata": {},
   "outputs": [],
   "source": [
    "group_dict = {'Isolate' : 'Isolate', \n",
    "              'GFP' : 'Normal', \n",
    "              'FP1_KD_pre_tut' : 'FP1 KD', \n",
    "              'FP1_KD_post_tut' : 'Normal'}\n",
    "all_seg_metrics['Group'] = [group_dict[x] for x in all_seg_metrics.Condition]"
   ]
  },
  {
   "cell_type": "code",
   "execution_count": 10,
   "metadata": {},
   "outputs": [],
   "source": [
    "import seaborn as sns"
   ]
  },
  {
   "cell_type": "code",
   "execution_count": 11,
   "metadata": {},
   "outputs": [],
   "source": [
    "all_seg_metrics = all_seg_metrics[all_seg_metrics.max_gap == 0.01]"
   ]
  },
  {
   "cell_type": "code",
   "execution_count": 12,
   "metadata": {},
   "outputs": [],
   "source": [
    "all_seg_metrics.method = pd.Categorical(all_seg_metrics.method).reorder_categories(['RMSE', 'Tweety_net', 'whisper_seg'])\n",
    "all_seg_metrics.method = all_seg_metrics.method.cat.rename_categories({'Tweety_net' : \"TweetyNet\", \n",
    "                                                                       'whisper_seg' : \"WhisperSeg\"})"
   ]
  },
  {
   "cell_type": "code",
   "execution_count": 23,
   "metadata": {},
   "outputs": [],
   "source": [
    "plt.rcParams.update({'font.size': 11})"
   ]
  },
  {
   "cell_type": "code",
   "execution_count": 24,
   "metadata": {},
   "outputs": [
    {
     "data": {
      "text/html": [
       "<div>\n",
       "<style scoped>\n",
       "    .dataframe tbody tr th:only-of-type {\n",
       "        vertical-align: middle;\n",
       "    }\n",
       "\n",
       "    .dataframe tbody tr th {\n",
       "        vertical-align: top;\n",
       "    }\n",
       "\n",
       "    .dataframe thead th {\n",
       "        text-align: right;\n",
       "    }\n",
       "</style>\n",
       "<table border=\"1\" class=\"dataframe\">\n",
       "  <thead>\n",
       "    <tr style=\"text-align: right;\">\n",
       "      <th></th>\n",
       "      <th>Unnamed: 0</th>\n",
       "      <th>F1</th>\n",
       "      <th>precision</th>\n",
       "      <th>recall</th>\n",
       "      <th>max_gap</th>\n",
       "    </tr>\n",
       "    <tr>\n",
       "      <th>method</th>\n",
       "      <th></th>\n",
       "      <th></th>\n",
       "      <th></th>\n",
       "      <th></th>\n",
       "      <th></th>\n",
       "    </tr>\n",
       "  </thead>\n",
       "  <tbody>\n",
       "    <tr>\n",
       "      <th>RMSE</th>\n",
       "      <td>0.0</td>\n",
       "      <td>0.599539</td>\n",
       "      <td>0.561034</td>\n",
       "      <td>0.649174</td>\n",
       "      <td>0.01</td>\n",
       "    </tr>\n",
       "    <tr>\n",
       "      <th>TweetyNet</th>\n",
       "      <td>0.0</td>\n",
       "      <td>0.826502</td>\n",
       "      <td>0.879901</td>\n",
       "      <td>0.793926</td>\n",
       "      <td>0.01</td>\n",
       "    </tr>\n",
       "    <tr>\n",
       "      <th>WhisperSeg</th>\n",
       "      <td>0.0</td>\n",
       "      <td>0.884827</td>\n",
       "      <td>0.972847</td>\n",
       "      <td>0.820777</td>\n",
       "      <td>0.01</td>\n",
       "    </tr>\n",
       "  </tbody>\n",
       "</table>\n",
       "</div>"
      ],
      "text/plain": [
       "            Unnamed: 0        F1  precision    recall  max_gap\n",
       "method                                                        \n",
       "RMSE               0.0  0.599539   0.561034  0.649174     0.01\n",
       "TweetyNet          0.0  0.826502   0.879901  0.793926     0.01\n",
       "WhisperSeg         0.0  0.884827   0.972847  0.820777     0.01"
      ]
     },
     "execution_count": 24,
     "metadata": {},
     "output_type": "execute_result"
    }
   ],
   "source": [
    "all_seg_metrics.groupby('method').mean()"
   ]
  },
  {
   "cell_type": "code",
   "execution_count": 25,
   "metadata": {},
   "outputs": [
    {
     "name": "stdout",
     "output_type": "stream",
     "text": [
      "0.015251527987108437\n",
      "0.025166089063531502\n",
      "0.022500798212206855\n"
     ]
    }
   ],
   "source": [
    "from scipy.stats import sem\n",
    "print(sem(all_seg_metrics[all_seg_metrics.method == 'WhisperSeg'].F1))\n",
    "print(sem(all_seg_metrics[all_seg_metrics.method == 'TweetyNet'].F1))\n",
    "print(sem(all_seg_metrics[all_seg_metrics.method == 'RMSE'].F1))"
   ]
  },
  {
   "cell_type": "code",
   "execution_count": 33,
   "metadata": {},
   "outputs": [
    {
     "data": {
      "text/html": [
       "<div>\n",
       "<style scoped>\n",
       "    .dataframe tbody tr th:only-of-type {\n",
       "        vertical-align: middle;\n",
       "    }\n",
       "\n",
       "    .dataframe tbody tr th {\n",
       "        vertical-align: top;\n",
       "    }\n",
       "\n",
       "    .dataframe thead th {\n",
       "        text-align: right;\n",
       "    }\n",
       "</style>\n",
       "<table border=\"1\" class=\"dataframe\">\n",
       "  <thead>\n",
       "    <tr style=\"text-align: right;\">\n",
       "      <th></th>\n",
       "      <th></th>\n",
       "      <th>Unnamed: 0</th>\n",
       "      <th>F1</th>\n",
       "      <th>precision</th>\n",
       "      <th>recall</th>\n",
       "      <th>max_gap</th>\n",
       "    </tr>\n",
       "    <tr>\n",
       "      <th>method</th>\n",
       "      <th>Group</th>\n",
       "      <th></th>\n",
       "      <th></th>\n",
       "      <th></th>\n",
       "      <th></th>\n",
       "      <th></th>\n",
       "    </tr>\n",
       "  </thead>\n",
       "  <tbody>\n",
       "    <tr>\n",
       "      <th rowspan=\"3\" valign=\"top\">RMSE</th>\n",
       "      <th>FP1 KD</th>\n",
       "      <td>0.0</td>\n",
       "      <td>0.615957</td>\n",
       "      <td>0.582971</td>\n",
       "      <td>0.657829</td>\n",
       "      <td>0.01</td>\n",
       "    </tr>\n",
       "    <tr>\n",
       "      <th>Isolate</th>\n",
       "      <td>0.0</td>\n",
       "      <td>0.584960</td>\n",
       "      <td>0.531374</td>\n",
       "      <td>0.656027</td>\n",
       "      <td>0.01</td>\n",
       "    </tr>\n",
       "    <tr>\n",
       "      <th>Normal</th>\n",
       "      <td>0.0</td>\n",
       "      <td>0.598803</td>\n",
       "      <td>0.564123</td>\n",
       "      <td>0.642971</td>\n",
       "      <td>0.01</td>\n",
       "    </tr>\n",
       "    <tr>\n",
       "      <th rowspan=\"3\" valign=\"top\">TweetyNet</th>\n",
       "      <th>FP1 KD</th>\n",
       "      <td>0.0</td>\n",
       "      <td>0.803951</td>\n",
       "      <td>0.921496</td>\n",
       "      <td>0.742237</td>\n",
       "      <td>0.01</td>\n",
       "    </tr>\n",
       "    <tr>\n",
       "      <th>Isolate</th>\n",
       "      <td>0.0</td>\n",
       "      <td>0.813244</td>\n",
       "      <td>0.828697</td>\n",
       "      <td>0.803781</td>\n",
       "      <td>0.01</td>\n",
       "    </tr>\n",
       "    <tr>\n",
       "      <th>Normal</th>\n",
       "      <td>0.0</td>\n",
       "      <td>0.840826</td>\n",
       "      <td>0.883744</td>\n",
       "      <td>0.810660</td>\n",
       "      <td>0.01</td>\n",
       "    </tr>\n",
       "    <tr>\n",
       "      <th rowspan=\"3\" valign=\"top\">WhisperSeg</th>\n",
       "      <th>FP1 KD</th>\n",
       "      <td>0.0</td>\n",
       "      <td>0.867237</td>\n",
       "      <td>0.981545</td>\n",
       "      <td>0.788386</td>\n",
       "      <td>0.01</td>\n",
       "    </tr>\n",
       "    <tr>\n",
       "      <th>Isolate</th>\n",
       "      <td>0.0</td>\n",
       "      <td>0.934973</td>\n",
       "      <td>0.970569</td>\n",
       "      <td>0.903424</td>\n",
       "      <td>0.01</td>\n",
       "    </tr>\n",
       "    <tr>\n",
       "      <th>Normal</th>\n",
       "      <td>0.0</td>\n",
       "      <td>0.871805</td>\n",
       "      <td>0.970279</td>\n",
       "      <td>0.800674</td>\n",
       "      <td>0.01</td>\n",
       "    </tr>\n",
       "  </tbody>\n",
       "</table>\n",
       "</div>"
      ],
      "text/plain": [
       "                    Unnamed: 0        F1  precision    recall  max_gap\n",
       "method     Group                                                      \n",
       "RMSE       FP1 KD          0.0  0.615957   0.582971  0.657829     0.01\n",
       "           Isolate         0.0  0.584960   0.531374  0.656027     0.01\n",
       "           Normal          0.0  0.598803   0.564123  0.642971     0.01\n",
       "TweetyNet  FP1 KD          0.0  0.803951   0.921496  0.742237     0.01\n",
       "           Isolate         0.0  0.813244   0.828697  0.803781     0.01\n",
       "           Normal          0.0  0.840826   0.883744  0.810660     0.01\n",
       "WhisperSeg FP1 KD          0.0  0.867237   0.981545  0.788386     0.01\n",
       "           Isolate         0.0  0.934973   0.970569  0.903424     0.01\n",
       "           Normal          0.0  0.871805   0.970279  0.800674     0.01"
      ]
     },
     "execution_count": 33,
     "metadata": {},
     "output_type": "execute_result"
    }
   ],
   "source": [
    "all_seg_metrics.groupby(['method', 'Group']).mean()"
   ]
  },
  {
   "cell_type": "code",
   "execution_count": 26,
   "metadata": {},
   "outputs": [
    {
     "data": {
      "text/plain": [
       "Text(0.5, 0, 'Method')"
      ]
     },
     "execution_count": 26,
     "metadata": {},
     "output_type": "execute_result"
    },
    {
     "data": {
      "image/png": "[encoded data removed]",
      "text/plain": [
       "<Figure size 288x288 with 1 Axes>"
      ]
     },
     "metadata": {
      "needs_background": "light"
     },
     "output_type": "display_data"
    }
   ],
   "source": [
    "plt.figure(figsize = (4, 4))\n",
    "sns.swarmplot(data = all_seg_metrics, x = 'method', y = 'F1', color = 'black', s = 5)\n",
    "sns.boxenplot(data = all_seg_metrics, x = 'method', y = 'F1', color = '0.8')\n",
    "plt.title(\"Syllable Onsets within 10ms of Ground Truth\")\n",
    "plt.xlabel('Method')"
   ]
  },
  {
   "cell_type": "code",
   "execution_count": 27,
   "metadata": {},
   "outputs": [
    {
     "data": {
      "text/plain": [
       "Text(0.5, 0, 'Method')"
      ]
     },
     "execution_count": 27,
     "metadata": {},
     "output_type": "execute_result"
    },
    {
     "data": {
      "image/png": "[encoded data removed]",
      "text/plain": [
       "<Figure size 288x288 with 1 Axes>"
      ]
     },
     "metadata": {
      "needs_background": "light"
     },
     "output_type": "display_data"
    }
   ],
   "source": [
    "plt.figure(figsize = (4, 4))\n",
    "sns.swarmplot(data = all_seg_metrics, x = 'method', y = 'F1', hue = 'Group', s = 5)\n",
    "sns.boxenplot(data = all_seg_metrics, x = 'method', y = 'F1', color = '0.8')\n",
    "plt.title(\"Syllable Onsets within 10ms of Ground Truth\")\n",
    "plt.xlabel('Method')"
   ]
  },
  {
   "cell_type": "code",
   "execution_count": 28,
   "metadata": {},
   "outputs": [
    {
     "data": {
      "text/plain": [
       "Text(0, 0.5, 'Precision')"
      ]
     },
     "execution_count": 28,
     "metadata": {},
     "output_type": "execute_result"
    },
    {
     "data": {
      "image/png": "[encoded data removed]",
      "text/plain": [
       "<Figure size 288x288 with 1 Axes>"
      ]
     },
     "metadata": {
      "needs_background": "light"
     },
     "output_type": "display_data"
    }
   ],
   "source": [
    "plt.figure(figsize = (4, 4))\n",
    "sns.swarmplot(data = all_seg_metrics, x = 'method', y = 'precision', color = 'black', s = 3)\n",
    "sns.boxenplot(data = all_seg_metrics, x = 'method', y = 'precision', color = '0.8')\n",
    "plt.title(\"Syllable Onsets within 10ms of Ground Truth\")\n",
    "plt.xlabel('Method')\n",
    "plt.ylabel('Precision')"
   ]
  },
  {
   "cell_type": "code",
   "execution_count": 29,
   "metadata": {},
   "outputs": [
    {
     "data": {
      "text/plain": [
       "Text(0, 0.5, 'Precision')"
      ]
     },
     "execution_count": 29,
     "metadata": {},
     "output_type": "execute_result"
    },
    {
     "data": {
      "image/png": "[encoded data removed]",
      "text/plain": [
       "<Figure size 288x288 with 1 Axes>"
      ]
     },
     "metadata": {
      "needs_background": "light"
     },
     "output_type": "display_data"
    }
   ],
   "source": [
    "plt.figure(figsize = (4, 4))\n",
    "sns.swarmplot(data = all_seg_metrics, x = 'method', y = 'precision', hue = 'Group', s = 3)\n",
    "sns.boxenplot(data = all_seg_metrics, x = 'method', y = 'precision', color = '0.8')\n",
    "plt.title(\"Syllable Onsets within 10ms of Ground Truth\")\n",
    "plt.xlabel('Method')\n",
    "plt.ylabel('Precision')"
   ]
  },
  {
   "cell_type": "code",
   "execution_count": 31,
   "metadata": {},
   "outputs": [
    {
     "data": {
      "text/plain": [
       "Text(0, 0.5, 'Recall')"
      ]
     },
     "execution_count": 31,
     "metadata": {},
     "output_type": "execute_result"
    },
    {
     "data": {
      "image/png": "[encoded data removed]",
      "text/plain": [
       "<Figure size 288x288 with 1 Axes>"
      ]
     },
     "metadata": {
      "needs_background": "light"
     },
     "output_type": "display_data"
    }
   ],
   "source": [
    "plt.figure(figsize = (4, 4))\n",
    "sns.swarmplot(data = all_seg_metrics, x = 'method', y = 'recall', color = 'black', s = 5)\n",
    "sns.boxenplot(data = all_seg_metrics, x = 'method', y = 'recall', color = '0.8')\n",
    "plt.title(\"Syllable Onsets within 10ms of Ground Truth\")\n",
    "plt.xlabel('Method')\n",
    "plt.ylabel('Recall')"
   ]
  },
  {
   "cell_type": "code",
   "execution_count": 32,
   "metadata": {},
   "outputs": [
    {
     "data": {
      "text/plain": [
       "Text(0, 0.5, 'Recall')"
      ]
     },
     "execution_count": 32,
     "metadata": {},
     "output_type": "execute_result"
    },
    {
     "data": {
      "image/png": "[encoded data removed]",
      "text/plain": [
       "<Figure size 288x288 with 1 Axes>"
      ]
     },
     "metadata": {
      "needs_background": "light"
     },
     "output_type": "display_data"
    }
   ],
   "source": [
    "plt.figure(figsize = (4, 4))\n",
    "sns.swarmplot(data = all_seg_metrics, x = 'method', y = 'recall', hue = 'Group', s = 5)\n",
    "sns.boxenplot(data = all_seg_metrics, x = 'method', y = 'recall', color = '0.8')\n",
    "plt.title(\"Syllable Onsets within 10ms of Ground Truth\")\n",
    "plt.xlabel('Method')\n",
    "plt.ylabel('Recall')"
   ]
  },
  {
   "cell_type": "markdown",
   "metadata": {},
   "source": [
    "# Offsets"
   ]
  },
  {
   "cell_type": "markdown",
   "metadata": {},
   "source": [
    "## Calc F1 Scores"
   ]
  },
  {
   "cell_type": "code",
   "execution_count": 77,
   "metadata": {},
   "outputs": [],
   "source": [
    "all_seg_metrics = pd.DataFrame()\n",
    "for Bird_ID in All_Birds[:]:\n",
    "\n",
    "    #load whisperseg segmentation and reformat so it's consistent with avn\n",
    "    wseg_segmentations = pd.read_csv('E:\\\\Final_Bird_Dataset\\\\WhisperSeg_Segmentation\\\\' + Bird_ID + \"_wseg.csv\")\n",
    "    wseg_segmentations = wseg_segmentations.drop(columns = ['Unnamed: 0', 'cluster'])\n",
    "    wseg_segmentations = wseg_segmentations.rename(columns = {'onset' : 'onsets', \n",
    "                                                            'offset' : 'offsets', \n",
    "                                                            'file' : 'files'})\n",
    "    \n",
    "    #create seg data object. This is necessary for the F1 calculation\n",
    "    seg_data = segmentation.SegData(Bird_ID, wseg_segmentations)\n",
    "    #load ground truth segmentation and add to seg_data object\n",
    "    ground_truth_path = 'C:/Grad_School/Code_and_software/Py_code/March_2021_redo/redo_data/segmented_songs/' + Bird_ID + '/' + Bird_ID + '_syll_table.csv'\n",
    "    seg_data = dataloading.Utils.add_ev_song_truth_table(seg_data, ground_truth_path)\n",
    "\n",
    "    #drop any files that aren't in the true seg table as they will cause errors\n",
    "    to_drop = set(seg_data.seg_table.files.unique()) - set(seg_data.true_seg_table.files.unique())\n",
    "    seg_data.seg_table = seg_data.seg_table[~seg_data.seg_table.files.isin(to_drop)]\n",
    "\n",
    "    #calculate F1 score for whisperSeg\n",
    "    seg_data = segmentation.Metrics.calc_F1(seg_data, max_gap = 0.05, feature= 'offsets')\n",
    "    curr_seg_metrics = seg_data.seg_metrics\n",
    "    #add to df with all seg metrics\n",
    "    curr_seg_metrics['Bird_ID'] = Bird_ID\n",
    "    curr_seg_metrics['max_gap'] = 0.05\n",
    "    curr_seg_metrics['method'] = 'whisper_seg'\n",
    "    all_seg_metrics = pd.concat([all_seg_metrics, curr_seg_metrics])\n",
    "\n",
    "    #calculate F1 score for whisperSeg\n",
    "    seg_data = segmentation.Metrics.calc_F1(seg_data, max_gap = 0.02, feature= 'offsets')\n",
    "    curr_seg_metrics = seg_data.seg_metrics\n",
    "    #add to df with all seg metrics\n",
    "    curr_seg_metrics['Bird_ID'] = Bird_ID\n",
    "    curr_seg_metrics['max_gap'] = 0.02\n",
    "    curr_seg_metrics['method'] = 'whisper_seg'\n",
    "    all_seg_metrics = pd.concat([all_seg_metrics, curr_seg_metrics])\n",
    "\n",
    "    #load tweetynet segmentations\n",
    "    tweety_segs = pd.read_csv('E:\\\\Final_Bird_Dataset\\\\Old_Tweety_Segmentation\\\\' + Bird_ID + '.annot.csv')\n",
    "    tweety_segs = vak_to_syll_table(tweety_segs)\n",
    "\n",
    "    #create seg data object. This is necessary for the F1 calculation\n",
    "    seg_data = segmentation.SegData(Bird_ID, tweety_segs)\n",
    "    seg_data = dataloading.Utils.add_ev_song_truth_table(seg_data, ground_truth_path)\n",
    "\n",
    "    #calculate F1 score for Tweetynet\n",
    "    seg_data = segmentation.Metrics.calc_F1(seg_data, max_gap = 0.05, feature= 'offsets')\n",
    "    curr_seg_metrics = seg_data.seg_metrics\n",
    "    #add to df with all seg metrics\n",
    "    curr_seg_metrics['Bird_ID'] = Bird_ID\n",
    "    curr_seg_metrics['max_gap'] = 0.05\n",
    "    curr_seg_metrics['method'] = 'Tweety_net'\n",
    "    all_seg_metrics = pd.concat([all_seg_metrics, curr_seg_metrics])\n",
    "\n",
    "    #calculate F1 score for whisperSeg\n",
    "    seg_data = segmentation.Metrics.calc_F1(seg_data, max_gap = 0.02, feature= 'offsets')\n",
    "    curr_seg_metrics = seg_data.seg_metrics\n",
    "    #add to df with all seg metrics\n",
    "    curr_seg_metrics['Bird_ID'] = Bird_ID\n",
    "    curr_seg_metrics['max_gap'] = 0.02\n",
    "    curr_seg_metrics['method'] = 'Tweety_net'\n",
    "    all_seg_metrics = pd.concat([all_seg_metrics, curr_seg_metrics])\n",
    "\n"
   ]
  },
  {
   "cell_type": "code",
   "execution_count": 78,
   "metadata": {},
   "outputs": [
    {
     "data": {
      "text/html": [
       "<div>\n",
       "<style scoped>\n",
       "    .dataframe tbody tr th:only-of-type {\n",
       "        vertical-align: middle;\n",
       "    }\n",
       "\n",
       "    .dataframe tbody tr th {\n",
       "        vertical-align: top;\n",
       "    }\n",
       "\n",
       "    .dataframe thead th {\n",
       "        text-align: right;\n",
       "    }\n",
       "</style>\n",
       "<table border=\"1\" class=\"dataframe\">\n",
       "  <thead>\n",
       "    <tr style=\"text-align: right;\">\n",
       "      <th></th>\n",
       "      <th>F1</th>\n",
       "      <th>precision</th>\n",
       "      <th>recall</th>\n",
       "      <th>Bird_ID</th>\n",
       "      <th>max_gap</th>\n",
       "      <th>method</th>\n",
       "    </tr>\n",
       "  </thead>\n",
       "  <tbody>\n",
       "    <tr>\n",
       "      <th>0</th>\n",
       "      <td>0.920716</td>\n",
       "      <td>0.994475</td>\n",
       "      <td>0.857143</td>\n",
       "      <td>B145</td>\n",
       "      <td>0.05</td>\n",
       "      <td>whisper_seg</td>\n",
       "    </tr>\n",
       "    <tr>\n",
       "      <th>0</th>\n",
       "      <td>0.707379</td>\n",
       "      <td>0.780899</td>\n",
       "      <td>0.646512</td>\n",
       "      <td>B145</td>\n",
       "      <td>0.02</td>\n",
       "      <td>whisper_seg</td>\n",
       "    </tr>\n",
       "    <tr>\n",
       "      <th>0</th>\n",
       "      <td>0.739130</td>\n",
       "      <td>0.699588</td>\n",
       "      <td>0.783410</td>\n",
       "      <td>B145</td>\n",
       "      <td>0.05</td>\n",
       "      <td>Tweety_net</td>\n",
       "    </tr>\n",
       "    <tr>\n",
       "      <th>0</th>\n",
       "      <td>0.660194</td>\n",
       "      <td>0.680000</td>\n",
       "      <td>0.641509</td>\n",
       "      <td>B145</td>\n",
       "      <td>0.02</td>\n",
       "      <td>Tweety_net</td>\n",
       "    </tr>\n",
       "    <tr>\n",
       "      <th>0</th>\n",
       "      <td>0.942178</td>\n",
       "      <td>0.988711</td>\n",
       "      <td>0.899829</td>\n",
       "      <td>B236</td>\n",
       "      <td>0.05</td>\n",
       "      <td>whisper_seg</td>\n",
       "    </tr>\n",
       "    <tr>\n",
       "      <th>...</th>\n",
       "      <td>...</td>\n",
       "      <td>...</td>\n",
       "      <td>...</td>\n",
       "      <td>...</td>\n",
       "      <td>...</td>\n",
       "      <td>...</td>\n",
       "    </tr>\n",
       "    <tr>\n",
       "      <th>0</th>\n",
       "      <td>0.987989</td>\n",
       "      <td>0.987685</td>\n",
       "      <td>0.988293</td>\n",
       "      <td>Y433</td>\n",
       "      <td>0.02</td>\n",
       "      <td>Tweety_net</td>\n",
       "    </tr>\n",
       "    <tr>\n",
       "      <th>0</th>\n",
       "      <td>0.972124</td>\n",
       "      <td>0.998958</td>\n",
       "      <td>0.946693</td>\n",
       "      <td>Y453</td>\n",
       "      <td>0.05</td>\n",
       "      <td>whisper_seg</td>\n",
       "    </tr>\n",
       "    <tr>\n",
       "      <th>0</th>\n",
       "      <td>0.842611</td>\n",
       "      <td>0.867639</td>\n",
       "      <td>0.818987</td>\n",
       "      <td>Y453</td>\n",
       "      <td>0.02</td>\n",
       "      <td>whisper_seg</td>\n",
       "    </tr>\n",
       "    <tr>\n",
       "      <th>0</th>\n",
       "      <td>0.969756</td>\n",
       "      <td>0.969283</td>\n",
       "      <td>0.970229</td>\n",
       "      <td>Y453</td>\n",
       "      <td>0.05</td>\n",
       "      <td>Tweety_net</td>\n",
       "    </tr>\n",
       "    <tr>\n",
       "      <th>0</th>\n",
       "      <td>0.960275</td>\n",
       "      <td>0.958864</td>\n",
       "      <td>0.961690</td>\n",
       "      <td>Y453</td>\n",
       "      <td>0.02</td>\n",
       "      <td>Tweety_net</td>\n",
       "    </tr>\n",
       "  </tbody>\n",
       "</table>\n",
       "<p>144 rows × 6 columns</p>\n",
       "</div>"
      ],
      "text/plain": [
       "          F1  precision    recall Bird_ID  max_gap       method\n",
       "0   0.920716   0.994475  0.857143    B145     0.05  whisper_seg\n",
       "0   0.707379   0.780899  0.646512    B145     0.02  whisper_seg\n",
       "0   0.739130   0.699588  0.783410    B145     0.05   Tweety_net\n",
       "0   0.660194   0.680000  0.641509    B145     0.02   Tweety_net\n",
       "0   0.942178   0.988711  0.899829    B236     0.05  whisper_seg\n",
       "..       ...        ...       ...     ...      ...          ...\n",
       "0   0.987989   0.987685  0.988293    Y433     0.02   Tweety_net\n",
       "0   0.972124   0.998958  0.946693    Y453     0.05  whisper_seg\n",
       "0   0.842611   0.867639  0.818987    Y453     0.02  whisper_seg\n",
       "0   0.969756   0.969283  0.970229    Y453     0.05   Tweety_net\n",
       "0   0.960275   0.958864  0.961690    Y453     0.02   Tweety_net\n",
       "\n",
       "[144 rows x 6 columns]"
      ]
     },
     "execution_count": 78,
     "metadata": {},
     "output_type": "execute_result"
    }
   ],
   "source": [
    "all_seg_metrics"
   ]
  },
  {
   "cell_type": "markdown",
   "metadata": {},
   "source": [
    "## Get RMSE segmentation metrics"
   ]
  },
  {
   "cell_type": "code",
   "execution_count": 79,
   "metadata": {},
   "outputs": [
    {
     "name": "stdout",
     "output_type": "stream",
     "text": [
      "Bird: 0/36\n",
      "Bird: 1/36\n",
      "Bird: 2/36\n",
      "Bird: 3/36\n",
      "Bird: 4/36\n",
      "Bird: 5/36\n",
      "Bird: 6/36\n",
      "Bird: 7/36\n",
      "Bird: 8/36\n",
      "Bird: 9/36\n",
      "Bird: 10/36\n",
      "Bird: 11/36\n",
      "Bird: 12/36\n",
      "Bird: 13/36\n",
      "Bird: 14/36\n",
      "Bird: 15/36\n",
      "Bird: 16/36\n",
      "Bird: 17/36\n",
      "Bird: 18/36\n",
      "Bird: 19/36\n",
      "Bird: 20/36\n",
      "Bird: 21/36\n",
      "Bird: 22/36\n",
      "Bird: 23/36\n",
      "Bird: 24/36\n",
      "Bird: 25/36\n",
      "Bird: 26/36\n",
      "Bird: 27/36\n",
      "Bird: 28/36\n",
      "Bird: 29/36\n",
      "Bird: 30/36\n",
      "Bird: 31/36\n",
      "Bird: 32/36\n",
      "Bird: 33/36\n",
      "Bird: 34/36\n",
      "Bird: 35/36\n"
     ]
    }
   ],
   "source": [
    "all_F1s = pd.DataFrame()\n",
    "\n",
    "for i, Bird_ID in enumerate(All_Birds):\n",
    "    print(\"Bird: \" + str(i) + \"/\" + str(len(All_Birds)))\n",
    "    \n",
    "    song_folder = \"C:/Grad_School/Code_and_software/Py_code/March_2021_redo/redo_data/segmented_songs/\"+ Bird_ID + \"/\"\n",
    "    ground_truth_path = \"C:/Grad_School/Code_and_software/Py_code/March_2021_redo/redo_data/segmented_songs/\" + Bird_ID + \"/\" + Bird_ID + \"_syll_table.csv\"\n",
    "    \n",
    "    #do MFCC Segmentation\n",
    "    segmenter = segmentation.RMSEDerivative()\n",
    "    seg_data = segmenter.make_segmentation_table(Bird_ID, song_folder,\n",
    "                                                 upper_threshold = 0.006, \n",
    "                                                 lower_threshold = -0.1)\n",
    "    \n",
    "    #Add ground truth data\n",
    "    seg_data = dataloading.Utils.add_ev_song_truth_table(seg_data, ground_truth_path)\n",
    "\n",
    "    seg_data = segmentation.Metrics.calc_F1(seg_data, max_gap = 0.02, feature= 'offsets')\n",
    "    \n",
    "    seg_metrics = seg_data.seg_metrics\n",
    "    seg_metrics[\"Bird_ID\"] = [Bird_ID]\n",
    "    all_F1s = all_F1s.append(seg_metrics)\n"
   ]
  },
  {
   "cell_type": "code",
   "execution_count": 80,
   "metadata": {},
   "outputs": [],
   "source": [
    "all_F1s['method'] = 'RMSE'\n",
    "all_F1s['max_gap'] = 0.02"
   ]
  },
  {
   "cell_type": "code",
   "execution_count": 81,
   "metadata": {},
   "outputs": [],
   "source": [
    "all_seg_metrics = pd.concat([all_seg_metrics, all_F1s])"
   ]
  },
  {
   "cell_type": "code",
   "execution_count": 82,
   "metadata": {},
   "outputs": [
    {
     "data": {
      "text/html": [
       "<div>\n",
       "<style scoped>\n",
       "    .dataframe tbody tr th:only-of-type {\n",
       "        vertical-align: middle;\n",
       "    }\n",
       "\n",
       "    .dataframe tbody tr th {\n",
       "        vertical-align: top;\n",
       "    }\n",
       "\n",
       "    .dataframe thead th {\n",
       "        text-align: right;\n",
       "    }\n",
       "</style>\n",
       "<table border=\"1\" class=\"dataframe\">\n",
       "  <thead>\n",
       "    <tr style=\"text-align: right;\">\n",
       "      <th></th>\n",
       "      <th>F1</th>\n",
       "      <th>precision</th>\n",
       "      <th>recall</th>\n",
       "      <th>Bird_ID</th>\n",
       "      <th>max_gap</th>\n",
       "      <th>method</th>\n",
       "    </tr>\n",
       "  </thead>\n",
       "  <tbody>\n",
       "    <tr>\n",
       "      <th>0</th>\n",
       "      <td>0.920716</td>\n",
       "      <td>0.994475</td>\n",
       "      <td>0.857143</td>\n",
       "      <td>B145</td>\n",
       "      <td>0.05</td>\n",
       "      <td>whisper_seg</td>\n",
       "    </tr>\n",
       "    <tr>\n",
       "      <th>0</th>\n",
       "      <td>0.707379</td>\n",
       "      <td>0.780899</td>\n",
       "      <td>0.646512</td>\n",
       "      <td>B145</td>\n",
       "      <td>0.02</td>\n",
       "      <td>whisper_seg</td>\n",
       "    </tr>\n",
       "    <tr>\n",
       "      <th>0</th>\n",
       "      <td>0.739130</td>\n",
       "      <td>0.699588</td>\n",
       "      <td>0.783410</td>\n",
       "      <td>B145</td>\n",
       "      <td>0.05</td>\n",
       "      <td>Tweety_net</td>\n",
       "    </tr>\n",
       "    <tr>\n",
       "      <th>0</th>\n",
       "      <td>0.660194</td>\n",
       "      <td>0.680000</td>\n",
       "      <td>0.641509</td>\n",
       "      <td>B145</td>\n",
       "      <td>0.02</td>\n",
       "      <td>Tweety_net</td>\n",
       "    </tr>\n",
       "    <tr>\n",
       "      <th>0</th>\n",
       "      <td>0.942178</td>\n",
       "      <td>0.988711</td>\n",
       "      <td>0.899829</td>\n",
       "      <td>B236</td>\n",
       "      <td>0.05</td>\n",
       "      <td>whisper_seg</td>\n",
       "    </tr>\n",
       "    <tr>\n",
       "      <th>...</th>\n",
       "      <td>...</td>\n",
       "      <td>...</td>\n",
       "      <td>...</td>\n",
       "      <td>...</td>\n",
       "      <td>...</td>\n",
       "      <td>...</td>\n",
       "    </tr>\n",
       "    <tr>\n",
       "      <th>0</th>\n",
       "      <td>0.046429</td>\n",
       "      <td>0.046181</td>\n",
       "      <td>0.046679</td>\n",
       "      <td>B524</td>\n",
       "      <td>0.02</td>\n",
       "      <td>RMSE</td>\n",
       "    </tr>\n",
       "    <tr>\n",
       "      <th>0</th>\n",
       "      <td>0.048955</td>\n",
       "      <td>0.045086</td>\n",
       "      <td>0.053550</td>\n",
       "      <td>O434</td>\n",
       "      <td>0.02</td>\n",
       "      <td>RMSE</td>\n",
       "    </tr>\n",
       "    <tr>\n",
       "      <th>0</th>\n",
       "      <td>0.138545</td>\n",
       "      <td>0.132075</td>\n",
       "      <td>0.145682</td>\n",
       "      <td>S389</td>\n",
       "      <td>0.02</td>\n",
       "      <td>RMSE</td>\n",
       "    </tr>\n",
       "    <tr>\n",
       "      <th>0</th>\n",
       "      <td>0.035052</td>\n",
       "      <td>0.030026</td>\n",
       "      <td>0.042099</td>\n",
       "      <td>Y433</td>\n",
       "      <td>0.02</td>\n",
       "      <td>RMSE</td>\n",
       "    </tr>\n",
       "    <tr>\n",
       "      <th>0</th>\n",
       "      <td>0.046560</td>\n",
       "      <td>0.040929</td>\n",
       "      <td>0.053988</td>\n",
       "      <td>Y453</td>\n",
       "      <td>0.02</td>\n",
       "      <td>RMSE</td>\n",
       "    </tr>\n",
       "  </tbody>\n",
       "</table>\n",
       "<p>180 rows × 6 columns</p>\n",
       "</div>"
      ],
      "text/plain": [
       "          F1  precision    recall Bird_ID  max_gap       method\n",
       "0   0.920716   0.994475  0.857143    B145     0.05  whisper_seg\n",
       "0   0.707379   0.780899  0.646512    B145     0.02  whisper_seg\n",
       "0   0.739130   0.699588  0.783410    B145     0.05   Tweety_net\n",
       "0   0.660194   0.680000  0.641509    B145     0.02   Tweety_net\n",
       "0   0.942178   0.988711  0.899829    B236     0.05  whisper_seg\n",
       "..       ...        ...       ...     ...      ...          ...\n",
       "0   0.046429   0.046181  0.046679    B524     0.02         RMSE\n",
       "0   0.048955   0.045086  0.053550    O434     0.02         RMSE\n",
       "0   0.138545   0.132075  0.145682    S389     0.02         RMSE\n",
       "0   0.035052   0.030026  0.042099    Y433     0.02         RMSE\n",
       "0   0.046560   0.040929  0.053988    Y453     0.02         RMSE\n",
       "\n",
       "[180 rows x 6 columns]"
      ]
     },
     "execution_count": 82,
     "metadata": {},
     "output_type": "execute_result"
    }
   ],
   "source": [
    "all_seg_metrics"
   ]
  },
  {
   "cell_type": "code",
   "execution_count": 83,
   "metadata": {},
   "outputs": [],
   "source": [
    "all_seg_metrics.to_csv('C:\\\\Grad_School\\\\Code_and_software\\\\Py_code\\\\WhisperSeg_validation\\\\wseg_RMSE_tweety_F1s_offsets.csv')"
   ]
  },
  {
   "cell_type": "markdown",
   "metadata": {},
   "source": [
    "## Plot F1 Scores"
   ]
  },
  {
   "cell_type": "code",
   "execution_count": 84,
   "metadata": {},
   "outputs": [],
   "source": [
    "all_seg_metrics = pd.read_csv('C:\\\\Grad_School\\\\Code_and_software\\\\Py_code\\\\WhisperSeg_validation\\\\wseg_RMSE_tweety_F1s_offsets.csv')"
   ]
  },
  {
   "cell_type": "code",
   "execution_count": 85,
   "metadata": {},
   "outputs": [],
   "source": [
    "all_birds = pd.read_csv(\"E:\\\\Final_Bird_Dataset\\\\old_Bird_list.csv\")\n",
    "all_seg_metrics = pd.merge(all_seg_metrics, all_birds[['Bird_ID', 'Condition']], on = 'Bird_ID')"
   ]
  },
  {
   "cell_type": "code",
   "execution_count": 86,
   "metadata": {},
   "outputs": [],
   "source": [
    "group_dict = {'Isolate' : 'Isolate', \n",
    "              'GFP' : 'Normal', \n",
    "              'FP1_KD_pre_tut' : 'FP1 KD', \n",
    "              'FP1_KD_post_tut' : 'Normal'}\n",
    "all_seg_metrics['Group'] = [group_dict[x] for x in all_seg_metrics.Condition]"
   ]
  },
  {
   "cell_type": "code",
   "execution_count": 87,
   "metadata": {},
   "outputs": [],
   "source": [
    "import seaborn as sns"
   ]
  },
  {
   "cell_type": "code",
   "execution_count": 89,
   "metadata": {},
   "outputs": [],
   "source": [
    "all_seg_metrics = all_seg_metrics[all_seg_metrics.max_gap == 0.02]"
   ]
  },
  {
   "cell_type": "code",
   "execution_count": 90,
   "metadata": {},
   "outputs": [],
   "source": [
    "all_seg_metrics.method = pd.Categorical(all_seg_metrics.method).reorder_categories(['RMSE', 'Tweety_net', 'whisper_seg'])\n",
    "all_seg_metrics.method = all_seg_metrics.method.cat.rename_categories({'Tweety_net' : \"TweetyNet\", \n",
    "                                                                       'whisper_seg' : \"WhisperSeg\"})"
   ]
  },
  {
   "cell_type": "code",
   "execution_count": 91,
   "metadata": {},
   "outputs": [],
   "source": [
    "plt.rcParams.update({'font.size': 11})"
   ]
  },
  {
   "cell_type": "code",
   "execution_count": 92,
   "metadata": {},
   "outputs": [
    {
     "data": {
      "text/html": [
       "<div>\n",
       "<style scoped>\n",
       "    .dataframe tbody tr th:only-of-type {\n",
       "        vertical-align: middle;\n",
       "    }\n",
       "\n",
       "    .dataframe tbody tr th {\n",
       "        vertical-align: top;\n",
       "    }\n",
       "\n",
       "    .dataframe thead th {\n",
       "        text-align: right;\n",
       "    }\n",
       "</style>\n",
       "<table border=\"1\" class=\"dataframe\">\n",
       "  <thead>\n",
       "    <tr style=\"text-align: right;\">\n",
       "      <th></th>\n",
       "      <th>Unnamed: 0</th>\n",
       "      <th>F1</th>\n",
       "      <th>precision</th>\n",
       "      <th>recall</th>\n",
       "      <th>max_gap</th>\n",
       "    </tr>\n",
       "    <tr>\n",
       "      <th>method</th>\n",
       "      <th></th>\n",
       "      <th></th>\n",
       "      <th></th>\n",
       "      <th></th>\n",
       "      <th></th>\n",
       "    </tr>\n",
       "  </thead>\n",
       "  <tbody>\n",
       "    <tr>\n",
       "      <th>RMSE</th>\n",
       "      <td>0.0</td>\n",
       "      <td>0.078481</td>\n",
       "      <td>0.075388</td>\n",
       "      <td>0.082620</td>\n",
       "      <td>0.02</td>\n",
       "    </tr>\n",
       "    <tr>\n",
       "      <th>TweetyNet</th>\n",
       "      <td>0.0</td>\n",
       "      <td>0.840692</td>\n",
       "      <td>0.884861</td>\n",
       "      <td>0.812602</td>\n",
       "      <td>0.02</td>\n",
       "    </tr>\n",
       "    <tr>\n",
       "      <th>WhisperSeg</th>\n",
       "      <td>0.0</td>\n",
       "      <td>0.785037</td>\n",
       "      <td>0.857692</td>\n",
       "      <td>0.731496</td>\n",
       "      <td>0.02</td>\n",
       "    </tr>\n",
       "  </tbody>\n",
       "</table>\n",
       "</div>"
      ],
      "text/plain": [
       "            Unnamed: 0        F1  precision    recall  max_gap\n",
       "method                                                        \n",
       "RMSE               0.0  0.078481   0.075388  0.082620     0.02\n",
       "TweetyNet          0.0  0.840692   0.884861  0.812602     0.02\n",
       "WhisperSeg         0.0  0.785037   0.857692  0.731496     0.02"
      ]
     },
     "execution_count": 92,
     "metadata": {},
     "output_type": "execute_result"
    }
   ],
   "source": [
    "all_seg_metrics.groupby('method').mean()"
   ]
  },
  {
   "cell_type": "code",
   "execution_count": 93,
   "metadata": {},
   "outputs": [
    {
     "name": "stdout",
     "output_type": "stream",
     "text": [
      "0.032484462868951784\n",
      "0.02839347311695714\n",
      "0.009880142570616363\n"
     ]
    }
   ],
   "source": [
    "from scipy.stats import sem\n",
    "print(sem(all_seg_metrics[all_seg_metrics.method == 'WhisperSeg'].F1))\n",
    "print(sem(all_seg_metrics[all_seg_metrics.method == 'TweetyNet'].F1))\n",
    "print(sem(all_seg_metrics[all_seg_metrics.method == 'RMSE'].F1))"
   ]
  },
  {
   "cell_type": "code",
   "execution_count": 94,
   "metadata": {},
   "outputs": [
    {
     "data": {
      "text/html": [
       "<div>\n",
       "<style scoped>\n",
       "    .dataframe tbody tr th:only-of-type {\n",
       "        vertical-align: middle;\n",
       "    }\n",
       "\n",
       "    .dataframe tbody tr th {\n",
       "        vertical-align: top;\n",
       "    }\n",
       "\n",
       "    .dataframe thead th {\n",
       "        text-align: right;\n",
       "    }\n",
       "</style>\n",
       "<table border=\"1\" class=\"dataframe\">\n",
       "  <thead>\n",
       "    <tr style=\"text-align: right;\">\n",
       "      <th></th>\n",
       "      <th></th>\n",
       "      <th>Unnamed: 0</th>\n",
       "      <th>F1</th>\n",
       "      <th>precision</th>\n",
       "      <th>recall</th>\n",
       "      <th>max_gap</th>\n",
       "    </tr>\n",
       "    <tr>\n",
       "      <th>method</th>\n",
       "      <th>Group</th>\n",
       "      <th></th>\n",
       "      <th></th>\n",
       "      <th></th>\n",
       "      <th></th>\n",
       "      <th></th>\n",
       "    </tr>\n",
       "  </thead>\n",
       "  <tbody>\n",
       "    <tr>\n",
       "      <th rowspan=\"3\" valign=\"top\">RMSE</th>\n",
       "      <th>FP1 KD</th>\n",
       "      <td>0.0</td>\n",
       "      <td>0.111672</td>\n",
       "      <td>0.107884</td>\n",
       "      <td>0.116566</td>\n",
       "      <td>0.02</td>\n",
       "    </tr>\n",
       "    <tr>\n",
       "      <th>Isolate</th>\n",
       "      <td>0.0</td>\n",
       "      <td>0.085638</td>\n",
       "      <td>0.080201</td>\n",
       "      <td>0.092885</td>\n",
       "      <td>0.02</td>\n",
       "    </tr>\n",
       "    <tr>\n",
       "      <th>Normal</th>\n",
       "      <td>0.0</td>\n",
       "      <td>0.062342</td>\n",
       "      <td>0.060465</td>\n",
       "      <td>0.064936</td>\n",
       "      <td>0.02</td>\n",
       "    </tr>\n",
       "    <tr>\n",
       "      <th rowspan=\"3\" valign=\"top\">TweetyNet</th>\n",
       "      <th>FP1 KD</th>\n",
       "      <td>0.0</td>\n",
       "      <td>0.774155</td>\n",
       "      <td>0.855216</td>\n",
       "      <td>0.725814</td>\n",
       "      <td>0.02</td>\n",
       "    </tr>\n",
       "    <tr>\n",
       "      <th>Isolate</th>\n",
       "      <td>0.0</td>\n",
       "      <td>0.846604</td>\n",
       "      <td>0.853147</td>\n",
       "      <td>0.845113</td>\n",
       "      <td>0.02</td>\n",
       "    </tr>\n",
       "    <tr>\n",
       "      <th>Normal</th>\n",
       "      <td>0.0</td>\n",
       "      <td>0.864941</td>\n",
       "      <td>0.909405</td>\n",
       "      <td>0.834313</td>\n",
       "      <td>0.02</td>\n",
       "    </tr>\n",
       "    <tr>\n",
       "      <th rowspan=\"3\" valign=\"top\">WhisperSeg</th>\n",
       "      <th>FP1 KD</th>\n",
       "      <td>0.0</td>\n",
       "      <td>0.727927</td>\n",
       "      <td>0.820403</td>\n",
       "      <td>0.664531</td>\n",
       "      <td>0.02</td>\n",
       "    </tr>\n",
       "    <tr>\n",
       "      <th>Isolate</th>\n",
       "      <td>0.0</td>\n",
       "      <td>0.874748</td>\n",
       "      <td>0.905237</td>\n",
       "      <td>0.847545</td>\n",
       "      <td>0.02</td>\n",
       "    </tr>\n",
       "    <tr>\n",
       "      <th>Normal</th>\n",
       "      <td>0.0</td>\n",
       "      <td>0.771997</td>\n",
       "      <td>0.853589</td>\n",
       "      <td>0.711863</td>\n",
       "      <td>0.02</td>\n",
       "    </tr>\n",
       "  </tbody>\n",
       "</table>\n",
       "</div>"
      ],
      "text/plain": [
       "                    Unnamed: 0        F1  precision    recall  max_gap\n",
       "method     Group                                                      \n",
       "RMSE       FP1 KD          0.0  0.111672   0.107884  0.116566     0.02\n",
       "           Isolate         0.0  0.085638   0.080201  0.092885     0.02\n",
       "           Normal          0.0  0.062342   0.060465  0.064936     0.02\n",
       "TweetyNet  FP1 KD          0.0  0.774155   0.855216  0.725814     0.02\n",
       "           Isolate         0.0  0.846604   0.853147  0.845113     0.02\n",
       "           Normal          0.0  0.864941   0.909405  0.834313     0.02\n",
       "WhisperSeg FP1 KD          0.0  0.727927   0.820403  0.664531     0.02\n",
       "           Isolate         0.0  0.874748   0.905237  0.847545     0.02\n",
       "           Normal          0.0  0.771997   0.853589  0.711863     0.02"
      ]
     },
     "execution_count": 94,
     "metadata": {},
     "output_type": "execute_result"
    }
   ],
   "source": [
    "all_seg_metrics.groupby(['method', 'Group']).mean()"
   ]
  },
  {
   "cell_type": "code",
   "execution_count": 101,
   "metadata": {},
   "outputs": [
    {
     "name": "stderr",
     "output_type": "stream",
     "text": [
      "c:\\Users\\tkoch\\anaconda3\\envs\\avn_py38\\lib\\site-packages\\seaborn\\categorical.py:1296: UserWarning: 11.1% of the points cannot be placed; you may want to decrease the size of the markers or use stripplot.\n",
      "  warnings.warn(msg, UserWarning)\n"
     ]
    },
    {
     "data": {
      "text/plain": [
       "Text(0.5, 0, 'Method')"
      ]
     },
     "execution_count": 101,
     "metadata": {},
     "output_type": "execute_result"
    },
    {
     "data": {
      "image/png": "[encoded data removed]",
      "text/plain": [
       "<Figure size 288x288 with 1 Axes>"
      ]
     },
     "metadata": {
      "needs_background": "light"
     },
     "output_type": "display_data"
    }
   ],
   "source": [
    "plt.figure(figsize = (4, 4))\n",
    "sns.swarmplot(data = all_seg_metrics, x = 'method', y = 'F1', color = 'black', s = 5)\n",
    "sns.boxenplot(data = all_seg_metrics, x = 'method', y = 'F1', color = '0.8')\n",
    "plt.title(\"Syllable Offsets within 20ms of Ground Truth\")\n",
    "plt.xlabel('Method')"
   ]
  },
  {
   "cell_type": "code",
   "execution_count": 102,
   "metadata": {},
   "outputs": [
    {
     "name": "stderr",
     "output_type": "stream",
     "text": [
      "c:\\Users\\tkoch\\anaconda3\\envs\\avn_py38\\lib\\site-packages\\seaborn\\categorical.py:1296: UserWarning: 11.1% of the points cannot be placed; you may want to decrease the size of the markers or use stripplot.\n",
      "  warnings.warn(msg, UserWarning)\n"
     ]
    },
    {
     "data": {
      "text/plain": [
       "Text(0.5, 0, 'Method')"
      ]
     },
     "execution_count": 102,
     "metadata": {},
     "output_type": "execute_result"
    },
    {
     "data": {
      "image/png": "[encoded data removed]",
      "text/plain": [
       "<Figure size 288x288 with 1 Axes>"
      ]
     },
     "metadata": {
      "needs_background": "light"
     },
     "output_type": "display_data"
    }
   ],
   "source": [
    "plt.figure(figsize = (4, 4))\n",
    "sns.swarmplot(data = all_seg_metrics, x = 'method', y = 'F1', hue = 'Group', s = 5)\n",
    "sns.boxenplot(data = all_seg_metrics, x = 'method', y = 'F1', color = '0.8')\n",
    "plt.title(\"Syllable Offsets within 20ms of Ground Truth\")\n",
    "plt.xlabel('Method')"
   ]
  },
  {
   "cell_type": "code",
   "execution_count": 105,
   "metadata": {},
   "outputs": [
    {
     "data": {
      "text/plain": [
       "Text(0, 0.5, 'Precision')"
      ]
     },
     "execution_count": 105,
     "metadata": {},
     "output_type": "execute_result"
    },
    {
     "data": {
      "image/png": "[encoded data removed]",
      "text/plain": [
       "<Figure size 288x288 with 1 Axes>"
      ]
     },
     "metadata": {
      "needs_background": "light"
     },
     "output_type": "display_data"
    }
   ],
   "source": [
    "plt.figure(figsize = (4, 4))\n",
    "sns.swarmplot(data = all_seg_metrics, x = 'method', y = 'precision', color = 'black', s = 3)\n",
    "sns.boxenplot(data = all_seg_metrics, x = 'method', y = 'precision', color = '0.8')\n",
    "plt.title(\"Syllable Offsets within 20ms of Ground Truth\")\n",
    "plt.xlabel('Method')\n",
    "plt.ylabel('Precision')"
   ]
  },
  {
   "cell_type": "code",
   "execution_count": 106,
   "metadata": {},
   "outputs": [
    {
     "data": {
      "text/plain": [
       "Text(0, 0.5, 'Precision')"
      ]
     },
     "execution_count": 106,
     "metadata": {},
     "output_type": "execute_result"
    },
    {
     "data": {
      "image/png": "[encoded data removed]",
      "text/plain": [
       "<Figure size 288x288 with 1 Axes>"
      ]
     },
     "metadata": {
      "needs_background": "light"
     },
     "output_type": "display_data"
    }
   ],
   "source": [
    "plt.figure(figsize = (4, 4))\n",
    "sns.swarmplot(data = all_seg_metrics, x = 'method', y = 'precision', hue = 'Group', s = 3)\n",
    "sns.boxenplot(data = all_seg_metrics, x = 'method', y = 'precision', color = '0.8')\n",
    "plt.title(\"Syllable Offsets within 20ms of Ground Truth\")\n",
    "plt.xlabel('Method')\n",
    "plt.ylabel('Precision')"
   ]
  },
  {
   "cell_type": "code",
   "execution_count": 107,
   "metadata": {},
   "outputs": [
    {
     "data": {
      "text/plain": [
       "Text(0, 0.5, 'Recall')"
      ]
     },
     "execution_count": 107,
     "metadata": {},
     "output_type": "execute_result"
    },
    {
     "data": {
      "image/png": "[encoded data removed]",
      "text/plain": [
       "<Figure size 288x288 with 1 Axes>"
      ]
     },
     "metadata": {
      "needs_background": "light"
     },
     "output_type": "display_data"
    }
   ],
   "source": [
    "plt.figure(figsize = (4, 4))\n",
    "sns.swarmplot(data = all_seg_metrics, x = 'method', y = 'recall', color = 'black', s = 5)\n",
    "sns.boxenplot(data = all_seg_metrics, x = 'method', y = 'recall', color = '0.8')\n",
    "plt.title(\"Syllable Offsets within 20ms of Ground Truth\")\n",
    "plt.xlabel('Method')\n",
    "plt.ylabel('Recall')"
   ]
  },
  {
   "cell_type": "code",
   "execution_count": 108,
   "metadata": {},
   "outputs": [
    {
     "data": {
      "text/plain": [
       "Text(0, 0.5, 'Recall')"
      ]
     },
     "execution_count": 108,
     "metadata": {},
     "output_type": "execute_result"
    },
    {
     "data": {
      "image/png": "[encoded data removed]",
      "text/plain": [
       "<Figure size 288x288 with 1 Axes>"
      ]
     },
     "metadata": {
      "needs_background": "light"
     },
     "output_type": "display_data"
    }
   ],
   "source": [
    "plt.figure(figsize = (4, 4))\n",
    "sns.swarmplot(data = all_seg_metrics, x = 'method', y = 'recall', hue = 'Group', s = 5)\n",
    "sns.boxenplot(data = all_seg_metrics, x = 'method', y = 'recall', color = '0.8')\n",
    "plt.title(\"Syllable Offsets within 20ms of Ground Truth\")\n",
    "plt.xlabel('Method')\n",
    "plt.ylabel('Recall')"
   ]
  },
  {
   "cell_type": "code",
   "execution_count": null,
   "metadata": {},
   "outputs": [],
   "source": []
  }
 ],
 "metadata": {
  "kernelspec": {
   "display_name": "avn_install_test",
   "language": "python",
   "name": "python3"
  },
  "language_info": {
   "codemirror_mode": {
    "name": "ipython",
    "version": 3
   },
   "file_extension": ".py",
   "mimetype": "text/x-python",
   "name": "python",
   "nbconvert_exporter": "python",
   "pygments_lexer": "ipython3",
   "version": "3.8.12"
  }
 },
 "nbformat": 4,
 "nbformat_minor": 2
}
