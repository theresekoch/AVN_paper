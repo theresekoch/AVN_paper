{
 "cells": [
  {
   "cell_type": "markdown",
   "metadata": {},
   "source": [
    "# 03 - Repetition Bout Figures"
   ]
  },
  {
   "cell_type": "markdown",
   "metadata": {},
   "source": [
    "## Imports"
   ]
  },
  {
   "cell_type": "code",
   "execution_count": 1,
   "metadata": {},
   "outputs": [],
   "source": [
    "import avn.syntax as syntax\n",
    "import avn.plotting as plotting\n",
    "import avn.dataloading as dataloading\n",
    "\n",
    "import pandas as pd\n",
    "import matplotlib.pyplot as plt\n",
    "import seaborn as sns\n",
    "import numpy as np\n",
    "import os"
   ]
  },
  {
   "cell_type": "markdown",
   "metadata": {},
   "source": [
    "## Compile List of Birds"
   ]
  },
  {
   "cell_type": "code",
   "execution_count": 2,
   "metadata": {},
   "outputs": [
    {
     "data": {
      "text/plain": [
       "35"
      ]
     },
     "execution_count": 2,
     "metadata": {},
     "output_type": "execute_result"
    }
   ],
   "source": [
    "All_Birds = [\"B145\", \"B236\", \"B258\", \"B385\", \"B402\", \"B447\", \n",
    "             \"B507\", \"G255\", \"G397\", \"G402\", \"G413\", \"G437\", \n",
    "             \"G439\", \"G524\", \"G528\", \"O144\", \"O254\", \"O421\", \n",
    "             \"O440\", \"O512\", \"R402\", \"R425\", \"R469\", \"S132\", \n",
    "             \"S421\", \"S525\", \"S528\", \"Y389\", \"Y397\", \"Y425\", \n",
    "             \"Y440\", \"B524\", \"O434\", \"Y433\", \"Y453\"] \n",
    "\n",
    "#All_Birds should contain 35 bird IDs. Check: \n",
    "len(All_Birds)"
   ]
  },
  {
   "cell_type": "markdown",
   "metadata": {},
   "source": [
    "## Get Syllable Repetition Statistics - AVN Labels"
   ]
  },
  {
   "cell_type": "code",
   "execution_count": 4,
   "metadata": {},
   "outputs": [],
   "source": [
    "syll_level_syntax_full = pd.DataFrame()\n",
    "\n",
    "for Bird_ID in All_Birds:\n",
    "\n",
    "    path_to_syll_df = \"E:\\\\Final_Bird_Dataset\\\\UMAP_WSeg_labels_updated\\\\\" + Bird_ID + '_labels.csv'\n",
    "\n",
    "    syll_df = pd.read_csv(path_to_syll_df)\n",
    "\n",
    "    if 'files_y' in syll_df.columns:\n",
    "        syll_df['files'] = syll_df.files_y\n",
    "\n",
    "    syll_df = syll_df[~syll_df.files.isna()]\n",
    "\n",
    "    syntax_data = syntax.SyntaxData(Bird_ID, syll_df)\n",
    "\n",
    "    song_folder_path = 'C:\\\\Grad_School\\\\Code_and_software\\\\Py_code\\\\March_2021_redo\\\\redo_data\\\\labeled_songs\\\\' \n",
    "   \n",
    "    syntax_data.add_file_bounds(song_folder_path)\n",
    "    syntax_data.add_gaps(min_gap = 0.2)\n",
    "    syntax_data.drop_calls()\n",
    "    syntax_data.make_transition_matrix()\n",
    "\n",
    "    __, single_rep_stats = syntax_data.get_single_repetition_stats()\n",
    "    intro_notes_df = syntax_data.get_intro_notes_df()\n",
    "    prop_sylls_in_short_bouts = syntax_data.get_prop_sylls_in_short_bouts(max_short_bout_len=2)\n",
    "    per_syll_stats = syntax.Utils.merge_per_syll_stats(single_rep_stats, prop_sylls_in_short_bouts, intro_notes_df)\n",
    "    #get only syllable that aren't intro notes and that exist in bouts of 2 or less syllables in less than 1/3 of utterances\n",
    "    per_syll_stats = per_syll_stats[(per_syll_stats.intro_note == False) & (per_syll_stats.prop_short_bout < 0.33)]\n",
    "    #of those syllable types, select the one with the highest mean_repetition_length. \n",
    "    per_syll_stats = per_syll_stats.sort_values('mean_repetition_length', ascending = False)\n",
    "    top_repeating_syll = pd.DataFrame(per_syll_stats[['mean_repetition_length', 'CV_repetition_length', 'Bird_ID']].iloc[0]).T\n",
    "    top_repeating_syll['Bird_ID'] = Bird_ID\n",
    "    syll_level_syntax_full = pd.concat([syll_level_syntax_full, top_repeating_syll])"
   ]
  },
  {
   "cell_type": "code",
   "execution_count": 5,
   "metadata": {},
   "outputs": [
    {
     "data": {
      "text/html": [
       "<div>\n",
       "<style scoped>\n",
       "    .dataframe tbody tr th:only-of-type {\n",
       "        vertical-align: middle;\n",
       "    }\n",
       "\n",
       "    .dataframe tbody tr th {\n",
       "        vertical-align: top;\n",
       "    }\n",
       "\n",
       "    .dataframe thead th {\n",
       "        text-align: right;\n",
       "    }\n",
       "</style>\n",
       "<table border=\"1\" class=\"dataframe\">\n",
       "  <thead>\n",
       "    <tr style=\"text-align: right;\">\n",
       "      <th></th>\n",
       "      <th>mean_repetition_length</th>\n",
       "      <th>CV_repetition_length</th>\n",
       "      <th>Bird_ID</th>\n",
       "    </tr>\n",
       "  </thead>\n",
       "  <tbody>\n",
       "    <tr>\n",
       "      <th>9</th>\n",
       "      <td>1.9375</td>\n",
       "      <td>0.644354</td>\n",
       "      <td>B145</td>\n",
       "    </tr>\n",
       "    <tr>\n",
       "      <th>0</th>\n",
       "      <td>1.890244</td>\n",
       "      <td>0.826235</td>\n",
       "      <td>B236</td>\n",
       "    </tr>\n",
       "    <tr>\n",
       "      <th>5</th>\n",
       "      <td>1.162162</td>\n",
       "      <td>0.425016</td>\n",
       "      <td>B258</td>\n",
       "    </tr>\n",
       "  </tbody>\n",
       "</table>\n",
       "</div>"
      ],
      "text/plain": [
       "  mean_repetition_length CV_repetition_length Bird_ID\n",
       "9                 1.9375             0.644354    B145\n",
       "0               1.890244             0.826235    B236\n",
       "5               1.162162             0.425016    B258"
      ]
     },
     "execution_count": 5,
     "metadata": {},
     "output_type": "execute_result"
    }
   ],
   "source": [
    "syll_level_syntax_full.head(3)"
   ]
  },
  {
   "cell_type": "code",
   "execution_count": 6,
   "metadata": {},
   "outputs": [],
   "source": [
    "syll_level_syntax_full.to_csv('repetition_stats_wseg_umap.csv')"
   ]
  },
  {
   "cell_type": "markdown",
   "metadata": {},
   "source": [
    "## Plot Mean repetition lengths"
   ]
  },
  {
   "cell_type": "code",
   "execution_count": 7,
   "metadata": {},
   "outputs": [],
   "source": [
    "import pandas as pd\n",
    "import seaborn as sns\n",
    "import matplotlib.pyplot as plt"
   ]
  },
  {
   "cell_type": "code",
   "execution_count": 27,
   "metadata": {},
   "outputs": [],
   "source": [
    "syll_level_syntax_full = pd.read_csv('repetition_stats_wseg_umap.csv')"
   ]
  },
  {
   "cell_type": "code",
   "execution_count": 28,
   "metadata": {},
   "outputs": [],
   "source": [
    "all_birds = pd.read_csv(\"E:\\\\Final_Bird_Dataset\\\\old_Bird_list.csv\")\n",
    "syll_level_syntax_full = pd.merge(syll_level_syntax_full, all_birds[['Bird_ID', 'Condition']], on = 'Bird_ID')\n",
    "\n",
    "group_dict = {'Isolate' : 'Isolate', \n",
    "              'GFP' : 'Typical', \n",
    "              'FP1_KD_pre_tut' : 'FP1 KD', \n",
    "              'FP1_KD_post_tut' : 'Typical'}\n",
    "syll_level_syntax_full['Group'] = [group_dict[x] for x in syll_level_syntax_full.Condition]"
   ]
  },
  {
   "cell_type": "code",
   "execution_count": 29,
   "metadata": {},
   "outputs": [],
   "source": [
    "isolates_AVN = syll_level_syntax_full.mean_repetition_length[syll_level_syntax_full.Group== 'Isolate']\n",
    "normal_AVN = syll_level_syntax_full.mean_repetition_length[syll_level_syntax_full.Group == 'Typical']\n",
    "FP1_AVN = syll_level_syntax_full.mean_repetition_length[syll_level_syntax_full.Group == 'FP1 KD']"
   ]
  },
  {
   "cell_type": "code",
   "execution_count": 30,
   "metadata": {},
   "outputs": [],
   "source": [
    "from scipy.stats import f_oneway\n",
    "from statsmodels.stats.multicomp import pairwise_tukeyhsd"
   ]
  },
  {
   "cell_type": "code",
   "execution_count": 31,
   "metadata": {},
   "outputs": [
    {
     "name": "stdout",
     "output_type": "stream",
     "text": [
      "1.09342689075131 0.34725899287358714\n"
     ]
    }
   ],
   "source": [
    "fvalue, pvalue = f_oneway(isolates_AVN, normal_AVN, FP1_AVN)\n",
    "print(fvalue, pvalue)"
   ]
  },
  {
   "cell_type": "code",
   "execution_count": 32,
   "metadata": {},
   "outputs": [
    {
     "name": "stdout",
     "output_type": "stream",
     "text": [
      " Multiple Comparison of Means - Tukey HSD, FWER=0.05 \n",
      "=====================================================\n",
      " group1  group2 meandiff p-adj   lower  upper  reject\n",
      "-----------------------------------------------------\n",
      " FP1 KD Isolate   0.0862  0.991 -1.5678 1.7402  False\n",
      " FP1 KD Typical  -0.6085 0.5421 -2.0119  0.795  False\n",
      "Isolate Typical  -0.6947 0.4183 -2.0316 0.6423  False\n",
      "-----------------------------------------------------\n"
     ]
    }
   ],
   "source": [
    "tukey = pairwise_tukeyhsd(endog = syll_level_syntax_full['mean_repetition_length'], \n",
    "                          groups = syll_level_syntax_full['Group'], \n",
    "                          alpha = 0.05)\n",
    "\n",
    "print(tukey)"
   ]
  },
  {
   "cell_type": "code",
   "execution_count": 33,
   "metadata": {},
   "outputs": [],
   "source": [
    "syll_level_syntax_full.Group = syll_level_syntax_full.Group.astype('category').cat.set_categories(['Typical', 'Isolate', 'FP1 KD'], ordered = True)"
   ]
  },
  {
   "cell_type": "code",
   "execution_count": 34,
   "metadata": {},
   "outputs": [
    {
     "data": {
      "text/plain": [
       "Text(0.5, 1.0, 'Mean Repetition Bout Length across Groups')"
      ]
     },
     "execution_count": 34,
     "metadata": {},
     "output_type": "execute_result"
    },
    {
     "data": {
      "image/png": "[encoded data removed]",
      "text/plain": [
       "<Figure size 400x400 with 1 Axes>"
      ]
     },
     "metadata": {},
     "output_type": "display_data"
    }
   ],
   "source": [
    "plt.figure(figsize = (4,4))\n",
    "sns.boxplot(data = syll_level_syntax_full, x = 'Group', y = 'mean_repetition_length', color = '0.8')\n",
    "sns.swarmplot(data = syll_level_syntax_full, x = 'Group', y = 'mean_repetition_length', color = 'black', s = 5)\n",
    "plt.ylabel('Mean Repetition Bout Length \\n for Syllable Type with Most Repetitions')\n",
    "plt.title('Mean Repetition Bout Length across Groups')"
   ]
  },
  {
   "cell_type": "markdown",
   "metadata": {},
   "source": [
    "## Plot CV Repetition Bout Lengths"
   ]
  },
  {
   "cell_type": "code",
   "execution_count": 35,
   "metadata": {},
   "outputs": [],
   "source": [
    "import pandas as pd\n",
    "import seaborn as sns\n",
    "import matplotlib.pyplot as plt"
   ]
  },
  {
   "cell_type": "code",
   "execution_count": 36,
   "metadata": {},
   "outputs": [],
   "source": [
    "syll_level_syntax_full = pd.read_csv('repetition_stats_wseg_umap.csv')"
   ]
  },
  {
   "cell_type": "code",
   "execution_count": 37,
   "metadata": {},
   "outputs": [
    {
     "data": {
      "text/html": [
       "<div>\n",
       "<style scoped>\n",
       "    .dataframe tbody tr th:only-of-type {\n",
       "        vertical-align: middle;\n",
       "    }\n",
       "\n",
       "    .dataframe tbody tr th {\n",
       "        vertical-align: top;\n",
       "    }\n",
       "\n",
       "    .dataframe thead th {\n",
       "        text-align: right;\n",
       "    }\n",
       "</style>\n",
       "<table border=\"1\" class=\"dataframe\">\n",
       "  <thead>\n",
       "    <tr style=\"text-align: right;\">\n",
       "      <th></th>\n",
       "      <th>Unnamed: 0</th>\n",
       "      <th>mean_repetition_length</th>\n",
       "      <th>CV_repetition_length</th>\n",
       "      <th>Bird_ID</th>\n",
       "    </tr>\n",
       "  </thead>\n",
       "  <tbody>\n",
       "    <tr>\n",
       "      <th>0</th>\n",
       "      <td>9</td>\n",
       "      <td>1.937500</td>\n",
       "      <td>0.644354</td>\n",
       "      <td>B145</td>\n",
       "    </tr>\n",
       "    <tr>\n",
       "      <th>1</th>\n",
       "      <td>0</td>\n",
       "      <td>1.890244</td>\n",
       "      <td>0.826235</td>\n",
       "      <td>B236</td>\n",
       "    </tr>\n",
       "  </tbody>\n",
       "</table>\n",
       "</div>"
      ],
      "text/plain": [
       "   Unnamed: 0  mean_repetition_length  CV_repetition_length Bird_ID\n",
       "0           9                1.937500              0.644354    B145\n",
       "1           0                1.890244              0.826235    B236"
      ]
     },
     "execution_count": 37,
     "metadata": {},
     "output_type": "execute_result"
    }
   ],
   "source": [
    "syll_level_syntax_full.head(2)"
   ]
  },
  {
   "cell_type": "code",
   "execution_count": 38,
   "metadata": {},
   "outputs": [],
   "source": [
    "all_birds = pd.read_csv(\"E:\\\\Final_Bird_Dataset\\\\old_Bird_list.csv\")\n",
    "syll_level_syntax_full = pd.merge(syll_level_syntax_full, all_birds[['Bird_ID', 'Condition']], on = 'Bird_ID')\n",
    "\n",
    "group_dict = {'Isolate' : 'Isolate', \n",
    "              'GFP' : 'Typical', \n",
    "              'FP1_KD_pre_tut' : 'FP1 KD', \n",
    "              'FP1_KD_post_tut' : 'Typical'}\n",
    "syll_level_syntax_full['Group'] = [group_dict[x] for x in syll_level_syntax_full.Condition]"
   ]
  },
  {
   "cell_type": "code",
   "execution_count": 39,
   "metadata": {},
   "outputs": [],
   "source": [
    "isolates_AVN = syll_level_syntax_full.CV_repetition_length[syll_level_syntax_full.Group== 'Isolate']\n",
    "normal_AVN = syll_level_syntax_full.CV_repetition_length[syll_level_syntax_full.Group == 'Typical']\n",
    "FP1_AVN = syll_level_syntax_full.CV_repetition_length[syll_level_syntax_full.Group == 'FP1 KD']"
   ]
  },
  {
   "cell_type": "code",
   "execution_count": 40,
   "metadata": {},
   "outputs": [],
   "source": [
    "from scipy.stats import f_oneway\n",
    "from statsmodels.stats.multicomp import pairwise_tukeyhsd"
   ]
  },
  {
   "cell_type": "code",
   "execution_count": 41,
   "metadata": {},
   "outputs": [
    {
     "name": "stdout",
     "output_type": "stream",
     "text": [
      "4.645064920368697 0.016937904356646084\n"
     ]
    }
   ],
   "source": [
    "fvalue, pvalue = f_oneway(isolates_AVN, normal_AVN, FP1_AVN)\n",
    "print(fvalue, pvalue)"
   ]
  },
  {
   "cell_type": "code",
   "execution_count": 42,
   "metadata": {},
   "outputs": [
    {
     "name": "stdout",
     "output_type": "stream",
     "text": [
      " Multiple Comparison of Means - Tukey HSD, FWER=0.05  \n",
      "======================================================\n",
      " group1  group2 meandiff p-adj   lower   upper  reject\n",
      "------------------------------------------------------\n",
      " FP1 KD Isolate    0.024 0.9603 -0.1935  0.2416  False\n",
      " FP1 KD Typical  -0.1646 0.0882 -0.3492    0.02  False\n",
      "Isolate Typical  -0.1886 0.0335 -0.3645 -0.0127   True\n",
      "------------------------------------------------------\n"
     ]
    }
   ],
   "source": [
    "tukey = pairwise_tukeyhsd(endog = syll_level_syntax_full['CV_repetition_length'], \n",
    "                          groups = syll_level_syntax_full['Group'], \n",
    "                          alpha = 0.05)\n",
    "\n",
    "print(tukey)"
   ]
  },
  {
   "cell_type": "code",
   "execution_count": 43,
   "metadata": {},
   "outputs": [],
   "source": [
    "syll_level_syntax_full.Group = syll_level_syntax_full.Group.astype('category').cat.set_categories(['Typical', 'Isolate', 'FP1 KD'], ordered = True)"
   ]
  },
  {
   "cell_type": "code",
   "execution_count": 44,
   "metadata": {},
   "outputs": [
    {
     "data": {
      "text/plain": [
       "Text(0.5, 1.0, 'CV Repetition Bout Length across Groups')"
      ]
     },
     "execution_count": 44,
     "metadata": {},
     "output_type": "execute_result"
    },
    {
     "data": {
      "image/png": "[encoded data removed]",
      "text/plain": [
       "<Figure size 400x400 with 1 Axes>"
      ]
     },
     "metadata": {},
     "output_type": "display_data"
    }
   ],
   "source": [
    "plt.figure(figsize = (4,4))\n",
    "sns.boxplot(data = syll_level_syntax_full, x = 'Group', y = 'CV_repetition_length', color = '0.8')\n",
    "sns.swarmplot(data = syll_level_syntax_full, x = 'Group', y = 'CV_repetition_length', color = 'black', s = 5)\n",
    "plt.ylabel('CV Repetition Bout Length \\n for Syllable Type with Most Repetitions')\n",
    "plt.title('CV Repetition Bout Length across Groups')"
   ]
  },
  {
   "cell_type": "code",
   "execution_count": null,
   "metadata": {},
   "outputs": [],
   "source": []
  }
 ],
 "metadata": {
  "kernelspec": {
   "display_name": "avn_install_test",
   "language": "python",
   "name": "python3"
  },
  "language_info": {
   "codemirror_mode": {
    "name": "ipython",
    "version": 3
   },
   "file_extension": ".py",
   "mimetype": "text/x-python",
   "name": "python",
   "nbconvert_exporter": "python",
   "pygments_lexer": "ipython3",
   "version": "3.8.19"
  }
 },
 "nbformat": 4,
 "nbformat_minor": 2
}
