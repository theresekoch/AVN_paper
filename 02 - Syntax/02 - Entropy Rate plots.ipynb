{
 "cells": [
  {
   "cell_type": "markdown",
   "metadata": {},
   "source": [
    "# 02 - Entropy Rate Plots"
   ]
  },
  {
   "cell_type": "markdown",
   "metadata": {},
   "source": [
    "## Imports"
   ]
  },
  {
   "cell_type": "code",
   "execution_count": 1,
   "metadata": {},
   "outputs": [],
   "source": [
    "import avn.syntax as syntax\n",
    "import avn.plotting as plotting\n",
    "import avn.dataloading as dataloading\n",
    "\n",
    "import pandas as pd\n",
    "import matplotlib.pyplot as plt\n",
    "import seaborn as sns\n",
    "import numpy as np\n",
    "import os"
   ]
  },
  {
   "cell_type": "code",
   "execution_count": 2,
   "metadata": {},
   "outputs": [],
   "source": [
    "from scipy.io import wavfile\n",
    "import librosa\n",
    "import re\n",
    "import scipy.signal\n",
    "import pandas as pd\n",
    "class SongFile:\n",
    "    \"\"\"\n",
    "    Data and metadata pertaining to a single audio file.\n",
    "    \n",
    "    \n",
    "    Attributes\n",
    "    ----------\n",
    "    data: ndarray\n",
    "        Contains audio data of wavfile. \n",
    "    \n",
    "    sample_rate: int\n",
    "        Sample rate of song data. Based on native sample rate of wavfile.\n",
    "    \n",
    "    duration: float\n",
    "        Duration of the audio file in seconds. \n",
    "    \n",
    "    file_path: str\n",
    "        Path to the local .wav file used to instantiate the SongFile object.\n",
    "    \n",
    "    Methods\n",
    "    -------\n",
    "    bandpass_filter(lower_cutoff, upper_cutoff)\n",
    "        Applies a hamming window bandpass filter to the audio data. \n",
    "    \n",
    "    \"\"\"\n",
    "    def __init__(self, file_path):\n",
    "        \"\"\"\n",
    "        Parameters\n",
    "        ----------\n",
    "        file_path : str\n",
    "            Path to the local .wav file to be loaded as a SongFile object.\n",
    "             \n",
    "        \"\"\"\n",
    "        self.sample_rate, self.data = wavfile.read(file_path)\n",
    "        self.data = self.data.astype(float)\n",
    "        self.duration = librosa.get_duration(y = self.data, sr = self.sample_rate)\n",
    "        self.file_path = file_path\n",
    "        \n",
    "        #get file name -- This may be windows specific. \n",
    "        file_name_regex = re.compile(\"\\\\\\\\\")\n",
    "        self.file_name = file_name_regex.split(self.file_path)[-1]\n",
    "                                                  \n",
    "    def bandpass_filter(self, lower_cutoff, upper_cutoff):\n",
    "        \"\"\"\n",
    "        Applies a hamming window bandpass filter to the audio data.\n",
    "\n",
    "        Parameters\n",
    "        ----------\n",
    "        lower_cutoff : int\n",
    "            Lower cutoff frequency in Hz for the filter. \n",
    "        upper_cutoff : int\n",
    "            Upper cutoff frequency in Hz for the filter. \n",
    "\n",
    "        Returns\n",
    "        -------\n",
    "        None.\n",
    "\n",
    "        \"\"\"\n",
    "        #create hamming window filter\n",
    "        filter_bandpass = scipy.signal.firwin(101, cutoff = [lower_cutoff, upper_cutoff], \n",
    "                                              fs = self.sample_rate, \n",
    "                                              pass_zero = False)\n",
    "        #apply filter to audio data\n",
    "        self.data = scipy.signal.lfilter(filter_bandpass, [1.0], self.data)"
   ]
  },
  {
   "cell_type": "code",
   "execution_count": 3,
   "metadata": {},
   "outputs": [],
   "source": [
    "dataloading.SongFile = SongFile"
   ]
  },
  {
   "cell_type": "markdown",
   "metadata": {},
   "source": [
    "## Compile List of Birds"
   ]
  },
  {
   "cell_type": "code",
   "execution_count": 4,
   "metadata": {},
   "outputs": [
    {
     "data": {
      "text/plain": [
       "35"
      ]
     },
     "execution_count": 4,
     "metadata": {},
     "output_type": "execute_result"
    }
   ],
   "source": [
    "All_Birds = [\"B145\", \"B236\", \"B258\", \"B385\", \"B402\", \"B447\", \n",
    "             \"B507\", \"G255\", \"G397\", \"G402\", \"G413\", \"G437\", \n",
    "             \"G439\", \"G524\", \"G528\", \"O144\", \"O254\", \"O421\", \n",
    "             \"O440\", \"O512\", \"R402\", \"R425\", \"R469\", \"S132\", \n",
    "             \"S421\", \"S525\", \"S528\", \"Y389\", \"Y397\", \"Y425\", \n",
    "             \"Y440\", \"B524\", \"O434\", \"Y433\", \"Y453\"] \n",
    "\n",
    "#All_Birds should contain 35 bird IDs. Check: \n",
    "len(All_Birds)"
   ]
  },
  {
   "cell_type": "markdown",
   "metadata": {},
   "source": [
    "## Calculate Entropy Rates with UMAP + WSEG Labels"
   ]
  },
  {
   "cell_type": "code",
   "execution_count": 6,
   "metadata": {},
   "outputs": [],
   "source": [
    "bird_level_syntax_full = pd.DataFrame()\n",
    "\n",
    "for Bird_ID in All_Birds:\n",
    "    \n",
    "    path_to_syll_df = \"E:\\\\Final_Bird_Dataset\\\\UMAP_WSeg_labels_updated\\\\\" + Bird_ID + '_labels.csv'\n",
    "    syll_df = pd.read_csv(path_to_syll_df)\n",
    "\n",
    "    if 'files_y' in syll_df.columns:\n",
    "        syll_df['files'] = syll_df.files_y\n",
    "\n",
    "    syll_df = syll_df[~syll_df.files.isna()]\n",
    "    syntax_data = syntax.SyntaxData(Bird_ID, syll_df)\n",
    "\n",
    "    song_folder_path = 'C:\\\\Grad_School\\\\Code_and_software\\\\Py_code\\\\March_2021_redo\\\\redo_data\\\\labeled_songs\\\\' \n",
    "\n",
    "    syntax_data.add_file_bounds(song_folder_path)\n",
    "    syntax_data.add_gaps(min_gap = 0.2)\n",
    "    syntax_data.drop_calls()\n",
    "    syntax_data.make_transition_matrix()\n",
    "\n",
    "    entropy_rate = syntax_data.get_entropy_rate()\n",
    "    entropy_rate_norm = entropy_rate / np.log2(len(syntax_data.unique_labels) + 1)\n",
    "\n",
    "    curr_df = pd.DataFrame({'Bird_ID' : Bird_ID,  \n",
    "                            'entropy_rate' : [entropy_rate], \n",
    "                            'entropy_rate_norm' : [entropy_rate_norm], \n",
    "                            'num_syllables' : [len(syntax_data.unique_labels)]})\n",
    "\n",
    "    bird_level_syntax_full = pd.concat([bird_level_syntax_full, curr_df])"
   ]
  },
  {
   "cell_type": "code",
   "execution_count": 7,
   "metadata": {},
   "outputs": [],
   "source": [
    "bird_level_syntax_full.to_csv('bird_level_syntax_wseg_umap.csv')"
   ]
  },
  {
   "cell_type": "markdown",
   "metadata": {},
   "source": [
    "## Calculate Entropy Rates with Hand Labels"
   ]
  },
  {
   "cell_type": "code",
   "execution_count": 8,
   "metadata": {},
   "outputs": [],
   "source": [
    "bird_level_syntax_full = pd.DataFrame()\n",
    "\n",
    "for Bird_ID in All_Birds:\n",
    "    \n",
    "    path_to_syll_df = \"C:/Grad_School/Code_and_software/Py_code/March_2021_redo/redo_data/labeled_songs/\" + Bird_ID + \"/\" + Bird_ID + \"_syll_df_evsonganaly.csv\"\n",
    "    syll_df = pd.read_csv(path_to_syll_df)\n",
    "\n",
    "    #convert timestamps from milliseconds to seconds\n",
    "    syll_df['onsets'] = syll_df['onsets'] / 1000\n",
    "    syll_df['offsets'] = syll_df['offsets'] / 1000\n",
    "    \n",
    "    #remove .not.mat file extension from file names in file column\n",
    "    syll_df['files'] = syll_df['files'].str.split(pat = '.not', n = 1).str[0]\n",
    "        \n",
    "    syntax_data = syntax.SyntaxData(Bird_ID, syll_df)\n",
    "\n",
    "    song_folder_path = 'C:\\\\Grad_School\\\\Code_and_software\\\\Py_code\\\\March_2021_redo\\\\redo_data\\\\labeled_songs\\\\' \n",
    "\n",
    "    syntax_data.add_file_bounds(song_folder_path)\n",
    "    syntax_data.add_gaps(min_gap = 0.2)\n",
    "    syntax_data.drop_calls()\n",
    "    syntax_data.make_transition_matrix()\n",
    "\n",
    "    entropy_rate = syntax_data.get_entropy_rate()\n",
    "    entropy_rate_norm = entropy_rate / np.log2(len(syntax_data.unique_labels) + 1)\n",
    "\n",
    "    curr_df = pd.DataFrame({'Bird_ID' : Bird_ID,  \n",
    "                            'entropy_rate' : [entropy_rate], \n",
    "                            'entropy_rate_norm' : [entropy_rate_norm], \n",
    "                            'num_syllables' : [len(syntax_data.unique_labels)]})\n",
    "\n",
    "    bird_level_syntax_full = pd.concat([bird_level_syntax_full, curr_df])"
   ]
  },
  {
   "cell_type": "code",
   "execution_count": 9,
   "metadata": {},
   "outputs": [],
   "source": [
    "bird_level_syntax_full.to_csv('bird_level_syntax_hand_labels.csv')"
   ]
  },
  {
   "cell_type": "markdown",
   "metadata": {},
   "source": [
    "## Compare AVN labels vs. Hand Labels"
   ]
  },
  {
   "cell_type": "code",
   "execution_count": 10,
   "metadata": {},
   "outputs": [],
   "source": [
    "import pandas as pd\n",
    "import matplotlib.pyplot as plt\n",
    "import seaborn as sns\n",
    "import numpy as np\n",
    "import os"
   ]
  },
  {
   "cell_type": "code",
   "execution_count": 11,
   "metadata": {},
   "outputs": [],
   "source": [
    "hand_labels = pd.read_csv('bird_level_syntax_hand_labels.csv')\n",
    "avn_labels = pd.read_csv('bird_level_syntax_wseg_UMAP.csv')"
   ]
  },
  {
   "cell_type": "code",
   "execution_count": 12,
   "metadata": {},
   "outputs": [],
   "source": [
    "avn_labels['AVN_er_norm'] = avn_labels.entropy_rate_norm\n",
    "hand_labels['Hand_er_norm'] = hand_labels.entropy_rate_norm"
   ]
  },
  {
   "cell_type": "code",
   "execution_count": 13,
   "metadata": {},
   "outputs": [
    {
     "data": {
      "text/html": [
       "<div>\n",
       "<style scoped>\n",
       "    .dataframe tbody tr th:only-of-type {\n",
       "        vertical-align: middle;\n",
       "    }\n",
       "\n",
       "    .dataframe tbody tr th {\n",
       "        vertical-align: top;\n",
       "    }\n",
       "\n",
       "    .dataframe thead th {\n",
       "        text-align: right;\n",
       "    }\n",
       "</style>\n",
       "<table border=\"1\" class=\"dataframe\">\n",
       "  <thead>\n",
       "    <tr style=\"text-align: right;\">\n",
       "      <th></th>\n",
       "      <th>Bird_ID</th>\n",
       "      <th>Hand_er_norm</th>\n",
       "      <th>AVN_er_norm</th>\n",
       "    </tr>\n",
       "  </thead>\n",
       "  <tbody>\n",
       "    <tr>\n",
       "      <th>0</th>\n",
       "      <td>B145</td>\n",
       "      <td>0.254501</td>\n",
       "      <td>0.444428</td>\n",
       "    </tr>\n",
       "    <tr>\n",
       "      <th>1</th>\n",
       "      <td>B236</td>\n",
       "      <td>0.643662</td>\n",
       "      <td>0.753750</td>\n",
       "    </tr>\n",
       "    <tr>\n",
       "      <th>2</th>\n",
       "      <td>B258</td>\n",
       "      <td>0.404360</td>\n",
       "      <td>0.432746</td>\n",
       "    </tr>\n",
       "    <tr>\n",
       "      <th>3</th>\n",
       "      <td>B385</td>\n",
       "      <td>0.207545</td>\n",
       "      <td>0.356299</td>\n",
       "    </tr>\n",
       "    <tr>\n",
       "      <th>4</th>\n",
       "      <td>B402</td>\n",
       "      <td>0.480421</td>\n",
       "      <td>0.627678</td>\n",
       "    </tr>\n",
       "  </tbody>\n",
       "</table>\n",
       "</div>"
      ],
      "text/plain": [
       "  Bird_ID  Hand_er_norm  AVN_er_norm\n",
       "0    B145      0.254501     0.444428\n",
       "1    B236      0.643662     0.753750\n",
       "2    B258      0.404360     0.432746\n",
       "3    B385      0.207545     0.356299\n",
       "4    B402      0.480421     0.627678"
      ]
     },
     "execution_count": 13,
     "metadata": {},
     "output_type": "execute_result"
    }
   ],
   "source": [
    "full_df = pd.merge(hand_labels[['Bird_ID', 'Hand_er_norm']], avn_labels[['Bird_ID', 'AVN_er_norm']], on = 'Bird_ID')\n",
    "full_df.head()"
   ]
  },
  {
   "cell_type": "code",
   "execution_count": 14,
   "metadata": {},
   "outputs": [],
   "source": [
    "plt.rcParams.update({'font.size': 11})"
   ]
  },
  {
   "cell_type": "code",
   "execution_count": 15,
   "metadata": {},
   "outputs": [
    {
     "name": "stderr",
     "output_type": "stream",
     "text": [
      "c:\\Users\\tkoch\\anaconda3\\envs\\avn4_install_test\\lib\\site-packages\\seaborn\\axisgrid.py:118: UserWarning: The figure layout has changed to tight\n",
      "  self._figure.tight_layout(*args, **kwargs)\n"
     ]
    },
    {
     "data": {
      "text/plain": [
       "<Figure size 400x400 with 0 Axes>"
      ]
     },
     "metadata": {},
     "output_type": "display_data"
    },
    {
     "data": {
      "image/png": "[encoded data removed]",
      "text/plain": [
       "<Figure size 500x500 with 1 Axes>"
      ]
     },
     "metadata": {},
     "output_type": "display_data"
    }
   ],
   "source": [
    "plt.figure(figsize = (4,4))\n",
    "sns.lmplot(data = full_df, x = 'Hand_er_norm', y = 'AVN_er_norm')\n",
    "plt.xlabel('Manual Annotations')\n",
    "plt.ylabel('AVN Labels')\n",
    "plt.title('Normalized Entropy Rate with \\nAVN Labels vs. Manual Annotation')\n",
    "plt.show()"
   ]
  },
  {
   "cell_type": "code",
   "execution_count": 16,
   "metadata": {},
   "outputs": [],
   "source": [
    "from sklearn.linear_model import LinearRegression\n",
    "from scipy.stats import pearsonr"
   ]
  },
  {
   "cell_type": "code",
   "execution_count": 18,
   "metadata": {},
   "outputs": [
    {
     "name": "stdout",
     "output_type": "stream",
     "text": [
      "0.788921864041213\n"
     ]
    }
   ],
   "source": [
    "# linear regression to get slope and r^2\n",
    "reg = LinearRegression().fit(np.array(full_df['Hand_er_norm'])[:, np.newaxis], full_df['AVN_er_norm'])\n",
    "print(reg.score(np.array(full_df['Hand_er_norm'])[:, np.newaxis], full_df['AVN_er_norm']))"
   ]
  },
  {
   "cell_type": "code",
   "execution_count": 19,
   "metadata": {},
   "outputs": [
    {
     "data": {
      "text/plain": [
       "(0.8882127358021911, 1.0988227617165504e-12)"
      ]
     },
     "execution_count": 19,
     "metadata": {},
     "output_type": "execute_result"
    }
   ],
   "source": [
    "pearsonr(full_df['Hand_er_norm'], full_df['AVN_er_norm'])"
   ]
  },
  {
   "cell_type": "markdown",
   "metadata": {},
   "source": [
    "## Comparing Groups"
   ]
  },
  {
   "cell_type": "code",
   "execution_count": 20,
   "metadata": {},
   "outputs": [],
   "source": [
    "all_birds = pd.read_csv(\"E:\\\\Final_Bird_Dataset\\\\old_Bird_list.csv\")\n",
    "full_df = pd.merge(full_df, all_birds[['Bird_ID', 'Condition']], on = 'Bird_ID')"
   ]
  },
  {
   "cell_type": "code",
   "execution_count": 21,
   "metadata": {},
   "outputs": [],
   "source": [
    "group_dict = {'Isolate' : 'Isolate', \n",
    "              'GFP' : 'Normal', \n",
    "              'FP1_KD_pre_tut' : 'FP1 KD', \n",
    "              'FP1_KD_post_tut' : 'Normal'}\n",
    "full_df['Group'] = [group_dict[x] for x in full_df.Condition]"
   ]
  },
  {
   "cell_type": "markdown",
   "metadata": {},
   "source": [
    "### AVN Labels"
   ]
  },
  {
   "cell_type": "code",
   "execution_count": 22,
   "metadata": {},
   "outputs": [],
   "source": [
    "isolates_AVN = full_df.AVN_er_norm[full_df.Group== 'Isolate']\n",
    "normal_AVN = full_df.AVN_er_norm[full_df.Group == 'Normal']\n",
    "FP1_AVN = full_df.AVN_er_norm[full_df.Group == 'FP1 KD']"
   ]
  },
  {
   "cell_type": "code",
   "execution_count": 23,
   "metadata": {},
   "outputs": [],
   "source": [
    "from scipy.stats import f_oneway\n",
    "from statsmodels.stats.multicomp import pairwise_tukeyhsd"
   ]
  },
  {
   "cell_type": "code",
   "execution_count": 24,
   "metadata": {},
   "outputs": [
    {
     "name": "stdout",
     "output_type": "stream",
     "text": [
      "15.05305664846605 2.4674595021836464e-05\n"
     ]
    }
   ],
   "source": [
    "fvalue, pvalue = f_oneway(isolates_AVN, normal_AVN, FP1_AVN)\n",
    "print(fvalue, pvalue)"
   ]
  },
  {
   "cell_type": "code",
   "execution_count": 25,
   "metadata": {},
   "outputs": [
    {
     "name": "stdout",
     "output_type": "stream",
     "text": [
      " Multiple Comparison of Means - Tukey HSD, FWER=0.05  \n",
      "======================================================\n",
      " group1  group2 meandiff p-adj   lower   upper  reject\n",
      "------------------------------------------------------\n",
      " FP1 KD Isolate  -0.0153 0.9507 -0.1398  0.1091  False\n",
      " FP1 KD  Normal  -0.1913 0.0003 -0.2969 -0.0857   True\n",
      "Isolate  Normal  -0.1759 0.0004 -0.2765 -0.0753   True\n",
      "------------------------------------------------------\n"
     ]
    }
   ],
   "source": [
    "tukey = pairwise_tukeyhsd(endog = full_df['AVN_er_norm'], \n",
    "                          groups = full_df['Group'], \n",
    "                          alpha = 0.05)\n",
    "\n",
    "print(tukey)"
   ]
  },
  {
   "cell_type": "code",
   "execution_count": 26,
   "metadata": {},
   "outputs": [],
   "source": [
    "full_df.Group = full_df.Group.astype('category').cat.set_categories(['Normal', 'Isolate', 'FP1 KD'], ordered = True)"
   ]
  },
  {
   "cell_type": "code",
   "execution_count": 28,
   "metadata": {},
   "outputs": [
    {
     "data": {
      "text/plain": [
       "(0.2, 0.85)"
      ]
     },
     "execution_count": 28,
     "metadata": {},
     "output_type": "execute_result"
    },
    {
     "data": {
      "image/png": "[encoded data removed]",
      "text/plain": [
       "<Figure size 400x400 with 1 Axes>"
      ]
     },
     "metadata": {},
     "output_type": "display_data"
    }
   ],
   "source": [
    "plt.figure(figsize = (4,4))\n",
    "sns.boxplot(data = full_df, x = 'Group', y = 'AVN_er_norm', color = '0.8')\n",
    "sns.swarmplot(data = full_df, x = 'Group', y = 'AVN_er_norm', color = 'black', s = 5)\n",
    "plt.ylabel('Normalized Syntax Entropy Rate')\n",
    "plt.title('Group Comparison with AVN Labels')\n",
    "plt.ylim(0.2, 0.85)"
   ]
  },
  {
   "cell_type": "markdown",
   "metadata": {},
   "source": [
    "## Hand Labels"
   ]
  },
  {
   "cell_type": "code",
   "execution_count": 23,
   "metadata": {},
   "outputs": [],
   "source": [
    "isolates_Hand= full_df.Hand_er_norm[full_df.Group== 'Isolate']\n",
    "normal_Hand = full_df.Hand_er_norm[full_df.Group == 'Normal']\n",
    "FP1_Hand = full_df.Hand_er_norm[full_df.Group == 'FP1 KD']"
   ]
  },
  {
   "cell_type": "code",
   "execution_count": 24,
   "metadata": {},
   "outputs": [
    {
     "name": "stdout",
     "output_type": "stream",
     "text": [
      "13.453464385263258 5.3346827231377095e-05\n"
     ]
    }
   ],
   "source": [
    "fvalue, pvalue = f_oneway(isolates_Hand, normal_Hand, FP1_Hand)\n",
    "print(fvalue, pvalue)"
   ]
  },
  {
   "cell_type": "code",
   "execution_count": 25,
   "metadata": {},
   "outputs": [
    {
     "name": "stdout",
     "output_type": "stream",
     "text": [
      " Multiple Comparison of Means - Tukey HSD, FWER=0.05  \n",
      "======================================================\n",
      " group1  group2 meandiff p-adj   lower   upper  reject\n",
      "------------------------------------------------------\n",
      " FP1 KD Isolate  -0.0239 0.9096 -0.1649  0.1171  False\n",
      " FP1 KD  Normal  -0.2113 0.0003 -0.3292 -0.0933   True\n",
      "Isolate  Normal  -0.1874 0.0013 -0.3054 -0.0694   True\n",
      "------------------------------------------------------\n"
     ]
    }
   ],
   "source": [
    "tukey = pairwise_tukeyhsd(endog = full_df['Hand_er_norm'], \n",
    "                          groups = full_df['Group'], \n",
    "                          alpha = 0.05)\n",
    "\n",
    "print(tukey)"
   ]
  },
  {
   "cell_type": "code",
   "execution_count": null,
   "metadata": {},
   "outputs": [],
   "source": []
  }
 ],
 "metadata": {
  "kernelspec": {
   "display_name": "avn_install_test",
   "language": "python",
   "name": "python3"
  },
  "language_info": {
   "codemirror_mode": {
    "name": "ipython",
    "version": 3
   },
   "file_extension": ".py",
   "mimetype": "text/x-python",
   "name": "python",
   "nbconvert_exporter": "python",
   "pygments_lexer": "ipython3",
   "version": "3.8.19"
  }
 },
 "nbformat": 4,
 "nbformat_minor": 2
}
