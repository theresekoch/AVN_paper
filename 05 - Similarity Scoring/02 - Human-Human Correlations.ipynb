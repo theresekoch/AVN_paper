{
 "cells": [
  {
   "cell_type": "markdown",
   "metadata": {},
   "source": [
    "# 02 - Calculating Human-Human Correlations"
   ]
  },
  {
   "cell_type": "markdown",
   "metadata": {},
   "source": [
    "I know that the EMD scores have an r=-0.87 correlation with the human similarity scores, which is quite high. To further contextualize just how high, I'm curious to look at the distribution of correlations between the different human raters in the dataset to see if EMD falls within the range of human raters consistency with eachother. To do this, I'm going to go through each rater and calculate the correlation between their score and the mean of the rest of the scores. "
   ]
  },
  {
   "cell_type": "markdown",
   "metadata": {},
   "source": [
    "## Imports"
   ]
  },
  {
   "cell_type": "code",
   "execution_count": 4,
   "metadata": {},
   "outputs": [],
   "source": [
    "import numpy as np\n",
    "import os\n",
    "import matplotlib.patches as patches\n",
    "import pandas as pd\n",
    "import matplotlib.pyplot as plt\n",
    "from sklearn import metrics\n",
    "import seaborn as sns"
   ]
  },
  {
   "cell_type": "markdown",
   "metadata": {},
   "source": [
    "## Load SAP Scores"
   ]
  },
  {
   "cell_type": "code",
   "execution_count": 5,
   "metadata": {},
   "outputs": [],
   "source": [
    "raw_scores = pd.read_csv('full_scoring_with_legend.csv')"
   ]
  },
  {
   "cell_type": "code",
   "execution_count": 6,
   "metadata": {},
   "outputs": [
    {
     "data": {
      "text/plain": [
       "array(['tut_post_FoxP1_v_tut', 'tut_pre_FoxP1_v_tut',\n",
       "       'tut_post_GFP_v_tut', 'tut_v_itself', 'duplicate'], dtype=object)"
      ]
     },
     "execution_count": 6,
     "metadata": {},
     "output_type": "execute_result"
    }
   ],
   "source": [
    "raw_scores.Comparison_type.unique()"
   ]
  },
  {
   "cell_type": "code",
   "execution_count": 7,
   "metadata": {},
   "outputs": [
    {
     "data": {
      "text/plain": [
       "array(['B308', 'G311', 'B416', 'O314', 'R311', 'O210', 'B103', 'B181',\n",
       "       'S409'], dtype=object)"
      ]
     },
     "execution_count": 7,
     "metadata": {},
     "output_type": "execute_result"
    }
   ],
   "source": [
    "raw_scores.Bird_1.unique()"
   ]
  },
  {
   "cell_type": "code",
   "execution_count": 8,
   "metadata": {},
   "outputs": [
    {
     "data": {
      "text/plain": [
       "array(['S389', 'Y389', 'G397', 'Y397', 'B402', 'G413', 'O421', 'S421',\n",
       "       'G402', 'R402', 'Y425', 'R425', 'G437', 'G439', 'O440', 'Y440',\n",
       "       'B447', 'O434', 'Y433', 'R469', 'B507', 'O512', 'B524', 'G524',\n",
       "       'B308', 'B103', 'G311', 'O314', 'S525', 'G528', 'S528'],\n",
       "      dtype=object)"
      ]
     },
     "execution_count": 8,
     "metadata": {},
     "output_type": "execute_result"
    }
   ],
   "source": [
    "raw_scores.Bird_2.unique()"
   ]
  },
  {
   "cell_type": "markdown",
   "metadata": {},
   "source": [
    "Bird 1 was always the tutor, Bird 2 was the pupil. So we need to group by Bird 2"
   ]
  },
  {
   "cell_type": "code",
   "execution_count": 21,
   "metadata": {},
   "outputs": [],
   "source": [
    "mean_scores_per_pair = raw_scores.groupby('Bird_2').mean(numeric_only=True).reset_index()"
   ]
  },
  {
   "cell_type": "code",
   "execution_count": 22,
   "metadata": {},
   "outputs": [
    {
     "data": {
      "text/html": [
       "<div>\n",
       "<style scoped>\n",
       "    .dataframe tbody tr th:only-of-type {\n",
       "        vertical-align: middle;\n",
       "    }\n",
       "\n",
       "    .dataframe tbody tr th {\n",
       "        vertical-align: top;\n",
       "    }\n",
       "\n",
       "    .dataframe thead th {\n",
       "        text-align: right;\n",
       "    }\n",
       "</style>\n",
       "<table border=\"1\" class=\"dataframe\">\n",
       "  <thead>\n",
       "    <tr style=\"text-align: right;\">\n",
       "      <th></th>\n",
       "      <th>Bird_2</th>\n",
       "      <th>Question_number</th>\n",
       "      <th>Duplicate_pair</th>\n",
       "      <th>Thereses-w/outLast3GFPfulltestTEST</th>\n",
       "      <th>Maaya Ikeda</th>\n",
       "      <th>Francisco</th>\n",
       "      <th>Massimo</th>\n",
       "      <th>Todd</th>\n",
       "      <th>Mgaldamez</th>\n",
       "      <th>Andrea Guerrero</th>\n",
       "      <th>Harshida</th>\n",
       "      <th>Jen</th>\n",
       "      <th>Devin Merullo</th>\n",
       "      <th>Dan</th>\n",
       "      <th>Lei Xiao</th>\n",
       "    </tr>\n",
       "  </thead>\n",
       "  <tbody>\n",
       "    <tr>\n",
       "      <th>0</th>\n",
       "      <td>B103</td>\n",
       "      <td>103.5</td>\n",
       "      <td>0.0</td>\n",
       "      <td>9.50</td>\n",
       "      <td>8.0</td>\n",
       "      <td>9.5</td>\n",
       "      <td>9.5</td>\n",
       "      <td>9.5</td>\n",
       "      <td>8.0</td>\n",
       "      <td>8.0</td>\n",
       "      <td>8.0</td>\n",
       "      <td>9.5</td>\n",
       "      <td>5.5</td>\n",
       "      <td>9.0</td>\n",
       "      <td>8.5</td>\n",
       "    </tr>\n",
       "    <tr>\n",
       "      <th>1</th>\n",
       "      <td>B308</td>\n",
       "      <td>101.5</td>\n",
       "      <td>0.0</td>\n",
       "      <td>10.00</td>\n",
       "      <td>9.5</td>\n",
       "      <td>10.0</td>\n",
       "      <td>9.0</td>\n",
       "      <td>10.0</td>\n",
       "      <td>8.0</td>\n",
       "      <td>9.0</td>\n",
       "      <td>9.0</td>\n",
       "      <td>9.5</td>\n",
       "      <td>9.0</td>\n",
       "      <td>9.5</td>\n",
       "      <td>8.0</td>\n",
       "    </tr>\n",
       "    <tr>\n",
       "      <th>2</th>\n",
       "      <td>B402</td>\n",
       "      <td>39.2</td>\n",
       "      <td>0.8</td>\n",
       "      <td>1.75</td>\n",
       "      <td>3.0</td>\n",
       "      <td>7.4</td>\n",
       "      <td>3.2</td>\n",
       "      <td>2.8</td>\n",
       "      <td>2.4</td>\n",
       "      <td>1.8</td>\n",
       "      <td>2.0</td>\n",
       "      <td>1.4</td>\n",
       "      <td>3.8</td>\n",
       "      <td>0.6</td>\n",
       "      <td>3.6</td>\n",
       "    </tr>\n",
       "  </tbody>\n",
       "</table>\n",
       "</div>"
      ],
      "text/plain": [
       "  Bird_2  Question_number  Duplicate_pair  Thereses-w/outLast3GFPfulltestTEST  \\\n",
       "0   B103            103.5             0.0                                9.50   \n",
       "1   B308            101.5             0.0                               10.00   \n",
       "2   B402             39.2             0.8                                1.75   \n",
       "\n",
       "   Maaya Ikeda  Francisco  Massimo  Todd  Mgaldamez  Andrea Guerrero  \\\n",
       "0          8.0        9.5      9.5   9.5        8.0              8.0   \n",
       "1          9.5       10.0      9.0  10.0        8.0              9.0   \n",
       "2          3.0        7.4      3.2   2.8        2.4              1.8   \n",
       "\n",
       "   Harshida  Jen  Devin Merullo  Dan  Lei Xiao  \n",
       "0       8.0  9.5            5.5  9.0       8.5  \n",
       "1       9.0  9.5            9.0  9.5       8.0  \n",
       "2       2.0  1.4            3.8  0.6       3.6  "
      ]
     },
     "execution_count": 22,
     "metadata": {},
     "output_type": "execute_result"
    }
   ],
   "source": [
    "mean_scores_per_pair.head(3)"
   ]
  },
  {
   "cell_type": "markdown",
   "metadata": {},
   "source": [
    "Not all the birds have EMD scores (because their tutors didn't have enough songs recorded), so we will keep only those birds that made it into the final comparison"
   ]
  },
  {
   "cell_type": "code",
   "execution_count": 18,
   "metadata": {},
   "outputs": [
    {
     "data": {
      "text/html": [
       "<div>\n",
       "<style scoped>\n",
       "    .dataframe tbody tr th:only-of-type {\n",
       "        vertical-align: middle;\n",
       "    }\n",
       "\n",
       "    .dataframe tbody tr th {\n",
       "        vertical-align: top;\n",
       "    }\n",
       "\n",
       "    .dataframe thead th {\n",
       "        text-align: right;\n",
       "    }\n",
       "</style>\n",
       "<table border=\"1\" class=\"dataframe\">\n",
       "  <thead>\n",
       "    <tr style=\"text-align: right;\">\n",
       "      <th></th>\n",
       "      <th>Bird_ID</th>\n",
       "      <th>Tutor_ID</th>\n",
       "      <th>EMD</th>\n",
       "      <th>%Similarity</th>\n",
       "      <th>Bird_2</th>\n",
       "      <th>mean_score</th>\n",
       "      <th>Comparison_type</th>\n",
       "    </tr>\n",
       "  </thead>\n",
       "  <tbody>\n",
       "    <tr>\n",
       "      <th>0</th>\n",
       "      <td>G402</td>\n",
       "      <td>O314</td>\n",
       "      <td>0.581091</td>\n",
       "      <td>87.325000</td>\n",
       "      <td>G402</td>\n",
       "      <td>5.159091</td>\n",
       "      <td>tut_pre_FoxP1_v_tut</td>\n",
       "    </tr>\n",
       "    <tr>\n",
       "      <th>1</th>\n",
       "      <td>R402</td>\n",
       "      <td>O314</td>\n",
       "      <td>0.652488</td>\n",
       "      <td>73.914894</td>\n",
       "      <td>R402</td>\n",
       "      <td>4.982323</td>\n",
       "      <td>tut_pre_FoxP1_v_tut</td>\n",
       "    </tr>\n",
       "    <tr>\n",
       "      <th>2</th>\n",
       "      <td>B447</td>\n",
       "      <td>B181</td>\n",
       "      <td>0.506988</td>\n",
       "      <td>59.100000</td>\n",
       "      <td>B447</td>\n",
       "      <td>7.232323</td>\n",
       "      <td>tut_pre_FoxP1_v_tut</td>\n",
       "    </tr>\n",
       "    <tr>\n",
       "      <th>3</th>\n",
       "      <td>S389</td>\n",
       "      <td>B308</td>\n",
       "      <td>0.521639</td>\n",
       "      <td>72.023810</td>\n",
       "      <td>S389</td>\n",
       "      <td>4.765152</td>\n",
       "      <td>tut_post_FoxP1_v_tut</td>\n",
       "    </tr>\n",
       "    <tr>\n",
       "      <th>4</th>\n",
       "      <td>Y389</td>\n",
       "      <td>B308</td>\n",
       "      <td>0.963579</td>\n",
       "      <td>67.457627</td>\n",
       "      <td>Y389</td>\n",
       "      <td>1.242424</td>\n",
       "      <td>tut_post_FoxP1_v_tut</td>\n",
       "    </tr>\n",
       "    <tr>\n",
       "      <th>5</th>\n",
       "      <td>O421</td>\n",
       "      <td>B308</td>\n",
       "      <td>0.960880</td>\n",
       "      <td>43.700000</td>\n",
       "      <td>O421</td>\n",
       "      <td>1.234848</td>\n",
       "      <td>tut_post_FoxP1_v_tut</td>\n",
       "    </tr>\n",
       "    <tr>\n",
       "      <th>6</th>\n",
       "      <td>S421</td>\n",
       "      <td>B308</td>\n",
       "      <td>1.102812</td>\n",
       "      <td>52.375000</td>\n",
       "      <td>S421</td>\n",
       "      <td>0.876263</td>\n",
       "      <td>tut_post_FoxP1_v_tut</td>\n",
       "    </tr>\n",
       "    <tr>\n",
       "      <th>7</th>\n",
       "      <td>B402</td>\n",
       "      <td>B308</td>\n",
       "      <td>0.833040</td>\n",
       "      <td>51.393443</td>\n",
       "      <td>B402</td>\n",
       "      <td>2.782828</td>\n",
       "      <td>tut_post_FoxP1_v_tut</td>\n",
       "    </tr>\n",
       "    <tr>\n",
       "      <th>8</th>\n",
       "      <td>Y433</td>\n",
       "      <td>B308</td>\n",
       "      <td>0.601753</td>\n",
       "      <td>64.977778</td>\n",
       "      <td>Y433</td>\n",
       "      <td>5.371212</td>\n",
       "      <td>tut_post_GFP_v_tut</td>\n",
       "    </tr>\n",
       "    <tr>\n",
       "      <th>9</th>\n",
       "      <td>O434</td>\n",
       "      <td>B308</td>\n",
       "      <td>0.639380</td>\n",
       "      <td>84.317073</td>\n",
       "      <td>O434</td>\n",
       "      <td>5.861111</td>\n",
       "      <td>tut_post_GFP_v_tut</td>\n",
       "    </tr>\n",
       "    <tr>\n",
       "      <th>10</th>\n",
       "      <td>R469</td>\n",
       "      <td>B308</td>\n",
       "      <td>0.569177</td>\n",
       "      <td>85.850000</td>\n",
       "      <td>R469</td>\n",
       "      <td>6.267677</td>\n",
       "      <td>tut_post_GFP_v_tut</td>\n",
       "    </tr>\n",
       "    <tr>\n",
       "      <th>11</th>\n",
       "      <td>S525</td>\n",
       "      <td>B308</td>\n",
       "      <td>0.749180</td>\n",
       "      <td>64.150000</td>\n",
       "      <td>S525</td>\n",
       "      <td>3.002525</td>\n",
       "      <td>tut_post_GFP_v_tut</td>\n",
       "    </tr>\n",
       "    <tr>\n",
       "      <th>12</th>\n",
       "      <td>G413</td>\n",
       "      <td>B416</td>\n",
       "      <td>0.839671</td>\n",
       "      <td>57.415385</td>\n",
       "      <td>G413</td>\n",
       "      <td>1.537879</td>\n",
       "      <td>tut_post_FoxP1_v_tut</td>\n",
       "    </tr>\n",
       "    <tr>\n",
       "      <th>13</th>\n",
       "      <td>G528</td>\n",
       "      <td>B416</td>\n",
       "      <td>0.768719</td>\n",
       "      <td>50.533333</td>\n",
       "      <td>G528</td>\n",
       "      <td>5.547980</td>\n",
       "      <td>tut_post_GFP_v_tut</td>\n",
       "    </tr>\n",
       "    <tr>\n",
       "      <th>14</th>\n",
       "      <td>S528</td>\n",
       "      <td>B416</td>\n",
       "      <td>0.733988</td>\n",
       "      <td>35.750000</td>\n",
       "      <td>S528</td>\n",
       "      <td>6.095960</td>\n",
       "      <td>tut_post_GFP_v_tut</td>\n",
       "    </tr>\n",
       "  </tbody>\n",
       "</table>\n",
       "</div>"
      ],
      "text/plain": [
       "   Bird_ID Tutor_ID       EMD  %Similarity Bird_2  mean_score  \\\n",
       "0     G402     O314  0.581091    87.325000   G402    5.159091   \n",
       "1     R402     O314  0.652488    73.914894   R402    4.982323   \n",
       "2     B447     B181  0.506988    59.100000   B447    7.232323   \n",
       "3     S389     B308  0.521639    72.023810   S389    4.765152   \n",
       "4     Y389     B308  0.963579    67.457627   Y389    1.242424   \n",
       "5     O421     B308  0.960880    43.700000   O421    1.234848   \n",
       "6     S421     B308  1.102812    52.375000   S421    0.876263   \n",
       "7     B402     B308  0.833040    51.393443   B402    2.782828   \n",
       "8     Y433     B308  0.601753    64.977778   Y433    5.371212   \n",
       "9     O434     B308  0.639380    84.317073   O434    5.861111   \n",
       "10    R469     B308  0.569177    85.850000   R469    6.267677   \n",
       "11    S525     B308  0.749180    64.150000   S525    3.002525   \n",
       "12    G413     B416  0.839671    57.415385   G413    1.537879   \n",
       "13    G528     B416  0.768719    50.533333   G528    5.547980   \n",
       "14    S528     B416  0.733988    35.750000   S528    6.095960   \n",
       "\n",
       "         Comparison_type  \n",
       "0    tut_pre_FoxP1_v_tut  \n",
       "1    tut_pre_FoxP1_v_tut  \n",
       "2    tut_pre_FoxP1_v_tut  \n",
       "3   tut_post_FoxP1_v_tut  \n",
       "4   tut_post_FoxP1_v_tut  \n",
       "5   tut_post_FoxP1_v_tut  \n",
       "6   tut_post_FoxP1_v_tut  \n",
       "7   tut_post_FoxP1_v_tut  \n",
       "8     tut_post_GFP_v_tut  \n",
       "9     tut_post_GFP_v_tut  \n",
       "10    tut_post_GFP_v_tut  \n",
       "11    tut_post_GFP_v_tut  \n",
       "12  tut_post_FoxP1_v_tut  \n",
       "13    tut_post_GFP_v_tut  \n",
       "14    tut_post_GFP_v_tut  "
      ]
     },
     "execution_count": 18,
     "metadata": {},
     "output_type": "execute_result"
    }
   ],
   "source": [
    "dir_path = 'C:\\\\Grad_School\\\\Code_and_software\\\\Py_code\\\\similarity_scoring\\\\syllable_triplet_network\\\\syllable_triplet_network\\\\WhisperSeg_validation\\\\'\n",
    "sap_scores = pd.read_csv(\"C:/Grad_School/Code_and_software/Py_code/similarity_scoring/tutor_pupil_dataset/Similarity_Scores.csv\")\n",
    "EMD_scores = pd.read_csv(dir_path + \"54_emd_Dec_4_01_emds_wseg.csv\")\n",
    "human_scores = pd.read_csv(\"C:/Grad_School/Code_and_software/R_code/FoxP1_Human_Scoring_analysis/Human scoring averaged by tuttee.csv\")\n",
    "EMD_scores = EMD_scores[EMD_scores['Tutor-pupil'] == True]\n",
    "mean_sap_scores = sap_scores.groupby(\"Bird ID\")[\"%Similarity\"].mean()\n",
    "merged_sap_scores = pd.merge(left = EMD_scores, right = mean_sap_scores, left_on = \"Bird_ID\", right_on = \"Bird ID\")\n",
    "all_merged = pd.merge(left = merged_sap_scores[[\"Bird_ID\", \"Tutor_ID\", \"EMD\", \"%Similarity\",]], right = human_scores[[\"Bird_2\", \"mean_score\", \"Comparison_type\"]], \n",
    "                     left_on = \"Bird_ID\", right_on = \"Bird_2\")\n",
    "all_merged"
   ]
  },
  {
   "cell_type": "code",
   "execution_count": 23,
   "metadata": {},
   "outputs": [],
   "source": [
    "mean_scores_per_pair = mean_scores_per_pair[mean_scores_per_pair.Bird_2.isin(all_merged.Bird_ID)]"
   ]
  },
  {
   "cell_type": "code",
   "execution_count": 24,
   "metadata": {},
   "outputs": [
    {
     "data": {
      "text/plain": [
       "(15, 15)"
      ]
     },
     "execution_count": 24,
     "metadata": {},
     "output_type": "execute_result"
    }
   ],
   "source": [
    "mean_scores_per_pair.shape"
   ]
  },
  {
   "cell_type": "code",
   "execution_count": 32,
   "metadata": {},
   "outputs": [
    {
     "data": {
      "text/plain": [
       "Index(['Maaya Ikeda', 'Francisco', 'Massimo', 'Todd', 'Mgaldamez',\n",
       "       'Andrea Guerrero', 'Harshida', 'Jen', 'Devin Merullo', 'Dan',\n",
       "       'Lei Xiao'],\n",
       "      dtype='object')"
      ]
     },
     "execution_count": 32,
     "metadata": {},
     "output_type": "execute_result"
    }
   ],
   "source": [
    "raters_to_compare = mean_scores_per_pair.columns[4:]\n",
    "raters_to_compare"
   ]
  },
  {
   "cell_type": "code",
   "execution_count": 33,
   "metadata": {},
   "outputs": [],
   "source": [
    "from scipy.stats import pearsonr"
   ]
  },
  {
   "cell_type": "code",
   "execution_count": 34,
   "metadata": {},
   "outputs": [],
   "source": [
    "rs = []\n",
    "for rater in raters_to_compare:\n",
    "\n",
    "    curr_rater_scores = mean_scores_per_pair[rater]\n",
    "\n",
    "    all_other_raters = raters_to_compare[raters_to_compare != rater]\n",
    "    all_other_mean_scores = mean_scores_per_pair[all_other_raters].mean(axis = 1)\n",
    "\n",
    "    r, p = pearsonr(curr_rater_scores, all_other_mean_scores)\n",
    "    rs.append(r)\n"
   ]
  },
  {
   "cell_type": "code",
   "execution_count": 48,
   "metadata": {},
   "outputs": [],
   "source": [
    "plt.rcParams.update({'font.size' : 11})"
   ]
  },
  {
   "cell_type": "code",
   "execution_count": 56,
   "metadata": {},
   "outputs": [
    {
     "data": {
      "text/plain": [
       "Text(0.5, 1.0, 'Correlation Coefficient Distribution for \\nIndividual Experts vs. Expert Mean Similarity Scores')"
      ]
     },
     "execution_count": 56,
     "metadata": {},
     "output_type": "execute_result"
    },
    {
     "data": {
      "image/png": "[encoded data removed]",
      "text/plain": [
       "<Figure size 700x400 with 1 Axes>"
      ]
     },
     "metadata": {},
     "output_type": "display_data"
    }
   ],
   "source": [
    "plt.figure(figsize = (7, 4))\n",
    "sns.kdeplot(rs, label = 'Individual vs.\\nMean Expert Score')\n",
    "plt.axvline(x = 0.87, label = 'EMD vs. Mean \\nExpert Score', c = 'red')\n",
    "plt.legend()\n",
    "plt.xlabel('Pearson correlation coefficient')\n",
    "plt.title('Correlation Coefficient Distribution for \\nIndividual Expert vs. Expert Mean Similarity Scores')"
   ]
  },
  {
   "cell_type": "code",
   "execution_count": 57,
   "metadata": {},
   "outputs": [
    {
     "data": {
      "text/plain": [
       "18.181818181818183"
      ]
     },
     "execution_count": 57,
     "metadata": {},
     "output_type": "execute_result"
    }
   ],
   "source": [
    "from scipy.stats import percentileofscore\n",
    "\n",
    "percentileofscore(rs, 0.8724)"
   ]
  },
  {
   "cell_type": "code",
   "execution_count": null,
   "metadata": {},
   "outputs": [],
   "source": []
  }
 ],
 "metadata": {
  "kernelspec": {
   "display_name": "avn4_install_test",
   "language": "python",
   "name": "python3"
  },
  "language_info": {
   "codemirror_mode": {
    "name": "ipython",
    "version": 3
   },
   "file_extension": ".py",
   "mimetype": "text/x-python",
   "name": "python",
   "nbconvert_exporter": "python",
   "pygments_lexer": "ipython3",
   "version": "3.8.19"
  }
 },
 "nbformat": 4,
 "nbformat_minor": 2
}
