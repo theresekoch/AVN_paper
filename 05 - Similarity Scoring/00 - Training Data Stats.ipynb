{
 "cells": [
  {
   "cell_type": "markdown",
   "metadata": {},
   "source": [
    "# 00 - Training Data Stats"
   ]
  },
  {
   "cell_type": "markdown",
   "metadata": {},
   "source": [
    "## Imports"
   ]
  },
  {
   "cell_type": "code",
   "execution_count": 2,
   "metadata": {},
   "outputs": [],
   "source": [
    "import pandas as pd\n",
    "import numpy as np\n",
    "import glob"
   ]
  },
  {
   "cell_type": "code",
   "execution_count": 3,
   "metadata": {},
   "outputs": [
    {
     "data": {
      "text/plain": [
       "36"
      ]
     },
     "execution_count": 3,
     "metadata": {},
     "output_type": "execute_result"
    }
   ],
   "source": [
    "All_FP1_Birds = [\"B145\", \"B236\", \"B258\", \"B385\", \"B402\", \"B447\", \n",
    "             \"B507\", \"G255\", \"G397\", \"G402\", \"G413\", \"G437\", \n",
    "             \"G439\", \"G524\", \"G528\", \"O144\", \"O254\", \"O421\", \n",
    "             \"O440\", \"O512\", \"R402\", \"R425\", \"R469\", \"S132\", \n",
    "             \"S421\", \"S525\", \"S528\", \"Y389\", \"Y397\", \"Y425\", \n",
    "             \"Y440\", \"B524\", \"O434\", \"S389\", \"Y433\", \"Y453\"] \n",
    "\n",
    "#All_Birds should contain 36 bird IDs. Check: \n",
    "len(All_FP1_Birds)"
   ]
  },
  {
   "cell_type": "code",
   "execution_count": 4,
   "metadata": {},
   "outputs": [],
   "source": [
    "all_birds_dir = \"C:/Grad_School/Code_and_software/Py_code/Syll_specs_hand_seg_narrow_bandpass_70/\"\n",
    "\n",
    "Bird_ID = \"G402\""
   ]
  },
  {
   "cell_type": "code",
   "execution_count": 5,
   "metadata": {},
   "outputs": [
    {
     "data": {
      "text/html": [
       "<div>\n",
       "<style scoped>\n",
       "    .dataframe tbody tr th:only-of-type {\n",
       "        vertical-align: middle;\n",
       "    }\n",
       "\n",
       "    .dataframe tbody tr th {\n",
       "        vertical-align: top;\n",
       "    }\n",
       "\n",
       "    .dataframe thead th {\n",
       "        text-align: right;\n",
       "    }\n",
       "</style>\n",
       "<table border=\"1\" class=\"dataframe\">\n",
       "  <thead>\n",
       "    <tr style=\"text-align: right;\">\n",
       "      <th></th>\n",
       "      <th>Bird_ID</th>\n",
       "      <th>Tutor_ID</th>\n",
       "      <th>Bird_Condition</th>\n",
       "      <th>Include</th>\n",
       "    </tr>\n",
       "  </thead>\n",
       "  <tbody>\n",
       "    <tr>\n",
       "      <th>0</th>\n",
       "      <td>G402</td>\n",
       "      <td>O314</td>\n",
       "      <td>FP1KD_post_tut</td>\n",
       "      <td>1</td>\n",
       "    </tr>\n",
       "    <tr>\n",
       "      <th>1</th>\n",
       "      <td>R402</td>\n",
       "      <td>O314</td>\n",
       "      <td>FP1KD_post_tut</td>\n",
       "      <td>1</td>\n",
       "    </tr>\n",
       "    <tr>\n",
       "      <th>2</th>\n",
       "      <td>G555</td>\n",
       "      <td>O314</td>\n",
       "      <td>Baseline</td>\n",
       "      <td>1</td>\n",
       "    </tr>\n",
       "    <tr>\n",
       "      <th>3</th>\n",
       "      <td>R629</td>\n",
       "      <td>O314</td>\n",
       "      <td>Baseline</td>\n",
       "      <td>1</td>\n",
       "    </tr>\n",
       "    <tr>\n",
       "      <th>4</th>\n",
       "      <td>Y653</td>\n",
       "      <td>O314</td>\n",
       "      <td>Baseline</td>\n",
       "      <td>1</td>\n",
       "    </tr>\n",
       "  </tbody>\n",
       "</table>\n",
       "</div>"
      ],
      "text/plain": [
       "  Bird_ID Tutor_ID  Bird_Condition  Include\n",
       "0    G402     O314  FP1KD_post_tut        1\n",
       "1    R402     O314  FP1KD_post_tut        1\n",
       "2    G555     O314        Baseline        1\n",
       "3    R629     O314        Baseline        1\n",
       "4    Y653     O314        Baseline        1"
      ]
     },
     "execution_count": 5,
     "metadata": {},
     "output_type": "execute_result"
    }
   ],
   "source": [
    "pairs_df = pd.read_csv(\"C:/Grad_School/Code_and_software/Py_code/similarity_scoring/tut_pupil_pairs_April_2022.csv\")\n",
    "\n",
    "pairs_df = pairs_df[pairs_df.Include == 1]\n",
    "pairs_df.head()"
   ]
  },
  {
   "cell_type": "code",
   "execution_count": 6,
   "metadata": {},
   "outputs": [
    {
     "data": {
      "text/plain": [
       "21"
      ]
     },
     "execution_count": 6,
     "metadata": {},
     "output_type": "execute_result"
    }
   ],
   "source": [
    "remaining_FP1_birds = set(All_FP1_Birds) - set(pairs_df.Bird_ID)\n",
    "len(remaining_FP1_birds)"
   ]
  },
  {
   "cell_type": "code",
   "execution_count": 7,
   "metadata": {},
   "outputs": [],
   "source": [
    "to_exclude = set(All_FP1_Birds) & set(pairs_df.Bird_ID)"
   ]
  },
  {
   "cell_type": "code",
   "execution_count": 8,
   "metadata": {},
   "outputs": [],
   "source": [
    "FP1_pairs_df = pd.read_csv(\"C:/Grad_School/Code_and_software/Py_code/similarity_scoring/syllable_triplet_network/all_FP1_Tutor_pupil_pairs.csv\")\n",
    "\n",
    "training_pairs_df = FP1_pairs_df[FP1_pairs_df.Bird_ID.isin(remaining_FP1_birds)]"
   ]
  },
  {
   "cell_type": "code",
   "execution_count": 9,
   "metadata": {},
   "outputs": [
    {
     "data": {
      "text/html": [
       "<div>\n",
       "<style scoped>\n",
       "    .dataframe tbody tr th:only-of-type {\n",
       "        vertical-align: middle;\n",
       "    }\n",
       "\n",
       "    .dataframe tbody tr th {\n",
       "        vertical-align: top;\n",
       "    }\n",
       "\n",
       "    .dataframe thead th {\n",
       "        text-align: right;\n",
       "    }\n",
       "</style>\n",
       "<table border=\"1\" class=\"dataframe\">\n",
       "  <thead>\n",
       "    <tr style=\"text-align: right;\">\n",
       "      <th></th>\n",
       "      <th>Bird_ID</th>\n",
       "      <th>Tutor</th>\n",
       "      <th>Condition</th>\n",
       "    </tr>\n",
       "  </thead>\n",
       "  <tbody>\n",
       "    <tr>\n",
       "      <th>0</th>\n",
       "      <td>B385</td>\n",
       "      <td>B01</td>\n",
       "      <td>FP1KD_post_tut</td>\n",
       "    </tr>\n",
       "    <tr>\n",
       "      <th>3</th>\n",
       "      <td>G437</td>\n",
       "      <td>O210</td>\n",
       "      <td>FP1KD_post_tut</td>\n",
       "    </tr>\n",
       "    <tr>\n",
       "      <th>4</th>\n",
       "      <td>G439</td>\n",
       "      <td>B103</td>\n",
       "      <td>FP1KD_post_tut</td>\n",
       "    </tr>\n",
       "    <tr>\n",
       "      <th>6</th>\n",
       "      <td>O440</td>\n",
       "      <td>B103</td>\n",
       "      <td>FP1KD_post_tut</td>\n",
       "    </tr>\n",
       "    <tr>\n",
       "      <th>8</th>\n",
       "      <td>R425</td>\n",
       "      <td>O314</td>\n",
       "      <td>FP1KD_post_tut</td>\n",
       "    </tr>\n",
       "    <tr>\n",
       "      <th>9</th>\n",
       "      <td>Y425</td>\n",
       "      <td>R311</td>\n",
       "      <td>FP1KD_post_tut</td>\n",
       "    </tr>\n",
       "    <tr>\n",
       "      <th>10</th>\n",
       "      <td>Y440</td>\n",
       "      <td>B103</td>\n",
       "      <td>FP1KD_post_tut</td>\n",
       "    </tr>\n",
       "    <tr>\n",
       "      <th>12</th>\n",
       "      <td>G397</td>\n",
       "      <td>G311</td>\n",
       "      <td>FP1KD_pre_tut</td>\n",
       "    </tr>\n",
       "    <tr>\n",
       "      <th>18</th>\n",
       "      <td>Y397</td>\n",
       "      <td>G311</td>\n",
       "      <td>FP1KD_pre_tut</td>\n",
       "    </tr>\n",
       "    <tr>\n",
       "      <th>19</th>\n",
       "      <td>B507</td>\n",
       "      <td>S409</td>\n",
       "      <td>GFP</td>\n",
       "    </tr>\n",
       "    <tr>\n",
       "      <th>20</th>\n",
       "      <td>B524</td>\n",
       "      <td>S409</td>\n",
       "      <td>GFP</td>\n",
       "    </tr>\n",
       "    <tr>\n",
       "      <th>21</th>\n",
       "      <td>G524</td>\n",
       "      <td>S409</td>\n",
       "      <td>GFP</td>\n",
       "    </tr>\n",
       "    <tr>\n",
       "      <th>24</th>\n",
       "      <td>O512</td>\n",
       "      <td>S409</td>\n",
       "      <td>GFP</td>\n",
       "    </tr>\n",
       "    <tr>\n",
       "      <th>29</th>\n",
       "      <td>B145</td>\n",
       "      <td>Isolate</td>\n",
       "      <td>Isolate</td>\n",
       "    </tr>\n",
       "    <tr>\n",
       "      <th>30</th>\n",
       "      <td>B236</td>\n",
       "      <td>Isolate</td>\n",
       "      <td>Isolate</td>\n",
       "    </tr>\n",
       "    <tr>\n",
       "      <th>31</th>\n",
       "      <td>B258</td>\n",
       "      <td>Isolate</td>\n",
       "      <td>Isolate</td>\n",
       "    </tr>\n",
       "    <tr>\n",
       "      <th>33</th>\n",
       "      <td>G255</td>\n",
       "      <td>Isolate</td>\n",
       "      <td>Isolate</td>\n",
       "    </tr>\n",
       "    <tr>\n",
       "      <th>34</th>\n",
       "      <td>O144</td>\n",
       "      <td>Isolate</td>\n",
       "      <td>Isolate</td>\n",
       "    </tr>\n",
       "    <tr>\n",
       "      <th>35</th>\n",
       "      <td>O254</td>\n",
       "      <td>Isolate</td>\n",
       "      <td>Isolate</td>\n",
       "    </tr>\n",
       "    <tr>\n",
       "      <th>37</th>\n",
       "      <td>S132</td>\n",
       "      <td>Isolate</td>\n",
       "      <td>Isolate</td>\n",
       "    </tr>\n",
       "    <tr>\n",
       "      <th>38</th>\n",
       "      <td>Y453</td>\n",
       "      <td>Isolate</td>\n",
       "      <td>Isolate</td>\n",
       "    </tr>\n",
       "  </tbody>\n",
       "</table>\n",
       "</div>"
      ],
      "text/plain": [
       "   Bird_ID    Tutor       Condition\n",
       "0     B385      B01  FP1KD_post_tut\n",
       "3     G437     O210  FP1KD_post_tut\n",
       "4     G439     B103  FP1KD_post_tut\n",
       "6     O440     B103  FP1KD_post_tut\n",
       "8     R425     O314  FP1KD_post_tut\n",
       "9     Y425     R311  FP1KD_post_tut\n",
       "10    Y440     B103  FP1KD_post_tut\n",
       "12    G397     G311   FP1KD_pre_tut\n",
       "18    Y397     G311   FP1KD_pre_tut\n",
       "19    B507     S409             GFP\n",
       "20    B524     S409             GFP\n",
       "21    G524     S409             GFP\n",
       "24    O512     S409             GFP\n",
       "29    B145  Isolate         Isolate\n",
       "30    B236  Isolate         Isolate\n",
       "31    B258  Isolate         Isolate\n",
       "33    G255  Isolate         Isolate\n",
       "34    O144  Isolate         Isolate\n",
       "35    O254  Isolate         Isolate\n",
       "37    S132  Isolate         Isolate\n",
       "38    Y453  Isolate         Isolate"
      ]
     },
     "execution_count": 9,
     "metadata": {},
     "output_type": "execute_result"
    }
   ],
   "source": [
    "training_pairs_df"
   ]
  },
  {
   "cell_type": "code",
   "execution_count": 10,
   "metadata": {},
   "outputs": [
    {
     "data": {
      "text/html": [
       "<div>\n",
       "<style scoped>\n",
       "    .dataframe tbody tr th:only-of-type {\n",
       "        vertical-align: middle;\n",
       "    }\n",
       "\n",
       "    .dataframe tbody tr th {\n",
       "        vertical-align: top;\n",
       "    }\n",
       "\n",
       "    .dataframe thead th {\n",
       "        text-align: right;\n",
       "    }\n",
       "</style>\n",
       "<table border=\"1\" class=\"dataframe\">\n",
       "  <thead>\n",
       "    <tr style=\"text-align: right;\">\n",
       "      <th></th>\n",
       "      <th>Bird_ID</th>\n",
       "      <th>Tutor</th>\n",
       "    </tr>\n",
       "    <tr>\n",
       "      <th>Condition</th>\n",
       "      <th></th>\n",
       "      <th></th>\n",
       "    </tr>\n",
       "  </thead>\n",
       "  <tbody>\n",
       "    <tr>\n",
       "      <th>FP1KD_post_tut</th>\n",
       "      <td>7</td>\n",
       "      <td>7</td>\n",
       "    </tr>\n",
       "    <tr>\n",
       "      <th>FP1KD_pre_tut</th>\n",
       "      <td>2</td>\n",
       "      <td>2</td>\n",
       "    </tr>\n",
       "    <tr>\n",
       "      <th>GFP</th>\n",
       "      <td>4</td>\n",
       "      <td>4</td>\n",
       "    </tr>\n",
       "    <tr>\n",
       "      <th>Isolate</th>\n",
       "      <td>8</td>\n",
       "      <td>8</td>\n",
       "    </tr>\n",
       "  </tbody>\n",
       "</table>\n",
       "</div>"
      ],
      "text/plain": [
       "                Bird_ID  Tutor\n",
       "Condition                     \n",
       "FP1KD_post_tut        7      7\n",
       "FP1KD_pre_tut         2      2\n",
       "GFP                   4      4\n",
       "Isolate               8      8"
      ]
     },
     "execution_count": 10,
     "metadata": {},
     "output_type": "execute_result"
    }
   ],
   "source": [
    "training_pairs_df.groupby('Condition').count()"
   ]
  },
  {
   "cell_type": "markdown",
   "metadata": {},
   "source": [
    "## Total Syllable counts"
   ]
  },
  {
   "cell_type": "code",
   "execution_count": 11,
   "metadata": {},
   "outputs": [
    {
     "data": {
      "text/plain": [
       "588"
      ]
     },
     "execution_count": 11,
     "metadata": {},
     "output_type": "execute_result"
    }
   ],
   "source": [
    "len(glob.glob(all_birds_dir + \"G255/*/*.npy\"))"
   ]
  },
  {
   "cell_type": "code",
   "execution_count": 12,
   "metadata": {},
   "outputs": [],
   "source": [
    "n_syll_dict = dict()\n",
    "for Bird_ID in remaining_FP1_birds:\n",
    "\n",
    "    n_syllables = len(glob.glob(all_birds_dir + Bird_ID + \"/*/*.npy\"))\n",
    "\n",
    "    n_syll_dict[Bird_ID] = [n_syllables]"
   ]
  },
  {
   "cell_type": "code",
   "execution_count": 13,
   "metadata": {},
   "outputs": [],
   "source": [
    "n_syll_df = pd.DataFrame.from_dict(n_syll_dict, orient = 'index').reset_index()\n",
    "n_syll_df = n_syll_df.rename(columns = {'index' : 'Bird_ID', \n",
    "                                        0 : 'n_syllables'})"
   ]
  },
  {
   "cell_type": "code",
   "execution_count": 14,
   "metadata": {},
   "outputs": [
    {
     "data": {
      "text/plain": [
       "Bird_ID        G439G437Y397Y425S132B524O512B258B507R425Y453O1...\n",
       "n_syllables                                                16420\n",
       "dtype: object"
      ]
     },
     "execution_count": 14,
     "metadata": {},
     "output_type": "execute_result"
    }
   ],
   "source": [
    "n_syll_df.sum()"
   ]
  },
  {
   "cell_type": "code",
   "execution_count": 15,
   "metadata": {},
   "outputs": [
    {
     "data": {
      "text/plain": [
       "781.9047619047619"
      ]
     },
     "execution_count": 15,
     "metadata": {},
     "output_type": "execute_result"
    }
   ],
   "source": [
    "n_syll_df.n_syllables.mean()"
   ]
  },
  {
   "cell_type": "markdown",
   "metadata": {},
   "source": [
    "## Testing Dataset Stats"
   ]
  },
  {
   "cell_type": "code",
   "execution_count": 16,
   "metadata": {},
   "outputs": [],
   "source": [
    "tut_pup_dir = 'E:\\\\Final_Bird_Dataset\\\\Wseg_syll_spects_for_similarity\\\\'"
   ]
  },
  {
   "cell_type": "code",
   "execution_count": 17,
   "metadata": {},
   "outputs": [],
   "source": [
    "pairs_df = pd.read_csv(\"C:/Grad_School/Code_and_software/Py_code/similarity_scoring/tut_pupil_pairs_April_2022.csv\")\n",
    "\n",
    "pairs_df = pairs_df[pairs_df.Include == 1]"
   ]
  },
  {
   "cell_type": "code",
   "execution_count": 18,
   "metadata": {},
   "outputs": [
    {
     "data": {
      "text/plain": [
       "(36, 4)"
      ]
     },
     "execution_count": 18,
     "metadata": {},
     "output_type": "execute_result"
    }
   ],
   "source": [
    "pairs_df.shape"
   ]
  },
  {
   "cell_type": "code",
   "execution_count": 19,
   "metadata": {},
   "outputs": [
    {
     "data": {
      "text/plain": [
       "36"
      ]
     },
     "execution_count": 19,
     "metadata": {},
     "output_type": "execute_result"
    }
   ],
   "source": [
    "len(pairs_df[~pairs_df.Bird_ID.isin(remaining_FP1_birds)])"
   ]
  },
  {
   "cell_type": "markdown",
   "metadata": {},
   "source": [
    "All birds in pairs df are *not* also in the training set. It is a completely non-overlapping dataset. "
   ]
  },
  {
   "cell_type": "code",
   "execution_count": 20,
   "metadata": {},
   "outputs": [
    {
     "data": {
      "text/html": [
       "<div>\n",
       "<style scoped>\n",
       "    .dataframe tbody tr th:only-of-type {\n",
       "        vertical-align: middle;\n",
       "    }\n",
       "\n",
       "    .dataframe tbody tr th {\n",
       "        vertical-align: top;\n",
       "    }\n",
       "\n",
       "    .dataframe thead th {\n",
       "        text-align: right;\n",
       "    }\n",
       "</style>\n",
       "<table border=\"1\" class=\"dataframe\">\n",
       "  <thead>\n",
       "    <tr style=\"text-align: right;\">\n",
       "      <th></th>\n",
       "      <th>Bird_ID</th>\n",
       "      <th>Tutor_ID</th>\n",
       "      <th>Include</th>\n",
       "    </tr>\n",
       "    <tr>\n",
       "      <th>Bird_Condition</th>\n",
       "      <th></th>\n",
       "      <th></th>\n",
       "      <th></th>\n",
       "    </tr>\n",
       "  </thead>\n",
       "  <tbody>\n",
       "    <tr>\n",
       "      <th>Baseline</th>\n",
       "      <td>21</td>\n",
       "      <td>21</td>\n",
       "      <td>21</td>\n",
       "    </tr>\n",
       "    <tr>\n",
       "      <th>FP1KD_post_tut</th>\n",
       "      <td>3</td>\n",
       "      <td>3</td>\n",
       "      <td>3</td>\n",
       "    </tr>\n",
       "    <tr>\n",
       "      <th>FP1KD_pre_tut</th>\n",
       "      <td>6</td>\n",
       "      <td>6</td>\n",
       "      <td>6</td>\n",
       "    </tr>\n",
       "    <tr>\n",
       "      <th>GFP</th>\n",
       "      <td>6</td>\n",
       "      <td>6</td>\n",
       "      <td>6</td>\n",
       "    </tr>\n",
       "  </tbody>\n",
       "</table>\n",
       "</div>"
      ],
      "text/plain": [
       "                Bird_ID  Tutor_ID  Include\n",
       "Bird_Condition                            \n",
       "Baseline             21        21       21\n",
       "FP1KD_post_tut        3         3        3\n",
       "FP1KD_pre_tut         6         6        6\n",
       "GFP                   6         6        6"
      ]
     },
     "execution_count": 20,
     "metadata": {},
     "output_type": "execute_result"
    }
   ],
   "source": [
    "pairs_df.groupby('Bird_Condition').count()"
   ]
  },
  {
   "cell_type": "code",
   "execution_count": 21,
   "metadata": {},
   "outputs": [],
   "source": [
    "n_syll_dict = dict()\n",
    "for Bird_ID in pairs_df.Bird_ID:\n",
    "\n",
    "    n_syllables = len(glob.glob(tut_pup_dir + Bird_ID + \"/*.npy\"))\n",
    "\n",
    "    n_syll_dict[Bird_ID] = [n_syllables]"
   ]
  },
  {
   "cell_type": "code",
   "execution_count": 22,
   "metadata": {},
   "outputs": [],
   "source": [
    "n_syll_df = pd.DataFrame.from_dict(n_syll_dict, orient = 'index').reset_index()\n",
    "n_syll_df = n_syll_df.rename(columns = {'index' : 'Bird_ID', \n",
    "                                        0 : 'n_syllables'})"
   ]
  },
  {
   "cell_type": "code",
   "execution_count": 23,
   "metadata": {},
   "outputs": [
    {
     "data": {
      "text/plain": [
       "Bird_ID        G402R402G555R629Y653G587B555O510B447S389Y389O4...\n",
       "n_syllables                                               105853\n",
       "dtype: object"
      ]
     },
     "execution_count": 23,
     "metadata": {},
     "output_type": "execute_result"
    }
   ],
   "source": [
    "n_syll_df.sum()"
   ]
  },
  {
   "cell_type": "code",
   "execution_count": 24,
   "metadata": {},
   "outputs": [
    {
     "data": {
      "text/plain": [
       "2940.3611111111113"
      ]
     },
     "execution_count": 24,
     "metadata": {},
     "output_type": "execute_result"
    }
   ],
   "source": [
    "n_syll_df.n_syllables.mean()"
   ]
  },
  {
   "cell_type": "code",
   "execution_count": null,
   "metadata": {},
   "outputs": [],
   "source": []
  }
 ],
 "metadata": {
  "kernelspec": {
   "display_name": "avn4_install_test",
   "language": "python",
   "name": "python3"
  },
  "language_info": {
   "codemirror_mode": {
    "name": "ipython",
    "version": 3
   },
   "file_extension": ".py",
   "mimetype": "text/x-python",
   "name": "python",
   "nbconvert_exporter": "python",
   "pygments_lexer": "ipython3",
   "version": "3.8.19"
  }
 },
 "nbformat": 4,
 "nbformat_minor": 2
}
