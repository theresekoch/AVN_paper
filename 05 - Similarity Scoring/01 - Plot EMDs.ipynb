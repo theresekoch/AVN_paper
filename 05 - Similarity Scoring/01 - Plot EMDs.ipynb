{
 "cells": [
  {
   "cell_type": "markdown",
   "metadata": {},
   "source": [
    "## 01 - Plotting EMD Scores UTSW and Rockefeller"
   ]
  },
  {
   "cell_type": "markdown",
   "metadata": {},
   "source": [
    "## Imports"
   ]
  },
  {
   "cell_type": "code",
   "execution_count": 21,
   "metadata": {},
   "outputs": [],
   "source": [
    "import numpy as np\n",
    "import os\n",
    "import matplotlib.patches as patches\n",
    "import pandas as pd\n",
    "import matplotlib.pyplot as plt\n",
    "from sklearn import metrics\n",
    "import seaborn as sns"
   ]
  },
  {
   "cell_type": "markdown",
   "metadata": {},
   "source": [
    "## Load Scores"
   ]
  },
  {
   "cell_type": "code",
   "execution_count": 22,
   "metadata": {},
   "outputs": [],
   "source": [
    "dir_path = 'C:\\\\Grad_School\\\\Code_and_software\\\\Py_code\\\\similarity_scoring\\\\syllable_triplet_network\\\\syllable_triplet_network\\\\WhisperSeg_validation\\\\'"
   ]
  },
  {
   "cell_type": "code",
   "execution_count": 23,
   "metadata": {},
   "outputs": [],
   "source": [
    "rock_self = pd.read_csv(dir_path + 'Rockefeller_wseg_emds_self_comparisons.csv').drop(columns = 'Unnamed: 0')\n",
    "rock_other = pd.read_csv(dir_path +'Rockefeller_wseg_emds.csv').drop(columns = 'Unnamed: 0')\n",
    "rock_full = pd.concat([rock_other, rock_self])"
   ]
  },
  {
   "cell_type": "code",
   "execution_count": 24,
   "metadata": {},
   "outputs": [],
   "source": [
    "utsw_self = pd.read_csv(dir_path + '54_emd_Dec_4_01_emds_wseg_self_comparison.csv').drop(columns = 'Unnamed: 0')\n",
    "utsw_other = pd.read_csv(dir_path + '54_emd_Dec_4_01_emds_wseg.csv').drop(columns = 'Unnamed: 0')\n",
    "utsw_full = pd.concat([utsw_other, utsw_self])\n",
    "utsw_full = utsw_full[utsw_full.Bird_ID != 'S389']"
   ]
  },
  {
   "cell_type": "markdown",
   "metadata": {},
   "source": [
    "## Plot UTSW Distributions"
   ]
  },
  {
   "cell_type": "code",
   "execution_count": 25,
   "metadata": {},
   "outputs": [],
   "source": [
    "pairs_df = pd.read_csv(\"C:/Grad_School/Code_and_software/Py_code/similarity_scoring/tut_pupil_pairs_April_2022.csv\")\n",
    "pairs_df = pairs_df[pairs_df.Include == 1]\n",
    "\n",
    "FP1_birds = pairs_df[pairs_df.Bird_Condition == \"FP1KD_pre_tut\"].Bird_ID"
   ]
  },
  {
   "cell_type": "code",
   "execution_count": 26,
   "metadata": {},
   "outputs": [],
   "source": [
    "utsw_full[\"comparison_type\"] = \"Pupil vs. Unrelated Bird\"\n",
    "utsw_full.loc[utsw_full[\"Tutor-pupil\"], \"comparison_type\"] = \"Pupil vs. Tutor\"\n",
    "utsw_full.loc[utsw_full[\"Same_tut\"], \"comparison_type\"] = \"Pupil vs. 'Sibling'\"\n",
    "utsw_full.loc[utsw_full[\"Self_comparison\"], \"comparison_type\"] = \"Pupil vs. Itself\""
   ]
  },
  {
   "cell_type": "code",
   "execution_count": 27,
   "metadata": {},
   "outputs": [],
   "source": [
    "utsw_full.comparison_type = utsw_full.comparison_type.astype(\"category\")\n",
    "utsw_full.comparison_type = utsw_full.comparison_type.cat.reorder_categories([\"Pupil vs. Itself\",\n",
    "                                                                \"Pupil vs. Tutor\", \n",
    "                                                                \"Pupil vs. 'Sibling'\", \n",
    "                                                                \"Pupil vs. Unrelated Bird\"])"
   ]
  },
  {
   "cell_type": "code",
   "execution_count": 28,
   "metadata": {},
   "outputs": [],
   "source": [
    "utsw_typical = utsw_full[~utsw_full.Bird_ID.isin(FP1_birds)].reset_index()\n",
    "utsw_fp1 = utsw_full[utsw_full.Bird_ID.isin(FP1_birds)].reset_index()"
   ]
  },
  {
   "cell_type": "code",
   "execution_count": 29,
   "metadata": {},
   "outputs": [
    {
     "data": {
      "text/html": [
       "<div>\n",
       "<style scoped>\n",
       "    .dataframe tbody tr th:only-of-type {\n",
       "        vertical-align: middle;\n",
       "    }\n",
       "\n",
       "    .dataframe tbody tr th {\n",
       "        vertical-align: top;\n",
       "    }\n",
       "\n",
       "    .dataframe thead th {\n",
       "        text-align: right;\n",
       "    }\n",
       "</style>\n",
       "<table border=\"1\" class=\"dataframe\">\n",
       "  <thead>\n",
       "    <tr style=\"text-align: right;\">\n",
       "      <th></th>\n",
       "      <th>index</th>\n",
       "      <th>Bird_ID</th>\n",
       "      <th>Comparison_Bird_ID</th>\n",
       "      <th>Tutor_ID</th>\n",
       "      <th>Same_tut</th>\n",
       "      <th>Tutor-pupil</th>\n",
       "      <th>Self_comparison</th>\n",
       "      <th>EMD</th>\n",
       "      <th>comparison_type</th>\n",
       "    </tr>\n",
       "  </thead>\n",
       "  <tbody>\n",
       "    <tr>\n",
       "      <th>0</th>\n",
       "      <td>0</td>\n",
       "      <td>G402</td>\n",
       "      <td>O314</td>\n",
       "      <td>O314</td>\n",
       "      <td>False</td>\n",
       "      <td>True</td>\n",
       "      <td>False</td>\n",
       "      <td>0.581091</td>\n",
       "      <td>Pupil vs. Tutor</td>\n",
       "    </tr>\n",
       "    <tr>\n",
       "      <th>1</th>\n",
       "      <td>1</td>\n",
       "      <td>G402</td>\n",
       "      <td>O630</td>\n",
       "      <td>O314</td>\n",
       "      <td>False</td>\n",
       "      <td>False</td>\n",
       "      <td>False</td>\n",
       "      <td>0.853986</td>\n",
       "      <td>Pupil vs. Unrelated Bird</td>\n",
       "    </tr>\n",
       "    <tr>\n",
       "      <th>2</th>\n",
       "      <td>2</td>\n",
       "      <td>G402</td>\n",
       "      <td>O670</td>\n",
       "      <td>O314</td>\n",
       "      <td>False</td>\n",
       "      <td>False</td>\n",
       "      <td>False</td>\n",
       "      <td>0.879306</td>\n",
       "      <td>Pupil vs. Unrelated Bird</td>\n",
       "    </tr>\n",
       "    <tr>\n",
       "      <th>3</th>\n",
       "      <td>3</td>\n",
       "      <td>G402</td>\n",
       "      <td>Y433</td>\n",
       "      <td>O314</td>\n",
       "      <td>False</td>\n",
       "      <td>False</td>\n",
       "      <td>False</td>\n",
       "      <td>0.808478</td>\n",
       "      <td>Pupil vs. Unrelated Bird</td>\n",
       "    </tr>\n",
       "    <tr>\n",
       "      <th>4</th>\n",
       "      <td>4</td>\n",
       "      <td>G402</td>\n",
       "      <td>B555</td>\n",
       "      <td>O314</td>\n",
       "      <td>True</td>\n",
       "      <td>False</td>\n",
       "      <td>False</td>\n",
       "      <td>0.657966</td>\n",
       "      <td>Pupil vs. 'Sibling'</td>\n",
       "    </tr>\n",
       "    <tr>\n",
       "      <th>...</th>\n",
       "      <td>...</td>\n",
       "      <td>...</td>\n",
       "      <td>...</td>\n",
       "      <td>...</td>\n",
       "      <td>...</td>\n",
       "      <td>...</td>\n",
       "      <td>...</td>\n",
       "      <td>...</td>\n",
       "      <td>...</td>\n",
       "    </tr>\n",
       "    <tr>\n",
       "      <th>205</th>\n",
       "      <td>31</td>\n",
       "      <td>S565</td>\n",
       "      <td>S565</td>\n",
       "      <td>G307</td>\n",
       "      <td>False</td>\n",
       "      <td>False</td>\n",
       "      <td>True</td>\n",
       "      <td>0.172564</td>\n",
       "      <td>Pupil vs. Itself</td>\n",
       "    </tr>\n",
       "    <tr>\n",
       "      <th>206</th>\n",
       "      <td>32</td>\n",
       "      <td>B646</td>\n",
       "      <td>B646</td>\n",
       "      <td>O411</td>\n",
       "      <td>False</td>\n",
       "      <td>False</td>\n",
       "      <td>True</td>\n",
       "      <td>0.261087</td>\n",
       "      <td>Pupil vs. Itself</td>\n",
       "    </tr>\n",
       "    <tr>\n",
       "      <th>207</th>\n",
       "      <td>33</td>\n",
       "      <td>O670</td>\n",
       "      <td>O670</td>\n",
       "      <td>O411</td>\n",
       "      <td>False</td>\n",
       "      <td>False</td>\n",
       "      <td>True</td>\n",
       "      <td>0.494878</td>\n",
       "      <td>Pupil vs. Itself</td>\n",
       "    </tr>\n",
       "    <tr>\n",
       "      <th>208</th>\n",
       "      <td>34</td>\n",
       "      <td>R646</td>\n",
       "      <td>R646</td>\n",
       "      <td>R308</td>\n",
       "      <td>False</td>\n",
       "      <td>False</td>\n",
       "      <td>True</td>\n",
       "      <td>0.180749</td>\n",
       "      <td>Pupil vs. Itself</td>\n",
       "    </tr>\n",
       "    <tr>\n",
       "      <th>209</th>\n",
       "      <td>35</td>\n",
       "      <td>S636</td>\n",
       "      <td>S636</td>\n",
       "      <td>R308</td>\n",
       "      <td>False</td>\n",
       "      <td>False</td>\n",
       "      <td>True</td>\n",
       "      <td>0.212975</td>\n",
       "      <td>Pupil vs. Itself</td>\n",
       "    </tr>\n",
       "  </tbody>\n",
       "</table>\n",
       "<p>210 rows × 9 columns</p>\n",
       "</div>"
      ],
      "text/plain": [
       "     index Bird_ID Comparison_Bird_ID Tutor_ID  Same_tut  Tutor-pupil  \\\n",
       "0        0    G402               O314     O314     False         True   \n",
       "1        1    G402               O630     O314     False        False   \n",
       "2        2    G402               O670     O314     False        False   \n",
       "3        3    G402               Y433     O314     False        False   \n",
       "4        4    G402               B555     O314      True        False   \n",
       "..     ...     ...                ...      ...       ...          ...   \n",
       "205     31    S565               S565     G307     False        False   \n",
       "206     32    B646               B646     O411     False        False   \n",
       "207     33    O670               O670     O411     False        False   \n",
       "208     34    R646               R646     R308     False        False   \n",
       "209     35    S636               S636     R308     False        False   \n",
       "\n",
       "     Self_comparison       EMD           comparison_type  \n",
       "0              False  0.581091           Pupil vs. Tutor  \n",
       "1              False  0.853986  Pupil vs. Unrelated Bird  \n",
       "2              False  0.879306  Pupil vs. Unrelated Bird  \n",
       "3              False  0.808478  Pupil vs. Unrelated Bird  \n",
       "4              False  0.657966       Pupil vs. 'Sibling'  \n",
       "..               ...       ...                       ...  \n",
       "205             True  0.172564          Pupil vs. Itself  \n",
       "206             True  0.261087          Pupil vs. Itself  \n",
       "207             True  0.494878          Pupil vs. Itself  \n",
       "208             True  0.180749          Pupil vs. Itself  \n",
       "209             True  0.212975          Pupil vs. Itself  \n",
       "\n",
       "[210 rows x 9 columns]"
      ]
     },
     "execution_count": 29,
     "metadata": {},
     "output_type": "execute_result"
    }
   ],
   "source": [
    "utsw_typical"
   ]
  },
  {
   "cell_type": "code",
   "execution_count": 30,
   "metadata": {},
   "outputs": [],
   "source": [
    "plt.rcParams.update({'font.size' : 11})"
   ]
  },
  {
   "cell_type": "code",
   "execution_count": 31,
   "metadata": {},
   "outputs": [
    {
     "name": "stderr",
     "output_type": "stream",
     "text": [
      "c:\\Users\\tkoch\\anaconda3\\envs\\avn4_install_test\\lib\\site-packages\\seaborn\\axisgrid.py:118: UserWarning: The figure layout has changed to tight\n",
      "  self._figure.tight_layout(*args, **kwargs)\n"
     ]
    },
    {
     "data": {
      "text/plain": [
       "(0.1, 1.3)"
      ]
     },
     "execution_count": 31,
     "metadata": {},
     "output_type": "execute_result"
    },
    {
     "data": {
      "text/plain": [
       "<Figure size 300x200 with 0 Axes>"
      ]
     },
     "metadata": {},
     "output_type": "display_data"
    },
    {
     "data": {
      "image/png": "[encoded data removed]",
      "text/plain": [
       "<Figure size 960x300 with 4 Axes>"
      ]
     },
     "metadata": {},
     "output_type": "display_data"
    }
   ],
   "source": [
    "plt.figure(figsize = (3, 2))\n",
    "g = sns.displot(utsw_typical, x = 'EMD', col = 'comparison_type', hue = 'comparison_type', alpha = 0.5,\n",
    "                 stat = 'probability', common_norm = False, bins = 12, legend=False, height = 3, aspect = 0.8 ) \n",
    "g.set_axis_labels(\"$EMD$ Score\", \"Proportion of \\nPairwise Comparisons\")\n",
    "g.set_titles(\"{col_name}\");\n",
    "plt.xlim(0.1, 1.3)"
   ]
  },
  {
   "cell_type": "code",
   "execution_count": 38,
   "metadata": {},
   "outputs": [
    {
     "data": {
      "text/html": [
       "<div>\n",
       "<style scoped>\n",
       "    .dataframe tbody tr th:only-of-type {\n",
       "        vertical-align: middle;\n",
       "    }\n",
       "\n",
       "    .dataframe tbody tr th {\n",
       "        vertical-align: top;\n",
       "    }\n",
       "\n",
       "    .dataframe thead th {\n",
       "        text-align: right;\n",
       "    }\n",
       "</style>\n",
       "<table border=\"1\" class=\"dataframe\">\n",
       "  <thead>\n",
       "    <tr style=\"text-align: right;\">\n",
       "      <th></th>\n",
       "      <th>index</th>\n",
       "      <th>Bird_ID</th>\n",
       "      <th>Comparison_Bird_ID</th>\n",
       "      <th>Tutor_ID</th>\n",
       "      <th>Same_tut</th>\n",
       "      <th>Tutor-pupil</th>\n",
       "      <th>Self_comparison</th>\n",
       "      <th>EMD</th>\n",
       "    </tr>\n",
       "    <tr>\n",
       "      <th>comparison_type</th>\n",
       "      <th></th>\n",
       "      <th></th>\n",
       "      <th></th>\n",
       "      <th></th>\n",
       "      <th></th>\n",
       "      <th></th>\n",
       "      <th></th>\n",
       "      <th></th>\n",
       "    </tr>\n",
       "  </thead>\n",
       "  <tbody>\n",
       "    <tr>\n",
       "      <th>Pupil vs. Itself</th>\n",
       "      <td>30</td>\n",
       "      <td>30</td>\n",
       "      <td>30</td>\n",
       "      <td>30</td>\n",
       "      <td>30</td>\n",
       "      <td>30</td>\n",
       "      <td>30</td>\n",
       "      <td>30</td>\n",
       "    </tr>\n",
       "    <tr>\n",
       "      <th>Pupil vs. Tutor</th>\n",
       "      <td>30</td>\n",
       "      <td>30</td>\n",
       "      <td>30</td>\n",
       "      <td>30</td>\n",
       "      <td>30</td>\n",
       "      <td>30</td>\n",
       "      <td>30</td>\n",
       "      <td>30</td>\n",
       "    </tr>\n",
       "    <tr>\n",
       "      <th>Pupil vs. 'Sibling'</th>\n",
       "      <td>60</td>\n",
       "      <td>60</td>\n",
       "      <td>60</td>\n",
       "      <td>60</td>\n",
       "      <td>60</td>\n",
       "      <td>60</td>\n",
       "      <td>60</td>\n",
       "      <td>60</td>\n",
       "    </tr>\n",
       "    <tr>\n",
       "      <th>Pupil vs. Unrelated Bird</th>\n",
       "      <td>90</td>\n",
       "      <td>90</td>\n",
       "      <td>90</td>\n",
       "      <td>90</td>\n",
       "      <td>90</td>\n",
       "      <td>90</td>\n",
       "      <td>90</td>\n",
       "      <td>90</td>\n",
       "    </tr>\n",
       "  </tbody>\n",
       "</table>\n",
       "</div>"
      ],
      "text/plain": [
       "                          index  Bird_ID  Comparison_Bird_ID  Tutor_ID  \\\n",
       "comparison_type                                                          \n",
       "Pupil vs. Itself             30       30                  30        30   \n",
       "Pupil vs. Tutor              30       30                  30        30   \n",
       "Pupil vs. 'Sibling'          60       60                  60        60   \n",
       "Pupil vs. Unrelated Bird     90       90                  90        90   \n",
       "\n",
       "                          Same_tut  Tutor-pupil  Self_comparison  EMD  \n",
       "comparison_type                                                        \n",
       "Pupil vs. Itself                30           30               30   30  \n",
       "Pupil vs. Tutor                 30           30               30   30  \n",
       "Pupil vs. 'Sibling'             60           60               60   60  \n",
       "Pupil vs. Unrelated Bird        90           90               90   90  "
      ]
     },
     "execution_count": 38,
     "metadata": {},
     "output_type": "execute_result"
    }
   ],
   "source": [
    "utsw_typical.groupby('comparison_type').count()"
   ]
  },
  {
   "cell_type": "code",
   "execution_count": 32,
   "metadata": {},
   "outputs": [
    {
     "name": "stderr",
     "output_type": "stream",
     "text": [
      "c:\\Users\\tkoch\\anaconda3\\envs\\avn4_install_test\\lib\\site-packages\\seaborn\\axisgrid.py:118: UserWarning: The figure layout has changed to tight\n",
      "  self._figure.tight_layout(*args, **kwargs)\n"
     ]
    },
    {
     "data": {
      "text/plain": [
       "(0.1, 1.3)"
      ]
     },
     "execution_count": 32,
     "metadata": {},
     "output_type": "execute_result"
    },
    {
     "data": {
      "text/plain": [
       "<Figure size 400x200 with 0 Axes>"
      ]
     },
     "metadata": {},
     "output_type": "display_data"
    },
    {
     "data": {
      "image/png": "[encoded data removed]",
      "text/plain": [
       "<Figure size 960x300 with 4 Axes>"
      ]
     },
     "metadata": {},
     "output_type": "display_data"
    }
   ],
   "source": [
    "plt.figure(figsize = (4, 2))\n",
    "g = sns.displot(utsw_fp1, x = 'EMD', col = 'comparison_type', hue = 'comparison_type', alpha = 0.5,\n",
    "                 stat = 'probability', common_norm = False, bins = 12, legend=False, height = 3, aspect = 0.8 ) \n",
    "g.set_axis_labels(\"$EMD$ Score\", \"Proportion of \\nPairwise Comparisons\")\n",
    "g.set_titles(\"{col_name}\");\n",
    "plt.xlim(0.1, 1.3)"
   ]
  },
  {
   "cell_type": "code",
   "execution_count": 44,
   "metadata": {},
   "outputs": [
    {
     "data": {
      "text/html": [
       "<div>\n",
       "<style scoped>\n",
       "    .dataframe tbody tr th:only-of-type {\n",
       "        vertical-align: middle;\n",
       "    }\n",
       "\n",
       "    .dataframe tbody tr th {\n",
       "        vertical-align: top;\n",
       "    }\n",
       "\n",
       "    .dataframe thead th {\n",
       "        text-align: right;\n",
       "    }\n",
       "</style>\n",
       "<table border=\"1\" class=\"dataframe\">\n",
       "  <thead>\n",
       "    <tr style=\"text-align: right;\">\n",
       "      <th></th>\n",
       "      <th>index</th>\n",
       "      <th>Bird_ID</th>\n",
       "      <th>Comparison_Bird_ID</th>\n",
       "      <th>Tutor_ID</th>\n",
       "      <th>Same_tut</th>\n",
       "      <th>Tutor-pupil</th>\n",
       "      <th>Self_comparison</th>\n",
       "      <th>EMD</th>\n",
       "    </tr>\n",
       "    <tr>\n",
       "      <th>comparison_type</th>\n",
       "      <th></th>\n",
       "      <th></th>\n",
       "      <th></th>\n",
       "      <th></th>\n",
       "      <th></th>\n",
       "      <th></th>\n",
       "      <th></th>\n",
       "      <th></th>\n",
       "    </tr>\n",
       "  </thead>\n",
       "  <tbody>\n",
       "    <tr>\n",
       "      <th>Pupil vs. Itself</th>\n",
       "      <td>5</td>\n",
       "      <td>5</td>\n",
       "      <td>5</td>\n",
       "      <td>5</td>\n",
       "      <td>5</td>\n",
       "      <td>5</td>\n",
       "      <td>5</td>\n",
       "      <td>5</td>\n",
       "    </tr>\n",
       "    <tr>\n",
       "      <th>Pupil vs. Tutor</th>\n",
       "      <td>5</td>\n",
       "      <td>5</td>\n",
       "      <td>5</td>\n",
       "      <td>5</td>\n",
       "      <td>5</td>\n",
       "      <td>5</td>\n",
       "      <td>5</td>\n",
       "      <td>5</td>\n",
       "    </tr>\n",
       "    <tr>\n",
       "      <th>Pupil vs. 'Sibling'</th>\n",
       "      <td>14</td>\n",
       "      <td>14</td>\n",
       "      <td>14</td>\n",
       "      <td>14</td>\n",
       "      <td>14</td>\n",
       "      <td>14</td>\n",
       "      <td>14</td>\n",
       "      <td>14</td>\n",
       "    </tr>\n",
       "    <tr>\n",
       "      <th>Pupil vs. Unrelated Bird</th>\n",
       "      <td>15</td>\n",
       "      <td>15</td>\n",
       "      <td>15</td>\n",
       "      <td>15</td>\n",
       "      <td>15</td>\n",
       "      <td>15</td>\n",
       "      <td>15</td>\n",
       "      <td>15</td>\n",
       "    </tr>\n",
       "  </tbody>\n",
       "</table>\n",
       "</div>"
      ],
      "text/plain": [
       "                          index  Bird_ID  Comparison_Bird_ID  Tutor_ID  \\\n",
       "comparison_type                                                          \n",
       "Pupil vs. Itself              5        5                   5         5   \n",
       "Pupil vs. Tutor               5        5                   5         5   \n",
       "Pupil vs. 'Sibling'          14       14                  14        14   \n",
       "Pupil vs. Unrelated Bird     15       15                  15        15   \n",
       "\n",
       "                          Same_tut  Tutor-pupil  Self_comparison  EMD  \n",
       "comparison_type                                                        \n",
       "Pupil vs. Itself                 5            5                5    5  \n",
       "Pupil vs. Tutor                  5            5                5    5  \n",
       "Pupil vs. 'Sibling'             14           14               14   14  \n",
       "Pupil vs. Unrelated Bird        15           15               15   15  "
      ]
     },
     "execution_count": 44,
     "metadata": {},
     "output_type": "execute_result"
    }
   ],
   "source": [
    "utsw_fp1.groupby('comparison_type').count()"
   ]
  },
  {
   "cell_type": "markdown",
   "metadata": {},
   "source": [
    "## Plot Rockefeller Distributions"
   ]
  },
  {
   "cell_type": "code",
   "execution_count": 39,
   "metadata": {},
   "outputs": [],
   "source": [
    "rock_full[\"comparison_type\"] = \"Pupil vs. Unrelated Bird\"\n",
    "rock_full.loc[rock_full[\"Tutor-pupil\"], \"comparison_type\"] = \"Pupil vs. Tutor\"\n",
    "rock_full.loc[rock_full[\"Same_tut\"], \"comparison_type\"] = \"Pupil vs. 'Sibling'\"\n",
    "rock_full.loc[rock_full[\"Self_comparison\"], \"comparison_type\"] = \"Pupil vs. Itself\""
   ]
  },
  {
   "cell_type": "code",
   "execution_count": 40,
   "metadata": {},
   "outputs": [],
   "source": [
    "rock_full.comparison_type = rock_full.comparison_type.astype(\"category\")\n",
    "rock_full.comparison_type = rock_full.comparison_type.cat.reorder_categories([\"Pupil vs. Itself\",\n",
    "                                                                \"Pupil vs. Tutor\", \n",
    "                                                                \"Pupil vs. 'Sibling'\", \n",
    "                                                                \"Pupil vs. Unrelated Bird\"])"
   ]
  },
  {
   "cell_type": "code",
   "execution_count": 41,
   "metadata": {},
   "outputs": [
    {
     "name": "stderr",
     "output_type": "stream",
     "text": [
      "c:\\Users\\tkoch\\anaconda3\\envs\\avn4_install_test\\lib\\site-packages\\seaborn\\axisgrid.py:118: UserWarning: The figure layout has changed to tight\n",
      "  self._figure.tight_layout(*args, **kwargs)\n"
     ]
    },
    {
     "data": {
      "text/plain": [
       "(0.1, 1.3)"
      ]
     },
     "execution_count": 41,
     "metadata": {},
     "output_type": "execute_result"
    },
    {
     "data": {
      "text/plain": [
       "<Figure size 300x200 with 0 Axes>"
      ]
     },
     "metadata": {},
     "output_type": "display_data"
    },
    {
     "data": {
      "image/png": "[encoded data removed]",
      "text/plain": [
       "<Figure size 960x300 with 4 Axes>"
      ]
     },
     "metadata": {},
     "output_type": "display_data"
    }
   ],
   "source": [
    "plt.figure(figsize = (3, 2))\n",
    "g = sns.displot(rock_full, x = 'EMD', col = 'comparison_type', hue = 'comparison_type', alpha = 0.5,\n",
    "                 stat = 'probability', common_norm = False, bins = 12, legend=False, height = 3, aspect = 0.8 ) \n",
    "g.set_axis_labels(\"$EMD$ Score\", \"Proportion of \\nPairwise Comparisons\")\n",
    "g.set_titles(\"{col_name}\");\n",
    "plt.xlim(0.1, 1.3)"
   ]
  },
  {
   "cell_type": "code",
   "execution_count": 43,
   "metadata": {},
   "outputs": [
    {
     "data": {
      "text/html": [
       "<div>\n",
       "<style scoped>\n",
       "    .dataframe tbody tr th:only-of-type {\n",
       "        vertical-align: middle;\n",
       "    }\n",
       "\n",
       "    .dataframe tbody tr th {\n",
       "        vertical-align: top;\n",
       "    }\n",
       "\n",
       "    .dataframe thead th {\n",
       "        text-align: right;\n",
       "    }\n",
       "</style>\n",
       "<table border=\"1\" class=\"dataframe\">\n",
       "  <thead>\n",
       "    <tr style=\"text-align: right;\">\n",
       "      <th></th>\n",
       "      <th>Bird_ID</th>\n",
       "      <th>Comparison_Bird_ID</th>\n",
       "      <th>Tutor_ID</th>\n",
       "      <th>Same_tut</th>\n",
       "      <th>Tutor-pupil</th>\n",
       "      <th>Self_comparison</th>\n",
       "      <th>EMD</th>\n",
       "    </tr>\n",
       "    <tr>\n",
       "      <th>comparison_type</th>\n",
       "      <th></th>\n",
       "      <th></th>\n",
       "      <th></th>\n",
       "      <th></th>\n",
       "      <th></th>\n",
       "      <th></th>\n",
       "      <th></th>\n",
       "    </tr>\n",
       "  </thead>\n",
       "  <tbody>\n",
       "    <tr>\n",
       "      <th>Pupil vs. Itself</th>\n",
       "      <td>25</td>\n",
       "      <td>25</td>\n",
       "      <td>25</td>\n",
       "      <td>25</td>\n",
       "      <td>25</td>\n",
       "      <td>25</td>\n",
       "      <td>25</td>\n",
       "    </tr>\n",
       "    <tr>\n",
       "      <th>Pupil vs. Tutor</th>\n",
       "      <td>25</td>\n",
       "      <td>25</td>\n",
       "      <td>25</td>\n",
       "      <td>25</td>\n",
       "      <td>25</td>\n",
       "      <td>25</td>\n",
       "      <td>25</td>\n",
       "    </tr>\n",
       "    <tr>\n",
       "      <th>Pupil vs. 'Sibling'</th>\n",
       "      <td>64</td>\n",
       "      <td>64</td>\n",
       "      <td>64</td>\n",
       "      <td>64</td>\n",
       "      <td>64</td>\n",
       "      <td>64</td>\n",
       "      <td>64</td>\n",
       "    </tr>\n",
       "    <tr>\n",
       "      <th>Pupil vs. Unrelated Bird</th>\n",
       "      <td>75</td>\n",
       "      <td>75</td>\n",
       "      <td>75</td>\n",
       "      <td>75</td>\n",
       "      <td>75</td>\n",
       "      <td>75</td>\n",
       "      <td>75</td>\n",
       "    </tr>\n",
       "  </tbody>\n",
       "</table>\n",
       "</div>"
      ],
      "text/plain": [
       "                          Bird_ID  Comparison_Bird_ID  Tutor_ID  Same_tut  \\\n",
       "comparison_type                                                             \n",
       "Pupil vs. Itself               25                  25        25        25   \n",
       "Pupil vs. Tutor                25                  25        25        25   \n",
       "Pupil vs. 'Sibling'            64                  64        64        64   \n",
       "Pupil vs. Unrelated Bird       75                  75        75        75   \n",
       "\n",
       "                          Tutor-pupil  Self_comparison  EMD  \n",
       "comparison_type                                              \n",
       "Pupil vs. Itself                   25               25   25  \n",
       "Pupil vs. Tutor                    25               25   25  \n",
       "Pupil vs. 'Sibling'                64               64   64  \n",
       "Pupil vs. Unrelated Bird           75               75   75  "
      ]
     },
     "execution_count": 43,
     "metadata": {},
     "output_type": "execute_result"
    }
   ],
   "source": [
    "rock_full.groupby('comparison_type').count()"
   ]
  },
  {
   "cell_type": "markdown",
   "metadata": {},
   "source": [
    "## Compare Tutor-Pupil Similarity Scores"
   ]
  },
  {
   "cell_type": "code",
   "execution_count": 16,
   "metadata": {},
   "outputs": [],
   "source": [
    "utsw_typical_emds = utsw_typical[utsw_typical.comparison_type == 'Pupil vs. Tutor'].EMD.to_list()\n",
    "utsw_fp1_emds = utsw_fp1[utsw_fp1.comparison_type == 'Pupil vs. Tutor'].EMD.to_list()\n",
    "rock_emds = rock_full[rock_full.comparison_type == 'Pupil vs. Tutor'].EMD.to_list()"
   ]
  },
  {
   "cell_type": "code",
   "execution_count": 17,
   "metadata": {},
   "outputs": [],
   "source": [
    "from scipy.stats import f_oneway\n",
    "from statsmodels.stats.multicomp import pairwise_tukeyhsd"
   ]
  },
  {
   "cell_type": "code",
   "execution_count": 18,
   "metadata": {},
   "outputs": [
    {
     "name": "stdout",
     "output_type": "stream",
     "text": [
      "18.635459792183706 5.924718171268832e-07\n"
     ]
    }
   ],
   "source": [
    "fvalue, pvalue = f_oneway(utsw_typical_emds, utsw_fp1_emds,  rock_emds)\n",
    "print(fvalue, pvalue)"
   ]
  },
  {
   "cell_type": "code",
   "execution_count": 19,
   "metadata": {},
   "outputs": [],
   "source": [
    "utsw_typical_emds = pd.DataFrame({'EMD' : utsw_typical_emds, \n",
    "                                  'Group' : 'UTSW Typical'})\n",
    "utsw_fp1_emds = pd.DataFrame({'EMD' : utsw_fp1_emds, \n",
    "                                  'Group' : 'UTSW FP1'})\n",
    "rock_emds = pd.DataFrame({'EMD' : rock_emds, \n",
    "                                  'Group' : 'Rockefeller Typical'})\n",
    "\n",
    "full_tut_pup_emds = pd.concat([utsw_typical_emds, rock_emds, utsw_fp1_emds,])"
   ]
  },
  {
   "cell_type": "code",
   "execution_count": 20,
   "metadata": {},
   "outputs": [
    {
     "data": {
      "text/html": [
       "<div>\n",
       "<style scoped>\n",
       "    .dataframe tbody tr th:only-of-type {\n",
       "        vertical-align: middle;\n",
       "    }\n",
       "\n",
       "    .dataframe tbody tr th {\n",
       "        vertical-align: top;\n",
       "    }\n",
       "\n",
       "    .dataframe thead th {\n",
       "        text-align: right;\n",
       "    }\n",
       "</style>\n",
       "<table border=\"1\" class=\"dataframe\">\n",
       "  <thead>\n",
       "    <tr style=\"text-align: right;\">\n",
       "      <th></th>\n",
       "      <th>EMD</th>\n",
       "    </tr>\n",
       "    <tr>\n",
       "      <th>Group</th>\n",
       "      <th></th>\n",
       "    </tr>\n",
       "  </thead>\n",
       "  <tbody>\n",
       "    <tr>\n",
       "      <th>Rockefeller Typical</th>\n",
       "      <td>25</td>\n",
       "    </tr>\n",
       "    <tr>\n",
       "      <th>UTSW FP1</th>\n",
       "      <td>5</td>\n",
       "    </tr>\n",
       "    <tr>\n",
       "      <th>UTSW Typical</th>\n",
       "      <td>30</td>\n",
       "    </tr>\n",
       "  </tbody>\n",
       "</table>\n",
       "</div>"
      ],
      "text/plain": [
       "                     EMD\n",
       "Group                   \n",
       "Rockefeller Typical   25\n",
       "UTSW FP1               5\n",
       "UTSW Typical          30"
      ]
     },
     "execution_count": 20,
     "metadata": {},
     "output_type": "execute_result"
    }
   ],
   "source": [
    "full_tut_pup_emds.groupby('Group').count()"
   ]
  },
  {
   "cell_type": "code",
   "execution_count": 21,
   "metadata": {},
   "outputs": [
    {
     "name": "stdout",
     "output_type": "stream",
     "text": [
      "          Multiple Comparison of Means - Tukey HSD, FWER=0.05          \n",
      "=======================================================================\n",
      "       group1          group2    meandiff p-adj   lower   upper  reject\n",
      "-----------------------------------------------------------------------\n",
      "Rockefeller Typical     UTSW FP1   0.3242    0.0  0.1942  0.4541   True\n",
      "Rockefeller Typical UTSW Typical   0.0225 0.7319 -0.0493  0.0943  False\n",
      "           UTSW FP1 UTSW Typical  -0.3016    0.0 -0.4297 -0.1735   True\n",
      "-----------------------------------------------------------------------\n"
     ]
    }
   ],
   "source": [
    "tukey = pairwise_tukeyhsd(endog = full_tut_pup_emds['EMD'], \n",
    "                          groups = full_tut_pup_emds['Group'], \n",
    "                          alpha = 0.05)\n",
    "\n",
    "print(tukey)"
   ]
  },
  {
   "cell_type": "code",
   "execution_count": 22,
   "metadata": {},
   "outputs": [],
   "source": [
    "plt.rcParams.update({'font.size' : 11})"
   ]
  },
  {
   "cell_type": "code",
   "execution_count": 23,
   "metadata": {},
   "outputs": [
    {
     "data": {
      "text/plain": [
       "Text(0.5, 1.0, 'Tutor Pupil Dissimiarity Scores')"
      ]
     },
     "execution_count": 23,
     "metadata": {},
     "output_type": "execute_result"
    },
    {
     "data": {
      "image/png": "[encoded data removed]",
      "text/plain": [
       "<Figure size 500x400 with 1 Axes>"
      ]
     },
     "metadata": {},
     "output_type": "display_data"
    }
   ],
   "source": [
    "plt.figure(figsize=(5, 4))\n",
    "sns.boxplot(data = full_tut_pup_emds, x = 'Group', y = 'EMD', color = '0.8')\n",
    "sns.swarmplot(data = full_tut_pup_emds, x = 'Group', y = 'EMD', color = 'black', s = 5)\n",
    "plt.ylabel('EMD Dissimilarity Score')\n",
    "plt.title('Tutor Pupil Dissimiarity Scores')"
   ]
  },
  {
   "cell_type": "markdown",
   "metadata": {},
   "source": [
    "## Calculate Contrast Indices"
   ]
  },
  {
   "cell_type": "code",
   "execution_count": 24,
   "metadata": {},
   "outputs": [],
   "source": [
    "from scipy.stats import sem"
   ]
  },
  {
   "cell_type": "code",
   "execution_count": 25,
   "metadata": {},
   "outputs": [],
   "source": [
    "utsw_typical_ci_df = pd.DataFrame(utsw_typical.groupby(['Bird_ID', 'comparison_type'])['EMD'].mean()).reset_index().pivot(index = 'Bird_ID', columns = 'comparison_type', values = 'EMD')"
   ]
  },
  {
   "cell_type": "code",
   "execution_count": 26,
   "metadata": {},
   "outputs": [],
   "source": [
    "utsw_typical_ci_df['contrast_index'] = -(utsw_typical_ci_df['Pupil vs. Itself'] - utsw_typical_ci_df['Pupil vs. Unrelated Bird']) / (utsw_typical_ci_df['Pupil vs. Itself'] + utsw_typical_ci_df['Pupil vs. Unrelated Bird'])"
   ]
  },
  {
   "cell_type": "code",
   "execution_count": 27,
   "metadata": {},
   "outputs": [
    {
     "data": {
      "text/plain": [
       "0.5207676518323323"
      ]
     },
     "execution_count": 27,
     "metadata": {},
     "output_type": "execute_result"
    }
   ],
   "source": [
    "utsw_typical_ci_df.contrast_index.mean()"
   ]
  },
  {
   "cell_type": "code",
   "execution_count": 28,
   "metadata": {},
   "outputs": [
    {
     "data": {
      "text/plain": [
       "0.018617774906177824"
      ]
     },
     "execution_count": 28,
     "metadata": {},
     "output_type": "execute_result"
    }
   ],
   "source": [
    "sem(utsw_typical_ci_df.contrast_index)"
   ]
  },
  {
   "cell_type": "code",
   "execution_count": 29,
   "metadata": {},
   "outputs": [],
   "source": [
    "rock_typical_ci_df = pd.DataFrame(rock_full.groupby(['Bird_ID', 'comparison_type'])['EMD'].mean()).reset_index().pivot(index = 'Bird_ID', columns = 'comparison_type', values = 'EMD')"
   ]
  },
  {
   "cell_type": "code",
   "execution_count": 30,
   "metadata": {},
   "outputs": [],
   "source": [
    "rock_typical_ci_df['contrast_index'] = -(rock_typical_ci_df['Pupil vs. Itself'] - rock_typical_ci_df['Pupil vs. Unrelated Bird']) / (rock_typical_ci_df['Pupil vs. Itself'] + rock_typical_ci_df['Pupil vs. Unrelated Bird'])"
   ]
  },
  {
   "cell_type": "code",
   "execution_count": 31,
   "metadata": {},
   "outputs": [
    {
     "data": {
      "text/plain": [
       "0.547570973183669"
      ]
     },
     "execution_count": 31,
     "metadata": {},
     "output_type": "execute_result"
    }
   ],
   "source": [
    "rock_typical_ci_df.contrast_index.mean()"
   ]
  },
  {
   "cell_type": "code",
   "execution_count": 32,
   "metadata": {},
   "outputs": [
    {
     "data": {
      "text/plain": [
       "0.016887191699768163"
      ]
     },
     "execution_count": 32,
     "metadata": {},
     "output_type": "execute_result"
    }
   ],
   "source": [
    "sem(rock_typical_ci_df.contrast_index)"
   ]
  },
  {
   "cell_type": "markdown",
   "metadata": {},
   "source": [
    "The contrast index reported in Manderlblat-Cerf & Fee 2014 was 0.41 for their acoustic similarity scoring system, and 0.156 for SAP (however, this was comparing a randomly selected window with the length of 2 motifs in the pupil song, compared to one motif in the tutor song which is not how SAP is intended to be used). "
   ]
  },
  {
   "cell_type": "code",
   "execution_count": 33,
   "metadata": {},
   "outputs": [],
   "source": [
    "rock_typical_ci_df['Colony'] = 'Rockefeller'\n",
    "utsw_typical_ci_df['Colony'] = 'UTSW'\n",
    "\n",
    "ci_df = pd.concat([rock_typical_ci_df, utsw_typical_ci_df])"
   ]
  },
  {
   "cell_type": "code",
   "execution_count": 34,
   "metadata": {},
   "outputs": [
    {
     "data": {
      "text/plain": [
       "Text(0.5, 1.0, 'Contrast Indices for Typical Zebra Finches')"
      ]
     },
     "execution_count": 34,
     "metadata": {},
     "output_type": "execute_result"
    },
    {
     "data": {
      "image/png": "[encoded data removed]",
      "text/plain": [
       "<Figure size 400x400 with 1 Axes>"
      ]
     },
     "metadata": {},
     "output_type": "display_data"
    }
   ],
   "source": [
    "plt.figure(figsize=(4, 4))\n",
    "sns.boxplot(data = ci_df, x = 'Colony', y = 'contrast_index', color = '0.8')\n",
    "sns.swarmplot(data = ci_df, x = 'Colony', y = 'contrast_index', color = 'black', s = 5)\n",
    "plt.ylabel('Contrast Index')\n",
    "plt.title('Contrast Indices for Typical Zebra Finches')"
   ]
  },
  {
   "cell_type": "code",
   "execution_count": 35,
   "metadata": {},
   "outputs": [],
   "source": [
    "from scipy.stats import ttest_ind"
   ]
  },
  {
   "cell_type": "code",
   "execution_count": 36,
   "metadata": {},
   "outputs": [
    {
     "data": {
      "text/plain": [
       "Ttest_indResult(statistic=-1.0480889768183572, pvalue=0.29935376622404886)"
      ]
     },
     "execution_count": 36,
     "metadata": {},
     "output_type": "execute_result"
    }
   ],
   "source": [
    "ttest_ind(utsw_typical_ci_df.contrast_index.to_list(), \n",
    "          rock_typical_ci_df.contrast_index.to_list())"
   ]
  },
  {
   "cell_type": "markdown",
   "metadata": {},
   "source": [
    "No significant difference between the contrast indices for birds at UTSW vs at Rockefeller. "
   ]
  },
  {
   "cell_type": "markdown",
   "metadata": {},
   "source": [
    "## Comparison to Human Similarity Scores"
   ]
  },
  {
   "cell_type": "code",
   "execution_count": 37,
   "metadata": {},
   "outputs": [],
   "source": [
    "sap_scores = pd.read_csv(\"C:/Grad_School/Code_and_software/Py_code/similarity_scoring/tutor_pupil_dataset/Similarity_Scores.csv\")\n",
    "EMD_scores = pd.read_csv(dir_path + \"54_emd_Dec_4_01_emds_wseg.csv\")\n",
    "human_scores = pd.read_csv(\"C:/Grad_School/Code_and_software/R_code/FoxP1_Human_Scoring_analysis/Human scoring averaged by tuttee.csv\")"
   ]
  },
  {
   "cell_type": "code",
   "execution_count": 38,
   "metadata": {},
   "outputs": [],
   "source": [
    "EMD_scores = EMD_scores[EMD_scores['Tutor-pupil'] == True]"
   ]
  },
  {
   "cell_type": "code",
   "execution_count": 39,
   "metadata": {},
   "outputs": [],
   "source": [
    "mean_sap_scores = sap_scores.groupby(\"Bird ID\")[\"%Similarity\"].mean()"
   ]
  },
  {
   "cell_type": "code",
   "execution_count": 40,
   "metadata": {},
   "outputs": [],
   "source": [
    "merged_sap_scores = pd.merge(left = EMD_scores, right = mean_sap_scores, left_on = \"Bird_ID\", right_on = \"Bird ID\")"
   ]
  },
  {
   "cell_type": "code",
   "execution_count": 41,
   "metadata": {},
   "outputs": [],
   "source": [
    "all_merged = pd.merge(left = merged_sap_scores[[\"Bird_ID\", \"Tutor_ID\", \"EMD\", \"%Similarity\",]], right = human_scores[[\"Bird_2\", \"mean_score\", \"Comparison_type\"]], \n",
    "                     left_on = \"Bird_ID\", right_on = \"Bird_2\")"
   ]
  },
  {
   "cell_type": "code",
   "execution_count": 42,
   "metadata": {},
   "outputs": [
    {
     "data": {
      "text/html": [
       "<div>\n",
       "<style scoped>\n",
       "    .dataframe tbody tr th:only-of-type {\n",
       "        vertical-align: middle;\n",
       "    }\n",
       "\n",
       "    .dataframe tbody tr th {\n",
       "        vertical-align: top;\n",
       "    }\n",
       "\n",
       "    .dataframe thead th {\n",
       "        text-align: right;\n",
       "    }\n",
       "</style>\n",
       "<table border=\"1\" class=\"dataframe\">\n",
       "  <thead>\n",
       "    <tr style=\"text-align: right;\">\n",
       "      <th></th>\n",
       "      <th>Bird_ID</th>\n",
       "      <th>Tutor_ID</th>\n",
       "      <th>EMD</th>\n",
       "      <th>%Similarity</th>\n",
       "      <th>Bird_2</th>\n",
       "      <th>mean_score</th>\n",
       "      <th>Comparison_type</th>\n",
       "    </tr>\n",
       "  </thead>\n",
       "  <tbody>\n",
       "    <tr>\n",
       "      <th>0</th>\n",
       "      <td>G402</td>\n",
       "      <td>O314</td>\n",
       "      <td>0.581091</td>\n",
       "      <td>87.325000</td>\n",
       "      <td>G402</td>\n",
       "      <td>5.159091</td>\n",
       "      <td>tut_pre_FoxP1_v_tut</td>\n",
       "    </tr>\n",
       "    <tr>\n",
       "      <th>1</th>\n",
       "      <td>R402</td>\n",
       "      <td>O314</td>\n",
       "      <td>0.652488</td>\n",
       "      <td>73.914894</td>\n",
       "      <td>R402</td>\n",
       "      <td>4.982323</td>\n",
       "      <td>tut_pre_FoxP1_v_tut</td>\n",
       "    </tr>\n",
       "    <tr>\n",
       "      <th>2</th>\n",
       "      <td>B447</td>\n",
       "      <td>B181</td>\n",
       "      <td>0.506988</td>\n",
       "      <td>59.100000</td>\n",
       "      <td>B447</td>\n",
       "      <td>7.232323</td>\n",
       "      <td>tut_pre_FoxP1_v_tut</td>\n",
       "    </tr>\n",
       "    <tr>\n",
       "      <th>3</th>\n",
       "      <td>S389</td>\n",
       "      <td>B308</td>\n",
       "      <td>0.521639</td>\n",
       "      <td>72.023810</td>\n",
       "      <td>S389</td>\n",
       "      <td>4.765152</td>\n",
       "      <td>tut_post_FoxP1_v_tut</td>\n",
       "    </tr>\n",
       "    <tr>\n",
       "      <th>4</th>\n",
       "      <td>Y389</td>\n",
       "      <td>B308</td>\n",
       "      <td>0.963579</td>\n",
       "      <td>67.457627</td>\n",
       "      <td>Y389</td>\n",
       "      <td>1.242424</td>\n",
       "      <td>tut_post_FoxP1_v_tut</td>\n",
       "    </tr>\n",
       "    <tr>\n",
       "      <th>5</th>\n",
       "      <td>O421</td>\n",
       "      <td>B308</td>\n",
       "      <td>0.960880</td>\n",
       "      <td>43.700000</td>\n",
       "      <td>O421</td>\n",
       "      <td>1.234848</td>\n",
       "      <td>tut_post_FoxP1_v_tut</td>\n",
       "    </tr>\n",
       "    <tr>\n",
       "      <th>6</th>\n",
       "      <td>S421</td>\n",
       "      <td>B308</td>\n",
       "      <td>1.102812</td>\n",
       "      <td>52.375000</td>\n",
       "      <td>S421</td>\n",
       "      <td>0.876263</td>\n",
       "      <td>tut_post_FoxP1_v_tut</td>\n",
       "    </tr>\n",
       "    <tr>\n",
       "      <th>7</th>\n",
       "      <td>B402</td>\n",
       "      <td>B308</td>\n",
       "      <td>0.833040</td>\n",
       "      <td>51.393443</td>\n",
       "      <td>B402</td>\n",
       "      <td>2.782828</td>\n",
       "      <td>tut_post_FoxP1_v_tut</td>\n",
       "    </tr>\n",
       "    <tr>\n",
       "      <th>8</th>\n",
       "      <td>Y433</td>\n",
       "      <td>B308</td>\n",
       "      <td>0.601753</td>\n",
       "      <td>64.977778</td>\n",
       "      <td>Y433</td>\n",
       "      <td>5.371212</td>\n",
       "      <td>tut_post_GFP_v_tut</td>\n",
       "    </tr>\n",
       "    <tr>\n",
       "      <th>9</th>\n",
       "      <td>O434</td>\n",
       "      <td>B308</td>\n",
       "      <td>0.639380</td>\n",
       "      <td>84.317073</td>\n",
       "      <td>O434</td>\n",
       "      <td>5.861111</td>\n",
       "      <td>tut_post_GFP_v_tut</td>\n",
       "    </tr>\n",
       "    <tr>\n",
       "      <th>10</th>\n",
       "      <td>R469</td>\n",
       "      <td>B308</td>\n",
       "      <td>0.569177</td>\n",
       "      <td>85.850000</td>\n",
       "      <td>R469</td>\n",
       "      <td>6.267677</td>\n",
       "      <td>tut_post_GFP_v_tut</td>\n",
       "    </tr>\n",
       "    <tr>\n",
       "      <th>11</th>\n",
       "      <td>S525</td>\n",
       "      <td>B308</td>\n",
       "      <td>0.749180</td>\n",
       "      <td>64.150000</td>\n",
       "      <td>S525</td>\n",
       "      <td>3.002525</td>\n",
       "      <td>tut_post_GFP_v_tut</td>\n",
       "    </tr>\n",
       "    <tr>\n",
       "      <th>12</th>\n",
       "      <td>G413</td>\n",
       "      <td>B416</td>\n",
       "      <td>0.839671</td>\n",
       "      <td>57.415385</td>\n",
       "      <td>G413</td>\n",
       "      <td>1.537879</td>\n",
       "      <td>tut_post_FoxP1_v_tut</td>\n",
       "    </tr>\n",
       "    <tr>\n",
       "      <th>13</th>\n",
       "      <td>G528</td>\n",
       "      <td>B416</td>\n",
       "      <td>0.768719</td>\n",
       "      <td>50.533333</td>\n",
       "      <td>G528</td>\n",
       "      <td>5.547980</td>\n",
       "      <td>tut_post_GFP_v_tut</td>\n",
       "    </tr>\n",
       "    <tr>\n",
       "      <th>14</th>\n",
       "      <td>S528</td>\n",
       "      <td>B416</td>\n",
       "      <td>0.733988</td>\n",
       "      <td>35.750000</td>\n",
       "      <td>S528</td>\n",
       "      <td>6.095960</td>\n",
       "      <td>tut_post_GFP_v_tut</td>\n",
       "    </tr>\n",
       "  </tbody>\n",
       "</table>\n",
       "</div>"
      ],
      "text/plain": [
       "   Bird_ID Tutor_ID       EMD  %Similarity Bird_2  mean_score  \\\n",
       "0     G402     O314  0.581091    87.325000   G402    5.159091   \n",
       "1     R402     O314  0.652488    73.914894   R402    4.982323   \n",
       "2     B447     B181  0.506988    59.100000   B447    7.232323   \n",
       "3     S389     B308  0.521639    72.023810   S389    4.765152   \n",
       "4     Y389     B308  0.963579    67.457627   Y389    1.242424   \n",
       "5     O421     B308  0.960880    43.700000   O421    1.234848   \n",
       "6     S421     B308  1.102812    52.375000   S421    0.876263   \n",
       "7     B402     B308  0.833040    51.393443   B402    2.782828   \n",
       "8     Y433     B308  0.601753    64.977778   Y433    5.371212   \n",
       "9     O434     B308  0.639380    84.317073   O434    5.861111   \n",
       "10    R469     B308  0.569177    85.850000   R469    6.267677   \n",
       "11    S525     B308  0.749180    64.150000   S525    3.002525   \n",
       "12    G413     B416  0.839671    57.415385   G413    1.537879   \n",
       "13    G528     B416  0.768719    50.533333   G528    5.547980   \n",
       "14    S528     B416  0.733988    35.750000   S528    6.095960   \n",
       "\n",
       "         Comparison_type  \n",
       "0    tut_pre_FoxP1_v_tut  \n",
       "1    tut_pre_FoxP1_v_tut  \n",
       "2    tut_pre_FoxP1_v_tut  \n",
       "3   tut_post_FoxP1_v_tut  \n",
       "4   tut_post_FoxP1_v_tut  \n",
       "5   tut_post_FoxP1_v_tut  \n",
       "6   tut_post_FoxP1_v_tut  \n",
       "7   tut_post_FoxP1_v_tut  \n",
       "8     tut_post_GFP_v_tut  \n",
       "9     tut_post_GFP_v_tut  \n",
       "10    tut_post_GFP_v_tut  \n",
       "11    tut_post_GFP_v_tut  \n",
       "12  tut_post_FoxP1_v_tut  \n",
       "13    tut_post_GFP_v_tut  \n",
       "14    tut_post_GFP_v_tut  "
      ]
     },
     "execution_count": 42,
     "metadata": {},
     "output_type": "execute_result"
    }
   ],
   "source": [
    "all_merged"
   ]
  },
  {
   "cell_type": "code",
   "execution_count": 43,
   "metadata": {},
   "outputs": [],
   "source": [
    "from scipy.stats import pearsonr"
   ]
  },
  {
   "cell_type": "code",
   "execution_count": 44,
   "metadata": {},
   "outputs": [
    {
     "name": "stdout",
     "output_type": "stream",
     "text": [
      "0.3266946758680167\n",
      "0.23464591437187976\n"
     ]
    }
   ],
   "source": [
    "r_sap, p_sap = pearsonr(all_merged['%Similarity'], all_merged['mean_score'])\n",
    "print(r_sap)\n",
    "print(p_sap)"
   ]
  },
  {
   "cell_type": "code",
   "execution_count": 45,
   "metadata": {},
   "outputs": [
    {
     "data": {
      "text/plain": [
       "Text(1, 85, '$r$ = 0.327')"
      ]
     },
     "execution_count": 45,
     "metadata": {},
     "output_type": "execute_result"
    },
    {
     "data": {
      "image/png": "[encoded data removed]",
      "text/plain": [
       "<Figure size 400x400 with 1 Axes>"
      ]
     },
     "metadata": {},
     "output_type": "display_data"
    }
   ],
   "source": [
    "plt.rcParams.update({'font.size': 11})\n",
    "plt.figure(figsize=(4,4))\n",
    "sns.regplot(data = all_merged, x = \"mean_score\", y = \"%Similarity\", color = 'Black')\n",
    "plt.title(\"Expert Similarity Scores vs. \\nSAP %Similarity Scores\", fontdict = {'size' : 14})\n",
    "plt.xlabel(\"Mean Expert Similarity Score\")\n",
    "plt.ylabel(\"SAP %Similarity Score\")\n",
    "plt.annotate(\"$r$ = %.3f\" % r_sap, xy = (1, 85), fontsize = 14)"
   ]
  },
  {
   "cell_type": "code",
   "execution_count": 46,
   "metadata": {},
   "outputs": [
    {
     "name": "stdout",
     "output_type": "stream",
     "text": [
      "-0.8724218819496165\n",
      "2.21492709072025e-05\n"
     ]
    }
   ],
   "source": [
    "r_emd, p_emd = pearsonr(all_merged['EMD'], all_merged['mean_score'])\n",
    "print(r_emd)\n",
    "print(p_emd)"
   ]
  },
  {
   "cell_type": "code",
   "execution_count": 47,
   "metadata": {},
   "outputs": [
    {
     "data": {
      "text/plain": [
       "Text(0, 0.5, 'EMD Dissimilarity Score')"
      ]
     },
     "execution_count": 47,
     "metadata": {},
     "output_type": "execute_result"
    },
    {
     "data": {
      "image/png": "[encoded data removed]",
      "text/plain": [
       "<Figure size 400x400 with 1 Axes>"
      ]
     },
     "metadata": {},
     "output_type": "display_data"
    }
   ],
   "source": [
    "plt.rcParams.update({'font.size': 11})\n",
    "\n",
    "plt.figure(figsize=(4,4))\n",
    "sns.regplot(data = all_merged, x = \"mean_score\", y = \"EMD\", color = 'Black')\n",
    "plt.title(\"Expert Similarity  vs. EMD Scores\", fontdict = {'size' : 14})\n",
    "plt.xlabel(\"Mean Expert Similarity Score\")\n",
    "plt.ylabel(\"EMD Dissimilarity Score\")\n",
    "#plt.annotate(\"$r$ = %.3f\" % r_emd, xy = (5, 1.05), fontsize = 14)"
   ]
  },
  {
   "cell_type": "code",
   "execution_count": null,
   "metadata": {},
   "outputs": [],
   "source": []
  }
 ],
 "metadata": {
  "kernelspec": {
   "display_name": "avn4_install_test",
   "language": "python",
   "name": "python3"
  },
  "language_info": {
   "codemirror_mode": {
    "name": "ipython",
    "version": 3
   },
   "file_extension": ".py",
   "mimetype": "text/x-python",
   "name": "python",
   "nbconvert_exporter": "python",
   "pygments_lexer": "ipython3",
   "version": "3.8.19"
  }
 },
 "nbformat": 4,
 "nbformat_minor": 2
}
