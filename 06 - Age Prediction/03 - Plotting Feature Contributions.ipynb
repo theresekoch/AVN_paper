{
 "cells": [
  {
   "cell_type": "markdown",
   "metadata": {},
   "source": [
    "# 03 - Plotting GAM Functions"
   ]
  },
  {
   "cell_type": "markdown",
   "metadata": {},
   "source": [
    "In notebook 01 I determined the optimal set of features and lambda parameters for age predictions, and in notebook 02, I used these to train a model and predict age in a bird-fold cross validation scheme. Now, I am going to train the model with all the birds in the dataset, and look at the relationship between each feature and age that the model learns. "
   ]
  },
  {
   "cell_type": "markdown",
   "metadata": {},
   "source": [
    "## Imports"
   ]
  },
  {
   "cell_type": "code",
   "execution_count": 1,
   "metadata": {},
   "outputs": [],
   "source": [
    "import pandas as pd\n",
    "import numpy as np \n",
    "import seaborn as sns\n",
    "import matplotlib.pyplot as plt"
   ]
  },
  {
   "cell_type": "code",
   "execution_count": 2,
   "metadata": {},
   "outputs": [],
   "source": [
    "from sklearn.feature_selection import SelectKBest, mutual_info_regression\n",
    "from sklearn.metrics import mean_squared_error\n",
    "from sklearn.metrics import r2_score\n",
    "from pygam import LinearGAM, s, f\n",
    "from sklearn.model_selection import LeaveOneGroupOut"
   ]
  },
  {
   "cell_type": "markdown",
   "metadata": {},
   "source": [
    "## Prepare Dataset"
   ]
  },
  {
   "cell_type": "code",
   "execution_count": 3,
   "metadata": {},
   "outputs": [],
   "source": [
    "path_to_feats = 'C:\\\\Grad_School\\\\Code_and_software\\\\Py_code\\\\All_features_2023\\\\All_features_2023\\\\Juvenile_bird_analysis\\\\'"
   ]
  },
  {
   "cell_type": "markdown",
   "metadata": {},
   "source": [
    "### Load Duke Data"
   ]
  },
  {
   "cell_type": "code",
   "execution_count": 4,
   "metadata": {},
   "outputs": [],
   "source": [
    "all_feats = pd.read_csv(path_to_feats + \"Duke_all_features_morning.csv\").drop(columns= 'Unnamed: 0')"
   ]
  },
  {
   "cell_type": "markdown",
   "metadata": {},
   "source": [
    "### Load UTSW Data"
   ]
  },
  {
   "cell_type": "code",
   "execution_count": 5,
   "metadata": {},
   "outputs": [],
   "source": [
    "all_feats_utsw = pd.read_csv( path_to_feats + \"utsw_all_features_morning.csv\").drop(columns= 'Unnamed: 0')"
   ]
  },
  {
   "cell_type": "markdown",
   "metadata": {},
   "source": [
    "### Load Extra UTSW Birds"
   ]
  },
  {
   "cell_type": "code",
   "execution_count": 6,
   "metadata": {},
   "outputs": [],
   "source": [
    "acoustics = pd.read_csv('C:\\\\Grad_School\\\\Code_and_software\\\\Py_code\\\\All_features_2023\\\\All_features_2023\\\\Juvenile_bird_analysis\\\\FP1_normal_morning_only\\\\morning_Juvenile_acoustic_features.csv').drop(columns = 'Unnamed: 0')\n",
    "syntax = pd.read_csv(\"C:\\\\Grad_School\\\\Code_and_software\\\\Py_code\\\\All_features_2023\\\\All_features_2023\\\\Juvenile_bird_analysis\\\\FP1_normal_morning_only\\\\morning_syntax_features_whisper_UMAP.csv\").drop(columns = 'Unnamed: 0')\n",
    "rhythm_spectrum_feats = pd.read_csv(\"C:\\\\Grad_School\\\\Code_and_software\\\\Py_code\\\\All_features_2023\\\\All_features_2023\\\\Juvenile_bird_analysis\\\\FP1_normal_morning_only\\\\morning_rhythm_spectrum_features.csv\").drop(columns = 'Unnamed: 0')\n",
    "timing_seg_feats = pd.read_csv(\"C:\\\\Grad_School\\\\Code_and_software\\\\Py_code\\\\All_features_2023\\\\All_features_2023\\\\Juvenile_bird_analysis\\\\FP1_normal_morning_only\\\\morning_syllable_and_gap_duration_entropies.csv\").drop(columns = 'Unnamed: 0')\n",
    "\n"
   ]
  },
  {
   "cell_type": "code",
   "execution_count": 7,
   "metadata": {},
   "outputs": [],
   "source": [
    "all_feats_new = pd.merge(acoustics, syntax, on =[\"Bird_ID\", 'age'])\n",
    "all_feats_new = pd.merge(all_feats_new, rhythm_spectrum_feats, on = [\"Bird_ID\", 'age'])\n",
    "all_feats_new = pd.merge(all_feats_new, timing_seg_feats, on = [\"Bird_ID\", 'age'])\n",
    "all_feats_new['colony'] = 'fp1'"
   ]
  },
  {
   "cell_type": "code",
   "execution_count": 8,
   "metadata": {},
   "outputs": [],
   "source": [
    "all_feats = pd.concat([all_feats, all_feats_utsw, all_feats_new])"
   ]
  },
  {
   "cell_type": "code",
   "execution_count": 9,
   "metadata": {},
   "outputs": [],
   "source": [
    "all_feats = all_feats[~all_feats.Bird_ID.isin(['S833', 'Y856', 'O833', 'notag833'])]"
   ]
  },
  {
   "cell_type": "markdown",
   "metadata": {},
   "source": [
    "### Load Test set group 1"
   ]
  },
  {
   "cell_type": "code",
   "execution_count": 10,
   "metadata": {},
   "outputs": [],
   "source": [
    "acoustics = pd.read_csv('C:\\\\Grad_School\\\\Code_and_software\\\\Py_code\\\\All_features_2023\\\\All_features_2023\\\\Juvenile_bird_analysis\\\\utsw_test_set_moring\\\\morning_Juvenile_acoustic_features.csv').drop(columns = 'Unnamed: 0')\n",
    "syntax = pd.read_csv(\"C:\\\\Grad_School\\\\Code_and_software\\\\Py_code\\\\All_features_2023\\\\All_features_2023\\\\Juvenile_bird_analysis\\\\utsw_test_set_moring\\\\morning_syntax_features_whisper_UMAP.csv\").drop(columns = 'Unnamed: 0')\n",
    "rhythm_spectrum_feats = pd.read_csv(\"C:\\\\Grad_School\\\\Code_and_software\\\\Py_code\\\\All_features_2023\\\\All_features_2023\\\\Juvenile_bird_analysis\\\\utsw_test_set_moring\\\\morning_rhythm_spectrum_features.csv\").drop(columns = 'Unnamed: 0')\n",
    "timing_seg_feats = pd.read_csv(\"C:\\\\Grad_School\\\\Code_and_software\\\\Py_code\\\\All_features_2023\\\\All_features_2023\\\\Juvenile_bird_analysis\\\\utsw_test_set_moring\\\\morning_syllable_and_gap_duration_entropies.csv\").drop(columns = 'Unnamed: 0')\n"
   ]
  },
  {
   "cell_type": "code",
   "execution_count": 11,
   "metadata": {},
   "outputs": [],
   "source": [
    "all_feats_new = pd.merge(acoustics, syntax, on =[\"Bird_ID\", 'age'])\n",
    "all_feats_new = pd.merge(all_feats_new, rhythm_spectrum_feats, on = [\"Bird_ID\", 'age'])\n",
    "all_feats_new = pd.merge(all_feats_new, timing_seg_feats, on = [\"Bird_ID\", 'age'])\n",
    "all_feats_new['colony'] = 'test'"
   ]
  },
  {
   "cell_type": "code",
   "execution_count": 12,
   "metadata": {},
   "outputs": [
    {
     "data": {
      "text/plain": [
       "(44, 60)"
      ]
     },
     "execution_count": 12,
     "metadata": {},
     "output_type": "execute_result"
    }
   ],
   "source": [
    "all_feats_new.shape"
   ]
  },
  {
   "cell_type": "code",
   "execution_count": 13,
   "metadata": {},
   "outputs": [],
   "source": [
    "all_feats = pd.concat([all_feats, all_feats_new])"
   ]
  },
  {
   "cell_type": "markdown",
   "metadata": {},
   "source": [
    "### Load Test set group 2"
   ]
  },
  {
   "cell_type": "code",
   "execution_count": 14,
   "metadata": {},
   "outputs": [],
   "source": [
    "acoustics = pd.read_csv('C:\\\\Grad_School\\\\Code_and_software\\\\Py_code\\\\All_features_2023\\\\All_features_2023\\\\Juvenile_bird_analysis\\\\utsw_birds_features\\\\morning_only\\\\test_morning_Juvenile_acoustic_features.csv').drop(columns = 'Unnamed: 0')\n",
    "syntax = pd.read_csv(\"C:\\\\Grad_School\\\\Code_and_software\\\\Py_code\\\\All_features_2023\\\\All_features_2023\\\\Juvenile_bird_analysis\\\\utsw_birds_features\\\\morning_only\\\\test_morning_syntax_features_whisper_UMAP.csv\").drop(columns = 'Unnamed: 0')\n",
    "rhythm_spectrum_feats = pd.read_csv(\"C:\\\\Grad_School\\\\Code_and_software\\\\Py_code\\\\All_features_2023\\\\All_features_2023\\\\Juvenile_bird_analysis\\\\utsw_birds_features\\\\morning_only\\\\test_morning_rhythm_spectrum_features.csv\").drop(columns = 'Unnamed: 0')\n",
    "timing_seg_feats = pd.read_csv(\"C:\\\\Grad_School\\\\Code_and_software\\\\Py_code\\\\All_features_2023\\\\All_features_2023\\\\Juvenile_bird_analysis\\\\utsw_birds_features\\\\morning_only\\\\test_morning_syllable_and_gap_duration_entropies.csv\").drop(columns = 'Unnamed: 0')\n",
    "\n"
   ]
  },
  {
   "cell_type": "code",
   "execution_count": 15,
   "metadata": {},
   "outputs": [],
   "source": [
    "all_feats_new = pd.merge(acoustics, syntax, on =[\"Bird_ID\", 'age'])\n",
    "all_feats_new = pd.merge(all_feats_new, rhythm_spectrum_feats, on = [\"Bird_ID\", 'age'])\n",
    "all_feats_new = pd.merge(all_feats_new, timing_seg_feats, on = [\"Bird_ID\", 'age'])\n",
    "all_feats_new['colony'] = 'test'"
   ]
  },
  {
   "cell_type": "code",
   "execution_count": 16,
   "metadata": {},
   "outputs": [
    {
     "data": {
      "text/plain": [
       "(16, 60)"
      ]
     },
     "execution_count": 16,
     "metadata": {},
     "output_type": "execute_result"
    }
   ],
   "source": [
    "all_feats_new.shape"
   ]
  },
  {
   "cell_type": "code",
   "execution_count": 17,
   "metadata": {},
   "outputs": [],
   "source": [
    "all_feats = pd.concat([all_feats, all_feats_new])"
   ]
  },
  {
   "cell_type": "code",
   "execution_count": 18,
   "metadata": {},
   "outputs": [
    {
     "data": {
      "text/plain": [
       "(103, 60)"
      ]
     },
     "execution_count": 18,
     "metadata": {},
     "output_type": "execute_result"
    }
   ],
   "source": [
    "all_feats.shape"
   ]
  },
  {
   "cell_type": "markdown",
   "metadata": {},
   "source": [
    "### Drop Amplitude Features"
   ]
  },
  {
   "cell_type": "code",
   "execution_count": 19,
   "metadata": {},
   "outputs": [],
   "source": [
    "amplitude_features = all_feats.columns[['Amplitude' in x for x in all_feats.columns.tolist()]]\n",
    "\n",
    "all_feats = all_feats.drop(columns= amplitude_features)"
   ]
  },
  {
   "cell_type": "markdown",
   "metadata": {},
   "source": [
    "### Rrep Feature Set and y"
   ]
  },
  {
   "cell_type": "code",
   "execution_count": 21,
   "metadata": {},
   "outputs": [],
   "source": [
    "full_feats_only = np.array(all_feats.drop(columns = ['Bird_ID', 'age', 'entropy_rate', 'colony', 'num_syllables']))"
   ]
  },
  {
   "cell_type": "code",
   "execution_count": 22,
   "metadata": {},
   "outputs": [],
   "source": [
    "y = all_feats.age\n",
    "y = np.array(y).flatten()\n"
   ]
  },
  {
   "cell_type": "markdown",
   "metadata": {},
   "source": [
    "## Fit Model"
   ]
  },
  {
   "cell_type": "code",
   "execution_count": 23,
   "metadata": {},
   "outputs": [],
   "source": [
    "#this is taken from notebook 1 where we did forward feature selection\n",
    "selected_feature_indices = [41, 36, 19, 33, 16, 24, 34]"
   ]
  },
  {
   "cell_type": "code",
   "execution_count": 24,
   "metadata": {},
   "outputs": [
    {
     "data": {
      "text/plain": [
       "['syllable_duration_entropy',\n",
       " 'entropy_rate_norm',\n",
       " 'Goodness_CV_min',\n",
       " 'duration_CV_median',\n",
       " 'duration_mean_min',\n",
       " 'Entropy_CV_median',\n",
       " 'duration_CV_min']"
      ]
     },
     "execution_count": 24,
     "metadata": {},
     "output_type": "execute_result"
    }
   ],
   "source": [
    "feature_list = all_feats.drop(columns = ['Bird_ID', 'age', 'entropy_rate', 'colony', 'num_syllables']).columns.to_list()\n",
    "[feature_list[x] for x in selected_feature_indices]"
   ]
  },
  {
   "cell_type": "code",
   "execution_count": 25,
   "metadata": {},
   "outputs": [
    {
     "data": {
      "text/plain": [
       "LinearGAM(callbacks=[Deviance(), Diffs()], fit_intercept=True, \n",
       "   max_iter=100, scale=None, \n",
       "   terms=s(41) + s(36) + s(19) + s(33) + s(16) + s(24) + s(34) + intercept,\n",
       "   tol=0.0001, verbose=False)"
      ]
     },
     "execution_count": 25,
     "metadata": {},
     "output_type": "execute_result"
    }
   ],
   "source": [
    "terms = s(selected_feature_indices[0], lam = 10) + s(selected_feature_indices[1], lam = 10) + \\\n",
    "        s(selected_feature_indices[2], lam = 10) + s(selected_feature_indices[3], lam = 10) + \\\n",
    "        s(selected_feature_indices[4], lam = 10) + s(selected_feature_indices[5], lam = 10) + \\\n",
    "        s(selected_feature_indices[6], lam = 10) \n",
    "\n",
    "gam = LinearGAM(terms)\n",
    "\n",
    "gam.fit(full_feats_only, y)"
   ]
  },
  {
   "cell_type": "code",
   "execution_count": 26,
   "metadata": {},
   "outputs": [
    {
     "name": "stdout",
     "output_type": "stream",
     "text": [
      "LinearGAM                                                                                                 \n",
      "=============================================== ==========================================================\n",
      "Distribution:                        NormalDist Effective DoF:                                     11.6626\n",
      "Link Function:                     IdentityLink Log Likelihood:                                  -538.4198\n",
      "Number of Samples:                          103 AIC:                                             1102.1647\n",
      "                                                AICc:                                            1106.0377\n",
      "                                                GCV:                                               92.5228\n",
      "                                                Scale:                                             73.8796\n",
      "                                                Pseudo R-Squared:                                   0.7109\n",
      "==========================================================================================================\n",
      "Feature Function                  Lambda               Rank         EDoF         P > x        Sig. Code   \n",
      "================================= ==================== ============ ============ ============ ============\n",
      "s(41)                             [10]                 20                        1.11e-16     ***         \n",
      "s(36)                             [10]                 20                        1.11e-16     ***         \n",
      "s(19)                             [10]                 20                        1.11e-16     ***         \n",
      "s(33)                             [10]                 20                        1.11e-16     ***         \n",
      "s(16)                             [10]                 20                        1.11e-16     ***         \n",
      "s(24)                             [10]                 20                        1.11e-16     ***         \n",
      "s(34)                             [10]                 20                        1.11e-16     ***         \n",
      "intercept                                              1                         1.11e-16     ***         \n",
      "==========================================================================================================\n",
      "Significance codes:  0 '***' 0.001 '**' 0.01 '*' 0.05 '.' 0.1 ' ' 1\n",
      "\n",
      "WARNING: Fitting splines and a linear function to a feature introduces a model identifiability problem\n",
      "         which can cause p-values to appear significant when they are not.\n",
      "\n",
      "WARNING: p-values calculated in this manner behave correctly for un-penalized models or models with\n",
      "         known smoothing parameters, but when smoothing parameters have been estimated, the p-values\n",
      "         are typically lower than they should be, meaning that the tests reject the null too readily.\n"
     ]
    },
    {
     "name": "stderr",
     "output_type": "stream",
     "text": [
      "c:\\Users\\tkoch\\anaconda3\\envs\\pyGAM_env\\lib\\site-packages\\ipykernel_launcher.py:1: UserWarning: KNOWN BUG: p-values computed in this summary are likely much smaller than they should be. \n",
      " \n",
      "Please do not make inferences based on these values! \n",
      "\n",
      "Collaborate on a solution, and stay up to date at: \n",
      "github.com/dswah/pyGAM/issues/163 \n",
      "\n",
      "  \"\"\"Entry point for launching an IPython kernel.\n"
     ]
    }
   ],
   "source": [
    "gam.summary()"
   ]
  },
  {
   "cell_type": "code",
   "execution_count": 27,
   "metadata": {},
   "outputs": [],
   "source": [
    "i = 0"
   ]
  },
  {
   "cell_type": "code",
   "execution_count": 28,
   "metadata": {},
   "outputs": [
    {
     "data": {
      "text/plain": [
       "40.91540034058272"
      ]
     },
     "execution_count": 28,
     "metadata": {},
     "output_type": "execute_result"
    }
   ],
   "source": [
    "intercept = gam.coef_[-1]\n",
    "intercept"
   ]
  },
  {
   "cell_type": "code",
   "execution_count": 29,
   "metadata": {},
   "outputs": [],
   "source": [
    "titles = ['Syllable Duration Entropy', 'Syntax Entropy Rate', 'Minimum Goodness of Pitch CV', \n",
    "          'Median Syllable Duration CV', 'Minimum Mean Syllable Duration', 'Median Weiner Entropy CV', \n",
    "          'Minimum Syllable Duration CV']"
   ]
  },
  {
   "cell_type": "code",
   "execution_count": 30,
   "metadata": {},
   "outputs": [],
   "source": [
    "plt.rcParams.update({'font.size': 8})"
   ]
  },
  {
   "cell_type": "code",
   "execution_count": 31,
   "metadata": {},
   "outputs": [
    {
     "data": {
      "image/png": "[encoded data removed]",
      "text/plain": [
       "<Figure size 108x108 with 1 Axes>"
      ]
     },
     "metadata": {
      "needs_background": "light"
     },
     "output_type": "display_data"
    },
    {
     "data": {
      "image/png": "[encoded data removed]",
      "text/plain": [
       "<Figure size 108x108 with 1 Axes>"
      ]
     },
     "metadata": {
      "needs_background": "light"
     },
     "output_type": "display_data"
    },
    {
     "data": {
      "image/png": "[encoded data removed]",
      "text/plain": [
       "<Figure size 108x108 with 1 Axes>"
      ]
     },
     "metadata": {
      "needs_background": "light"
     },
     "output_type": "display_data"
    },
    {
     "data": {
      "image/png": "[encoded data removed]",
      "text/plain": [
       "<Figure size 108x108 with 1 Axes>"
      ]
     },
     "metadata": {
      "needs_background": "light"
     },
     "output_type": "display_data"
    },
    {
     "data": {
      "image/png": "[encoded data removed]",
      "text/plain": [
       "<Figure size 108x108 with 1 Axes>"
      ]
     },
     "metadata": {
      "needs_background": "light"
     },
     "output_type": "display_data"
    },
    {
     "data": {
      "image/png": "[encoded data removed]",
      "text/plain": [
       "<Figure size 108x108 with 1 Axes>"
      ]
     },
     "metadata": {
      "needs_background": "light"
     },
     "output_type": "display_data"
    },
    {
     "data": {
      "image/png": "[encoded data removed]",
      "text/plain": [
       "<Figure size 108x108 with 1 Axes>"
      ]
     },
     "metadata": {
      "needs_background": "light"
     },
     "output_type": "display_data"
    }
   ],
   "source": [
    "for i, term in enumerate(gam.terms):\n",
    "    if term.isintercept:\n",
    "        continue\n",
    "    XX = gam.generate_X_grid(term = i)\n",
    "    pdep, confi = gam.partial_dependence(term = i, X = XX, width = 0.95)\n",
    "\n",
    "    plt.figure(figsize=(1.5, 1.5))\n",
    "    plt.plot(XX[:, term.feature], pdep)\n",
    "    plt.plot(XX[:, term.feature], confi, c='r', ls='--')\n",
    "    plt.title(\"\")\n",
    "    plt.xlabel(titles[i])\n",
    "    plt.ylabel('Contribution to\\nAge Prediction')\n",
    "    plt.axhline(y =  0, color = 'black', alpha = 0.2,)\n",
    "\n",
    "    # Set the y-tick labels with '+' for positive numbers, '-' is default for negative\n",
    "    current_yticks = plt.yticks()[0]\n",
    "\n",
    "    # Set y-tick labels with '+' for positive, '-' is default for negative\n",
    "    plt.yticks(current_yticks, [f'+{int(tick)}' if tick > 0 else f'{int(tick)}' for tick in current_yticks])\n",
    "    sns.despine()\n",
    "    #plt.savefig(titles[i] + \"_GAM.svg\", transparent = True)\n",
    "    plt.show()"
   ]
  },
  {
   "cell_type": "code",
   "execution_count": null,
   "metadata": {},
   "outputs": [],
   "source": []
  }
 ],
 "metadata": {
  "kernelspec": {
   "display_name": "pyGAM_env",
   "language": "python",
   "name": "python3"
  },
  "language_info": {
   "codemirror_mode": {
    "name": "ipython",
    "version": 3
   },
   "file_extension": ".py",
   "mimetype": "text/x-python",
   "name": "python",
   "nbconvert_exporter": "python",
   "pygments_lexer": "ipython3",
   "version": "3.6.15"
  }
 },
 "nbformat": 4,
 "nbformat_minor": 2
}
