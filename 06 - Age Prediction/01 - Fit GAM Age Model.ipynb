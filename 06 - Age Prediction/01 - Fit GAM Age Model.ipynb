{
 "cells": [
  {
   "cell_type": "markdown",
   "metadata": {},
   "source": [
    "## 01 - Fit GAM Model for Age"
   ]
  },
  {
   "cell_type": "markdown",
   "metadata": {},
   "source": [
    "## Imports"
   ]
  },
  {
   "cell_type": "code",
   "execution_count": 60,
   "metadata": {},
   "outputs": [],
   "source": [
    "import pandas as pd\n",
    "import numpy as np \n",
    "import seaborn as sns\n",
    "import matplotlib.pyplot as plt"
   ]
  },
  {
   "cell_type": "code",
   "execution_count": 61,
   "metadata": {},
   "outputs": [],
   "source": [
    "from sklearn.feature_selection import SelectKBest, mutual_info_regression\n",
    "from sklearn.metrics import mean_squared_error\n",
    "from sklearn.metrics import r2_score\n",
    "from pygam import LinearGAM, s, f\n",
    "from sklearn.model_selection import LeaveOneGroupOut"
   ]
  },
  {
   "cell_type": "markdown",
   "metadata": {},
   "source": [
    "## Prepare Dataset"
   ]
  },
  {
   "cell_type": "code",
   "execution_count": 62,
   "metadata": {},
   "outputs": [],
   "source": [
    "path_to_feats = 'C:\\\\Grad_School\\\\Code_and_software\\\\Py_code\\\\All_features_2023\\\\All_features_2023\\\\Juvenile_bird_analysis\\\\'"
   ]
  },
  {
   "cell_type": "markdown",
   "metadata": {},
   "source": [
    "### Load Duke Data"
   ]
  },
  {
   "cell_type": "code",
   "execution_count": 63,
   "metadata": {},
   "outputs": [],
   "source": [
    "all_feats = pd.read_csv(path_to_feats + \"Duke_all_features_morning.csv\").drop(columns= 'Unnamed: 0')"
   ]
  },
  {
   "cell_type": "markdown",
   "metadata": {},
   "source": [
    "### Load UTSW Data"
   ]
  },
  {
   "cell_type": "code",
   "execution_count": 64,
   "metadata": {},
   "outputs": [],
   "source": [
    "all_feats_utsw = pd.read_csv( path_to_feats + \"utsw_all_features_morning.csv\").drop(columns= 'Unnamed: 0')"
   ]
  },
  {
   "cell_type": "markdown",
   "metadata": {},
   "source": [
    "### Load extra FP1 birds"
   ]
  },
  {
   "cell_type": "code",
   "execution_count": 65,
   "metadata": {},
   "outputs": [],
   "source": [
    "acoustics = pd.read_csv('C:\\\\Grad_School\\\\Code_and_software\\\\Py_code\\\\All_features_2023\\\\All_features_2023\\\\Juvenile_bird_analysis\\\\FP1_normal_morning_only\\\\morning_Juvenile_acoustic_features.csv').drop(columns = 'Unnamed: 0')\n",
    "syntax = pd.read_csv(\"C:\\\\Grad_School\\\\Code_and_software\\\\Py_code\\\\All_features_2023\\\\All_features_2023\\\\Juvenile_bird_analysis\\\\FP1_normal_morning_only\\\\morning_syntax_features_whisper_UMAP.csv\").drop(columns = 'Unnamed: 0')\n",
    "rhythm_spectrum_feats = pd.read_csv(\"C:\\\\Grad_School\\\\Code_and_software\\\\Py_code\\\\All_features_2023\\\\All_features_2023\\\\Juvenile_bird_analysis\\\\FP1_normal_morning_only\\\\morning_rhythm_spectrum_features.csv\").drop(columns = 'Unnamed: 0')\n",
    "timing_seg_feats = pd.read_csv(\"C:\\\\Grad_School\\\\Code_and_software\\\\Py_code\\\\All_features_2023\\\\All_features_2023\\\\Juvenile_bird_analysis\\\\FP1_normal_morning_only\\\\morning_syllable_and_gap_duration_entropies.csv\").drop(columns = 'Unnamed: 0')\n",
    "\n"
   ]
  },
  {
   "cell_type": "code",
   "execution_count": 66,
   "metadata": {},
   "outputs": [],
   "source": [
    "all_feats_new = pd.merge(acoustics, syntax, on =[\"Bird_ID\", 'age'])\n",
    "all_feats_new = pd.merge(all_feats_new, rhythm_spectrum_feats, on = [\"Bird_ID\", 'age'])\n",
    "all_feats_new = pd.merge(all_feats_new, timing_seg_feats, on = [\"Bird_ID\", 'age'])\n",
    "all_feats_new['colony'] = 'fp1'"
   ]
  },
  {
   "cell_type": "code",
   "execution_count": 67,
   "metadata": {},
   "outputs": [],
   "source": [
    "all_feats = pd.concat([all_feats, all_feats_utsw, all_feats_new])"
   ]
  },
  {
   "cell_type": "code",
   "execution_count": 68,
   "metadata": {},
   "outputs": [],
   "source": [
    "all_feats = all_feats[~all_feats.Bird_ID.isin(['S833', 'Y856', 'O833', 'notag833'])]"
   ]
  },
  {
   "cell_type": "code",
   "execution_count": 69,
   "metadata": {},
   "outputs": [
    {
     "data": {
      "text/html": [
       "<div>\n",
       "<style scoped>\n",
       "    .dataframe tbody tr th:only-of-type {\n",
       "        vertical-align: middle;\n",
       "    }\n",
       "\n",
       "    .dataframe tbody tr th {\n",
       "        vertical-align: top;\n",
       "    }\n",
       "\n",
       "    .dataframe thead th {\n",
       "        text-align: right;\n",
       "    }\n",
       "</style>\n",
       "<table border=\"1\" class=\"dataframe\">\n",
       "  <thead>\n",
       "    <tr style=\"text-align: right;\">\n",
       "      <th></th>\n",
       "      <th>Goodness_mean_median</th>\n",
       "      <th>Goodness_mean_min</th>\n",
       "      <th>Goodness_mean_max</th>\n",
       "      <th>Mean_frequency_mean_median</th>\n",
       "      <th>Mean_frequency_mean_min</th>\n",
       "      <th>Mean_frequency_mean_max</th>\n",
       "      <th>Entropy_mean_median</th>\n",
       "      <th>Entropy_mean_min</th>\n",
       "      <th>Entropy_mean_max</th>\n",
       "      <th>Amplitude_mean_median</th>\n",
       "      <th>...</th>\n",
       "      <th>entropy_rate</th>\n",
       "      <th>entropy_rate_norm</th>\n",
       "      <th>num_syllables</th>\n",
       "      <th>mean_repetition_length</th>\n",
       "      <th>CV_repetition_length</th>\n",
       "      <th>entropy</th>\n",
       "      <th>CV_peak_rhythm_spectrum_frequency</th>\n",
       "      <th>syllable_duration_entropy</th>\n",
       "      <th>gap_duration_entropy</th>\n",
       "      <th>colony</th>\n",
       "    </tr>\n",
       "  </thead>\n",
       "  <tbody>\n",
       "    <tr>\n",
       "      <th>0</th>\n",
       "      <td>0.172179</td>\n",
       "      <td>0.158379</td>\n",
       "      <td>0.212550</td>\n",
       "      <td>3012.855881</td>\n",
       "      <td>1946.598471</td>\n",
       "      <td>3395.702464</td>\n",
       "      <td>-2.095430</td>\n",
       "      <td>-2.361755</td>\n",
       "      <td>-1.726711</td>\n",
       "      <td>79.752925</td>\n",
       "      <td>...</td>\n",
       "      <td>2.114136</td>\n",
       "      <td>0.753070</td>\n",
       "      <td>6</td>\n",
       "      <td>1.419854</td>\n",
       "      <td>0.531558</td>\n",
       "      <td>-0.153195</td>\n",
       "      <td>12.941768</td>\n",
       "      <td>0.750091</td>\n",
       "      <td>0.753782</td>\n",
       "      <td>duke</td>\n",
       "    </tr>\n",
       "    <tr>\n",
       "      <th>1</th>\n",
       "      <td>0.167118</td>\n",
       "      <td>0.146229</td>\n",
       "      <td>0.319930</td>\n",
       "      <td>3054.320470</td>\n",
       "      <td>2502.096118</td>\n",
       "      <td>3917.514683</td>\n",
       "      <td>-2.401353</td>\n",
       "      <td>-2.945930</td>\n",
       "      <td>-1.702948</td>\n",
       "      <td>81.314262</td>\n",
       "      <td>...</td>\n",
       "      <td>1.474414</td>\n",
       "      <td>0.443843</td>\n",
       "      <td>9</td>\n",
       "      <td>1.136691</td>\n",
       "      <td>0.302211</td>\n",
       "      <td>-0.157250</td>\n",
       "      <td>11.456134</td>\n",
       "      <td>0.695547</td>\n",
       "      <td>0.687156</td>\n",
       "      <td>duke</td>\n",
       "    </tr>\n",
       "    <tr>\n",
       "      <th>2</th>\n",
       "      <td>0.170937</td>\n",
       "      <td>0.155001</td>\n",
       "      <td>0.375353</td>\n",
       "      <td>3256.761069</td>\n",
       "      <td>2438.043051</td>\n",
       "      <td>3734.626728</td>\n",
       "      <td>-2.150781</td>\n",
       "      <td>-2.790517</td>\n",
       "      <td>-1.603982</td>\n",
       "      <td>80.121236</td>\n",
       "      <td>...</td>\n",
       "      <td>1.354237</td>\n",
       "      <td>0.377755</td>\n",
       "      <td>11</td>\n",
       "      <td>1.746479</td>\n",
       "      <td>0.396831</td>\n",
       "      <td>-0.158022</td>\n",
       "      <td>13.630966</td>\n",
       "      <td>0.688570</td>\n",
       "      <td>0.697006</td>\n",
       "      <td>duke</td>\n",
       "    </tr>\n",
       "  </tbody>\n",
       "</table>\n",
       "<p>3 rows × 60 columns</p>\n",
       "</div>"
      ],
      "text/plain": [
       "   Goodness_mean_median  Goodness_mean_min  Goodness_mean_max  \\\n",
       "0              0.172179           0.158379           0.212550   \n",
       "1              0.167118           0.146229           0.319930   \n",
       "2              0.170937           0.155001           0.375353   \n",
       "\n",
       "   Mean_frequency_mean_median  Mean_frequency_mean_min  \\\n",
       "0                 3012.855881              1946.598471   \n",
       "1                 3054.320470              2502.096118   \n",
       "2                 3256.761069              2438.043051   \n",
       "\n",
       "   Mean_frequency_mean_max  Entropy_mean_median  Entropy_mean_min  \\\n",
       "0              3395.702464            -2.095430         -2.361755   \n",
       "1              3917.514683            -2.401353         -2.945930   \n",
       "2              3734.626728            -2.150781         -2.790517   \n",
       "\n",
       "   Entropy_mean_max  Amplitude_mean_median  ...  entropy_rate  \\\n",
       "0         -1.726711              79.752925  ...      2.114136   \n",
       "1         -1.702948              81.314262  ...      1.474414   \n",
       "2         -1.603982              80.121236  ...      1.354237   \n",
       "\n",
       "   entropy_rate_norm  num_syllables  mean_repetition_length  \\\n",
       "0           0.753070              6                1.419854   \n",
       "1           0.443843              9                1.136691   \n",
       "2           0.377755             11                1.746479   \n",
       "\n",
       "   CV_repetition_length   entropy  CV_peak_rhythm_spectrum_frequency  \\\n",
       "0              0.531558 -0.153195                          12.941768   \n",
       "1              0.302211 -0.157250                          11.456134   \n",
       "2              0.396831 -0.158022                          13.630966   \n",
       "\n",
       "   syllable_duration_entropy  gap_duration_entropy  colony  \n",
       "0                   0.750091              0.753782    duke  \n",
       "1                   0.695547              0.687156    duke  \n",
       "2                   0.688570              0.697006    duke  \n",
       "\n",
       "[3 rows x 60 columns]"
      ]
     },
     "execution_count": 69,
     "metadata": {},
     "output_type": "execute_result"
    }
   ],
   "source": [
    "all_feats.head(3)"
   ]
  },
  {
   "cell_type": "markdown",
   "metadata": {},
   "source": [
    "### Drop Amplitude Features"
   ]
  },
  {
   "cell_type": "code",
   "execution_count": 70,
   "metadata": {},
   "outputs": [],
   "source": [
    "amplitude_features = all_feats.columns[['Amplitude' in x for x in all_feats.columns.tolist()]]\n",
    "\n",
    "all_feats = all_feats.drop(columns= amplitude_features)"
   ]
  },
  {
   "cell_type": "markdown",
   "metadata": {},
   "source": [
    "### Normalize Feature Set"
   ]
  },
  {
   "cell_type": "code",
   "execution_count": 71,
   "metadata": {},
   "outputs": [],
   "source": [
    "full_feats_only = np.array(all_feats.drop(columns = ['Bird_ID', 'age', 'entropy_rate', 'colony', 'num_syllables']))"
   ]
  },
  {
   "cell_type": "code",
   "execution_count": 72,
   "metadata": {},
   "outputs": [
    {
     "data": {
      "text/plain": [
       "(43, 43)"
      ]
     },
     "execution_count": 72,
     "metadata": {},
     "output_type": "execute_result"
    }
   ],
   "source": [
    "full_feats_only.shape"
   ]
  },
  {
   "cell_type": "code",
   "execution_count": 73,
   "metadata": {},
   "outputs": [],
   "source": [
    "from sklearn.preprocessing import StandardScaler\n",
    "\n",
    "scaler = StandardScaler()\n",
    "full_feats_only_norm = scaler.fit_transform(full_feats_only)\n",
    "y = all_feats.age\n"
   ]
  },
  {
   "cell_type": "code",
   "execution_count": 74,
   "metadata": {},
   "outputs": [],
   "source": [
    "y = np.array(y).flatten()"
   ]
  },
  {
   "cell_type": "markdown",
   "metadata": {},
   "source": [
    "## Selecting Features with Mutual Information"
   ]
  },
  {
   "cell_type": "code",
   "execution_count": 75,
   "metadata": {},
   "outputs": [
    {
     "data": {
      "text/html": [
       "<div>\n",
       "<style scoped>\n",
       "    .dataframe tbody tr th:only-of-type {\n",
       "        vertical-align: middle;\n",
       "    }\n",
       "\n",
       "    .dataframe tbody tr th {\n",
       "        vertical-align: top;\n",
       "    }\n",
       "\n",
       "    .dataframe thead th {\n",
       "        text-align: right;\n",
       "    }\n",
       "</style>\n",
       "<table border=\"1\" class=\"dataframe\">\n",
       "  <thead>\n",
       "    <tr style=\"text-align: right;\">\n",
       "      <th></th>\n",
       "      <th>score</th>\n",
       "      <th>feature</th>\n",
       "    </tr>\n",
       "  </thead>\n",
       "  <tbody>\n",
       "    <tr>\n",
       "      <th>33</th>\n",
       "      <td>0.696542</td>\n",
       "      <td>duration_CV_median</td>\n",
       "    </tr>\n",
       "    <tr>\n",
       "      <th>26</th>\n",
       "      <td>0.614568</td>\n",
       "      <td>Entropy_CV_max</td>\n",
       "    </tr>\n",
       "    <tr>\n",
       "      <th>34</th>\n",
       "      <td>0.580918</td>\n",
       "      <td>duration_CV_min</td>\n",
       "    </tr>\n",
       "    <tr>\n",
       "      <th>41</th>\n",
       "      <td>0.497359</td>\n",
       "      <td>syllable_duration_entropy</td>\n",
       "    </tr>\n",
       "    <tr>\n",
       "      <th>15</th>\n",
       "      <td>0.447495</td>\n",
       "      <td>duration_mean_median</td>\n",
       "    </tr>\n",
       "    <tr>\n",
       "      <th>36</th>\n",
       "      <td>0.410846</td>\n",
       "      <td>entropy_rate_norm</td>\n",
       "    </tr>\n",
       "    <tr>\n",
       "      <th>22</th>\n",
       "      <td>0.401133</td>\n",
       "      <td>Mean_frequency_CV_min</td>\n",
       "    </tr>\n",
       "    <tr>\n",
       "      <th>42</th>\n",
       "      <td>0.351819</td>\n",
       "      <td>gap_duration_entropy</td>\n",
       "    </tr>\n",
       "    <tr>\n",
       "      <th>18</th>\n",
       "      <td>0.298546</td>\n",
       "      <td>Goodness_CV_median</td>\n",
       "    </tr>\n",
       "    <tr>\n",
       "      <th>24</th>\n",
       "      <td>0.298250</td>\n",
       "      <td>Entropy_CV_median</td>\n",
       "    </tr>\n",
       "    <tr>\n",
       "      <th>21</th>\n",
       "      <td>0.294222</td>\n",
       "      <td>Mean_frequency_CV_median</td>\n",
       "    </tr>\n",
       "    <tr>\n",
       "      <th>19</th>\n",
       "      <td>0.285404</td>\n",
       "      <td>Goodness_CV_min</td>\n",
       "    </tr>\n",
       "    <tr>\n",
       "      <th>2</th>\n",
       "      <td>0.204455</td>\n",
       "      <td>Goodness_mean_max</td>\n",
       "    </tr>\n",
       "    <tr>\n",
       "      <th>35</th>\n",
       "      <td>0.199723</td>\n",
       "      <td>duration_CV_max</td>\n",
       "    </tr>\n",
       "    <tr>\n",
       "      <th>23</th>\n",
       "      <td>0.155864</td>\n",
       "      <td>Mean_frequency_CV_max</td>\n",
       "    </tr>\n",
       "    <tr>\n",
       "      <th>16</th>\n",
       "      <td>0.146007</td>\n",
       "      <td>duration_mean_min</td>\n",
       "    </tr>\n",
       "    <tr>\n",
       "      <th>12</th>\n",
       "      <td>0.138900</td>\n",
       "      <td>Pitch_mean_median</td>\n",
       "    </tr>\n",
       "    <tr>\n",
       "      <th>9</th>\n",
       "      <td>0.115478</td>\n",
       "      <td>Frequency_modulation_mean_median</td>\n",
       "    </tr>\n",
       "    <tr>\n",
       "      <th>7</th>\n",
       "      <td>0.097785</td>\n",
       "      <td>Entropy_mean_min</td>\n",
       "    </tr>\n",
       "    <tr>\n",
       "      <th>1</th>\n",
       "      <td>0.095796</td>\n",
       "      <td>Goodness_mean_min</td>\n",
       "    </tr>\n",
       "    <tr>\n",
       "      <th>10</th>\n",
       "      <td>0.092829</td>\n",
       "      <td>Frequency_modulation_mean_min</td>\n",
       "    </tr>\n",
       "    <tr>\n",
       "      <th>39</th>\n",
       "      <td>0.088254</td>\n",
       "      <td>entropy</td>\n",
       "    </tr>\n",
       "    <tr>\n",
       "      <th>29</th>\n",
       "      <td>0.087429</td>\n",
       "      <td>Frequency_modulation_CV_max</td>\n",
       "    </tr>\n",
       "    <tr>\n",
       "      <th>17</th>\n",
       "      <td>0.072290</td>\n",
       "      <td>duration_mean_max</td>\n",
       "    </tr>\n",
       "    <tr>\n",
       "      <th>13</th>\n",
       "      <td>0.036529</td>\n",
       "      <td>Pitch_mean_min</td>\n",
       "    </tr>\n",
       "    <tr>\n",
       "      <th>20</th>\n",
       "      <td>0.033314</td>\n",
       "      <td>Goodness_CV_max</td>\n",
       "    </tr>\n",
       "    <tr>\n",
       "      <th>25</th>\n",
       "      <td>0.033312</td>\n",
       "      <td>Entropy_CV_min</td>\n",
       "    </tr>\n",
       "    <tr>\n",
       "      <th>14</th>\n",
       "      <td>0.031833</td>\n",
       "      <td>Pitch_mean_max</td>\n",
       "    </tr>\n",
       "    <tr>\n",
       "      <th>31</th>\n",
       "      <td>0.030900</td>\n",
       "      <td>Pitch_CV_min</td>\n",
       "    </tr>\n",
       "    <tr>\n",
       "      <th>28</th>\n",
       "      <td>0.028984</td>\n",
       "      <td>Frequency_modulation_CV_min</td>\n",
       "    </tr>\n",
       "    <tr>\n",
       "      <th>0</th>\n",
       "      <td>0.019236</td>\n",
       "      <td>Goodness_mean_median</td>\n",
       "    </tr>\n",
       "    <tr>\n",
       "      <th>27</th>\n",
       "      <td>0.017939</td>\n",
       "      <td>Frequency_modulation_CV_median</td>\n",
       "    </tr>\n",
       "    <tr>\n",
       "      <th>32</th>\n",
       "      <td>0.000000</td>\n",
       "      <td>Pitch_CV_max</td>\n",
       "    </tr>\n",
       "    <tr>\n",
       "      <th>5</th>\n",
       "      <td>0.000000</td>\n",
       "      <td>Mean_frequency_mean_max</td>\n",
       "    </tr>\n",
       "    <tr>\n",
       "      <th>4</th>\n",
       "      <td>0.000000</td>\n",
       "      <td>Mean_frequency_mean_min</td>\n",
       "    </tr>\n",
       "    <tr>\n",
       "      <th>30</th>\n",
       "      <td>0.000000</td>\n",
       "      <td>Pitch_CV_median</td>\n",
       "    </tr>\n",
       "    <tr>\n",
       "      <th>3</th>\n",
       "      <td>0.000000</td>\n",
       "      <td>Mean_frequency_mean_median</td>\n",
       "    </tr>\n",
       "    <tr>\n",
       "      <th>37</th>\n",
       "      <td>0.000000</td>\n",
       "      <td>mean_repetition_length</td>\n",
       "    </tr>\n",
       "    <tr>\n",
       "      <th>38</th>\n",
       "      <td>0.000000</td>\n",
       "      <td>CV_repetition_length</td>\n",
       "    </tr>\n",
       "    <tr>\n",
       "      <th>6</th>\n",
       "      <td>0.000000</td>\n",
       "      <td>Entropy_mean_median</td>\n",
       "    </tr>\n",
       "    <tr>\n",
       "      <th>40</th>\n",
       "      <td>0.000000</td>\n",
       "      <td>CV_peak_rhythm_spectrum_frequency</td>\n",
       "    </tr>\n",
       "    <tr>\n",
       "      <th>8</th>\n",
       "      <td>0.000000</td>\n",
       "      <td>Entropy_mean_max</td>\n",
       "    </tr>\n",
       "    <tr>\n",
       "      <th>11</th>\n",
       "      <td>0.000000</td>\n",
       "      <td>Frequency_modulation_mean_max</td>\n",
       "    </tr>\n",
       "  </tbody>\n",
       "</table>\n",
       "</div>"
      ],
      "text/plain": [
       "       score                            feature\n",
       "33  0.696542                 duration_CV_median\n",
       "26  0.614568                     Entropy_CV_max\n",
       "34  0.580918                    duration_CV_min\n",
       "41  0.497359          syllable_duration_entropy\n",
       "15  0.447495               duration_mean_median\n",
       "36  0.410846                  entropy_rate_norm\n",
       "22  0.401133              Mean_frequency_CV_min\n",
       "42  0.351819               gap_duration_entropy\n",
       "18  0.298546                 Goodness_CV_median\n",
       "24  0.298250                  Entropy_CV_median\n",
       "21  0.294222           Mean_frequency_CV_median\n",
       "19  0.285404                    Goodness_CV_min\n",
       "2   0.204455                  Goodness_mean_max\n",
       "35  0.199723                    duration_CV_max\n",
       "23  0.155864              Mean_frequency_CV_max\n",
       "16  0.146007                  duration_mean_min\n",
       "12  0.138900                  Pitch_mean_median\n",
       "9   0.115478   Frequency_modulation_mean_median\n",
       "7   0.097785                   Entropy_mean_min\n",
       "1   0.095796                  Goodness_mean_min\n",
       "10  0.092829      Frequency_modulation_mean_min\n",
       "39  0.088254                            entropy\n",
       "29  0.087429        Frequency_modulation_CV_max\n",
       "17  0.072290                  duration_mean_max\n",
       "13  0.036529                     Pitch_mean_min\n",
       "20  0.033314                    Goodness_CV_max\n",
       "25  0.033312                     Entropy_CV_min\n",
       "14  0.031833                     Pitch_mean_max\n",
       "31  0.030900                       Pitch_CV_min\n",
       "28  0.028984        Frequency_modulation_CV_min\n",
       "0   0.019236               Goodness_mean_median\n",
       "27  0.017939     Frequency_modulation_CV_median\n",
       "32  0.000000                       Pitch_CV_max\n",
       "5   0.000000            Mean_frequency_mean_max\n",
       "4   0.000000            Mean_frequency_mean_min\n",
       "30  0.000000                    Pitch_CV_median\n",
       "3   0.000000         Mean_frequency_mean_median\n",
       "37  0.000000             mean_repetition_length\n",
       "38  0.000000               CV_repetition_length\n",
       "6   0.000000                Entropy_mean_median\n",
       "40  0.000000  CV_peak_rhythm_spectrum_frequency\n",
       "8   0.000000                   Entropy_mean_max\n",
       "11  0.000000      Frequency_modulation_mean_max"
      ]
     },
     "execution_count": 75,
     "metadata": {},
     "output_type": "execute_result"
    }
   ],
   "source": [
    "mutual_inf_score = mutual_info_regression(full_feats_only_norm, y)\n",
    "mi_df = pd.DataFrame({'score': mutual_inf_score, \n",
    "              'feature' : all_feats.drop(columns = ['Bird_ID', 'age', 'entropy_rate', 'colony', 'num_syllables']).columns})\n",
    "mi_df.sort_values('score', ascending=False)"
   ]
  },
  {
   "cell_type": "code",
   "execution_count": 76,
   "metadata": {},
   "outputs": [
    {
     "name": "stdout",
     "output_type": "stream",
     "text": [
      "24\n"
     ]
    }
   ],
   "source": [
    "mi_df = mi_df[mi_df.score > 0.05]\n",
    "print(len(mi_df))\n",
    "\n",
    "feature_indices = mi_df.index.values"
   ]
  },
  {
   "cell_type": "markdown",
   "metadata": {},
   "source": [
    "If we set a cutoff of 0.05 for mutual information, we narrow down this feature set from 44 features to 24 features. Now, among these 24 features, which combination gives us the best age prediction results?"
   ]
  },
  {
   "cell_type": "markdown",
   "metadata": {},
   "source": [
    "## Forward Feature Selection"
   ]
  },
  {
   "cell_type": "code",
   "execution_count": 77,
   "metadata": {},
   "outputs": [
    {
     "data": {
      "text/plain": [
       "array(['grn394', 'grn394', 'grn394', 'grn395', 'grn395', 'grn395',\n",
       "       'grn475', 'grn475', 'grn397', 'grn397', 'sil469', 'sil469',\n",
       "       'grn394', 'grn395', 'grn397', 'grn475', 'sil469', 'grn394',\n",
       "       'grn475', 'grn397', 'sil469', 'grn395', 'S855', 'S855', 'S855',\n",
       "       'S855', 'S855', 'Y855', 'Y855', 'Y855', 'Y855', 'Y855', 'Y855',\n",
       "       'S856', 'S856', 'S856', 'S856', 'S856', 'S856', 'O434', 'O440',\n",
       "       'R425', 'R469'], dtype=object)"
      ]
     },
     "execution_count": 77,
     "metadata": {},
     "output_type": "execute_result"
    }
   ],
   "source": [
    "groups = all_feats.Bird_ID\n",
    "groups = groups.reset_index().drop(columns = 'index')\n",
    "groups.values.flatten()"
   ]
  },
  {
   "cell_type": "code",
   "execution_count": 80,
   "metadata": {},
   "outputs": [
    {
     "name": "stdout",
     "output_type": "stream",
     "text": [
      "Selected feature 41 with score 101.36566959534169\n",
      "Selected feature 36 with score 92.96485840509465\n",
      "Selected feature 19 with score 86.9160621652485\n",
      "Selected feature 33 with score 93.74331606358272\n",
      "Selected feature 16 with score 87.85738058038832\n",
      "Selected feature 24 with score 76.29152939271998\n",
      "Selected feature 34 with score 74.76483831036948\n",
      "Selected feature 22 with score 75.28366006867242\n",
      "Selected feature 18 with score 76.83576831716299\n",
      "Selected feature 15 with score 80.28264448182053\n",
      "Selected feature 29 with score 82.37114424371258\n",
      "Selected feature 7 with score 86.14922254742274\n",
      "Selected feature 26 with score 91.77539970773546\n",
      "Selected feature 35 with score 97.6855810576588\n",
      "Selected feature 10 with score 103.0513643048036\n",
      "Selected feature 39 with score 110.04506241270661\n",
      "Selected feature 17 with score 116.93944641607163\n",
      "Selected feature 1 with score 123.982265948319\n",
      "Selected feature 21 with score 132.0435747873107\n",
      "Selected feature 23 with score 140.5104078839885\n",
      "Selected feature 9 with score 149.3968771901471\n",
      "Selected feature 42 with score 158.18508787638797\n",
      "Selected feature 2 with score 165.96624906928997\n",
      "Selected feature 12 with score 174.44539251309277\n"
     ]
    }
   ],
   "source": [
    "n_features = len(feature_indices)\n",
    "selected_features = []\n",
    "remaining_features = feature_indices\n",
    "best_scores = []\n",
    "\n",
    "#create bird-fold cross validation object\n",
    "logo = LeaveOneGroupOut()\n",
    "\n",
    "while len(remaining_features) > 0:\n",
    "    scores_per_feature = []\n",
    "\n",
    "    for feature in remaining_features:\n",
    "        current_features = selected_features + [feature]\n",
    "\n",
    "        #create terms for model\n",
    "        terms = [s(i) for i in current_features]\n",
    "        all_terms = terms[0]\n",
    "        for term in terms[1:]:\n",
    "            all_terms = all_terms + term\n",
    "\n",
    "        #loop over splits\n",
    "        splits = logo.split(full_feats_only_norm, groups = all_feats.Bird_ID)\n",
    "\n",
    "        #initialize empty arrays to store predictions\n",
    "        y_preds = np.array([])\n",
    "        y_tests = np.array([])\n",
    "        Bird_IDs = np.array([])\n",
    "        #train and predict for each split in cross validation object\n",
    "        for train_index, test_index in splits:\n",
    "            #print(groups.iloc[test_index].values[0])\n",
    "\n",
    "            X_train, X_test = full_feats_only_norm[(train_index)], full_feats_only_norm[(test_index)]\n",
    "            y_train, y_test = y[(train_index)], y[(test_index)]\n",
    "\n",
    "            gam = LinearGAM(all_terms)\n",
    "\n",
    "            gam.fit(X_train, y_train)\n",
    "            y_pred = gam.predict(X_test)\n",
    "            \n",
    "            y_preds = np.concatenate([y_preds, y_pred])\n",
    "            y_tests = np.concatenate([y_tests, y_test])\n",
    "            Bird_IDs = np.concatenate([Bird_IDs, groups.iloc[test_index].values.flatten()])\n",
    "            \n",
    "        #calculate MSE \n",
    "        MSE = np.array([mean_squared_error(y_tests, y_preds)])\n",
    "        scores_per_feature.append(np.mean(MSE))\n",
    "\n",
    "    #find best feature of this round\n",
    "    best_feature_idx = np.argmin(scores_per_feature)\n",
    "    best_feature = remaining_features[best_feature_idx]\n",
    "    best_scores.append(scores_per_feature[best_feature_idx])\n",
    "\n",
    "    #update list of selected and remaining features\n",
    "    selected_features.append(best_feature)\n",
    "    remaining_features = np.delete(remaining_features, np.where(remaining_features == best_feature))\n",
    "\n",
    "    print(f\"Selected feature {best_feature} with score {scores_per_feature[best_feature_idx]}\")\n",
    "\n",
    "    \n"
   ]
  },
  {
   "cell_type": "code",
   "execution_count": 30,
   "metadata": {},
   "outputs": [
    {
     "data": {
      "text/plain": [
       "7"
      ]
     },
     "execution_count": 30,
     "metadata": {},
     "output_type": "execute_result"
    }
   ],
   "source": [
    "best_n_feats = np.argmin(best_scores) + 1\n",
    "best_n_feats"
   ]
  },
  {
   "cell_type": "code",
   "execution_count": 31,
   "metadata": {},
   "outputs": [],
   "source": [
    "features_to_include = selected_features[:best_n_feats]"
   ]
  },
  {
   "cell_type": "code",
   "execution_count": 32,
   "metadata": {},
   "outputs": [
    {
     "data": {
      "text/plain": [
       "[41, 36, 19, 33, 16, 24, 34]"
      ]
     },
     "execution_count": 32,
     "metadata": {},
     "output_type": "execute_result"
    }
   ],
   "source": [
    "features_to_include"
   ]
  },
  {
   "cell_type": "code",
   "execution_count": 33,
   "metadata": {},
   "outputs": [
    {
     "data": {
      "text/html": [
       "<div>\n",
       "<style scoped>\n",
       "    .dataframe tbody tr th:only-of-type {\n",
       "        vertical-align: middle;\n",
       "    }\n",
       "\n",
       "    .dataframe tbody tr th {\n",
       "        vertical-align: top;\n",
       "    }\n",
       "\n",
       "    .dataframe thead th {\n",
       "        text-align: right;\n",
       "    }\n",
       "</style>\n",
       "<table border=\"1\" class=\"dataframe\">\n",
       "  <thead>\n",
       "    <tr style=\"text-align: right;\">\n",
       "      <th></th>\n",
       "      <th>score</th>\n",
       "      <th>feature</th>\n",
       "    </tr>\n",
       "  </thead>\n",
       "  <tbody>\n",
       "    <tr>\n",
       "      <th>16</th>\n",
       "      <td>0.137339</td>\n",
       "      <td>duration_mean_min</td>\n",
       "    </tr>\n",
       "    <tr>\n",
       "      <th>19</th>\n",
       "      <td>0.331587</td>\n",
       "      <td>Goodness_CV_min</td>\n",
       "    </tr>\n",
       "    <tr>\n",
       "      <th>24</th>\n",
       "      <td>0.326210</td>\n",
       "      <td>Entropy_CV_median</td>\n",
       "    </tr>\n",
       "    <tr>\n",
       "      <th>33</th>\n",
       "      <td>0.697307</td>\n",
       "      <td>duration_CV_median</td>\n",
       "    </tr>\n",
       "    <tr>\n",
       "      <th>34</th>\n",
       "      <td>0.593321</td>\n",
       "      <td>duration_CV_min</td>\n",
       "    </tr>\n",
       "    <tr>\n",
       "      <th>36</th>\n",
       "      <td>0.401300</td>\n",
       "      <td>entropy_rate_norm</td>\n",
       "    </tr>\n",
       "    <tr>\n",
       "      <th>41</th>\n",
       "      <td>0.550811</td>\n",
       "      <td>syllable_duration_entropy</td>\n",
       "    </tr>\n",
       "  </tbody>\n",
       "</table>\n",
       "</div>"
      ],
      "text/plain": [
       "       score                    feature\n",
       "16  0.137339          duration_mean_min\n",
       "19  0.331587            Goodness_CV_min\n",
       "24  0.326210          Entropy_CV_median\n",
       "33  0.697307         duration_CV_median\n",
       "34  0.593321            duration_CV_min\n",
       "36  0.401300          entropy_rate_norm\n",
       "41  0.550811  syllable_duration_entropy"
      ]
     },
     "execution_count": 33,
     "metadata": {},
     "output_type": "execute_result"
    }
   ],
   "source": [
    "mi_df.loc[mi_df.index.isin(features_to_include)]"
   ]
  }
 ],
 "metadata": {
  "kernelspec": {
   "display_name": "pyGAM_env",
   "language": "python",
   "name": "python3"
  },
  "language_info": {
   "codemirror_mode": {
    "name": "ipython",
    "version": 3
   },
   "file_extension": ".py",
   "mimetype": "text/x-python",
   "name": "python",
   "nbconvert_exporter": "python",
   "pygments_lexer": "ipython3",
   "version": "3.6.13"
  }
 },
 "nbformat": 4,
 "nbformat_minor": 2
}
