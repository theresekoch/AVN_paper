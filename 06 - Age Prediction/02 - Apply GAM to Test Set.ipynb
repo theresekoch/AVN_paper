{
 "cells": [
  {
   "cell_type": "markdown",
   "metadata": {},
   "source": [
    "# 02 - Test GAM Model with Test Set"
   ]
  },
  {
   "cell_type": "markdown",
   "metadata": {},
   "source": [
    "In notebook 01, I found the set of features and lambda coefficients that yield the best age predictions, and got age predictions for birds in the validation set using bird-fold cross validation. Now I'm going to see how that model performs on a test dataset, which wasn't used for hyperparameter tuning. This will test the model's generalization. "
   ]
  },
  {
   "cell_type": "markdown",
   "metadata": {},
   "source": [
    "## Imports"
   ]
  },
  {
   "cell_type": "code",
   "execution_count": 1,
   "metadata": {},
   "outputs": [],
   "source": [
    "import pandas as pd\n",
    "import numpy as np \n",
    "import seaborn as sns\n",
    "import matplotlib.pyplot as plt"
   ]
  },
  {
   "cell_type": "code",
   "execution_count": 2,
   "metadata": {},
   "outputs": [],
   "source": [
    "from sklearn.feature_selection import SelectKBest, mutual_info_regression\n",
    "from sklearn.metrics import mean_squared_error\n",
    "from sklearn.metrics import r2_score\n",
    "from pygam import LinearGAM, s, f\n",
    "from sklearn.model_selection import LeaveOneGroupOut"
   ]
  },
  {
   "cell_type": "markdown",
   "metadata": {},
   "source": [
    "## Prepare Dataset"
   ]
  },
  {
   "cell_type": "code",
   "execution_count": 3,
   "metadata": {},
   "outputs": [],
   "source": [
    "path_to_feats = 'C:\\\\Grad_School\\\\Code_and_software\\\\Py_code\\\\All_features_2023\\\\All_features_2023\\\\Juvenile_bird_analysis\\\\'"
   ]
  },
  {
   "cell_type": "markdown",
   "metadata": {},
   "source": [
    "### Load Duke Data"
   ]
  },
  {
   "cell_type": "code",
   "execution_count": 4,
   "metadata": {},
   "outputs": [],
   "source": [
    "all_feats = pd.read_csv(path_to_feats + \"Duke_all_features_morning.csv\").drop(columns= 'Unnamed: 0')"
   ]
  },
  {
   "cell_type": "markdown",
   "metadata": {},
   "source": [
    "### Load UTSW Data"
   ]
  },
  {
   "cell_type": "code",
   "execution_count": 5,
   "metadata": {},
   "outputs": [],
   "source": [
    "all_feats_utsw = pd.read_csv( path_to_feats + \"utsw_all_features_morning.csv\").drop(columns= 'Unnamed: 0')"
   ]
  },
  {
   "cell_type": "markdown",
   "metadata": {},
   "source": [
    "### Load Extra UTSW Birds"
   ]
  },
  {
   "cell_type": "code",
   "execution_count": 6,
   "metadata": {},
   "outputs": [],
   "source": [
    "acoustics = pd.read_csv('C:\\\\Grad_School\\\\Code_and_software\\\\Py_code\\\\All_features_2023\\\\All_features_2023\\\\Juvenile_bird_analysis\\\\FP1_normal_morning_only\\\\morning_Juvenile_acoustic_features.csv').drop(columns = 'Unnamed: 0')\n",
    "syntax = pd.read_csv(\"C:\\\\Grad_School\\\\Code_and_software\\\\Py_code\\\\All_features_2023\\\\All_features_2023\\\\Juvenile_bird_analysis\\\\FP1_normal_morning_only\\\\morning_syntax_features_whisper_UMAP.csv\").drop(columns = 'Unnamed: 0')\n",
    "rhythm_spectrum_feats = pd.read_csv(\"C:\\\\Grad_School\\\\Code_and_software\\\\Py_code\\\\All_features_2023\\\\All_features_2023\\\\Juvenile_bird_analysis\\\\FP1_normal_morning_only\\\\morning_rhythm_spectrum_features.csv\").drop(columns = 'Unnamed: 0')\n",
    "timing_seg_feats = pd.read_csv(\"C:\\\\Grad_School\\\\Code_and_software\\\\Py_code\\\\All_features_2023\\\\All_features_2023\\\\Juvenile_bird_analysis\\\\FP1_normal_morning_only\\\\morning_syllable_and_gap_duration_entropies.csv\").drop(columns = 'Unnamed: 0')\n",
    "\n"
   ]
  },
  {
   "cell_type": "code",
   "execution_count": 7,
   "metadata": {},
   "outputs": [],
   "source": [
    "all_feats_new = pd.merge(acoustics, syntax, on =[\"Bird_ID\", 'age'])\n",
    "all_feats_new = pd.merge(all_feats_new, rhythm_spectrum_feats, on = [\"Bird_ID\", 'age'])\n",
    "all_feats_new = pd.merge(all_feats_new, timing_seg_feats, on = [\"Bird_ID\", 'age'])\n",
    "all_feats_new['colony'] = 'fp1'"
   ]
  },
  {
   "cell_type": "code",
   "execution_count": 8,
   "metadata": {},
   "outputs": [],
   "source": [
    "all_feats = pd.concat([all_feats, all_feats_utsw, all_feats_new])"
   ]
  },
  {
   "cell_type": "code",
   "execution_count": 9,
   "metadata": {},
   "outputs": [],
   "source": [
    "all_feats = all_feats[~all_feats.Bird_ID.isin(['S833', 'Y856', 'O833', 'notag833'])]"
   ]
  },
  {
   "cell_type": "markdown",
   "metadata": {},
   "source": [
    "### Load Test set group 1"
   ]
  },
  {
   "cell_type": "code",
   "execution_count": 10,
   "metadata": {},
   "outputs": [],
   "source": [
    "acoustics = pd.read_csv('C:\\\\Grad_School\\\\Code_and_software\\\\Py_code\\\\All_features_2023\\\\All_features_2023\\\\Juvenile_bird_analysis\\\\utsw_test_set_moring\\\\morning_Juvenile_acoustic_features.csv').drop(columns = 'Unnamed: 0')\n",
    "syntax = pd.read_csv(\"C:\\\\Grad_School\\\\Code_and_software\\\\Py_code\\\\All_features_2023\\\\All_features_2023\\\\Juvenile_bird_analysis\\\\utsw_test_set_moring\\\\morning_syntax_features_whisper_UMAP.csv\").drop(columns = 'Unnamed: 0')\n",
    "rhythm_spectrum_feats = pd.read_csv(\"C:\\\\Grad_School\\\\Code_and_software\\\\Py_code\\\\All_features_2023\\\\All_features_2023\\\\Juvenile_bird_analysis\\\\utsw_test_set_moring\\\\morning_rhythm_spectrum_features.csv\").drop(columns = 'Unnamed: 0')\n",
    "timing_seg_feats = pd.read_csv(\"C:\\\\Grad_School\\\\Code_and_software\\\\Py_code\\\\All_features_2023\\\\All_features_2023\\\\Juvenile_bird_analysis\\\\utsw_test_set_moring\\\\morning_syllable_and_gap_duration_entropies.csv\").drop(columns = 'Unnamed: 0')\n"
   ]
  },
  {
   "cell_type": "code",
   "execution_count": 11,
   "metadata": {},
   "outputs": [],
   "source": [
    "all_feats_new = pd.merge(acoustics, syntax, on =[\"Bird_ID\", 'age'])\n",
    "all_feats_new = pd.merge(all_feats_new, rhythm_spectrum_feats, on = [\"Bird_ID\", 'age'])\n",
    "all_feats_new = pd.merge(all_feats_new, timing_seg_feats, on = [\"Bird_ID\", 'age'])\n",
    "all_feats_new['colony'] = 'test'"
   ]
  },
  {
   "cell_type": "code",
   "execution_count": 12,
   "metadata": {},
   "outputs": [
    {
     "data": {
      "text/plain": [
       "(44, 60)"
      ]
     },
     "execution_count": 12,
     "metadata": {},
     "output_type": "execute_result"
    }
   ],
   "source": [
    "all_feats_new.shape"
   ]
  },
  {
   "cell_type": "code",
   "execution_count": 13,
   "metadata": {},
   "outputs": [],
   "source": [
    "all_feats = pd.concat([all_feats, all_feats_new])"
   ]
  },
  {
   "cell_type": "markdown",
   "metadata": {},
   "source": [
    "### Load Test set group 2"
   ]
  },
  {
   "cell_type": "code",
   "execution_count": 14,
   "metadata": {},
   "outputs": [],
   "source": [
    "acoustics = pd.read_csv('C:\\\\Grad_School\\\\Code_and_software\\\\Py_code\\\\All_features_2023\\\\All_features_2023\\\\Juvenile_bird_analysis\\\\utsw_birds_features\\\\morning_only\\\\test_morning_Juvenile_acoustic_features.csv').drop(columns = 'Unnamed: 0')\n",
    "syntax = pd.read_csv(\"C:\\\\Grad_School\\\\Code_and_software\\\\Py_code\\\\All_features_2023\\\\All_features_2023\\\\Juvenile_bird_analysis\\\\utsw_birds_features\\\\morning_only\\\\test_morning_syntax_features_whisper_UMAP.csv\").drop(columns = 'Unnamed: 0')\n",
    "rhythm_spectrum_feats = pd.read_csv(\"C:\\\\Grad_School\\\\Code_and_software\\\\Py_code\\\\All_features_2023\\\\All_features_2023\\\\Juvenile_bird_analysis\\\\utsw_birds_features\\\\morning_only\\\\test_morning_rhythm_spectrum_features.csv\").drop(columns = 'Unnamed: 0')\n",
    "timing_seg_feats = pd.read_csv(\"C:\\\\Grad_School\\\\Code_and_software\\\\Py_code\\\\All_features_2023\\\\All_features_2023\\\\Juvenile_bird_analysis\\\\utsw_birds_features\\\\morning_only\\\\test_morning_syllable_and_gap_duration_entropies.csv\").drop(columns = 'Unnamed: 0')\n",
    "\n"
   ]
  },
  {
   "cell_type": "code",
   "execution_count": 15,
   "metadata": {},
   "outputs": [],
   "source": [
    "all_feats_new = pd.merge(acoustics, syntax, on =[\"Bird_ID\", 'age'])\n",
    "all_feats_new = pd.merge(all_feats_new, rhythm_spectrum_feats, on = [\"Bird_ID\", 'age'])\n",
    "all_feats_new = pd.merge(all_feats_new, timing_seg_feats, on = [\"Bird_ID\", 'age'])\n",
    "all_feats_new['colony'] = 'test'"
   ]
  },
  {
   "cell_type": "code",
   "execution_count": 16,
   "metadata": {},
   "outputs": [
    {
     "data": {
      "text/plain": [
       "(16, 60)"
      ]
     },
     "execution_count": 16,
     "metadata": {},
     "output_type": "execute_result"
    }
   ],
   "source": [
    "all_feats_new.shape"
   ]
  },
  {
   "cell_type": "code",
   "execution_count": 17,
   "metadata": {},
   "outputs": [],
   "source": [
    "all_feats = pd.concat([all_feats, all_feats_new])"
   ]
  },
  {
   "cell_type": "code",
   "execution_count": 18,
   "metadata": {},
   "outputs": [
    {
     "data": {
      "text/plain": [
       "(103, 60)"
      ]
     },
     "execution_count": 18,
     "metadata": {},
     "output_type": "execute_result"
    }
   ],
   "source": [
    "all_feats.shape"
   ]
  },
  {
   "cell_type": "markdown",
   "metadata": {},
   "source": [
    "### Drop Amplitude Features"
   ]
  },
  {
   "cell_type": "code",
   "execution_count": 19,
   "metadata": {},
   "outputs": [],
   "source": [
    "amplitude_features = all_feats.columns[['Amplitude' in x for x in all_feats.columns.tolist()]]\n",
    "\n",
    "all_feats = all_feats.drop(columns= amplitude_features)"
   ]
  },
  {
   "cell_type": "markdown",
   "metadata": {},
   "source": [
    "### Normalize Feature Set"
   ]
  },
  {
   "cell_type": "code",
   "execution_count": 20,
   "metadata": {},
   "outputs": [],
   "source": [
    "full_feats_only = np.array(all_feats.drop(columns = ['Bird_ID', 'age', 'entropy_rate', 'colony', 'num_syllables']))"
   ]
  },
  {
   "cell_type": "code",
   "execution_count": 21,
   "metadata": {},
   "outputs": [],
   "source": [
    "from sklearn.preprocessing import StandardScaler\n",
    "\n",
    "scaler = StandardScaler()\n",
    "full_feats_only_norm = scaler.fit_transform(full_feats_only)\n",
    "y = all_feats.age\n"
   ]
  },
  {
   "cell_type": "code",
   "execution_count": 22,
   "metadata": {},
   "outputs": [],
   "source": [
    "y = np.array(y).flatten()"
   ]
  },
  {
   "cell_type": "markdown",
   "metadata": {},
   "source": [
    "## Bird-Fold Cross Validation"
   ]
  },
  {
   "cell_type": "code",
   "execution_count": 23,
   "metadata": {},
   "outputs": [
    {
     "data": {
      "text/plain": [
       "array(['grn394', 'grn394', 'grn394', 'grn395', 'grn395', 'grn395',\n",
       "       'grn475', 'grn475', 'grn397', 'grn397', 'sil469', 'sil469',\n",
       "       'grn394', 'grn395', 'grn397', 'grn475', 'sil469', 'grn394',\n",
       "       'grn475', 'grn397', 'sil469', 'grn395', 'S855', 'S855', 'S855',\n",
       "       'S855', 'S855', 'Y855', 'Y855', 'Y855', 'Y855', 'Y855', 'Y855',\n",
       "       'S856', 'S856', 'S856', 'S856', 'S856', 'S856', 'O434', 'O440',\n",
       "       'R425', 'R469', 'G266', 'G266', 'G266', 'G266', 'G266', 'G266',\n",
       "       'G266', 'G266', 'G266', 'G266', 'G266', 'G266', 'G266', 'G266',\n",
       "       'G266', 'G266', 'G266', 'G266', 'G266', 'G266', 'G266', 'G266',\n",
       "       'G266', 'R262', 'R262', 'R262', 'R262', 'R262', 'R262', 'R262',\n",
       "       'R262', 'R262', 'R262', 'R262', 'R262', 'R262', 'R262', 'R262',\n",
       "       'R262', 'R262', 'R262', 'R262', 'R262', 'S264', 'O883', 'O883',\n",
       "       'O883', 'O883', 'O883', 'O883', 'R883', 'R883', 'R883', 'R883',\n",
       "       'O472', 'O472', 'O472', 'O472', 'Y472', 'Y472'], dtype=object)"
      ]
     },
     "execution_count": 23,
     "metadata": {},
     "output_type": "execute_result"
    }
   ],
   "source": [
    "groups = all_feats.Bird_ID\n",
    "groups = groups.reset_index().drop(columns = 'index')\n",
    "groups.values.flatten()"
   ]
  },
  {
   "cell_type": "code",
   "execution_count": 24,
   "metadata": {},
   "outputs": [],
   "source": [
    "feature_list = all_feats.drop(columns = ['Bird_ID', 'age', 'entropy_rate', 'colony', 'num_syllables']).columns.to_list()"
   ]
  },
  {
   "cell_type": "code",
   "execution_count": 25,
   "metadata": {},
   "outputs": [],
   "source": [
    "#this is taken from notebook 1 where we did forward feature selection\n",
    "selected_feature_indices = [41, 36, 19, 33, 16, 24, 34]"
   ]
  },
  {
   "cell_type": "code",
   "execution_count": 26,
   "metadata": {},
   "outputs": [
    {
     "data": {
      "text/plain": [
       "['syllable_duration_entropy',\n",
       " 'entropy_rate_norm',\n",
       " 'Goodness_CV_min',\n",
       " 'duration_CV_median',\n",
       " 'duration_mean_min',\n",
       " 'Entropy_CV_median',\n",
       " 'duration_CV_min']"
      ]
     },
     "execution_count": 26,
     "metadata": {},
     "output_type": "execute_result"
    }
   ],
   "source": [
    "[feature_list[x] for x in selected_feature_indices]"
   ]
  },
  {
   "cell_type": "code",
   "execution_count": 27,
   "metadata": {},
   "outputs": [],
   "source": [
    "\n",
    "#set terms of the model based on selected features\n",
    "terms = s(selected_feature_indices[0], lam = 0.1) + s(selected_feature_indices[1], lam = 1.0) + \\\n",
    "        s(selected_feature_indices[2], lam = 0.1) + s(selected_feature_indices[3], lam = 10) + \\\n",
    "        s(selected_feature_indices[4], lam = 0.1) + s(selected_feature_indices[5], lam = 0.1) + \\\n",
    "        s(selected_feature_indices[6], lam = 1.0) \n",
    "\n",
    "#create bird-fold cross validation object\n",
    "logo = LeaveOneGroupOut()\n",
    "splits = logo.split(full_feats_only_norm, groups = all_feats.Bird_ID)\n",
    "\n",
    "#initialize empty arrays to store predictions\n",
    "y_preds = np.array([])\n",
    "y_tests = np.array([])\n",
    "Bird_IDs = np.array([])\n",
    "#train and predict for each split in cross validation object\n",
    "for train_index, test_index in splits:\n",
    "    #print(groups.iloc[test_index].values[0])\n",
    "\n",
    "    X_train, X_test = full_feats_only_norm[(train_index)], full_feats_only_norm[(test_index)]\n",
    "    y_train, y_test = y[(train_index)], y[(test_index)]\n",
    "\n",
    "    gam = LinearGAM(terms)\n",
    "\n",
    "    gam.fit(X_train, y_train)\n",
    "    y_pred = gam.predict(X_test)\n",
    "    \n",
    "    y_preds = np.concatenate([y_preds, y_pred])\n",
    "    y_tests = np.concatenate([y_tests, y_test])\n",
    "    Bird_IDs = np.concatenate([Bird_IDs, groups.iloc[test_index].values.flatten()])"
   ]
  },
  {
   "cell_type": "code",
   "execution_count": 28,
   "metadata": {},
   "outputs": [],
   "source": [
    "predictions_df = pd.DataFrame({\"True_age\" : y_tests, \n",
    "                               \"Predicted_age\" : y_preds, \n",
    "                               \"Bird_ID\" : Bird_IDs})"
   ]
  },
  {
   "cell_type": "code",
   "execution_count": 29,
   "metadata": {},
   "outputs": [],
   "source": [
    "all_bird_IDs = all_feats.Bird_ID.unique()\n",
    "corresponding_colonies = [all_feats[all_feats.Bird_ID == Bird_ID].colony.iloc[0] for Bird_ID in all_bird_IDs]\n",
    "\n",
    "colony_dict = dict(zip(all_bird_IDs, corresponding_colonies))\n",
    "\n",
    "predictions_df['colony'] = [colony_dict[Bird_ID] for Bird_ID in predictions_df.Bird_ID]"
   ]
  },
  {
   "cell_type": "markdown",
   "metadata": {},
   "source": [
    "## Plot Predictions"
   ]
  },
  {
   "cell_type": "code",
   "execution_count": 30,
   "metadata": {},
   "outputs": [],
   "source": [
    "val_set = predictions_df[predictions_df.colony.isin(['duke', 'utsw', 'fp1'])]\n",
    "test_set = predictions_df[predictions_df.colony.isin(['test'])]"
   ]
  },
  {
   "cell_type": "code",
   "execution_count": 31,
   "metadata": {},
   "outputs": [
    {
     "data": {
      "text/plain": [
       "[<matplotlib.lines.Line2D at 0x1842dc03be0>]"
      ]
     },
     "execution_count": 31,
     "metadata": {},
     "output_type": "execute_result"
    },
    {
     "data": {
      "image/png": "[encoded data removed]",
      "text/plain": [
       "<Figure size 432x288 with 1 Axes>"
      ]
     },
     "metadata": {
      "needs_background": "light"
     },
     "output_type": "display_data"
    }
   ],
   "source": [
    "sns.scatterplot(data = val_set, x = 'True_age', y = 'Predicted_age', alpha = 0.5)\n",
    "plt.plot( [45, 90], [45, 90], c = 'red')"
   ]
  },
  {
   "cell_type": "code",
   "execution_count": 32,
   "metadata": {},
   "outputs": [
    {
     "data": {
      "text/plain": [
       "[<matplotlib.lines.Line2D at 0x1842dbee860>]"
      ]
     },
     "execution_count": 32,
     "metadata": {},
     "output_type": "execute_result"
    },
    {
     "data": {
      "image/png": "[encoded data removed]",
      "text/plain": [
       "<Figure size 432x288 with 1 Axes>"
      ]
     },
     "metadata": {
      "needs_background": "light"
     },
     "output_type": "display_data"
    }
   ],
   "source": [
    "sns.scatterplot(data = test_set, x = 'True_age', y = 'Predicted_age', alpha = 0.5)\n",
    "plt.plot( [45, 90], [45, 90], c = 'red')"
   ]
  },
  {
   "cell_type": "code",
   "execution_count": 33,
   "metadata": {},
   "outputs": [],
   "source": [
    "plt.rcParams.update({'font.size' : 11})"
   ]
  },
  {
   "cell_type": "code",
   "execution_count": 34,
   "metadata": {},
   "outputs": [
    {
     "data": {
      "text/plain": [
       "Text(0.5, 1.0, 'GAM Age Predictions')"
      ]
     },
     "execution_count": 34,
     "metadata": {},
     "output_type": "execute_result"
    },
    {
     "data": {
      "image/png": "[encoded data removed]",
      "text/plain": [
       "<Figure size 432x432 with 1 Axes>"
      ]
     },
     "metadata": {
      "needs_background": "light"
     },
     "output_type": "display_data"
    }
   ],
   "source": [
    "plt.figure(figsize = (6, 6))\n",
    "plt.plot( [38, 105], [38, 105], c = 'black', linewidth = 4, alpha = 0.2)\n",
    "sns.scatterplot(data = predictions_df, x = 'True_age', y = 'Predicted_age', alpha = 0.75)\n",
    "plt.xlim(38, 105)\n",
    "plt.ylim(38, 105)\n",
    "plt.xlabel('True Age (dph)')\n",
    "plt.ylabel('Predicted Age (dph)')\n",
    "plt.title('GAM Age Predictions')"
   ]
  },
  {
   "cell_type": "code",
   "execution_count": 35,
   "metadata": {},
   "outputs": [
    {
     "data": {
      "text/plain": [
       "(103, 4)"
      ]
     },
     "execution_count": 35,
     "metadata": {},
     "output_type": "execute_result"
    }
   ],
   "source": [
    "predictions_df.shape"
   ]
  },
  {
   "cell_type": "code",
   "execution_count": 37,
   "metadata": {},
   "outputs": [
    {
     "data": {
      "text/html": [
       "<div>\n",
       "<style scoped>\n",
       "    .dataframe tbody tr th:only-of-type {\n",
       "        vertical-align: middle;\n",
       "    }\n",
       "\n",
       "    .dataframe tbody tr th {\n",
       "        vertical-align: top;\n",
       "    }\n",
       "\n",
       "    .dataframe thead th {\n",
       "        text-align: right;\n",
       "    }\n",
       "</style>\n",
       "<table border=\"1\" class=\"dataframe\">\n",
       "  <thead>\n",
       "    <tr style=\"text-align: right;\">\n",
       "      <th></th>\n",
       "      <th>True_age</th>\n",
       "      <th>Predicted_age</th>\n",
       "      <th>colony</th>\n",
       "    </tr>\n",
       "    <tr>\n",
       "      <th>Bird_ID</th>\n",
       "      <th></th>\n",
       "      <th></th>\n",
       "      <th></th>\n",
       "    </tr>\n",
       "  </thead>\n",
       "  <tbody>\n",
       "    <tr>\n",
       "      <th>G266</th>\n",
       "      <td>23</td>\n",
       "      <td>23</td>\n",
       "      <td>23</td>\n",
       "    </tr>\n",
       "    <tr>\n",
       "      <th>O434</th>\n",
       "      <td>1</td>\n",
       "      <td>1</td>\n",
       "      <td>1</td>\n",
       "    </tr>\n",
       "    <tr>\n",
       "      <th>O440</th>\n",
       "      <td>1</td>\n",
       "      <td>1</td>\n",
       "      <td>1</td>\n",
       "    </tr>\n",
       "    <tr>\n",
       "      <th>O472</th>\n",
       "      <td>4</td>\n",
       "      <td>4</td>\n",
       "      <td>4</td>\n",
       "    </tr>\n",
       "    <tr>\n",
       "      <th>O883</th>\n",
       "      <td>6</td>\n",
       "      <td>6</td>\n",
       "      <td>6</td>\n",
       "    </tr>\n",
       "    <tr>\n",
       "      <th>R262</th>\n",
       "      <td>20</td>\n",
       "      <td>20</td>\n",
       "      <td>20</td>\n",
       "    </tr>\n",
       "    <tr>\n",
       "      <th>R425</th>\n",
       "      <td>1</td>\n",
       "      <td>1</td>\n",
       "      <td>1</td>\n",
       "    </tr>\n",
       "    <tr>\n",
       "      <th>R469</th>\n",
       "      <td>1</td>\n",
       "      <td>1</td>\n",
       "      <td>1</td>\n",
       "    </tr>\n",
       "    <tr>\n",
       "      <th>R883</th>\n",
       "      <td>4</td>\n",
       "      <td>4</td>\n",
       "      <td>4</td>\n",
       "    </tr>\n",
       "    <tr>\n",
       "      <th>S264</th>\n",
       "      <td>1</td>\n",
       "      <td>1</td>\n",
       "      <td>1</td>\n",
       "    </tr>\n",
       "    <tr>\n",
       "      <th>S855</th>\n",
       "      <td>5</td>\n",
       "      <td>5</td>\n",
       "      <td>5</td>\n",
       "    </tr>\n",
       "    <tr>\n",
       "      <th>S856</th>\n",
       "      <td>6</td>\n",
       "      <td>6</td>\n",
       "      <td>6</td>\n",
       "    </tr>\n",
       "    <tr>\n",
       "      <th>Y472</th>\n",
       "      <td>2</td>\n",
       "      <td>2</td>\n",
       "      <td>2</td>\n",
       "    </tr>\n",
       "    <tr>\n",
       "      <th>Y855</th>\n",
       "      <td>6</td>\n",
       "      <td>6</td>\n",
       "      <td>6</td>\n",
       "    </tr>\n",
       "    <tr>\n",
       "      <th>grn394</th>\n",
       "      <td>5</td>\n",
       "      <td>5</td>\n",
       "      <td>5</td>\n",
       "    </tr>\n",
       "    <tr>\n",
       "      <th>grn395</th>\n",
       "      <td>5</td>\n",
       "      <td>5</td>\n",
       "      <td>5</td>\n",
       "    </tr>\n",
       "    <tr>\n",
       "      <th>grn397</th>\n",
       "      <td>4</td>\n",
       "      <td>4</td>\n",
       "      <td>4</td>\n",
       "    </tr>\n",
       "    <tr>\n",
       "      <th>grn475</th>\n",
       "      <td>4</td>\n",
       "      <td>4</td>\n",
       "      <td>4</td>\n",
       "    </tr>\n",
       "    <tr>\n",
       "      <th>sil469</th>\n",
       "      <td>4</td>\n",
       "      <td>4</td>\n",
       "      <td>4</td>\n",
       "    </tr>\n",
       "  </tbody>\n",
       "</table>\n",
       "</div>"
      ],
      "text/plain": [
       "         True_age  Predicted_age  colony\n",
       "Bird_ID                                 \n",
       "G266           23             23      23\n",
       "O434            1              1       1\n",
       "O440            1              1       1\n",
       "O472            4              4       4\n",
       "O883            6              6       6\n",
       "R262           20             20      20\n",
       "R425            1              1       1\n",
       "R469            1              1       1\n",
       "R883            4              4       4\n",
       "S264            1              1       1\n",
       "S855            5              5       5\n",
       "S856            6              6       6\n",
       "Y472            2              2       2\n",
       "Y855            6              6       6\n",
       "grn394          5              5       5\n",
       "grn395          5              5       5\n",
       "grn397          4              4       4\n",
       "grn475          4              4       4\n",
       "sil469          4              4       4"
      ]
     },
     "execution_count": 37,
     "metadata": {},
     "output_type": "execute_result"
    }
   ],
   "source": [
    "predictions_df.groupby('Bird_ID').count()"
   ]
  },
  {
   "cell_type": "code",
   "execution_count": 56,
   "metadata": {},
   "outputs": [],
   "source": [
    "predictions_df['error'] = predictions_df.Predicted_age - predictions_df.True_age"
   ]
  },
  {
   "cell_type": "code",
   "execution_count": 65,
   "metadata": {},
   "outputs": [
    {
     "data": {
      "text/plain": [
       "Text(0, 0.5, 'Prediction Error (dph)')"
      ]
     },
     "execution_count": 65,
     "metadata": {},
     "output_type": "execute_result"
    },
    {
     "data": {
      "image/png": "[encoded data removed]",
      "text/plain": [
       "<Figure size 432x288 with 1 Axes>"
      ]
     },
     "metadata": {
      "needs_background": "light"
     },
     "output_type": "display_data"
    }
   ],
   "source": [
    "plt.figure(figsize = (6, 4))\n",
    "\n",
    "plt.title('GAM Age Predictions')\n",
    "sns.scatterplot(data = predictions_df, x = 'True_age', y = 'error')\n",
    "plt.hlines(y = 0, xmin = 40, xmax = 110, linewidth = 4, alpha = 0.2, color = 'black')\n",
    "plt.xlabel('True Age (dph)')\n",
    "plt.ylabel('Prediction Error (dph)')"
   ]
  },
  {
   "cell_type": "code",
   "execution_count": 68,
   "metadata": {},
   "outputs": [],
   "source": [
    "predictions_df['abs_error'] = np.abs(predictions_df.error)"
   ]
  },
  {
   "cell_type": "code",
   "execution_count": 69,
   "metadata": {},
   "outputs": [
    {
     "data": {
      "text/html": [
       "<div>\n",
       "<style scoped>\n",
       "    .dataframe tbody tr th:only-of-type {\n",
       "        vertical-align: middle;\n",
       "    }\n",
       "\n",
       "    .dataframe tbody tr th {\n",
       "        vertical-align: top;\n",
       "    }\n",
       "\n",
       "    .dataframe thead th {\n",
       "        text-align: right;\n",
       "    }\n",
       "</style>\n",
       "<table border=\"1\" class=\"dataframe\">\n",
       "  <thead>\n",
       "    <tr style=\"text-align: right;\">\n",
       "      <th></th>\n",
       "      <th>True_age</th>\n",
       "      <th>Predicted_age</th>\n",
       "      <th>error</th>\n",
       "      <th>abs_error</th>\n",
       "    </tr>\n",
       "  </thead>\n",
       "  <tbody>\n",
       "    <tr>\n",
       "      <th>count</th>\n",
       "      <td>103.000000</td>\n",
       "      <td>103.000000</td>\n",
       "      <td>103.000000</td>\n",
       "      <td>103.000000</td>\n",
       "    </tr>\n",
       "    <tr>\n",
       "      <th>mean</th>\n",
       "      <td>70.815534</td>\n",
       "      <td>70.813252</td>\n",
       "      <td>-0.002282</td>\n",
       "      <td>8.772599</td>\n",
       "    </tr>\n",
       "    <tr>\n",
       "      <th>std</th>\n",
       "      <td>15.128047</td>\n",
       "      <td>13.759416</td>\n",
       "      <td>10.832876</td>\n",
       "      <td>6.295888</td>\n",
       "    </tr>\n",
       "    <tr>\n",
       "      <th>min</th>\n",
       "      <td>46.000000</td>\n",
       "      <td>41.191691</td>\n",
       "      <td>-25.902666</td>\n",
       "      <td>0.006364</td>\n",
       "    </tr>\n",
       "    <tr>\n",
       "      <th>25%</th>\n",
       "      <td>60.000000</td>\n",
       "      <td>60.340956</td>\n",
       "      <td>-6.637775</td>\n",
       "      <td>3.874441</td>\n",
       "    </tr>\n",
       "    <tr>\n",
       "      <th>50%</th>\n",
       "      <td>70.000000</td>\n",
       "      <td>72.976926</td>\n",
       "      <td>0.164976</td>\n",
       "      <td>7.977544</td>\n",
       "    </tr>\n",
       "    <tr>\n",
       "      <th>75%</th>\n",
       "      <td>80.000000</td>\n",
       "      <td>81.871434</td>\n",
       "      <td>9.028526</td>\n",
       "      <td>12.425699</td>\n",
       "    </tr>\n",
       "    <tr>\n",
       "      <th>max</th>\n",
       "      <td>102.000000</td>\n",
       "      <td>92.448306</td>\n",
       "      <td>22.284347</td>\n",
       "      <td>25.902666</td>\n",
       "    </tr>\n",
       "  </tbody>\n",
       "</table>\n",
       "</div>"
      ],
      "text/plain": [
       "         True_age  Predicted_age       error   abs_error\n",
       "count  103.000000     103.000000  103.000000  103.000000\n",
       "mean    70.815534      70.813252   -0.002282    8.772599\n",
       "std     15.128047      13.759416   10.832876    6.295888\n",
       "min     46.000000      41.191691  -25.902666    0.006364\n",
       "25%     60.000000      60.340956   -6.637775    3.874441\n",
       "50%     70.000000      72.976926    0.164976    7.977544\n",
       "75%     80.000000      81.871434    9.028526   12.425699\n",
       "max    102.000000      92.448306   22.284347   25.902666"
      ]
     },
     "execution_count": 69,
     "metadata": {},
     "output_type": "execute_result"
    }
   ],
   "source": [
    "predictions_df.describe()"
   ]
  },
  {
   "cell_type": "code",
   "execution_count": 70,
   "metadata": {},
   "outputs": [
    {
     "data": {
      "text/html": [
       "<div>\n",
       "<style scoped>\n",
       "    .dataframe tbody tr th:only-of-type {\n",
       "        vertical-align: middle;\n",
       "    }\n",
       "\n",
       "    .dataframe tbody tr th {\n",
       "        vertical-align: top;\n",
       "    }\n",
       "\n",
       "    .dataframe thead th {\n",
       "        text-align: right;\n",
       "    }\n",
       "</style>\n",
       "<table border=\"1\" class=\"dataframe\">\n",
       "  <thead>\n",
       "    <tr style=\"text-align: right;\">\n",
       "      <th></th>\n",
       "      <th></th>\n",
       "      <th>True_age</th>\n",
       "      <th>Predicted_age</th>\n",
       "      <th>error</th>\n",
       "      <th>abs_error</th>\n",
       "    </tr>\n",
       "    <tr>\n",
       "      <th>colony</th>\n",
       "      <th>Bird_ID</th>\n",
       "      <th></th>\n",
       "      <th></th>\n",
       "      <th></th>\n",
       "      <th></th>\n",
       "    </tr>\n",
       "  </thead>\n",
       "  <tbody>\n",
       "    <tr>\n",
       "      <th rowspan=\"5\" valign=\"top\">duke</th>\n",
       "      <th>grn394</th>\n",
       "      <td>5</td>\n",
       "      <td>5</td>\n",
       "      <td>5</td>\n",
       "      <td>5</td>\n",
       "    </tr>\n",
       "    <tr>\n",
       "      <th>grn395</th>\n",
       "      <td>5</td>\n",
       "      <td>5</td>\n",
       "      <td>5</td>\n",
       "      <td>5</td>\n",
       "    </tr>\n",
       "    <tr>\n",
       "      <th>grn397</th>\n",
       "      <td>4</td>\n",
       "      <td>4</td>\n",
       "      <td>4</td>\n",
       "      <td>4</td>\n",
       "    </tr>\n",
       "    <tr>\n",
       "      <th>grn475</th>\n",
       "      <td>4</td>\n",
       "      <td>4</td>\n",
       "      <td>4</td>\n",
       "      <td>4</td>\n",
       "    </tr>\n",
       "    <tr>\n",
       "      <th>sil469</th>\n",
       "      <td>4</td>\n",
       "      <td>4</td>\n",
       "      <td>4</td>\n",
       "      <td>4</td>\n",
       "    </tr>\n",
       "    <tr>\n",
       "      <th rowspan=\"4\" valign=\"top\">fp1</th>\n",
       "      <th>O434</th>\n",
       "      <td>1</td>\n",
       "      <td>1</td>\n",
       "      <td>1</td>\n",
       "      <td>1</td>\n",
       "    </tr>\n",
       "    <tr>\n",
       "      <th>O440</th>\n",
       "      <td>1</td>\n",
       "      <td>1</td>\n",
       "      <td>1</td>\n",
       "      <td>1</td>\n",
       "    </tr>\n",
       "    <tr>\n",
       "      <th>R425</th>\n",
       "      <td>1</td>\n",
       "      <td>1</td>\n",
       "      <td>1</td>\n",
       "      <td>1</td>\n",
       "    </tr>\n",
       "    <tr>\n",
       "      <th>R469</th>\n",
       "      <td>1</td>\n",
       "      <td>1</td>\n",
       "      <td>1</td>\n",
       "      <td>1</td>\n",
       "    </tr>\n",
       "    <tr>\n",
       "      <th rowspan=\"7\" valign=\"top\">test</th>\n",
       "      <th>G266</th>\n",
       "      <td>23</td>\n",
       "      <td>23</td>\n",
       "      <td>23</td>\n",
       "      <td>23</td>\n",
       "    </tr>\n",
       "    <tr>\n",
       "      <th>O472</th>\n",
       "      <td>4</td>\n",
       "      <td>4</td>\n",
       "      <td>4</td>\n",
       "      <td>4</td>\n",
       "    </tr>\n",
       "    <tr>\n",
       "      <th>O883</th>\n",
       "      <td>6</td>\n",
       "      <td>6</td>\n",
       "      <td>6</td>\n",
       "      <td>6</td>\n",
       "    </tr>\n",
       "    <tr>\n",
       "      <th>R262</th>\n",
       "      <td>20</td>\n",
       "      <td>20</td>\n",
       "      <td>20</td>\n",
       "      <td>20</td>\n",
       "    </tr>\n",
       "    <tr>\n",
       "      <th>R883</th>\n",
       "      <td>4</td>\n",
       "      <td>4</td>\n",
       "      <td>4</td>\n",
       "      <td>4</td>\n",
       "    </tr>\n",
       "    <tr>\n",
       "      <th>S264</th>\n",
       "      <td>1</td>\n",
       "      <td>1</td>\n",
       "      <td>1</td>\n",
       "      <td>1</td>\n",
       "    </tr>\n",
       "    <tr>\n",
       "      <th>Y472</th>\n",
       "      <td>2</td>\n",
       "      <td>2</td>\n",
       "      <td>2</td>\n",
       "      <td>2</td>\n",
       "    </tr>\n",
       "    <tr>\n",
       "      <th rowspan=\"3\" valign=\"top\">utsw</th>\n",
       "      <th>S855</th>\n",
       "      <td>5</td>\n",
       "      <td>5</td>\n",
       "      <td>5</td>\n",
       "      <td>5</td>\n",
       "    </tr>\n",
       "    <tr>\n",
       "      <th>S856</th>\n",
       "      <td>6</td>\n",
       "      <td>6</td>\n",
       "      <td>6</td>\n",
       "      <td>6</td>\n",
       "    </tr>\n",
       "    <tr>\n",
       "      <th>Y855</th>\n",
       "      <td>6</td>\n",
       "      <td>6</td>\n",
       "      <td>6</td>\n",
       "      <td>6</td>\n",
       "    </tr>\n",
       "  </tbody>\n",
       "</table>\n",
       "</div>"
      ],
      "text/plain": [
       "                True_age  Predicted_age  error  abs_error\n",
       "colony Bird_ID                                           \n",
       "duke   grn394          5              5      5          5\n",
       "       grn395          5              5      5          5\n",
       "       grn397          4              4      4          4\n",
       "       grn475          4              4      4          4\n",
       "       sil469          4              4      4          4\n",
       "fp1    O434            1              1      1          1\n",
       "       O440            1              1      1          1\n",
       "       R425            1              1      1          1\n",
       "       R469            1              1      1          1\n",
       "test   G266           23             23     23         23\n",
       "       O472            4              4      4          4\n",
       "       O883            6              6      6          6\n",
       "       R262           20             20     20         20\n",
       "       R883            4              4      4          4\n",
       "       S264            1              1      1          1\n",
       "       Y472            2              2      2          2\n",
       "utsw   S855            5              5      5          5\n",
       "       S856            6              6      6          6\n",
       "       Y855            6              6      6          6"
      ]
     },
     "execution_count": 70,
     "metadata": {},
     "output_type": "execute_result"
    }
   ],
   "source": [
    "predictions_df.groupby(['colony', 'Bird_ID']).count()"
   ]
  },
  {
   "cell_type": "code",
   "execution_count": 71,
   "metadata": {},
   "outputs": [
    {
     "data": {
      "text/plain": [
       "46.0"
      ]
     },
     "execution_count": 71,
     "metadata": {},
     "output_type": "execute_result"
    }
   ],
   "source": [
    "predictions_df.True_age.min()"
   ]
  },
  {
   "cell_type": "code",
   "execution_count": 72,
   "metadata": {},
   "outputs": [
    {
     "data": {
      "text/plain": [
       "102.0"
      ]
     },
     "execution_count": 72,
     "metadata": {},
     "output_type": "execute_result"
    }
   ],
   "source": [
    "predictions_df.True_age.max()"
   ]
  },
  {
   "cell_type": "markdown",
   "metadata": {},
   "source": [
    "# Higher Regularization"
   ]
  },
  {
   "cell_type": "code",
   "execution_count": 99,
   "metadata": {},
   "outputs": [],
   "source": [
    "\n",
    "#set terms of the model based on selected features\n",
    "terms = s(selected_feature_indices[0], lam = 10) + s(selected_feature_indices[1], lam = 10) + \\\n",
    "        s(selected_feature_indices[2], lam = 10) + s(selected_feature_indices[3], lam = 10) + \\\n",
    "        s(selected_feature_indices[4], lam = 10) + s(selected_feature_indices[5], lam = 10) + \\\n",
    "        s(selected_feature_indices[6], lam = 10) \n",
    "\n",
    "#create bird-fold cross validation object\n",
    "logo = LeaveOneGroupOut()\n",
    "splits = logo.split(full_feats_only_norm, groups = all_feats.Bird_ID)\n",
    "\n",
    "#initialize empty arrays to store predictions\n",
    "y_preds = np.array([])\n",
    "y_tests = np.array([])\n",
    "Bird_IDs = np.array([])\n",
    "#train and predict for each split in cross validation object\n",
    "for train_index, test_index in splits:\n",
    "    #print(groups.iloc[test_index].values[0])\n",
    "\n",
    "    X_train, X_test = full_feats_only_norm[(train_index)], full_feats_only_norm[(test_index)]\n",
    "    y_train, y_test = y[(train_index)], y[(test_index)]\n",
    "\n",
    "    gam = LinearGAM(terms)\n",
    "\n",
    "    gam.fit(X_train, y_train)\n",
    "    y_pred = gam.predict(X_test)\n",
    "    \n",
    "    y_preds = np.concatenate([y_preds, y_pred])\n",
    "    y_tests = np.concatenate([y_tests, y_test])\n",
    "    Bird_IDs = np.concatenate([Bird_IDs, groups.iloc[test_index].values.flatten()])"
   ]
  },
  {
   "cell_type": "code",
   "execution_count": 100,
   "metadata": {},
   "outputs": [],
   "source": [
    "predictions_df = pd.DataFrame({\"True_age\" : y_tests, \n",
    "                               \"Predicted_age\" : y_preds, \n",
    "                               \"Bird_ID\" : Bird_IDs})"
   ]
  },
  {
   "cell_type": "code",
   "execution_count": 101,
   "metadata": {},
   "outputs": [],
   "source": [
    "all_bird_IDs = all_feats.Bird_ID.unique()\n",
    "corresponding_colonies = [all_feats[all_feats.Bird_ID == Bird_ID].colony.iloc[0] for Bird_ID in all_bird_IDs]\n",
    "\n",
    "colony_dict = dict(zip(all_bird_IDs, corresponding_colonies))\n",
    "\n",
    "predictions_df['colony'] = [colony_dict[Bird_ID] for Bird_ID in predictions_df.Bird_ID]"
   ]
  },
  {
   "cell_type": "markdown",
   "metadata": {},
   "source": [
    "## Plot Predictions"
   ]
  },
  {
   "cell_type": "code",
   "execution_count": 102,
   "metadata": {},
   "outputs": [],
   "source": [
    "val_set = predictions_df[predictions_df.colony.isin(['duke', 'utsw', 'fp1'])]\n",
    "test_set = predictions_df[predictions_df.colony.isin(['test'])]"
   ]
  },
  {
   "cell_type": "code",
   "execution_count": 103,
   "metadata": {},
   "outputs": [
    {
     "data": {
      "text/plain": [
       "[<matplotlib.lines.Line2D at 0x1e530c774e0>]"
      ]
     },
     "execution_count": 103,
     "metadata": {},
     "output_type": "execute_result"
    },
    {
     "data": {
      "image/png": "[encoded data removed]",
      "text/plain": [
       "<Figure size 432x288 with 1 Axes>"
      ]
     },
     "metadata": {
      "needs_background": "light"
     },
     "output_type": "display_data"
    }
   ],
   "source": [
    "sns.scatterplot(data = val_set, x = 'True_age', y = 'Predicted_age', alpha = 0.5)\n",
    "plt.plot( [45, 90], [45, 90], c = 'red')"
   ]
  },
  {
   "cell_type": "code",
   "execution_count": 104,
   "metadata": {},
   "outputs": [
    {
     "data": {
      "text/plain": [
       "[<matplotlib.lines.Line2D at 0x1e530c77630>]"
      ]
     },
     "execution_count": 104,
     "metadata": {},
     "output_type": "execute_result"
    },
    {
     "data": {
      "image/png": "[encoded data removed]",
      "text/plain": [
       "<Figure size 432x288 with 1 Axes>"
      ]
     },
     "metadata": {
      "needs_background": "light"
     },
     "output_type": "display_data"
    }
   ],
   "source": [
    "sns.scatterplot(data = test_set, x = 'True_age', y = 'Predicted_age', alpha = 0.5)\n",
    "plt.plot( [45, 90], [45, 90], c = 'red')"
   ]
  },
  {
   "cell_type": "code",
   "execution_count": 105,
   "metadata": {},
   "outputs": [],
   "source": [
    "plt.rcParams.update({'font.size' : 11})"
   ]
  },
  {
   "cell_type": "code",
   "execution_count": 106,
   "metadata": {},
   "outputs": [
    {
     "data": {
      "text/plain": [
       "Text(0.5, 1.0, 'GAM Age Predictions')"
      ]
     },
     "execution_count": 106,
     "metadata": {},
     "output_type": "execute_result"
    },
    {
     "data": {
      "image/png": "[encoded data removed]",
      "text/plain": [
       "<Figure size 432x432 with 1 Axes>"
      ]
     },
     "metadata": {
      "needs_background": "light"
     },
     "output_type": "display_data"
    }
   ],
   "source": [
    "plt.figure(figsize = (6, 6))\n",
    "plt.plot( [38, 105], [38, 105], c = 'black', linewidth = 4, alpha = 0.2)\n",
    "sns.scatterplot(data = predictions_df, x = 'True_age', y = 'Predicted_age', alpha = 0.75)\n",
    "plt.xlim(38, 105)\n",
    "plt.ylim(38, 105)\n",
    "plt.xlabel('True Age (dph)')\n",
    "plt.ylabel('Predicted Age (dph)')\n",
    "plt.title('GAM Age Predictions')"
   ]
  },
  {
   "cell_type": "code",
   "execution_count": 107,
   "metadata": {},
   "outputs": [],
   "source": [
    "predictions_df['error'] = predictions_df.Predicted_age - predictions_df.True_age"
   ]
  },
  {
   "cell_type": "code",
   "execution_count": 108,
   "metadata": {},
   "outputs": [
    {
     "data": {
      "text/plain": [
       "Text(0, 0.5, 'Prediction Error (dph)')"
      ]
     },
     "execution_count": 108,
     "metadata": {},
     "output_type": "execute_result"
    },
    {
     "data": {
      "image/png": "[encoded data removed]",
      "text/plain": [
       "<Figure size 432x288 with 1 Axes>"
      ]
     },
     "metadata": {
      "needs_background": "light"
     },
     "output_type": "display_data"
    }
   ],
   "source": [
    "plt.figure(figsize = (6, 4))\n",
    "\n",
    "plt.title('GAM Age Predictions')\n",
    "sns.scatterplot(data = predictions_df, x = 'True_age', y = 'error')\n",
    "plt.hlines(y = 0, xmin = 40, xmax = 110, linewidth = 4, alpha = 0.2, color = 'black')\n",
    "plt.xlabel('True Age (dph)')\n",
    "plt.ylabel('Prediction Error (dph)')"
   ]
  },
  {
   "cell_type": "code",
   "execution_count": 127,
   "metadata": {},
   "outputs": [
    {
     "data": {
      "text/plain": [
       "112.59592007312152"
      ]
     },
     "execution_count": 127,
     "metadata": {},
     "output_type": "execute_result"
    }
   ],
   "source": [
    "np.mean(predictions_df.error **2)"
   ]
  },
  {
   "cell_type": "code",
   "execution_count": 109,
   "metadata": {},
   "outputs": [],
   "source": [
    "predictions_df['abs_error'] = np.abs(predictions_df.error)"
   ]
  },
  {
   "cell_type": "code",
   "execution_count": 110,
   "metadata": {},
   "outputs": [
    {
     "data": {
      "text/html": [
       "<div>\n",
       "<style scoped>\n",
       "    .dataframe tbody tr th:only-of-type {\n",
       "        vertical-align: middle;\n",
       "    }\n",
       "\n",
       "    .dataframe tbody tr th {\n",
       "        vertical-align: top;\n",
       "    }\n",
       "\n",
       "    .dataframe thead th {\n",
       "        text-align: right;\n",
       "    }\n",
       "</style>\n",
       "<table border=\"1\" class=\"dataframe\">\n",
       "  <thead>\n",
       "    <tr style=\"text-align: right;\">\n",
       "      <th></th>\n",
       "      <th>True_age</th>\n",
       "      <th>Predicted_age</th>\n",
       "      <th>error</th>\n",
       "      <th>abs_error</th>\n",
       "    </tr>\n",
       "  </thead>\n",
       "  <tbody>\n",
       "    <tr>\n",
       "      <th>count</th>\n",
       "      <td>103.000000</td>\n",
       "      <td>103.000000</td>\n",
       "      <td>103.000000</td>\n",
       "      <td>103.000000</td>\n",
       "    </tr>\n",
       "    <tr>\n",
       "      <th>mean</th>\n",
       "      <td>70.815534</td>\n",
       "      <td>68.293371</td>\n",
       "      <td>-2.522163</td>\n",
       "      <td>8.189214</td>\n",
       "    </tr>\n",
       "    <tr>\n",
       "      <th>std</th>\n",
       "      <td>15.128047</td>\n",
       "      <td>11.223149</td>\n",
       "      <td>10.357419</td>\n",
       "      <td>6.780789</td>\n",
       "    </tr>\n",
       "    <tr>\n",
       "      <th>min</th>\n",
       "      <td>46.000000</td>\n",
       "      <td>40.557077</td>\n",
       "      <td>-29.488165</td>\n",
       "      <td>0.361477</td>\n",
       "    </tr>\n",
       "    <tr>\n",
       "      <th>25%</th>\n",
       "      <td>60.000000</td>\n",
       "      <td>59.206261</td>\n",
       "      <td>-8.978796</td>\n",
       "      <td>3.122110</td>\n",
       "    </tr>\n",
       "    <tr>\n",
       "      <th>50%</th>\n",
       "      <td>70.000000</td>\n",
       "      <td>70.620244</td>\n",
       "      <td>-0.876081</td>\n",
       "      <td>7.041406</td>\n",
       "    </tr>\n",
       "    <tr>\n",
       "      <th>75%</th>\n",
       "      <td>80.000000</td>\n",
       "      <td>76.667681</td>\n",
       "      <td>4.803806</td>\n",
       "      <td>11.119181</td>\n",
       "    </tr>\n",
       "    <tr>\n",
       "      <th>max</th>\n",
       "      <td>102.000000</td>\n",
       "      <td>89.251111</td>\n",
       "      <td>15.975453</td>\n",
       "      <td>29.488165</td>\n",
       "    </tr>\n",
       "  </tbody>\n",
       "</table>\n",
       "</div>"
      ],
      "text/plain": [
       "         True_age  Predicted_age       error   abs_error\n",
       "count  103.000000     103.000000  103.000000  103.000000\n",
       "mean    70.815534      68.293371   -2.522163    8.189214\n",
       "std     15.128047      11.223149   10.357419    6.780789\n",
       "min     46.000000      40.557077  -29.488165    0.361477\n",
       "25%     60.000000      59.206261   -8.978796    3.122110\n",
       "50%     70.000000      70.620244   -0.876081    7.041406\n",
       "75%     80.000000      76.667681    4.803806   11.119181\n",
       "max    102.000000      89.251111   15.975453   29.488165"
      ]
     },
     "execution_count": 110,
     "metadata": {},
     "output_type": "execute_result"
    }
   ],
   "source": [
    "predictions_df.describe()"
   ]
  },
  {
   "cell_type": "code",
   "execution_count": 111,
   "metadata": {},
   "outputs": [
    {
     "data": {
      "text/html": [
       "<div>\n",
       "<style scoped>\n",
       "    .dataframe tbody tr th:only-of-type {\n",
       "        vertical-align: middle;\n",
       "    }\n",
       "\n",
       "    .dataframe tbody tr th {\n",
       "        vertical-align: top;\n",
       "    }\n",
       "\n",
       "    .dataframe thead th {\n",
       "        text-align: right;\n",
       "    }\n",
       "</style>\n",
       "<table border=\"1\" class=\"dataframe\">\n",
       "  <thead>\n",
       "    <tr style=\"text-align: right;\">\n",
       "      <th></th>\n",
       "      <th></th>\n",
       "      <th>True_age</th>\n",
       "      <th>Predicted_age</th>\n",
       "      <th>error</th>\n",
       "      <th>abs_error</th>\n",
       "    </tr>\n",
       "    <tr>\n",
       "      <th>colony</th>\n",
       "      <th>Bird_ID</th>\n",
       "      <th></th>\n",
       "      <th></th>\n",
       "      <th></th>\n",
       "      <th></th>\n",
       "    </tr>\n",
       "  </thead>\n",
       "  <tbody>\n",
       "    <tr>\n",
       "      <th rowspan=\"5\" valign=\"top\">duke</th>\n",
       "      <th>grn394</th>\n",
       "      <td>5</td>\n",
       "      <td>5</td>\n",
       "      <td>5</td>\n",
       "      <td>5</td>\n",
       "    </tr>\n",
       "    <tr>\n",
       "      <th>grn395</th>\n",
       "      <td>5</td>\n",
       "      <td>5</td>\n",
       "      <td>5</td>\n",
       "      <td>5</td>\n",
       "    </tr>\n",
       "    <tr>\n",
       "      <th>grn397</th>\n",
       "      <td>4</td>\n",
       "      <td>4</td>\n",
       "      <td>4</td>\n",
       "      <td>4</td>\n",
       "    </tr>\n",
       "    <tr>\n",
       "      <th>grn475</th>\n",
       "      <td>4</td>\n",
       "      <td>4</td>\n",
       "      <td>4</td>\n",
       "      <td>4</td>\n",
       "    </tr>\n",
       "    <tr>\n",
       "      <th>sil469</th>\n",
       "      <td>4</td>\n",
       "      <td>4</td>\n",
       "      <td>4</td>\n",
       "      <td>4</td>\n",
       "    </tr>\n",
       "    <tr>\n",
       "      <th rowspan=\"4\" valign=\"top\">fp1</th>\n",
       "      <th>O434</th>\n",
       "      <td>1</td>\n",
       "      <td>1</td>\n",
       "      <td>1</td>\n",
       "      <td>1</td>\n",
       "    </tr>\n",
       "    <tr>\n",
       "      <th>O440</th>\n",
       "      <td>1</td>\n",
       "      <td>1</td>\n",
       "      <td>1</td>\n",
       "      <td>1</td>\n",
       "    </tr>\n",
       "    <tr>\n",
       "      <th>R425</th>\n",
       "      <td>1</td>\n",
       "      <td>1</td>\n",
       "      <td>1</td>\n",
       "      <td>1</td>\n",
       "    </tr>\n",
       "    <tr>\n",
       "      <th>R469</th>\n",
       "      <td>1</td>\n",
       "      <td>1</td>\n",
       "      <td>1</td>\n",
       "      <td>1</td>\n",
       "    </tr>\n",
       "    <tr>\n",
       "      <th rowspan=\"7\" valign=\"top\">test</th>\n",
       "      <th>G266</th>\n",
       "      <td>23</td>\n",
       "      <td>23</td>\n",
       "      <td>23</td>\n",
       "      <td>23</td>\n",
       "    </tr>\n",
       "    <tr>\n",
       "      <th>O472</th>\n",
       "      <td>4</td>\n",
       "      <td>4</td>\n",
       "      <td>4</td>\n",
       "      <td>4</td>\n",
       "    </tr>\n",
       "    <tr>\n",
       "      <th>O883</th>\n",
       "      <td>6</td>\n",
       "      <td>6</td>\n",
       "      <td>6</td>\n",
       "      <td>6</td>\n",
       "    </tr>\n",
       "    <tr>\n",
       "      <th>R262</th>\n",
       "      <td>20</td>\n",
       "      <td>20</td>\n",
       "      <td>20</td>\n",
       "      <td>20</td>\n",
       "    </tr>\n",
       "    <tr>\n",
       "      <th>R883</th>\n",
       "      <td>4</td>\n",
       "      <td>4</td>\n",
       "      <td>4</td>\n",
       "      <td>4</td>\n",
       "    </tr>\n",
       "    <tr>\n",
       "      <th>S264</th>\n",
       "      <td>1</td>\n",
       "      <td>1</td>\n",
       "      <td>1</td>\n",
       "      <td>1</td>\n",
       "    </tr>\n",
       "    <tr>\n",
       "      <th>Y472</th>\n",
       "      <td>2</td>\n",
       "      <td>2</td>\n",
       "      <td>2</td>\n",
       "      <td>2</td>\n",
       "    </tr>\n",
       "    <tr>\n",
       "      <th rowspan=\"3\" valign=\"top\">utsw</th>\n",
       "      <th>S855</th>\n",
       "      <td>5</td>\n",
       "      <td>5</td>\n",
       "      <td>5</td>\n",
       "      <td>5</td>\n",
       "    </tr>\n",
       "    <tr>\n",
       "      <th>S856</th>\n",
       "      <td>6</td>\n",
       "      <td>6</td>\n",
       "      <td>6</td>\n",
       "      <td>6</td>\n",
       "    </tr>\n",
       "    <tr>\n",
       "      <th>Y855</th>\n",
       "      <td>6</td>\n",
       "      <td>6</td>\n",
       "      <td>6</td>\n",
       "      <td>6</td>\n",
       "    </tr>\n",
       "  </tbody>\n",
       "</table>\n",
       "</div>"
      ],
      "text/plain": [
       "                True_age  Predicted_age  error  abs_error\n",
       "colony Bird_ID                                           \n",
       "duke   grn394          5              5      5          5\n",
       "       grn395          5              5      5          5\n",
       "       grn397          4              4      4          4\n",
       "       grn475          4              4      4          4\n",
       "       sil469          4              4      4          4\n",
       "fp1    O434            1              1      1          1\n",
       "       O440            1              1      1          1\n",
       "       R425            1              1      1          1\n",
       "       R469            1              1      1          1\n",
       "test   G266           23             23     23         23\n",
       "       O472            4              4      4          4\n",
       "       O883            6              6      6          6\n",
       "       R262           20             20     20         20\n",
       "       R883            4              4      4          4\n",
       "       S264            1              1      1          1\n",
       "       Y472            2              2      2          2\n",
       "utsw   S855            5              5      5          5\n",
       "       S856            6              6      6          6\n",
       "       Y855            6              6      6          6"
      ]
     },
     "execution_count": 111,
     "metadata": {},
     "output_type": "execute_result"
    }
   ],
   "source": [
    "predictions_df.groupby(['colony', 'Bird_ID']).count()"
   ]
  },
  {
   "cell_type": "code",
   "execution_count": 112,
   "metadata": {},
   "outputs": [
    {
     "data": {
      "text/plain": [
       "46.0"
      ]
     },
     "execution_count": 112,
     "metadata": {},
     "output_type": "execute_result"
    }
   ],
   "source": [
    "predictions_df.True_age.min()"
   ]
  },
  {
   "cell_type": "code",
   "execution_count": 113,
   "metadata": {},
   "outputs": [
    {
     "data": {
      "text/plain": [
       "102.0"
      ]
     },
     "execution_count": 113,
     "metadata": {},
     "output_type": "execute_result"
    }
   ],
   "source": [
    "predictions_df.True_age.max()"
   ]
  },
  {
   "cell_type": "code",
   "execution_count": 114,
   "metadata": {},
   "outputs": [
    {
     "data": {
      "text/plain": [
       "Text(0, 0.5, 'Absolute Prediction Error (dph)')"
      ]
     },
     "execution_count": 114,
     "metadata": {},
     "output_type": "execute_result"
    },
    {
     "data": {
      "image/png": "[encoded data removed]",
      "text/plain": [
       "<Figure size 432x288 with 1 Axes>"
      ]
     },
     "metadata": {
      "needs_background": "light"
     },
     "output_type": "display_data"
    }
   ],
   "source": [
    "plt.figure(figsize = (6, 4))\n",
    "\n",
    "plt.title('GAM Age Predictions')\n",
    "sns.scatterplot(data = predictions_df, x = 'True_age', y = 'abs_error')\n",
    "plt.hlines(y = 0, xmin = 40, xmax = 110, linewidth = 4, alpha = 0.2, color = 'black')\n",
    "plt.xlabel('True Age (dph)')\n",
    "plt.ylabel('Absolute Prediction Error (dph)')"
   ]
  },
  {
   "cell_type": "markdown",
   "metadata": {},
   "source": [
    "## Comparison to Shuffle"
   ]
  },
  {
   "cell_type": "markdown",
   "metadata": {},
   "source": [
    "As a null model, I'm going to randomly shuffle the predicted ages with respect to the true ages and calculate the error scores. "
   ]
  },
  {
   "cell_type": "code",
   "execution_count": 117,
   "metadata": {},
   "outputs": [
    {
     "name": "stderr",
     "output_type": "stream",
     "text": [
      "c:\\Users\\tkoch\\anaconda3\\envs\\pyGAM_env\\lib\\site-packages\\ipykernel_launcher.py:2: SettingWithCopyWarning: \n",
      "A value is trying to be set on a copy of a slice from a DataFrame.\n",
      "Try using .loc[row_indexer,col_indexer] = value instead\n",
      "\n",
      "See the caveats in the documentation: https://pandas.pydata.org/pandas-docs/stable/user_guide/indexing.html#returning-a-view-versus-a-copy\n",
      "  \n"
     ]
    }
   ],
   "source": [
    "predictions_shuffle_df = predictions_df[['Bird_ID', 'Predicted_age', 'True_age']]\n",
    "predictions_shuffle_df['Predicted_age'] = np.random.permutation(predictions_shuffle_df.Predicted_age.values)"
   ]
  },
  {
   "cell_type": "code",
   "execution_count": 119,
   "metadata": {},
   "outputs": [
    {
     "data": {
      "text/plain": [
       "Text(0.5, 1.0, 'GAM Age Predictions')"
      ]
     },
     "execution_count": 119,
     "metadata": {},
     "output_type": "execute_result"
    },
    {
     "data": {
      "image/png": "[encoded data removed]",
      "text/plain": [
       "<Figure size 432x432 with 1 Axes>"
      ]
     },
     "metadata": {
      "needs_background": "light"
     },
     "output_type": "display_data"
    }
   ],
   "source": [
    "plt.figure(figsize = (6, 6))\n",
    "plt.plot( [38, 105], [38, 105], c = 'black', linewidth = 4, alpha = 0.2)\n",
    "sns.scatterplot(data = predictions_shuffle_df, x = 'True_age', y = 'Predicted_age', alpha = 0.75)\n",
    "plt.xlim(38, 105)\n",
    "plt.ylim(38, 105)\n",
    "plt.xlabel('True Age (dph)')\n",
    "plt.ylabel('Shuffled Predicted Age (dph)')\n",
    "plt.title('GAM Age Predictions')"
   ]
  },
  {
   "cell_type": "code",
   "execution_count": 120,
   "metadata": {},
   "outputs": [
    {
     "name": "stderr",
     "output_type": "stream",
     "text": [
      "c:\\Users\\tkoch\\anaconda3\\envs\\pyGAM_env\\lib\\site-packages\\ipykernel_launcher.py:1: SettingWithCopyWarning: \n",
      "A value is trying to be set on a copy of a slice from a DataFrame.\n",
      "Try using .loc[row_indexer,col_indexer] = value instead\n",
      "\n",
      "See the caveats in the documentation: https://pandas.pydata.org/pandas-docs/stable/user_guide/indexing.html#returning-a-view-versus-a-copy\n",
      "  \"\"\"Entry point for launching an IPython kernel.\n"
     ]
    }
   ],
   "source": [
    "predictions_shuffle_df['error'] = predictions_shuffle_df.Predicted_age - predictions_shuffle_df.True_age"
   ]
  },
  {
   "cell_type": "code",
   "execution_count": 121,
   "metadata": {},
   "outputs": [
    {
     "name": "stderr",
     "output_type": "stream",
     "text": [
      "c:\\Users\\tkoch\\anaconda3\\envs\\pyGAM_env\\lib\\site-packages\\ipykernel_launcher.py:1: SettingWithCopyWarning: \n",
      "A value is trying to be set on a copy of a slice from a DataFrame.\n",
      "Try using .loc[row_indexer,col_indexer] = value instead\n",
      "\n",
      "See the caveats in the documentation: https://pandas.pydata.org/pandas-docs/stable/user_guide/indexing.html#returning-a-view-versus-a-copy\n",
      "  \"\"\"Entry point for launching an IPython kernel.\n"
     ]
    }
   ],
   "source": [
    "predictions_shuffle_df['abs_error'] = np.abs(predictions_shuffle_df.error)"
   ]
  },
  {
   "cell_type": "code",
   "execution_count": 122,
   "metadata": {},
   "outputs": [
    {
     "data": {
      "text/html": [
       "<div>\n",
       "<style scoped>\n",
       "    .dataframe tbody tr th:only-of-type {\n",
       "        vertical-align: middle;\n",
       "    }\n",
       "\n",
       "    .dataframe tbody tr th {\n",
       "        vertical-align: top;\n",
       "    }\n",
       "\n",
       "    .dataframe thead th {\n",
       "        text-align: right;\n",
       "    }\n",
       "</style>\n",
       "<table border=\"1\" class=\"dataframe\">\n",
       "  <thead>\n",
       "    <tr style=\"text-align: right;\">\n",
       "      <th></th>\n",
       "      <th>Predicted_age</th>\n",
       "      <th>True_age</th>\n",
       "      <th>error</th>\n",
       "      <th>abs_error</th>\n",
       "    </tr>\n",
       "  </thead>\n",
       "  <tbody>\n",
       "    <tr>\n",
       "      <th>count</th>\n",
       "      <td>103.000000</td>\n",
       "      <td>103.000000</td>\n",
       "      <td>103.000000</td>\n",
       "      <td>103.000000</td>\n",
       "    </tr>\n",
       "    <tr>\n",
       "      <th>mean</th>\n",
       "      <td>68.293371</td>\n",
       "      <td>70.815534</td>\n",
       "      <td>-2.522163</td>\n",
       "      <td>15.366487</td>\n",
       "    </tr>\n",
       "    <tr>\n",
       "      <th>std</th>\n",
       "      <td>11.223149</td>\n",
       "      <td>15.128047</td>\n",
       "      <td>18.844734</td>\n",
       "      <td>11.095212</td>\n",
       "    </tr>\n",
       "    <tr>\n",
       "      <th>min</th>\n",
       "      <td>40.557077</td>\n",
       "      <td>46.000000</td>\n",
       "      <td>-53.442923</td>\n",
       "      <td>0.431610</td>\n",
       "    </tr>\n",
       "    <tr>\n",
       "      <th>25%</th>\n",
       "      <td>59.206261</td>\n",
       "      <td>60.000000</td>\n",
       "      <td>-13.935483</td>\n",
       "      <td>6.136611</td>\n",
       "    </tr>\n",
       "    <tr>\n",
       "      <th>50%</th>\n",
       "      <td>70.620244</td>\n",
       "      <td>70.000000</td>\n",
       "      <td>-3.313657</td>\n",
       "      <td>12.968738</td>\n",
       "    </tr>\n",
       "    <tr>\n",
       "      <th>75%</th>\n",
       "      <td>76.667681</td>\n",
       "      <td>80.000000</td>\n",
       "      <td>12.524931</td>\n",
       "      <td>22.351000</td>\n",
       "    </tr>\n",
       "    <tr>\n",
       "      <th>max</th>\n",
       "      <td>89.251111</td>\n",
       "      <td>102.000000</td>\n",
       "      <td>30.999148</td>\n",
       "      <td>53.442923</td>\n",
       "    </tr>\n",
       "  </tbody>\n",
       "</table>\n",
       "</div>"
      ],
      "text/plain": [
       "       Predicted_age    True_age       error   abs_error\n",
       "count     103.000000  103.000000  103.000000  103.000000\n",
       "mean       68.293371   70.815534   -2.522163   15.366487\n",
       "std        11.223149   15.128047   18.844734   11.095212\n",
       "min        40.557077   46.000000  -53.442923    0.431610\n",
       "25%        59.206261   60.000000  -13.935483    6.136611\n",
       "50%        70.620244   70.000000   -3.313657   12.968738\n",
       "75%        76.667681   80.000000   12.524931   22.351000\n",
       "max        89.251111  102.000000   30.999148   53.442923"
      ]
     },
     "execution_count": 122,
     "metadata": {},
     "output_type": "execute_result"
    }
   ],
   "source": [
    "predictions_shuffle_df.describe()"
   ]
  },
  {
   "cell_type": "code",
   "execution_count": 124,
   "metadata": {},
   "outputs": [],
   "source": [
    "from sklearn.metrics import mean_squared_error"
   ]
  },
  {
   "cell_type": "code",
   "execution_count": 128,
   "metadata": {},
   "outputs": [],
   "source": [
    "MSEs = []\n",
    "for i in range(10000):\n",
    "    y_shuffle = np.random.permutation(y_preds)\n",
    "    MSE = mean_squared_error(y_tests, y_shuffle)\n",
    "    MSEs.append(MSE)"
   ]
  },
  {
   "cell_type": "code",
   "execution_count": 129,
   "metadata": {},
   "outputs": [
    {
     "data": {
      "text/plain": [
       "(array([3.000e+00, 2.700e+01, 2.670e+02, 1.137e+03, 2.551e+03, 3.119e+03,\n",
       "        2.015e+03, 7.250e+02, 1.420e+02, 1.400e+01]),\n",
       " array([215.26631182, 242.0753214 , 268.88433099, 295.69334058,\n",
       "        322.50235016, 349.31135975, 376.12036934, 402.92937892,\n",
       "        429.73838851, 456.5473981 , 483.35640768]),\n",
       " <BarContainer object of 10 artists>)"
      ]
     },
     "execution_count": 129,
     "metadata": {},
     "output_type": "execute_result"
    },
    {
     "data": {
      "image/png": "[encoded data removed]",
      "text/plain": [
       "<Figure size 432x288 with 1 Axes>"
      ]
     },
     "metadata": {
      "needs_background": "light"
     },
     "output_type": "display_data"
    }
   ],
   "source": [
    "plt.hist(MSEs)"
   ]
  },
  {
   "cell_type": "code",
   "execution_count": 133,
   "metadata": {},
   "outputs": [
    {
     "data": {
      "text/plain": [
       "0"
      ]
     },
     "execution_count": 133,
     "metadata": {},
     "output_type": "execute_result"
    }
   ],
   "source": [
    "np.sum([x <= 112 for x in MSEs])"
   ]
  },
  {
   "cell_type": "code",
   "execution_count": null,
   "metadata": {},
   "outputs": [],
   "source": []
  }
 ],
 "metadata": {
  "kernelspec": {
   "display_name": "pyGAM_env",
   "language": "python",
   "name": "python3"
  },
  "language_info": {
   "codemirror_mode": {
    "name": "ipython",
    "version": 3
   },
   "file_extension": ".py",
   "mimetype": "text/x-python",
   "name": "python",
   "nbconvert_exporter": "python",
   "pygments_lexer": "ipython3",
   "version": "3.6.13"
  }
 },
 "nbformat": 4,
 "nbformat_minor": 2
}
